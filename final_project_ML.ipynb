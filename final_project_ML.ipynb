{
 "cells": [
  {
   "cell_type": "markdown",
   "id": "4089480a",
   "metadata": {},
   "source": [
    "## Import dependencies and tools, plust review data"
   ]
  },
  {
   "cell_type": "code",
   "execution_count": 45,
   "id": "a0b8584a",
   "metadata": {},
   "outputs": [],
   "source": [
    "# Supervised Learning Dependencies\n",
    "import warnings\n",
    "warnings.filterwarnings('ignore')\n",
    "import numpy as np\n",
    "import pandas as pd\n",
    "from pathlib import Path\n",
    "from collections import Counter\n",
    "from sklearn.metrics import balanced_accuracy_score\n",
    "from sklearn.metrics import confusion_matrix\n",
    "from imblearn.metrics import classification_report_imbalanced\n",
    "# Unsupervised\n",
    "import hvplot.pandas\n",
    "import plotly.express as px\n",
    "from sklearn.preprocessing import StandardScaler, MinMaxScaler\n",
    "from sklearn.decomposition import PCA\n",
    "from sklearn.cluster import KMeans\n",
    "# Neural Network\n",
    "from sklearn.model_selection import train_test_split\n",
    "from sklearn.preprocessing import StandardScaler,OneHotEncoder\n",
    "import tensorflow as tf"
   ]
  },
  {
   "cell_type": "code",
   "execution_count": 24,
   "id": "1e4ff3f7",
   "metadata": {},
   "outputs": [
    {
     "data": {
      "text/html": [
       "<div>\n",
       "<style scoped>\n",
       "    .dataframe tbody tr th:only-of-type {\n",
       "        vertical-align: middle;\n",
       "    }\n",
       "\n",
       "    .dataframe tbody tr th {\n",
       "        vertical-align: top;\n",
       "    }\n",
       "\n",
       "    .dataframe thead th {\n",
       "        text-align: right;\n",
       "    }\n",
       "</style>\n",
       "<table border=\"1\" class=\"dataframe\">\n",
       "  <thead>\n",
       "    <tr style=\"text-align: right;\">\n",
       "      <th></th>\n",
       "      <th>monthly_bill</th>\n",
       "      <th>cycle</th>\n",
       "      <th>qty</th>\n",
       "      <th>size</th>\n",
       "      <th>commodity</th>\n",
       "      <th>pickups</th>\n",
       "      <th>bin_amount</th>\n",
       "      <th>tax_body</th>\n",
       "      <th>biz_type</th>\n",
       "    </tr>\n",
       "    <tr>\n",
       "      <th>cust</th>\n",
       "      <th></th>\n",
       "      <th></th>\n",
       "      <th></th>\n",
       "      <th></th>\n",
       "      <th></th>\n",
       "      <th></th>\n",
       "      <th></th>\n",
       "      <th></th>\n",
       "      <th></th>\n",
       "    </tr>\n",
       "  </thead>\n",
       "  <tbody>\n",
       "    <tr>\n",
       "      <th>98</th>\n",
       "      <td>888.98</td>\n",
       "      <td>CA</td>\n",
       "      <td>1</td>\n",
       "      <td>4.00</td>\n",
       "      <td>Garbage</td>\n",
       "      <td>1</td>\n",
       "      <td>813.98</td>\n",
       "      <td>C</td>\n",
       "      <td>MINI MART</td>\n",
       "    </tr>\n",
       "    <tr>\n",
       "      <th>98</th>\n",
       "      <td>888.98</td>\n",
       "      <td>CA</td>\n",
       "      <td>1</td>\n",
       "      <td>4.00</td>\n",
       "      <td>Recycle</td>\n",
       "      <td>2</td>\n",
       "      <td>75.00</td>\n",
       "      <td>C</td>\n",
       "      <td>MINI MART</td>\n",
       "    </tr>\n",
       "    <tr>\n",
       "      <th>98</th>\n",
       "      <td>888.98</td>\n",
       "      <td>CA</td>\n",
       "      <td>1</td>\n",
       "      <td>4.00</td>\n",
       "      <td>Recycle</td>\n",
       "      <td>2</td>\n",
       "      <td>75.00</td>\n",
       "      <td>C</td>\n",
       "      <td>MINI MART</td>\n",
       "    </tr>\n",
       "    <tr>\n",
       "      <th>218</th>\n",
       "      <td>965.40</td>\n",
       "      <td>CA</td>\n",
       "      <td>1</td>\n",
       "      <td>4.00</td>\n",
       "      <td>Recycle</td>\n",
       "      <td>1</td>\n",
       "      <td>75.00</td>\n",
       "      <td>COUNTY</td>\n",
       "      <td>WINERY</td>\n",
       "    </tr>\n",
       "    <tr>\n",
       "      <th>218</th>\n",
       "      <td>965.40</td>\n",
       "      <td>CA</td>\n",
       "      <td>1</td>\n",
       "      <td>4.00</td>\n",
       "      <td>Garbage</td>\n",
       "      <td>1</td>\n",
       "      <td>890.40</td>\n",
       "      <td>COUNTY</td>\n",
       "      <td>WINERY</td>\n",
       "    </tr>\n",
       "    <tr>\n",
       "      <th>...</th>\n",
       "      <td>...</td>\n",
       "      <td>...</td>\n",
       "      <td>...</td>\n",
       "      <td>...</td>\n",
       "      <td>...</td>\n",
       "      <td>...</td>\n",
       "      <td>...</td>\n",
       "      <td>...</td>\n",
       "      <td>...</td>\n",
       "    </tr>\n",
       "    <tr>\n",
       "      <th>31675</th>\n",
       "      <td>134.57</td>\n",
       "      <td>CA</td>\n",
       "      <td>1</td>\n",
       "      <td>0.48</td>\n",
       "      <td>Compost</td>\n",
       "      <td>1</td>\n",
       "      <td>0.00</td>\n",
       "      <td>COUNTY</td>\n",
       "      <td>LODGING-FW</td>\n",
       "    </tr>\n",
       "    <tr>\n",
       "      <th>31676</th>\n",
       "      <td>1456.25</td>\n",
       "      <td>CA</td>\n",
       "      <td>1</td>\n",
       "      <td>2.00</td>\n",
       "      <td>Garbage</td>\n",
       "      <td>1</td>\n",
       "      <td>482.56</td>\n",
       "      <td>COUNTY</td>\n",
       "      <td>WINERY</td>\n",
       "    </tr>\n",
       "    <tr>\n",
       "      <th>31676</th>\n",
       "      <td>1456.25</td>\n",
       "      <td>CA</td>\n",
       "      <td>1</td>\n",
       "      <td>6.00</td>\n",
       "      <td>Recycle</td>\n",
       "      <td>1</td>\n",
       "      <td>973.69</td>\n",
       "      <td>COUNTY</td>\n",
       "      <td>WINERY</td>\n",
       "    </tr>\n",
       "    <tr>\n",
       "      <th>31679</th>\n",
       "      <td>65.25</td>\n",
       "      <td>CA</td>\n",
       "      <td>1</td>\n",
       "      <td>0.32</td>\n",
       "      <td>Garbage</td>\n",
       "      <td>1</td>\n",
       "      <td>65.25</td>\n",
       "      <td>S</td>\n",
       "      <td>WINERY</td>\n",
       "    </tr>\n",
       "    <tr>\n",
       "      <th>31679</th>\n",
       "      <td>65.25</td>\n",
       "      <td>CA</td>\n",
       "      <td>1</td>\n",
       "      <td>0.48</td>\n",
       "      <td>Recycle</td>\n",
       "      <td>1</td>\n",
       "      <td>0.00</td>\n",
       "      <td>S</td>\n",
       "      <td>WINERY</td>\n",
       "    </tr>\n",
       "  </tbody>\n",
       "</table>\n",
       "<p>1817 rows × 9 columns</p>\n",
       "</div>"
      ],
      "text/plain": [
       "       monthly_bill cycle  qty  size commodity  pickups  bin_amount tax_body  \\\n",
       "cust                                                                           \n",
       "98           888.98    CA    1  4.00   Garbage        1      813.98        C   \n",
       "98           888.98    CA    1  4.00   Recycle        2       75.00        C   \n",
       "98           888.98    CA    1  4.00   Recycle        2       75.00        C   \n",
       "218          965.40    CA    1  4.00   Recycle        1       75.00   COUNTY   \n",
       "218          965.40    CA    1  4.00   Garbage        1      890.40   COUNTY   \n",
       "...             ...   ...  ...   ...       ...      ...         ...      ...   \n",
       "31675        134.57    CA    1  0.48   Compost        1        0.00   COUNTY   \n",
       "31676       1456.25    CA    1  2.00   Garbage        1      482.56   COUNTY   \n",
       "31676       1456.25    CA    1  6.00   Recycle        1      973.69   COUNTY   \n",
       "31679         65.25    CA    1  0.32   Garbage        1       65.25        S   \n",
       "31679         65.25    CA    1  0.48   Recycle        1        0.00        S   \n",
       "\n",
       "         biz_type  \n",
       "cust               \n",
       "98      MINI MART  \n",
       "98      MINI MART  \n",
       "98      MINI MART  \n",
       "218        WINERY  \n",
       "218        WINERY  \n",
       "...           ...  \n",
       "31675  LODGING-FW  \n",
       "31676      WINERY  \n",
       "31676      WINERY  \n",
       "31679      WINERY  \n",
       "31679      WINERY  \n",
       "\n",
       "[1817 rows x 9 columns]"
      ]
     },
     "execution_count": 24,
     "metadata": {},
     "output_type": "execute_result"
    }
   ],
   "source": [
    "# Import combined csv made in postgreSQL as DataFrame\n",
    "df = pd.read_csv(\"cust_serv_combined.csv\").set_index('cust')\n",
    "df"
   ]
  },
  {
   "cell_type": "code",
   "execution_count": 25,
   "id": "75eceaab",
   "metadata": {},
   "outputs": [
    {
     "data": {
      "text/plain": [
       "monthly_bill    234\n",
       "cycle             2\n",
       "qty              23\n",
       "size              7\n",
       "commodity         3\n",
       "pickups           6\n",
       "bin_amount      134\n",
       "tax_body          4\n",
       "biz_type         40\n",
       "dtype: int64"
      ]
     },
     "execution_count": 25,
     "metadata": {},
     "output_type": "execute_result"
    }
   ],
   "source": [
    "# Determine number of unique values in each column, and check for dtypes and information while I'm at it\n",
    "df.nunique()"
   ]
  },
  {
   "cell_type": "code",
   "execution_count": 26,
   "id": "614637ed",
   "metadata": {},
   "outputs": [
    {
     "data": {
      "text/plain": [
       "monthly_bill    float64\n",
       "cycle            object\n",
       "qty               int64\n",
       "size            float64\n",
       "commodity        object\n",
       "pickups           int64\n",
       "bin_amount      float64\n",
       "tax_body         object\n",
       "biz_type         object\n",
       "dtype: object"
      ]
     },
     "execution_count": 26,
     "metadata": {},
     "output_type": "execute_result"
    }
   ],
   "source": [
    "df.dtypes"
   ]
  },
  {
   "cell_type": "code",
   "execution_count": 27,
   "id": "f0317b76",
   "metadata": {},
   "outputs": [
    {
     "name": "stdout",
     "output_type": "stream",
     "text": [
      "<class 'pandas.core.frame.DataFrame'>\n",
      "Int64Index: 1817 entries, 98 to 31679\n",
      "Data columns (total 9 columns):\n",
      " #   Column        Non-Null Count  Dtype  \n",
      "---  ------        --------------  -----  \n",
      " 0   monthly_bill  1817 non-null   float64\n",
      " 1   cycle         1817 non-null   object \n",
      " 2   qty           1817 non-null   int64  \n",
      " 3   size          1817 non-null   float64\n",
      " 4   commodity     1817 non-null   object \n",
      " 5   pickups       1817 non-null   int64  \n",
      " 6   bin_amount    1817 non-null   float64\n",
      " 7   tax_body      1817 non-null   object \n",
      " 8   biz_type      1817 non-null   object \n",
      "dtypes: float64(3), int64(2), object(4)\n",
      "memory usage: 142.0+ KB\n"
     ]
    }
   ],
   "source": [
    "df.info()"
   ]
  },
  {
   "cell_type": "code",
   "execution_count": 28,
   "id": "d79c0f25",
   "metadata": {},
   "outputs": [
    {
     "data": {
      "text/html": [
       "<div>\n",
       "<style scoped>\n",
       "    .dataframe tbody tr th:only-of-type {\n",
       "        vertical-align: middle;\n",
       "    }\n",
       "\n",
       "    .dataframe tbody tr th {\n",
       "        vertical-align: top;\n",
       "    }\n",
       "\n",
       "    .dataframe thead th {\n",
       "        text-align: right;\n",
       "    }\n",
       "</style>\n",
       "<table border=\"1\" class=\"dataframe\">\n",
       "  <thead>\n",
       "    <tr style=\"text-align: right;\">\n",
       "      <th></th>\n",
       "      <th>monthly_bill</th>\n",
       "      <th>qty</th>\n",
       "      <th>size</th>\n",
       "      <th>commodity</th>\n",
       "      <th>pickups</th>\n",
       "      <th>bin_amount</th>\n",
       "      <th>tax_body</th>\n",
       "      <th>biz_type</th>\n",
       "    </tr>\n",
       "    <tr>\n",
       "      <th>cust</th>\n",
       "      <th></th>\n",
       "      <th></th>\n",
       "      <th></th>\n",
       "      <th></th>\n",
       "      <th></th>\n",
       "      <th></th>\n",
       "      <th></th>\n",
       "      <th></th>\n",
       "    </tr>\n",
       "  </thead>\n",
       "  <tbody>\n",
       "    <tr>\n",
       "      <th>98</th>\n",
       "      <td>888.98</td>\n",
       "      <td>1</td>\n",
       "      <td>4.00</td>\n",
       "      <td>Garbage</td>\n",
       "      <td>1</td>\n",
       "      <td>813.98</td>\n",
       "      <td>C</td>\n",
       "      <td>MINI MART</td>\n",
       "    </tr>\n",
       "    <tr>\n",
       "      <th>98</th>\n",
       "      <td>888.98</td>\n",
       "      <td>1</td>\n",
       "      <td>4.00</td>\n",
       "      <td>Recycle</td>\n",
       "      <td>2</td>\n",
       "      <td>75.00</td>\n",
       "      <td>C</td>\n",
       "      <td>MINI MART</td>\n",
       "    </tr>\n",
       "    <tr>\n",
       "      <th>98</th>\n",
       "      <td>888.98</td>\n",
       "      <td>1</td>\n",
       "      <td>4.00</td>\n",
       "      <td>Recycle</td>\n",
       "      <td>2</td>\n",
       "      <td>75.00</td>\n",
       "      <td>C</td>\n",
       "      <td>MINI MART</td>\n",
       "    </tr>\n",
       "    <tr>\n",
       "      <th>218</th>\n",
       "      <td>965.40</td>\n",
       "      <td>1</td>\n",
       "      <td>4.00</td>\n",
       "      <td>Recycle</td>\n",
       "      <td>1</td>\n",
       "      <td>75.00</td>\n",
       "      <td>COUNTY</td>\n",
       "      <td>WINERY</td>\n",
       "    </tr>\n",
       "    <tr>\n",
       "      <th>218</th>\n",
       "      <td>965.40</td>\n",
       "      <td>1</td>\n",
       "      <td>4.00</td>\n",
       "      <td>Garbage</td>\n",
       "      <td>1</td>\n",
       "      <td>890.40</td>\n",
       "      <td>COUNTY</td>\n",
       "      <td>WINERY</td>\n",
       "    </tr>\n",
       "    <tr>\n",
       "      <th>...</th>\n",
       "      <td>...</td>\n",
       "      <td>...</td>\n",
       "      <td>...</td>\n",
       "      <td>...</td>\n",
       "      <td>...</td>\n",
       "      <td>...</td>\n",
       "      <td>...</td>\n",
       "      <td>...</td>\n",
       "    </tr>\n",
       "    <tr>\n",
       "      <th>31675</th>\n",
       "      <td>134.57</td>\n",
       "      <td>1</td>\n",
       "      <td>0.48</td>\n",
       "      <td>Compost</td>\n",
       "      <td>1</td>\n",
       "      <td>0.00</td>\n",
       "      <td>COUNTY</td>\n",
       "      <td>LODGING-FW</td>\n",
       "    </tr>\n",
       "    <tr>\n",
       "      <th>31676</th>\n",
       "      <td>1456.25</td>\n",
       "      <td>1</td>\n",
       "      <td>2.00</td>\n",
       "      <td>Garbage</td>\n",
       "      <td>1</td>\n",
       "      <td>482.56</td>\n",
       "      <td>COUNTY</td>\n",
       "      <td>WINERY</td>\n",
       "    </tr>\n",
       "    <tr>\n",
       "      <th>31676</th>\n",
       "      <td>1456.25</td>\n",
       "      <td>1</td>\n",
       "      <td>6.00</td>\n",
       "      <td>Recycle</td>\n",
       "      <td>1</td>\n",
       "      <td>973.69</td>\n",
       "      <td>COUNTY</td>\n",
       "      <td>WINERY</td>\n",
       "    </tr>\n",
       "    <tr>\n",
       "      <th>31679</th>\n",
       "      <td>65.25</td>\n",
       "      <td>1</td>\n",
       "      <td>0.32</td>\n",
       "      <td>Garbage</td>\n",
       "      <td>1</td>\n",
       "      <td>65.25</td>\n",
       "      <td>S</td>\n",
       "      <td>WINERY</td>\n",
       "    </tr>\n",
       "    <tr>\n",
       "      <th>31679</th>\n",
       "      <td>65.25</td>\n",
       "      <td>1</td>\n",
       "      <td>0.48</td>\n",
       "      <td>Recycle</td>\n",
       "      <td>1</td>\n",
       "      <td>0.00</td>\n",
       "      <td>S</td>\n",
       "      <td>WINERY</td>\n",
       "    </tr>\n",
       "  </tbody>\n",
       "</table>\n",
       "<p>1817 rows × 8 columns</p>\n",
       "</div>"
      ],
      "text/plain": [
       "       monthly_bill  qty  size commodity  pickups  bin_amount tax_body  \\\n",
       "cust                                                                     \n",
       "98           888.98    1  4.00   Garbage        1      813.98        C   \n",
       "98           888.98    1  4.00   Recycle        2       75.00        C   \n",
       "98           888.98    1  4.00   Recycle        2       75.00        C   \n",
       "218          965.40    1  4.00   Recycle        1       75.00   COUNTY   \n",
       "218          965.40    1  4.00   Garbage        1      890.40   COUNTY   \n",
       "...             ...  ...   ...       ...      ...         ...      ...   \n",
       "31675        134.57    1  0.48   Compost        1        0.00   COUNTY   \n",
       "31676       1456.25    1  2.00   Garbage        1      482.56   COUNTY   \n",
       "31676       1456.25    1  6.00   Recycle        1      973.69   COUNTY   \n",
       "31679         65.25    1  0.32   Garbage        1       65.25        S   \n",
       "31679         65.25    1  0.48   Recycle        1        0.00        S   \n",
       "\n",
       "         biz_type  \n",
       "cust               \n",
       "98      MINI MART  \n",
       "98      MINI MART  \n",
       "98      MINI MART  \n",
       "218        WINERY  \n",
       "218        WINERY  \n",
       "...           ...  \n",
       "31675  LODGING-FW  \n",
       "31676      WINERY  \n",
       "31676      WINERY  \n",
       "31679      WINERY  \n",
       "31679      WINERY  \n",
       "\n",
       "[1817 rows x 8 columns]"
      ]
     },
     "execution_count": 28,
     "metadata": {},
     "output_type": "execute_result"
    }
   ],
   "source": [
    "# Drop cycle column because it won't likely tell us much\n",
    "df.drop(columns=['cycle'], inplace=True)\n",
    "df"
   ]
  },
  {
   "cell_type": "markdown",
   "id": "1e7e00fa",
   "metadata": {},
   "source": [
    "## Unsupervised Model"
   ]
  },
  {
   "cell_type": "markdown",
   "id": "e03f9248",
   "metadata": {},
   "source": [
    "I am pretty sure I know what I am planning to do with the data, but just in case I'm going to see what relationships the data has"
   ]
  },
  {
   "cell_type": "code",
   "execution_count": 29,
   "id": "4c313d4a",
   "metadata": {},
   "outputs": [
    {
     "data": {
      "text/html": [
       "<div>\n",
       "<style scoped>\n",
       "    .dataframe tbody tr th:only-of-type {\n",
       "        vertical-align: middle;\n",
       "    }\n",
       "\n",
       "    .dataframe tbody tr th {\n",
       "        vertical-align: top;\n",
       "    }\n",
       "\n",
       "    .dataframe thead th {\n",
       "        text-align: right;\n",
       "    }\n",
       "</style>\n",
       "<table border=\"1\" class=\"dataframe\">\n",
       "  <thead>\n",
       "    <tr style=\"text-align: right;\">\n",
       "      <th></th>\n",
       "      <th>monthly_bill</th>\n",
       "      <th>qty</th>\n",
       "      <th>size</th>\n",
       "      <th>pickups</th>\n",
       "      <th>bin_amount</th>\n",
       "      <th>commodity_Compost</th>\n",
       "      <th>commodity_Garbage</th>\n",
       "      <th>commodity_Recycle</th>\n",
       "      <th>tax_body_C</th>\n",
       "      <th>tax_body_COUNTY</th>\n",
       "      <th>...</th>\n",
       "      <th>biz_type_POLICEFIRE</th>\n",
       "      <th>biz_type_POSTOFFICE</th>\n",
       "      <th>biz_type_PRESCHOOL</th>\n",
       "      <th>biz_type_RESTAURANT</th>\n",
       "      <th>biz_type_RETAIL</th>\n",
       "      <th>biz_type_SCHOOL</th>\n",
       "      <th>biz_type_STRIP MALL</th>\n",
       "      <th>biz_type_UTILITY</th>\n",
       "      <th>biz_type_VINEYARD</th>\n",
       "      <th>biz_type_WINERY</th>\n",
       "    </tr>\n",
       "    <tr>\n",
       "      <th>cust</th>\n",
       "      <th></th>\n",
       "      <th></th>\n",
       "      <th></th>\n",
       "      <th></th>\n",
       "      <th></th>\n",
       "      <th></th>\n",
       "      <th></th>\n",
       "      <th></th>\n",
       "      <th></th>\n",
       "      <th></th>\n",
       "      <th></th>\n",
       "      <th></th>\n",
       "      <th></th>\n",
       "      <th></th>\n",
       "      <th></th>\n",
       "      <th></th>\n",
       "      <th></th>\n",
       "      <th></th>\n",
       "      <th></th>\n",
       "      <th></th>\n",
       "      <th></th>\n",
       "    </tr>\n",
       "  </thead>\n",
       "  <tbody>\n",
       "    <tr>\n",
       "      <th>98</th>\n",
       "      <td>888.98</td>\n",
       "      <td>1</td>\n",
       "      <td>4.0</td>\n",
       "      <td>1</td>\n",
       "      <td>813.98</td>\n",
       "      <td>0</td>\n",
       "      <td>1</td>\n",
       "      <td>0</td>\n",
       "      <td>1</td>\n",
       "      <td>0</td>\n",
       "      <td>...</td>\n",
       "      <td>0</td>\n",
       "      <td>0</td>\n",
       "      <td>0</td>\n",
       "      <td>0</td>\n",
       "      <td>0</td>\n",
       "      <td>0</td>\n",
       "      <td>0</td>\n",
       "      <td>0</td>\n",
       "      <td>0</td>\n",
       "      <td>0</td>\n",
       "    </tr>\n",
       "    <tr>\n",
       "      <th>98</th>\n",
       "      <td>888.98</td>\n",
       "      <td>1</td>\n",
       "      <td>4.0</td>\n",
       "      <td>2</td>\n",
       "      <td>75.00</td>\n",
       "      <td>0</td>\n",
       "      <td>0</td>\n",
       "      <td>1</td>\n",
       "      <td>1</td>\n",
       "      <td>0</td>\n",
       "      <td>...</td>\n",
       "      <td>0</td>\n",
       "      <td>0</td>\n",
       "      <td>0</td>\n",
       "      <td>0</td>\n",
       "      <td>0</td>\n",
       "      <td>0</td>\n",
       "      <td>0</td>\n",
       "      <td>0</td>\n",
       "      <td>0</td>\n",
       "      <td>0</td>\n",
       "    </tr>\n",
       "    <tr>\n",
       "      <th>98</th>\n",
       "      <td>888.98</td>\n",
       "      <td>1</td>\n",
       "      <td>4.0</td>\n",
       "      <td>2</td>\n",
       "      <td>75.00</td>\n",
       "      <td>0</td>\n",
       "      <td>0</td>\n",
       "      <td>1</td>\n",
       "      <td>1</td>\n",
       "      <td>0</td>\n",
       "      <td>...</td>\n",
       "      <td>0</td>\n",
       "      <td>0</td>\n",
       "      <td>0</td>\n",
       "      <td>0</td>\n",
       "      <td>0</td>\n",
       "      <td>0</td>\n",
       "      <td>0</td>\n",
       "      <td>0</td>\n",
       "      <td>0</td>\n",
       "      <td>0</td>\n",
       "    </tr>\n",
       "    <tr>\n",
       "      <th>218</th>\n",
       "      <td>965.40</td>\n",
       "      <td>1</td>\n",
       "      <td>4.0</td>\n",
       "      <td>1</td>\n",
       "      <td>75.00</td>\n",
       "      <td>0</td>\n",
       "      <td>0</td>\n",
       "      <td>1</td>\n",
       "      <td>0</td>\n",
       "      <td>1</td>\n",
       "      <td>...</td>\n",
       "      <td>0</td>\n",
       "      <td>0</td>\n",
       "      <td>0</td>\n",
       "      <td>0</td>\n",
       "      <td>0</td>\n",
       "      <td>0</td>\n",
       "      <td>0</td>\n",
       "      <td>0</td>\n",
       "      <td>0</td>\n",
       "      <td>1</td>\n",
       "    </tr>\n",
       "    <tr>\n",
       "      <th>218</th>\n",
       "      <td>965.40</td>\n",
       "      <td>1</td>\n",
       "      <td>4.0</td>\n",
       "      <td>1</td>\n",
       "      <td>890.40</td>\n",
       "      <td>0</td>\n",
       "      <td>1</td>\n",
       "      <td>0</td>\n",
       "      <td>0</td>\n",
       "      <td>1</td>\n",
       "      <td>...</td>\n",
       "      <td>0</td>\n",
       "      <td>0</td>\n",
       "      <td>0</td>\n",
       "      <td>0</td>\n",
       "      <td>0</td>\n",
       "      <td>0</td>\n",
       "      <td>0</td>\n",
       "      <td>0</td>\n",
       "      <td>0</td>\n",
       "      <td>1</td>\n",
       "    </tr>\n",
       "  </tbody>\n",
       "</table>\n",
       "<p>5 rows × 52 columns</p>\n",
       "</div>"
      ],
      "text/plain": [
       "      monthly_bill  qty  size  pickups  bin_amount  commodity_Compost  \\\n",
       "cust                                                                    \n",
       "98          888.98    1   4.0        1      813.98                  0   \n",
       "98          888.98    1   4.0        2       75.00                  0   \n",
       "98          888.98    1   4.0        2       75.00                  0   \n",
       "218         965.40    1   4.0        1       75.00                  0   \n",
       "218         965.40    1   4.0        1      890.40                  0   \n",
       "\n",
       "      commodity_Garbage  commodity_Recycle  tax_body_C  tax_body_COUNTY  ...  \\\n",
       "cust                                                                     ...   \n",
       "98                    1                  0           1                0  ...   \n",
       "98                    0                  1           1                0  ...   \n",
       "98                    0                  1           1                0  ...   \n",
       "218                   0                  1           0                1  ...   \n",
       "218                   1                  0           0                1  ...   \n",
       "\n",
       "      biz_type_POLICEFIRE  biz_type_POSTOFFICE  biz_type_PRESCHOOL  \\\n",
       "cust                                                                 \n",
       "98                      0                    0                   0   \n",
       "98                      0                    0                   0   \n",
       "98                      0                    0                   0   \n",
       "218                     0                    0                   0   \n",
       "218                     0                    0                   0   \n",
       "\n",
       "      biz_type_RESTAURANT  biz_type_RETAIL  biz_type_SCHOOL  \\\n",
       "cust                                                          \n",
       "98                      0                0                0   \n",
       "98                      0                0                0   \n",
       "98                      0                0                0   \n",
       "218                     0                0                0   \n",
       "218                     0                0                0   \n",
       "\n",
       "      biz_type_STRIP MALL  biz_type_UTILITY  biz_type_VINEYARD  \\\n",
       "cust                                                             \n",
       "98                      0                 0                  0   \n",
       "98                      0                 0                  0   \n",
       "98                      0                 0                  0   \n",
       "218                     0                 0                  0   \n",
       "218                     0                 0                  0   \n",
       "\n",
       "      biz_type_WINERY  \n",
       "cust                   \n",
       "98                  0  \n",
       "98                  0  \n",
       "98                  0  \n",
       "218                 1  \n",
       "218                 1  \n",
       "\n",
       "[5 rows x 52 columns]"
      ]
     },
     "execution_count": 29,
     "metadata": {},
     "output_type": "execute_result"
    }
   ],
   "source": [
    "# Starting with unsupervised learning to see what relationships there may be with the data\n",
    "# Use get_dummies() to create variables for text features.\n",
    "X = pd.get_dummies(df, columns= [\"commodity\", \"tax_body\", \"biz_type\"])\n",
    "X.head()"
   ]
  },
  {
   "cell_type": "code",
   "execution_count": 30,
   "id": "f389e7df",
   "metadata": {},
   "outputs": [
    {
     "data": {
      "text/plain": [
       "array([[-0.25473682, -0.11242994,  1.35896341, ..., -0.12956818,\n",
       "        -0.19107287, -0.66660042],\n",
       "       [-0.25473682, -0.11242994,  1.35896341, ..., -0.12956818,\n",
       "        -0.19107287, -0.66660042],\n",
       "       [-0.25473682, -0.11242994,  1.35896341, ..., -0.12956818,\n",
       "        -0.19107287, -0.66660042],\n",
       "       ...,\n",
       "       [ 0.10009513, -0.11242994,  2.47059618, ..., -0.12956818,\n",
       "        -0.19107287,  1.50014907],\n",
       "       [-0.76998657, -0.11242994, -0.68644088, ..., -0.12956818,\n",
       "        -0.19107287,  1.50014907],\n",
       "       [-0.76998657, -0.11242994, -0.59751026, ..., -0.12956818,\n",
       "        -0.19107287,  1.50014907]])"
      ]
     },
     "execution_count": 30,
     "metadata": {},
     "output_type": "execute_result"
    }
   ],
   "source": [
    "X = StandardScaler().fit_transform(X)\n",
    "X"
   ]
  },
  {
   "cell_type": "code",
   "execution_count": 55,
   "id": "da5ac0b8",
   "metadata": {},
   "outputs": [],
   "source": [
    "pca = PCA(n_components = 3)\n",
    "df_pca=pca.fit_transform(X)"
   ]
  },
  {
   "cell_type": "code",
   "execution_count": 56,
   "id": "31e0e1e4",
   "metadata": {},
   "outputs": [
    {
     "data": {
      "text/html": [
       "<div>\n",
       "<style scoped>\n",
       "    .dataframe tbody tr th:only-of-type {\n",
       "        vertical-align: middle;\n",
       "    }\n",
       "\n",
       "    .dataframe tbody tr th {\n",
       "        vertical-align: top;\n",
       "    }\n",
       "\n",
       "    .dataframe thead th {\n",
       "        text-align: right;\n",
       "    }\n",
       "</style>\n",
       "<table border=\"1\" class=\"dataframe\">\n",
       "  <thead>\n",
       "    <tr style=\"text-align: right;\">\n",
       "      <th></th>\n",
       "      <th>PC 1</th>\n",
       "      <th>PC 2</th>\n",
       "      <th>PC 3</th>\n",
       "    </tr>\n",
       "    <tr>\n",
       "      <th>cust</th>\n",
       "      <th></th>\n",
       "      <th></th>\n",
       "      <th></th>\n",
       "    </tr>\n",
       "  </thead>\n",
       "  <tbody>\n",
       "    <tr>\n",
       "      <th>98</th>\n",
       "      <td>1.260685</td>\n",
       "      <td>1.257017</td>\n",
       "      <td>-0.706210</td>\n",
       "    </tr>\n",
       "    <tr>\n",
       "      <th>98</th>\n",
       "      <td>0.392196</td>\n",
       "      <td>0.952089</td>\n",
       "      <td>0.708526</td>\n",
       "    </tr>\n",
       "    <tr>\n",
       "      <th>98</th>\n",
       "      <td>0.392196</td>\n",
       "      <td>0.952089</td>\n",
       "      <td>0.708526</td>\n",
       "    </tr>\n",
       "    <tr>\n",
       "      <th>218</th>\n",
       "      <td>-0.247907</td>\n",
       "      <td>-2.613957</td>\n",
       "      <td>0.435492</td>\n",
       "    </tr>\n",
       "    <tr>\n",
       "      <th>218</th>\n",
       "      <td>1.260386</td>\n",
       "      <td>-2.183019</td>\n",
       "      <td>-0.996956</td>\n",
       "    </tr>\n",
       "    <tr>\n",
       "      <th>218</th>\n",
       "      <td>-1.101496</td>\n",
       "      <td>-2.230029</td>\n",
       "      <td>0.630257</td>\n",
       "    </tr>\n",
       "    <tr>\n",
       "      <th>218</th>\n",
       "      <td>-1.101496</td>\n",
       "      <td>-2.230029</td>\n",
       "      <td>0.630257</td>\n",
       "    </tr>\n",
       "    <tr>\n",
       "      <th>218</th>\n",
       "      <td>-1.001973</td>\n",
       "      <td>-1.577576</td>\n",
       "      <td>0.138301</td>\n",
       "    </tr>\n",
       "    <tr>\n",
       "      <th>218</th>\n",
       "      <td>-1.101496</td>\n",
       "      <td>-2.230029</td>\n",
       "      <td>0.630257</td>\n",
       "    </tr>\n",
       "    <tr>\n",
       "      <th>345</th>\n",
       "      <td>1.241232</td>\n",
       "      <td>-2.181816</td>\n",
       "      <td>-1.013549</td>\n",
       "    </tr>\n",
       "  </tbody>\n",
       "</table>\n",
       "</div>"
      ],
      "text/plain": [
       "          PC 1      PC 2      PC 3\n",
       "cust                              \n",
       "98    1.260685  1.257017 -0.706210\n",
       "98    0.392196  0.952089  0.708526\n",
       "98    0.392196  0.952089  0.708526\n",
       "218  -0.247907 -2.613957  0.435492\n",
       "218   1.260386 -2.183019 -0.996956\n",
       "218  -1.101496 -2.230029  0.630257\n",
       "218  -1.101496 -2.230029  0.630257\n",
       "218  -1.001973 -1.577576  0.138301\n",
       "218  -1.101496 -2.230029  0.630257\n",
       "345   1.241232 -2.181816 -1.013549"
      ]
     },
     "execution_count": 56,
     "metadata": {},
     "output_type": "execute_result"
    }
   ],
   "source": [
    "# Create a DataFrame with the three principal components.\n",
    "pcs_df= pd.DataFrame(data=df_pca, columns=[\"PC 1\", \"PC 2\", \"PC 3\"], index = df.index)\n",
    "pcs_df.head(10)"
   ]
  },
  {
   "cell_type": "code",
   "execution_count": 57,
   "id": "15081e0d",
   "metadata": {},
   "outputs": [
    {
     "data": {},
     "metadata": {},
     "output_type": "display_data"
    },
    {
     "data": {
      "application/vnd.holoviews_exec.v0+json": "",
      "text/html": [
       "<div id='1356'>\n",
       "\n",
       "\n",
       "\n",
       "\n",
       "\n",
       "  <div class=\"bk-root\" id=\"78308ba7-74ad-4dc9-90b8-70c74894c334\" data-root-id=\"1356\"></div>\n",
       "</div>\n",
       "<script type=\"application/javascript\">(function(root) {\n",
       "  function embed_document(root) {\n",
       "    var docs_json = {\"d7f006de-7c8c-4f1b-830f-c5681c789797\":{\"defs\":[{\"extends\":null,\"module\":null,\"name\":\"ReactiveHTML1\",\"overrides\":[],\"properties\":[]},{\"extends\":null,\"module\":null,\"name\":\"FlexBox1\",\"overrides\":[],\"properties\":[{\"default\":\"flex-start\",\"kind\":null,\"name\":\"align_content\"},{\"default\":\"flex-start\",\"kind\":null,\"name\":\"align_items\"},{\"default\":\"row\",\"kind\":null,\"name\":\"flex_direction\"},{\"default\":\"wrap\",\"kind\":null,\"name\":\"flex_wrap\"},{\"default\":\"flex-start\",\"kind\":null,\"name\":\"justify_content\"}]},{\"extends\":null,\"module\":null,\"name\":\"TemplateActions1\",\"overrides\":[],\"properties\":[{\"default\":0,\"kind\":null,\"name\":\"open_modal\"},{\"default\":0,\"kind\":null,\"name\":\"close_modal\"}]},{\"extends\":null,\"module\":null,\"name\":\"MaterialTemplateActions1\",\"overrides\":[],\"properties\":[{\"default\":0,\"kind\":null,\"name\":\"open_modal\"},{\"default\":0,\"kind\":null,\"name\":\"close_modal\"}]}],\"roots\":{\"references\":[{\"attributes\":{\"text\":\"Elbow Curve\",\"text_color\":\"black\",\"text_font_size\":\"12pt\"},\"id\":\"1362\",\"type\":\"Title\"},{\"attributes\":{},\"id\":\"1366\",\"type\":\"LinearScale\"},{\"attributes\":{},\"id\":\"1416\",\"type\":\"UnionRenderers\"},{\"attributes\":{},\"id\":\"1368\",\"type\":\"LinearScale\"},{\"attributes\":{\"line_color\":\"#30a2da\",\"line_width\":2,\"x\":{\"field\":\"k\"},\"y\":{\"field\":\"inertia\"}},\"id\":\"1399\",\"type\":\"Line\"},{\"attributes\":{\"axis_label\":\"inertia\",\"formatter\":{\"id\":\"1407\"},\"major_label_policy\":{\"id\":\"1408\"},\"ticker\":{\"id\":\"1375\"}},\"id\":\"1374\",\"type\":\"LinearAxis\"},{\"attributes\":{\"axis_label\":\"k\",\"formatter\":{\"id\":\"1402\"},\"major_label_policy\":{\"id\":\"1403\"},\"ticker\":{\"id\":\"1400\"}},\"id\":\"1370\",\"type\":\"LinearAxis\"},{\"attributes\":{},\"id\":\"1392\",\"type\":\"Selection\"},{\"attributes\":{\"margin\":[5,5,5,5],\"name\":\"HSpacer02165\",\"sizing_mode\":\"stretch_width\"},\"id\":\"1357\",\"type\":\"Spacer\"},{\"attributes\":{\"below\":[{\"id\":\"1370\"}],\"center\":[{\"id\":\"1373\"},{\"id\":\"1377\"}],\"height\":300,\"left\":[{\"id\":\"1374\"}],\"margin\":[5,5,5,5],\"min_border_bottom\":10,\"min_border_left\":10,\"min_border_right\":10,\"min_border_top\":10,\"renderers\":[{\"id\":\"1397\"}],\"sizing_mode\":\"fixed\",\"title\":{\"id\":\"1362\"},\"toolbar\":{\"id\":\"1384\"},\"width\":700,\"x_range\":{\"id\":\"1358\"},\"x_scale\":{\"id\":\"1366\"},\"y_range\":{\"id\":\"1359\"},\"y_scale\":{\"id\":\"1368\"}},\"id\":\"1361\",\"subtype\":\"Figure\",\"type\":\"Plot\"},{\"attributes\":{},\"id\":\"1375\",\"type\":\"BasicTicker\"},{\"attributes\":{\"axis\":{\"id\":\"1374\"},\"dimension\":1,\"grid_line_color\":null,\"ticker\":null},\"id\":\"1377\",\"type\":\"Grid\"},{\"attributes\":{\"active_multi\":null,\"tools\":[{\"id\":\"1360\"},{\"id\":\"1378\"},{\"id\":\"1379\"},{\"id\":\"1380\"},{\"id\":\"1381\"},{\"id\":\"1382\"}]},\"id\":\"1384\",\"type\":\"Toolbar\"},{\"attributes\":{},\"id\":\"1407\",\"type\":\"BasicTickFormatter\"},{\"attributes\":{},\"id\":\"1408\",\"type\":\"AllLabels\"},{\"attributes\":{\"line_alpha\":0.1,\"line_color\":\"#30a2da\",\"line_width\":2,\"x\":{\"field\":\"k\"},\"y\":{\"field\":\"inertia\"}},\"id\":\"1395\",\"type\":\"Line\"},{\"attributes\":{},\"id\":\"1402\",\"type\":\"BasicTickFormatter\"},{\"attributes\":{\"end\":14661.536827396058,\"reset_end\":14661.536827396058,\"reset_start\":1220.741637361813,\"start\":1220.741637361813,\"tags\":[[[\"inertia\",\"inertia\",null]]]},\"id\":\"1359\",\"type\":\"Range1d\"},{\"attributes\":{\"data_source\":{\"id\":\"1391\"},\"glyph\":{\"id\":\"1394\"},\"hover_glyph\":null,\"muted_glyph\":{\"id\":\"1396\"},\"nonselection_glyph\":{\"id\":\"1395\"},\"selection_glyph\":{\"id\":\"1399\"},\"view\":{\"id\":\"1398\"}},\"id\":\"1397\",\"type\":\"GlyphRenderer\"},{\"attributes\":{\"bottom_units\":\"screen\",\"fill_alpha\":0.5,\"fill_color\":\"lightgrey\",\"left_units\":\"screen\",\"level\":\"overlay\",\"line_alpha\":1.0,\"line_color\":\"black\",\"line_dash\":[4,4],\"line_width\":2,\"right_units\":\"screen\",\"syncable\":false,\"top_units\":\"screen\"},\"id\":\"1383\",\"type\":\"BoxAnnotation\"},{\"attributes\":{\"source\":{\"id\":\"1391\"}},\"id\":\"1398\",\"type\":\"CDSView\"},{\"attributes\":{\"line_color\":\"#30a2da\",\"line_width\":2,\"x\":{\"field\":\"k\"},\"y\":{\"field\":\"inertia\"}},\"id\":\"1394\",\"type\":\"Line\"},{\"attributes\":{\"callback\":null,\"renderers\":[{\"id\":\"1397\"}],\"tags\":[\"hv_created\"],\"tooltips\":[[\"k\",\"@{k}\"],[\"inertia\",\"@{inertia}\"]]},\"id\":\"1360\",\"type\":\"HoverTool\"},{\"attributes\":{},\"id\":\"1378\",\"type\":\"SaveTool\"},{\"attributes\":{},\"id\":\"1379\",\"type\":\"PanTool\"},{\"attributes\":{},\"id\":\"1382\",\"type\":\"ResetTool\"},{\"attributes\":{\"ticks\":[1,2,3,4,5,6,7,8,9,10]},\"id\":\"1400\",\"type\":\"FixedTicker\"},{\"attributes\":{},\"id\":\"1380\",\"type\":\"WheelZoomTool\"},{\"attributes\":{\"end\":10.0,\"reset_end\":10.0,\"reset_start\":1.0,\"start\":1.0,\"tags\":[[[\"k\",\"k\",null]]]},\"id\":\"1358\",\"type\":\"Range1d\"},{\"attributes\":{\"axis\":{\"id\":\"1370\"},\"grid_line_color\":null,\"ticker\":null},\"id\":\"1373\",\"type\":\"Grid\"},{\"attributes\":{\"data\":{\"inertia\":{\"__ndarray__\":\"M3dcO7xyykC71J1NXubCQLrteTnI8blA9WLqCMjSs0CwC6LVFp6wQOf2X6YSz6tAw3oAdxGip0ADhwgws4qlQItJq7mEqqNAfet8pZ1JokA=\",\"dtype\":\"float64\",\"order\":\"little\",\"shape\":[10]},\"k\":[1,2,3,4,5,6,7,8,9,10]},\"selected\":{\"id\":\"1392\"},\"selection_policy\":{\"id\":\"1416\"}},\"id\":\"1391\",\"type\":\"ColumnDataSource\"},{\"attributes\":{\"margin\":[5,5,5,5],\"name\":\"HSpacer02166\",\"sizing_mode\":\"stretch_width\"},\"id\":\"1427\",\"type\":\"Spacer\"},{\"attributes\":{\"line_alpha\":0.2,\"line_color\":\"#30a2da\",\"line_width\":2,\"x\":{\"field\":\"k\"},\"y\":{\"field\":\"inertia\"}},\"id\":\"1396\",\"type\":\"Line\"},{\"attributes\":{\"overlay\":{\"id\":\"1383\"}},\"id\":\"1381\",\"type\":\"BoxZoomTool\"},{\"attributes\":{},\"id\":\"1403\",\"type\":\"AllLabels\"},{\"attributes\":{\"children\":[{\"id\":\"1357\"},{\"id\":\"1361\"},{\"id\":\"1427\"}],\"margin\":[0,0,0,0],\"name\":\"Row02161\",\"tags\":[\"embedded\"]},\"id\":\"1356\",\"type\":\"Row\"}],\"root_ids\":[\"1356\"]},\"title\":\"Bokeh Application\",\"version\":\"2.3.2\"}};\n",
       "    var render_items = [{\"docid\":\"d7f006de-7c8c-4f1b-830f-c5681c789797\",\"root_ids\":[\"1356\"],\"roots\":{\"1356\":\"78308ba7-74ad-4dc9-90b8-70c74894c334\"}}];\n",
       "    root.Bokeh.embed.embed_items_notebook(docs_json, render_items);\n",
       "  }\n",
       "  if (root.Bokeh !== undefined && root.Bokeh.Panel !== undefined) {\n",
       "    embed_document(root);\n",
       "  } else {\n",
       "    var attempts = 0;\n",
       "    var timer = setInterval(function(root) {\n",
       "      if (root.Bokeh !== undefined && root.Bokeh.Panel !== undefined) {\n",
       "        clearInterval(timer);\n",
       "        embed_document(root);\n",
       "      } else if (document.readyState == \"complete\") {\n",
       "        attempts++;\n",
       "        if (attempts > 200) {\n",
       "          clearInterval(timer);\n",
       "          console.log(\"Bokeh: ERROR: Unable to run BokehJS code because BokehJS library is missing\");\n",
       "        }\n",
       "      }\n",
       "    }, 25, root)\n",
       "  }\n",
       "})(window);</script>"
      ],
      "text/plain": [
       ":Curve   [k]   (inertia)"
      ]
     },
     "execution_count": 57,
     "metadata": {
      "application/vnd.holoviews_exec.v0+json": {
       "id": "1356"
      }
     },
     "output_type": "execute_result"
    }
   ],
   "source": [
    "inertia = []\n",
    "k = list(range(1, 11))\n",
    "# Looking for the best K\n",
    "for i in k:\n",
    "    km = KMeans(n_clusters=i, random_state=0)\n",
    "    km.fit(pcs_df)\n",
    "    inertia.append(km.inertia_)\n",
    "# Create the elbow curve\n",
    "elbow_data = {\"k\": k, \"inertia\": inertia}\n",
    "df_elbow = pd.DataFrame(elbow_data)\n",
    "df_elbow.hvplot.line(x=\"k\", y=\"inertia\", xticks=k, title=\"Elbow Curve\")"
   ]
  },
  {
   "cell_type": "code",
   "execution_count": 58,
   "id": "3f0f3f44",
   "metadata": {},
   "outputs": [
    {
     "name": "stdout",
     "output_type": "stream",
     "text": [
      "[0 0 0 ... 1 0 1]\n"
     ]
    }
   ],
   "source": [
    "# Initialize the K-means model\n",
    "model = KMeans(n_clusters=4, random_state=4)\n",
    "\n",
    "# Fit the model\n",
    "model.fit(pcs_df)\n",
    "\n",
    "# Predict clusters\n",
    "predictions = model.predict(pcs_df)\n",
    "print(predictions)"
   ]
  },
  {
   "cell_type": "code",
   "execution_count": 59,
   "id": "a4cd81a1",
   "metadata": {},
   "outputs": [
    {
     "name": "stdout",
     "output_type": "stream",
     "text": [
      "(1817, 12)\n"
     ]
    },
    {
     "data": {
      "text/html": [
       "<div>\n",
       "<style scoped>\n",
       "    .dataframe tbody tr th:only-of-type {\n",
       "        vertical-align: middle;\n",
       "    }\n",
       "\n",
       "    .dataframe tbody tr th {\n",
       "        vertical-align: top;\n",
       "    }\n",
       "\n",
       "    .dataframe thead th {\n",
       "        text-align: right;\n",
       "    }\n",
       "</style>\n",
       "<table border=\"1\" class=\"dataframe\">\n",
       "  <thead>\n",
       "    <tr style=\"text-align: right;\">\n",
       "      <th></th>\n",
       "      <th>monthly_bill</th>\n",
       "      <th>qty</th>\n",
       "      <th>size</th>\n",
       "      <th>commodity</th>\n",
       "      <th>pickups</th>\n",
       "      <th>bin_amount</th>\n",
       "      <th>tax_body</th>\n",
       "      <th>biz_type</th>\n",
       "      <th>PC 1</th>\n",
       "      <th>PC 2</th>\n",
       "      <th>PC 3</th>\n",
       "      <th>Class</th>\n",
       "    </tr>\n",
       "    <tr>\n",
       "      <th>cust</th>\n",
       "      <th></th>\n",
       "      <th></th>\n",
       "      <th></th>\n",
       "      <th></th>\n",
       "      <th></th>\n",
       "      <th></th>\n",
       "      <th></th>\n",
       "      <th></th>\n",
       "      <th></th>\n",
       "      <th></th>\n",
       "      <th></th>\n",
       "      <th></th>\n",
       "    </tr>\n",
       "  </thead>\n",
       "  <tbody>\n",
       "    <tr>\n",
       "      <th>98</th>\n",
       "      <td>888.98</td>\n",
       "      <td>1</td>\n",
       "      <td>4.00</td>\n",
       "      <td>Garbage</td>\n",
       "      <td>1</td>\n",
       "      <td>813.98</td>\n",
       "      <td>C</td>\n",
       "      <td>MINI MART</td>\n",
       "      <td>1.260685</td>\n",
       "      <td>1.257017</td>\n",
       "      <td>-0.706210</td>\n",
       "      <td>0</td>\n",
       "    </tr>\n",
       "    <tr>\n",
       "      <th>98</th>\n",
       "      <td>888.98</td>\n",
       "      <td>1</td>\n",
       "      <td>4.00</td>\n",
       "      <td>Recycle</td>\n",
       "      <td>2</td>\n",
       "      <td>75.00</td>\n",
       "      <td>C</td>\n",
       "      <td>MINI MART</td>\n",
       "      <td>0.392196</td>\n",
       "      <td>0.952089</td>\n",
       "      <td>0.708526</td>\n",
       "      <td>0</td>\n",
       "    </tr>\n",
       "    <tr>\n",
       "      <th>98</th>\n",
       "      <td>888.98</td>\n",
       "      <td>1</td>\n",
       "      <td>4.00</td>\n",
       "      <td>Recycle</td>\n",
       "      <td>2</td>\n",
       "      <td>75.00</td>\n",
       "      <td>C</td>\n",
       "      <td>MINI MART</td>\n",
       "      <td>0.392196</td>\n",
       "      <td>0.952089</td>\n",
       "      <td>0.708526</td>\n",
       "      <td>0</td>\n",
       "    </tr>\n",
       "    <tr>\n",
       "      <th>218</th>\n",
       "      <td>965.40</td>\n",
       "      <td>1</td>\n",
       "      <td>4.00</td>\n",
       "      <td>Recycle</td>\n",
       "      <td>1</td>\n",
       "      <td>75.00</td>\n",
       "      <td>COUNTY</td>\n",
       "      <td>WINERY</td>\n",
       "      <td>-0.247907</td>\n",
       "      <td>-2.613957</td>\n",
       "      <td>0.435492</td>\n",
       "      <td>1</td>\n",
       "    </tr>\n",
       "    <tr>\n",
       "      <th>218</th>\n",
       "      <td>965.40</td>\n",
       "      <td>1</td>\n",
       "      <td>4.00</td>\n",
       "      <td>Garbage</td>\n",
       "      <td>1</td>\n",
       "      <td>890.40</td>\n",
       "      <td>COUNTY</td>\n",
       "      <td>WINERY</td>\n",
       "      <td>1.260386</td>\n",
       "      <td>-2.183019</td>\n",
       "      <td>-0.996956</td>\n",
       "      <td>1</td>\n",
       "    </tr>\n",
       "    <tr>\n",
       "      <th>218</th>\n",
       "      <td>965.40</td>\n",
       "      <td>1</td>\n",
       "      <td>0.48</td>\n",
       "      <td>Recycle</td>\n",
       "      <td>1</td>\n",
       "      <td>0.00</td>\n",
       "      <td>COUNTY</td>\n",
       "      <td>WINERY</td>\n",
       "      <td>-1.101496</td>\n",
       "      <td>-2.230029</td>\n",
       "      <td>0.630257</td>\n",
       "      <td>1</td>\n",
       "    </tr>\n",
       "    <tr>\n",
       "      <th>218</th>\n",
       "      <td>965.40</td>\n",
       "      <td>1</td>\n",
       "      <td>0.48</td>\n",
       "      <td>Recycle</td>\n",
       "      <td>1</td>\n",
       "      <td>0.00</td>\n",
       "      <td>COUNTY</td>\n",
       "      <td>WINERY</td>\n",
       "      <td>-1.101496</td>\n",
       "      <td>-2.230029</td>\n",
       "      <td>0.630257</td>\n",
       "      <td>1</td>\n",
       "    </tr>\n",
       "    <tr>\n",
       "      <th>218</th>\n",
       "      <td>965.40</td>\n",
       "      <td>1</td>\n",
       "      <td>0.48</td>\n",
       "      <td>Compost</td>\n",
       "      <td>1</td>\n",
       "      <td>0.00</td>\n",
       "      <td>COUNTY</td>\n",
       "      <td>WINERY</td>\n",
       "      <td>-1.001973</td>\n",
       "      <td>-1.577576</td>\n",
       "      <td>0.138301</td>\n",
       "      <td>1</td>\n",
       "    </tr>\n",
       "    <tr>\n",
       "      <th>218</th>\n",
       "      <td>965.40</td>\n",
       "      <td>1</td>\n",
       "      <td>0.48</td>\n",
       "      <td>Recycle</td>\n",
       "      <td>1</td>\n",
       "      <td>0.00</td>\n",
       "      <td>COUNTY</td>\n",
       "      <td>WINERY</td>\n",
       "      <td>-1.101496</td>\n",
       "      <td>-2.230029</td>\n",
       "      <td>0.630257</td>\n",
       "      <td>1</td>\n",
       "    </tr>\n",
       "    <tr>\n",
       "      <th>345</th>\n",
       "      <td>890.40</td>\n",
       "      <td>1</td>\n",
       "      <td>4.00</td>\n",
       "      <td>Garbage</td>\n",
       "      <td>1</td>\n",
       "      <td>890.40</td>\n",
       "      <td>COUNTY</td>\n",
       "      <td>WINERY</td>\n",
       "      <td>1.241232</td>\n",
       "      <td>-2.181816</td>\n",
       "      <td>-1.013549</td>\n",
       "      <td>1</td>\n",
       "    </tr>\n",
       "  </tbody>\n",
       "</table>\n",
       "</div>"
      ],
      "text/plain": [
       "      monthly_bill  qty  size commodity  pickups  bin_amount tax_body  \\\n",
       "cust                                                                    \n",
       "98          888.98    1  4.00   Garbage        1      813.98        C   \n",
       "98          888.98    1  4.00   Recycle        2       75.00        C   \n",
       "98          888.98    1  4.00   Recycle        2       75.00        C   \n",
       "218         965.40    1  4.00   Recycle        1       75.00   COUNTY   \n",
       "218         965.40    1  4.00   Garbage        1      890.40   COUNTY   \n",
       "218         965.40    1  0.48   Recycle        1        0.00   COUNTY   \n",
       "218         965.40    1  0.48   Recycle        1        0.00   COUNTY   \n",
       "218         965.40    1  0.48   Compost        1        0.00   COUNTY   \n",
       "218         965.40    1  0.48   Recycle        1        0.00   COUNTY   \n",
       "345         890.40    1  4.00   Garbage        1      890.40   COUNTY   \n",
       "\n",
       "       biz_type      PC 1      PC 2      PC 3  Class  \n",
       "cust                                                  \n",
       "98    MINI MART  1.260685  1.257017 -0.706210      0  \n",
       "98    MINI MART  0.392196  0.952089  0.708526      0  \n",
       "98    MINI MART  0.392196  0.952089  0.708526      0  \n",
       "218      WINERY -0.247907 -2.613957  0.435492      1  \n",
       "218      WINERY  1.260386 -2.183019 -0.996956      1  \n",
       "218      WINERY -1.101496 -2.230029  0.630257      1  \n",
       "218      WINERY -1.101496 -2.230029  0.630257      1  \n",
       "218      WINERY -1.001973 -1.577576  0.138301      1  \n",
       "218      WINERY -1.101496 -2.230029  0.630257      1  \n",
       "345      WINERY  1.241232 -2.181816 -1.013549      1  "
      ]
     },
     "execution_count": 59,
     "metadata": {},
     "output_type": "execute_result"
    }
   ],
   "source": [
    "# Create a new DataFrame including predicted clusters and cryptocurrencies features.\n",
    "# Concatentate the crypto_df and pcs_df DataFrames on the same columns.\n",
    "clustered_df = pd.concat([df, pcs_df], axis = 1)\n",
    "#  Add a new column, \"Class\" to the clustered_df DataFrame that holds the predictions.\n",
    "clustered_df[\"Class\"] = model.labels_\n",
    "\n",
    "# Print the shape of the clustered_df\n",
    "print(clustered_df.shape)\n",
    "clustered_df.head(10)"
   ]
  },
  {
   "cell_type": "code",
   "execution_count": 60,
   "id": "94bae892",
   "metadata": {},
   "outputs": [
    {
     "data": {
      "application/vnd.plotly.v1+json": {
       "config": {
        "plotlyServerURL": "https://plot.ly"
       },
       "data": [
        {
         "customdata": [
          [
           "Garbage"
          ],
          [
           "Recycle"
          ],
          [
           "Recycle"
          ],
          [
           "Garbage"
          ],
          [
           "Recycle"
          ],
          [
           "Garbage"
          ],
          [
           "Recycle"
          ],
          [
           "Garbage"
          ],
          [
           "Compost"
          ],
          [
           "Recycle"
          ],
          [
           "Compost"
          ],
          [
           "Compost"
          ],
          [
           "Garbage"
          ],
          [
           "Compost"
          ],
          [
           "Garbage"
          ],
          [
           "Recycle"
          ],
          [
           "Compost"
          ],
          [
           "Compost"
          ],
          [
           "Garbage"
          ],
          [
           "Recycle"
          ],
          [
           "Garbage"
          ],
          [
           "Recycle"
          ],
          [
           "Garbage"
          ],
          [
           "Garbage"
          ],
          [
           "Recycle"
          ],
          [
           "Recycle"
          ],
          [
           "Recycle"
          ],
          [
           "Recycle"
          ],
          [
           "Compost"
          ],
          [
           "Compost"
          ],
          [
           "Garbage"
          ],
          [
           "Recycle"
          ],
          [
           "Compost"
          ],
          [
           "Garbage"
          ],
          [
           "Recycle"
          ],
          [
           "Compost"
          ],
          [
           "Garbage"
          ],
          [
           "Recycle"
          ],
          [
           "Recycle"
          ],
          [
           "Compost"
          ],
          [
           "Recycle"
          ],
          [
           "Garbage"
          ],
          [
           "Recycle"
          ],
          [
           "Compost"
          ],
          [
           "Garbage"
          ],
          [
           "Compost"
          ],
          [
           "Recycle"
          ],
          [
           "Garbage"
          ],
          [
           "Recycle"
          ],
          [
           "Compost"
          ],
          [
           "Garbage"
          ],
          [
           "Recycle"
          ],
          [
           "Recycle"
          ],
          [
           "Garbage"
          ],
          [
           "Recycle"
          ],
          [
           "Garbage"
          ],
          [
           "Recycle"
          ],
          [
           "Garbage"
          ],
          [
           "Compost"
          ],
          [
           "Garbage"
          ],
          [
           "Recycle"
          ],
          [
           "Garbage"
          ],
          [
           "Recycle"
          ],
          [
           "Garbage"
          ],
          [
           "Recycle"
          ],
          [
           "Garbage"
          ],
          [
           "Recycle"
          ],
          [
           "Garbage"
          ],
          [
           "Recycle"
          ],
          [
           "Garbage"
          ],
          [
           "Compost"
          ],
          [
           "Garbage"
          ],
          [
           "Recycle"
          ],
          [
           "Garbage"
          ],
          [
           "Recycle"
          ],
          [
           "Recycle"
          ],
          [
           "Compost"
          ],
          [
           "Recycle"
          ],
          [
           "Compost"
          ],
          [
           "Compost"
          ],
          [
           "Compost"
          ],
          [
           "Recycle"
          ],
          [
           "Compost"
          ],
          [
           "Compost"
          ],
          [
           "Compost"
          ],
          [
           "Garbage"
          ],
          [
           "Garbage"
          ],
          [
           "Recycle"
          ],
          [
           "Garbage"
          ],
          [
           "Compost"
          ],
          [
           "Recycle"
          ],
          [
           "Compost"
          ],
          [
           "Compost"
          ],
          [
           "Garbage"
          ],
          [
           "Recycle"
          ],
          [
           "Recycle"
          ],
          [
           "Compost"
          ],
          [
           "Garbage"
          ],
          [
           "Garbage"
          ],
          [
           "Recycle"
          ],
          [
           "Recycle"
          ],
          [
           "Compost"
          ],
          [
           "Garbage"
          ],
          [
           "Recycle"
          ],
          [
           "Garbage"
          ],
          [
           "Recycle"
          ],
          [
           "Garbage"
          ],
          [
           "Garbage"
          ],
          [
           "Recycle"
          ],
          [
           "Compost"
          ],
          [
           "Garbage"
          ],
          [
           "Compost"
          ],
          [
           "Compost"
          ],
          [
           "Compost"
          ],
          [
           "Compost"
          ],
          [
           "Recycle"
          ],
          [
           "Recycle"
          ],
          [
           "Recycle"
          ],
          [
           "Garbage"
          ],
          [
           "Recycle"
          ],
          [
           "Garbage"
          ],
          [
           "Recycle"
          ],
          [
           "Garbage"
          ],
          [
           "Recycle"
          ],
          [
           "Recycle"
          ],
          [
           "Recycle"
          ],
          [
           "Garbage"
          ],
          [
           "Garbage"
          ],
          [
           "Garbage"
          ],
          [
           "Recycle"
          ],
          [
           "Compost"
          ],
          [
           "Garbage"
          ],
          [
           "Compost"
          ],
          [
           "Garbage"
          ],
          [
           "Garbage"
          ],
          [
           "Garbage"
          ],
          [
           "Garbage"
          ],
          [
           "Recycle"
          ],
          [
           "Compost"
          ],
          [
           "Compost"
          ],
          [
           "Garbage"
          ],
          [
           "Recycle"
          ],
          [
           "Recycle"
          ],
          [
           "Garbage"
          ],
          [
           "Recycle"
          ],
          [
           "Recycle"
          ],
          [
           "Recycle"
          ],
          [
           "Recycle"
          ],
          [
           "Recycle"
          ],
          [
           "Recycle"
          ],
          [
           "Recycle"
          ],
          [
           "Recycle"
          ],
          [
           "Compost"
          ],
          [
           "Garbage"
          ],
          [
           "Recycle"
          ],
          [
           "Compost"
          ],
          [
           "Garbage"
          ],
          [
           "Garbage"
          ],
          [
           "Recycle"
          ],
          [
           "Recycle"
          ],
          [
           "Compost"
          ],
          [
           "Garbage"
          ],
          [
           "Garbage"
          ],
          [
           "Recycle"
          ],
          [
           "Recycle"
          ],
          [
           "Compost"
          ],
          [
           "Recycle"
          ],
          [
           "Compost"
          ],
          [
           "Garbage"
          ],
          [
           "Recycle"
          ],
          [
           "Garbage"
          ],
          [
           "Recycle"
          ],
          [
           "Recycle"
          ],
          [
           "Recycle"
          ],
          [
           "Garbage"
          ],
          [
           "Recycle"
          ],
          [
           "Garbage"
          ],
          [
           "Recycle"
          ],
          [
           "Compost"
          ],
          [
           "Recycle"
          ],
          [
           "Garbage"
          ],
          [
           "Recycle"
          ],
          [
           "Garbage"
          ],
          [
           "Recycle"
          ],
          [
           "Garbage"
          ],
          [
           "Garbage"
          ],
          [
           "Compost"
          ],
          [
           "Compost"
          ],
          [
           "Recycle"
          ],
          [
           "Recycle"
          ],
          [
           "Recycle"
          ],
          [
           "Garbage"
          ],
          [
           "Recycle"
          ],
          [
           "Compost"
          ],
          [
           "Garbage"
          ],
          [
           "Recycle"
          ],
          [
           "Recycle"
          ],
          [
           "Recycle"
          ],
          [
           "Garbage"
          ],
          [
           "Recycle"
          ],
          [
           "Recycle"
          ],
          [
           "Recycle"
          ],
          [
           "Recycle"
          ],
          [
           "Recycle"
          ],
          [
           "Recycle"
          ],
          [
           "Compost"
          ],
          [
           "Garbage"
          ],
          [
           "Garbage"
          ],
          [
           "Recycle"
          ],
          [
           "Recycle"
          ],
          [
           "Compost"
          ],
          [
           "Garbage"
          ],
          [
           "Recycle"
          ],
          [
           "Garbage"
          ],
          [
           "Recycle"
          ],
          [
           "Garbage"
          ],
          [
           "Recycle"
          ],
          [
           "Recycle"
          ],
          [
           "Recycle"
          ],
          [
           "Garbage"
          ],
          [
           "Recycle"
          ],
          [
           "Recycle"
          ],
          [
           "Recycle"
          ],
          [
           "Garbage"
          ],
          [
           "Recycle"
          ],
          [
           "Recycle"
          ],
          [
           "Recycle"
          ],
          [
           "Garbage"
          ],
          [
           "Garbage"
          ],
          [
           "Recycle"
          ],
          [
           "Recycle"
          ],
          [
           "Compost"
          ],
          [
           "Compost"
          ],
          [
           "Garbage"
          ],
          [
           "Recycle"
          ],
          [
           "Recycle"
          ],
          [
           "Garbage"
          ],
          [
           "Garbage"
          ],
          [
           "Garbage"
          ],
          [
           "Recycle"
          ],
          [
           "Recycle"
          ],
          [
           "Compost"
          ],
          [
           "Compost"
          ],
          [
           "Garbage"
          ],
          [
           "Recycle"
          ],
          [
           "Garbage"
          ],
          [
           "Recycle"
          ],
          [
           "Recycle"
          ],
          [
           "Compost"
          ],
          [
           "Garbage"
          ],
          [
           "Garbage"
          ],
          [
           "Recycle"
          ],
          [
           "Compost"
          ],
          [
           "Garbage"
          ],
          [
           "Recycle"
          ],
          [
           "Compost"
          ],
          [
           "Garbage"
          ],
          [
           "Recycle"
          ],
          [
           "Recycle"
          ],
          [
           "Recycle"
          ],
          [
           "Recycle"
          ],
          [
           "Recycle"
          ],
          [
           "Recycle"
          ],
          [
           "Compost"
          ],
          [
           "Compost"
          ],
          [
           "Compost"
          ],
          [
           "Recycle"
          ],
          [
           "Recycle"
          ],
          [
           "Garbage"
          ],
          [
           "Garbage"
          ],
          [
           "Garbage"
          ],
          [
           "Compost"
          ],
          [
           "Recycle"
          ],
          [
           "Recycle"
          ],
          [
           "Garbage"
          ],
          [
           "Compost"
          ],
          [
           "Recycle"
          ],
          [
           "Garbage"
          ],
          [
           "Compost"
          ],
          [
           "Recycle"
          ],
          [
           "Recycle"
          ],
          [
           "Recycle"
          ],
          [
           "Garbage"
          ],
          [
           "Recycle"
          ],
          [
           "Compost"
          ],
          [
           "Garbage"
          ],
          [
           "Garbage"
          ],
          [
           "Compost"
          ],
          [
           "Recycle"
          ],
          [
           "Recycle"
          ],
          [
           "Garbage"
          ],
          [
           "Recycle"
          ],
          [
           "Garbage"
          ],
          [
           "Recycle"
          ],
          [
           "Compost"
          ],
          [
           "Compost"
          ],
          [
           "Garbage"
          ],
          [
           "Recycle"
          ],
          [
           "Garbage"
          ],
          [
           "Compost"
          ],
          [
           "Recycle"
          ],
          [
           "Garbage"
          ],
          [
           "Recycle"
          ],
          [
           "Compost"
          ],
          [
           "Garbage"
          ],
          [
           "Compost"
          ],
          [
           "Compost"
          ],
          [
           "Compost"
          ],
          [
           "Garbage"
          ],
          [
           "Recycle"
          ],
          [
           "Recycle"
          ],
          [
           "Compost"
          ],
          [
           "Compost"
          ],
          [
           "Garbage"
          ],
          [
           "Recycle"
          ],
          [
           "Recycle"
          ],
          [
           "Garbage"
          ],
          [
           "Compost"
          ],
          [
           "Recycle"
          ],
          [
           "Compost"
          ],
          [
           "Recycle"
          ],
          [
           "Garbage"
          ],
          [
           "Recycle"
          ],
          [
           "Garbage"
          ],
          [
           "Recycle"
          ],
          [
           "Compost"
          ],
          [
           "Recycle"
          ],
          [
           "Compost"
          ],
          [
           "Recycle"
          ],
          [
           "Garbage"
          ],
          [
           "Recycle"
          ],
          [
           "Garbage"
          ],
          [
           "Recycle"
          ],
          [
           "Garbage"
          ],
          [
           "Recycle"
          ],
          [
           "Compost"
          ],
          [
           "Garbage"
          ],
          [
           "Recycle"
          ],
          [
           "Compost"
          ],
          [
           "Recycle"
          ],
          [
           "Recycle"
          ],
          [
           "Garbage"
          ],
          [
           "Recycle"
          ],
          [
           "Compost"
          ],
          [
           "Recycle"
          ],
          [
           "Recycle"
          ],
          [
           "Recycle"
          ],
          [
           "Recycle"
          ],
          [
           "Compost"
          ],
          [
           "Compost"
          ],
          [
           "Compost"
          ],
          [
           "Compost"
          ],
          [
           "Compost"
          ],
          [
           "Garbage"
          ],
          [
           "Recycle"
          ],
          [
           "Garbage"
          ],
          [
           "Recycle"
          ],
          [
           "Recycle"
          ],
          [
           "Compost"
          ],
          [
           "Recycle"
          ],
          [
           "Compost"
          ],
          [
           "Recycle"
          ],
          [
           "Recycle"
          ],
          [
           "Compost"
          ],
          [
           "Compost"
          ],
          [
           "Compost"
          ],
          [
           "Compost"
          ],
          [
           "Recycle"
          ],
          [
           "Garbage"
          ],
          [
           "Recycle"
          ],
          [
           "Recycle"
          ],
          [
           "Garbage"
          ],
          [
           "Recycle"
          ],
          [
           "Recycle"
          ],
          [
           "Garbage"
          ],
          [
           "Recycle"
          ],
          [
           "Recycle"
          ],
          [
           "Recycle"
          ],
          [
           "Compost"
          ],
          [
           "Recycle"
          ],
          [
           "Garbage"
          ],
          [
           "Recycle"
          ],
          [
           "Garbage"
          ],
          [
           "Recycle"
          ],
          [
           "Garbage"
          ],
          [
           "Recycle"
          ],
          [
           "Garbage"
          ],
          [
           "Recycle"
          ],
          [
           "Recycle"
          ],
          [
           "Compost"
          ],
          [
           "Compost"
          ],
          [
           "Recycle"
          ],
          [
           "Recycle"
          ],
          [
           "Garbage"
          ],
          [
           "Compost"
          ],
          [
           "Garbage"
          ],
          [
           "Recycle"
          ],
          [
           "Recycle"
          ],
          [
           "Garbage"
          ],
          [
           "Recycle"
          ],
          [
           "Recycle"
          ],
          [
           "Recycle"
          ],
          [
           "Recycle"
          ],
          [
           "Compost"
          ],
          [
           "Garbage"
          ],
          [
           "Compost"
          ],
          [
           "Garbage"
          ],
          [
           "Compost"
          ],
          [
           "Compost"
          ],
          [
           "Compost"
          ],
          [
           "Compost"
          ],
          [
           "Recycle"
          ],
          [
           "Recycle"
          ],
          [
           "Recycle"
          ],
          [
           "Recycle"
          ],
          [
           "Recycle"
          ],
          [
           "Compost"
          ],
          [
           "Garbage"
          ],
          [
           "Garbage"
          ],
          [
           "Garbage"
          ],
          [
           "Garbage"
          ],
          [
           "Recycle"
          ],
          [
           "Recycle"
          ],
          [
           "Recycle"
          ],
          [
           "Compost"
          ],
          [
           "Compost"
          ],
          [
           "Recycle"
          ],
          [
           "Recycle"
          ],
          [
           "Recycle"
          ],
          [
           "Recycle"
          ],
          [
           "Recycle"
          ],
          [
           "Compost"
          ],
          [
           "Compost"
          ],
          [
           "Compost"
          ],
          [
           "Garbage"
          ],
          [
           "Recycle"
          ],
          [
           "Compost"
          ],
          [
           "Compost"
          ],
          [
           "Compost"
          ],
          [
           "Garbage"
          ],
          [
           "Recycle"
          ],
          [
           "Recycle"
          ],
          [
           "Recycle"
          ],
          [
           "Recycle"
          ],
          [
           "Recycle"
          ],
          [
           "Recycle"
          ],
          [
           "Recycle"
          ],
          [
           "Compost"
          ],
          [
           "Compost"
          ],
          [
           "Compost"
          ],
          [
           "Compost"
          ],
          [
           "Compost"
          ],
          [
           "Garbage"
          ],
          [
           "Compost"
          ],
          [
           "Garbage"
          ],
          [
           "Recycle"
          ],
          [
           "Recycle"
          ],
          [
           "Compost"
          ],
          [
           "Compost"
          ],
          [
           "Garbage"
          ],
          [
           "Recycle"
          ],
          [
           "Garbage"
          ],
          [
           "Recycle"
          ],
          [
           "Garbage"
          ],
          [
           "Recycle"
          ],
          [
           "Compost"
          ],
          [
           "Garbage"
          ],
          [
           "Garbage"
          ],
          [
           "Garbage"
          ],
          [
           "Recycle"
          ],
          [
           "Garbage"
          ],
          [
           "Garbage"
          ],
          [
           "Recycle"
          ],
          [
           "Recycle"
          ],
          [
           "Compost"
          ],
          [
           "Garbage"
          ],
          [
           "Garbage"
          ],
          [
           "Compost"
          ],
          [
           "Garbage"
          ],
          [
           "Recycle"
          ],
          [
           "Garbage"
          ],
          [
           "Garbage"
          ],
          [
           "Garbage"
          ],
          [
           "Recycle"
          ],
          [
           "Compost"
          ],
          [
           "Recycle"
          ],
          [
           "Garbage"
          ],
          [
           "Recycle"
          ],
          [
           "Recycle"
          ],
          [
           "Recycle"
          ],
          [
           "Compost"
          ],
          [
           "Garbage"
          ],
          [
           "Garbage"
          ],
          [
           "Recycle"
          ],
          [
           "Garbage"
          ],
          [
           "Compost"
          ],
          [
           "Recycle"
          ],
          [
           "Garbage"
          ],
          [
           "Recycle"
          ],
          [
           "Compost"
          ],
          [
           "Garbage"
          ],
          [
           "Garbage"
          ],
          [
           "Recycle"
          ],
          [
           "Recycle"
          ],
          [
           "Recycle"
          ],
          [
           "Garbage"
          ],
          [
           "Recycle"
          ],
          [
           "Recycle"
          ],
          [
           "Compost"
          ],
          [
           "Compost"
          ],
          [
           "Compost"
          ],
          [
           "Garbage"
          ],
          [
           "Recycle"
          ],
          [
           "Garbage"
          ],
          [
           "Recycle"
          ],
          [
           "Recycle"
          ],
          [
           "Recycle"
          ],
          [
           "Compost"
          ],
          [
           "Garbage"
          ],
          [
           "Recycle"
          ],
          [
           "Compost"
          ],
          [
           "Garbage"
          ],
          [
           "Recycle"
          ],
          [
           "Garbage"
          ],
          [
           "Recycle"
          ],
          [
           "Recycle"
          ],
          [
           "Compost"
          ],
          [
           "Compost"
          ],
          [
           "Compost"
          ],
          [
           "Recycle"
          ],
          [
           "Garbage"
          ],
          [
           "Garbage"
          ],
          [
           "Recycle"
          ],
          [
           "Compost"
          ],
          [
           "Garbage"
          ],
          [
           "Recycle"
          ],
          [
           "Garbage"
          ],
          [
           "Garbage"
          ],
          [
           "Compost"
          ],
          [
           "Garbage"
          ],
          [
           "Recycle"
          ],
          [
           "Garbage"
          ],
          [
           "Recycle"
          ],
          [
           "Garbage"
          ],
          [
           "Recycle"
          ],
          [
           "Compost"
          ],
          [
           "Garbage"
          ],
          [
           "Compost"
          ],
          [
           "Garbage"
          ],
          [
           "Recycle"
          ],
          [
           "Compost"
          ],
          [
           "Compost"
          ],
          [
           "Compost"
          ],
          [
           "Garbage"
          ],
          [
           "Recycle"
          ],
          [
           "Compost"
          ],
          [
           "Recycle"
          ],
          [
           "Compost"
          ],
          [
           "Garbage"
          ],
          [
           "Compost"
          ],
          [
           "Garbage"
          ],
          [
           "Garbage"
          ],
          [
           "Garbage"
          ],
          [
           "Recycle"
          ],
          [
           "Recycle"
          ],
          [
           "Compost"
          ],
          [
           "Garbage"
          ],
          [
           "Garbage"
          ],
          [
           "Compost"
          ],
          [
           "Recycle"
          ],
          [
           "Recycle"
          ],
          [
           "Recycle"
          ],
          [
           "Garbage"
          ],
          [
           "Recycle"
          ],
          [
           "Recycle"
          ],
          [
           "Recycle"
          ],
          [
           "Compost"
          ],
          [
           "Garbage"
          ],
          [
           "Garbage"
          ],
          [
           "Compost"
          ],
          [
           "Garbage"
          ],
          [
           "Recycle"
          ],
          [
           "Garbage"
          ],
          [
           "Recycle"
          ],
          [
           "Compost"
          ],
          [
           "Garbage"
          ],
          [
           "Garbage"
          ],
          [
           "Compost"
          ],
          [
           "Compost"
          ],
          [
           "Garbage"
          ],
          [
           "Recycle"
          ],
          [
           "Garbage"
          ],
          [
           "Garbage"
          ],
          [
           "Recycle"
          ],
          [
           "Garbage"
          ],
          [
           "Recycle"
          ],
          [
           "Garbage"
          ],
          [
           "Garbage"
          ],
          [
           "Recycle"
          ],
          [
           "Recycle"
          ],
          [
           "Compost"
          ],
          [
           "Garbage"
          ],
          [
           "Recycle"
          ],
          [
           "Recycle"
          ],
          [
           "Recycle"
          ],
          [
           "Garbage"
          ],
          [
           "Recycle"
          ],
          [
           "Recycle"
          ],
          [
           "Recycle"
          ],
          [
           "Compost"
          ],
          [
           "Compost"
          ],
          [
           "Compost"
          ],
          [
           "Compost"
          ],
          [
           "Garbage"
          ],
          [
           "Garbage"
          ],
          [
           "Recycle"
          ],
          [
           "Compost"
          ],
          [
           "Recycle"
          ],
          [
           "Compost"
          ],
          [
           "Compost"
          ],
          [
           "Compost"
          ],
          [
           "Recycle"
          ],
          [
           "Recycle"
          ],
          [
           "Recycle"
          ],
          [
           "Compost"
          ],
          [
           "Garbage"
          ],
          [
           "Compost"
          ],
          [
           "Garbage"
          ],
          [
           "Recycle"
          ],
          [
           "Compost"
          ],
          [
           "Garbage"
          ],
          [
           "Compost"
          ],
          [
           "Compost"
          ],
          [
           "Garbage"
          ],
          [
           "Compost"
          ],
          [
           "Recycle"
          ],
          [
           "Garbage"
          ],
          [
           "Recycle"
          ],
          [
           "Recycle"
          ],
          [
           "Recycle"
          ],
          [
           "Recycle"
          ],
          [
           "Recycle"
          ],
          [
           "Recycle"
          ],
          [
           "Recycle"
          ],
          [
           "Recycle"
          ],
          [
           "Recycle"
          ],
          [
           "Recycle"
          ],
          [
           "Recycle"
          ],
          [
           "Recycle"
          ],
          [
           "Recycle"
          ],
          [
           "Recycle"
          ],
          [
           "Recycle"
          ],
          [
           "Recycle"
          ],
          [
           "Recycle"
          ],
          [
           "Recycle"
          ],
          [
           "Recycle"
          ],
          [
           "Recycle"
          ],
          [
           "Recycle"
          ],
          [
           "Recycle"
          ],
          [
           "Recycle"
          ],
          [
           "Recycle"
          ],
          [
           "Compost"
          ],
          [
           "Compost"
          ],
          [
           "Recycle"
          ],
          [
           "Recycle"
          ],
          [
           "Recycle"
          ],
          [
           "Garbage"
          ],
          [
           "Recycle"
          ],
          [
           "Garbage"
          ],
          [
           "Recycle"
          ],
          [
           "Compost"
          ],
          [
           "Garbage"
          ],
          [
           "Recycle"
          ],
          [
           "Garbage"
          ],
          [
           "Recycle"
          ],
          [
           "Compost"
          ],
          [
           "Garbage"
          ],
          [
           "Garbage"
          ],
          [
           "Recycle"
          ],
          [
           "Recycle"
          ],
          [
           "Garbage"
          ],
          [
           "Garbage"
          ],
          [
           "Garbage"
          ],
          [
           "Garbage"
          ],
          [
           "Recycle"
          ],
          [
           "Recycle"
          ],
          [
           "Recycle"
          ],
          [
           "Compost"
          ],
          [
           "Garbage"
          ],
          [
           "Garbage"
          ],
          [
           "Garbage"
          ],
          [
           "Recycle"
          ],
          [
           "Compost"
          ],
          [
           "Garbage"
          ],
          [
           "Recycle"
          ],
          [
           "Compost"
          ],
          [
           "Garbage"
          ],
          [
           "Recycle"
          ],
          [
           "Compost"
          ],
          [
           "Compost"
          ],
          [
           "Compost"
          ],
          [
           "Recycle"
          ],
          [
           "Recycle"
          ],
          [
           "Garbage"
          ],
          [
           "Garbage"
          ],
          [
           "Recycle"
          ],
          [
           "Recycle"
          ],
          [
           "Garbage"
          ],
          [
           "Garbage"
          ],
          [
           "Recycle"
          ],
          [
           "Compost"
          ],
          [
           "Garbage"
          ],
          [
           "Recycle"
          ],
          [
           "Compost"
          ],
          [
           "Garbage"
          ],
          [
           "Recycle"
          ],
          [
           "Garbage"
          ],
          [
           "Garbage"
          ],
          [
           "Recycle"
          ],
          [
           "Compost"
          ],
          [
           "Garbage"
          ],
          [
           "Recycle"
          ],
          [
           "Recycle"
          ],
          [
           "Garbage"
          ],
          [
           "Compost"
          ],
          [
           "Garbage"
          ],
          [
           "Garbage"
          ],
          [
           "Recycle"
          ],
          [
           "Compost"
          ],
          [
           "Compost"
          ],
          [
           "Garbage"
          ],
          [
           "Recycle"
          ],
          [
           "Recycle"
          ],
          [
           "Recycle"
          ],
          [
           "Recycle"
          ],
          [
           "Garbage"
          ],
          [
           "Recycle"
          ],
          [
           "Recycle"
          ],
          [
           "Recycle"
          ],
          [
           "Garbage"
          ],
          [
           "Recycle"
          ],
          [
           "Recycle"
          ],
          [
           "Compost"
          ],
          [
           "Compost"
          ],
          [
           "Compost"
          ],
          [
           "Garbage"
          ],
          [
           "Garbage"
          ],
          [
           "Garbage"
          ],
          [
           "Garbage"
          ],
          [
           "Recycle"
          ],
          [
           "Garbage"
          ],
          [
           "Garbage"
          ],
          [
           "Garbage"
          ],
          [
           "Recycle"
          ],
          [
           "Recycle"
          ],
          [
           "Garbage"
          ],
          [
           "Garbage"
          ],
          [
           "Garbage"
          ],
          [
           "Garbage"
          ],
          [
           "Garbage"
          ],
          [
           "Garbage"
          ],
          [
           "Garbage"
          ],
          [
           "Garbage"
          ],
          [
           "Garbage"
          ],
          [
           "Garbage"
          ],
          [
           "Recycle"
          ],
          [
           "Compost"
          ],
          [
           "Garbage"
          ],
          [
           "Recycle"
          ],
          [
           "Compost"
          ],
          [
           "Garbage"
          ],
          [
           "Recycle"
          ],
          [
           "Recycle"
          ],
          [
           "Recycle"
          ],
          [
           "Compost"
          ],
          [
           "Garbage"
          ],
          [
           "Recycle"
          ],
          [
           "Compost"
          ],
          [
           "Recycle"
          ],
          [
           "Garbage"
          ],
          [
           "Recycle"
          ],
          [
           "Recycle"
          ],
          [
           "Compost"
          ],
          [
           "Garbage"
          ],
          [
           "Recycle"
          ],
          [
           "Compost"
          ],
          [
           "Garbage"
          ],
          [
           "Garbage"
          ],
          [
           "Garbage"
          ],
          [
           "Garbage"
          ],
          [
           "Recycle"
          ],
          [
           "Garbage"
          ],
          [
           "Garbage"
          ],
          [
           "Recycle"
          ],
          [
           "Garbage"
          ],
          [
           "Recycle"
          ],
          [
           "Compost"
          ],
          [
           "Compost"
          ],
          [
           "Garbage"
          ],
          [
           "Recycle"
          ],
          [
           "Compost"
          ],
          [
           "Garbage"
          ],
          [
           "Compost"
          ],
          [
           "Recycle"
          ],
          [
           "Garbage"
          ],
          [
           "Recycle"
          ],
          [
           "Recycle"
          ],
          [
           "Compost"
          ],
          [
           "Compost"
          ],
          [
           "Garbage"
          ],
          [
           "Garbage"
          ],
          [
           "Compost"
          ],
          [
           "Garbage"
          ],
          [
           "Compost"
          ],
          [
           "Garbage"
          ],
          [
           "Garbage"
          ],
          [
           "Recycle"
          ],
          [
           "Garbage"
          ],
          [
           "Recycle"
          ],
          [
           "Garbage"
          ],
          [
           "Recycle"
          ],
          [
           "Garbage"
          ],
          [
           "Recycle"
          ],
          [
           "Compost"
          ],
          [
           "Garbage"
          ],
          [
           "Recycle"
          ],
          [
           "Compost"
          ],
          [
           "Compost"
          ],
          [
           "Garbage"
          ],
          [
           "Recycle"
          ],
          [
           "Compost"
          ],
          [
           "Garbage"
          ],
          [
           "Compost"
          ],
          [
           "Garbage"
          ],
          [
           "Recycle"
          ],
          [
           "Compost"
          ],
          [
           "Garbage"
          ],
          [
           "Recycle"
          ],
          [
           "Recycle"
          ],
          [
           "Garbage"
          ],
          [
           "Recycle"
          ],
          [
           "Garbage"
          ],
          [
           "Compost"
          ],
          [
           "Garbage"
          ],
          [
           "Recycle"
          ],
          [
           "Compost"
          ],
          [
           "Garbage"
          ],
          [
           "Recycle"
          ],
          [
           "Recycle"
          ],
          [
           "Compost"
          ],
          [
           "Compost"
          ],
          [
           "Compost"
          ],
          [
           "Garbage"
          ]
         ],
         "hovertemplate": "<b>%{hovertext}</b><br><br>Class=%{marker.color}<br>PC 1=%{x}<br>PC 2=%{y}<br>PC 3=%{z}<br>commodity=%{customdata[0]}<extra></extra>",
         "hovertext": [
          "MINI MART",
          "MINI MART",
          "MINI MART",
          "MEDICAL",
          "MEDICAL",
          "GROCERY",
          "GROCERY",
          "OFFICE BLD",
          "OFFICE BLD",
          "OFFICE BLD",
          "OFFICE BLD",
          "OFFICE BLD",
          "PRESCHOOL",
          "PRESCHOOL",
          "FLORIST",
          "FLORIST",
          "FLORIST",
          "CHURCH",
          "CHURCH",
          "CHURCH",
          "HOME IMPRO",
          "HOME IMPRO",
          "HOME IMPRO",
          "HOME IMPRO",
          "HOME IMPRO",
          "HOME IMPRO",
          "MULTIFAMIL",
          "MULTIFAMIL",
          "MULTIFAMIL",
          "MULTIFAMIL",
          "PRESCHOOL",
          "PRESCHOOL",
          "PRESCHOOL",
          "MEDICAL",
          "MEDICAL",
          "MEDICAL",
          "LODGING-FW",
          "LODGING-FW",
          "LODGING-FW",
          "SCHOOL",
          "SCHOOL",
          "MULTIFAMIL",
          "MULTIFAMIL",
          "MULTIFAMIL",
          "STRIP MALL",
          "STRIP MALL",
          "STRIP MALL",
          "FOURPLEX",
          "FOURPLEX",
          "FOURPLEX",
          "OFFICE BLD",
          "OFFICE BLD",
          "OFFICE BLD",
          "OFFICE BLD",
          "OFFICE BLD",
          "RESTAURANT",
          "RESTAURANT",
          "WINERY",
          "WINERY",
          "STRIP MALL",
          "STRIP MALL",
          "OFFICE BLD",
          "OFFICE BLD",
          "RETAIL",
          "RETAIL",
          "RETAIL",
          "RETAIL",
          "UTILITY",
          "UTILITY",
          "UTILITY",
          "UTILITY",
          "HOME IMPRO",
          "HOME IMPRO",
          "RESTAURANT",
          "RESTAURANT",
          "RESTAURANT",
          "RESTAURANT",
          "RESTAURANT",
          "RESTAURANT",
          "RESTAURANT",
          "RESTAURANT",
          "RESTAURANT",
          "RESTAURANT",
          "RESTAURANT",
          "RESTAURANT",
          "CONTRACTOR",
          "COMMUNITY",
          "COMMUNITY",
          "LODGING",
          "LODGING",
          "GROCERY",
          "GROCERY",
          "GROCERY",
          "MULTIFAMIL",
          "MULTIFAMIL",
          "MULTIFAMIL",
          "MULTIFAMIL",
          "DUPLEX",
          "DUPLEX",
          "DUPLEX",
          "DUPLEX",
          "DUPLEX",
          "RESTAURANT",
          "RESTAURANT",
          "MULTIFAMIL",
          "MULTIFAMIL",
          "MULTIFAMIL",
          "MULTIFAMIL",
          "MULTIFAMIL",
          "MULTIFAMIL",
          "WINERY",
          "RESTAURANT",
          "RESTAURANT",
          "RESTAURANT",
          "RESTAURANT",
          "RESTAURANT",
          "RESTAURANT",
          "RESTAURANT",
          "RETAIL",
          "RETAIL",
          "COMMUNITY",
          "COMMUNITY",
          "RETAIL",
          "RETAIL",
          "RETAIL",
          "RETAIL",
          "POSTOFFICE",
          "MULTIFAMIL",
          "MULTIFAMIL",
          "MULTIFAMIL",
          "MULTIFAMIL",
          "CHURCH",
          "CHURCH",
          "LODGING",
          "LODGING",
          "MEDICAL",
          "MEDICAL",
          "MEDICAL",
          "MEDICAL",
          "MEDICAL",
          "MULTIFAMIL",
          "MULTIFAMIL",
          "MULTIFAMIL",
          "MULTIFAMIL",
          "MULTIFAMIL",
          "MULTIFAMIL",
          "LODGING",
          "LODGING",
          "LODGING",
          "LODGING",
          "LODGING",
          "LODGING",
          "LODGING",
          "CHURCH",
          "CHURCH",
          "CHURCH",
          "STRIP MALL",
          "STRIP MALL",
          "STRIP MALL",
          "STRIP MALL",
          "STRIP MALL",
          "MULTIFAMIL",
          "MULTIFAMIL",
          "MULTIFAMIL",
          "MULTIFAMIL",
          "MULTIFAMIL",
          "LODGING",
          "LODGING",
          "OFFICE BLD",
          "OFFICE BLD",
          "RETAIL",
          "RETAIL",
          "RETAIL",
          "RETAIL",
          "ENTERTAINM",
          "ENTERTAINM",
          "POSTOFFICE",
          "POSTOFFICE",
          "POSTOFFICE",
          "POSTOFFICE",
          "OFFICE BLD",
          "OFFICE BLD",
          "OFFICE BLD",
          "OFFICE BLD",
          "LODGING",
          "LODGING",
          "LODGING",
          "LODGING",
          "LODGING",
          "LODGING",
          "LODGING",
          "MEDICAL",
          "MEDICAL",
          "MEDICAL",
          "MULTIFAMIL",
          "MULTIFAMIL",
          "GROCERY",
          "GROCERY",
          "AUTO",
          "AUTO",
          "AUTO",
          "LODGING-FW",
          "LODGING-FW",
          "LODGING-FW",
          "LODGING-FW",
          "LODGING-FW",
          "AUTO",
          "OFFICE BLD",
          "OFFICE BLD",
          "OFFICE BLD",
          "OFFICE BLD",
          "OFFICE BLD",
          "OFFICE BLD",
          "AUTO",
          "AUTO",
          "HOME IMPRO",
          "HOME IMPRO",
          "HOME IMPRO",
          "HOME IMPRO",
          "RETAIL",
          "RETAIL",
          "RETAIL",
          "RETAIL",
          "POSTOFFICE",
          "POSTOFFICE",
          "POSTOFFICE",
          "PARK",
          "UTILITY",
          "UTILITY",
          "UTILITY",
          "PARK",
          "PARK",
          "PARK",
          "OFFICE BLD",
          "OFFICE BLD",
          "OFFICE BLD",
          "OFFICE BLD",
          "CONTRACTOR",
          "AUTO",
          "AUTO",
          "AUTO",
          "AUTO",
          "AUTO",
          "UTILITY",
          "UTILITY",
          "AUTO",
          "AUTO",
          "AUTO",
          "AUTO",
          "MULTIFAMIL",
          "MULTIFAMIL",
          "MULTIFAMIL",
          "MULTIFAMIL",
          "COMMUNITY",
          "COMMUNITY",
          "COMMUNITY",
          "VINEYARD",
          "VINEYARD",
          "BAKERY",
          "BAKERY",
          "BAKERY",
          "BAKERY",
          "BAKERY",
          "BAKERY",
          "BAKERY",
          "BAKERY",
          "BAKERY",
          "BAKERY",
          "MULTIFAMIL",
          "MULTIFAMIL",
          "MULTIFAMIL",
          "MULTIFAMIL",
          "MULTIFAMIL",
          "MULTIFAMIL",
          "GROCERY",
          "GROCERY",
          "GROCERY",
          "SCHOOL",
          "SCHOOL",
          "SCHOOL",
          "SCHOOL",
          "SCHOOL",
          "OFFICE BLD",
          "OFFICE BLD",
          "OFFICE BLD",
          "MEDICAL",
          "MEDICAL",
          "MEDICAL",
          "MEDICAL",
          "HOA",
          "INDUSTRIAL",
          "INDUSTRIAL",
          "WINERY",
          "NRSG HOME",
          "NRSG HOME",
          "NRSG HOME",
          "MULTIFAMIL",
          "MULTIFAMIL",
          "MULTIFAMIL",
          "MULTIFAMIL",
          "MULTIFAMIL",
          "OFFICE BLD",
          "OFFICE BLD",
          "OFFICE BLD",
          "MULTIFAMIL",
          "LODGING-FW",
          "LODGING-FW",
          "LODGING-FW",
          "CHURCH",
          "CHURCH",
          "CHURCH",
          "CHURCH",
          "CHURCH",
          "COMMUNITY",
          "COMMUNITY",
          "COMMUNITY",
          "CHURCH",
          "CHURCH",
          "CHURCH",
          "CHURCH",
          "OFFICE BLD",
          "CONTRACTOR",
          "CONTRACTOR",
          "CHURCH",
          "CHURCH",
          "CHURCH",
          "LODGING",
          "LODGING",
          "LODGING",
          "OFFICE BLD",
          "OFFICE BLD",
          "STRIP MALL",
          "STRIP MALL",
          "LODGING-FW",
          "LODGING-FW",
          "LODGING-FW",
          "LODGING",
          "LODGING",
          "LODGING",
          "LODGING",
          "LODGING",
          "CHURCH",
          "CHURCH",
          "CHURCH",
          "COMMUNITY",
          "NRSG HOME",
          "NRSG HOME",
          "NRSG HOME",
          "NRSG HOME",
          "NRSG HOME",
          "NRSG HOME",
          "NRSG HOME",
          "CHURCH",
          "MINI MART",
          "MINI MART",
          "AUTO",
          "AUTO",
          "CONTRACTOR",
          "CONTRACTOR",
          "CONTRACTOR",
          "CONTRACTOR",
          "GROCERY",
          "MULTIFAMIL",
          "MULTIFAMIL",
          "MULTIFAMIL",
          "MULTIFAMIL",
          "MULTIFAMIL",
          "MULTIFAMIL",
          "MEMBER",
          "MEMBER",
          "MEMBER",
          "HOME IMPRO",
          "HOME IMPRO",
          "HOME IMPRO",
          "MEDICAL",
          "MEDICAL",
          "MEDICAL",
          "MEDICAL",
          "MEDICAL",
          "MEDICAL",
          "OFFICE BLD",
          "OFFICE BLD",
          "LODGING",
          "LODGING",
          "ENTERTAINM",
          "ENTERTAINM",
          "OFFICE BLD",
          "OFFICE BLD",
          "OFFICE BLD",
          "OFFICE BLD",
          "OFFICE BLD",
          "OFFICE BLD",
          "OFFICE BLD",
          "HOME IMPRO",
          "HOME IMPRO",
          "UTILITY",
          "UTILITY",
          "UTILITY",
          "MULTIFAMIL",
          "MULTIFAMIL",
          "MULTIFAMIL",
          "MULTIFAMIL",
          "MULTIFAMIL",
          "MULTIFAMIL",
          "MEDICAL",
          "MEDICAL",
          "MULTIFAMIL",
          "MULTIFAMIL",
          "MULTIFAMIL",
          "MULTIFAMIL",
          "MULTIFAMIL",
          "MULTIFAMIL",
          "MULTIFAMIL",
          "MULTIFAMIL",
          "MULTIFAMIL",
          "MULTIFAMIL",
          "MULTIFAMIL",
          "RETAIL",
          "MULTIFAMIL",
          "MULTIFAMIL",
          "MULTIFAMIL",
          "MULTIFAMIL",
          "MULTIFAMIL",
          "MULTIFAMIL",
          "MULTIFAMIL",
          "SCHOOL",
          "SCHOOL",
          "SCHOOL",
          "SCHOOL",
          "SCHOOL",
          "SCHOOL",
          "SCHOOL",
          "SCHOOL",
          "SCHOOL",
          "COMMUNITY",
          "COMMUNITY",
          "COMMUNITY",
          "COMMUNITY",
          "WINERY",
          "BAR NO FW",
          "LODGING-FW",
          "LODGING-FW",
          "LODGING-FW",
          "LODGING-FW",
          "LODGING-FW",
          "LODGING-FW",
          "LODGING-FW",
          "LODGING-FW",
          "LODGING-FW",
          "LODGING-FW",
          "LODGING-FW",
          "WINERY",
          "WINERY",
          "WINERY",
          "MULTIFAMIL",
          "MULTIFAMIL",
          "MULTIFAMIL",
          "MULTIFAMIL",
          "MULTIFAMIL",
          "RETAIL",
          "RETAIL",
          "COMMUNITY",
          "COMMUNITY",
          "MULTIFAMIL",
          "MULTIFAMIL",
          "MULTIFAMIL",
          "WINERY",
          "MEMBER",
          "HOA",
          "HOA",
          "LANDSCAPER",
          "FOURPLEX",
          "FOURPLEX",
          "FOURPLEX",
          "FOURPLEX",
          "OFFICE BLD",
          "OFFICE BLD",
          "OFFICE BLD",
          "OFFICE BLD",
          "OFFICE BLD",
          "OFFICE BLD",
          "RETAIL",
          "RETAIL",
          "RETAIL",
          "CHURCH",
          "CHURCH",
          "CHURCH",
          "MULTIFAMIL",
          "MULTIFAMIL",
          "MULTIFAMIL",
          "MULTIFAMIL",
          "MULTIFAMIL",
          "OFFICE BLD",
          "OFFICE BLD",
          "CHURCH",
          "CHURCH",
          "CHURCH",
          "MULTIFAMIL",
          "MULTIFAMIL",
          "MULTIFAMIL",
          "WINERY",
          "RETAIL",
          "RETAIL",
          "RESTAURANT",
          "RESTAURANT",
          "RESTAURANT",
          "RESTAURANT",
          "RESTAURANT",
          "RESTAURANT",
          "RESTAURANT",
          "RESTAURANT",
          "RETAIL",
          "RETAIL",
          "MULTIFAMIL",
          "MULTIFAMIL",
          "MULTIFAMIL",
          "MULTIFAMIL",
          "MULTIFAMIL",
          "UTILITY",
          "UTILITY",
          "UTILITY",
          "DELI/CAFE",
          "DELI/CAFE",
          "CATERING",
          "CATERING",
          "CATERING",
          "CATERING",
          "CATERING",
          "CATERING",
          "CATERING",
          "CHURCH",
          "MULTIFAMIL",
          "MULTIFAMIL",
          "WINERY",
          "RETAIL",
          "RETAIL",
          "WINERY",
          "WINERY",
          "WINERY",
          "MEMBER",
          "MEMBER",
          "OFFICE BLD",
          "OFFICE BLD",
          "OFFICE BLD",
          "OFFICE BLD",
          "OFFICE BLD",
          "COMMUNITY",
          "COMMUNITY",
          "MULTIFAMIL",
          "MULTIFAMIL",
          "MULTIFAMIL",
          "MULTIFAMIL",
          "MULTIFAMIL",
          "OFFICE BLD",
          "OFFICE BLD",
          "OFFICE BLD",
          "OFFICE BLD",
          "OFFICE BLD",
          "OFFICE BLD",
          "OFFICE BLD",
          "MULTIFAMIL",
          "MULTIFAMIL",
          "VINEYARD",
          "VINEYARD",
          "VINEYARD",
          "LODGING",
          "LODGING",
          "LODGING",
          "LODGING",
          "LODGING",
          "RESTAURANT",
          "RESTAURANT",
          "OFFICE BLD",
          "OFFICE BLD",
          "OFFICE BLD",
          "OFFICE BLD",
          "OFFICE BLD",
          "WINERY",
          "WINERY",
          "WINERY",
          "RETAIL",
          "RETAIL",
          "LODGING",
          "LODGING",
          "LODGING",
          "WINERY",
          "WINERY",
          "WINERY",
          "WINERY",
          "OFFICE BLD",
          "OFFICE BLD",
          "SCHOOL",
          "SCHOOL",
          "SCHOOL",
          "MULTIFAMIL",
          "MULTIFAMIL",
          "CHURCH",
          "MEDICAL",
          "MEDICAL",
          "MULTIFAMIL",
          "MULTIFAMIL",
          "MULTIFAMIL",
          "MULTIFAMIL",
          "MULTIFAMIL",
          "POSTOFFICE",
          "POSTOFFICE",
          "POSTOFFICE",
          "POSTOFFICE",
          "MULTIFAMIL",
          "WINERY",
          "WINERY",
          "WINERY",
          "WINERY",
          "WINERY",
          "CHURCH",
          "CHURCH",
          "CHURCH",
          "RESTAURANT",
          "RESTAURANT",
          "RESTAURANT",
          "RESTAURANT",
          "RESTAURANT",
          "RESTAURANT",
          "RESTAURANT",
          "LODGING-FW",
          "WINERY",
          "WINERY",
          "LODGING",
          "LODGING",
          "LODGING",
          "WINERY",
          "WINERY",
          "MULTIFAMIL",
          "LODGING-FW",
          "LODGING-FW",
          "LODGING-FW",
          "OFFICE BLD",
          "OFFICE BLD",
          "MEMBER",
          "MEMBER",
          "MEMBER",
          "MEMBER",
          "MEMBER",
          "MEMBER",
          "MEMBER",
          "MEMBER",
          "MEMBER",
          "MEMBER",
          "MEMBER",
          "MEMBER",
          "MEMBER",
          "MEMBER",
          "MEMBER",
          "MEMBER",
          "MEMBER",
          "MEMBER",
          "MEMBER",
          "MEMBER",
          "MEMBER",
          "SCHOOL",
          "SCHOOL",
          "SCHOOL",
          "SCHOOL",
          "VINEYARD",
          "VINEYARD",
          "VINEYARD",
          "VINEYARD",
          "VINEYARD",
          "MIXED USE",
          "MIXED USE",
          "MIXED USE",
          "RESTAURANT",
          "RESTAURANT",
          "LODGING",
          "LODGING",
          "LODGING",
          "RESTAURANT",
          "RESTAURANT",
          "RESTAURANT",
          "RESTAURANT",
          "LODGING",
          "LODGING",
          "LODGING",
          "LODGING",
          "LODGING",
          "LODGING",
          "LODGING",
          "LODGING",
          "MULTIFAMIL",
          "MINI MART",
          "MULTIFAMIL",
          "MULTIFAMIL",
          "MULTIFAMIL",
          "MULTIFAMIL",
          "MULTIFAMIL",
          "MULTIFAMIL",
          "DELI/CAFE",
          "DELI/CAFE",
          "DELI/CAFE",
          "DELI/CAFE",
          "DELI/CAFE",
          "DELI/CAFE",
          "DELI/CAFE",
          "COMMUNITY",
          "COMMUNITY",
          "COMMUNITY",
          "COMMUNITY",
          "MULTIFAMIL",
          "MULTIFAMIL",
          "MULTIFAMIL",
          "MULTIFAMIL",
          "HOME IMPRO",
          "HOME IMPRO",
          "WINERY",
          "AUTO",
          "AUTO",
          "WINERY",
          "UTILITY",
          "UTILITY",
          "UTILITY",
          "WINERY",
          "RESTAURANT",
          "RESTAURANT",
          "RESTAURANT",
          "RESTAURANT",
          "MULTIFAMIL",
          "MULTIFAMIL",
          "MULTIFAMIL",
          "MULTIFAMIL",
          "MULTIFAMIL",
          "BAR NO FW",
          "BAR NO FW",
          "BAR NO FW",
          "BAR NO FW",
          "BAR NO FW",
          "BAKERY",
          "BAKERY",
          "BAKERY",
          "BAKERY",
          "RESTAURANT",
          "RESTAURANT",
          "RESTAURANT",
          "RESTAURANT",
          "RESTAURANT",
          "RESTAURANT",
          "MULTIFAMIL",
          "MULTIFAMIL",
          "MULTIFAMIL",
          "MULTIFAMIL",
          "MULTIFAMIL",
          "RESTAURANT",
          "RESTAURANT",
          "RESTAURANT",
          "RESTAURANT",
          "RESTAURANT",
          "MULTIFAMIL",
          "MULTIFAMIL",
          "MULTIFAMIL",
          "MULTIFAMIL",
          "MULTIFAMIL",
          "MULTIFAMIL",
          "MULTIFAMIL",
          "MULTIFAMIL",
          "MULTIFAMIL",
          "MULTIFAMIL",
          "MULTIFAMIL",
          "MULTIFAMIL",
          "RETAIL",
          "RETAIL",
          "RETAIL",
          "RESTAURANT",
          "RESTAURANT",
          "RESTAURANT",
          "RESTAURANT",
          "RESTAURANT",
          "LODGING",
          "LODGING",
          "LODGING",
          "LODGING-FW",
          "LODGING-FW",
          "LODGING-FW",
          "LODGING-FW",
          "LODGING-FW",
          "UTILITY",
          "UTILITY",
          "UTILITY",
          "MULTIFAMIL",
          "MULTIFAMIL",
          "MULTIFAMIL",
          "MULTIFAMIL",
          "MULTIFAMIL",
          "LODGING-FW",
          "LODGING-FW",
          "LODGING-FW",
          "RESTAURANT",
          "RESTAURANT",
          "RESTAURANT",
          "RESTAURANT",
          "POLICEFIRE",
          "POLICEFIRE",
          "POLICEFIRE",
          "MULTIFAMIL",
          "MULTIFAMIL",
          "MULTIFAMIL",
          "DELI/CAFE",
          "DELI/CAFE",
          "DELI/CAFE",
          "RESTAURANT",
          "RESTAURANT",
          "RESTAURANT",
          "RETAIL",
          "RETAIL",
          "WINERY",
          "WINERY",
          "PRESCHOOL",
          "PRESCHOOL",
          "PRESCHOOL",
          "RETAIL",
          "RETAIL",
          "ENTERTAINM",
          "ENTERTAINM",
          "BAKERY",
          "BAKERY",
          "BAKERY",
          "MULTIFAMIL",
          "MULTIFAMIL",
          "MULTIFAMIL",
          "MULTIFAMIL",
          "GROCERY",
          "GROCERY",
          "GROCERY",
          "LODGING",
          "LODGING",
          "FOURPLEX",
          "FOURPLEX",
          "FOURPLEX",
          "OFFICE BLD",
          "OFFICE BLD",
          "OFFICE BLD",
          "COMMUNITY",
          "COMMUNITY",
          "WINERY",
          "WINERY",
          "MULTIFAMIL",
          "MULTIFAMIL",
          "MULTIFAMIL",
          "MULTIFAMIL",
          "MULTIFAMIL",
          "MULTIFAMIL",
          "MULTIFAMIL",
          "MULTIFAMIL",
          "LODGING-FW",
          "WINERY"
         ],
         "legendgroup": "0",
         "marker": {
          "color": [
           0,
           0,
           0,
           0,
           0,
           0,
           0,
           0,
           0,
           0,
           0,
           0,
           0,
           0,
           0,
           0,
           0,
           0,
           0,
           0,
           0,
           0,
           0,
           0,
           0,
           0,
           0,
           0,
           0,
           0,
           0,
           0,
           0,
           0,
           0,
           0,
           0,
           0,
           0,
           0,
           0,
           0,
           0,
           0,
           0,
           0,
           0,
           0,
           0,
           0,
           0,
           0,
           0,
           0,
           0,
           0,
           0,
           0,
           0,
           0,
           0,
           0,
           0,
           0,
           0,
           0,
           0,
           0,
           0,
           0,
           0,
           0,
           0,
           0,
           0,
           0,
           0,
           0,
           0,
           0,
           0,
           0,
           0,
           0,
           0,
           0,
           0,
           0,
           0,
           0,
           0,
           0,
           0,
           0,
           0,
           0,
           0,
           0,
           0,
           0,
           0,
           0,
           0,
           0,
           0,
           0,
           0,
           0,
           0,
           0,
           0,
           0,
           0,
           0,
           0,
           0,
           0,
           0,
           0,
           0,
           0,
           0,
           0,
           0,
           0,
           0,
           0,
           0,
           0,
           0,
           0,
           0,
           0,
           0,
           0,
           0,
           0,
           0,
           0,
           0,
           0,
           0,
           0,
           0,
           0,
           0,
           0,
           0,
           0,
           0,
           0,
           0,
           0,
           0,
           0,
           0,
           0,
           0,
           0,
           0,
           0,
           0,
           0,
           0,
           0,
           0,
           0,
           0,
           0,
           0,
           0,
           0,
           0,
           0,
           0,
           0,
           0,
           0,
           0,
           0,
           0,
           0,
           0,
           0,
           0,
           0,
           0,
           0,
           0,
           0,
           0,
           0,
           0,
           0,
           0,
           0,
           0,
           0,
           0,
           0,
           0,
           0,
           0,
           0,
           0,
           0,
           0,
           0,
           0,
           0,
           0,
           0,
           0,
           0,
           0,
           0,
           0,
           0,
           0,
           0,
           0,
           0,
           0,
           0,
           0,
           0,
           0,
           0,
           0,
           0,
           0,
           0,
           0,
           0,
           0,
           0,
           0,
           0,
           0,
           0,
           0,
           0,
           0,
           0,
           0,
           0,
           0,
           0,
           0,
           0,
           0,
           0,
           0,
           0,
           0,
           0,
           0,
           0,
           0,
           0,
           0,
           0,
           0,
           0,
           0,
           0,
           0,
           0,
           0,
           0,
           0,
           0,
           0,
           0,
           0,
           0,
           0,
           0,
           0,
           0,
           0,
           0,
           0,
           0,
           0,
           0,
           0,
           0,
           0,
           0,
           0,
           0,
           0,
           0,
           0,
           0,
           0,
           0,
           0,
           0,
           0,
           0,
           0,
           0,
           0,
           0,
           0,
           0,
           0,
           0,
           0,
           0,
           0,
           0,
           0,
           0,
           0,
           0,
           0,
           0,
           0,
           0,
           0,
           0,
           0,
           0,
           0,
           0,
           0,
           0,
           0,
           0,
           0,
           0,
           0,
           0,
           0,
           0,
           0,
           0,
           0,
           0,
           0,
           0,
           0,
           0,
           0,
           0,
           0,
           0,
           0,
           0,
           0,
           0,
           0,
           0,
           0,
           0,
           0,
           0,
           0,
           0,
           0,
           0,
           0,
           0,
           0,
           0,
           0,
           0,
           0,
           0,
           0,
           0,
           0,
           0,
           0,
           0,
           0,
           0,
           0,
           0,
           0,
           0,
           0,
           0,
           0,
           0,
           0,
           0,
           0,
           0,
           0,
           0,
           0,
           0,
           0,
           0,
           0,
           0,
           0,
           0,
           0,
           0,
           0,
           0,
           0,
           0,
           0,
           0,
           0,
           0,
           0,
           0,
           0,
           0,
           0,
           0,
           0,
           0,
           0,
           0,
           0,
           0,
           0,
           0,
           0,
           0,
           0,
           0,
           0,
           0,
           0,
           0,
           0,
           0,
           0,
           0,
           0,
           0,
           0,
           0,
           0,
           0,
           0,
           0,
           0,
           0,
           0,
           0,
           0,
           0,
           0,
           0,
           0,
           0,
           0,
           0,
           0,
           0,
           0,
           0,
           0,
           0,
           0,
           0,
           0,
           0,
           0,
           0,
           0,
           0,
           0,
           0,
           0,
           0,
           0,
           0,
           0,
           0,
           0,
           0,
           0,
           0,
           0,
           0,
           0,
           0,
           0,
           0,
           0,
           0,
           0,
           0,
           0,
           0,
           0,
           0,
           0,
           0,
           0,
           0,
           0,
           0,
           0,
           0,
           0,
           0,
           0,
           0,
           0,
           0,
           0,
           0,
           0,
           0,
           0,
           0,
           0,
           0,
           0,
           0,
           0,
           0,
           0,
           0,
           0,
           0,
           0,
           0,
           0,
           0,
           0,
           0,
           0,
           0,
           0,
           0,
           0,
           0,
           0,
           0,
           0,
           0,
           0,
           0,
           0,
           0,
           0,
           0,
           0,
           0,
           0,
           0,
           0,
           0,
           0,
           0,
           0,
           0,
           0,
           0,
           0,
           0,
           0,
           0,
           0,
           0,
           0,
           0,
           0,
           0,
           0,
           0,
           0,
           0,
           0,
           0,
           0,
           0,
           0,
           0,
           0,
           0,
           0,
           0,
           0,
           0,
           0,
           0,
           0,
           0,
           0,
           0,
           0,
           0,
           0,
           0,
           0,
           0,
           0,
           0,
           0,
           0,
           0,
           0,
           0,
           0,
           0,
           0,
           0,
           0,
           0,
           0,
           0,
           0,
           0,
           0,
           0,
           0,
           0,
           0,
           0,
           0,
           0,
           0,
           0,
           0,
           0,
           0,
           0,
           0,
           0,
           0,
           0,
           0,
           0,
           0,
           0,
           0,
           0,
           0,
           0,
           0,
           0,
           0,
           0,
           0,
           0,
           0,
           0,
           0,
           0,
           0,
           0,
           0,
           0,
           0,
           0,
           0,
           0,
           0,
           0,
           0,
           0,
           0,
           0,
           0,
           0,
           0,
           0,
           0,
           0,
           0,
           0,
           0,
           0,
           0,
           0,
           0,
           0,
           0,
           0,
           0,
           0,
           0,
           0,
           0,
           0,
           0,
           0,
           0,
           0,
           0,
           0,
           0,
           0,
           0,
           0,
           0,
           0,
           0,
           0,
           0,
           0,
           0,
           0,
           0,
           0,
           0,
           0,
           0,
           0,
           0,
           0,
           0,
           0,
           0,
           0,
           0,
           0,
           0,
           0,
           0,
           0,
           0,
           0,
           0,
           0,
           0,
           0,
           0,
           0,
           0,
           0,
           0,
           0,
           0,
           0,
           0,
           0,
           0,
           0,
           0,
           0,
           0,
           0,
           0,
           0,
           0,
           0,
           0,
           0,
           0,
           0,
           0,
           0,
           0,
           0,
           0,
           0,
           0,
           0,
           0,
           0,
           0,
           0,
           0,
           0,
           0,
           0,
           0,
           0,
           0,
           0,
           0,
           0,
           0,
           0,
           0,
           0,
           0,
           0,
           0,
           0,
           0,
           0,
           0,
           0,
           0,
           0,
           0,
           0,
           0,
           0,
           0,
           0,
           0,
           0,
           0,
           0,
           0,
           0,
           0,
           0,
           0,
           0,
           0,
           0,
           0,
           0,
           0,
           0,
           0,
           0,
           0,
           0,
           0,
           0,
           0,
           0,
           0,
           0,
           0,
           0,
           0,
           0,
           0,
           0,
           0,
           0,
           0,
           0,
           0,
           0,
           0,
           0,
           0,
           0,
           0,
           0,
           0,
           0,
           0,
           0,
           0,
           0,
           0,
           0,
           0,
           0,
           0,
           0
          ],
          "coloraxis": "coloraxis",
          "symbol": "circle"
         },
         "mode": "markers",
         "name": "0",
         "scene": "scene",
         "showlegend": true,
         "type": "scatter3d",
         "x": [
          1.2606851042710712,
          0.39219614933380786,
          0.3921961493338127,
          -0.6649609758278558,
          -1.6029876645454777,
          0.6582908165346972,
          -0.21772064048474524,
          -0.5717361114358427,
          -1.4142647196624905,
          -1.5137872580710106,
          -1.4142647196624905,
          -1.4142647196624905,
          -0.8389722049415369,
          -1.563165838368166,
          -0.03681833719393645,
          -1.5210904715007627,
          -1.425592391009789,
          -1.5367202371152875,
          -0.6982160868061851,
          -1.6362427755238071,
          -0.5138228387575747,
          -1.451849527475197,
          -0.5138228387575747,
          -0.5138228387575747,
          -1.451849527475197,
          -1.451849527475197,
          -1.413225984018759,
          -1.4092015261012127,
          -1.3137034456102388,
          -1.2589363553181774,
          -0.1092868767117538,
          -0.9870786019397899,
          -0.8875560635312709,
          -0.6359422286358137,
          -1.5739689173534352,
          -1.4744463789449154,
          -0.34639256143830555,
          -1.289235511470249,
          -1.289235511470249,
          -1.7388230321067302,
          -1.8383455705152503,
          0.015638350207807038,
          -0.9250666884486374,
          -0.8255441500401182,
          0.2618416991486869,
          -1.1910011264951044,
          -1.282474749068533,
          -0.9708301202832388,
          -1.7864238184166765,
          -1.6869012800081566,
          -0.5820072263029559,
          -1.520033915020577,
          -1.4616903930594658,
          -0.6007548586278845,
          -1.5387815473455062,
          0.4404552557248535,
          -0.5015958909103135,
          0.32712575770332314,
          -0.550146818455131,
          -0.4409945230536257,
          -1.2549828007489559,
          -0.7414569804416431,
          -1.5554452581369735,
          -0.8011394933353226,
          -1.6771509503547646,
          -0.7307936831541134,
          -1.6688203718717352,
          -0.45343269448103646,
          -1.3294441515004785,
          -0.45343269448103646,
          -1.2299216130919586,
          -0.6341572274877766,
          -1.5101686845072184,
          0.9927242994862711,
          -0.5515921487309491,
          -0.55964106456604,
          -0.4601185261575204,
          -0.55964106456604,
          0.6659518155635509,
          0.6659518155635509,
          0.6659518155635509,
          0.2939477999497739,
          1.109366235639774,
          1.109366235639774,
          1.109366235639774,
          0.09134155920057173,
          -0.7948624195840792,
          -1.6088506972794099,
          -0.2984049996489952,
          -1.1660769371256883,
          0.041548080799635186,
          0.6800240652371091,
          0.6800240652371091,
          -0.6844180238682989,
          -1.4984063015636289,
          -1.4601850691902452,
          -1.4109571369077456,
          -0.9434192021078526,
          -0.9434192021078526,
          -1.7574074798031838,
          -1.7574074798031838,
          -1.657884941394663,
          0.41143650853281144,
          -0.5225657222672645,
          -0.7082744764651515,
          -1.6490589913809082,
          -0.7082744764651515,
          -0.7082744764651515,
          -1.6490589913809082,
          -1.5495364529723883,
          0.3077371152008224,
          1.0061459868783946,
          1.02501449284481,
          1.02501449284481,
          1.02501449284481,
          0.49366191716134067,
          0.49366191716134067,
          0.49366191716134067,
          -0.8714958049678716,
          -1.6854840826632027,
          -0.6541602977703209,
          -1.592186986487942,
          -0.05213933155896274,
          -0.992844370215407,
          -0.9325059941455587,
          -0.9325059941455587,
          -0.8948320468550832,
          1.277783217754283,
          1.277783217754283,
          -1.122875024612143,
          -1.0354258599562598,
          -0.6547768643955337,
          -1.526473259789773,
          1.4429632940167363,
          1.4429632940167363,
          -0.7538974750330599,
          -0.7538974750330599,
          -1.6967404250650033,
          -1.5972178866564843,
          -1.5424507963644232,
          0.07539712291732323,
          -0.873356831574212,
          -0.8693323736566666,
          -0.07388724439713001,
          -1.6173353721546089,
          -1.6173353721546089,
          -0.9485168185241581,
          -0.9485168185241581,
          -0.9485168185241581,
          -0.8881148614468598,
          -0.8881148614468598,
          -0.8881148614468598,
          -0.8489942801156382,
          -0.02845963386127849,
          -0.9731891304352676,
          -0.8656176761916573,
          1.308504078479371,
          1.308504078479371,
          -0.8572391171106116,
          -0.819017884737227,
          -0.7778388682898195,
          -0.6225841605561625,
          -0.6225841605561625,
          -1.5633686754719196,
          -1.5633686754719196,
          -1.4638461370634002,
          -0.7854047315264157,
          -0.6939311089529872,
          -0.6954173671949926,
          -1.6673327328833518,
          -0.16865958276555906,
          -1.7210249468178709,
          -1.7210249468178709,
          -1.7210249468178709,
          -0.8532688956022585,
          -1.7292803526217007,
          -0.8277499823896733,
          -1.770592932421617,
          -1.6710703940130975,
          -1.7061665174267724,
          -0.7886163785683138,
          -1.6678307288380387,
          -0.7886163785683138,
          -1.6678307288380387,
          1.2486584125512024,
          1.2486584125512024,
          -1.0809148269517306,
          -1.0261477366596694,
          -1.1804373653602502,
          -1.1804373653602502,
          -1.1804373653602502,
          -0.8705153981994385,
          -1.7497297484691643,
          -1.6502072100606449,
          -0.8905120867730414,
          -1.7094467469939403,
          0.3945469561705678,
          0.3945469561705678,
          0.8852354821897284,
          -1.3006300029879814,
          0.004084810409446374,
          -0.6564212836920451,
          -0.6564212836920451,
          -0.6564212836920451,
          -0.5940533038133878,
          -0.5488498294484344,
          -0.5275957586218568,
          -0.8659054752182104,
          -1.6855236312691941,
          -1.6855236312691941,
          -1.5860010928606738,
          -0.5717361114358427,
          -1.5137872580710106,
          0.09464057397426859,
          -1.3896315603325582,
          0.849019823505017,
          -1.3287967458376015,
          0.09581118270015009,
          0.09581118270015009,
          -0.1085573505579883,
          -1.600878400699905,
          -1.600878400699905,
          -1.600878400699905,
          -0.7147436787079052,
          -1.6527703674255272,
          -1.5944268454644153,
          0.654817219422937,
          1.1218689861308013,
          1.1218689861308013,
          -1.183889614187232,
          -0.6174204556383034,
          -0.5460691226526014,
          -0.5821591985631306,
          -0.6007548586278845,
          -1.5387815473455062,
          -1.5387815473455062,
          -0.6007548586278845,
          0.09134155920057173,
          0.13079252645917408,
          -0.05681371028531597,
          -1.3575040657651982,
          -1.2620059852742238,
          -1.2091065870759998,
          0.9939269551553861,
          -1.1919385300223233,
          0.8852354821897284,
          -0.4470411384721666,
          -1.2925810871528893,
          -1.2011074645794613,
          -0.134199454208793,
          1.069370305158294,
          -1.0963728904316883,
          -0.9767280624354409,
          -0.6541602977703209,
          -1.592186986487942,
          -1.492664448079423,
          -0.5278719958333365,
          -1.4658986845509583,
          -1.027445239866735,
          -1.027445239866735,
          -1.027445239866735,
          -0.9691017179056235,
          -0.9691017179056235,
          0.20217209818040197,
          0.20217209818040197,
          0.20217209818040197,
          0.4052116045061067,
          0.4052116045061067,
          -0.661257104980617,
          -0.661257104980617,
          -0.661257104980617,
          -1.4377460235915394,
          -1.5372685620000586,
          -1.5372685620000586,
          1.3508729593120319,
          -0.041925552421365864,
          -0.13339917499479498,
          -0.1481548517683934,
          -1.540953363501791,
          -1.64047590191031,
          -1.64047590191031,
          -1.64047590191031,
          -0.6007548586278845,
          -1.5387815473455062,
          -1.4392590089369868,
          0.07089774475909162,
          0.07089774475909162,
          -1.4284822583134686,
          -1.5239803388044426,
          1.0623580983614924,
          1.0143863543650933,
          -1.1634302149775255,
          0.2707077387042976,
          -0.25209268720048916,
          -0.1606190646270597,
          -0.10771966642883622,
          0.8975642546165071,
          -0.09558716756008097,
          0.01076674325705321,
          -1.3820317684763443,
          -1.4775298489673192,
          0.7929226916187958,
          -1.3889183356413681,
          -1.2934202551503935,
          -0.6404157114123713,
          0.4352171929899086,
          0.4352171929899086,
          0.4352171929899086,
          -0.07597975421005974,
          -1.5602518885168855,
          -1.5642763464344314,
          -1.4687782659434574,
          -1.5008438839364415,
          -0.03192396517419546,
          -1.5242450153161122,
          -1.5242450153161122,
          -0.058981492290058835,
          -1.4517800040234572,
          -1.5513025424319766,
          -1.3988806058252334,
          -0.8476653152555723,
          0.09134155920057173,
          -1.3969550330237994,
          -0.05833902021603651,
          -0.9990440588724804,
          -0.8995215204639609,
          -0.2172030690717704,
          -0.15779506449132513,
          0.6323613375264995,
          0.03912220796226414,
          -0.9015828306941798,
          0.7172002098970951,
          -0.23155374459444017,
          -0.34639256143830555,
          -1.289235511470249,
          -1.1897129730617297,
          -0.23397787028320316,
          -1.1808452782326921,
          -1.0933961135768084,
          0.6828152254340354,
          0.6828152254340354,
          -0.05833902021603651,
          -0.9990440588724804,
          -0.8995215204639609,
          -0.7584389467633681,
          0.2771923248357422,
          0.2771923248357422,
          0.2771923248357422,
          0.3767148632442623,
          0.3767148632442623,
          0.3767148632442623,
          0.4314263201548047,
          -1.47196951791828,
          0.45720734145103864,
          -1.0270647928557874,
          0.09464057397426859,
          -1.3896315603325582,
          -1.382337307311157,
          -1.2908636847377293,
          -1.3280182432675918,
          -1.2299153707044148,
          1.0045255357059042,
          -0.4432496313114753,
          -0.3477515508205013,
          -0.32121129933277676,
          -0.32121129933277676,
          -0.32121129933277676,
          0.3781435698639755,
          -0.30162018543338426,
          -1.2396468741510056,
          -1.1813033521898937,
          0.07757860585446275,
          0.017914400085386972,
          0.017914400085386972,
          -0.08341780233353065,
          -1.635783166385842,
          -1.635783166385842,
          -1.635783166385842,
          -1.5362606279773228,
          -1.5753812093085426,
          0.03425060101151068,
          -1.4500215332953152,
          0.31878339697828084,
          -1.169513195246091,
          -0.9236252072348078,
          -1.7376134849301388,
          0.05722736821317048,
          -1.4270447660936558,
          -1.3767501599676348,
          -1.3355711435202275,
          -1.2826717453220033,
          -1.2179955377644824,
          -0.36440667324866816,
          -0.6419630679589376,
          -1.4378918795976332,
          1.0130806457202908,
          -0.31919597494160395,
          -1.1727848394574185,
          -0.8399069661811271,
          -1.674939458072208,
          -1.674939458072208,
          -1.674939458072208,
          -1.674939458072208,
          -1.5754169196636885,
          -0.7980377933962349,
          -1.6413582050196593,
          -0.852558246329106,
          -1.584043741894121,
          -1.584043741894121,
          -1.584043741894121,
          -1.584043741894121,
          -1.6835662803026405,
          -1.6835662803026405,
          -1.6835662803026405,
          -1.6835662803026405,
          -1.6835662803026405,
          -1.584043741894121,
          -0.8714958049678716,
          -0.884567339674636,
          -0.884567339674636,
          -0.884567339674636,
          -1.7001610378080732,
          -1.7001610378080732,
          -1.7001610378080732,
          -1.6006384993995546,
          -1.3660061077073595,
          -0.6119397816000652,
          -1.6959168977067793,
          -1.6959168977067793,
          -1.6959168977067793,
          -1.6335489178281222,
          -1.588345443463169,
          -1.0413430815991245,
          -1.0413430815991245,
          -0.6541602977703209,
          -1.592186986487942,
          -1.492664448079423,
          -1.5287545239899523,
          -0.8367493062947843,
          0.6837214812429673,
          1.1143988743189885,
          1.1143988743189885,
          -0.7613350031003755,
          -0.7089819618581678,
          -0.7009330460230766,
          -0.7089819618581678,
          -0.6888596722704404,
          -0.6658369226094013,
          0.464257877029216,
          0.464257877029216,
          0.464257877029216,
          0.1683180464244729,
          0.40562122739266904,
          -0.9871772843407284,
          0.7783081125024816,
          -1.5064814726411666,
          -1.5064814726411666,
          -1.4069589342326467,
          -1.3521918439405853,
          -0.1085573505579883,
          -1.5968539427823596,
          -0.7948624195840792,
          -1.6088506972794099,
          -0.7155206925938019,
          -1.5415823440417689,
          -1.4460842635507942,
          0.2707077387042976,
          1.2365574449146366,
          0.8492869024334648,
          0.03440054300790652,
          0.1866564474776773,
          0.0178385789024468,
          -0.9596192412563218,
          -0.9596192412563218,
          -0.8600967028478024,
          0.14695563219164237,
          -0.4724695237390299,
          -1.3401414612157225,
          -0.7414569804416431,
          -1.5554452581369735,
          -0.5957069226590352,
          -0.15354954348559466,
          -0.15354954348559466,
          -1.6604872395632972,
          -1.5077014899232457,
          -1.607224028331765,
          -0.6691973396141431,
          -1.430824394909793,
          -1.430824394909793,
          -1.430824394909793,
          -1.3313018565012729,
          0.7607097016114474,
          -0.6007548586278845,
          -1.5387815473455062,
          -0.6691973396141431,
          -1.5117259478407912,
          -1.6112484862493106,
          -0.7649408381961003,
          -1.5789291158914316,
          -1.4794065774829113,
          -0.3515285938918276,
          -0.7307936831541134,
          -1.6688203718717352,
          -0.47034728321002384,
          -0.4120037612489124,
          0.4676794055075979,
          -0.4120037612489124,
          -0.4120037612489124,
          0.7552455969195678,
          0.7552455969195678,
          0.7552455969195678,
          -0.8011394933353226,
          -1.6771509503547646,
          -0.6404157114123713,
          -1.5932736000807644,
          -1.5972980579983098,
          -1.5972980579983098,
          -1.4977755195897906,
          -0.5328274126596739,
          -1.475670362691617,
          -1.376147824283098,
          -0.5386513224460223,
          -1.476678011163644,
          1.3780391638619207,
          -0.807826321315788,
          -0.807826321315788,
          0.42581547464889424,
          0.42581547464889424,
          0.42581547464889424,
          -0.807826321315788,
          -0.6539944752139611,
          0.9722981622417595,
          -0.05611687619166749,
          -0.8780236477848808,
          -1.0088152088775617,
          -1.8244089070110006,
          0.14529402578443054,
          -0.26586089148502384,
          -1.1083894997116717,
          -0.3617455391576336,
          -1.3045884891895767,
          -0.8787763843513329,
          -1.6943700824847707,
          -0.03241026622035092,
          -0.910201991448387,
          -0.8106794530398677,
          -0.7323119484226905,
          -1.5282407600613863,
          -0.5507009375858374,
          -1.5035588262542305,
          -1.4201341195158923,
          -1.4201341195158923,
          -1.4201341195158923,
          -0.6228754625731293,
          -1.5171714476639697,
          -1.4216733671729957,
          -1.462852383620404,
          -1.4577634430835251,
          -0.762095594450134,
          -1.4862892278767625,
          -0.5848239518892369,
          -0.5848239518892369,
          -0.6276657664167872,
          -1.4531065730790107,
          -1.372891184555172,
          -0.9791200702203529,
          1.2351649075242521,
          1.2351649075242521,
          -0.9262206720221293,
          -1.070593692793782,
          0.47388039710402613,
          0.5563706665704106,
          0.09888098067178043,
          -0.8498729738197546,
          -0.8498729738197546,
          -0.8498729738197546,
          -0.750350435411235,
          -0.4052106932815697,
          -0.4052106932815697,
          -1.1776751539749464,
          -0.7307936831541134,
          -1.6688203718717352,
          0.3364241309723044,
          -0.6042809076841393,
          -0.5047583692756208,
          -0.4052106932815697,
          -0.4052106932815697,
          -1.1816996118924918,
          -1.1816996118924918,
          -0.6007548586278845,
          -1.5387815473455062,
          -0.05521859132206725,
          -0.05521859132206725,
          -1.5274173518762573,
          0.1949146683363555,
          -0.7457903703200889,
          -0.8595568226284342,
          -0.7674714280065489,
          -1.7143388359560374,
          -1.6144699800460984,
          -1.5149474416375792,
          -0.06210461599378769,
          -1.6144699800460984,
          -1.6144699800460984,
          -0.9890757121594155,
          -0.04434621558542598,
          -0.9287373360895671,
          -0.9890757121594155,
          -0.8351446432058837,
          -0.9471435172346687,
          0.18697574032149425,
          0.18697574032149425,
          0.18697574032149425,
          -0.6295501196152758,
          -0.831292904374565,
          -1.7741358544065078,
          -1.6746133159979881,
          -0.15944787363888607,
          1.0621205485731597,
          1.0621205485731597,
          1.0621205485731597,
          0.6860920750418376,
          1.2651600548988653,
          1.2651600548988653,
          -1.0644858384199563,
          -0.5570830162634115,
          -1.3367748281246172,
          -0.3753970224068518,
          -1.3182399724387952,
          -1.2267663498653663,
          -0.4346299729647508,
          -1.277950384588175,
          -1.3259025500208768,
          -0.34639256143830555,
          -1.1897129730617297,
          -1.289235511470249,
          -0.7414569804416431,
          -1.5554452581369735,
          -0.4633883036308806,
          -0.46741276154842587,
          -0.46741276154842587,
          -0.46741276154842587,
          -0.46741276154842587,
          -0.46741276154842587,
          -0.46741276154842587,
          -0.4633883036308806,
          -0.4633883036308806,
          -0.46741276154842587,
          -0.46741276154842587,
          -0.4633883036308806,
          -0.46741276154842587,
          -0.46741276154842587,
          -0.46741276154842587,
          -0.46741276154842587,
          -0.46741276154842587,
          -0.46741276154842587,
          -0.46741276154842587,
          -0.46741276154842587,
          -0.46741276154842587,
          -1.8728528594369829,
          -1.8728528594369829,
          -1.2182790433293276,
          -1.2182790433293276,
          -1.217168858875106,
          -1.217168858875106,
          -1.217168858875106,
          -0.2791421701574843,
          -1.217168858875106,
          -0.4298733412042579,
          -1.3679000299218793,
          -1.26837749151336,
          1.1110723478324769,
          0.17036730917603246,
          1.1004399162634517,
          -1.077376653079167,
          -0.9859030305057379,
          0.4364307978073079,
          0.4364307978073079,
          -0.5015958909103135,
          -0.5015958909103135,
          -0.3569040307698024,
          -0.3569040307698024,
          -0.3569040307698024,
          -0.3569040307698024,
          -1.2997469808017459,
          -1.2997469808017459,
          -1.2997469808017459,
          -1.1961999844756803,
          -0.7391366961022902,
          1.2415314137061706,
          -0.5371824748062168,
          -1.479233621441384,
          -1.3877599988679556,
          -0.5371824748062168,
          -1.4752091635238385,
          -1.3877599988679556,
          0.10086368782474696,
          -1.4434527603924727,
          -0.2178598802628821,
          -0.2178598802628821,
          -0.2178598802628821,
          -1.3830508033151745,
          -0.59791281171175,
          -0.6291660084958246,
          -0.6291660084958246,
          -1.5671926972134458,
          -1.5671926972134458,
          -0.570225679915804,
          -0.5742501378333495,
          -1.5042279107158805,
          -1.4127542881424517,
          -0.6341572274877766,
          -1.5101686845072184,
          -1.018124540642797,
          -0.5275957586218568,
          -1.4656224473394788,
          -0.42637819214289674,
          -0.6777721208147426,
          -1.4933658189481804,
          -1.3938432805396612,
          -0.332780961566899,
          -0.6379413515953705,
          -0.6379413515953705,
          0.3089260563541186,
          -0.5745088890973796,
          -0.5992444271078459,
          -0.5992444271078459,
          -1.5332466579079223,
          -1.4377485774169483,
          -1.4377485774169483,
          -0.06895170934858103,
          -1.6213170734008913,
          -1.6213170734008913,
          -1.6213170734008913,
          -1.560915116323594,
          0.11443427500856049,
          -1.4379310890437507,
          -1.4379310890437507,
          -1.4379310890437507,
          0.3171778371759724,
          -0.6256651128559709,
          -0.5612386978611269,
          0.5959033093560744,
          0.5959033093560744,
          0.5959033093560744,
          1.07269522883425,
          1.2006372598096646,
          1.2006372598096646,
          0.3313537714480799,
          -1.1919720667216718,
          0.33144350590871335,
          0.33144350590871335,
          0.33144350590871335,
          -0.6113994441232301,
          -0.6113994441232301,
          -0.518438366701456,
          -0.518438366701456,
          -0.518438366701456,
          -0.518438366701456,
          -0.518438366701456,
          -0.518438366701456,
          -0.518438366701456,
          -0.518438366701456,
          -0.518438366701456,
          -0.518438366701456,
          -1.4451834850632184,
          -1.3577343204073349,
          -1.0088152088775617,
          -1.8244089070110006,
          -1.72488636860248,
          0.3283351294598883,
          -0.6185322784896001,
          -0.6185322784896001,
          -0.5581303214123019,
          -0.55509981599161,
          1.1031074692334126,
          -1.1899894142416023,
          -1.0985157916681736,
          -1.209609789053827,
          -0.2546934652692474,
          -1.209609789053827,
          -1.209609789053827,
          -1.1100872506453077,
          -0.39975059509129424,
          -1.3377772838089161,
          -1.2382547454003967,
          1.1181530553346934,
          1.1181530553346934,
          1.1181530553346934,
          1.1181530553346934,
          -1.2908204329890314,
          -0.23620047363219773,
          -0.23217601571465207,
          -1.1750189657465953,
          0.2783596909644321,
          -0.664483259067511,
          -0.017958358794947324,
          -0.017958358794947324,
          0.15201221949066163,
          -0.7886928191657828,
          -0.6931947386748092,
          -0.6703206360212155,
          -1.523655986281089,
          -1.6191540667720634,
          0.04263646850743685,
          -1.501679979709783,
          -0.20501408214744704,
          0.03914991406687933,
          0.03914991406687933,
          0.3394924217438045,
          -0.8780519727295871,
          -1.6129033725299866,
          0.2883484726983216,
          -0.5528340275496038,
          -0.7841663792155261,
          -0.7841663792155261,
          -1.72700932924747,
          -1.0088152088775617,
          -1.8244089070110006,
          -0.9884775077926333,
          -1.867691858062359,
          -0.7257213511034423,
          -1.5413150492368803,
          -1.4417925108283602,
          -0.885564956029985,
          -1.7004751583333384,
          -1.6009526199248187,
          -1.5461855296327582,
          0.5955598091475273,
          -0.3472831408844168,
          -0.28385067838642586,
          -0.2984049996489952,
          -1.1660769371256883,
          -0.8093165163049472,
          -1.6233047940002778,
          -1.5358556293443943,
          -0.5820072263029559,
          -1.520033915020577,
          -1.4616903930594658,
          0.22846186878372485,
          0.5461411962349931,
          -0.4651963383544371,
          -1.3085167499778607,
          -0.7301304852389048,
          -1.674939458072208,
          -1.5754169196636885,
          -0.5594740749453709,
          -1.5015252215805381,
          -1.4431816996194264,
          -1.4020026831720185,
          -1.3491032849737952,
          -1.0759397453777693,
          -0.42187440407303667
         ],
         "y": [
          1.2570166298275058,
          0.9520891608928427,
          0.952089160892848,
          1.305022319938443,
          0.8200338128361062,
          1.5254794031536132,
          1.0208392207816857,
          1.5332659360122476,
          1.6940806336449359,
          1.0416271697703137,
          1.6940806336449359,
          1.6940806336449359,
          -0.3596283385206483,
          -0.23054546676734688,
          1.4422830962594886,
          1.1539828750681276,
          1.7997860798031526,
          1.61193526707081,
          1.444470310298525,
          0.9594818031961881,
          1.357533497437268,
          0.8725449903349308,
          1.357533497437268,
          1.357533497437268,
          0.8725449903349308,
          0.8725449903349308,
          1.4504074296047054,
          1.4570576887443023,
          2.1028608934793276,
          2.0976700180094348,
          1.1878347116433736,
          0.6833632647387596,
          1.3358167286133815,
          1.3101030041794968,
          0.8251144970771596,
          1.4775679609517813,
          1.5213710437444763,
          1.0368390263438885,
          1.0368390263438885,
          1.4919432209861907,
          0.839489757111569,
          1.611316196504094,
          1.1265815458860633,
          1.779035009760685,
          1.5316887108907964,
          1.8882324909000072,
          1.2490795453045789,
          1.9276149682786141,
          1.4034745205876766,
          2.0559279844622984,
          1.5270079503172036,
          1.0420194432148666,
          1.0364895902436746,
          1.5281852517711947,
          1.0431967446688577,
          1.4476412027382597,
          0.9560024364963255,
          -0.16714554018754987,
          0.01776773809588138,
          1.5626793040719906,
          1.0383866931471366,
          1.5685357923172232,
          1.0442431813923685,
          1.5675920978268756,
          1.062951915454949,
          1.5474172843822522,
          1.0624287772799152,
          1.227024416638916,
          0.7223842342669886,
          1.227024416638916,
          1.3748376981416108,
          1.3808474606789796,
          0.8762072783070523,
          1.4507176650304188,
          1.1681084994442013,
          1.1548079811650072,
          1.8072614450396283,
          1.1548079811650072,
          2.0946407496046207,
          2.0946407496046207,
          2.0946407496046207,
          0.7708801255528701,
          0.192447970078135,
          0.192447970078135,
          0.192447970078135,
          0.7059505181859433,
          1.5190935825782523,
          0.9948009716533979,
          -0.13258408084553455,
          0.037645425770678434,
          1.0183638033533309,
          1.8131287633144735,
          1.8131287633144735,
          1.8194035977978205,
          1.2951109868729662,
          1.2563298382037895,
          1.9276136733287978,
          1.6824831412912358,
          1.6824831412912358,
          1.1581905303663815,
          1.1581905303663815,
          1.8106439942410042,
          1.442560518497207,
          0.9642222705344671,
          1.94994423309552,
          1.4652171153108517,
          1.94994423309552,
          1.94994423309552,
          1.4652171153108517,
          2.1176705791854733,
          -0.16592798499906034,
          1.1800426749996251,
          1.9597679189449118,
          1.9597679189449118,
          1.9597679189449118,
          0.7954925768554265,
          0.7954925768554265,
          0.7954925768554265,
          1.58776782492828,
          1.0634752140034263,
          1.4787430420322247,
          0.9937545349298876,
          1.406703616626402,
          0.9219689660083717,
          0.9162500389197885,
          0.9162500389197885,
          -0.3936357920650457,
          1.8339476009182003,
          1.8339476009182003,
          1.4528831146744765,
          2.085385801130307,
          -0.25908647191375056,
          -0.095507224437135,
          1.6759688863877908,
          1.6759688863877908,
          1.5056137164024066,
          1.5056137164024066,
          1.021081699001819,
          1.673535162876441,
          1.668344287406548,
          1.6213694732847985,
          1.123334304387573,
          1.1299845635271704,
          1.7599798241554483,
          1.4632249563867983,
          1.4632249563867983,
          1.267239484967011,
          1.267239484967011,
          1.267239484967011,
          1.2615145316117382,
          1.2615145316117382,
          1.2615145316117382,
          1.9196929488416334,
          1.311218391310006,
          0.8198334815523781,
          1.485587463706194,
          1.0783663521317715,
          1.0783663521317715,
          1.047924369516092,
          1.0091432208469142,
          1.6671265376927278,
          1.9583690779236533,
          1.9583690779236533,
          1.4736419601389843,
          1.4736419601389843,
          2.1260954240136063,
          1.270802448460285,
          1.909955394055714,
          1.728206386342155,
          1.246429879385461,
          1.5567772317470863,
          1.2608675478816747,
          1.2608675478816747,
          1.2608675478816747,
          1.6607108598306686,
          1.1560706774587408,
          1.472753373538744,
          0.9882213561381568,
          1.6406748200127785,
          0.9891466619224811,
          1.7507977613945132,
          1.2464611522070828,
          1.7507977613945132,
          1.2464611522070828,
          1.6812677318298568,
          1.6812677318298568,
          1.9342569424312401,
          1.929066066961348,
          1.2818034785566186,
          1.2818034785566186,
          1.2818034785566186,
          1.528745896783292,
          1.0244092875958613,
          1.6768627514704832,
          1.9998647949702368,
          1.469009305772788,
          1.1775509060531606,
          1.1775509060531606,
          1.0837586873465819,
          1.0200654090329162,
          0.42120674058527596,
          0.8019395135730174,
          0.8019395135730174,
          0.8019395135730174,
          0.8030599197414228,
          1.467693495726834,
          1.515415002872286,
          1.7783629262591472,
          1.247572219428613,
          1.247572219428613,
          1.9000256833032343,
          1.5332659360122476,
          1.0416271697703137,
          1.3277606601305754,
          1.0394604389392148,
          0.9290163317086522,
          0.8786235716741804,
          0.6131624879821267,
          0.6131624879821267,
          1.359762941640542,
          1.058162202169987,
          1.058162202169987,
          1.058162202169987,
          1.270650457363043,
          0.7856619502607064,
          0.7801320972895144,
          0.11254446457603562,
          1.1241406282585018,
          1.1241406282585018,
          0.7270497651892491,
          0.5819296822644616,
          1.1878313321619038,
          1.205025797188744,
          1.5281852517711947,
          1.0431967446688577,
          1.0431967446688577,
          1.5281852517711947,
          0.7059505181859433,
          1.325490413654251,
          0.42503100573605596,
          1.0305399333232932,
          1.6763431380583178,
          1.6713292841724365,
          0.7774425252237206,
          0.713749246910055,
          1.0837586873465819,
          0.6361375534207792,
          1.03336592731211,
          1.6725188729075384,
          1.7947544197305934,
          1.3003063404063533,
          1.2698643577906734,
          1.9555691173632812,
          1.4787430420322247,
          0.9937545349298876,
          1.6462079988045104,
          0.5468117389152286,
          0.06182323181289178,
          1.115651959758175,
          1.115651959758175,
          1.115651959758175,
          1.1101221067869835,
          1.1101221067869835,
          2.062134987337387,
          2.062134987337387,
          2.062134987337387,
          0.8634913943453159,
          0.8634913943453159,
          1.7676766938805673,
          1.7676766938805673,
          1.7676766938805673,
          1.9154899753832617,
          1.2630365115086397,
          1.2630365115086397,
          1.3176502469672793,
          1.6685029713713464,
          1.029350025775919,
          0.9335043454691595,
          1.2843570698732272,
          0.6319036059986054,
          0.6319036059986054,
          0.6319036059986054,
          1.5281852517711947,
          1.0431967446688577,
          1.6956502085434797,
          1.4313587605701004,
          1.4313587605701004,
          1.467778552015096,
          0.8219753472800712,
          0.383485761692068,
          0.15624418442115573,
          0.10585142438668403,
          -0.21408621517341028,
          1.0772757377641637,
          1.7164286833595914,
          1.7114148294737104,
          1.311095303492555,
          0.831331569610241,
          1.5611385439201737,
          1.9119912683242408,
          1.2661880635892162,
          1.0977317370771125,
          1.0406887179030442,
          1.6864919226380692,
          1.9732948206865342,
          0.036482269344673364,
          0.036482269344673364,
          0.036482269344673364,
          1.2568159675568147,
          0.9685157463654541,
          0.9618654872258571,
          1.6076686919608822,
          1.631513416127319,
          1.2910886992905144,
          0.9894879598199591,
          0.9894879598199591,
          1.2557485219121116,
          1.606601246316179,
          0.954147782441557,
          1.6015873924302981,
          0.9997964831950656,
          0.7059505181859433,
          0.4110000378549856,
          1.3061917529196536,
          0.8214571023016228,
          1.4739105661762446,
          0.9350471325653371,
          1.5980448023272023,
          0.5444690178136036,
          1.3899066943923235,
          0.9051720437742927,
          1.3741429229403133,
          0.8761077540430884,
          1.5213710437444763,
          1.0368390263438885,
          1.6892924902185102,
          1.8075262929128435,
          1.3163440163726579,
          1.948846702828489,
          0.8160013424263101,
          0.8160013424263101,
          1.3061917529196536,
          0.8214571023016228,
          1.4739105661762446,
          0.8571930280234737,
          0.9322217617530353,
          0.9322217617530353,
          0.9322217617530353,
          1.5846752256276573,
          1.5846752256276573,
          1.5846752256276573,
          1.5794896231411184,
          -0.0989299144835974,
          1.310354227128982,
          1.0220540059376213,
          1.3277606601305754,
          1.0394604389392148,
          0.41698506794797385,
          1.0561380135434018,
          0.40480495583718507,
          1.0644246779367148,
          0.8598810640473245,
          1.1515485911610217,
          1.7973517958960472,
          1.7456143794323276,
          1.7456143794323276,
          1.7456143794323276,
          0.7144186624321083,
          1.445283097112695,
          0.9602945900103583,
          0.9547647370391666,
          1.1718155036610245,
          0.6180541987776095,
          0.6180541987776095,
          1.3131634291272343,
          1.0172537452618222,
          1.0172537452618222,
          1.0172537452618222,
          1.6697072091364438,
          1.0115287919065494,
          1.3397290418084034,
          1.0514288206170426,
          1.3878104723258098,
          1.092859991994852,
          1.6808865869320728,
          1.1565939760072188,
          1.3382861619307904,
          1.0499859407394296,
          1.0311555694890437,
          1.6891388863348578,
          1.6841250324489767,
          1.0230522363408592,
          0.6391243807287225,
          -0.32608311933482126,
          -0.17642730679173216,
          0.7762397243920988,
          0.3286185904662967,
          0.7125464460784339,
          2.024298865550376,
          1.466842339794539,
          1.466842339794539,
          1.466842339794539,
          1.466842339794539,
          2.1192958036691603,
          1.5083856110122396,
          1.6763070574862737,
          2.0181903479053416,
          2.119837545163723,
          2.119837545163723,
          2.119837545163723,
          2.119837545163723,
          1.467384081289101,
          1.467384081289101,
          1.467384081289101,
          1.467384081289101,
          1.467384081289101,
          2.119837545163723,
          1.58776782492828,
          1.9925666356205556,
          1.9925666356205556,
          1.9925666356205556,
          1.468426187929618,
          1.468426187929618,
          1.468426187929618,
          2.12087965180424,
          1.2733708474506396,
          0.23698952796388104,
          0.635385153099095,
          0.635385153099095,
          0.635385153099095,
          0.6365055592675006,
          1.3011391352529103,
          1.4567511496186258,
          1.4567511496186258,
          1.4787430420322247,
          0.9937545349298876,
          1.6462079988045104,
          1.6634024638313503,
          0.11884782393493505,
          1.2460081634065943,
          0.5371023505377617,
          0.5371023505377617,
          1.0174942470653188,
          0.9984687754308519,
          1.011769293710046,
          0.9984687754308519,
          1.0317200711288372,
          1.6632974518003427,
          1.9573270155049332,
          1.9573270155049332,
          1.9573270155049332,
          -0.28424852878552714,
          -0.2225584234844645,
          0.12829430091960278,
          1.5105807869214385,
          1.4562636262937048,
          1.4562636262937048,
          2.108717090168327,
          2.103526214698434,
          1.359762941640542,
          1.0648124613095842,
          1.5190935825782523,
          0.9948009716533979,
          1.8144537782872483,
          1.2702103899436028,
          1.916013594678628,
          -0.21408621517341028,
          1.1002688044153104,
          1.20456068128775,
          0.6803531913798894,
          0.5765633752304108,
          1.5397625183370243,
          1.05147962935795,
          1.05147962935795,
          1.7039330932325722,
          -0.37716354963806364,
          -0.18760262506595776,
          -0.017373118449745043,
          1.5685357923172232,
          1.0442431813923685,
          -0.17986364414185999,
          1.6933977775338065,
          1.6933977775338065,
          1.061905478731438,
          1.6170159513118634,
          0.9645624874372409,
          1.4495509945395781,
          1.4515125630087995,
          1.4515125630087995,
          1.4515125630087995,
          2.103966026883421,
          1.5116859203255324,
          1.5281852517711947,
          1.0431967446688577,
          1.4495509945395781,
          1.6103656921722667,
          0.9579122282976439,
          1.7899452944289933,
          1.2656526835041393,
          1.9181061473787606,
          -0.026431872431699973,
          1.5474172843822522,
          1.0624287772799152,
          0.954040107032896,
          0.9485102540617042,
          1.439028614135233,
          0.9485102540617042,
          0.9485102540617042,
          1.8938728754725103,
          1.8938728754725103,
          1.8938728754725103,
          1.5675920978268756,
          1.062951915454949,
          1.9732948206865342,
          1.4686169254830748,
          1.461966666343477,
          1.461966666343477,
          2.1144201302180985,
          1.4112593309915993,
          0.926727313591012,
          1.579180777465634,
          1.7062191780770988,
          1.2212306709747618,
          1.1193651305185162,
          1.05567185220485,
          1.05567185220485,
          2.0088051389236585,
          2.0088051389236585,
          2.0088051389236585,
          1.05567185220485,
          1.4406229015961076,
          1.497669192154118,
          1.0212477764346124,
          0.13636784705353425,
          1.7915002333413723,
          1.2673597856504353,
          -0.12415523014572578,
          -0.024908591930250974,
          0.13590610570243714,
          1.6647741834420566,
          1.1802421660414693,
          1.7722682007303154,
          1.2481277530393777,
          1.4101847510531365,
          0.9057133041485225,
          1.558166768023145,
          -0.20801272453695294,
          -0.05835691199386393,
          1.9883699246542645,
          1.4836920294508043,
          2.1095444567670376,
          2.1095444567670376,
          2.1095444567670376,
          1.544618129179142,
          1.0487426722715818,
          1.6945458770066069,
          1.0365625601607933,
          1.7117403420334474,
          -0.1372782991108853,
          -0.008195427357583695,
          0.03938771253109266,
          0.03938771253109266,
          0.5842270508681733,
          0.0610199212308126,
          0.053417032518343434,
          1.7327040402896914,
          1.490641957763516,
          1.490641957763516,
          1.7276901864038101,
          1.0935510946942635,
          0.9085510885047544,
          0.9429227903711458,
          1.3999599711730273,
          0.9019248022758026,
          0.9019248022758026,
          0.9019248022758026,
          1.5543782661504248,
          -0.007303495710587108,
          -0.007303495710587108,
          0.1471600449317045,
          1.5474172843822522,
          1.0624287772799152,
          1.4371862576886492,
          0.9524516070706185,
          1.6049050709452404,
          -0.007303495710587108,
          -0.007303495710587108,
          0.14050978579210757,
          0.14050978579210757,
          1.5281852517711947,
          1.0431967446688577,
          0.9276681954606875,
          0.9276681954606875,
          0.6593187516881185,
          1.6414760268462067,
          1.1567413762281762,
          -0.22099324058355524,
          1.5133691089460977,
          1.0221868324059131,
          1.463045017382387,
          2.115498481257009,
          1.758954701247799,
          1.463045017382387,
          1.463045017382387,
          0.6459733748823983,
          1.1373582846400256,
          0.6402544477938152,
          0.6459733748823983,
          1.253459918555241,
          0.12578028680806946,
          0.42646010965225617,
          0.42646010965225617,
          0.42646010965225617,
          0.21765107652741997,
          1.6478336013723218,
          1.1633015839717336,
          1.8157550478463558,
          0.9483224196828224,
          1.8815049289828387,
          1.8815049289828387,
          1.8815049289828387,
          0.5510940457914912,
          0.6828613359907681,
          0.6828613359907681,
          -0.22053091152347185,
          0.19729170441314853,
          0.34540855910033974,
          1.7887951020090325,
          1.3042630846084446,
          1.943416030203873,
          0.18069607839991111,
          0.3486175248739452,
          0.22349858271836612,
          1.5213710437444763,
          1.6892924902185102,
          1.0368390263438885,
          1.5685357923172232,
          1.0442431813923685,
          1.1136110626226157,
          1.1069608034830183,
          1.1069608034830183,
          1.1069608034830183,
          1.1069608034830183,
          1.1069608034830183,
          1.1069608034830183,
          1.1136110626226157,
          1.1136110626226157,
          1.1069608034830183,
          1.1069608034830183,
          1.1136110626226157,
          1.1069608034830183,
          1.1069608034830183,
          1.1069608034830183,
          1.1069608034830183,
          1.1069608034830183,
          1.1069608034830183,
          1.1069608034830183,
          1.1069608034830183,
          1.1069608034830183,
          0.8416567230898181,
          0.8416567230898181,
          1.6630227196093486,
          1.6630227196093486,
          0.046203660213453644,
          0.046203660213453644,
          0.046203660213453644,
          0.5311921673157903,
          0.046203660213453644,
          0.8451401905364528,
          0.36015168343411635,
          1.0126051473087383,
          1.3143352378990398,
          0.829600587281009,
          1.1443698065965726,
          1.0939770465621015,
          1.733129992157529,
          1.4409909435986625,
          1.4409909435986625,
          0.9560024364963255,
          0.9560024364963255,
          1.7738278225240989,
          1.7738278225240989,
          1.7738278225240989,
          1.7738278225240989,
          1.2892958051235115,
          1.2892958051235115,
          1.2892958051235115,
          1.9483995281377309,
          0.10192367460741454,
          1.2582194306591212,
          1.7648368066061244,
          1.27319804036419,
          1.9123509859596182,
          1.7648368066061244,
          1.2798482995037874,
          1.9123509859596182,
          1.710719810082181,
          1.4281106444959635,
          2.367943412935577,
          2.367943412935577,
          2.367943412935577,
          1.4223856911406907,
          1.0308822706046326,
          1.477173467133681,
          1.477173467133681,
          0.992184960031343,
          0.992184960031343,
          1.7531058632254741,
          1.7464556040858772,
          1.2747676152627339,
          1.9139205608581622,
          1.3808474606789796,
          0.8762072783070523,
          0.13023770631661483,
          1.515415002872286,
          1.0304264957699487,
          0.17327490411396645,
          1.4519789888769226,
          0.9278385411859861,
          1.5802920050606075,
          -0.027609173885691222,
          1.1597250309646763,
          1.1597250309646763,
          1.650907307504861,
          1.8293729598661381,
          1.748025178984421,
          1.748025178984421,
          1.2696869310216805,
          1.9154901357567058,
          1.9154901357567058,
          1.5863553401704422,
          1.2904456563050302,
          1.2904456563050302,
          1.2904456563050302,
          1.2847207029497574,
          1.6324995254613275,
          1.3365898415959152,
          1.3365898415959152,
          1.3365898415959152,
          1.6434861332189168,
          1.158954115818329,
          1.1598794216026533,
          2.0921366251183455,
          2.0921366251183455,
          2.0921366251183455,
          1.4920940588863028,
          1.8387921619210834,
          1.8387921619210834,
          1.7345317660272197,
          1.4710281939565542,
          1.6425902871595244,
          1.6425902871595244,
          1.6425902871595244,
          1.1580582697589368,
          1.1580582697589368,
          1.9379571941051092,
          1.9379571941051092,
          1.9379571941051092,
          1.9379571941051092,
          1.9379571941051092,
          1.9379571941051092,
          1.9379571941051092,
          1.9379571941051092,
          1.9379571941051092,
          1.9379571941051092,
          1.4800262132629098,
          2.1125288997187406,
          1.7915002333413723,
          1.2673597856504353,
          1.9198132495250573,
          1.6496884693288176,
          1.1585061927886329,
          1.1585061927886329,
          1.15278123943336,
          1.8281541216900947,
          1.3356756758559498,
          1.2962092906133507,
          1.9353622362087788,
          1.0318387427266715,
          1.53632153754605,
          1.0318387427266715,
          1.0318387427266715,
          1.6842922066012933,
          1.2078960399178036,
          0.7229075328154662,
          1.3753609966900877,
          1.843448566063639,
          1.843448566063639,
          1.843448566063639,
          1.843448566063639,
          1.477235608488387,
          1.521354258061117,
          1.5280045172007135,
          1.0434724998001261,
          1.6459238095710025,
          1.1613917921704155,
          1.969457270410752,
          1.969457270410752,
          0.5574159056500883,
          0.07268125503205751,
          0.7184844597670819,
          1.9682697860306244,
          2.1160453547017863,
          1.4702421499667615,
          1.714376324610311,
          1.4317671590240932,
          0.8196079722972592,
          1.9727740071388706,
          1.9727740071388706,
          1.6558908054387187,
          -0.11927148024239288,
          0.010821544464779882,
          -0.16471042981057088,
          0.0030083834460200585,
          1.5075317422294887,
          1.5075317422294887,
          1.0229997248289013,
          1.7915002333413723,
          1.2673597856504353,
          1.8642596232308934,
          1.3599230140434622,
          1.8672225270556133,
          1.3430820793646763,
          1.9955355432392983,
          1.992651143921109,
          1.4684459138632564,
          2.120899377737878,
          2.1157085022679856,
          1.7086678807827862,
          1.2241358633821977,
          1.8937837922836602,
          -0.13258408084553455,
          0.037645425770678434,
          1.7361691972303814,
          1.2118765863055267,
          1.8443792727613584,
          1.5270079503172036,
          1.0420194432148666,
          1.0364895902436746,
          1.345929691096759,
          0.4178051898963836,
          0.175712580466053,
          0.3436340269400874,
          1.958219716718804,
          1.466842339794539,
          2.1192958036691603,
          1.7524306910253236,
          1.2607919247833894,
          1.2552620718121976,
          1.9132453886580116,
          1.908231534772131,
          -0.21981163662616213,
          -0.006257058987076367
         ],
         "z": [
          -0.7062101837897582,
          0.7085255577260394,
          0.7085255577260406,
          -1.5610447042953652,
          -0.31690743019649364,
          -1.6210271827158633,
          -0.3934090645173678,
          -2.2371245142573155,
          -1.511567869231562,
          -1.0196111178147114,
          -1.511567869231562,
          -1.511567869231562,
          -0.8601488615085434,
          -0.13779697203652705,
          -2.817508741334702,
          -1.3746998589322135,
          -1.8932804880053298,
          -1.3901412229328272,
          -2.1423217456148502,
          -0.8981844715159774,
          -2.3769345683601335,
          -1.1327972942612627,
          -2.3769345683601335,
          -2.3769345683601335,
          -1.1327972942612627,
          -1.1327972942612627,
          1.2046292966268886,
          1.2312531742831558,
          0.7126725452100391,
          0.694587594131683,
          -0.6806342304412273,
          0.5475717602056142,
          0.05561500878876436,
          -1.5127672724633876,
          -0.26862999836451623,
          -0.7605867497813646,
          -0.05299121737307515,
          1.192736461653017,
          1.192736461653017,
          0.2216027786393654,
          0.7135595300562151,
          -0.6401258871631635,
          0.604895820038799,
          0.11293906862194977,
          -0.6871576501936612,
          0.23027429845825279,
          0.7754788051876366,
          -0.3343089959973927,
          0.8773174768458942,
          0.385360725429045,
          -2.26916012109656,
          -1.0250228469976876,
          -1.0442887918338803,
          -2.2854019460892934,
          -1.041264671990421,
          -1.3794337874533962,
          -0.16192039101079167,
          -0.5839586083082936,
          0.17706461084815742,
          -1.8944670708776772,
          -0.6833707330101306,
          -2.2667974501355324,
          -1.0557011122679845,
          -2.0793276900771716,
          -0.851709571878676,
          -2.0886297320794003,
          -0.844492457980529,
          -2.155075572660958,
          -0.9274574544624613,
          -2.155075572660958,
          -1.4194142058793113,
          -2.4109396347093264,
          -1.1833215165108295,
          -0.18520369313315563,
          1.2774327622481427,
          1.2241850069356077,
          0.7322282555187583,
          1.2241850069356077,
          0.7714975944524982,
          0.7714975944524982,
          0.7714975944524982,
          1.0294199834688729,
          0.6174449885647322,
          0.6174449885647322,
          0.6174449885647322,
          -2.400395018174904,
          -2.3381535441017736,
          -1.1270572062342272,
          -0.680205551187553,
          0.08160663169727972,
          -0.12251952681343582,
          -0.6307982935621469,
          -0.6307982935621469,
          -1.400967777807405,
          -0.18987143993985722,
          -0.3422567730573874,
          -0.7616998243255084,
          -2.507388038236257,
          -2.507388038236257,
          -1.2962917003687118,
          -1.2962917003687118,
          -1.7882484517855604,
          -1.4277112192853738,
          -0.1569500675302344,
          -0.2447302376289341,
          1.0003177138787585,
          -0.2447302376289341,
          -0.2447302376289341,
          1.0003177138787585,
          0.5083609624619089,
          -0.6007557660994443,
          -0.7293914762112985,
          -0.07617633776009546,
          -0.07617633776009546,
          -0.07617633776009546,
          1.114058147718053,
          1.114058147718053,
          1.114058147718053,
          -2.0700252361256393,
          -0.8589288982580914,
          -2.356758040055536,
          -1.112620765956663,
          -1.09014224713429,
          0.15487946006767278,
          0.1349547831576629,
          0.1349547831576629,
          -0.8308019133476948,
          -0.05422187875647926,
          -0.05422187875647926,
          1.5255839510278202,
          0.9537555666421684,
          -1.3108095009102991,
          -0.5756211956817352,
          -0.0357741390721338,
          -0.0357741390721338,
          -0.2074646243736394,
          -0.2074646243736394,
          1.038263054652453,
          0.5463063032356028,
          0.5282213521572466,
          -0.5420798111241776,
          0.6496941407652506,
          0.6763180184215176,
          -0.378642932768679,
          1.027801156197209,
          1.027801156197209,
          1.4790143897212404,
          1.4790143897212404,
          1.4790143897212404,
          1.4590687173666466,
          1.4590687173666466,
          1.4590687173666466,
          0.9870576383043913,
          -1.1284055382325484,
          0.08999229131314777,
          -0.34871670479116684,
          -1.9253119907982694,
          -1.9253119907982694,
          -0.22310280194843451,
          -0.3754881350659653,
          -0.8481789416466207,
          -0.12421862678866485,
          -0.12421862678866485,
          1.1208293247190275,
          1.1208293247190275,
          0.6288725733021784,
          1.6665995827001463,
          1.1213950759707616,
          -0.971569302969338,
          0.2837585430926895,
          -0.8627158154416223,
          0.5466728846271414,
          0.5466728846271414,
          0.5466728846271414,
          -2.1933823438889073,
          -0.9657642256904102,
          -0.27655977495883133,
          0.9691679040672614,
          0.47721115265041136,
          0.9758461093689346,
          -0.9453486544740897,
          0.2833271092453139,
          -0.9453486544740897,
          0.2833271092453139,
          -0.22724557108865537,
          -0.22724557108865537,
          0.7861355768597438,
          0.768050625781388,
          1.2780923282765932,
          1.2780923282765932,
          1.2780923282765932,
          -0.23631948290896615,
          0.9923562808104374,
          0.500399529393587,
          -0.2367755123561124,
          0.9480013818016316,
          1.5734151419214542,
          1.5734151419214542,
          -2.7551715656056364,
          -1.186081765037137,
          -1.4803250806455985,
          0.3045765229784751,
          0.3045765229784751,
          0.3045765229784751,
          0.3119344557985487,
          -0.13413247312583942,
          -2.573158603974666,
          -0.9170035561705119,
          0.2679990390165083,
          0.2679990390165083,
          -0.2239577124003408,
          -2.2371245142573155,
          -1.0196111178147114,
          -2.6597216052961263,
          -1.216912722893637,
          -2.6022546383425254,
          -0.9799170824614918,
          -1.2255862622876947,
          -1.2255862622876947,
          -2.17519273340086,
          -0.7856316063109064,
          -0.7856316063109064,
          -0.7856316063109064,
          -1.6092872189240768,
          -0.36514994482520513,
          -0.38441588966139895,
          -0.974411973887736,
          -2.275598734991366,
          -2.275598734991366,
          -0.7550830702051264,
          -0.5745956893749028,
          -1.2529195843856245,
          -1.244961321014286,
          -2.2854019460892934,
          -1.041264671990421,
          -1.041264671990421,
          -2.2854019460892934,
          -2.400395018174904,
          -2.6284017204579366,
          -1.533083908976444,
          -1.2122167157117152,
          -1.7307973447848326,
          -1.7482655546785397,
          -2.3774206260861597,
          -0.8083308255176609,
          -2.7551715656056364,
          -1.3808467885038722,
          -1.132834009724602,
          -1.6780385164539873,
          -0.9259677968742936,
          -1.543782977562862,
          0.15842621128697318,
          -0.20041115184853908,
          -2.356758040055536,
          -1.112620765956663,
          -1.6045775173735133,
          -1.9310672067068315,
          -0.6869299326079598,
          -0.22441074359483715,
          -0.22441074359483715,
          -0.22441074359483715,
          -0.24367668843103085,
          -0.24367668843103085,
          -0.6504742784216788,
          -0.6504742784216788,
          -0.6504742784216788,
          -0.4168321681085056,
          -0.4168321681085056,
          -1.5668441339686183,
          -1.5668441339686183,
          -1.5668441339686183,
          -0.8311827671869718,
          -0.339226015770122,
          -0.339226015770122,
          -1.7168922260395523,
          -0.8192878503664472,
          -0.2740833436370636,
          -1.9409714330434564,
          -1.0433670573703522,
          -0.5514103059535029,
          -0.5514103059535029,
          -0.5514103059535029,
          -2.2854019460892934,
          -1.041264671990421,
          -1.5332214234072714,
          -1.492801867176585,
          -1.492801867176585,
          -0.7439035190862117,
          -0.22532289001309574,
          -0.2746803697697729,
          -1.9200926200217476,
          -0.29775506414071573,
          -1.6690090945748643,
          -0.18334509993968232,
          -0.7285496066690659,
          -0.7460178165627739,
          -1.6926254424261211,
          -0.43028511787311036,
          -1.6805196515044725,
          -0.7829152758313681,
          -0.2643346467582511,
          -2.484008517234705,
          -0.8882948390099379,
          -1.4068754680830549,
          -0.09339215665204176,
          0.5183443757384426,
          0.5183443757384426,
          0.5183443757384426,
          -2.228884746936309,
          -0.7860758645338204,
          -0.812699742190088,
          -1.3312803712632049,
          -1.2966982302355998,
          -2.443321041376995,
          -1.0537599142870404,
          -1.0537599142870404,
          -2.214158471612561,
          -1.3165540959394573,
          -0.824597344522607,
          -1.334022305833165,
          -0.4425229910840487,
          -2.400395018174904,
          -0.9842100134286823,
          -1.1774285762520411,
          0.06759313094992207,
          -0.42436362046692727,
          1.113072686855301,
          0.6024503211535227,
          0.8916837857322989,
          -1.320508776726485,
          -0.0754870695245217,
          -0.5747602652968761,
          0.6170136865925523,
          -0.05299121737307515,
          1.192736461653017,
          0.700779710236167,
          0.1743217782698939,
          1.3934255796397186,
          0.8215971952540674,
          0.968406474702988,
          0.968406474702988,
          -1.1774285762520411,
          0.06759313094992207,
          -0.42436362046692727,
          0.06971004673781729,
          0.6426678796866604,
          0.6426678796866604,
          0.6426678796866604,
          0.15071112826981123,
          0.15071112826981123,
          0.15071112826981123,
          0.13264454820546603,
          -0.5284024204474445,
          -1.9203740937740408,
          -0.47756521137155183,
          -2.6597216052961263,
          -1.216912722893637,
          -0.9484087634702951,
          -1.4936132701996805,
          -0.9942985859627558,
          -1.457833724780854,
          1.1254932486804055,
          1.207411868474712,
          0.6888312394015952,
          0.4843975157433787,
          0.4843975157433787,
          0.4843975157433787,
          0.7996558237578378,
          -0.6180813148892901,
          0.6260559592095822,
          0.6067900143733888,
          -2.4902110685185743,
          -1.2930713659422883,
          -1.2930713659422883,
          -0.31831593001628733,
          1.0910727700524758,
          1.0910727700524758,
          1.0910727700524758,
          0.599116018635626,
          1.0711270976978822,
          -2.3609025410677926,
          -0.9180936586653045,
          -1.5418835591258526,
          -0.12569855437963098,
          -2.1840798899373732,
          -0.9729835520698259,
          -2.340996847094271,
          -0.8981879646917822,
          -0.9707016648405103,
          -1.4433924714211663,
          -1.460860681314874,
          -0.7633548998425779,
          -0.958119923309313,
          -1.6353204021439245,
          -0.893239678180786,
          -2.360827016571719,
          -0.9865022394699561,
          -0.7917372160032204,
          -0.10038495482982823,
          0.9778964287028473,
          0.9778964287028473,
          0.9778964287028473,
          0.9778964287028473,
          0.48593967728599746,
          -0.24570515061998402,
          0.5080657769892584,
          -0.13448259421139916,
          0.4784659155606937,
          0.4784659155606937,
          0.4784659155606937,
          0.4784659155606937,
          0.9704226669775429,
          0.9704226669775429,
          0.9704226669775429,
          0.9704226669775429,
          0.9704226669775429,
          0.4784659155606937,
          -2.0700252361256393,
          -0.25558050914905506,
          -0.25558050914905506,
          -0.25558050914905506,
          0.9560459636942324,
          0.9560459636942324,
          0.9560459636942324,
          0.4640892122773828,
          -0.8918032405467246,
          -0.5946115125966105,
          -0.599441061813367,
          -0.599441061813367,
          -0.599441061813367,
          -0.5920831289932931,
          -1.0381500579176817,
          -1.001224317937009,
          -1.001224317937009,
          -2.356758040055536,
          -1.112620765956663,
          -1.6045775173735133,
          -1.5966192540021753,
          -0.524201974280704,
          -0.32554655186556297,
          1.3512050070696766,
          1.3512050070696766,
          1.6963524790376063,
          1.623159051370478,
          1.6764068066830122,
          1.623159051370478,
          1.7562784396518152,
          1.1777718499644894,
          1.243665066554497,
          1.243665066554497,
          1.243665066554497,
          -0.9489830260868355,
          -1.5521281341176842,
          -0.6545237584445799,
          -0.47791775728730934,
          1.1238383306229822,
          1.1238383306229822,
          0.6318815792061327,
          0.6137966281277769,
          -2.17519273340086,
          -0.7590077286546388,
          -2.3381535441017736,
          -1.1270572062342272,
          -1.4510505943545535,
          -0.3198258894558076,
          -0.8384065185289252,
          -1.6690090945748643,
          0.43412022574428183,
          -1.028624002298945,
          0.18276889622334727,
          -2.5711274354650118,
          -0.6813765879052511,
          0.5478286467399462,
          0.5478286467399462,
          0.055871895323097095,
          -1.5704525049118714,
          -1.403521443375277,
          -0.6417092604904449,
          -2.2667974501355324,
          -1.0557011122679845,
          -1.5102869394724532,
          -2.0796720603351893,
          -2.0796720603351893,
          -0.8372731316011128,
          -1.3418637911008504,
          -0.8499070396839999,
          -2.0940443137828715,
          1.1893830882050207,
          1.1893830882050207,
          1.1893830882050207,
          0.6974263367881715,
          -0.49316396570917687,
          -2.2854019460892934,
          -1.041264671990421,
          -2.0940443137828715,
          -1.3684876687571175,
          -0.8765309173402673,
          -1.586414560572211,
          -0.3753182227046637,
          -0.8672749741215137,
          -1.5824460932534044,
          -2.0886297320794003,
          -0.844492457980529,
          -0.1348484702082999,
          -0.15411441504449352,
          -1.3789857443071718,
          -0.15411441504449352,
          -0.15411441504449352,
          -0.5875358826914088,
          -0.5875358826914088,
          -0.5875358826914088,
          -2.0793276900771716,
          -0.851709571878676,
          -0.09339215665204176,
          1.0717841618868489,
          1.0451602842305816,
          1.0451602842305816,
          0.5532035328137321,
          -0.8634745012653681,
          0.3822531777607247,
          -0.10970357365612524,
          -1.3133150304721615,
          -0.06917775637329002,
          -2.43762399158063,
          -0.8685341910121306,
          -0.8685341910121306,
          -1.267973848182706,
          -1.267973848182706,
          -1.267973848182706,
          -0.8685341910121306,
          -2.144056464135597,
          -0.3371494660792875,
          0.9368354569260053,
          -0.5207350478846078,
          -0.7545192549312886,
          0.45710721791199904,
          -0.5988561512926524,
          -1.4850914019215182,
          -0.759534756895763,
          0.8298710002355899,
          2.0755986792616823,
          -0.9512914689411818,
          0.2603350039021058,
          -1.3111601844528613,
          -0.08295419380601975,
          -0.5749109452228692,
          -1.5718367654879042,
          -0.8297560415247662,
          0.0537433318444945,
          1.2189196503833852,
          0.6204673883414663,
          0.6204673883414663,
          0.6204673883414663,
          -2.2610144207917284,
          -0.999405648318629,
          -1.5179862773917474,
          -1.04529547081109,
          -1.5100280140204096,
          -1.4906748155201763,
          -0.7683229260481602,
          -0.8001306894776903,
          -0.8001306894776903,
          -1.890725756256784,
          -0.6758476139335821,
          -0.7023359917065972,
          -0.5620678044744049,
          -1.5373789625312604,
          -1.5373789625312604,
          -0.5795360143681124,
          -0.016863297745021648,
          0.7294484560634293,
          0.8699257771648393,
          -1.2224627006874997,
          -0.030688748798070542,
          -0.030688748798070542,
          -0.030688748798070542,
          -0.5226455002149195,
          -1.5587076109736129,
          -1.5587076109736129,
          -0.7964223665356986,
          -2.0886297320794003,
          -0.844492457980529,
          -0.49042738844158357,
          0.7545943187603794,
          0.26263756734352967,
          -1.5587076109736129,
          -1.5587076109736129,
          -0.8230462441919658,
          -0.8230462441919658,
          -2.2854019460892934,
          -1.041264671990421,
          -1.860457027198125,
          -1.860457027198125,
          -0.33777651182683394,
          -0.34598765904620643,
          0.8990340481557568,
          -1.3475946150457325,
          -0.1960869551392398,
          1.0230168462305853,
          1.0302835601805687,
          0.5383268087637193,
          -0.3791051398881945,
          1.0302835601805687,
          1.0302835601805687,
          0.6235821508023371,
          -0.5948156787433585,
          0.6036574738923275,
          0.6235821508023371,
          0.3847387077699826,
          -0.6198409020781313,
          -0.5273238078318562,
          -0.5273238078318562,
          -0.5273238078318562,
          -0.24833561610529192,
          -0.8269821919394694,
          0.4187454870866231,
          -0.07321126433022551,
          0.1807708013027572,
          -0.2985404888366199,
          -0.2985404888366199,
          -0.2985404888366199,
          -0.06724197747651312,
          -0.0648983785234461,
          -0.0648983785234461,
          0.17851939694285093,
          -0.2577208718670052,
          0.47899814043554806,
          -0.04074461316752309,
          1.2049830658585692,
          0.659778559129185,
          -0.2006734864559797,
          0.553097441153263,
          0.1337162457272954,
          -0.05299121737307515,
          0.700779710236167,
          1.192736461653017,
          -2.2667974501355324,
          -1.0557011122679845,
          2.758089445006738,
          2.731465567350472,
          2.731465567350472,
          2.731465567350472,
          2.731465567350472,
          2.731465567350472,
          2.731465567350472,
          2.758089445006738,
          2.758089445006738,
          2.731465567350472,
          2.731465567350472,
          2.758089445006738,
          2.731465567350472,
          2.731465567350472,
          2.731465567350472,
          2.731465567350472,
          2.731465567350472,
          2.731465567350472,
          2.731465567350472,
          2.731465567350472,
          2.731465567350472,
          0.6836644831549998,
          0.6836644831549998,
          0.2818812270313574,
          0.2818812270313574,
          -0.47144531945343987,
          -0.47144531945343987,
          -0.47144531945343987,
          -1.7155825935523117,
          -0.47144531945343987,
          -1.9750890536892012,
          -0.7309517795903299,
          -1.2229085310071794,
          -0.3647719738835793,
          0.880249733318384,
          -1.6450772038754344,
          -0.022739647994401955,
          -0.5679441547237856,
          -1.406057665109664,
          -1.406057665109664,
          -0.16192039101079167,
          -0.16192039101079167,
          -0.07099805065558107,
          -0.07099805065558107,
          -0.07099805065558107,
          -0.07099805065558107,
          1.1747296283705115,
          1.1747296283705115,
          1.1747296283705115,
          0.7093967546099292,
          -0.7006447200753427,
          -0.7228037933042009,
          -1.4601867610300399,
          -0.24267336458743574,
          -0.7878778713168197,
          -1.4601867610300399,
          -0.21604948693116832,
          -0.7878778713168197,
          -0.020362931396045517,
          1.4422735239852527,
          0.9895861115021436,
          0.9895861115021436,
          0.9895861115021436,
          1.4223278516306586,
          1.1942607452059824,
          -2.3351044858798256,
          -2.3351044858798256,
          -1.090967211780953,
          -1.090967211780953,
          -1.5350880705182848,
          -1.5617119481745532,
          -0.2643269187631459,
          -0.8095314254925302,
          -2.4109396347093264,
          -1.1833215165108295,
          -0.6813346064573782,
          -2.573158603974666,
          -1.3290213298757938,
          -0.21666196665412518,
          -0.8447035777926367,
          0.36692289505065057,
          -0.1250338563661992,
          -1.5662042682606698,
          1.1563503312405765,
          1.1563503312405765,
          -0.06275347012924865,
          0.6723518431950647,
          -1.5833655023502622,
          -1.5833655023502622,
          -0.31260435059512326,
          -0.8311849796682406,
          -0.8311849796682406,
          0.041680498296044755,
          1.4510691983648076,
          1.4510691983648076,
          1.4510691983648076,
          1.431123526010214,
          -0.5530275231892424,
          0.8563611768795204,
          0.8563611768795204,
          0.8563611768795204,
          -0.07874195032739434,
          1.1669857286986982,
          1.1736639340003725,
          0.6876744385593215,
          0.6876744385593215,
          0.6876744385593215,
          -0.22287840401290118,
          -0.1210565129181068,
          -0.1210565129181068,
          -0.027566405068497554,
          1.5119970721787266,
          -0.06638302996103938,
          -0.06638302996103938,
          -0.06638302996103938,
          1.179344649065053,
          1.179344649065053,
          -0.08273064243029975,
          -0.08273064243029975,
          -0.08273064243029975,
          -0.08273064243029975,
          -0.08273064243029975,
          -0.08273064243029975,
          -0.08273064243029975,
          -0.08273064243029975,
          -0.08273064243029975,
          -0.08273064243029975,
          1.2694925472208614,
          0.69766416283521,
          -0.7545192549312886,
          0.45710721791199904,
          -0.03484953350485083,
          -0.04593861248794959,
          1.1731651888818755,
          1.1731651888818755,
          1.1532195165272823,
          0.6891667008363642,
          -0.3443132586560122,
          1.3160916626859918,
          0.7708871559566075,
          1.261719415126448,
          0.09586336906915721,
          1.261719415126448,
          1.261719415126448,
          0.769762663709598,
          -2.1788140549407484,
          -0.9346767808418768,
          -1.4266335322587262,
          -0.21209651544998115,
          -0.21209651544998115,
          -0.21209651544998115,
          -0.21209651544998115,
          1.4263607721966038,
          0.06560993158109922,
          0.09223380923736678,
          1.3379614882634596,
          -0.11237166560999334,
          1.1333560134160994,
          0.6783250019799228,
          0.6783250019799228,
          -0.7561576015133361,
          0.48886410568862687,
          -0.029716523384490264,
          -0.1424373194842204,
          0.5307822476378202,
          1.0493628767109375,
          -0.07080750431994351,
          1.3918289510613544,
          1.0443378801403576,
          0.7509375152851436,
          0.7509375152851436,
          -0.013135274648504669,
          -1.294455025527459,
          -0.5685837746570855,
          -0.6175529238905952,
          0.1355120318945182,
          -0.3165421205778019,
          -0.3165421205778019,
          0.9291855584482901,
          -0.7545192549312886,
          0.45710721791199904,
          -0.8779591645047371,
          0.3507165992146665,
          -0.44483096267890826,
          0.7667955101643789,
          0.2748387587475294,
          -0.25562694331581626,
          0.9557738284981957,
          0.4638170770813459,
          0.4457321260029898,
          -0.3149896710427113,
          0.9307380079833808,
          0.44673951993786926,
          -0.680205551187553,
          0.08160663169727972,
          -1.58257991529917,
          -0.37148357743162225,
          -0.9433119618172745,
          -2.26916012109656,
          -1.0250228469976876,
          -1.0442887918338803,
          -1.112153079619618,
          -0.2794246612667652,
          -0.25029168193672385,
          0.5034792456725188,
          -0.24052764514857825,
          0.9778964287028473,
          0.48593967728599746,
          -1.5257735243775126,
          -0.308260127934908,
          -0.32752607277110163,
          -0.8002168793517578,
          -0.817685089245465,
          0.16859641845321577,
          -1.573144051251176
         ]
        },
        {
         "customdata": [
          [
           "Recycle"
          ],
          [
           "Garbage"
          ],
          [
           "Recycle"
          ],
          [
           "Recycle"
          ],
          [
           "Compost"
          ],
          [
           "Recycle"
          ],
          [
           "Garbage"
          ],
          [
           "Garbage"
          ],
          [
           "Recycle"
          ],
          [
           "Compost"
          ],
          [
           "Garbage"
          ],
          [
           "Recycle"
          ],
          [
           "Recycle"
          ],
          [
           "Garbage"
          ],
          [
           "Recycle"
          ],
          [
           "Recycle"
          ],
          [
           "Recycle"
          ],
          [
           "Recycle"
          ],
          [
           "Recycle"
          ],
          [
           "Recycle"
          ],
          [
           "Compost"
          ],
          [
           "Recycle"
          ],
          [
           "Garbage"
          ],
          [
           "Recycle"
          ],
          [
           "Recycle"
          ],
          [
           "Recycle"
          ],
          [
           "Recycle"
          ],
          [
           "Garbage"
          ],
          [
           "Recycle"
          ],
          [
           "Recycle"
          ],
          [
           "Recycle"
          ],
          [
           "Compost"
          ],
          [
           "Compost"
          ],
          [
           "Compost"
          ],
          [
           "Garbage"
          ],
          [
           "Recycle"
          ],
          [
           "Recycle"
          ],
          [
           "Garbage"
          ],
          [
           "Recycle"
          ],
          [
           "Recycle"
          ],
          [
           "Recycle"
          ],
          [
           "Garbage"
          ],
          [
           "Recycle"
          ],
          [
           "Garbage"
          ],
          [
           "Recycle"
          ],
          [
           "Recycle"
          ],
          [
           "Garbage"
          ],
          [
           "Recycle"
          ],
          [
           "Garbage"
          ],
          [
           "Recycle"
          ],
          [
           "Garbage"
          ],
          [
           "Recycle"
          ],
          [
           "Garbage"
          ],
          [
           "Recycle"
          ],
          [
           "Garbage"
          ],
          [
           "Recycle"
          ],
          [
           "Garbage"
          ],
          [
           "Recycle"
          ],
          [
           "Compost"
          ],
          [
           "Compost"
          ],
          [
           "Recycle"
          ],
          [
           "Recycle"
          ],
          [
           "Garbage"
          ],
          [
           "Recycle"
          ],
          [
           "Recycle"
          ],
          [
           "Recycle"
          ],
          [
           "Compost"
          ],
          [
           "Garbage"
          ],
          [
           "Recycle"
          ],
          [
           "Compost"
          ],
          [
           "Recycle"
          ],
          [
           "Garbage"
          ],
          [
           "Compost"
          ],
          [
           "Recycle"
          ],
          [
           "Recycle"
          ],
          [
           "Garbage"
          ],
          [
           "Recycle"
          ],
          [
           "Compost"
          ],
          [
           "Recycle"
          ],
          [
           "Recycle"
          ],
          [
           "Garbage"
          ],
          [
           "Recycle"
          ],
          [
           "Recycle"
          ],
          [
           "Recycle"
          ],
          [
           "Recycle"
          ],
          [
           "Recycle"
          ],
          [
           "Recycle"
          ],
          [
           "Recycle"
          ],
          [
           "Recycle"
          ],
          [
           "Compost"
          ],
          [
           "Garbage"
          ],
          [
           "Garbage"
          ],
          [
           "Recycle"
          ],
          [
           "Recycle"
          ],
          [
           "Garbage"
          ],
          [
           "Compost"
          ],
          [
           "Garbage"
          ],
          [
           "Recycle"
          ],
          [
           "Compost"
          ],
          [
           "Recycle"
          ],
          [
           "Recycle"
          ],
          [
           "Garbage"
          ],
          [
           "Recycle"
          ],
          [
           "Garbage"
          ],
          [
           "Recycle"
          ],
          [
           "Compost"
          ],
          [
           "Recycle"
          ],
          [
           "Recycle"
          ],
          [
           "Recycle"
          ],
          [
           "Recycle"
          ],
          [
           "Garbage"
          ],
          [
           "Garbage"
          ],
          [
           "Recycle"
          ],
          [
           "Garbage"
          ],
          [
           "Garbage"
          ],
          [
           "Recycle"
          ],
          [
           "Garbage"
          ],
          [
           "Recycle"
          ],
          [
           "Garbage"
          ],
          [
           "Compost"
          ],
          [
           "Garbage"
          ],
          [
           "Recycle"
          ],
          [
           "Recycle"
          ],
          [
           "Recycle"
          ],
          [
           "Garbage"
          ],
          [
           "Recycle"
          ],
          [
           "Garbage"
          ],
          [
           "Recycle"
          ],
          [
           "Compost"
          ],
          [
           "Garbage"
          ],
          [
           "Compost"
          ],
          [
           "Compost"
          ],
          [
           "Compost"
          ],
          [
           "Recycle"
          ],
          [
           "Garbage"
          ],
          [
           "Recycle"
          ],
          [
           "Recycle"
          ],
          [
           "Recycle"
          ],
          [
           "Recycle"
          ],
          [
           "Recycle"
          ],
          [
           "Recycle"
          ],
          [
           "Recycle"
          ],
          [
           "Recycle"
          ],
          [
           "Recycle"
          ],
          [
           "Garbage"
          ],
          [
           "Recycle"
          ],
          [
           "Recycle"
          ],
          [
           "Recycle"
          ],
          [
           "Garbage"
          ],
          [
           "Recycle"
          ],
          [
           "Recycle"
          ],
          [
           "Recycle"
          ],
          [
           "Recycle"
          ],
          [
           "Garbage"
          ],
          [
           "Recycle"
          ],
          [
           "Compost"
          ],
          [
           "Compost"
          ],
          [
           "Garbage"
          ],
          [
           "Recycle"
          ],
          [
           "Recycle"
          ],
          [
           "Garbage"
          ],
          [
           "Recycle"
          ],
          [
           "Recycle"
          ],
          [
           "Compost"
          ],
          [
           "Garbage"
          ],
          [
           "Recycle"
          ],
          [
           "Compost"
          ],
          [
           "Garbage"
          ],
          [
           "Recycle"
          ],
          [
           "Compost"
          ],
          [
           "Garbage"
          ],
          [
           "Recycle"
          ],
          [
           "Recycle"
          ],
          [
           "Recycle"
          ],
          [
           "Recycle"
          ],
          [
           "Compost"
          ],
          [
           "Recycle"
          ],
          [
           "Recycle"
          ],
          [
           "Recycle"
          ],
          [
           "Garbage"
          ],
          [
           "Recycle"
          ],
          [
           "Garbage"
          ],
          [
           "Recycle"
          ],
          [
           "Compost"
          ],
          [
           "Recycle"
          ],
          [
           "Garbage"
          ],
          [
           "Garbage"
          ],
          [
           "Recycle"
          ],
          [
           "Garbage"
          ],
          [
           "Recycle"
          ],
          [
           "Compost"
          ],
          [
           "Compost"
          ],
          [
           "Recycle"
          ],
          [
           "Recycle"
          ],
          [
           "Garbage"
          ],
          [
           "Recycle"
          ],
          [
           "Recycle"
          ],
          [
           "Recycle"
          ],
          [
           "Recycle"
          ],
          [
           "Recycle"
          ],
          [
           "Recycle"
          ],
          [
           "Recycle"
          ],
          [
           "Recycle"
          ],
          [
           "Compost"
          ],
          [
           "Compost"
          ],
          [
           "Garbage"
          ],
          [
           "Recycle"
          ],
          [
           "Garbage"
          ],
          [
           "Recycle"
          ],
          [
           "Garbage"
          ],
          [
           "Recycle"
          ],
          [
           "Compost"
          ],
          [
           "Compost"
          ],
          [
           "Compost"
          ],
          [
           "Recycle"
          ],
          [
           "Garbage"
          ],
          [
           "Garbage"
          ],
          [
           "Recycle"
          ],
          [
           "Recycle"
          ],
          [
           "Recycle"
          ],
          [
           "Recycle"
          ],
          [
           "Compost"
          ],
          [
           "Compost"
          ],
          [
           "Compost"
          ],
          [
           "Recycle"
          ],
          [
           "Recycle"
          ],
          [
           "Recycle"
          ],
          [
           "Recycle"
          ],
          [
           "Compost"
          ],
          [
           "Recycle"
          ],
          [
           "Recycle"
          ],
          [
           "Recycle"
          ],
          [
           "Recycle"
          ],
          [
           "Recycle"
          ],
          [
           "Compost"
          ],
          [
           "Compost"
          ],
          [
           "Garbage"
          ],
          [
           "Recycle"
          ],
          [
           "Recycle"
          ],
          [
           "Recycle"
          ],
          [
           "Recycle"
          ],
          [
           "Recycle"
          ],
          [
           "Recycle"
          ],
          [
           "Garbage"
          ],
          [
           "Garbage"
          ],
          [
           "Recycle"
          ],
          [
           "Recycle"
          ],
          [
           "Recycle"
          ],
          [
           "Recycle"
          ],
          [
           "Recycle"
          ],
          [
           "Recycle"
          ],
          [
           "Recycle"
          ],
          [
           "Compost"
          ],
          [
           "Compost"
          ],
          [
           "Garbage"
          ],
          [
           "Recycle"
          ],
          [
           "Recycle"
          ],
          [
           "Recycle"
          ],
          [
           "Recycle"
          ],
          [
           "Garbage"
          ],
          [
           "Recycle"
          ],
          [
           "Recycle"
          ],
          [
           "Recycle"
          ],
          [
           "Garbage"
          ],
          [
           "Garbage"
          ],
          [
           "Recycle"
          ],
          [
           "Compost"
          ],
          [
           "Recycle"
          ],
          [
           "Recycle"
          ],
          [
           "Garbage"
          ],
          [
           "Recycle"
          ],
          [
           "Garbage"
          ],
          [
           "Recycle"
          ],
          [
           "Recycle"
          ],
          [
           "Compost"
          ],
          [
           "Compost"
          ],
          [
           "Compost"
          ],
          [
           "Garbage"
          ],
          [
           "Recycle"
          ],
          [
           "Recycle"
          ],
          [
           "Compost"
          ],
          [
           "Garbage"
          ],
          [
           "Recycle"
          ],
          [
           "Recycle"
          ],
          [
           "Recycle"
          ],
          [
           "Garbage"
          ],
          [
           "Recycle"
          ],
          [
           "Compost"
          ],
          [
           "Garbage"
          ],
          [
           "Recycle"
          ],
          [
           "Recycle"
          ],
          [
           "Recycle"
          ],
          [
           "Garbage"
          ],
          [
           "Recycle"
          ],
          [
           "Garbage"
          ],
          [
           "Garbage"
          ],
          [
           "Recycle"
          ],
          [
           "Recycle"
          ],
          [
           "Compost"
          ],
          [
           "Garbage"
          ],
          [
           "Recycle"
          ],
          [
           "Recycle"
          ],
          [
           "Recycle"
          ],
          [
           "Recycle"
          ],
          [
           "Recycle"
          ],
          [
           "Recycle"
          ],
          [
           "Compost"
          ],
          [
           "Compost"
          ],
          [
           "Compost"
          ],
          [
           "Recycle"
          ],
          [
           "Recycle"
          ],
          [
           "Garbage"
          ],
          [
           "Recycle"
          ],
          [
           "Compost"
          ],
          [
           "Recycle"
          ],
          [
           "Garbage"
          ],
          [
           "Garbage"
          ],
          [
           "Recycle"
          ],
          [
           "Compost"
          ],
          [
           "Garbage"
          ],
          [
           "Recycle"
          ],
          [
           "Recycle"
          ],
          [
           "Recycle"
          ],
          [
           "Garbage"
          ],
          [
           "Recycle"
          ],
          [
           "Recycle"
          ],
          [
           "Recycle"
          ],
          [
           "Garbage"
          ],
          [
           "Compost"
          ],
          [
           "Compost"
          ],
          [
           "Recycle"
          ],
          [
           "Recycle"
          ],
          [
           "Garbage"
          ],
          [
           "Recycle"
          ],
          [
           "Recycle"
          ],
          [
           "Garbage"
          ],
          [
           "Recycle"
          ],
          [
           "Garbage"
          ],
          [
           "Recycle"
          ],
          [
           "Recycle"
          ],
          [
           "Recycle"
          ],
          [
           "Recycle"
          ],
          [
           "Recycle"
          ],
          [
           "Recycle"
          ],
          [
           "Compost"
          ],
          [
           "Compost"
          ],
          [
           "Garbage"
          ],
          [
           "Recycle"
          ],
          [
           "Recycle"
          ],
          [
           "Recycle"
          ],
          [
           "Recycle"
          ],
          [
           "Compost"
          ],
          [
           "Recycle"
          ],
          [
           "Recycle"
          ],
          [
           "Recycle"
          ],
          [
           "Garbage"
          ],
          [
           "Recycle"
          ],
          [
           "Recycle"
          ],
          [
           "Recycle"
          ],
          [
           "Recycle"
          ],
          [
           "Recycle"
          ],
          [
           "Recycle"
          ],
          [
           "Garbage"
          ],
          [
           "Recycle"
          ],
          [
           "Recycle"
          ],
          [
           "Recycle"
          ],
          [
           "Garbage"
          ],
          [
           "Garbage"
          ],
          [
           "Recycle"
          ],
          [
           "Compost"
          ],
          [
           "Garbage"
          ],
          [
           "Recycle"
          ],
          [
           "Recycle"
          ],
          [
           "Recycle"
          ],
          [
           "Recycle"
          ],
          [
           "Recycle"
          ],
          [
           "Garbage"
          ],
          [
           "Recycle"
          ],
          [
           "Recycle"
          ],
          [
           "Recycle"
          ],
          [
           "Garbage"
          ],
          [
           "Recycle"
          ],
          [
           "Compost"
          ],
          [
           "Garbage"
          ],
          [
           "Recycle"
          ],
          [
           "Recycle"
          ],
          [
           "Recycle"
          ],
          [
           "Garbage"
          ],
          [
           "Compost"
          ],
          [
           "Recycle"
          ],
          [
           "Garbage"
          ],
          [
           "Recycle"
          ],
          [
           "Recycle"
          ],
          [
           "Recycle"
          ],
          [
           "Recycle"
          ],
          [
           "Compost"
          ],
          [
           "Compost"
          ],
          [
           "Recycle"
          ],
          [
           "Recycle"
          ],
          [
           "Recycle"
          ],
          [
           "Recycle"
          ],
          [
           "Recycle"
          ],
          [
           "Recycle"
          ],
          [
           "Recycle"
          ],
          [
           "Recycle"
          ],
          [
           "Recycle"
          ],
          [
           "Recycle"
          ],
          [
           "Recycle"
          ],
          [
           "Garbage"
          ],
          [
           "Recycle"
          ],
          [
           "Compost"
          ],
          [
           "Garbage"
          ],
          [
           "Garbage"
          ],
          [
           "Recycle"
          ],
          [
           "Recycle"
          ],
          [
           "Recycle"
          ],
          [
           "Recycle"
          ],
          [
           "Recycle"
          ],
          [
           "Compost"
          ],
          [
           "Garbage"
          ],
          [
           "Recycle"
          ],
          [
           "Compost"
          ],
          [
           "Compost"
          ],
          [
           "Compost"
          ],
          [
           "Recycle"
          ],
          [
           "Recycle"
          ],
          [
           "Recycle"
          ],
          [
           "Garbage"
          ],
          [
           "Recycle"
          ],
          [
           "Recycle"
          ],
          [
           "Recycle"
          ],
          [
           "Recycle"
          ],
          [
           "Garbage"
          ],
          [
           "Garbage"
          ],
          [
           "Recycle"
          ],
          [
           "Recycle"
          ],
          [
           "Garbage"
          ],
          [
           "Compost"
          ],
          [
           "Recycle"
          ],
          [
           "Recycle"
          ],
          [
           "Recycle"
          ],
          [
           "Recycle"
          ],
          [
           "Recycle"
          ],
          [
           "Recycle"
          ],
          [
           "Recycle"
          ],
          [
           "Recycle"
          ],
          [
           "Recycle"
          ],
          [
           "Recycle"
          ],
          [
           "Recycle"
          ],
          [
           "Recycle"
          ],
          [
           "Recycle"
          ],
          [
           "Recycle"
          ],
          [
           "Recycle"
          ],
          [
           "Compost"
          ],
          [
           "Recycle"
          ],
          [
           "Recycle"
          ],
          [
           "Recycle"
          ],
          [
           "Garbage"
          ],
          [
           "Recycle"
          ],
          [
           "Recycle"
          ],
          [
           "Recycle"
          ],
          [
           "Recycle"
          ],
          [
           "Compost"
          ],
          [
           "Garbage"
          ],
          [
           "Recycle"
          ],
          [
           "Recycle"
          ],
          [
           "Recycle"
          ],
          [
           "Recycle"
          ],
          [
           "Recycle"
          ],
          [
           "Recycle"
          ],
          [
           "Garbage"
          ],
          [
           "Recycle"
          ],
          [
           "Recycle"
          ],
          [
           "Recycle"
          ],
          [
           "Compost"
          ],
          [
           "Compost"
          ],
          [
           "Compost"
          ],
          [
           "Recycle"
          ],
          [
           "Garbage"
          ],
          [
           "Recycle"
          ],
          [
           "Recycle"
          ],
          [
           "Garbage"
          ],
          [
           "Recycle"
          ],
          [
           "Compost"
          ],
          [
           "Garbage"
          ],
          [
           "Garbage"
          ],
          [
           "Recycle"
          ],
          [
           "Recycle"
          ],
          [
           "Recycle"
          ],
          [
           "Garbage"
          ],
          [
           "Recycle"
          ],
          [
           "Recycle"
          ],
          [
           "Recycle"
          ],
          [
           "Recycle"
          ],
          [
           "Recycle"
          ],
          [
           "Garbage"
          ],
          [
           "Recycle"
          ],
          [
           "Recycle"
          ],
          [
           "Recycle"
          ],
          [
           "Garbage"
          ],
          [
           "Recycle"
          ],
          [
           "Garbage"
          ],
          [
           "Recycle"
          ],
          [
           "Garbage"
          ],
          [
           "Garbage"
          ],
          [
           "Recycle"
          ],
          [
           "Compost"
          ],
          [
           "Recycle"
          ],
          [
           "Recycle"
          ],
          [
           "Recycle"
          ],
          [
           "Recycle"
          ],
          [
           "Recycle"
          ],
          [
           "Recycle"
          ],
          [
           "Recycle"
          ],
          [
           "Recycle"
          ],
          [
           "Recycle"
          ],
          [
           "Recycle"
          ],
          [
           "Recycle"
          ],
          [
           "Compost"
          ],
          [
           "Recycle"
          ],
          [
           "Compost"
          ],
          [
           "Compost"
          ],
          [
           "Compost"
          ],
          [
           "Recycle"
          ],
          [
           "Garbage"
          ],
          [
           "Recycle"
          ],
          [
           "Garbage"
          ],
          [
           "Recycle"
          ],
          [
           "Compost"
          ],
          [
           "Recycle"
          ],
          [
           "Recycle"
          ],
          [
           "Recycle"
          ],
          [
           "Recycle"
          ],
          [
           "Recycle"
          ],
          [
           "Recycle"
          ],
          [
           "Garbage"
          ],
          [
           "Recycle"
          ],
          [
           "Garbage"
          ],
          [
           "Recycle"
          ],
          [
           "Compost"
          ],
          [
           "Garbage"
          ],
          [
           "Compost"
          ],
          [
           "Recycle"
          ],
          [
           "Garbage"
          ],
          [
           "Recycle"
          ],
          [
           "Garbage"
          ],
          [
           "Recycle"
          ],
          [
           "Recycle"
          ],
          [
           "Garbage"
          ],
          [
           "Garbage"
          ],
          [
           "Recycle"
          ],
          [
           "Compost"
          ],
          [
           "Recycle"
          ],
          [
           "Recycle"
          ],
          [
           "Recycle"
          ],
          [
           "Garbage"
          ],
          [
           "Recycle"
          ],
          [
           "Recycle"
          ],
          [
           "Recycle"
          ],
          [
           "Recycle"
          ],
          [
           "Compost"
          ],
          [
           "Recycle"
          ],
          [
           "Recycle"
          ],
          [
           "Recycle"
          ],
          [
           "Garbage"
          ],
          [
           "Garbage"
          ],
          [
           "Recycle"
          ],
          [
           "Recycle"
          ],
          [
           "Recycle"
          ],
          [
           "Recycle"
          ],
          [
           "Recycle"
          ],
          [
           "Recycle"
          ],
          [
           "Recycle"
          ],
          [
           "Recycle"
          ],
          [
           "Recycle"
          ],
          [
           "Compost"
          ],
          [
           "Recycle"
          ],
          [
           "Recycle"
          ],
          [
           "Recycle"
          ],
          [
           "Recycle"
          ],
          [
           "Compost"
          ],
          [
           "Compost"
          ],
          [
           "Recycle"
          ],
          [
           "Recycle"
          ],
          [
           "Recycle"
          ],
          [
           "Recycle"
          ],
          [
           "Garbage"
          ],
          [
           "Recycle"
          ],
          [
           "Recycle"
          ],
          [
           "Recycle"
          ],
          [
           "Compost"
          ],
          [
           "Compost"
          ],
          [
           "Recycle"
          ],
          [
           "Recycle"
          ],
          [
           "Garbage"
          ],
          [
           "Recycle"
          ],
          [
           "Recycle"
          ],
          [
           "Recycle"
          ],
          [
           "Recycle"
          ],
          [
           "Recycle"
          ],
          [
           "Recycle"
          ],
          [
           "Garbage"
          ],
          [
           "Recycle"
          ],
          [
           "Compost"
          ],
          [
           "Recycle"
          ],
          [
           "Garbage"
          ],
          [
           "Recycle"
          ],
          [
           "Recycle"
          ],
          [
           "Recycle"
          ],
          [
           "Recycle"
          ],
          [
           "Garbage"
          ],
          [
           "Recycle"
          ],
          [
           "Recycle"
          ],
          [
           "Recycle"
          ],
          [
           "Garbage"
          ],
          [
           "Recycle"
          ],
          [
           "Garbage"
          ],
          [
           "Garbage"
          ],
          [
           "Recycle"
          ],
          [
           "Recycle"
          ],
          [
           "Compost"
          ],
          [
           "Garbage"
          ],
          [
           "Garbage"
          ],
          [
           "Recycle"
          ],
          [
           "Recycle"
          ],
          [
           "Recycle"
          ],
          [
           "Recycle"
          ],
          [
           "Recycle"
          ],
          [
           "Recycle"
          ],
          [
           "Recycle"
          ],
          [
           "Garbage"
          ],
          [
           "Recycle"
          ],
          [
           "Compost"
          ],
          [
           "Compost"
          ],
          [
           "Compost"
          ],
          [
           "Garbage"
          ],
          [
           "Recycle"
          ],
          [
           "Recycle"
          ],
          [
           "Recycle"
          ],
          [
           "Recycle"
          ],
          [
           "Garbage"
          ],
          [
           "Recycle"
          ],
          [
           "Garbage"
          ],
          [
           "Recycle"
          ],
          [
           "Recycle"
          ],
          [
           "Garbage"
          ],
          [
           "Recycle"
          ],
          [
           "Recycle"
          ],
          [
           "Recycle"
          ],
          [
           "Recycle"
          ],
          [
           "Recycle"
          ],
          [
           "Recycle"
          ],
          [
           "Recycle"
          ],
          [
           "Recycle"
          ],
          [
           "Garbage"
          ],
          [
           "Recycle"
          ],
          [
           "Garbage"
          ],
          [
           "Recycle"
          ],
          [
           "Recycle"
          ],
          [
           "Recycle"
          ],
          [
           "Garbage"
          ],
          [
           "Recycle"
          ],
          [
           "Recycle"
          ],
          [
           "Garbage"
          ],
          [
           "Recycle"
          ],
          [
           "Recycle"
          ],
          [
           "Garbage"
          ],
          [
           "Garbage"
          ],
          [
           "Recycle"
          ],
          [
           "Recycle"
          ],
          [
           "Recycle"
          ],
          [
           "Recycle"
          ],
          [
           "Recycle"
          ],
          [
           "Garbage"
          ],
          [
           "Recycle"
          ],
          [
           "Garbage"
          ],
          [
           "Recycle"
          ],
          [
           "Compost"
          ],
          [
           "Garbage"
          ],
          [
           "Recycle"
          ],
          [
           "Compost"
          ],
          [
           "Recycle"
          ],
          [
           "Recycle"
          ],
          [
           "Garbage"
          ],
          [
           "Garbage"
          ],
          [
           "Garbage"
          ],
          [
           "Recycle"
          ],
          [
           "Compost"
          ],
          [
           "Garbage"
          ],
          [
           "Recycle"
          ],
          [
           "Garbage"
          ],
          [
           "Recycle"
          ],
          [
           "Recycle"
          ]
         ],
         "hovertemplate": "<b>%{hovertext}</b><br><br>Class=%{marker.color}<br>PC 1=%{x}<br>PC 2=%{y}<br>PC 3=%{z}<br>commodity=%{customdata[0]}<extra></extra>",
         "hovertext": [
          "WINERY",
          "WINERY",
          "WINERY",
          "WINERY",
          "WINERY",
          "WINERY",
          "WINERY",
          "WINERY",
          "WINERY",
          "WINERY",
          "WINERY",
          "WINERY",
          "WINERY",
          "WINERY",
          "WINERY",
          "WINERY",
          "WINERY",
          "WINERY",
          "WINERY",
          "WINERY",
          "WINERY",
          "WINERY",
          "WINERY",
          "WINERY",
          "WINERY",
          "WINERY",
          "WINERY",
          "WINERY",
          "PRESCHOOL",
          "WINERY",
          "WINERY",
          "WINERY",
          "WINERY",
          "WINERY",
          "WINERY",
          "WINERY",
          "WINERY",
          "VINEYARD",
          "VINEYARD",
          "VINEYARD",
          "VINEYARD",
          "VINEYARD",
          "VINEYARD",
          "VINEYARD",
          "VINEYARD",
          "VINEYARD",
          "WINERY",
          "WINERY",
          "WINERY",
          "WINERY",
          "WINERY",
          "WINERY",
          "WINERY",
          "WINERY",
          "VINEYARD",
          "VINEYARD",
          "WINERY",
          "WINERY",
          "WINERY",
          "WINERY",
          "WINERY",
          "WINERY",
          "MIXED USE",
          "MIXED USE",
          "MIXED USE",
          "MIXED USE",
          "MIXED USE",
          "WINERY",
          "WINERY",
          "WINERY",
          "WINERY",
          "WINERY",
          "WINERY",
          "WINERY",
          "WINERY",
          "WINERY",
          "WINERY",
          "WINERY",
          "WINERY",
          "WINERY",
          "WINERY",
          "WINERY",
          "WINERY",
          "WINERY",
          "WINERY",
          "WINERY",
          "WINERY",
          "WINERY",
          "WINERY",
          "WINERY",
          "WINERY",
          "WINERY",
          "WINERY",
          "WINERY",
          "WINERY",
          "WINERY",
          "WINERY",
          "WINERY",
          "WINERY",
          "WINERY",
          "WINERY",
          "WINERY",
          "WINERY",
          "WINERY",
          "WINERY",
          "WINERY",
          "UTILITY",
          "UTILITY",
          "UTILITY",
          "WINERY",
          "WINERY",
          "WINERY",
          "WINERY",
          "WINERY",
          "LANDSCAPER",
          "LANDSCAPER",
          "WINERY",
          "WINERY",
          "WINERY",
          "WINERY",
          "WINERY",
          "WINERY",
          "WINERY",
          "WINERY",
          "WINERY",
          "WINERY",
          "CONTRACTOR",
          "CONTRACTOR",
          "CONTRACTOR",
          "MIXED USE",
          "MIXED USE",
          "MIXED USE",
          "MIXED USE",
          "MIXED USE",
          "WINERY",
          "WINERY",
          "RESTAURANT",
          "RESTAURANT",
          "RESTAURANT",
          "RESTAURANT",
          "RESTAURANT",
          "RESTAURANT",
          "RESTAURANT",
          "RESTAURANT",
          "WINERY",
          "WINERY",
          "WINERY",
          "WINERY",
          "WINERY",
          "WINERY",
          "WINERY",
          "WINERY",
          "LODGING",
          "WINERY",
          "WINERY",
          "WINERY",
          "WINERY",
          "WINERY",
          "WINERY",
          "WINERY",
          "WINERY",
          "WINERY",
          "WINERY",
          "WINERY",
          "WINERY",
          "WINERY",
          "WINERY",
          "WINERY",
          "WINERY",
          "WINERY",
          "WINERY",
          "WINERY",
          "WINERY",
          "WINERY",
          "WINERY",
          "WINERY",
          "WINERY",
          "WINERY",
          "WINERY",
          "WINERY",
          "WINERY",
          "WINERY",
          "WINERY",
          "WINERY",
          "WINERY",
          "WINERY",
          "CONTRACTOR",
          "CONTRACTOR",
          "WINERY",
          "WINERY",
          "WINERY",
          "WINERY",
          "WINERY",
          "WINERY",
          "WINERY",
          "WINERY",
          "WINERY",
          "WINERY",
          "WINERY",
          "WINERY",
          "WINERY",
          "WINERY",
          "WINERY",
          "WINERY",
          "WINERY",
          "WINERY",
          "WINERY",
          "WINERY",
          "WINERY",
          "WINERY",
          "WINERY",
          "WINERY",
          "WINERY",
          "VINEYARD",
          "VINEYARD",
          "VINEYARD",
          "CONTRACTOR",
          "POSTOFFICE",
          "CHURCH",
          "WINERY",
          "WINERY",
          "WINERY",
          "WINERY",
          "WINERY",
          "WINERY",
          "WINERY",
          "WINERY",
          "WINERY",
          "WINERY",
          "WINERY",
          "LODGING-FW",
          "LODGING-FW",
          "LODGING-FW",
          "LODGING-FW",
          "LODGING-FW",
          "LODGING-FW",
          "UTILITY",
          "UTILITY",
          "UTILITY",
          "WINERY",
          "WINERY",
          "WINERY",
          "LODGING-FW",
          "MEMBER",
          "VINEYARD",
          "VINEYARD",
          "VINEYARD",
          "VINEYARD",
          "GROUP HOME",
          "GROUP HOME",
          "GROUP HOME",
          "GROUP HOME",
          "GROUP HOME",
          "GROUP HOME",
          "INDUSTRIAL",
          "INDUSTRIAL",
          "INDUSTRIAL",
          "INDUSTRIAL",
          "INDUSTRIAL",
          "WINERY",
          "WINERY",
          "WINERY",
          "WINERY",
          "HOSPITAL",
          "MOBILEHOME",
          "MOBILEHOME",
          "MOBILEHOME",
          "MOBILEHOME",
          "MOBILEHOME",
          "HOSPITAL",
          "HOSPITAL",
          "WINERY",
          "WINERY",
          "WINERY",
          "WINERY",
          "WINERY",
          "WINERY",
          "POLICEFIRE",
          "POLICEFIRE",
          "POLICEFIRE",
          "POLICEFIRE",
          "WINERY",
          "WINERY",
          "WINERY",
          "WINERY",
          "SCHOOL",
          "SCHOOL",
          "SCHOOL",
          "VINEYARD",
          "VINEYARD",
          "VINEYARD",
          "VINEYARD",
          "CHURCH",
          "CHURCH",
          "SCHOOL",
          "SCHOOL",
          "SCHOOL",
          "SCHOOL",
          "SCHOOL",
          "SCHOOL",
          "SCHOOL",
          "SCHOOL",
          "SCHOOL",
          "SCHOOL",
          "SCHOOL",
          "SCHOOL",
          "SCHOOL",
          "SCHOOL",
          "SCHOOL",
          "SCHOOL",
          "VINEYARD",
          "WINERY",
          "WINERY",
          "WINERY",
          "WINERY",
          "VINEYARD",
          "WINERY",
          "WINERY",
          "WINERY",
          "VINEYARD",
          "VINEYARD",
          "VINEYARD",
          "VINEYARD",
          "WINERY",
          "WINERY",
          "WINERY",
          "WINERY",
          "WINERY",
          "WINERY",
          "WINERY",
          "WINERY",
          "WINERY",
          "WINERY",
          "WINERY",
          "WINERY",
          "POSTOFFICE",
          "POSTOFFICE",
          "WINERY",
          "WINERY",
          "WINERY",
          "WINERY",
          "WINERY",
          "GROCERY",
          "WINERY",
          "WINERY",
          "WINERY",
          "VINEYARD",
          "VINEYARD",
          "WINERY",
          "WINERY",
          "WINERY",
          "WINERY",
          "WINERY",
          "WINERY",
          "WINERY",
          "VINEYARD",
          "VINEYARD",
          "WINERY",
          "WINERY",
          "WINERY",
          "WINERY",
          "WINERY",
          "CONTRACTOR",
          "WINERY",
          "WINERY",
          "WINERY",
          "WINERY",
          "WINERY",
          "WINERY",
          "WINERY",
          "WINERY",
          "WINERY",
          "WINERY",
          "WINERY",
          "WINERY",
          "WINERY",
          "WINERY",
          "WINERY",
          "WINERY",
          "WINERY",
          "WINERY",
          "WINERY",
          "WINERY",
          "WINERY",
          "WINERY",
          "WINERY",
          "HOME IMPRO",
          "WINERY",
          "WINERY",
          "WINERY",
          "WINERY",
          "WINERY",
          "WINERY",
          "WINERY",
          "WINERY",
          "WINERY",
          "WINERY",
          "WINERY",
          "WINERY",
          "WINERY",
          "WINERY",
          "WINERY",
          "WINERY",
          "WINERY",
          "WINERY",
          "WINERY",
          "WINERY",
          "WINERY",
          "VINEYARD",
          "VINEYARD",
          "VINEYARD",
          "WINERY",
          "WINERY",
          "WINERY",
          "WINERY",
          "WINERY",
          "WINERY",
          "WINERY",
          "WINERY",
          "WINERY",
          "WINERY",
          "WINERY",
          "WINERY",
          "WINERY",
          "WINERY",
          "WINERY",
          "WINERY",
          "WINERY",
          "WINERY",
          "WINERY",
          "WINERY",
          "WINERY",
          "PARK",
          "PARK",
          "PARK",
          "PARK",
          "WINERY",
          "WINERY",
          "WINERY",
          "WINERY",
          "WINERY",
          "WINERY",
          "WINERY",
          "WINERY",
          "WINERY",
          "WINERY",
          "WINERY",
          "WINERY",
          "WINERY",
          "WINERY",
          "WINERY",
          "WINERY",
          "WINERY",
          "WINERY",
          "WINERY",
          "WINERY",
          "WINERY",
          "WINERY",
          "WINERY",
          "WINERY",
          "WINERY",
          "WINERY",
          "WINERY",
          "WINERY",
          "WINERY",
          "WINERY",
          "WINERY",
          "WINERY",
          "WINERY",
          "WINERY",
          "WINERY",
          "WINERY",
          "WINERY",
          "RESTAURANT",
          "RESTAURANT",
          "RESTAURANT",
          "RESTAURANT",
          "RESTAURANT",
          "WINERY",
          "WINERY",
          "WINERY",
          "WINERY",
          "WINERY",
          "WINERY",
          "WINERY",
          "WINERY",
          "WINERY",
          "WINERY",
          "OFFICE BLD",
          "WINERY",
          "WINERY",
          "WINERY",
          "WINERY",
          "WINERY",
          "WINERY",
          "WINERY",
          "WINERY",
          "WINERY",
          "OFFICE BLD",
          "VINEYARD",
          "WINERY",
          "WINERY",
          "WINERY",
          "WINERY",
          "WINERY",
          "WINERY",
          "WINERY",
          "WINERY",
          "MEDICAL",
          "MEDICAL",
          "MEDICAL",
          "MEDICAL",
          "MEDICAL",
          "MEDICAL",
          "MEDICAL",
          "MEDICAL",
          "MEMBER",
          "MEMBER",
          "WINERY",
          "WINERY",
          "WINERY",
          "WINERY",
          "WINERY",
          "WINERY",
          "VINEYARD",
          "VINEYARD",
          "VINEYARD",
          "VINEYARD",
          "VINEYARD",
          "WINERY",
          "WINERY",
          "WINERY",
          "WINERY",
          "WINERY",
          "WINERY",
          "WINERY",
          "WINERY",
          "WINERY",
          "WINERY",
          "WINERY",
          "WINERY",
          "WINERY",
          "WINERY",
          "POLICEFIRE",
          "POLICEFIRE",
          "CONTRACTOR",
          "CONTRACTOR",
          "COMMUNITY",
          "WINERY",
          "WINERY",
          "WINERY",
          "WINERY",
          "OFFICE BLD",
          "MULTIFAMIL",
          "MULTIFAMIL",
          "CONTRACTOR",
          "CONTRACTOR",
          "WINERY",
          "WINERY",
          "WINERY",
          "WINERY",
          "PARK",
          "WINERY",
          "WINERY",
          "VINEYARD",
          "WINERY",
          "WINERY",
          "WINERY",
          "WINERY",
          "WINERY",
          "WINERY",
          "WINERY",
          "WINERY",
          "WINERY",
          "CHURCH",
          "WINERY",
          "WINERY",
          "WINERY",
          "WINERY",
          "WINERY",
          "WINERY",
          "WINERY",
          "WINERY",
          "WINERY",
          "WINERY",
          "WINERY",
          "WINERY",
          "WINERY",
          "WINERY",
          "WINERY",
          "HOSPITAL",
          "HOSPITAL",
          "HOSPITAL",
          "HOSPITAL",
          "MEDICAL",
          "MEDICAL",
          "WINERY",
          "WINERY",
          "WINERY",
          "WINERY",
          "WINERY",
          "VINEYARD",
          "VINEYARD",
          "VINEYARD",
          "LODGING-FW",
          "LODGING-FW",
          "LODGING-FW",
          "WINERY",
          "WINERY",
          "WINERY",
          "MULTIFAMIL",
          "MULTIFAMIL",
          "MULTIFAMIL",
          "MULTIFAMIL",
          "POLICEFIRE",
          "POLICEFIRE",
          "WINERY",
          "WINERY",
          "WINERY",
          "WINERY",
          "WINERY",
          "WINERY",
          "WINERY",
          "WINERY",
          "WINERY",
          "WINERY",
          "WINERY",
          "WINERY",
          "WINERY",
          "WINERY",
          "VINEYARD",
          "VINEYARD",
          "VINEYARD",
          "VINEYARD",
          "VINEYARD",
          "WINERY",
          "WINERY",
          "WINERY",
          "WINERY",
          "MULTIFAMIL",
          "UTILITY",
          "UTILITY",
          "WINERY",
          "WINERY",
          "WINERY",
          "WINERY",
          "WINERY",
          "WINERY",
          "WINERY",
          "WINERY",
          "WINERY",
          "WINERY",
          "WINERY",
          "WINERY",
          "WINERY",
          "WINERY",
          "WINERY",
          "WINERY",
          "WINERY",
          "WINERY",
          "WINERY",
          "WINERY",
          "WINERY",
          "WINERY",
          "WINERY",
          "WINERY",
          "WINERY",
          "WINERY",
          "WINERY",
          "WINERY",
          "WINERY",
          "RETAIL",
          "WINERY",
          "CONTRACTOR",
          "LODGING",
          "WINERY",
          "WINERY",
          "WINERY",
          "VINEYARD",
          "VINEYARD",
          "VINEYARD",
          "WINERY",
          "WINERY",
          "LANDSCAPER",
          "CONTRACTOR",
          "MIXED USE",
          "MIXED USE",
          "MIXED USE",
          "LODGING-FW",
          "LODGING-FW",
          "WINERY",
          "WINERY",
          "WINERY"
         ],
         "legendgroup": "1",
         "marker": {
          "color": [
           1,
           1,
           1,
           1,
           1,
           1,
           1,
           1,
           1,
           1,
           1,
           1,
           1,
           1,
           1,
           1,
           1,
           1,
           1,
           1,
           1,
           1,
           1,
           1,
           1,
           1,
           1,
           1,
           1,
           1,
           1,
           1,
           1,
           1,
           1,
           1,
           1,
           1,
           1,
           1,
           1,
           1,
           1,
           1,
           1,
           1,
           1,
           1,
           1,
           1,
           1,
           1,
           1,
           1,
           1,
           1,
           1,
           1,
           1,
           1,
           1,
           1,
           1,
           1,
           1,
           1,
           1,
           1,
           1,
           1,
           1,
           1,
           1,
           1,
           1,
           1,
           1,
           1,
           1,
           1,
           1,
           1,
           1,
           1,
           1,
           1,
           1,
           1,
           1,
           1,
           1,
           1,
           1,
           1,
           1,
           1,
           1,
           1,
           1,
           1,
           1,
           1,
           1,
           1,
           1,
           1,
           1,
           1,
           1,
           1,
           1,
           1,
           1,
           1,
           1,
           1,
           1,
           1,
           1,
           1,
           1,
           1,
           1,
           1,
           1,
           1,
           1,
           1,
           1,
           1,
           1,
           1,
           1,
           1,
           1,
           1,
           1,
           1,
           1,
           1,
           1,
           1,
           1,
           1,
           1,
           1,
           1,
           1,
           1,
           1,
           1,
           1,
           1,
           1,
           1,
           1,
           1,
           1,
           1,
           1,
           1,
           1,
           1,
           1,
           1,
           1,
           1,
           1,
           1,
           1,
           1,
           1,
           1,
           1,
           1,
           1,
           1,
           1,
           1,
           1,
           1,
           1,
           1,
           1,
           1,
           1,
           1,
           1,
           1,
           1,
           1,
           1,
           1,
           1,
           1,
           1,
           1,
           1,
           1,
           1,
           1,
           1,
           1,
           1,
           1,
           1,
           1,
           1,
           1,
           1,
           1,
           1,
           1,
           1,
           1,
           1,
           1,
           1,
           1,
           1,
           1,
           1,
           1,
           1,
           1,
           1,
           1,
           1,
           1,
           1,
           1,
           1,
           1,
           1,
           1,
           1,
           1,
           1,
           1,
           1,
           1,
           1,
           1,
           1,
           1,
           1,
           1,
           1,
           1,
           1,
           1,
           1,
           1,
           1,
           1,
           1,
           1,
           1,
           1,
           1,
           1,
           1,
           1,
           1,
           1,
           1,
           1,
           1,
           1,
           1,
           1,
           1,
           1,
           1,
           1,
           1,
           1,
           1,
           1,
           1,
           1,
           1,
           1,
           1,
           1,
           1,
           1,
           1,
           1,
           1,
           1,
           1,
           1,
           1,
           1,
           1,
           1,
           1,
           1,
           1,
           1,
           1,
           1,
           1,
           1,
           1,
           1,
           1,
           1,
           1,
           1,
           1,
           1,
           1,
           1,
           1,
           1,
           1,
           1,
           1,
           1,
           1,
           1,
           1,
           1,
           1,
           1,
           1,
           1,
           1,
           1,
           1,
           1,
           1,
           1,
           1,
           1,
           1,
           1,
           1,
           1,
           1,
           1,
           1,
           1,
           1,
           1,
           1,
           1,
           1,
           1,
           1,
           1,
           1,
           1,
           1,
           1,
           1,
           1,
           1,
           1,
           1,
           1,
           1,
           1,
           1,
           1,
           1,
           1,
           1,
           1,
           1,
           1,
           1,
           1,
           1,
           1,
           1,
           1,
           1,
           1,
           1,
           1,
           1,
           1,
           1,
           1,
           1,
           1,
           1,
           1,
           1,
           1,
           1,
           1,
           1,
           1,
           1,
           1,
           1,
           1,
           1,
           1,
           1,
           1,
           1,
           1,
           1,
           1,
           1,
           1,
           1,
           1,
           1,
           1,
           1,
           1,
           1,
           1,
           1,
           1,
           1,
           1,
           1,
           1,
           1,
           1,
           1,
           1,
           1,
           1,
           1,
           1,
           1,
           1,
           1,
           1,
           1,
           1,
           1,
           1,
           1,
           1,
           1,
           1,
           1,
           1,
           1,
           1,
           1,
           1,
           1,
           1,
           1,
           1,
           1,
           1,
           1,
           1,
           1,
           1,
           1,
           1,
           1,
           1,
           1,
           1,
           1,
           1,
           1,
           1,
           1,
           1,
           1,
           1,
           1,
           1,
           1,
           1,
           1,
           1,
           1,
           1,
           1,
           1,
           1,
           1,
           1,
           1,
           1,
           1,
           1,
           1,
           1,
           1,
           1,
           1,
           1,
           1,
           1,
           1,
           1,
           1,
           1,
           1,
           1,
           1,
           1,
           1,
           1,
           1,
           1,
           1,
           1,
           1,
           1,
           1,
           1,
           1,
           1,
           1,
           1,
           1,
           1,
           1,
           1,
           1,
           1,
           1,
           1,
           1,
           1,
           1,
           1,
           1,
           1,
           1,
           1,
           1,
           1,
           1,
           1,
           1,
           1,
           1,
           1,
           1,
           1,
           1,
           1,
           1,
           1,
           1,
           1,
           1,
           1,
           1,
           1,
           1,
           1,
           1,
           1,
           1,
           1,
           1,
           1,
           1,
           1,
           1,
           1,
           1,
           1,
           1,
           1,
           1,
           1,
           1,
           1,
           1,
           1,
           1,
           1,
           1,
           1,
           1,
           1,
           1,
           1,
           1,
           1,
           1,
           1,
           1,
           1,
           1,
           1,
           1,
           1,
           1,
           1,
           1,
           1,
           1,
           1,
           1,
           1,
           1,
           1,
           1,
           1,
           1,
           1,
           1,
           1,
           1,
           1,
           1,
           1,
           1,
           1,
           1,
           1,
           1,
           1,
           1,
           1,
           1,
           1,
           1,
           1,
           1,
           1,
           1,
           1,
           1,
           1,
           1,
           1,
           1,
           1,
           1,
           1,
           1,
           1,
           1,
           1,
           1,
           1,
           1,
           1,
           1,
           1,
           1,
           1,
           1,
           1,
           1,
           1,
           1,
           1,
           1,
           1,
           1,
           1,
           1,
           1,
           1,
           1,
           1,
           1,
           1,
           1,
           1,
           1,
           1,
           1,
           1,
           1,
           1,
           1,
           1,
           1,
           1,
           1,
           1,
           1,
           1,
           1,
           1,
           1,
           1,
           1,
           1
          ],
          "coloraxis": "coloraxis",
          "symbol": "diamond"
         },
         "mode": "markers",
         "name": "1",
         "scene": "scene",
         "showlegend": true,
         "type": "scatter3d",
         "x": [
          -0.24790679286517894,
          1.2603858992955224,
          -1.1014956573809933,
          -1.1014956573809933,
          -1.001973118972474,
          -1.1014956573809933,
          1.2412322087306176,
          -0.4296802445441972,
          -1.3251315945914115,
          -1.225609056182893,
          -0.1923708054907418,
          -1.159565281375953,
          -1.0793498928521146,
          0.4829598110602693,
          -1.195343633498209,
          -1.195343633498209,
          -1.195343633498209,
          -0.025767397344231023,
          -0.879356261860046,
          -0.879356261860046,
          -0.7798337234515267,
          -0.879356261860046,
          2.1398135410740364,
          -0.1437490235732271,
          -0.997337888089041,
          -0.997337888089041,
          -0.997337888089041,
          0.6541229664489323,
          -1.6626883767766845,
          -1.0930376551895131,
          -1.0930376551895131,
          0.459157486321048,
          0.459157486321048,
          -0.816029090968379,
          0.6710680024389859,
          -0.9155516293768985,
          -0.9155516293768985,
          0.01705809226601736,
          -1.5243853642739553,
          -1.5243853642739553,
          -1.5243853642739553,
          1.2264335868389238,
          -1.1193501381674102,
          0.4511716619782923,
          -0.2818591053217776,
          0.1692668435598345,
          -0.2263359992467141,
          -1.215608979968865,
          -0.4699580636956996,
          -1.2931069948933842,
          -0.4699580636956996,
          -1.2169160642870904,
          -0.4296802445441972,
          -1.3251315945914115,
          -0.5228240598644872,
          -1.490018535749699,
          0.40012244953325266,
          -1.1864971822826311,
          -1.0869746438741126,
          -1.123064719784642,
          -0.3329083177668168,
          0.11821763111479587,
          1.283937691012955,
          -1.1695561497727733,
          -1.1695561497727733,
          -1.1695561497727733,
          -1.1020992293572383,
          0.4829598110602693,
          -1.1872947176631181,
          -1.09582109508969,
          0.8288042755469922,
          0.3337409549736383,
          -0.5474974865244959,
          0.22013534360424075,
          0.6712612924858538,
          0.40012244953325266,
          -1.1824727243650859,
          -1.0869746438741126,
          -0.3329083177668168,
          0.11821763111479587,
          0.5323620830187631,
          0.2704745285475534,
          -0.741748858292038,
          -0.7457733162095833,
          -0.7457733162095833,
          0.10781554830623101,
          1.1380094770448717,
          1.1380094770448717,
          -1.3136751338081896,
          -1.2141525953996712,
          -0.34648065792297816,
          0.5258031689067721,
          -0.4417648453972077,
          -1.3136751338081896,
          -0.34648065792297816,
          -1.2141525953996712,
          -0.28231361163163204,
          -1.2535325454343889,
          -1.15401000702587,
          -1.2535325454343889,
          -1.1733171569105505,
          -0.34648065792297816,
          -1.3136751338081896,
          -0.4296802445441972,
          -1.3251315945914115,
          -1.225609056182893,
          1.417290883822974,
          1.417290883822974,
          1.417290883822974,
          -1.3480419623324464,
          0.19340149420752692,
          -0.38963193079407166,
          -1.205299186794128,
          0.37327152918666484,
          -0.4305319491495984,
          -1.3977264250348096,
          -0.2892034616576869,
          -1.2483490217078081,
          -0.2892034616576869,
          -1.1568753991343799,
          -0.36094658749568476,
          -0.6135792809531214,
          -0.5532409048832729,
          -0.5532409048832729,
          0.19340149420752692,
          -0.6668417795212108,
          -0.6090464240479232,
          -1.5044977740951373,
          -1.404975235686619,
          0.33021554137101533,
          -1.1568815520363498,
          -1.0841448795137922,
          -1.0841448795137922,
          -1.256404090444869,
          0.19340149420752692,
          -0.6668417795212108,
          -0.132324476159999,
          -0.132324476159999,
          -0.132324476159999,
          -0.05210908763616005,
          -0.05210908763616005,
          -0.05210908763616005,
          -0.05210908763616005,
          -0.04003571388352372,
          0.3618150684034432,
          -1.2248045634124407,
          -1.2248045634124407,
          -1.2248045634124407,
          0.6541229664489323,
          -1.1537188331625576,
          -1.1537188331625576,
          -1.1537188331625576,
          -1.2655994755342068,
          -0.406769876803163,
          -1.3022212268503766,
          -1.2026986884418587,
          -1.2026986884418587,
          -0.406769876803163,
          -1.3022212268503766,
          -1.2100868675823686,
          0.4223349324751567,
          -1.2100868675823686,
          -1.2100868675823686,
          -1.1105643291738494,
          -0.4296802445441972,
          -1.3251315945914115,
          -1.225609056182893,
          -0.4296802445441972,
          -1.3251315945914115,
          -1.225609056182893,
          0.38759082825298735,
          -1.1990288035628964,
          -1.1990288035628964,
          -1.1990288035628964,
          -1.1188134150390578,
          -1.0995062651543774,
          -1.0592885848521691,
          -1.0592885848521691,
          -1.0592885848521691,
          1.3942052559335596,
          -0.784767700193382,
          -0.28633806954917745,
          -1.2535325454343889,
          -1.15401000702587,
          -1.1733171569105505,
          -0.28633806954917745,
          0.18244888889971766,
          -1.4041707429161672,
          0.45424311759344704,
          -0.5018803153695706,
          -1.032853975813918,
          -1.032853975813918,
          -0.6329679234556219,
          -0.5726295473857733,
          2.203896682053391,
          -0.9332547471096878,
          -0.9332547471096878,
          -0.9332547471096878,
          -0.8530393585858489,
          -0.0796658825938731,
          -0.0796658825938731,
          0.9505280461447673,
          0.9505280461447673,
          -0.8337322087011687,
          -1.2141525953996712,
          -0.34648065792297816,
          -1.3136751338081896,
          -0.4834232601570606,
          -1.3294245751033593,
          1.4322098266151695,
          0.39506034728332795,
          -0.830149191652827,
          -0.830149191652827,
          -1.3904959973411801,
          -1.490018535749699,
          -0.5228240598644872,
          1.182916258821659,
          -1.7185482186902314,
          -1.625995798198291,
          0.69607974820137,
          0.69607974820137,
          -0.5291297907347849,
          -0.4523686602946821,
          -0.5571709508102232,
          2.1138930423121605,
          2.1138930423121605,
          2.1138930423121605,
          0.9627422029292578,
          0.9998917730295355,
          0.805199219868119,
          -0.7249725893505476,
          -0.7249725893505476,
          -0.7249725893505476,
          -0.644757200826709,
          -0.6254500509420283,
          -0.5527133784194707,
          1.3635572221464707,
          0.32640774281462953,
          -0.9902754186949538,
          -0.17359713672987637,
          2.043610481942352,
          -1.221613311437619,
          0.5383808481225375,
          0.392975844536958,
          1.0648888067891085,
          -1.296992749887407,
          -1.296992749887407,
          -1.296992749887407,
          0.5129573401849162,
          -0.8117747371597577,
          -0.8117747371597577,
          -0.8117747371597577,
          -0.16524983688719358,
          -0.16524983688719358,
          1.4124440501332258,
          0.3537803474055625,
          -0.9709517299391116,
          -0.9709517299391116,
          -0.9709517299391116,
          2.1691825332735575,
          -0.11438003137370663,
          -0.9599199800544299,
          -0.11438003137370663,
          0.4932407083708296,
          0.8705964044318258,
          -0.7160232273840591,
          -0.6165006889755394,
          -0.7160232273840591,
          -0.7160232273840591,
          0.17589436652928217,
          -1.4107252652866022,
          1.2412322087306176,
          -1.1206493479458979,
          -1.1206493479458979,
          -1.0211268095373789,
          -1.0211268095373789,
          -1.0572168854479078,
          1.0941702597331049,
          -0.41412243242759667,
          -1.2677112969434112,
          -1.1641643006173465,
          1.2603858992955224,
          -1.1014956573809933,
          -1.1014956573809933,
          0.20321915601643425,
          -0.7653432483956693,
          -1.7325377242808813,
          -1.633015185872362,
          1.0648888067891085,
          -1.296992749887407,
          -1.296992749887407,
          -1.296992749887407,
          0.015127575489085464,
          -1.563443140491707,
          -0.5851488473079834,
          -0.5851488473079834,
          -1.5722432485618705,
          -1.6605212320531102,
          -1.4888185418235333,
          -0.057047522069248346,
          -1.643667153885132,
          -1.643667153885132,
          -1.643667153885132,
          -1.643667153885132,
          -1.643667153885132,
          -1.7037739319535534,
          -1.5441446154766127,
          -1.5441446154766127,
          -1.5441446154766127,
          -1.643667153885132,
          -0.029106272313961283,
          1.2603858992955224,
          -1.093446741545902,
          -1.001973118972474,
          0.20321915601643425,
          1.6495046028800855,
          -0.34648065792297816,
          -1.3136751338081896,
          -1.2141525953996712,
          1.0648888067891085,
          -1.296992749887407,
          -1.296992749887407,
          -1.296992749887407,
          0.19340149420752692,
          -0.6668417795212108,
          -0.6668417795212108,
          -0.7248830243667937,
          1.8203820530467727,
          0.7745243421920495,
          0.040637757929366705,
          -0.7248830243667937,
          -0.7248830243667937,
          -0.10085200934505835,
          0.1287058401490203,
          0.5798317890306334,
          -0.7284433750639848,
          -1.695637850949196,
          1.4500866044757474,
          -0.9037460363656777,
          0.4129371251439059,
          -0.05820608768495389,
          -0.05820608768495389,
          0.9364161970345063,
          1.2226433211424952,
          0.35598203798921274,
          0.35598203798921274,
          1.9266789359575265,
          0.7789143989149165,
          -0.6530107158910456,
          -0.6530107158910456,
          -0.6530107158910456,
          0.7216983998069015,
          0.6717213614536289,
          0.20057814862476872,
          0.6517040975063815,
          1.0648888067891085,
          -1.296992749887407,
          0.4238921116194868,
          0.4238921116194868,
          -0.15517586823754076,
          -1.0007158169182648,
          -0.9504212107922441,
          0.18244888889971766,
          -0.8911779196767051,
          -0.8911779196767051,
          -0.8911779196767051,
          1.7820212410863447,
          1.7820212410863447,
          0.43355415766796884,
          -0.8277454571787151,
          -0.3677311666460562,
          -1.2885225073583568,
          -0.874026428232185,
          -0.874026428232185,
          -0.020437563716370552,
          -0.020437563716370552,
          1.2795395898604272,
          -0.22875310230027382,
          0.35031487755675367,
          0.35031487755675367,
          -0.3860572156783468,
          -1.314523003843863,
          -1.2150004654353446,
          1.2795395898604272,
          -0.22875310230027382,
          0.22237284658133843,
          -1.5374144180061524,
          -0.34648065792297816,
          -1.2141525953996712,
          -1.3136751338081896,
          0.44632881265202834,
          -1.1402908191638557,
          -1.1402908191638557,
          -1.1402908191638557,
          -1.0600754306400166,
          -1.0407682807553365,
          -1.0768583566658652,
          -0.28670195464804105,
          0.1644239942335721,
          -0.8290969778177358,
          -0.8290969778177358,
          -0.8290969778177358,
          -0.7488815892938975,
          0.6631670610392818,
          0.6631670610392818,
          1.1826278464121334,
          1.1826278464121334,
          1.1826278464121334,
          0.18547166646193422,
          -1.4011479653539498,
          -1.3016254269454313,
          2.0245057475123427,
          2.0245057475123427,
          -0.054181258840915285,
          -0.9077701233567298,
          -0.9077701233567298,
          -0.9077701233567298,
          -0.8235302769153455,
          -0.8443376608587395,
          1.2412322087306176,
          -1.1126004321108074,
          -1.0211268095373789,
          -1.0572168854479078,
          0.9347216304174675,
          -0.9282229288682129,
          -0.08268298018748955,
          -0.08268298018748955,
          2.2463456274272775,
          1.9394188768038239,
          1.1371986047844829,
          1.4802884812651271,
          1.4802884812651271,
          0.07293524349690186,
          0.07293524349690186,
          -0.932701899017638,
          -0.932701899017638,
          2.3678216273840706,
          -0.6698072633704882,
          -0.7693298017790072,
          -0.7693298017790072,
          0.555402275565667,
          -0.7693298017790072,
          0.6633270425938343,
          0.6633270425938343,
          1.1144529914754475,
          1.1144529914754475,
          0.7229342370780105,
          0.7229342370780105,
          -1.0786509069141574,
          -1.028356300788137,
          -0.4669057968862054,
          -0.4669057968862054,
          0.9953519995723605,
          -0.33797897832224116,
          1.0253582419708127,
          1.0253582419708127,
          0.38668306762960875,
          1.2603858992955224,
          -1.1014956573809933,
          -1.1014956573809933,
          -1.1014956573809933,
          0.20321915601643425,
          -1.001973118972474,
          0.4223349324751567,
          -1.2100868675823686,
          -1.2100868675823686,
          -1.2100868675823686,
          -1.221613311437619,
          -1.221613311437619,
          -1.221613311437619,
          -0.2389677557843447,
          -1.2649846404197802,
          -0.41944469173905635,
          0.10530057478603948,
          0.2128720290296499,
          0.1967741973594682,
          0.1967741973594682,
          0.950840523466763,
          0.19340149420752692,
          -1.3399930464973555,
          -0.6668417795212108,
          -0.3838595090621282,
          -1.2793108591093423,
          -1.1797883207008235,
          -0.3838595090621282,
          -0.3838595090621282,
          -1.2793108591093423,
          -1.2793108591093423,
          -1.4396639996242415,
          2.329514246254263,
          0.5170948944358578,
          0.045951681606997356,
          1.204087641321053,
          1.204087641321053,
          1.204087641321053,
          1.2795395898604272,
          -0.22875310230027382,
          -0.22875310230027382,
          -1.5629013985442473,
          1.3071992950054419,
          -1.2016264149299907,
          0.38096875896834775,
          -0.3520620083317221,
          1.8450016953864998,
          0.5323620830187631,
          0.2704745285475534,
          -0.9547350103886019,
          -1.2895552826094494,
          -0.9983735769114738,
          -0.9983735769114738,
          -0.9983735769114738,
          -0.9983735769114738,
          -0.9983735769114738,
          -0.9983735769114738,
          -0.9983735769114738,
          -0.9983735769114738,
          -0.8032200664547259,
          -0.8032200664547259,
          0.8258561690988532,
          0.7758791307455808,
          0.09767195367346929,
          0.09767195367346929,
          0.1812936203832713,
          -1.185366579479584,
          -0.5228240598644872,
          -1.490018535749699,
          0.18547166646193422,
          -1.4011479653539498,
          -1.3016254269454313,
          0.8841937924025309,
          0.8841937924025309,
          -0.6695923336411285,
          -1.203887580202646,
          -1.1455440582415342,
          -0.35432317360437665,
          2.3693232767243595,
          1.251131855771833,
          -0.34648065792297816,
          -1.3136751338081896,
          -1.2141525953996712,
          1.4117792233459379,
          -0.8866698708325876,
          0.3746297440140967,
          0.19559942884102588,
          -1.3869957450573136,
          -0.6922355092178027,
          -1.5159516810529508,
          -1.6277632984699055,
          -0.4182237837609759,
          -0.48995896197304223,
          -1.3096506758906443,
          -1.2141525953996712,
          -1.5858117662852818,
          -1.5520184277744489,
          -1.5520184277744489,
          -0.5258468374267039,
          -1.4930413133119158,
          1.8197740776483011,
          1.1304140483604177,
          1.1304140483604177,
          -0.18136489328355043,
          0.8006882125690259,
          -1.281222150301012,
          -1.281222150301012,
          1.4453773917355484,
          1.2603858992955224,
          -1.1014956573809933,
          -1.1014956573809933,
          -1.1014956573809933,
          -0.24790679286517853,
          -1.281222150301012,
          -1.281222150301012,
          0.10376857260530024,
          0.10376857260530024,
          -1.6832729944635827,
          0.7875487879690442,
          0.7375717496157711,
          -0.6657108896482814,
          -0.6657108896482814,
          -0.6657108896482814,
          -0.011137073540627658,
          -0.011137073540627658,
          0.7669459547245602,
          0.7669459547245602,
          -1.2793083052839336,
          -1.2793083052839336,
          -0.30808937148117665,
          0.8371167376112658,
          0.8371167376112658,
          -1.0386171398080979,
          -0.875364390181408,
          -0.875364390181408,
          -0.9347723947618531,
          -0.9347723947618531,
          -0.6599130398590057,
          -1.6271075157442172,
          -1.4451438177487137,
          -0.7649270067744878,
          -0.7649270067744878,
          0.0886618577413261,
          0.539787806622939,
          -0.6892127316555857,
          -1.5129289034907338,
          -1.4134063650822146,
          -1.1640083768284752,
          -0.26855702678126125,
          -1.1640083768284752,
          -1.4362973665331362,
          -1.3814973809142397,
          -1.3210954238369408,
          0.9685220862401027,
          -1.3933594704364132,
          -1.3933594704364132,
          -1.3933594704364132,
          -0.5958958841066149,
          -1.4913472341538294,
          -0.406769876803163,
          -0.406769876803163,
          -1.3022212268503766,
          -1.3022212268503766,
          -1.2026986884418587,
          0.537546348598331,
          -0.4250422681958176,
          0.291792474767505,
          2.16459883869583,
          1.3616263479865265,
          2.5237867656181265,
          2.5237867656181265,
          2.5237867656181265,
          0.5080374834707122,
          0.2693641406736493,
          -1.3630576593838761,
          -1.263535120975357,
          -1.1907984484528,
          -1.3628074222605537,
          2.1398135410740364,
          -0.997337888089041,
          -0.997337888089041,
          0.30737692530838584,
          -1.570901783772529,
          0.31359306720397623,
          -1.2730265646119074,
          1.089740577148146,
          -0.2640582145355022,
          -1.1095981632162262,
          1.2795395898604272,
          -1.0823419668160883,
          -1.0823419668160883,
          -1.0823419668160883,
          -0.22875310230027382,
          -0.22875310230027382,
          -1.3692211421748401,
          -1.300770269262451,
          -1.3692211421748401,
          -0.4296802445441972,
          -1.3251315945914115,
          1.2412322087306176,
          -1.1126004321108074,
          -1.2708076502845203,
          -1.2124641283234088,
          0.4105037498194313,
          -1.1761158819964532,
          -1.1761158819964532,
          -0.35239971016130517,
          -1.1761158819964532,
          -1.0959004934726146,
          -0.35239971016130517,
          0.5323620830187631,
          0.2704745285475534,
          -1.0542575487971206,
          -1.0542575487971206,
          -1.7124259109385058,
          -0.6523565659581229,
          0.18244888889971766,
          -1.2655994755342068,
          -0.34648065792297816,
          -1.3136751338081896,
          -1.2141525953996712,
          -0.5345862646378148,
          -1.3583024364729621,
          0.016406679224983792,
          -1.4080392883863802,
          -1.3476373313090817,
          0.27776377717682293,
          1.0618660292268916,
          -0.4248254052354082,
          -1.3920198811206197,
          -1.2924973427121011,
          -0.20826780790107657,
          -1.1754622837862878,
          0.6104784946186705,
          1.0428188710133377,
          -1.2978858610924786
         ],
         "y": [
          -2.613956888081115,
          -2.1830187202025795,
          -2.230029032468978,
          -2.230029032468978,
          -1.5775755685943575,
          -2.230029032468978,
          -2.1818159193709583,
          -1.7131876390008767,
          -2.2159852903324095,
          -1.563531826457788,
          -1.7303524884606185,
          -2.212576445719026,
          -2.220179334431496,
          -1.9401624730212537,
          -2.2241356291409216,
          -2.2241356291409216,
          -2.2241356291409216,
          -2.627906651379374,
          -2.2439787957672377,
          -2.2439787957672377,
          -1.5915253318926168,
          -2.2439787957672377,
          -2.4352130248281783,
          -2.620497719003474,
          -2.236569863391337,
          -2.236569863391337,
          -2.236569863391337,
          -1.9550541648855853,
          -0.8829989306419679,
          -2.2331257481458615,
          -2.2331257481458615,
          -2.0131396358163443,
          -2.0131396358163443,
          -1.58925235906774,
          -1.9490427902560592,
          -2.2417058229423614,
          -2.2417058229423614,
          -1.4734876050851045,
          -1.6413029688174168,
          -1.6413029688174168,
          -1.6413029688174168,
          -1.6187168906113705,
          -1.6391261663193808,
          -1.3730641701914674,
          -2.0496550584899067,
          -2.26458587132541,
          -1.7289257143353134,
          -2.209057050485702,
          -1.694700710904732,
          -2.2110933656351985,
          -1.694700710904732,
          -2.225346513487265,
          -1.7131876390008767,
          -2.2159852903324095,
          -1.1612371569978261,
          -1.6434611142562345,
          -1.9320281300653832,
          -2.224691162751687,
          -1.572237698877065,
          -1.5550432338502251,
          -2.6086190183638216,
          -2.8235498311993252,
          -1.3207755781108947,
          -1.359102793360685,
          -1.359102793360685,
          -1.359102793360685,
          -0.682804605319626,
          -1.9401624730212537,
          -2.2108351108617277,
          -1.5716821652663004,
          -2.7010388938804817,
          -1.7771968767055197,
          -1.5919077100373147,
          -2.643348689576065,
          -2.858279502411569,
          -1.9320281300653832,
          -2.218040903612088,
          -1.572237698877065,
          -2.6086190183638216,
          -2.8235498311993252,
          -1.940332427380344,
          -2.661578705133248,
          -2.2457171903742585,
          -2.252367449513855,
          -2.252367449513855,
          -2.6362953051259916,
          -2.719458827762218,
          -2.719458827762218,
          -2.2167047256031625,
          -1.5642512617285418,
          -1.7344807683447547,
          -1.9413854625202147,
          -2.4235740154618215,
          -2.2167047256031625,
          -1.7344807683447547,
          -1.5642512617285418,
          -1.7316073038164488,
          -2.2204815202144546,
          -1.5680280563398337,
          -2.2204815202144546,
          -2.2280844089269234,
          -1.7344807683447547,
          -2.2167047256031625,
          -1.7131876390008767,
          -2.2159852903324095,
          -1.563531826457788,
          -1.3375660390909194,
          -1.3375660390909194,
          -1.3375660390909194,
          -2.2145465801643454,
          -2.046731216432032,
          -1.699634404237878,
          -2.2097044780800026,
          -1.9303419636728945,
          -0.9438311779409333,
          -1.4260551351993418,
          -1.7380776239516356,
          -2.2070010629308503,
          -1.7380776239516356,
          -1.5678481173354228,
          -1.7175039298785117,
          -0.6518801908055806,
          -0.6575991178941636,
          -0.6575991178941636,
          -2.046731216432032,
          -2.539092107545956,
          -0.7931509056415236,
          -1.2959485569730556,
          -0.6434950930984346,
          -1.0609859409569204,
          -0.7011955097686025,
          -0.7080895588616892,
          -0.7080895588616892,
          -1.3536489736432242,
          -2.046731216432032,
          -2.539092107545956,
          -0.7739858349198664,
          -0.7739858349198664,
          -0.7739858349198664,
          -0.7815887236323359,
          -0.7815887236323359,
          -0.7815887236323359,
          -0.7815887236323359,
          -0.7616379462135446,
          -1.9296225284021402,
          -2.2222855610884436,
          -2.2222855610884436,
          -2.2222855610884436,
          -1.9550541648855853,
          -2.226749555908201,
          -2.226749555908201,
          -2.226749555908201,
          -0.6148080381039429,
          -1.7146263491689409,
          -2.217424000500472,
          -1.5649705366258513,
          -1.5649705366258513,
          -1.7146263491689409,
          -2.217424000500472,
          -2.2232097932474617,
          -1.9348879324277952,
          -2.2232097932474617,
          -2.2232097932474617,
          -1.5707563293728408,
          -1.7131876390008767,
          -2.2159852903324095,
          -1.563531826457788,
          -1.7131876390008767,
          -2.2159852903324095,
          -1.563531826457788,
          -1.9312411775746148,
          -2.223904210260917,
          -2.223904210260917,
          -2.223904210260917,
          -2.2315070989733865,
          -1.5714507463862957,
          -2.2326795243815396,
          -2.2326795243815396,
          -2.2326795243815396,
          -2.1943523091317503,
          -2.748374670192954,
          -1.7382575629560464,
          -2.2204815202144546,
          -1.5680280563398337,
          -2.2280844089269234,
          -1.7382575629560464,
          -1.0095857950427867,
          -1.3022488277290902,
          -1.935426764095214,
          -2.4187000450409766,
          -1.5756363329068956,
          -1.5756363329068956,
          -0.6506626356170911,
          -0.6563815627056743,
          -2.4392372756638956,
          -2.240594114227055,
          -2.240594114227055,
          -2.240594114227055,
          -2.2481970029395235,
          -2.624521969839191,
          -2.624521969839191,
          -2.707685492475417,
          -2.707685492475417,
          -1.5881406503524333,
          -1.5642512617285418,
          -1.7344807683447547,
          -2.2167047256031625,
          -1.694457316926123,
          -2.2157157025726817,
          -2.19380880590289,
          -2.66940236323589,
          -1.5883656542946685,
          -1.5883656542946685,
          -0.9910076503816133,
          -1.6434611142562345,
          -1.1612371569978261,
          -1.2723109077196946,
          -0.9170063841863652,
          -0.7479606883117563,
          -2.6883055811056553,
          -2.6883055811056553,
          -1.6072688721644341,
          -1.6075126621179232,
          -1.5767738888583995,
          -2.9750131891258813,
          -2.9750131891258813,
          -2.9750131891258813,
          -2.709449839535845,
          -2.051084608038568,
          -2.866690448066932,
          -0.9005546553136349,
          -0.9005546553136349,
          -0.9005546553136349,
          -0.9081575440261046,
          -0.248101191439014,
          -0.2549952405321002,
          -0.9581979059996583,
          -1.433791463332658,
          -0.9919076999868627,
          -2.274492623194801,
          -2.973901605622665,
          -0.515686954643965,
          -1.3252834850219435,
          -0.4567302574037542,
          -1.6085723080240297,
          -1.655582620290429,
          -1.655582620290429,
          -1.655582620290429,
          -2.2780130164030745,
          -1.8494297713364718,
          -1.8494297713364718,
          -1.8494297713364718,
          -1.0413642930961358,
          -1.0413642930961358,
          -1.5818695157068647,
          -2.055423935048717,
          -1.6268406899821157,
          -1.6268406899821157,
          -1.6268406899821157,
          -2.437057319436664,
          -2.622342013611961,
          -2.2251136397206293,
          -2.622342013611961,
          -0.5990537057428607,
          -0.1077321046661443,
          -0.4003951373524471,
          0.2520583265221742,
          -0.4003951373524471,
          -0.4003951373524471,
          -1.2934542487321439,
          -1.5861172814184468,
          -2.1818159193709583,
          -2.228826231637357,
          -2.228826231637357,
          -1.5763727677627362,
          -1.5763727677627362,
          -1.5591783027358954,
          -1.4659190231322725,
          -1.8968571910108092,
          -1.512929335398672,
          -0.8538256123844534,
          -2.1830187202025795,
          -2.230029032468978,
          -2.230029032468978,
          -2.8288877009166176,
          -0.5868902077021845,
          -1.0691141649605926,
          -0.4166607010859719,
          -1.6085723080240297,
          -1.655582620290429,
          -1.655582620290429,
          -1.655582620290429,
          -0.45872034567191605,
          -0.7380828600790241,
          -0.5923255732049808,
          -0.5923255732049808,
          -1.0515682941829847,
          -1.043780400687692,
          -0.42571586686675217,
          -0.7820319677595707,
          -1.0746950004458726,
          -1.0746950004458726,
          -1.0746950004458726,
          -1.0746950004458726,
          -1.0746950004458726,
          -1.0203552929734008,
          -0.42224153657125185,
          -0.42224153657125185,
          -0.42224153657125185,
          -1.0746950004458726,
          -2.0805961128622203,
          -2.1830187202025795,
          -2.2167285141897843,
          -1.5775755685943575,
          -2.8288877009166176,
          -1.6594355809909196,
          -1.7344807683447547,
          -2.2167047256031625,
          -1.5642512617285418,
          -1.6085723080240297,
          -1.655582620290429,
          -1.655582620290429,
          -1.655582620290429,
          -2.046731216432032,
          -2.539092107545956,
          -2.539092107545956,
          -2.2536793042875445,
          -2.2240502517210867,
          -2.036932132706821,
          -1.7952010053352785,
          -2.2536793042875445,
          -2.2536793042875445,
          -2.056433121127881,
          -2.6376071598996815,
          -2.852537972735185,
          -0.4362211370960205,
          -0.9184450943544291,
          -2.194931420012405,
          -2.2286412139996092,
          -2.6705249773454036,
          -2.6258695878909393,
          -2.6258695878909393,
          -1.0887612568627847,
          -2.731985462827892,
          -1.4774748850525052,
          -1.4774748850525052,
          -1.6768413920120382,
          -2.141950751871526,
          -2.2581926941281214,
          -2.2581926941281214,
          -2.2581926941281214,
          -2.029626507002104,
          -2.6867759391947224,
          -2.642120549740258,
          -2.857051362575761,
          -1.6085723080240297,
          -1.655582620290429,
          -0.7812138447650246,
          -0.7812138447650246,
          -0.9129811349643018,
          -0.515752761072971,
          -0.5345831323233571,
          -1.0095857950427867,
          -2.2432364270939615,
          -2.2432364270939615,
          -2.2432364270939615,
          -1.8669085182093879,
          -1.8669085182093879,
          -2.6718196721605625,
          -1.5735884981924992,
          -1.710856639091862,
          -2.218284243655248,
          -2.244313495145317,
          -2.244313495145317,
          -2.628241350757454,
          -2.628241350757454,
          -2.184221521034201,
          -2.6151596889127378,
          -2.483392398713459,
          -2.483392398713459,
          -1.7169829692668095,
          -2.216651481619684,
          -1.5641980177450627,
          -2.184221521034201,
          -2.6151596889127378,
          -2.8300905017482396,
          -0.8288807706663537,
          -1.7344807683447547,
          -1.5642512617285418,
          -2.2167047256031625,
          -1.934929766791588,
          -2.22759279947789,
          -2.22759279947789,
          -2.22759279947789,
          -2.2351956881903594,
          -1.5751393356032692,
          -1.5579448705764287,
          -2.611520655090027,
          -2.826451467925531,
          -2.2471349451494125,
          -2.2471349451494125,
          -2.2471349451494125,
          -2.254737833861882,
          -2.5049451355839225,
          -2.5049451355839225,
          -2.367528220362995,
          -2.367528220362995,
          -2.367528220362995,
          -1.3563789170552123,
          -1.649041949741515,
          -0.9965884858668934,
          -1.8904221021364183,
          -1.8904221021364183,
          -2.626122336439025,
          -2.242194480826888,
          -2.242194480826888,
          -2.242194480826888,
          -2.24314711039976,
          -1.5725465519254267,
          -2.1818159193709583,
          -2.215525713358163,
          -1.5763727677627362,
          -1.5591783027358954,
          -0.5242504215655757,
          -0.5203051216604923,
          -0.9175334955518234,
          -0.9175334955518234,
          -2.254144310319905,
          -2.9711217314064498,
          -2.7229138739100875,
          -2.74095303899674,
          -2.74095303899674,
          -0.6748110551087911,
          -0.6748110551087911,
          -1.153391380869903,
          -1.153391380869903,
          -2.4495313263012455,
          -1.598434700989784,
          -2.2508881648644046,
          -2.2508881648644046,
          -2.6794714099310055,
          -2.2508881648644046,
          -2.5030487302772633,
          -2.5030487302772633,
          -2.7179795431127682,
          -2.7179795431127682,
          -2.508698355298915,
          -2.508698355298915,
          -0.510858644675825,
          -0.5296890159262109,
          -2.269879588128489,
          -2.269879588128489,
          -2.711497648045042,
          -1.5923758729020328,
          -2.5276897785629995,
          -2.5276897785629995,
          -2.6538074437406256,
          -2.1830187202025795,
          -2.230029032468978,
          -2.230029032468978,
          -2.230029032468978,
          -2.8288877009166176,
          -1.5775755685943575,
          -1.9348879324277952,
          -2.2232097932474617,
          -2.2232097932474617,
          -2.2232097932474617,
          -0.515686954643965,
          -0.515686954643965,
          -0.515686954643965,
          -1.743371077326967,
          -2.2059563903152264,
          -2.603184764206557,
          -0.7751020874084886,
          -0.10934810525467363,
          -0.13594914181306195,
          -0.13594914181306195,
          -1.172330461299819,
          -2.046731216432032,
          -2.20124606188515,
          -2.539092107545956,
          -1.7160650593370046,
          -2.218862710668536,
          -1.566409246793915,
          -1.7160650593370046,
          -1.7160650593370046,
          -2.218862710668536,
          -2.218862710668536,
          -0.6698265823243664,
          -2.4471257246380023,
          -2.6770658082677623,
          -2.632410418813298,
          -2.368875838414744,
          -2.368875838414744,
          -2.368875838414744,
          -2.184221521034201,
          -2.6151596889127378,
          -2.6151596889127378,
          -0.6620876014002689,
          -1.6296540245758178,
          -2.2168381027804673,
          -1.9308253292337623,
          -2.6074162175322013,
          -2.23388199316947,
          -1.940332427380344,
          -2.661578705133248,
          -1.580541996192025,
          -0.5114203795340367,
          -0.9247333525849419,
          -0.9247333525849419,
          -0.9247333525849419,
          -0.9247333525849419,
          -0.9247333525849419,
          -0.9247333525849419,
          -0.9247333525849419,
          -0.9247333525849419,
          -0.7739108614949429,
          -0.7739108614949429,
          -2.0361673379244625,
          -2.693316770117079,
          -1.4566680468101436,
          -1.4566680468101436,
          -1.9956905239652871,
          -2.2109561928121093,
          -1.1612371569978261,
          -1.6434611142562345,
          -1.3563789170552123,
          -1.649041949741515,
          -0.9965884858668934,
          -1.1815134598514507,
          -1.1815134598514507,
          -0.6483627200535862,
          -0.509897099032588,
          -0.5154269520037795,
          -0.9004752137843218,
          -2.4496256258864437,
          -2.9175379530400085,
          -1.7344807683447547,
          -2.2167047256031625,
          -1.5642512617285418,
          -2.1925258183491607,
          -1.569888201714099,
          -2.668119375682161,
          -1.212522831331833,
          -1.4985356048785392,
          -0.7718586899544265,
          -1.295229282075746,
          -0.7108103758684854,
          -1.7139070742716314,
          -1.693334133481844,
          -2.2100544664635664,
          -1.5642512617285418,
          -0.6606488912322052,
          -0.4428362447273163,
          -0.4428362447273163,
          -0.8144440349854011,
          -1.29666799224381,
          -2.9565433003023878,
          -2.532380552104078,
          -2.532380552104078,
          -1.616016789743955,
          -1.6076372637330945,
          -0.5119436780825144,
          -0.5119436780825144,
          -1.6416759204927982,
          -2.1830187202025795,
          -2.230029032468978,
          -2.230029032468978,
          -2.230029032468978,
          -2.6139568880811157,
          -0.5119436780825144,
          -0.5119436780825144,
          -2.467909946408826,
          -2.467909946408826,
          -0.7443638327048748,
          -2.033761736261219,
          -2.690911168453837,
          -2.2573951569900332,
          -2.2573951569900332,
          -2.2573951569900332,
          -1.4360291604705036,
          -1.4360291604705036,
          -2.5095557224028933,
          -2.5095557224028933,
          -2.218862871041981,
          -2.218862871041981,
          -1.7299886546439753,
          -0.993764555314915,
          -0.993764555314915,
          -0.5133726587873582,
          -0.7503620448352221,
          -0.7503620448352221,
          -1.4133597145970866,
          -1.4133597145970866,
          -0.40302657597461145,
          -0.88525053323302,
          -0.30648937116351693,
          -2.2511646486822334,
          -2.2511646486822334,
          -2.635092504294371,
          -2.8500233171298732,
          -1.1186518119668516,
          -1.6420224040881712,
          -0.9895689402135498,
          -0.8729843753980926,
          -0.37018672406656083,
          -0.8729843753980926,
          -0.30704490477428187,
          -0.31048619814027334,
          -0.3162111514955462,
          -0.40578929305629396,
          -0.45279960532269276,
          -0.45279960532269276,
          -0.45279960532269276,
          -0.9960879419305697,
          -1.4988855932621021,
          -1.7146263491689409,
          -1.7146263491689409,
          -2.217424000500472,
          -2.217424000500472,
          -1.5649705366258513,
          -1.9406579854721022,
          -2.036074834998742,
          -2.6634334283975325,
          -2.7911377643660447,
          -2.715031289057719,
          -2.4448464495195674,
          -2.4448464495195674,
          -2.4448464495195674,
          -2.3311034334455822,
          -1.363112058842333,
          -1.6514339196619992,
          -0.9989804557873787,
          -1.0058745048804647,
          -0.9927464192638054,
          -2.4352130248281783,
          -2.236569863391337,
          -2.236569863391337,
          -2.835428531838977,
          -0.43474743579309966,
          -0.6952946160526378,
          -0.98795764873894,
          -0.4605623705188256,
          -0.9061436131701435,
          -0.5089152392788127,
          -2.184221521034201,
          -2.2312318333006,
          -2.2312318333006,
          -2.2312318333006,
          -2.6151596889127378,
          -2.6151596889127378,
          -0.3112571132866206,
          -0.3036815483626992,
          -0.3112571132866206,
          -1.7131876390008767,
          -2.2159852903324095,
          -2.1818159193709583,
          -2.215525713358163,
          -0.5125976809880279,
          -0.5181275339592196,
          -1.9326800481161226,
          -2.225343080802425,
          -2.225343080802425,
          -1.7019724886811056,
          -2.225343080802425,
          -2.2329459695148945,
          -1.7019724886811056,
          -1.940332427380344,
          -2.661578705133248,
          -2.2329954600666464,
          -2.2329954600666464,
          -0.641631919409841,
          -0.6494450804286019,
          -1.0095857950427867,
          -0.6148080381039429,
          -1.7344807683447547,
          -2.2167047256031625,
          -1.5642512617285418,
          -1.1283619428938105,
          -1.65173253501513,
          -1.423166347889113,
          -0.30881943693453423,
          -0.31454439028980713,
          -1.138972937998319,
          -1.2617791860116048,
          -0.8629087053766012,
          -1.3451326626350102,
          -0.6926791987603893,
          -0.39004114324237477,
          -0.8722651005007832,
          -1.945237930292029,
          -2.904456451568736,
          -0.5108972413590035
         ],
         "z": [
          0.4354924054368159,
          -0.9969556355645793,
          0.6302574289035486,
          0.6302574289035485,
          0.13830067748669872,
          0.6302574289035489,
          -1.0135492450790198,
          -0.7975248186857737,
          0.4365126566942142,
          -0.05544409472263591,
          -0.6275448901294459,
          0.6262240441722362,
          0.599735666399221,
          -0.9020222596827625,
          0.5489531672453295,
          0.5489531672453295,
          0.5489531672453295,
          0.6279406636227531,
          0.8227056870894884,
          0.8227056870894884,
          0.33074893567263847,
          0.8227056870894884,
          -1.1132352800854781,
          0.5257284539763387,
          0.7204934774430743,
          0.7204934774430743,
          0.7204934774430743,
          -0.9087366213948658,
          0.3541597793803229,
          0.5416027524456353,
          0.5416027524456353,
          -0.03459175341834304,
          -0.03459175341834304,
          0.299391438652884,
          -0.6293518057685434,
          0.7913481900697338,
          0.7913481900697338,
          -1.300620819434946,
          0.06804337378024734,
          0.06804337378024734,
          0.06804337378024734,
          -1.2222176434063907,
          0.5114909316868069,
          -1.0157045747765394,
          0.2102303975950023,
          0.11075210545327482,
          -0.6833884597004166,
          0.5776711427329843,
          -0.7546799668650527,
          0.48739417897932485,
          -0.7546799668650527,
          0.43428192355004247,
          -0.7975248186857737,
          0.4365126566942142,
          -1.1559522000899922,
          0.09781673421169074,
          -0.8640827934785444,
          0.5566172023597319,
          0.06466045094288202,
          0.07261871431422005,
          0.36185217889299665,
          0.2623738867512698,
          -1.4109407451464149,
          0.24652413053637157,
          0.24652413053637157,
          0.24652413053637157,
          -0.21085047985287303,
          -0.9020222596827625,
          0.6022009225578641,
          0.05699641582847907,
          0.6399840445818145,
          -0.21802785082200488,
          0.5443049591903594,
          0.840976060012941,
          0.7414977678712138,
          -0.8640827934785444,
          0.5832410800159995,
          0.06466045094288202,
          0.36185217889299665,
          0.2623738867512698,
          -0.7495183009095817,
          0.320837802665556,
          0.9650578224619993,
          0.9384339448057315,
          0.9384339448057315,
          0.7436689213389956,
          0.6465342281503351,
          0.6465342281503351,
          0.4464378476651184,
          -0.04551890375173211,
          -0.8073310866365643,
          -0.8100053977515665,
          0.44388688478704563,
          0.4464378476651184,
          -0.8073310866365643,
          -0.04551890375173211,
          -0.7286032751049549,
          0.49854178154045975,
          0.006585030123610146,
          0.49854178154045975,
          0.47205340376744503,
          -0.8073310866365643,
          0.4464378476651184,
          -0.7975248186857737,
          0.4365126566942142,
          -0.05544409472263591,
          -0.16543060194659875,
          -0.16543060194659875,
          -0.16543060194659875,
          0.41666448723367494,
          -0.9519997059815183,
          -0.680953466587111,
          0.5866029296142904,
          -0.8873448215365217,
          -1.7094494275267114,
          -0.45568049322502907,
          -0.7577095567445826,
          0.5493071328696347,
          -0.7577095567445826,
          0.00410262614024969,
          -0.7379780978228881,
          0.6610630988936691,
          0.641138421983659,
          0.641138421983659,
          -0.9519997059815183,
          0.2664522660996681,
          -1.528910742285813,
          -0.2948732669058258,
          -0.7868300183226759,
          -1.2494157158029133,
          -0.32067247138148725,
          -0.34469125998533495,
          -0.34469125998533495,
          0.17128428003536267,
          -0.9519997059815183,
          0.2664522660996681,
          0.9636368904227728,
          0.9636368904227728,
          0.9636368904227728,
          0.9371485126497578,
          0.9371485126497578,
          0.9371485126497578,
          0.9371485126497578,
          1.01702014561856,
          -0.8972700125074251,
          0.5234299833308518,
          0.5234299833308518,
          0.5234299833308518,
          -0.9087366213948658,
          0.5850143994421108,
          0.5850143994421108,
          0.5850143994421108,
          0.5735633831141299,
          -0.7776766492252349,
          0.45636082615475354,
          -0.035595925262096845,
          -0.035595925262096845,
          -0.7776766492252349,
          0.45636082615475354,
          0.5361805128817481,
          -0.8996440763485725,
          0.5361805128817481,
          0.5361805128817481,
          0.04422376146489756,
          -0.7975248186857737,
          0.4365126566942142,
          -0.05544409472263591,
          -0.7975248186857737,
          0.4365126566942142,
          -0.05544409472263591,
          -0.8749394390635261,
          0.5457605567747511,
          0.5457605567747511,
          0.5457605567747511,
          0.5192721790017357,
          0.05380380535790109,
          0.6668231068295694,
          0.6668231068295694,
          0.6668231068295694,
          -0.9906417688532171,
          0.4697144844097663,
          -0.755227152761222,
          0.49854178154045975,
          0.006585030123610146,
          0.47205340376744503,
          -0.755227152761222,
          -1.628655936107465,
          -0.20795594026918848,
          -0.8171958904345429,
          0.43291721207898776,
          0.11154735398688399,
          0.11154735398688399,
          0.6442659411025184,
          0.6243412641925086,
          -1.0577174876126996,
          0.7760112699158538,
          0.7760112699158538,
          0.7760112699158538,
          0.7495228921428391,
          0.5812462464491186,
          0.5812462464491186,
          0.48411155326045785,
          0.48411155326045785,
          0.2840545184990039,
          -0.04551890375173211,
          -0.8073310866365643,
          0.4464378476651184,
          -0.7888740685337716,
          0.4327934756817114,
          -0.84809768333244,
          0.4287714888725489,
          0.28715862971883865,
          0.28715862971883865,
          -0.3941400172051596,
          0.09781673421169074,
          -1.1559522000899922,
          -1.749683708310658,
          0.38350672754117177,
          -0.08366444426488519,
          0.6895566560014896,
          0.6895566560014896,
          0.5479437968477796,
          0.5505488859001992,
          0.6091498155316519,
          1.0133599888964189,
          1.0133599888964189,
          1.0133599888964189,
          0.756019837194391,
          0.28465961691423347,
          0.8575335604837905,
          1.0508304406871607,
          1.0508304406871607,
          1.0508304406871607,
          1.024342062914146,
          0.5588736892703113,
          0.5348549006664638,
          -1.4621654951685208,
          -0.18529632296353177,
          0.21829532461214232,
          1.4804077499438992,
          0.8289393834777486,
          -0.2794479674849102,
          0.6473117736146805,
          0.050852940863955386,
          -1.3621703585324474,
          0.2650427059356812,
          0.2650427059356812,
          0.2650427059356812,
          0.8070234091141115,
          1.157367301377252,
          1.157367301377252,
          1.157367301377252,
          0.7023362899410752,
          0.7023362899410752,
          -1.005952635871069,
          0.2780208698949564,
          0.628364762158097,
          0.628364762158097,
          0.628364762158097,
          -1.08779174549667,
          0.5511719885651469,
          0.7991847673444176,
          0.5511719885651469,
          2.36048143071762,
          2.658223921308707,
          4.078923917146981,
          3.5869671657301327,
          4.078923917146981,
          4.078923917146981,
          -0.5633479033976947,
          0.8573520924405823,
          -1.0135492450790196,
          0.613663819389109,
          0.613663819389109,
          0.12170706797225865,
          0.12170706797225865,
          0.12966533134359678,
          -1.1845833512068131,
          0.24786468979457935,
          0.44262971326131495,
          -0.02270316049926773,
          -0.9969556355645798,
          0.6302574289035489,
          0.6302574289035489,
          0.33601411329508674,
          -1.0792934251051576,
          0.17447550919652527,
          -0.3174812422203248,
          -1.3621703585324474,
          0.2650427059356812,
          0.2650427059356812,
          0.2650427059356812,
          -1.4571456648688705,
          0.016802086281940465,
          -0.9383043017754483,
          -0.9383043017754483,
          0.4058943496901056,
          0.31531536580771263,
          -0.19255791235181363,
          -1.1692323509760183,
          0.2514676448622587,
          0.2514676448622587,
          0.2514676448622587,
          0.2514676448622587,
          0.2514676448622587,
          0.34725580457373717,
          -0.2404891065545909,
          -0.2404891065545909,
          -0.2404891065545909,
          0.2514676448622587,
          -0.13454880688504828,
          -0.9969556355645798,
          0.6835051842160836,
          0.138300677486699,
          0.33601411329508674,
          -1.3851035763073287,
          -0.8073310866365643,
          0.4464378476651184,
          -0.04551890375173211,
          -1.3621703585324474,
          0.2650427059356812,
          0.2650427059356812,
          0.2650427059356812,
          -0.9519997059815183,
          0.2664522660996681,
          0.2664522660996681,
          0.956532041582814,
          -0.7312371339260902,
          0.089414782404793,
          0.28226506547174796,
          0.956532041582814,
          0.956532041582814,
          -0.33986703147915165,
          0.761767018116078,
          0.662288725974351,
          -0.8504140372999712,
          0.4033548970017108,
          -0.8326103144522956,
          0.8478505053283673,
          0.4442588577526928,
          0.5998377265490975,
          0.5998377265490975,
          0.47784532251165024,
          0.7486875524114049,
          0.7062309309847011,
          0.7062309309847011,
          -1.1449763467832308,
          0.16841965013639362,
          1.0187979019247992,
          1.0187979019247992,
          1.0187979019247992,
          0.19285795843672301,
          0.6684540096616587,
          0.8240328784580632,
          0.7245545863163361,
          -1.3621703585324474,
          0.2650427059356812,
          -0.28747014066777626,
          -0.28747014066777626,
          -0.28981373962084345,
          -0.04180096084157343,
          -0.11431466099030184,
          -1.628655936107465,
          0.8124641112971763,
          0.8124641112971763,
          0.8124641112971763,
          -0.7734805486863616,
          -0.7734805486863616,
          0.4621202190340361,
          0.32846562325166434,
          -0.7462237448409532,
          0.4682285756794812,
          0.8273231354970401,
          0.8273231354970401,
          0.6325581120303044,
          0.6325581120303044,
          -0.9803620260501394,
          0.4520860149512536,
          0.4544296139043206,
          0.4544296139043206,
          -0.799236056096172,
          0.4457033038839454,
          -0.046253447532904765,
          -0.9803620260501394,
          0.4520860149512536,
          0.35260772280952674,
          -0.4012829267639365,
          -0.8073310866365643,
          -0.04551890375173211,
          0.4464378476651184,
          -0.8240523698859097,
          0.5966476259523678,
          0.5966476259523678,
          0.5966476259523678,
          0.5701592481793525,
          0.10469087453551736,
          0.11264913790685563,
          0.4018826024856318,
          0.3024043103439055,
          0.8662473184553796,
          0.8662473184553796,
          0.8662473184553796,
          0.8397589406823642,
          0.6541426646444137,
          0.6541426646444137,
          0.6761694928947775,
          0.6761694928947775,
          0.6761694928947775,
          -1.2458911259608532,
          0.17480886987742414,
          -0.3171478815394259,
          -0.8734062273061732,
          -0.8734062273061732,
          0.6033245970283984,
          0.7980896204951341,
          0.7980896204951341,
          0.7980896204951341,
          0.7982251203783859,
          0.3140911324496219,
          -1.0135492450790196,
          0.6669115747016435,
          0.12170706797225865,
          0.12966533134359678,
          -0.9725754730092898,
          0.021002532448680087,
          -0.2270102463305902,
          -0.2270102463305902,
          -0.48733747367803565,
          0.5978912779541378,
          0.8133064150875137,
          0.9430642426546495,
          0.9430642426546495,
          -1.4705185796906137,
          -1.4705185796906137,
          -0.2040552747074624,
          -0.2040552747074624,
          -0.9157027399443145,
          0.4260692661673885,
          0.9180260175842386,
          0.9180260175842386,
          0.5676821253210982,
          0.9180260175842386,
          0.7256045930705689,
          0.7256045930705689,
          0.6261263009288428,
          0.6261263009288428,
          0.7059213637732727,
          0.7059213637732727,
          -0.10931925171519616,
          -0.1818329518639246,
          1.1800280494109059,
          1.1800280494109059,
          0.7842710105130426,
          0.7303079324964802,
          0.9679233955999401,
          0.9679233955999401,
          0.9852630259441695,
          -0.9969556355645798,
          0.6302574289035489,
          0.6302574289035489,
          0.6302574289035489,
          0.33601411329508674,
          0.138300677486699,
          -0.8996440763485725,
          0.5361805128817481,
          0.5361805128817481,
          0.5361805128817481,
          -0.2794479674849102,
          -0.2794479674849102,
          -0.2794479674849102,
          -0.7942036185691848,
          0.5348950298860261,
          0.28688225110675575,
          1.215775649375387,
          0.7770666532710717,
          0.6705711426460027,
          0.6705711426460027,
          0.9677628705961167,
          -0.9519997059815183,
          0.4699122425462101,
          0.2664522660996681,
          -0.757828479764696,
          0.47620899561529234,
          -0.01574775580155765,
          -0.757828479764696,
          -0.757828479764696,
          0.47620899561529234,
          0.47620899561529234,
          -0.149752509073595,
          -0.948889958973195,
          0.5344949062922184,
          0.6900737750886219,
          0.6947609729947564,
          0.6947609729947564,
          0.6947609729947564,
          -0.9803620260501394,
          0.4520860149512536,
          0.4520860149512536,
          -0.25651800517077145,
          -1.3716756767817309,
          0.5666474705015591,
          -0.8806764029929854,
          0.3452585693785559,
          -1.019888853339461,
          -0.7495183009095817,
          0.320837802665556,
          0.17922494351184548,
          -0.33830881915453237,
          1.0125366375816325,
          1.0125366375816325,
          1.0125366375816325,
          1.0125366375816325,
          1.0125366375816325,
          1.0125366375816325,
          1.0125366375816325,
          1.0125366375816325,
          1.8097926480820439,
          1.8097926480820439,
          0.2830940069762483,
          0.7586900582011848,
          0.6540029390281472,
          0.6540029390281472,
          -0.27531635288496026,
          0.6038713459156511,
          -1.1559522000899922,
          0.09781673421169074,
          -1.2458911259608532,
          0.17480886987742414,
          -0.3171478815394259,
          -0.5030008017836378,
          -0.5030008017836378,
          0.6125367472296402,
          -0.24095412782264672,
          -0.26022007265884023,
          -0.46234302894564916,
          -0.9144018009583826,
          0.3892286897992103,
          -0.8073310866365643,
          0.4464378476651184,
          -0.04551890375173211,
          -0.8657975334811758,
          0.2774170429414404,
          0.41107163872381275,
          -1.0848977281496588,
          0.36242614534488515,
          -1.5191048862843268,
          -0.30479624539546124,
          -0.3377992901079171,
          -0.78759962771487,
          -0.7678707932237488,
          0.4730617253213856,
          -0.04551890375173211,
          -0.2763661746313107,
          0.45363824482399184,
          0.45363824482399184,
          -1.538717010236604,
          -0.284948075934922,
          0.7585529461552135,
          1.1302607796522444,
          1.1302607796522444,
          0.8197143319389537,
          -0.20036233933304382,
          -0.33108949277511646,
          -0.33108949277511646,
          -1.377096105728774,
          -0.9969556355645798,
          0.6302574289035489,
          0.6302574289035489,
          0.6302574289035489,
          0.4354924054368136,
          -0.33108949277511646,
          -0.33108949277511646,
          0.24083667223444705,
          0.24083667223444705,
          -0.13328597415686708,
          0.24990678794736837,
          0.7255028391723046,
          1.0077952325760913,
          1.0077952325760913,
          1.0077952325760913,
          0.606011976452448,
          0.606011976452448,
          0.8153738080624214,
          0.8153738080624214,
          0.4762112080965609,
          0.4762112080965609,
          -0.750933848548854,
          -0.419783867316677,
          -0.419783867316677,
          -0.07463639534874762,
          0.3754272178760305,
          0.3754272178760305,
          0.8860495835778097,
          0.8860495835778097,
          -0.7859296976785255,
          0.4678392366231571,
          0.9632908567379952,
          0.9218403352912911,
          0.9218403352912911,
          0.7270753118245548,
          0.6275970196828282,
          -1.136340076137715,
          0.07796856475115131,
          -0.4139881866656987,
          0.6704761483597013,
          -0.5635613270202873,
          0.6704761483597013,
          0.970954891852398,
          1.0184303149138458,
          0.9984846425592517,
          -1.0361222083515886,
          0.5910908561165398,
          0.5910908561165398,
          0.5910908561165398,
          -0.9851525343280076,
          0.24888494105198058,
          -0.7776766492252349,
          -0.7776766492252349,
          0.45636082615475354,
          0.45636082615475354,
          -0.035595925262096845,
          -0.7450269639343399,
          -0.6207260411580282,
          0.320001545577663,
          1.5647413560001544,
          1.8298954500793212,
          1.861206525641723,
          1.861206525641723,
          1.861206525641723,
          2.0246604735460565,
          -1.2280165612318452,
          0.2078080279984742,
          -0.2841487234183758,
          -0.3081675120222233,
          -0.37015229529108473,
          -1.1132352800854781,
          0.7204934774430743,
          0.7204934774430743,
          0.4262501618346123,
          0.46041616550098896,
          -1.49363797419477,
          -0.0729379783564931,
          -1.7655746136006376,
          -0.38414287850726414,
          -0.13613009972799422,
          -0.9803620260501394,
          0.6468510384179892,
          0.6468510384179892,
          0.6468510384179892,
          0.4520860149512536,
          0.4520860149512536,
          1.0290657123719675,
          1.0623677953299084,
          1.0290657123719675,
          -0.7975248186857737,
          0.4365126566942142,
          -1.0135492450790196,
          0.6669115747016435,
          -0.32206699416179807,
          -0.34133293899799166,
          -0.8550890571217182,
          0.5656109387165589,
          0.5656109387165589,
          -0.6486977021723079,
          0.5656109387165589,
          0.5391225609435439,
          -0.6486977021723079,
          -0.7495183009095817,
          0.320837802665556,
          0.6711816949286958,
          0.6711816949286958,
          -0.0766270232402356,
          0.6274687833113676,
          -1.628655936107465,
          0.5735633831141299,
          -0.8073310866365643,
          0.4464378476651184,
          -0.04551890375173211,
          -1.0023809727682742,
          0.21192766812059255,
          -0.6140122753674838,
          0.9954359970893687,
          0.9754903247347746,
          -1.799388353397573,
          -1.7449351686790597,
          -1.1999740470723617,
          0.05379488722932057,
          -0.43816186418752956,
          -0.5932157644316168,
          0.6605531698700662,
          -0.681842923865889,
          0.20875880520142742,
          -0.3455259330526795
         ]
        },
        {
         "customdata": [
          [
           "Garbage"
          ],
          [
           "Garbage"
          ],
          [
           "Garbage"
          ],
          [
           "Garbage"
          ],
          [
           "Garbage"
          ],
          [
           "Garbage"
          ],
          [
           "Garbage"
          ],
          [
           "Garbage"
          ],
          [
           "Recycle"
          ],
          [
           "Recycle"
          ],
          [
           "Recycle"
          ],
          [
           "Recycle"
          ],
          [
           "Garbage"
          ],
          [
           "Garbage"
          ],
          [
           "Recycle"
          ],
          [
           "Recycle"
          ],
          [
           "Garbage"
          ],
          [
           "Garbage"
          ],
          [
           "Garbage"
          ],
          [
           "Recycle"
          ],
          [
           "Recycle"
          ],
          [
           "Recycle"
          ],
          [
           "Recycle"
          ],
          [
           "Recycle"
          ],
          [
           "Garbage"
          ],
          [
           "Garbage"
          ],
          [
           "Recycle"
          ],
          [
           "Recycle"
          ],
          [
           "Garbage"
          ],
          [
           "Garbage"
          ],
          [
           "Garbage"
          ],
          [
           "Garbage"
          ],
          [
           "Garbage"
          ],
          [
           "Garbage"
          ],
          [
           "Garbage"
          ],
          [
           "Garbage"
          ],
          [
           "Garbage"
          ],
          [
           "Garbage"
          ],
          [
           "Garbage"
          ],
          [
           "Garbage"
          ],
          [
           "Garbage"
          ],
          [
           "Garbage"
          ],
          [
           "Garbage"
          ],
          [
           "Garbage"
          ],
          [
           "Recycle"
          ],
          [
           "Compost"
          ],
          [
           "Compost"
          ],
          [
           "Compost"
          ],
          [
           "Garbage"
          ],
          [
           "Garbage"
          ],
          [
           "Garbage"
          ],
          [
           "Garbage"
          ],
          [
           "Garbage"
          ],
          [
           "Garbage"
          ],
          [
           "Garbage"
          ],
          [
           "Garbage"
          ],
          [
           "Garbage"
          ],
          [
           "Garbage"
          ],
          [
           "Garbage"
          ],
          [
           "Garbage"
          ],
          [
           "Garbage"
          ],
          [
           "Garbage"
          ],
          [
           "Garbage"
          ],
          [
           "Garbage"
          ],
          [
           "Garbage"
          ],
          [
           "Recycle"
          ],
          [
           "Recycle"
          ],
          [
           "Recycle"
          ],
          [
           "Recycle"
          ],
          [
           "Recycle"
          ],
          [
           "Compost"
          ],
          [
           "Compost"
          ],
          [
           "Compost"
          ],
          [
           "Recycle"
          ],
          [
           "Recycle"
          ],
          [
           "Recycle"
          ],
          [
           "Recycle"
          ],
          [
           "Recycle"
          ],
          [
           "Recycle"
          ],
          [
           "Recycle"
          ],
          [
           "Recycle"
          ],
          [
           "Garbage"
          ],
          [
           "Garbage"
          ],
          [
           "Garbage"
          ],
          [
           "Garbage"
          ],
          [
           "Garbage"
          ],
          [
           "Garbage"
          ],
          [
           "Garbage"
          ],
          [
           "Garbage"
          ],
          [
           "Recycle"
          ],
          [
           "Compost"
          ],
          [
           "Garbage"
          ],
          [
           "Garbage"
          ],
          [
           "Garbage"
          ],
          [
           "Garbage"
          ],
          [
           "Garbage"
          ],
          [
           "Garbage"
          ],
          [
           "Garbage"
          ],
          [
           "Garbage"
          ],
          [
           "Garbage"
          ],
          [
           "Recycle"
          ],
          [
           "Recycle"
          ],
          [
           "Garbage"
          ],
          [
           "Garbage"
          ],
          [
           "Garbage"
          ],
          [
           "Garbage"
          ],
          [
           "Garbage"
          ],
          [
           "Compost"
          ],
          [
           "Compost"
          ],
          [
           "Compost"
          ],
          [
           "Garbage"
          ],
          [
           "Garbage"
          ],
          [
           "Garbage"
          ],
          [
           "Garbage"
          ],
          [
           "Garbage"
          ],
          [
           "Garbage"
          ],
          [
           "Compost"
          ],
          [
           "Compost"
          ],
          [
           "Compost"
          ],
          [
           "Recycle"
          ],
          [
           "Recycle"
          ],
          [
           "Recycle"
          ],
          [
           "Garbage"
          ],
          [
           "Garbage"
          ],
          [
           "Garbage"
          ],
          [
           "Garbage"
          ],
          [
           "Garbage"
          ],
          [
           "Garbage"
          ],
          [
           "Garbage"
          ],
          [
           "Garbage"
          ],
          [
           "Garbage"
          ],
          [
           "Garbage"
          ],
          [
           "Garbage"
          ],
          [
           "Garbage"
          ],
          [
           "Garbage"
          ],
          [
           "Recycle"
          ],
          [
           "Garbage"
          ],
          [
           "Garbage"
          ],
          [
           "Compost"
          ],
          [
           "Compost"
          ],
          [
           "Compost"
          ],
          [
           "Recycle"
          ],
          [
           "Recycle"
          ],
          [
           "Recycle"
          ],
          [
           "Garbage"
          ],
          [
           "Recycle"
          ],
          [
           "Recycle"
          ],
          [
           "Recycle"
          ],
          [
           "Recycle"
          ],
          [
           "Recycle"
          ],
          [
           "Garbage"
          ],
          [
           "Garbage"
          ],
          [
           "Garbage"
          ],
          [
           "Recycle"
          ],
          [
           "Recycle"
          ],
          [
           "Recycle"
          ],
          [
           "Garbage"
          ],
          [
           "Garbage"
          ],
          [
           "Garbage"
          ],
          [
           "Garbage"
          ],
          [
           "Garbage"
          ],
          [
           "Recycle"
          ],
          [
           "Recycle"
          ],
          [
           "Recycle"
          ],
          [
           "Recycle"
          ],
          [
           "Recycle"
          ],
          [
           "Garbage"
          ],
          [
           "Garbage"
          ],
          [
           "Garbage"
          ],
          [
           "Garbage"
          ],
          [
           "Garbage"
          ],
          [
           "Garbage"
          ],
          [
           "Garbage"
          ],
          [
           "Recycle"
          ],
          [
           "Recycle"
          ],
          [
           "Compost"
          ],
          [
           "Compost"
          ],
          [
           "Compost"
          ],
          [
           "Recycle"
          ],
          [
           "Garbage"
          ],
          [
           "Garbage"
          ],
          [
           "Compost"
          ],
          [
           "Compost"
          ],
          [
           "Compost"
          ],
          [
           "Recycle"
          ],
          [
           "Recycle"
          ],
          [
           "Recycle"
          ],
          [
           "Recycle"
          ],
          [
           "Recycle"
          ],
          [
           "Recycle"
          ],
          [
           "Garbage"
          ],
          [
           "Garbage"
          ],
          [
           "Garbage"
          ],
          [
           "Garbage"
          ],
          [
           "Garbage"
          ],
          [
           "Garbage"
          ],
          [
           "Garbage"
          ],
          [
           "Garbage"
          ],
          [
           "Garbage"
          ],
          [
           "Garbage"
          ],
          [
           "Garbage"
          ],
          [
           "Recycle"
          ],
          [
           "Recycle"
          ],
          [
           "Recycle"
          ],
          [
           "Recycle"
          ],
          [
           "Garbage"
          ],
          [
           "Garbage"
          ],
          [
           "Garbage"
          ],
          [
           "Garbage"
          ],
          [
           "Garbage"
          ],
          [
           "Garbage"
          ],
          [
           "Garbage"
          ],
          [
           "Garbage"
          ],
          [
           "Garbage"
          ],
          [
           "Garbage"
          ],
          [
           "Garbage"
          ],
          [
           "Garbage"
          ],
          [
           "Garbage"
          ],
          [
           "Garbage"
          ],
          [
           "Garbage"
          ],
          [
           "Garbage"
          ],
          [
           "Garbage"
          ],
          [
           "Garbage"
          ],
          [
           "Compost"
          ],
          [
           "Compost"
          ],
          [
           "Garbage"
          ],
          [
           "Garbage"
          ],
          [
           "Garbage"
          ],
          [
           "Garbage"
          ],
          [
           "Garbage"
          ],
          [
           "Garbage"
          ],
          [
           "Recycle"
          ],
          [
           "Recycle"
          ],
          [
           "Recycle"
          ],
          [
           "Recycle"
          ],
          [
           "Recycle"
          ],
          [
           "Compost"
          ],
          [
           "Compost"
          ],
          [
           "Compost"
          ],
          [
           "Garbage"
          ],
          [
           "Garbage"
          ],
          [
           "Garbage"
          ],
          [
           "Garbage"
          ],
          [
           "Recycle"
          ],
          [
           "Recycle"
          ],
          [
           "Garbage"
          ],
          [
           "Recycle"
          ]
         ],
         "hovertemplate": "<b>%{hovertext}</b><br><br>Class=%{marker.color}<br>PC 1=%{x}<br>PC 2=%{y}<br>PC 3=%{z}<br>commodity=%{customdata[0]}<extra></extra>",
         "hovertext": [
          "RESTAURANT",
          "WINERY",
          "WINERY",
          "MULTIFAMIL",
          "WINERY",
          "WINERY",
          "UTILITY",
          "RESTAURANT",
          "RESTAURANT",
          "RESTAURANT",
          "RESTAURANT",
          "RESTAURANT",
          "MIXED USE",
          "MIXED USE",
          "MIXED USE",
          "MIXED USE",
          "GROCERY",
          "GROCERY",
          "GROCERY",
          "GROCERY",
          "GROCERY",
          "GROCERY",
          "PARK",
          "RESTAURANT",
          "RESTAURANT",
          "RESTAURANT",
          "RESTAURANT",
          "RESTAURANT",
          "MULTIFAMIL",
          "MULTIFAMIL",
          "WINERY",
          "WINERY",
          "WINERY",
          "WINERY",
          "LODGING-FW",
          "LODGING-FW",
          "LODGING",
          "LODGING",
          "LODGING",
          "LODGING",
          "LODGING",
          "GROCERY",
          "GROCERY",
          "GROCERY",
          "GROCERY",
          "GROCERY",
          "GROCERY",
          "GROCERY",
          "GROCERY",
          "GROCERY",
          "LODGING-FW",
          "LODGING-FW",
          "LODGING-FW",
          "WINERY",
          "WINERY",
          "RESTAURANT",
          "RESTAURANT",
          "RESTAURANT",
          "RESTAURANT",
          "GROCERY",
          "GROCERY",
          "GROCERY",
          "GROCERY",
          "GROCERY",
          "GROCERY",
          "GROCERY",
          "GROCERY",
          "GROCERY",
          "GROCERY",
          "GROCERY",
          "GROCERY",
          "GROCERY",
          "GROCERY",
          "GROCERY",
          "GROCERY",
          "GROCERY",
          "GROCERY",
          "GROCERY",
          "GROCERY",
          "GROCERY",
          "GROCERY",
          "PARK",
          "PARK",
          "PARK",
          "PARK",
          "BAKERY",
          "BAKERY",
          "HOA",
          "HOA",
          "HOA",
          "HOA",
          "NRSG HOME",
          "NRSG HOME",
          "NRSG HOME",
          "LODGING-FW",
          "OFFICE BLD",
          "OFFICE BLD",
          "OFFICE BLD",
          "LODGING",
          "LODGING",
          "STRIP MALL",
          "STRIP MALL",
          "COMMUNITY",
          "NRSG HOME",
          "NRSG HOME",
          "GROUP HOME",
          "GROCERY",
          "GROCERY",
          "GROCERY",
          "GROCERY",
          "WINERY",
          "WINERY",
          "WINERY",
          "GROCERY",
          "GROCERY",
          "GROCERY",
          "GROCERY",
          "GROCERY",
          "GROCERY",
          "GROCERY",
          "GROCERY",
          "GROCERY",
          "MULTIFAMIL",
          "MULTIFAMIL",
          "WINERY",
          "WINERY",
          "OFFICE BLD",
          "OFFICE BLD",
          "WINERY",
          "WINERY",
          "SCHOOL",
          "WINERY",
          "LODGING-FW",
          "WINERY",
          "WINERY",
          "MEMBER",
          "RESTAURANT",
          "RESTAURANT",
          "RESTAURANT",
          "RESTAURANT",
          "RESTAURANT",
          "RESTAURANT",
          "RESTAURANT",
          "RESTAURANT",
          "LODGING",
          "LODGING",
          "LODGING",
          "LODGING",
          "RESTAURANT",
          "RESTAURANT",
          "RESTAURANT",
          "RESTAURANT",
          "RESTAURANT",
          "RESTAURANT",
          "RESTAURANT",
          "RESTAURANT",
          "MULTIFAMIL",
          "MEDICAL",
          "MEDICAL",
          "HOA",
          "HOA",
          "HOA",
          "CATERING",
          "CATERING",
          "CATERING",
          "CATERING",
          "MEMBER",
          "MEMBER",
          "WINERY",
          "WINERY",
          "LODGING-FW",
          "LODGING-FW",
          "LODGING-FW",
          "LODGING-FW",
          "LODGING-FW",
          "LODGING-FW",
          "LODGING-FW",
          "LODGING-FW",
          "LODGING-FW",
          "RESTAURANT",
          "RESTAURANT",
          "RESTAURANT",
          "RESTAURANT",
          "RESTAURANT",
          "RESTAURANT",
          "RESTAURANT",
          "RESTAURANT",
          "RESTAURANT",
          "RESTAURANT",
          "RESTAURANT",
          "WINERY",
          "WINERY",
          "PARK",
          "RESTAURANT",
          "RESTAURANT",
          "RESTAURANT",
          "RESTAURANT",
          "RESTAURANT",
          "RESTAURANT",
          "RESTAURANT",
          "RESTAURANT",
          "RESTAURANT",
          "RESTAURANT",
          "RESTAURANT",
          "RESTAURANT",
          "WINERY",
          "WINERY",
          "WINERY",
          "WINERY",
          "WINERY",
          "MULTIFAMIL",
          "MULTIFAMIL",
          "WINERY",
          "WINERY",
          "RESTAURANT",
          "RESTAURANT",
          "MEMBER",
          "MEMBER",
          "MEMBER",
          "MEMBER",
          "VINEYARD",
          "WINERY",
          "WINERY",
          "WINERY",
          "WINERY",
          "RESTAURANT",
          "RESTAURANT",
          "RESTAURANT",
          "RESTAURANT",
          "RESTAURANT",
          "RESTAURANT",
          "RESTAURANT",
          "RESTAURANT",
          "RESTAURANT",
          "RESTAURANT",
          "RESTAURANT",
          "RESTAURANT",
          "RESTAURANT",
          "RESTAURANT",
          "RESTAURANT",
          "RESTAURANT",
          "RESTAURANT",
          "RESTAURANT",
          "RESTAURANT",
          "RESTAURANT",
          "RESTAURANT",
          "RESTAURANT"
         ],
         "legendgroup": "2",
         "marker": {
          "color": [
           2,
           2,
           2,
           2,
           2,
           2,
           2,
           2,
           2,
           2,
           2,
           2,
           2,
           2,
           2,
           2,
           2,
           2,
           2,
           2,
           2,
           2,
           2,
           2,
           2,
           2,
           2,
           2,
           2,
           2,
           2,
           2,
           2,
           2,
           2,
           2,
           2,
           2,
           2,
           2,
           2,
           2,
           2,
           2,
           2,
           2,
           2,
           2,
           2,
           2,
           2,
           2,
           2,
           2,
           2,
           2,
           2,
           2,
           2,
           2,
           2,
           2,
           2,
           2,
           2,
           2,
           2,
           2,
           2,
           2,
           2,
           2,
           2,
           2,
           2,
           2,
           2,
           2,
           2,
           2,
           2,
           2,
           2,
           2,
           2,
           2,
           2,
           2,
           2,
           2,
           2,
           2,
           2,
           2,
           2,
           2,
           2,
           2,
           2,
           2,
           2,
           2,
           2,
           2,
           2,
           2,
           2,
           2,
           2,
           2,
           2,
           2,
           2,
           2,
           2,
           2,
           2,
           2,
           2,
           2,
           2,
           2,
           2,
           2,
           2,
           2,
           2,
           2,
           2,
           2,
           2,
           2,
           2,
           2,
           2,
           2,
           2,
           2,
           2,
           2,
           2,
           2,
           2,
           2,
           2,
           2,
           2,
           2,
           2,
           2,
           2,
           2,
           2,
           2,
           2,
           2,
           2,
           2,
           2,
           2,
           2,
           2,
           2,
           2,
           2,
           2,
           2,
           2,
           2,
           2,
           2,
           2,
           2,
           2,
           2,
           2,
           2,
           2,
           2,
           2,
           2,
           2,
           2,
           2,
           2,
           2,
           2,
           2,
           2,
           2,
           2,
           2,
           2,
           2,
           2,
           2,
           2,
           2,
           2,
           2,
           2,
           2,
           2,
           2,
           2,
           2,
           2,
           2,
           2,
           2,
           2,
           2,
           2,
           2,
           2,
           2,
           2,
           2,
           2,
           2,
           2,
           2,
           2,
           2,
           2,
           2,
           2,
           2,
           2,
           2,
           2,
           2,
           2,
           2,
           2,
           2,
           2,
           2,
           2,
           2,
           2,
           2,
           2,
           2,
           2,
           2,
           2
          ],
          "coloraxis": "coloraxis",
          "symbol": "square"
         },
         "mode": "markers",
         "name": "2",
         "scene": "scene",
         "showlegend": true,
         "type": "scatter3d",
         "x": [
          1.8481465801808574,
          2.752901621049109,
          2.752901621049109,
          1.6129050585110596,
          2.77876524173115,
          3.055044616340312,
          2.0915915398745697,
          2.2295570805165172,
          2.458468327926898,
          2.458468327926898,
          2.458468327926898,
          2.458468327926898,
          2.4284733211116465,
          2.4284733211116465,
          1.3141126558579705,
          1.3141126558579705,
          3.168793147128876,
          3.168793147128876,
          3.168793147128876,
          2.045223989194415,
          2.045223989194415,
          2.045223989194415,
          1.2807898764935726,
          1.5767780203900756,
          3.939889719898349,
          3.939889719898349,
          1.9263187615341828,
          1.9263187615341828,
          2.30934018364501,
          2.30934018364501,
          2.508499100019774,
          3.7643301729873735,
          3.7643301729873735,
          2.912703169113416,
          2.864264794392895,
          2.864264794392895,
          2.52701388102127,
          2.52701388102127,
          3.924914854564873,
          3.924914854564873,
          3.924914854564873,
          5.112915458096947,
          5.112915458096947,
          5.112915458096947,
          1.6737311893034006,
          1.6322132100527962,
          1.6322132100527962,
          1.6322132100527962,
          3.078965828669585,
          3.078965828669585,
          3.6572541058164343,
          3.6572541058164343,
          3.6572541058164343,
          5.0571318466033475,
          5.0571318466033475,
          3.731822587006846,
          3.731822587006846,
          3.731822587006846,
          3.731822587006846,
          9.491380430961915,
          9.491380430961915,
          9.491380430961915,
          9.491380430961915,
          9.491380430961915,
          4.55952097469036,
          1.3866767574701573,
          1.3866767574701573,
          1.3866767574701573,
          1.4450202794312696,
          1.4490447373488147,
          2.6444653009401122,
          2.6444653009401122,
          2.6444653009401122,
          4.428595510438666,
          4.428595510438666,
          4.428595510438666,
          4.428595510438666,
          3.977469561557056,
          3.977469561557056,
          3.977469561557056,
          3.977469561557056,
          2.711873593764911,
          2.711873593764911,
          2.604178776281973,
          2.604178776281973,
          2.2223251974763594,
          2.2223251974763594,
          3.0881791540591803,
          3.0881791540591803,
          2.034419136531081,
          1.4637871030193994,
          4.1181002995381615,
          4.1181002995381615,
          4.1181002995381615,
          1.5755303274543786,
          4.644391481597058,
          4.644391481597058,
          4.644391481597058,
          3.2250002757476928,
          3.2250002757476928,
          2.051205012259861,
          2.051205012259861,
          1.5230305599742677,
          3.7664485743643947,
          3.7664485743643947,
          2.3253766920033216,
          3.2199787616817694,
          1.3084202126482825,
          1.3084202126482825,
          1.3084202126482825,
          3.366899898467275,
          2.484140713272032,
          1.8706451874601453,
          5.599413802772102,
          5.599413802772102,
          5.599413802772102,
          2.2220695000004045,
          2.2220695000004045,
          2.2220695000004045,
          3.459327392982295,
          3.459327392982295,
          3.459327392982295,
          3.013810954876812,
          3.013810954876812,
          2.7152109555112585,
          2.7152109555112585,
          2.031774899578612,
          2.031774899578612,
          2.7601404059257075,
          2.7601404059257075,
          1.4138812740976223,
          1.2495936404744055,
          2.2805502632583656,
          3.4890906807054063,
          3.4890906807054063,
          1.6251779310616439,
          4.7858948911599715,
          4.7858948911599715,
          1.3308934549156306,
          1.3308934549156306,
          1.3308934549156306,
          2.5601024320624313,
          2.5601024320624313,
          2.5601024320624313,
          2.828597976327632,
          1.724173872721223,
          1.6584221294707107,
          1.6584221294707107,
          2.6056457829399933,
          2.6056457829399933,
          5.793506270028306,
          5.793506270028306,
          5.793506270028306,
          2.312620769363867,
          2.312620769363867,
          2.312620769363867,
          1.5953066476200255,
          2.1387778522516045,
          2.1387778522516045,
          2.914994194937365,
          2.914994194937365,
          2.0166182119906173,
          2.234092431652722,
          2.234092431652722,
          2.234092431652722,
          2.234092431652722,
          1.6502737743310028,
          1.6502737743310028,
          3.04038443714435,
          3.04038443714435,
          5.035062236268175,
          5.035062236268175,
          5.035062236268175,
          2.6503411400337185,
          2.6503411400337185,
          1.5931752633090102,
          1.5931752633090102,
          1.5931752633090102,
          1.2211712476952332,
          4.154684408434334,
          4.154684408434334,
          1.7276444826564366,
          1.7276444826564366,
          1.7276444826564366,
          3.543936962446649,
          3.543936962446649,
          3.543936962446649,
          2.4775563054988057,
          2.4775563054988057,
          2.4775563054988057,
          2.9723151378755777,
          2.834908633150654,
          2.613107564387429,
          6.433552239747064,
          6.433552239747064,
          6.433552239747064,
          6.433552239747064,
          6.433552239747064,
          6.433552239747064,
          4.3512583891244105,
          4.3512583891244105,
          4.425432318850216,
          4.425432318850216,
          4.425432318850216,
          4.425432318850216,
          3.002077056014539,
          3.002077056014539,
          4.150882321162089,
          4.150882321162089,
          4.150882321162089,
          2.4415723045105353,
          2.4415723045105353,
          1.8327438645703125,
          3.0358909257754085,
          3.0822736478691177,
          3.0822736478691177,
          2.2726125106895516,
          2.2726125106895516,
          2.2726125106895516,
          2.2726125106895516,
          1.6622410613383949,
          6.524013722453373,
          6.524013722453373,
          2.5542920056268232,
          2.5542920056268232,
          8.78089090915337,
          8.78089090915337,
          8.78089090915337,
          8.78089090915337,
          8.78089090915337,
          4.406692521597974,
          5.159594739771768,
          5.159594739771768,
          5.159594739771768,
          1.8846572555112437,
          1.944995631581093,
          3.0981767618881992,
          3.0981767618881992,
          3.0981767618881992,
          5.5907847472404395,
          5.5907847472404395,
          5.5907847472404395,
          3.508490896617787,
          1.626123328150555,
          1.626123328150555,
          2.7315190055424052,
          1.7124583228300292
         ],
         "y": [
          1.200148270669004,
          -2.130724037735995,
          -2.130724037735995,
          1.2622868830915228,
          -2.4841351316673475,
          -2.5139135359417555,
          -1.2008851124786755,
          -0.7269755226534678,
          -0.7626118199341717,
          -0.7626118199341717,
          -0.7626118199341717,
          -0.7626118199341717,
          0.4753337459183596,
          0.4753337459183596,
          0.007058336196737911,
          0.007058336196737911,
          1.5242453083004754,
          1.5242453083004754,
          1.5242453083004754,
          0.8846700098605543,
          0.8846700098605543,
          0.8846700098605543,
          0.07879126680675454,
          0.29189866282661064,
          0.9263794379375734,
          0.9263794379375734,
          0.543332011442567,
          0.543332011442567,
          1.564002999471871,
          1.564002999471871,
          -2.458365497475896,
          -2.1987230355343916,
          -2.1987230355343916,
          -2.4925460773227113,
          -0.783222374583433,
          -0.783222374583433,
          1.395348990388515,
          1.395348990388515,
          1.4544660081274425,
          1.4544660081274425,
          1.4544660081274425,
          1.3745149839995126,
          1.3745149839995126,
          1.3745149839995126,
          0.7532847277864375,
          2.1373344519115665,
          2.1373344519115665,
          2.1373344519115665,
          1.2084700439403722,
          1.2084700439403722,
          1.0372607789996962,
          1.0372607789996962,
          1.0372607789996962,
          -2.4989785145645893,
          -2.4989785145645893,
          1.5666029690027239,
          1.5666029690027239,
          1.5666029690027239,
          1.5666029690027239,
          0.9972225288986617,
          0.9972225288986617,
          0.9972225288986617,
          0.9972225288986617,
          0.9972225288986617,
          0.7180611739015951,
          0.9200873308014006,
          0.9200873308014006,
          0.9200873308014006,
          0.914557477830209,
          0.9212077369698061,
          1.913122172357792,
          1.913122172357792,
          1.913122172357792,
          0.7165305329515932,
          0.7165305329515932,
          0.7165305329515932,
          0.7165305329515932,
          0.9314613457870964,
          0.9314613457870964,
          0.9314613457870964,
          0.9314613457870964,
          0.6781221920148561,
          0.6781221920148561,
          0.6848851401574536,
          0.6848851401574536,
          1.2651592316283478,
          1.2651592316283478,
          0.5931994344609816,
          0.5931994344609816,
          0.11918023930068201,
          1.0073242514736966,
          1.2931768110881956,
          1.2931768110881956,
          1.2931768110881956,
          -0.8496899276889439,
          0.9512569908220847,
          0.9512569908220847,
          0.9512569908220847,
          1.059283734507887,
          1.059283734507887,
          0.5433737431381184,
          0.5433737431381184,
          0.8977614667869628,
          1.0590303468528872,
          1.0590303468528872,
          -2.048072932773313,
          -0.9034765626874894,
          0.23499936718896522,
          0.23499936718896522,
          0.23499936718896522,
          -2.5334972183353304,
          -2.456835855564962,
          -0.7032674621953885,
          1.0544853108897427,
          1.0544853108897427,
          1.0544853108897427,
          1.7864133142077445,
          1.7864133142077445,
          1.7864133142077445,
          0.5112564577190442,
          0.5112564577190442,
          0.5112564577190442,
          1.2251551031440966,
          1.2251551031440966,
          -2.1269812144151157,
          -2.1269812144151157,
          1.1725595082110314,
          1.1725595082110314,
          -2.129802664419211,
          -2.129802664419211,
          0.4467032007327945,
          -0.46991236162602124,
          0.8138170986809629,
          -2.1873090735148355,
          -2.1873090735148355,
          0.1451940947711494,
          -0.9474457062451211,
          -0.9474457062451211,
          0.1647306810311241,
          0.1647306810311241,
          0.1647306810311241,
          -1.1237266937367685,
          -1.1237266937367685,
          -1.1237266937367685,
          1.0450038149842003,
          0.5617232067935188,
          0.7616388077014025,
          0.7616388077014025,
          0.7659501995056207,
          0.7659501995056207,
          1.2243492673003724,
          1.2243492673003724,
          1.2243492673003724,
          0.9803752701883297,
          0.9803752701883297,
          0.9803752701883297,
          1.2633920164956163,
          -1.123376514021783,
          -1.123376514021783,
          0.6971041958790624,
          0.6971041958790624,
          0.20835755821232343,
          0.8521150543550422,
          0.8521150543550422,
          0.8521150543550422,
          0.8521150543550422,
          -0.7355836462451537,
          -0.7355836462451537,
          -2.1474012443202772,
          -2.1474012443202772,
          0.8414118415921878,
          0.8414118415921878,
          0.8414118415921878,
          0.30689047953905046,
          0.30689047953905046,
          1.5794572588836349,
          1.5794572588836349,
          1.5794572588836349,
          0.25569663483188404,
          1.0031411976195803,
          1.0031411976195803,
          1.8949356709215488,
          1.8949356709215488,
          1.8949356709215488,
          0.6737847500913096,
          0.6737847500913096,
          0.6737847500913096,
          0.7748572950119779,
          0.7748572950119779,
          0.7748572950119779,
          -2.4918866637279673,
          -2.4788631481280596,
          -1.3776971801033346,
          0.9194402401954079,
          0.9194402401954079,
          0.9194402401954079,
          0.9194402401954079,
          0.9194402401954079,
          0.9194402401954079,
          0.7434981994158621,
          0.7434981994158621,
          0.7295597491990885,
          0.7295597491990885,
          0.7295597491990885,
          0.7295597491990885,
          -2.144995642657034,
          -2.144995642657034,
          -2.0697409077960276,
          -2.0697409077960276,
          -2.0697409077960276,
          1.3722863713180564,
          1.3722863713180564,
          -0.7008873599097757,
          -2.5127107351101343,
          1.0845291732737998,
          1.0845291732737998,
          2.1914817389713126,
          2.1914817389713126,
          2.1914817389713126,
          2.1914817389713126,
          -0.12801052262976945,
          -2.6159523839851397,
          -2.6159523839851397,
          -2.3383596192017952,
          -2.3383596192017952,
          1.071345968188256,
          1.071345968188256,
          1.071345968188256,
          1.071345968188256,
          1.071345968188256,
          0.7393289813386347,
          0.46737644634132963,
          0.46737644634132963,
          0.46737644634132963,
          0.7426566906857017,
          0.7369377635971188,
          1.662538681706525,
          1.662538681706525,
          1.662538681706525,
          0.9723637975336464,
          0.9723637975336464,
          0.9723637975336464,
          0.7964217567541014,
          0.9046779560552571,
          0.9046779560552571,
          0.8526057283011591,
          0.3752976980949229
         ],
         "z": [
          -0.31788662658987116,
          -1.030444622954471,
          -1.030444622954471,
          -0.5924387902278063,
          -0.8888192161794669,
          -1.1144478877189206,
          -1.7096032417728235,
          -0.6635761740453554,
          0.7759026638152382,
          0.7759026638152382,
          0.7759026638152382,
          0.7759026638152382,
          -1.98425474051884,
          -1.98425474051884,
          -0.6818892252974207,
          -0.6818892252974207,
          -1.720741973983425,
          -1.720741973983425,
          -1.720741973983425,
          -0.36584510768657197,
          -0.36584510768657197,
          -0.36584510768657197,
          0.16652000566209696,
          -0.40923969909673485,
          -0.6776621159043307,
          -0.6776621159043307,
          0.9216367232043847,
          0.9216367232043847,
          -0.34536758450355975,
          -0.34536758450355975,
          -0.7938282092639234,
          -0.3219560184440816,
          -0.3219560184440816,
          -0.7727834235668897,
          -0.7881138266652961,
          -0.7881138266652961,
          -0.32238214942369364,
          -0.32238214942369364,
          -0.4048883053978029,
          -0.4048883053978029,
          -0.4048883053978029,
          -0.4448249908639597,
          -0.4448249908639597,
          -0.4448249908639597,
          1.238111861272022,
          1.2005993624071465,
          1.2005993624071465,
          1.2005993624071465,
          0.08274668248216945,
          0.08274668248216945,
          -1.5800276050311606,
          -1.5800276050311606,
          -1.5800276050311606,
          -0.9069978265308223,
          -0.9069978265308223,
          -1.544939256794303,
          -1.544939256794303,
          -1.544939256794303,
          -1.544939256794303,
          -1.7033039739825888,
          -1.7033039739825888,
          -1.7033039739825888,
          -1.7033039739825888,
          -1.7033039739825888,
          -0.8489703949377712,
          0.9965446802940039,
          0.9965446802940039,
          0.9965446802940039,
          0.97727873545781,
          1.0039026131140774,
          0.7568482890610324,
          0.7568482890610324,
          0.7568482890610324,
          0.7093321615447417,
          0.7093321615447417,
          0.7093321615447417,
          0.7093321615447417,
          0.8088104536864692,
          0.8088104536864692,
          0.8088104536864692,
          0.8088104536864692,
          -2.394509462161317,
          -2.394509462161317,
          -2.487809797257842,
          -2.487809797257842,
          -1.951257707883906,
          -1.951257707883906,
          -1.8285338203500803,
          -1.8285338203500803,
          -0.5461795882475785,
          -0.8663313653621426,
          -2.142517857236685,
          -2.142517857236685,
          -2.142517857236685,
          -0.6295573985903085,
          -2.6667565552458665,
          -2.6667565552458665,
          -2.6667565552458665,
          -0.7052714544233496,
          -0.7052714544233496,
          0.14387529470198804,
          0.14387529470198804,
          -1.5868553326759278,
          -1.1632610510577979,
          -1.1632610510577979,
          -0.6763614561513001,
          -1.1611184115501674,
          0.21992293349527578,
          0.21992293349527578,
          0.21992293349527578,
          -0.8442751625673425,
          -0.8149308556037542,
          -1.8436671902011508,
          -0.9078774097756849,
          -0.9078774097756849,
          -0.9078774097756849,
          0.619558080884761,
          0.619558080884761,
          0.619558080884761,
          0.7826893756655412,
          0.7826893756655412,
          0.7826893756655412,
          -0.8115080835198851,
          -0.8115080835198851,
          -1.0116211318554176,
          -1.0116211318554176,
          -2.4902018641316452,
          -2.4902018641316452,
          -0.9726969488970784,
          -0.9726969488970784,
          -2.148464963176918,
          -1.601335023432353,
          -0.16182353269567698,
          -0.7800258155925303,
          -0.7800258155925303,
          1.3391589473935226,
          -0.9899668428381541,
          -0.9899668428381541,
          0.7630882368922774,
          0.7630882368922774,
          0.7630882368922774,
          0.8729717763605233,
          0.8729717763605233,
          0.8729717763605233,
          0.35034648903585375,
          1.593525162558101,
          1.8367511511449401,
          1.8367511511449401,
          1.489302503914395,
          1.489302503914395,
          -0.30420421514290835,
          -0.30420421514290835,
          -0.30420421514290835,
          1.7796248696397736,
          1.7796248696397736,
          1.7796248696397736,
          -0.6076849986496742,
          -0.8211921199469209,
          -0.8211921199469209,
          -0.9084765757060461,
          -0.9084765757060461,
          0.3225674142642638,
          -1.1557467097613916,
          -1.1557467097613916,
          -1.1557467097613916,
          -1.1557467097613916,
          0.15232777239925663,
          0.15232777239925663,
          -0.7299103168881328,
          -0.7299103168881328,
          -0.39597715296007796,
          -0.39597715296007796,
          -0.39597715296007796,
          1.1323203589760265,
          1.1323203589760265,
          1.1527713383834812,
          1.1527713383834812,
          1.1527713383834812,
          1.4106937273998557,
          -1.195638179403204,
          -1.195638179403204,
          0.46312818717419124,
          0.46312818717419124,
          0.46312818717419124,
          0.1339872786310875,
          0.1339872786310875,
          0.1339872786310875,
          0.48612287519029335,
          0.48612287519029335,
          0.48612287519029335,
          -0.5564203335387669,
          -0.511046553362639,
          -1.6837472045984574,
          0.2921913134951056,
          0.2921913134951056,
          0.2921913134951056,
          0.2921913134951056,
          0.2921913134951056,
          0.2921913134951056,
          0.5926755270448274,
          0.5926755270448274,
          2.111203867687393,
          2.111203867687393,
          2.111203867687393,
          2.111203867687393,
          -0.7630975359170131,
          -0.7630975359170131,
          -1.0428802376606956,
          -1.0428802376606956,
          -1.0428802376606956,
          -1.4628176831273747,
          -1.4628176831273747,
          -1.8765026247083247,
          -1.131041497233361,
          -1.5993239182988446,
          -1.5993239182988446,
          2.191817627915002,
          2.191817627915002,
          2.191817627915002,
          2.191817627915002,
          -2.2200637935004837,
          -0.5661404133471467,
          -0.5661404133471467,
          1.0264562804054245,
          1.0264562804054245,
          -0.055227789337802584,
          -0.055227789337802584,
          -0.055227789337802584,
          -0.055227789337802584,
          -0.055227789337802584,
          0.6149573696932288,
          1.6878452649472795,
          1.6878452649472795,
          1.6878452649472795,
          2.4348197811294354,
          2.414895104219426,
          1.9022607356775252,
          1.9022607356775252,
          1.9022607356775252,
          -0.43793193010279846,
          -0.43793193010279846,
          -0.43793193010279846,
          -0.13744771655307703,
          1.5808888677081323,
          1.5808888677081323,
          -0.5340157599655057,
          0.7368802082553974
         ]
        },
        {
         "customdata": [
          [
           "Garbage"
          ],
          [
           "Compost"
          ],
          [
           "Recycle"
          ],
          [
           "Garbage"
          ],
          [
           "Garbage"
          ],
          [
           "Recycle"
          ],
          [
           "Recycle"
          ],
          [
           "Recycle"
          ],
          [
           "Compost"
          ],
          [
           "Garbage"
          ],
          [
           "Recycle"
          ],
          [
           "Compost"
          ],
          [
           "Garbage"
          ],
          [
           "Recycle"
          ],
          [
           "Garbage"
          ],
          [
           "Garbage"
          ],
          [
           "Recycle"
          ],
          [
           "Recycle"
          ],
          [
           "Compost"
          ],
          [
           "Garbage"
          ],
          [
           "Recycle"
          ],
          [
           "Recycle"
          ],
          [
           "Recycle"
          ],
          [
           "Compost"
          ]
         ],
         "hovertemplate": "<b>%{hovertext}</b><br><br>Class=%{marker.color}<br>PC 1=%{x}<br>PC 2=%{y}<br>PC 3=%{z}<br>commodity=%{customdata[0]}<extra></extra>",
         "hovertext": [
          "MOBILEHOME",
          "MOBILEHOME",
          "MOBILEHOME",
          "MOBILEHOME",
          "MOBILEHOME",
          "MOBILEHOME",
          "MOBILEHOME",
          "MOBILEHOME",
          "MOBILEHOME",
          "MOBILEHOME",
          "MOBILEHOME",
          "MOBILEHOME",
          "MOBILEHOME",
          "MOBILEHOME",
          "MOBILEHOME",
          "MOBILEHOME",
          "MOBILEHOME",
          "MOBILEHOME",
          "MOBILEHOME",
          "MOBILEHOME",
          "MOBILEHOME",
          "MOBILEHOME",
          "MOBILEHOME",
          "MOBILEHOME"
         ],
         "legendgroup": "3",
         "marker": {
          "color": [
           3,
           3,
           3,
           3,
           3,
           3,
           3,
           3,
           3,
           3,
           3,
           3,
           3,
           3,
           3,
           3,
           3,
           3,
           3,
           3,
           3,
           3,
           3,
           3
          ],
          "coloraxis": "coloraxis",
          "symbol": "x"
         },
         "mode": "markers",
         "name": "3",
         "scene": "scene",
         "showlegend": true,
         "type": "scatter3d",
         "x": [
          2.2579245722085224,
          1.5425369083136906,
          1.4108187065648095,
          1.6432986279925657,
          1.6432986279925657,
          0.7025141130768077,
          0.7025141130768077,
          0.7025141130768077,
          0.8020366514853285,
          1.7127637130547622,
          0.8978535107514113,
          0.42187856695093084,
          2.6605284100457745,
          1.862637964020626,
          3.7546003918607265,
          2.950769292138615,
          2.0020153376470784,
          2.9356895745176255,
          2.133733539395963,
          2.672158306510548,
          1.8632088236556135,
          1.1570275148684033,
          1.1570275148684033,
          1.9567706426157148
         ],
         "y": [
          3.1603368724655456,
          3.2885851062823157,
          2.582929569290921,
          1.8972110785065006,
          1.8972110785065006,
          1.4124839607218316,
          1.4124839607218316,
          1.4124839607218316,
          2.064937424596455,
          2.9253551332765673,
          2.4011499032187174,
          2.1026163101309545,
          3.147012978266978,
          2.6493214039005126,
          3.1252317997053747,
          1.549549099168619,
          1.051513930271394,
          2.5943740506579216,
          1.7571694672627935,
          3.168839017505199,
          2.644068824945183,
          1.382009856708225,
          1.382009856708225,
          3.297087251321968
         ],
         "z": [
          9.62600196191193,
          10.345445982309094,
          10.624411712475805,
          4.693561293465067,
          4.693561293465067,
          5.938609244972757,
          5.938609244972757,
          5.938609244972757,
          5.44665249355591,
          8.251351455678831,
          9.46275222749285,
          5.16358097122977,
          9.233624529161192,
          10.551216377653809,
          11.08001903971447,
          4.89627449243705,
          6.08804844432648,
          12.2647880605805,
          5.80908271415977,
          10.100555884524924,
          11.30998833340921,
          6.260098106949823,
          6.260098106949823,
          10.819999904922089
         ]
        }
       ],
       "layout": {
        "coloraxis": {
         "colorbar": {
          "title": {
           "text": "Class"
          }
         },
         "colorscale": [
          [
           0,
           "#0d0887"
          ],
          [
           0.1111111111111111,
           "#46039f"
          ],
          [
           0.2222222222222222,
           "#7201a8"
          ],
          [
           0.3333333333333333,
           "#9c179e"
          ],
          [
           0.4444444444444444,
           "#bd3786"
          ],
          [
           0.5555555555555556,
           "#d8576b"
          ],
          [
           0.6666666666666666,
           "#ed7953"
          ],
          [
           0.7777777777777778,
           "#fb9f3a"
          ],
          [
           0.8888888888888888,
           "#fdca26"
          ],
          [
           1,
           "#f0f921"
          ]
         ]
        },
        "legend": {
         "title": {
          "text": "Class"
         },
         "tracegroupgap": 0,
         "x": 0,
         "y": 1
        },
        "margin": {
         "t": 60
        },
        "scene": {
         "domain": {
          "x": [
           0,
           1
          ],
          "y": [
           0,
           1
          ]
         },
         "xaxis": {
          "title": {
           "text": "PC 1"
          }
         },
         "yaxis": {
          "title": {
           "text": "PC 2"
          }
         },
         "zaxis": {
          "title": {
           "text": "PC 3"
          }
         }
        },
        "template": {
         "data": {
          "bar": [
           {
            "error_x": {
             "color": "#2a3f5f"
            },
            "error_y": {
             "color": "#2a3f5f"
            },
            "marker": {
             "line": {
              "color": "#E5ECF6",
              "width": 0.5
             },
             "pattern": {
              "fillmode": "overlay",
              "size": 10,
              "solidity": 0.2
             }
            },
            "type": "bar"
           }
          ],
          "barpolar": [
           {
            "marker": {
             "line": {
              "color": "#E5ECF6",
              "width": 0.5
             },
             "pattern": {
              "fillmode": "overlay",
              "size": 10,
              "solidity": 0.2
             }
            },
            "type": "barpolar"
           }
          ],
          "carpet": [
           {
            "aaxis": {
             "endlinecolor": "#2a3f5f",
             "gridcolor": "white",
             "linecolor": "white",
             "minorgridcolor": "white",
             "startlinecolor": "#2a3f5f"
            },
            "baxis": {
             "endlinecolor": "#2a3f5f",
             "gridcolor": "white",
             "linecolor": "white",
             "minorgridcolor": "white",
             "startlinecolor": "#2a3f5f"
            },
            "type": "carpet"
           }
          ],
          "choropleth": [
           {
            "colorbar": {
             "outlinewidth": 0,
             "ticks": ""
            },
            "type": "choropleth"
           }
          ],
          "contour": [
           {
            "colorbar": {
             "outlinewidth": 0,
             "ticks": ""
            },
            "colorscale": [
             [
              0,
              "#0d0887"
             ],
             [
              0.1111111111111111,
              "#46039f"
             ],
             [
              0.2222222222222222,
              "#7201a8"
             ],
             [
              0.3333333333333333,
              "#9c179e"
             ],
             [
              0.4444444444444444,
              "#bd3786"
             ],
             [
              0.5555555555555556,
              "#d8576b"
             ],
             [
              0.6666666666666666,
              "#ed7953"
             ],
             [
              0.7777777777777778,
              "#fb9f3a"
             ],
             [
              0.8888888888888888,
              "#fdca26"
             ],
             [
              1,
              "#f0f921"
             ]
            ],
            "type": "contour"
           }
          ],
          "contourcarpet": [
           {
            "colorbar": {
             "outlinewidth": 0,
             "ticks": ""
            },
            "type": "contourcarpet"
           }
          ],
          "heatmap": [
           {
            "colorbar": {
             "outlinewidth": 0,
             "ticks": ""
            },
            "colorscale": [
             [
              0,
              "#0d0887"
             ],
             [
              0.1111111111111111,
              "#46039f"
             ],
             [
              0.2222222222222222,
              "#7201a8"
             ],
             [
              0.3333333333333333,
              "#9c179e"
             ],
             [
              0.4444444444444444,
              "#bd3786"
             ],
             [
              0.5555555555555556,
              "#d8576b"
             ],
             [
              0.6666666666666666,
              "#ed7953"
             ],
             [
              0.7777777777777778,
              "#fb9f3a"
             ],
             [
              0.8888888888888888,
              "#fdca26"
             ],
             [
              1,
              "#f0f921"
             ]
            ],
            "type": "heatmap"
           }
          ],
          "heatmapgl": [
           {
            "colorbar": {
             "outlinewidth": 0,
             "ticks": ""
            },
            "colorscale": [
             [
              0,
              "#0d0887"
             ],
             [
              0.1111111111111111,
              "#46039f"
             ],
             [
              0.2222222222222222,
              "#7201a8"
             ],
             [
              0.3333333333333333,
              "#9c179e"
             ],
             [
              0.4444444444444444,
              "#bd3786"
             ],
             [
              0.5555555555555556,
              "#d8576b"
             ],
             [
              0.6666666666666666,
              "#ed7953"
             ],
             [
              0.7777777777777778,
              "#fb9f3a"
             ],
             [
              0.8888888888888888,
              "#fdca26"
             ],
             [
              1,
              "#f0f921"
             ]
            ],
            "type": "heatmapgl"
           }
          ],
          "histogram": [
           {
            "marker": {
             "pattern": {
              "fillmode": "overlay",
              "size": 10,
              "solidity": 0.2
             }
            },
            "type": "histogram"
           }
          ],
          "histogram2d": [
           {
            "colorbar": {
             "outlinewidth": 0,
             "ticks": ""
            },
            "colorscale": [
             [
              0,
              "#0d0887"
             ],
             [
              0.1111111111111111,
              "#46039f"
             ],
             [
              0.2222222222222222,
              "#7201a8"
             ],
             [
              0.3333333333333333,
              "#9c179e"
             ],
             [
              0.4444444444444444,
              "#bd3786"
             ],
             [
              0.5555555555555556,
              "#d8576b"
             ],
             [
              0.6666666666666666,
              "#ed7953"
             ],
             [
              0.7777777777777778,
              "#fb9f3a"
             ],
             [
              0.8888888888888888,
              "#fdca26"
             ],
             [
              1,
              "#f0f921"
             ]
            ],
            "type": "histogram2d"
           }
          ],
          "histogram2dcontour": [
           {
            "colorbar": {
             "outlinewidth": 0,
             "ticks": ""
            },
            "colorscale": [
             [
              0,
              "#0d0887"
             ],
             [
              0.1111111111111111,
              "#46039f"
             ],
             [
              0.2222222222222222,
              "#7201a8"
             ],
             [
              0.3333333333333333,
              "#9c179e"
             ],
             [
              0.4444444444444444,
              "#bd3786"
             ],
             [
              0.5555555555555556,
              "#d8576b"
             ],
             [
              0.6666666666666666,
              "#ed7953"
             ],
             [
              0.7777777777777778,
              "#fb9f3a"
             ],
             [
              0.8888888888888888,
              "#fdca26"
             ],
             [
              1,
              "#f0f921"
             ]
            ],
            "type": "histogram2dcontour"
           }
          ],
          "mesh3d": [
           {
            "colorbar": {
             "outlinewidth": 0,
             "ticks": ""
            },
            "type": "mesh3d"
           }
          ],
          "parcoords": [
           {
            "line": {
             "colorbar": {
              "outlinewidth": 0,
              "ticks": ""
             }
            },
            "type": "parcoords"
           }
          ],
          "pie": [
           {
            "automargin": true,
            "type": "pie"
           }
          ],
          "scatter": [
           {
            "marker": {
             "colorbar": {
              "outlinewidth": 0,
              "ticks": ""
             }
            },
            "type": "scatter"
           }
          ],
          "scatter3d": [
           {
            "line": {
             "colorbar": {
              "outlinewidth": 0,
              "ticks": ""
             }
            },
            "marker": {
             "colorbar": {
              "outlinewidth": 0,
              "ticks": ""
             }
            },
            "type": "scatter3d"
           }
          ],
          "scattercarpet": [
           {
            "marker": {
             "colorbar": {
              "outlinewidth": 0,
              "ticks": ""
             }
            },
            "type": "scattercarpet"
           }
          ],
          "scattergeo": [
           {
            "marker": {
             "colorbar": {
              "outlinewidth": 0,
              "ticks": ""
             }
            },
            "type": "scattergeo"
           }
          ],
          "scattergl": [
           {
            "marker": {
             "colorbar": {
              "outlinewidth": 0,
              "ticks": ""
             }
            },
            "type": "scattergl"
           }
          ],
          "scattermapbox": [
           {
            "marker": {
             "colorbar": {
              "outlinewidth": 0,
              "ticks": ""
             }
            },
            "type": "scattermapbox"
           }
          ],
          "scatterpolar": [
           {
            "marker": {
             "colorbar": {
              "outlinewidth": 0,
              "ticks": ""
             }
            },
            "type": "scatterpolar"
           }
          ],
          "scatterpolargl": [
           {
            "marker": {
             "colorbar": {
              "outlinewidth": 0,
              "ticks": ""
             }
            },
            "type": "scatterpolargl"
           }
          ],
          "scatterternary": [
           {
            "marker": {
             "colorbar": {
              "outlinewidth": 0,
              "ticks": ""
             }
            },
            "type": "scatterternary"
           }
          ],
          "surface": [
           {
            "colorbar": {
             "outlinewidth": 0,
             "ticks": ""
            },
            "colorscale": [
             [
              0,
              "#0d0887"
             ],
             [
              0.1111111111111111,
              "#46039f"
             ],
             [
              0.2222222222222222,
              "#7201a8"
             ],
             [
              0.3333333333333333,
              "#9c179e"
             ],
             [
              0.4444444444444444,
              "#bd3786"
             ],
             [
              0.5555555555555556,
              "#d8576b"
             ],
             [
              0.6666666666666666,
              "#ed7953"
             ],
             [
              0.7777777777777778,
              "#fb9f3a"
             ],
             [
              0.8888888888888888,
              "#fdca26"
             ],
             [
              1,
              "#f0f921"
             ]
            ],
            "type": "surface"
           }
          ],
          "table": [
           {
            "cells": {
             "fill": {
              "color": "#EBF0F8"
             },
             "line": {
              "color": "white"
             }
            },
            "header": {
             "fill": {
              "color": "#C8D4E3"
             },
             "line": {
              "color": "white"
             }
            },
            "type": "table"
           }
          ]
         },
         "layout": {
          "annotationdefaults": {
           "arrowcolor": "#2a3f5f",
           "arrowhead": 0,
           "arrowwidth": 1
          },
          "autotypenumbers": "strict",
          "coloraxis": {
           "colorbar": {
            "outlinewidth": 0,
            "ticks": ""
           }
          },
          "colorscale": {
           "diverging": [
            [
             0,
             "#8e0152"
            ],
            [
             0.1,
             "#c51b7d"
            ],
            [
             0.2,
             "#de77ae"
            ],
            [
             0.3,
             "#f1b6da"
            ],
            [
             0.4,
             "#fde0ef"
            ],
            [
             0.5,
             "#f7f7f7"
            ],
            [
             0.6,
             "#e6f5d0"
            ],
            [
             0.7,
             "#b8e186"
            ],
            [
             0.8,
             "#7fbc41"
            ],
            [
             0.9,
             "#4d9221"
            ],
            [
             1,
             "#276419"
            ]
           ],
           "sequential": [
            [
             0,
             "#0d0887"
            ],
            [
             0.1111111111111111,
             "#46039f"
            ],
            [
             0.2222222222222222,
             "#7201a8"
            ],
            [
             0.3333333333333333,
             "#9c179e"
            ],
            [
             0.4444444444444444,
             "#bd3786"
            ],
            [
             0.5555555555555556,
             "#d8576b"
            ],
            [
             0.6666666666666666,
             "#ed7953"
            ],
            [
             0.7777777777777778,
             "#fb9f3a"
            ],
            [
             0.8888888888888888,
             "#fdca26"
            ],
            [
             1,
             "#f0f921"
            ]
           ],
           "sequentialminus": [
            [
             0,
             "#0d0887"
            ],
            [
             0.1111111111111111,
             "#46039f"
            ],
            [
             0.2222222222222222,
             "#7201a8"
            ],
            [
             0.3333333333333333,
             "#9c179e"
            ],
            [
             0.4444444444444444,
             "#bd3786"
            ],
            [
             0.5555555555555556,
             "#d8576b"
            ],
            [
             0.6666666666666666,
             "#ed7953"
            ],
            [
             0.7777777777777778,
             "#fb9f3a"
            ],
            [
             0.8888888888888888,
             "#fdca26"
            ],
            [
             1,
             "#f0f921"
            ]
           ]
          },
          "colorway": [
           "#636efa",
           "#EF553B",
           "#00cc96",
           "#ab63fa",
           "#FFA15A",
           "#19d3f3",
           "#FF6692",
           "#B6E880",
           "#FF97FF",
           "#FECB52"
          ],
          "font": {
           "color": "#2a3f5f"
          },
          "geo": {
           "bgcolor": "white",
           "lakecolor": "white",
           "landcolor": "#E5ECF6",
           "showlakes": true,
           "showland": true,
           "subunitcolor": "white"
          },
          "hoverlabel": {
           "align": "left"
          },
          "hovermode": "closest",
          "mapbox": {
           "style": "light"
          },
          "paper_bgcolor": "white",
          "plot_bgcolor": "#E5ECF6",
          "polar": {
           "angularaxis": {
            "gridcolor": "white",
            "linecolor": "white",
            "ticks": ""
           },
           "bgcolor": "#E5ECF6",
           "radialaxis": {
            "gridcolor": "white",
            "linecolor": "white",
            "ticks": ""
           }
          },
          "scene": {
           "xaxis": {
            "backgroundcolor": "#E5ECF6",
            "gridcolor": "white",
            "gridwidth": 2,
            "linecolor": "white",
            "showbackground": true,
            "ticks": "",
            "zerolinecolor": "white"
           },
           "yaxis": {
            "backgroundcolor": "#E5ECF6",
            "gridcolor": "white",
            "gridwidth": 2,
            "linecolor": "white",
            "showbackground": true,
            "ticks": "",
            "zerolinecolor": "white"
           },
           "zaxis": {
            "backgroundcolor": "#E5ECF6",
            "gridcolor": "white",
            "gridwidth": 2,
            "linecolor": "white",
            "showbackground": true,
            "ticks": "",
            "zerolinecolor": "white"
           }
          },
          "shapedefaults": {
           "line": {
            "color": "#2a3f5f"
           }
          },
          "ternary": {
           "aaxis": {
            "gridcolor": "white",
            "linecolor": "white",
            "ticks": ""
           },
           "baxis": {
            "gridcolor": "white",
            "linecolor": "white",
            "ticks": ""
           },
           "bgcolor": "#E5ECF6",
           "caxis": {
            "gridcolor": "white",
            "linecolor": "white",
            "ticks": ""
           }
          },
          "title": {
           "x": 0.05
          },
          "xaxis": {
           "automargin": true,
           "gridcolor": "white",
           "linecolor": "white",
           "ticks": "",
           "title": {
            "standoff": 15
           },
           "zerolinecolor": "white",
           "zerolinewidth": 2
          },
          "yaxis": {
           "automargin": true,
           "gridcolor": "white",
           "linecolor": "white",
           "ticks": "",
           "title": {
            "standoff": 15
           },
           "zerolinecolor": "white",
           "zerolinewidth": 2
          }
         }
        },
        "width": 800
       }
      },
      "text/html": [
       "<div>                            <div id=\"f1bd86fc-3fe4-4d9b-8332-33a8108eff00\" class=\"plotly-graph-div\" style=\"height:525px; width:800px;\"></div>            <script type=\"text/javascript\">                require([\"plotly\"], function(Plotly) {                    window.PLOTLYENV=window.PLOTLYENV || {};                                    if (document.getElementById(\"f1bd86fc-3fe4-4d9b-8332-33a8108eff00\")) {                    Plotly.newPlot(                        \"f1bd86fc-3fe4-4d9b-8332-33a8108eff00\",                        [{\"customdata\":[[\"Garbage\"],[\"Recycle\"],[\"Recycle\"],[\"Garbage\"],[\"Recycle\"],[\"Garbage\"],[\"Recycle\"],[\"Garbage\"],[\"Compost\"],[\"Recycle\"],[\"Compost\"],[\"Compost\"],[\"Garbage\"],[\"Compost\"],[\"Garbage\"],[\"Recycle\"],[\"Compost\"],[\"Compost\"],[\"Garbage\"],[\"Recycle\"],[\"Garbage\"],[\"Recycle\"],[\"Garbage\"],[\"Garbage\"],[\"Recycle\"],[\"Recycle\"],[\"Recycle\"],[\"Recycle\"],[\"Compost\"],[\"Compost\"],[\"Garbage\"],[\"Recycle\"],[\"Compost\"],[\"Garbage\"],[\"Recycle\"],[\"Compost\"],[\"Garbage\"],[\"Recycle\"],[\"Recycle\"],[\"Compost\"],[\"Recycle\"],[\"Garbage\"],[\"Recycle\"],[\"Compost\"],[\"Garbage\"],[\"Compost\"],[\"Recycle\"],[\"Garbage\"],[\"Recycle\"],[\"Compost\"],[\"Garbage\"],[\"Recycle\"],[\"Recycle\"],[\"Garbage\"],[\"Recycle\"],[\"Garbage\"],[\"Recycle\"],[\"Garbage\"],[\"Compost\"],[\"Garbage\"],[\"Recycle\"],[\"Garbage\"],[\"Recycle\"],[\"Garbage\"],[\"Recycle\"],[\"Garbage\"],[\"Recycle\"],[\"Garbage\"],[\"Recycle\"],[\"Garbage\"],[\"Compost\"],[\"Garbage\"],[\"Recycle\"],[\"Garbage\"],[\"Recycle\"],[\"Recycle\"],[\"Compost\"],[\"Recycle\"],[\"Compost\"],[\"Compost\"],[\"Compost\"],[\"Recycle\"],[\"Compost\"],[\"Compost\"],[\"Compost\"],[\"Garbage\"],[\"Garbage\"],[\"Recycle\"],[\"Garbage\"],[\"Compost\"],[\"Recycle\"],[\"Compost\"],[\"Compost\"],[\"Garbage\"],[\"Recycle\"],[\"Recycle\"],[\"Compost\"],[\"Garbage\"],[\"Garbage\"],[\"Recycle\"],[\"Recycle\"],[\"Compost\"],[\"Garbage\"],[\"Recycle\"],[\"Garbage\"],[\"Recycle\"],[\"Garbage\"],[\"Garbage\"],[\"Recycle\"],[\"Compost\"],[\"Garbage\"],[\"Compost\"],[\"Compost\"],[\"Compost\"],[\"Compost\"],[\"Recycle\"],[\"Recycle\"],[\"Recycle\"],[\"Garbage\"],[\"Recycle\"],[\"Garbage\"],[\"Recycle\"],[\"Garbage\"],[\"Recycle\"],[\"Recycle\"],[\"Recycle\"],[\"Garbage\"],[\"Garbage\"],[\"Garbage\"],[\"Recycle\"],[\"Compost\"],[\"Garbage\"],[\"Compost\"],[\"Garbage\"],[\"Garbage\"],[\"Garbage\"],[\"Garbage\"],[\"Recycle\"],[\"Compost\"],[\"Compost\"],[\"Garbage\"],[\"Recycle\"],[\"Recycle\"],[\"Garbage\"],[\"Recycle\"],[\"Recycle\"],[\"Recycle\"],[\"Recycle\"],[\"Recycle\"],[\"Recycle\"],[\"Recycle\"],[\"Recycle\"],[\"Compost\"],[\"Garbage\"],[\"Recycle\"],[\"Compost\"],[\"Garbage\"],[\"Garbage\"],[\"Recycle\"],[\"Recycle\"],[\"Compost\"],[\"Garbage\"],[\"Garbage\"],[\"Recycle\"],[\"Recycle\"],[\"Compost\"],[\"Recycle\"],[\"Compost\"],[\"Garbage\"],[\"Recycle\"],[\"Garbage\"],[\"Recycle\"],[\"Recycle\"],[\"Recycle\"],[\"Garbage\"],[\"Recycle\"],[\"Garbage\"],[\"Recycle\"],[\"Compost\"],[\"Recycle\"],[\"Garbage\"],[\"Recycle\"],[\"Garbage\"],[\"Recycle\"],[\"Garbage\"],[\"Garbage\"],[\"Compost\"],[\"Compost\"],[\"Recycle\"],[\"Recycle\"],[\"Recycle\"],[\"Garbage\"],[\"Recycle\"],[\"Compost\"],[\"Garbage\"],[\"Recycle\"],[\"Recycle\"],[\"Recycle\"],[\"Garbage\"],[\"Recycle\"],[\"Recycle\"],[\"Recycle\"],[\"Recycle\"],[\"Recycle\"],[\"Recycle\"],[\"Compost\"],[\"Garbage\"],[\"Garbage\"],[\"Recycle\"],[\"Recycle\"],[\"Compost\"],[\"Garbage\"],[\"Recycle\"],[\"Garbage\"],[\"Recycle\"],[\"Garbage\"],[\"Recycle\"],[\"Recycle\"],[\"Recycle\"],[\"Garbage\"],[\"Recycle\"],[\"Recycle\"],[\"Recycle\"],[\"Garbage\"],[\"Recycle\"],[\"Recycle\"],[\"Recycle\"],[\"Garbage\"],[\"Garbage\"],[\"Recycle\"],[\"Recycle\"],[\"Compost\"],[\"Compost\"],[\"Garbage\"],[\"Recycle\"],[\"Recycle\"],[\"Garbage\"],[\"Garbage\"],[\"Garbage\"],[\"Recycle\"],[\"Recycle\"],[\"Compost\"],[\"Compost\"],[\"Garbage\"],[\"Recycle\"],[\"Garbage\"],[\"Recycle\"],[\"Recycle\"],[\"Compost\"],[\"Garbage\"],[\"Garbage\"],[\"Recycle\"],[\"Compost\"],[\"Garbage\"],[\"Recycle\"],[\"Compost\"],[\"Garbage\"],[\"Recycle\"],[\"Recycle\"],[\"Recycle\"],[\"Recycle\"],[\"Recycle\"],[\"Recycle\"],[\"Compost\"],[\"Compost\"],[\"Compost\"],[\"Recycle\"],[\"Recycle\"],[\"Garbage\"],[\"Garbage\"],[\"Garbage\"],[\"Compost\"],[\"Recycle\"],[\"Recycle\"],[\"Garbage\"],[\"Compost\"],[\"Recycle\"],[\"Garbage\"],[\"Compost\"],[\"Recycle\"],[\"Recycle\"],[\"Recycle\"],[\"Garbage\"],[\"Recycle\"],[\"Compost\"],[\"Garbage\"],[\"Garbage\"],[\"Compost\"],[\"Recycle\"],[\"Recycle\"],[\"Garbage\"],[\"Recycle\"],[\"Garbage\"],[\"Recycle\"],[\"Compost\"],[\"Compost\"],[\"Garbage\"],[\"Recycle\"],[\"Garbage\"],[\"Compost\"],[\"Recycle\"],[\"Garbage\"],[\"Recycle\"],[\"Compost\"],[\"Garbage\"],[\"Compost\"],[\"Compost\"],[\"Compost\"],[\"Garbage\"],[\"Recycle\"],[\"Recycle\"],[\"Compost\"],[\"Compost\"],[\"Garbage\"],[\"Recycle\"],[\"Recycle\"],[\"Garbage\"],[\"Compost\"],[\"Recycle\"],[\"Compost\"],[\"Recycle\"],[\"Garbage\"],[\"Recycle\"],[\"Garbage\"],[\"Recycle\"],[\"Compost\"],[\"Recycle\"],[\"Compost\"],[\"Recycle\"],[\"Garbage\"],[\"Recycle\"],[\"Garbage\"],[\"Recycle\"],[\"Garbage\"],[\"Recycle\"],[\"Compost\"],[\"Garbage\"],[\"Recycle\"],[\"Compost\"],[\"Recycle\"],[\"Recycle\"],[\"Garbage\"],[\"Recycle\"],[\"Compost\"],[\"Recycle\"],[\"Recycle\"],[\"Recycle\"],[\"Recycle\"],[\"Compost\"],[\"Compost\"],[\"Compost\"],[\"Compost\"],[\"Compost\"],[\"Garbage\"],[\"Recycle\"],[\"Garbage\"],[\"Recycle\"],[\"Recycle\"],[\"Compost\"],[\"Recycle\"],[\"Compost\"],[\"Recycle\"],[\"Recycle\"],[\"Compost\"],[\"Compost\"],[\"Compost\"],[\"Compost\"],[\"Recycle\"],[\"Garbage\"],[\"Recycle\"],[\"Recycle\"],[\"Garbage\"],[\"Recycle\"],[\"Recycle\"],[\"Garbage\"],[\"Recycle\"],[\"Recycle\"],[\"Recycle\"],[\"Compost\"],[\"Recycle\"],[\"Garbage\"],[\"Recycle\"],[\"Garbage\"],[\"Recycle\"],[\"Garbage\"],[\"Recycle\"],[\"Garbage\"],[\"Recycle\"],[\"Recycle\"],[\"Compost\"],[\"Compost\"],[\"Recycle\"],[\"Recycle\"],[\"Garbage\"],[\"Compost\"],[\"Garbage\"],[\"Recycle\"],[\"Recycle\"],[\"Garbage\"],[\"Recycle\"],[\"Recycle\"],[\"Recycle\"],[\"Recycle\"],[\"Compost\"],[\"Garbage\"],[\"Compost\"],[\"Garbage\"],[\"Compost\"],[\"Compost\"],[\"Compost\"],[\"Compost\"],[\"Recycle\"],[\"Recycle\"],[\"Recycle\"],[\"Recycle\"],[\"Recycle\"],[\"Compost\"],[\"Garbage\"],[\"Garbage\"],[\"Garbage\"],[\"Garbage\"],[\"Recycle\"],[\"Recycle\"],[\"Recycle\"],[\"Compost\"],[\"Compost\"],[\"Recycle\"],[\"Recycle\"],[\"Recycle\"],[\"Recycle\"],[\"Recycle\"],[\"Compost\"],[\"Compost\"],[\"Compost\"],[\"Garbage\"],[\"Recycle\"],[\"Compost\"],[\"Compost\"],[\"Compost\"],[\"Garbage\"],[\"Recycle\"],[\"Recycle\"],[\"Recycle\"],[\"Recycle\"],[\"Recycle\"],[\"Recycle\"],[\"Recycle\"],[\"Compost\"],[\"Compost\"],[\"Compost\"],[\"Compost\"],[\"Compost\"],[\"Garbage\"],[\"Compost\"],[\"Garbage\"],[\"Recycle\"],[\"Recycle\"],[\"Compost\"],[\"Compost\"],[\"Garbage\"],[\"Recycle\"],[\"Garbage\"],[\"Recycle\"],[\"Garbage\"],[\"Recycle\"],[\"Compost\"],[\"Garbage\"],[\"Garbage\"],[\"Garbage\"],[\"Recycle\"],[\"Garbage\"],[\"Garbage\"],[\"Recycle\"],[\"Recycle\"],[\"Compost\"],[\"Garbage\"],[\"Garbage\"],[\"Compost\"],[\"Garbage\"],[\"Recycle\"],[\"Garbage\"],[\"Garbage\"],[\"Garbage\"],[\"Recycle\"],[\"Compost\"],[\"Recycle\"],[\"Garbage\"],[\"Recycle\"],[\"Recycle\"],[\"Recycle\"],[\"Compost\"],[\"Garbage\"],[\"Garbage\"],[\"Recycle\"],[\"Garbage\"],[\"Compost\"],[\"Recycle\"],[\"Garbage\"],[\"Recycle\"],[\"Compost\"],[\"Garbage\"],[\"Garbage\"],[\"Recycle\"],[\"Recycle\"],[\"Recycle\"],[\"Garbage\"],[\"Recycle\"],[\"Recycle\"],[\"Compost\"],[\"Compost\"],[\"Compost\"],[\"Garbage\"],[\"Recycle\"],[\"Garbage\"],[\"Recycle\"],[\"Recycle\"],[\"Recycle\"],[\"Compost\"],[\"Garbage\"],[\"Recycle\"],[\"Compost\"],[\"Garbage\"],[\"Recycle\"],[\"Garbage\"],[\"Recycle\"],[\"Recycle\"],[\"Compost\"],[\"Compost\"],[\"Compost\"],[\"Recycle\"],[\"Garbage\"],[\"Garbage\"],[\"Recycle\"],[\"Compost\"],[\"Garbage\"],[\"Recycle\"],[\"Garbage\"],[\"Garbage\"],[\"Compost\"],[\"Garbage\"],[\"Recycle\"],[\"Garbage\"],[\"Recycle\"],[\"Garbage\"],[\"Recycle\"],[\"Compost\"],[\"Garbage\"],[\"Compost\"],[\"Garbage\"],[\"Recycle\"],[\"Compost\"],[\"Compost\"],[\"Compost\"],[\"Garbage\"],[\"Recycle\"],[\"Compost\"],[\"Recycle\"],[\"Compost\"],[\"Garbage\"],[\"Compost\"],[\"Garbage\"],[\"Garbage\"],[\"Garbage\"],[\"Recycle\"],[\"Recycle\"],[\"Compost\"],[\"Garbage\"],[\"Garbage\"],[\"Compost\"],[\"Recycle\"],[\"Recycle\"],[\"Recycle\"],[\"Garbage\"],[\"Recycle\"],[\"Recycle\"],[\"Recycle\"],[\"Compost\"],[\"Garbage\"],[\"Garbage\"],[\"Compost\"],[\"Garbage\"],[\"Recycle\"],[\"Garbage\"],[\"Recycle\"],[\"Compost\"],[\"Garbage\"],[\"Garbage\"],[\"Compost\"],[\"Compost\"],[\"Garbage\"],[\"Recycle\"],[\"Garbage\"],[\"Garbage\"],[\"Recycle\"],[\"Garbage\"],[\"Recycle\"],[\"Garbage\"],[\"Garbage\"],[\"Recycle\"],[\"Recycle\"],[\"Compost\"],[\"Garbage\"],[\"Recycle\"],[\"Recycle\"],[\"Recycle\"],[\"Garbage\"],[\"Recycle\"],[\"Recycle\"],[\"Recycle\"],[\"Compost\"],[\"Compost\"],[\"Compost\"],[\"Compost\"],[\"Garbage\"],[\"Garbage\"],[\"Recycle\"],[\"Compost\"],[\"Recycle\"],[\"Compost\"],[\"Compost\"],[\"Compost\"],[\"Recycle\"],[\"Recycle\"],[\"Recycle\"],[\"Compost\"],[\"Garbage\"],[\"Compost\"],[\"Garbage\"],[\"Recycle\"],[\"Compost\"],[\"Garbage\"],[\"Compost\"],[\"Compost\"],[\"Garbage\"],[\"Compost\"],[\"Recycle\"],[\"Garbage\"],[\"Recycle\"],[\"Recycle\"],[\"Recycle\"],[\"Recycle\"],[\"Recycle\"],[\"Recycle\"],[\"Recycle\"],[\"Recycle\"],[\"Recycle\"],[\"Recycle\"],[\"Recycle\"],[\"Recycle\"],[\"Recycle\"],[\"Recycle\"],[\"Recycle\"],[\"Recycle\"],[\"Recycle\"],[\"Recycle\"],[\"Recycle\"],[\"Recycle\"],[\"Recycle\"],[\"Recycle\"],[\"Recycle\"],[\"Recycle\"],[\"Compost\"],[\"Compost\"],[\"Recycle\"],[\"Recycle\"],[\"Recycle\"],[\"Garbage\"],[\"Recycle\"],[\"Garbage\"],[\"Recycle\"],[\"Compost\"],[\"Garbage\"],[\"Recycle\"],[\"Garbage\"],[\"Recycle\"],[\"Compost\"],[\"Garbage\"],[\"Garbage\"],[\"Recycle\"],[\"Recycle\"],[\"Garbage\"],[\"Garbage\"],[\"Garbage\"],[\"Garbage\"],[\"Recycle\"],[\"Recycle\"],[\"Recycle\"],[\"Compost\"],[\"Garbage\"],[\"Garbage\"],[\"Garbage\"],[\"Recycle\"],[\"Compost\"],[\"Garbage\"],[\"Recycle\"],[\"Compost\"],[\"Garbage\"],[\"Recycle\"],[\"Compost\"],[\"Compost\"],[\"Compost\"],[\"Recycle\"],[\"Recycle\"],[\"Garbage\"],[\"Garbage\"],[\"Recycle\"],[\"Recycle\"],[\"Garbage\"],[\"Garbage\"],[\"Recycle\"],[\"Compost\"],[\"Garbage\"],[\"Recycle\"],[\"Compost\"],[\"Garbage\"],[\"Recycle\"],[\"Garbage\"],[\"Garbage\"],[\"Recycle\"],[\"Compost\"],[\"Garbage\"],[\"Recycle\"],[\"Recycle\"],[\"Garbage\"],[\"Compost\"],[\"Garbage\"],[\"Garbage\"],[\"Recycle\"],[\"Compost\"],[\"Compost\"],[\"Garbage\"],[\"Recycle\"],[\"Recycle\"],[\"Recycle\"],[\"Recycle\"],[\"Garbage\"],[\"Recycle\"],[\"Recycle\"],[\"Recycle\"],[\"Garbage\"],[\"Recycle\"],[\"Recycle\"],[\"Compost\"],[\"Compost\"],[\"Compost\"],[\"Garbage\"],[\"Garbage\"],[\"Garbage\"],[\"Garbage\"],[\"Recycle\"],[\"Garbage\"],[\"Garbage\"],[\"Garbage\"],[\"Recycle\"],[\"Recycle\"],[\"Garbage\"],[\"Garbage\"],[\"Garbage\"],[\"Garbage\"],[\"Garbage\"],[\"Garbage\"],[\"Garbage\"],[\"Garbage\"],[\"Garbage\"],[\"Garbage\"],[\"Recycle\"],[\"Compost\"],[\"Garbage\"],[\"Recycle\"],[\"Compost\"],[\"Garbage\"],[\"Recycle\"],[\"Recycle\"],[\"Recycle\"],[\"Compost\"],[\"Garbage\"],[\"Recycle\"],[\"Compost\"],[\"Recycle\"],[\"Garbage\"],[\"Recycle\"],[\"Recycle\"],[\"Compost\"],[\"Garbage\"],[\"Recycle\"],[\"Compost\"],[\"Garbage\"],[\"Garbage\"],[\"Garbage\"],[\"Garbage\"],[\"Recycle\"],[\"Garbage\"],[\"Garbage\"],[\"Recycle\"],[\"Garbage\"],[\"Recycle\"],[\"Compost\"],[\"Compost\"],[\"Garbage\"],[\"Recycle\"],[\"Compost\"],[\"Garbage\"],[\"Compost\"],[\"Recycle\"],[\"Garbage\"],[\"Recycle\"],[\"Recycle\"],[\"Compost\"],[\"Compost\"],[\"Garbage\"],[\"Garbage\"],[\"Compost\"],[\"Garbage\"],[\"Compost\"],[\"Garbage\"],[\"Garbage\"],[\"Recycle\"],[\"Garbage\"],[\"Recycle\"],[\"Garbage\"],[\"Recycle\"],[\"Garbage\"],[\"Recycle\"],[\"Compost\"],[\"Garbage\"],[\"Recycle\"],[\"Compost\"],[\"Compost\"],[\"Garbage\"],[\"Recycle\"],[\"Compost\"],[\"Garbage\"],[\"Compost\"],[\"Garbage\"],[\"Recycle\"],[\"Compost\"],[\"Garbage\"],[\"Recycle\"],[\"Recycle\"],[\"Garbage\"],[\"Recycle\"],[\"Garbage\"],[\"Compost\"],[\"Garbage\"],[\"Recycle\"],[\"Compost\"],[\"Garbage\"],[\"Recycle\"],[\"Recycle\"],[\"Compost\"],[\"Compost\"],[\"Compost\"],[\"Garbage\"]],\"hovertemplate\":\"<b>%{hovertext}</b><br><br>Class=%{marker.color}<br>PC 1=%{x}<br>PC 2=%{y}<br>PC 3=%{z}<br>commodity=%{customdata[0]}<extra></extra>\",\"hovertext\":[\"MINI MART\",\"MINI MART\",\"MINI MART\",\"MEDICAL\",\"MEDICAL\",\"GROCERY\",\"GROCERY\",\"OFFICE BLD\",\"OFFICE BLD\",\"OFFICE BLD\",\"OFFICE BLD\",\"OFFICE BLD\",\"PRESCHOOL\",\"PRESCHOOL\",\"FLORIST\",\"FLORIST\",\"FLORIST\",\"CHURCH\",\"CHURCH\",\"CHURCH\",\"HOME IMPRO\",\"HOME IMPRO\",\"HOME IMPRO\",\"HOME IMPRO\",\"HOME IMPRO\",\"HOME IMPRO\",\"MULTIFAMIL\",\"MULTIFAMIL\",\"MULTIFAMIL\",\"MULTIFAMIL\",\"PRESCHOOL\",\"PRESCHOOL\",\"PRESCHOOL\",\"MEDICAL\",\"MEDICAL\",\"MEDICAL\",\"LODGING-FW\",\"LODGING-FW\",\"LODGING-FW\",\"SCHOOL\",\"SCHOOL\",\"MULTIFAMIL\",\"MULTIFAMIL\",\"MULTIFAMIL\",\"STRIP MALL\",\"STRIP MALL\",\"STRIP MALL\",\"FOURPLEX\",\"FOURPLEX\",\"FOURPLEX\",\"OFFICE BLD\",\"OFFICE BLD\",\"OFFICE BLD\",\"OFFICE BLD\",\"OFFICE BLD\",\"RESTAURANT\",\"RESTAURANT\",\"WINERY\",\"WINERY\",\"STRIP MALL\",\"STRIP MALL\",\"OFFICE BLD\",\"OFFICE BLD\",\"RETAIL\",\"RETAIL\",\"RETAIL\",\"RETAIL\",\"UTILITY\",\"UTILITY\",\"UTILITY\",\"UTILITY\",\"HOME IMPRO\",\"HOME IMPRO\",\"RESTAURANT\",\"RESTAURANT\",\"RESTAURANT\",\"RESTAURANT\",\"RESTAURANT\",\"RESTAURANT\",\"RESTAURANT\",\"RESTAURANT\",\"RESTAURANT\",\"RESTAURANT\",\"RESTAURANT\",\"RESTAURANT\",\"CONTRACTOR\",\"COMMUNITY\",\"COMMUNITY\",\"LODGING\",\"LODGING\",\"GROCERY\",\"GROCERY\",\"GROCERY\",\"MULTIFAMIL\",\"MULTIFAMIL\",\"MULTIFAMIL\",\"MULTIFAMIL\",\"DUPLEX\",\"DUPLEX\",\"DUPLEX\",\"DUPLEX\",\"DUPLEX\",\"RESTAURANT\",\"RESTAURANT\",\"MULTIFAMIL\",\"MULTIFAMIL\",\"MULTIFAMIL\",\"MULTIFAMIL\",\"MULTIFAMIL\",\"MULTIFAMIL\",\"WINERY\",\"RESTAURANT\",\"RESTAURANT\",\"RESTAURANT\",\"RESTAURANT\",\"RESTAURANT\",\"RESTAURANT\",\"RESTAURANT\",\"RETAIL\",\"RETAIL\",\"COMMUNITY\",\"COMMUNITY\",\"RETAIL\",\"RETAIL\",\"RETAIL\",\"RETAIL\",\"POSTOFFICE\",\"MULTIFAMIL\",\"MULTIFAMIL\",\"MULTIFAMIL\",\"MULTIFAMIL\",\"CHURCH\",\"CHURCH\",\"LODGING\",\"LODGING\",\"MEDICAL\",\"MEDICAL\",\"MEDICAL\",\"MEDICAL\",\"MEDICAL\",\"MULTIFAMIL\",\"MULTIFAMIL\",\"MULTIFAMIL\",\"MULTIFAMIL\",\"MULTIFAMIL\",\"MULTIFAMIL\",\"LODGING\",\"LODGING\",\"LODGING\",\"LODGING\",\"LODGING\",\"LODGING\",\"LODGING\",\"CHURCH\",\"CHURCH\",\"CHURCH\",\"STRIP MALL\",\"STRIP MALL\",\"STRIP MALL\",\"STRIP MALL\",\"STRIP MALL\",\"MULTIFAMIL\",\"MULTIFAMIL\",\"MULTIFAMIL\",\"MULTIFAMIL\",\"MULTIFAMIL\",\"LODGING\",\"LODGING\",\"OFFICE BLD\",\"OFFICE BLD\",\"RETAIL\",\"RETAIL\",\"RETAIL\",\"RETAIL\",\"ENTERTAINM\",\"ENTERTAINM\",\"POSTOFFICE\",\"POSTOFFICE\",\"POSTOFFICE\",\"POSTOFFICE\",\"OFFICE BLD\",\"OFFICE BLD\",\"OFFICE BLD\",\"OFFICE BLD\",\"LODGING\",\"LODGING\",\"LODGING\",\"LODGING\",\"LODGING\",\"LODGING\",\"LODGING\",\"MEDICAL\",\"MEDICAL\",\"MEDICAL\",\"MULTIFAMIL\",\"MULTIFAMIL\",\"GROCERY\",\"GROCERY\",\"AUTO\",\"AUTO\",\"AUTO\",\"LODGING-FW\",\"LODGING-FW\",\"LODGING-FW\",\"LODGING-FW\",\"LODGING-FW\",\"AUTO\",\"OFFICE BLD\",\"OFFICE BLD\",\"OFFICE BLD\",\"OFFICE BLD\",\"OFFICE BLD\",\"OFFICE BLD\",\"AUTO\",\"AUTO\",\"HOME IMPRO\",\"HOME IMPRO\",\"HOME IMPRO\",\"HOME IMPRO\",\"RETAIL\",\"RETAIL\",\"RETAIL\",\"RETAIL\",\"POSTOFFICE\",\"POSTOFFICE\",\"POSTOFFICE\",\"PARK\",\"UTILITY\",\"UTILITY\",\"UTILITY\",\"PARK\",\"PARK\",\"PARK\",\"OFFICE BLD\",\"OFFICE BLD\",\"OFFICE BLD\",\"OFFICE BLD\",\"CONTRACTOR\",\"AUTO\",\"AUTO\",\"AUTO\",\"AUTO\",\"AUTO\",\"UTILITY\",\"UTILITY\",\"AUTO\",\"AUTO\",\"AUTO\",\"AUTO\",\"MULTIFAMIL\",\"MULTIFAMIL\",\"MULTIFAMIL\",\"MULTIFAMIL\",\"COMMUNITY\",\"COMMUNITY\",\"COMMUNITY\",\"VINEYARD\",\"VINEYARD\",\"BAKERY\",\"BAKERY\",\"BAKERY\",\"BAKERY\",\"BAKERY\",\"BAKERY\",\"BAKERY\",\"BAKERY\",\"BAKERY\",\"BAKERY\",\"MULTIFAMIL\",\"MULTIFAMIL\",\"MULTIFAMIL\",\"MULTIFAMIL\",\"MULTIFAMIL\",\"MULTIFAMIL\",\"GROCERY\",\"GROCERY\",\"GROCERY\",\"SCHOOL\",\"SCHOOL\",\"SCHOOL\",\"SCHOOL\",\"SCHOOL\",\"OFFICE BLD\",\"OFFICE BLD\",\"OFFICE BLD\",\"MEDICAL\",\"MEDICAL\",\"MEDICAL\",\"MEDICAL\",\"HOA\",\"INDUSTRIAL\",\"INDUSTRIAL\",\"WINERY\",\"NRSG HOME\",\"NRSG HOME\",\"NRSG HOME\",\"MULTIFAMIL\",\"MULTIFAMIL\",\"MULTIFAMIL\",\"MULTIFAMIL\",\"MULTIFAMIL\",\"OFFICE BLD\",\"OFFICE BLD\",\"OFFICE BLD\",\"MULTIFAMIL\",\"LODGING-FW\",\"LODGING-FW\",\"LODGING-FW\",\"CHURCH\",\"CHURCH\",\"CHURCH\",\"CHURCH\",\"CHURCH\",\"COMMUNITY\",\"COMMUNITY\",\"COMMUNITY\",\"CHURCH\",\"CHURCH\",\"CHURCH\",\"CHURCH\",\"OFFICE BLD\",\"CONTRACTOR\",\"CONTRACTOR\",\"CHURCH\",\"CHURCH\",\"CHURCH\",\"LODGING\",\"LODGING\",\"LODGING\",\"OFFICE BLD\",\"OFFICE BLD\",\"STRIP MALL\",\"STRIP MALL\",\"LODGING-FW\",\"LODGING-FW\",\"LODGING-FW\",\"LODGING\",\"LODGING\",\"LODGING\",\"LODGING\",\"LODGING\",\"CHURCH\",\"CHURCH\",\"CHURCH\",\"COMMUNITY\",\"NRSG HOME\",\"NRSG HOME\",\"NRSG HOME\",\"NRSG HOME\",\"NRSG HOME\",\"NRSG HOME\",\"NRSG HOME\",\"CHURCH\",\"MINI MART\",\"MINI MART\",\"AUTO\",\"AUTO\",\"CONTRACTOR\",\"CONTRACTOR\",\"CONTRACTOR\",\"CONTRACTOR\",\"GROCERY\",\"MULTIFAMIL\",\"MULTIFAMIL\",\"MULTIFAMIL\",\"MULTIFAMIL\",\"MULTIFAMIL\",\"MULTIFAMIL\",\"MEMBER\",\"MEMBER\",\"MEMBER\",\"HOME IMPRO\",\"HOME IMPRO\",\"HOME IMPRO\",\"MEDICAL\",\"MEDICAL\",\"MEDICAL\",\"MEDICAL\",\"MEDICAL\",\"MEDICAL\",\"OFFICE BLD\",\"OFFICE BLD\",\"LODGING\",\"LODGING\",\"ENTERTAINM\",\"ENTERTAINM\",\"OFFICE BLD\",\"OFFICE BLD\",\"OFFICE BLD\",\"OFFICE BLD\",\"OFFICE BLD\",\"OFFICE BLD\",\"OFFICE BLD\",\"HOME IMPRO\",\"HOME IMPRO\",\"UTILITY\",\"UTILITY\",\"UTILITY\",\"MULTIFAMIL\",\"MULTIFAMIL\",\"MULTIFAMIL\",\"MULTIFAMIL\",\"MULTIFAMIL\",\"MULTIFAMIL\",\"MEDICAL\",\"MEDICAL\",\"MULTIFAMIL\",\"MULTIFAMIL\",\"MULTIFAMIL\",\"MULTIFAMIL\",\"MULTIFAMIL\",\"MULTIFAMIL\",\"MULTIFAMIL\",\"MULTIFAMIL\",\"MULTIFAMIL\",\"MULTIFAMIL\",\"MULTIFAMIL\",\"RETAIL\",\"MULTIFAMIL\",\"MULTIFAMIL\",\"MULTIFAMIL\",\"MULTIFAMIL\",\"MULTIFAMIL\",\"MULTIFAMIL\",\"MULTIFAMIL\",\"SCHOOL\",\"SCHOOL\",\"SCHOOL\",\"SCHOOL\",\"SCHOOL\",\"SCHOOL\",\"SCHOOL\",\"SCHOOL\",\"SCHOOL\",\"COMMUNITY\",\"COMMUNITY\",\"COMMUNITY\",\"COMMUNITY\",\"WINERY\",\"BAR NO FW\",\"LODGING-FW\",\"LODGING-FW\",\"LODGING-FW\",\"LODGING-FW\",\"LODGING-FW\",\"LODGING-FW\",\"LODGING-FW\",\"LODGING-FW\",\"LODGING-FW\",\"LODGING-FW\",\"LODGING-FW\",\"WINERY\",\"WINERY\",\"WINERY\",\"MULTIFAMIL\",\"MULTIFAMIL\",\"MULTIFAMIL\",\"MULTIFAMIL\",\"MULTIFAMIL\",\"RETAIL\",\"RETAIL\",\"COMMUNITY\",\"COMMUNITY\",\"MULTIFAMIL\",\"MULTIFAMIL\",\"MULTIFAMIL\",\"WINERY\",\"MEMBER\",\"HOA\",\"HOA\",\"LANDSCAPER\",\"FOURPLEX\",\"FOURPLEX\",\"FOURPLEX\",\"FOURPLEX\",\"OFFICE BLD\",\"OFFICE BLD\",\"OFFICE BLD\",\"OFFICE BLD\",\"OFFICE BLD\",\"OFFICE BLD\",\"RETAIL\",\"RETAIL\",\"RETAIL\",\"CHURCH\",\"CHURCH\",\"CHURCH\",\"MULTIFAMIL\",\"MULTIFAMIL\",\"MULTIFAMIL\",\"MULTIFAMIL\",\"MULTIFAMIL\",\"OFFICE BLD\",\"OFFICE BLD\",\"CHURCH\",\"CHURCH\",\"CHURCH\",\"MULTIFAMIL\",\"MULTIFAMIL\",\"MULTIFAMIL\",\"WINERY\",\"RETAIL\",\"RETAIL\",\"RESTAURANT\",\"RESTAURANT\",\"RESTAURANT\",\"RESTAURANT\",\"RESTAURANT\",\"RESTAURANT\",\"RESTAURANT\",\"RESTAURANT\",\"RETAIL\",\"RETAIL\",\"MULTIFAMIL\",\"MULTIFAMIL\",\"MULTIFAMIL\",\"MULTIFAMIL\",\"MULTIFAMIL\",\"UTILITY\",\"UTILITY\",\"UTILITY\",\"DELI/CAFE\",\"DELI/CAFE\",\"CATERING\",\"CATERING\",\"CATERING\",\"CATERING\",\"CATERING\",\"CATERING\",\"CATERING\",\"CHURCH\",\"MULTIFAMIL\",\"MULTIFAMIL\",\"WINERY\",\"RETAIL\",\"RETAIL\",\"WINERY\",\"WINERY\",\"WINERY\",\"MEMBER\",\"MEMBER\",\"OFFICE BLD\",\"OFFICE BLD\",\"OFFICE BLD\",\"OFFICE BLD\",\"OFFICE BLD\",\"COMMUNITY\",\"COMMUNITY\",\"MULTIFAMIL\",\"MULTIFAMIL\",\"MULTIFAMIL\",\"MULTIFAMIL\",\"MULTIFAMIL\",\"OFFICE BLD\",\"OFFICE BLD\",\"OFFICE BLD\",\"OFFICE BLD\",\"OFFICE BLD\",\"OFFICE BLD\",\"OFFICE BLD\",\"MULTIFAMIL\",\"MULTIFAMIL\",\"VINEYARD\",\"VINEYARD\",\"VINEYARD\",\"LODGING\",\"LODGING\",\"LODGING\",\"LODGING\",\"LODGING\",\"RESTAURANT\",\"RESTAURANT\",\"OFFICE BLD\",\"OFFICE BLD\",\"OFFICE BLD\",\"OFFICE BLD\",\"OFFICE BLD\",\"WINERY\",\"WINERY\",\"WINERY\",\"RETAIL\",\"RETAIL\",\"LODGING\",\"LODGING\",\"LODGING\",\"WINERY\",\"WINERY\",\"WINERY\",\"WINERY\",\"OFFICE BLD\",\"OFFICE BLD\",\"SCHOOL\",\"SCHOOL\",\"SCHOOL\",\"MULTIFAMIL\",\"MULTIFAMIL\",\"CHURCH\",\"MEDICAL\",\"MEDICAL\",\"MULTIFAMIL\",\"MULTIFAMIL\",\"MULTIFAMIL\",\"MULTIFAMIL\",\"MULTIFAMIL\",\"POSTOFFICE\",\"POSTOFFICE\",\"POSTOFFICE\",\"POSTOFFICE\",\"MULTIFAMIL\",\"WINERY\",\"WINERY\",\"WINERY\",\"WINERY\",\"WINERY\",\"CHURCH\",\"CHURCH\",\"CHURCH\",\"RESTAURANT\",\"RESTAURANT\",\"RESTAURANT\",\"RESTAURANT\",\"RESTAURANT\",\"RESTAURANT\",\"RESTAURANT\",\"LODGING-FW\",\"WINERY\",\"WINERY\",\"LODGING\",\"LODGING\",\"LODGING\",\"WINERY\",\"WINERY\",\"MULTIFAMIL\",\"LODGING-FW\",\"LODGING-FW\",\"LODGING-FW\",\"OFFICE BLD\",\"OFFICE BLD\",\"MEMBER\",\"MEMBER\",\"MEMBER\",\"MEMBER\",\"MEMBER\",\"MEMBER\",\"MEMBER\",\"MEMBER\",\"MEMBER\",\"MEMBER\",\"MEMBER\",\"MEMBER\",\"MEMBER\",\"MEMBER\",\"MEMBER\",\"MEMBER\",\"MEMBER\",\"MEMBER\",\"MEMBER\",\"MEMBER\",\"MEMBER\",\"SCHOOL\",\"SCHOOL\",\"SCHOOL\",\"SCHOOL\",\"VINEYARD\",\"VINEYARD\",\"VINEYARD\",\"VINEYARD\",\"VINEYARD\",\"MIXED USE\",\"MIXED USE\",\"MIXED USE\",\"RESTAURANT\",\"RESTAURANT\",\"LODGING\",\"LODGING\",\"LODGING\",\"RESTAURANT\",\"RESTAURANT\",\"RESTAURANT\",\"RESTAURANT\",\"LODGING\",\"LODGING\",\"LODGING\",\"LODGING\",\"LODGING\",\"LODGING\",\"LODGING\",\"LODGING\",\"MULTIFAMIL\",\"MINI MART\",\"MULTIFAMIL\",\"MULTIFAMIL\",\"MULTIFAMIL\",\"MULTIFAMIL\",\"MULTIFAMIL\",\"MULTIFAMIL\",\"DELI/CAFE\",\"DELI/CAFE\",\"DELI/CAFE\",\"DELI/CAFE\",\"DELI/CAFE\",\"DELI/CAFE\",\"DELI/CAFE\",\"COMMUNITY\",\"COMMUNITY\",\"COMMUNITY\",\"COMMUNITY\",\"MULTIFAMIL\",\"MULTIFAMIL\",\"MULTIFAMIL\",\"MULTIFAMIL\",\"HOME IMPRO\",\"HOME IMPRO\",\"WINERY\",\"AUTO\",\"AUTO\",\"WINERY\",\"UTILITY\",\"UTILITY\",\"UTILITY\",\"WINERY\",\"RESTAURANT\",\"RESTAURANT\",\"RESTAURANT\",\"RESTAURANT\",\"MULTIFAMIL\",\"MULTIFAMIL\",\"MULTIFAMIL\",\"MULTIFAMIL\",\"MULTIFAMIL\",\"BAR NO FW\",\"BAR NO FW\",\"BAR NO FW\",\"BAR NO FW\",\"BAR NO FW\",\"BAKERY\",\"BAKERY\",\"BAKERY\",\"BAKERY\",\"RESTAURANT\",\"RESTAURANT\",\"RESTAURANT\",\"RESTAURANT\",\"RESTAURANT\",\"RESTAURANT\",\"MULTIFAMIL\",\"MULTIFAMIL\",\"MULTIFAMIL\",\"MULTIFAMIL\",\"MULTIFAMIL\",\"RESTAURANT\",\"RESTAURANT\",\"RESTAURANT\",\"RESTAURANT\",\"RESTAURANT\",\"MULTIFAMIL\",\"MULTIFAMIL\",\"MULTIFAMIL\",\"MULTIFAMIL\",\"MULTIFAMIL\",\"MULTIFAMIL\",\"MULTIFAMIL\",\"MULTIFAMIL\",\"MULTIFAMIL\",\"MULTIFAMIL\",\"MULTIFAMIL\",\"MULTIFAMIL\",\"RETAIL\",\"RETAIL\",\"RETAIL\",\"RESTAURANT\",\"RESTAURANT\",\"RESTAURANT\",\"RESTAURANT\",\"RESTAURANT\",\"LODGING\",\"LODGING\",\"LODGING\",\"LODGING-FW\",\"LODGING-FW\",\"LODGING-FW\",\"LODGING-FW\",\"LODGING-FW\",\"UTILITY\",\"UTILITY\",\"UTILITY\",\"MULTIFAMIL\",\"MULTIFAMIL\",\"MULTIFAMIL\",\"MULTIFAMIL\",\"MULTIFAMIL\",\"LODGING-FW\",\"LODGING-FW\",\"LODGING-FW\",\"RESTAURANT\",\"RESTAURANT\",\"RESTAURANT\",\"RESTAURANT\",\"POLICEFIRE\",\"POLICEFIRE\",\"POLICEFIRE\",\"MULTIFAMIL\",\"MULTIFAMIL\",\"MULTIFAMIL\",\"DELI/CAFE\",\"DELI/CAFE\",\"DELI/CAFE\",\"RESTAURANT\",\"RESTAURANT\",\"RESTAURANT\",\"RETAIL\",\"RETAIL\",\"WINERY\",\"WINERY\",\"PRESCHOOL\",\"PRESCHOOL\",\"PRESCHOOL\",\"RETAIL\",\"RETAIL\",\"ENTERTAINM\",\"ENTERTAINM\",\"BAKERY\",\"BAKERY\",\"BAKERY\",\"MULTIFAMIL\",\"MULTIFAMIL\",\"MULTIFAMIL\",\"MULTIFAMIL\",\"GROCERY\",\"GROCERY\",\"GROCERY\",\"LODGING\",\"LODGING\",\"FOURPLEX\",\"FOURPLEX\",\"FOURPLEX\",\"OFFICE BLD\",\"OFFICE BLD\",\"OFFICE BLD\",\"COMMUNITY\",\"COMMUNITY\",\"WINERY\",\"WINERY\",\"MULTIFAMIL\",\"MULTIFAMIL\",\"MULTIFAMIL\",\"MULTIFAMIL\",\"MULTIFAMIL\",\"MULTIFAMIL\",\"MULTIFAMIL\",\"MULTIFAMIL\",\"LODGING-FW\",\"WINERY\"],\"legendgroup\":\"0\",\"marker\":{\"color\":[0,0,0,0,0,0,0,0,0,0,0,0,0,0,0,0,0,0,0,0,0,0,0,0,0,0,0,0,0,0,0,0,0,0,0,0,0,0,0,0,0,0,0,0,0,0,0,0,0,0,0,0,0,0,0,0,0,0,0,0,0,0,0,0,0,0,0,0,0,0,0,0,0,0,0,0,0,0,0,0,0,0,0,0,0,0,0,0,0,0,0,0,0,0,0,0,0,0,0,0,0,0,0,0,0,0,0,0,0,0,0,0,0,0,0,0,0,0,0,0,0,0,0,0,0,0,0,0,0,0,0,0,0,0,0,0,0,0,0,0,0,0,0,0,0,0,0,0,0,0,0,0,0,0,0,0,0,0,0,0,0,0,0,0,0,0,0,0,0,0,0,0,0,0,0,0,0,0,0,0,0,0,0,0,0,0,0,0,0,0,0,0,0,0,0,0,0,0,0,0,0,0,0,0,0,0,0,0,0,0,0,0,0,0,0,0,0,0,0,0,0,0,0,0,0,0,0,0,0,0,0,0,0,0,0,0,0,0,0,0,0,0,0,0,0,0,0,0,0,0,0,0,0,0,0,0,0,0,0,0,0,0,0,0,0,0,0,0,0,0,0,0,0,0,0,0,0,0,0,0,0,0,0,0,0,0,0,0,0,0,0,0,0,0,0,0,0,0,0,0,0,0,0,0,0,0,0,0,0,0,0,0,0,0,0,0,0,0,0,0,0,0,0,0,0,0,0,0,0,0,0,0,0,0,0,0,0,0,0,0,0,0,0,0,0,0,0,0,0,0,0,0,0,0,0,0,0,0,0,0,0,0,0,0,0,0,0,0,0,0,0,0,0,0,0,0,0,0,0,0,0,0,0,0,0,0,0,0,0,0,0,0,0,0,0,0,0,0,0,0,0,0,0,0,0,0,0,0,0,0,0,0,0,0,0,0,0,0,0,0,0,0,0,0,0,0,0,0,0,0,0,0,0,0,0,0,0,0,0,0,0,0,0,0,0,0,0,0,0,0,0,0,0,0,0,0,0,0,0,0,0,0,0,0,0,0,0,0,0,0,0,0,0,0,0,0,0,0,0,0,0,0,0,0,0,0,0,0,0,0,0,0,0,0,0,0,0,0,0,0,0,0,0,0,0,0,0,0,0,0,0,0,0,0,0,0,0,0,0,0,0,0,0,0,0,0,0,0,0,0,0,0,0,0,0,0,0,0,0,0,0,0,0,0,0,0,0,0,0,0,0,0,0,0,0,0,0,0,0,0,0,0,0,0,0,0,0,0,0,0,0,0,0,0,0,0,0,0,0,0,0,0,0,0,0,0,0,0,0,0,0,0,0,0,0,0,0,0,0,0,0,0,0,0,0,0,0,0,0,0,0,0,0,0,0,0,0,0,0,0,0,0,0,0,0,0,0,0,0,0,0,0,0,0,0,0,0,0,0,0,0,0,0,0,0,0,0,0,0,0,0,0,0,0,0,0,0,0,0,0,0,0,0,0,0,0,0,0,0,0,0,0,0,0,0,0,0,0,0,0,0,0,0,0,0,0,0,0,0,0,0,0,0,0,0,0,0,0,0,0,0,0,0,0,0,0,0,0,0,0,0,0,0,0,0,0,0,0,0,0,0,0,0,0,0,0,0,0,0,0,0,0,0,0,0,0,0,0,0,0,0,0,0,0,0,0,0,0,0,0,0,0,0,0,0,0,0,0,0,0,0,0,0,0,0,0,0,0,0,0,0,0,0,0,0,0,0,0,0,0,0,0,0,0,0,0,0,0,0,0,0,0,0,0,0,0,0,0,0,0,0,0,0,0,0,0,0,0,0,0,0,0,0,0,0,0,0,0,0,0,0,0,0,0,0,0,0,0,0,0,0,0,0,0,0,0,0,0,0,0,0,0,0,0,0,0,0,0,0,0,0,0,0],\"coloraxis\":\"coloraxis\",\"symbol\":\"circle\"},\"mode\":\"markers\",\"name\":\"0\",\"scene\":\"scene\",\"showlegend\":true,\"type\":\"scatter3d\",\"x\":[1.2606851042710712,0.39219614933380786,0.3921961493338127,-0.6649609758278558,-1.6029876645454777,0.6582908165346972,-0.21772064048474524,-0.5717361114358427,-1.4142647196624905,-1.5137872580710106,-1.4142647196624905,-1.4142647196624905,-0.8389722049415369,-1.563165838368166,-0.03681833719393645,-1.5210904715007627,-1.425592391009789,-1.5367202371152875,-0.6982160868061851,-1.6362427755238071,-0.5138228387575747,-1.451849527475197,-0.5138228387575747,-0.5138228387575747,-1.451849527475197,-1.451849527475197,-1.413225984018759,-1.4092015261012127,-1.3137034456102388,-1.2589363553181774,-0.1092868767117538,-0.9870786019397899,-0.8875560635312709,-0.6359422286358137,-1.5739689173534352,-1.4744463789449154,-0.34639256143830555,-1.289235511470249,-1.289235511470249,-1.7388230321067302,-1.8383455705152503,0.015638350207807038,-0.9250666884486374,-0.8255441500401182,0.2618416991486869,-1.1910011264951044,-1.282474749068533,-0.9708301202832388,-1.7864238184166765,-1.6869012800081566,-0.5820072263029559,-1.520033915020577,-1.4616903930594658,-0.6007548586278845,-1.5387815473455062,0.4404552557248535,-0.5015958909103135,0.32712575770332314,-0.550146818455131,-0.4409945230536257,-1.2549828007489559,-0.7414569804416431,-1.5554452581369735,-0.8011394933353226,-1.6771509503547646,-0.7307936831541134,-1.6688203718717352,-0.45343269448103646,-1.3294441515004785,-0.45343269448103646,-1.2299216130919586,-0.6341572274877766,-1.5101686845072184,0.9927242994862711,-0.5515921487309491,-0.55964106456604,-0.4601185261575204,-0.55964106456604,0.6659518155635509,0.6659518155635509,0.6659518155635509,0.2939477999497739,1.109366235639774,1.109366235639774,1.109366235639774,0.09134155920057173,-0.7948624195840792,-1.6088506972794099,-0.2984049996489952,-1.1660769371256883,0.041548080799635186,0.6800240652371091,0.6800240652371091,-0.6844180238682989,-1.4984063015636289,-1.4601850691902452,-1.4109571369077456,-0.9434192021078526,-0.9434192021078526,-1.7574074798031838,-1.7574074798031838,-1.657884941394663,0.41143650853281144,-0.5225657222672645,-0.7082744764651515,-1.6490589913809082,-0.7082744764651515,-0.7082744764651515,-1.6490589913809082,-1.5495364529723883,0.3077371152008224,1.0061459868783946,1.02501449284481,1.02501449284481,1.02501449284481,0.49366191716134067,0.49366191716134067,0.49366191716134067,-0.8714958049678716,-1.6854840826632027,-0.6541602977703209,-1.592186986487942,-0.05213933155896274,-0.992844370215407,-0.9325059941455587,-0.9325059941455587,-0.8948320468550832,1.277783217754283,1.277783217754283,-1.122875024612143,-1.0354258599562598,-0.6547768643955337,-1.526473259789773,1.4429632940167363,1.4429632940167363,-0.7538974750330599,-0.7538974750330599,-1.6967404250650033,-1.5972178866564843,-1.5424507963644232,0.07539712291732323,-0.873356831574212,-0.8693323736566666,-0.07388724439713001,-1.6173353721546089,-1.6173353721546089,-0.9485168185241581,-0.9485168185241581,-0.9485168185241581,-0.8881148614468598,-0.8881148614468598,-0.8881148614468598,-0.8489942801156382,-0.02845963386127849,-0.9731891304352676,-0.8656176761916573,1.308504078479371,1.308504078479371,-0.8572391171106116,-0.819017884737227,-0.7778388682898195,-0.6225841605561625,-0.6225841605561625,-1.5633686754719196,-1.5633686754719196,-1.4638461370634002,-0.7854047315264157,-0.6939311089529872,-0.6954173671949926,-1.6673327328833518,-0.16865958276555906,-1.7210249468178709,-1.7210249468178709,-1.7210249468178709,-0.8532688956022585,-1.7292803526217007,-0.8277499823896733,-1.770592932421617,-1.6710703940130975,-1.7061665174267724,-0.7886163785683138,-1.6678307288380387,-0.7886163785683138,-1.6678307288380387,1.2486584125512024,1.2486584125512024,-1.0809148269517306,-1.0261477366596694,-1.1804373653602502,-1.1804373653602502,-1.1804373653602502,-0.8705153981994385,-1.7497297484691643,-1.6502072100606449,-0.8905120867730414,-1.7094467469939403,0.3945469561705678,0.3945469561705678,0.8852354821897284,-1.3006300029879814,0.004084810409446374,-0.6564212836920451,-0.6564212836920451,-0.6564212836920451,-0.5940533038133878,-0.5488498294484344,-0.5275957586218568,-0.8659054752182104,-1.6855236312691941,-1.6855236312691941,-1.5860010928606738,-0.5717361114358427,-1.5137872580710106,0.09464057397426859,-1.3896315603325582,0.849019823505017,-1.3287967458376015,0.09581118270015009,0.09581118270015009,-0.1085573505579883,-1.600878400699905,-1.600878400699905,-1.600878400699905,-0.7147436787079052,-1.6527703674255272,-1.5944268454644153,0.654817219422937,1.1218689861308013,1.1218689861308013,-1.183889614187232,-0.6174204556383034,-0.5460691226526014,-0.5821591985631306,-0.6007548586278845,-1.5387815473455062,-1.5387815473455062,-0.6007548586278845,0.09134155920057173,0.13079252645917408,-0.05681371028531597,-1.3575040657651982,-1.2620059852742238,-1.2091065870759998,0.9939269551553861,-1.1919385300223233,0.8852354821897284,-0.4470411384721666,-1.2925810871528893,-1.2011074645794613,-0.134199454208793,1.069370305158294,-1.0963728904316883,-0.9767280624354409,-0.6541602977703209,-1.592186986487942,-1.492664448079423,-0.5278719958333365,-1.4658986845509583,-1.027445239866735,-1.027445239866735,-1.027445239866735,-0.9691017179056235,-0.9691017179056235,0.20217209818040197,0.20217209818040197,0.20217209818040197,0.4052116045061067,0.4052116045061067,-0.661257104980617,-0.661257104980617,-0.661257104980617,-1.4377460235915394,-1.5372685620000586,-1.5372685620000586,1.3508729593120319,-0.041925552421365864,-0.13339917499479498,-0.1481548517683934,-1.540953363501791,-1.64047590191031,-1.64047590191031,-1.64047590191031,-0.6007548586278845,-1.5387815473455062,-1.4392590089369868,0.07089774475909162,0.07089774475909162,-1.4284822583134686,-1.5239803388044426,1.0623580983614924,1.0143863543650933,-1.1634302149775255,0.2707077387042976,-0.25209268720048916,-0.1606190646270597,-0.10771966642883622,0.8975642546165071,-0.09558716756008097,0.01076674325705321,-1.3820317684763443,-1.4775298489673192,0.7929226916187958,-1.3889183356413681,-1.2934202551503935,-0.6404157114123713,0.4352171929899086,0.4352171929899086,0.4352171929899086,-0.07597975421005974,-1.5602518885168855,-1.5642763464344314,-1.4687782659434574,-1.5008438839364415,-0.03192396517419546,-1.5242450153161122,-1.5242450153161122,-0.058981492290058835,-1.4517800040234572,-1.5513025424319766,-1.3988806058252334,-0.8476653152555723,0.09134155920057173,-1.3969550330237994,-0.05833902021603651,-0.9990440588724804,-0.8995215204639609,-0.2172030690717704,-0.15779506449132513,0.6323613375264995,0.03912220796226414,-0.9015828306941798,0.7172002098970951,-0.23155374459444017,-0.34639256143830555,-1.289235511470249,-1.1897129730617297,-0.23397787028320316,-1.1808452782326921,-1.0933961135768084,0.6828152254340354,0.6828152254340354,-0.05833902021603651,-0.9990440588724804,-0.8995215204639609,-0.7584389467633681,0.2771923248357422,0.2771923248357422,0.2771923248357422,0.3767148632442623,0.3767148632442623,0.3767148632442623,0.4314263201548047,-1.47196951791828,0.45720734145103864,-1.0270647928557874,0.09464057397426859,-1.3896315603325582,-1.382337307311157,-1.2908636847377293,-1.3280182432675918,-1.2299153707044148,1.0045255357059042,-0.4432496313114753,-0.3477515508205013,-0.32121129933277676,-0.32121129933277676,-0.32121129933277676,0.3781435698639755,-0.30162018543338426,-1.2396468741510056,-1.1813033521898937,0.07757860585446275,0.017914400085386972,0.017914400085386972,-0.08341780233353065,-1.635783166385842,-1.635783166385842,-1.635783166385842,-1.5362606279773228,-1.5753812093085426,0.03425060101151068,-1.4500215332953152,0.31878339697828084,-1.169513195246091,-0.9236252072348078,-1.7376134849301388,0.05722736821317048,-1.4270447660936558,-1.3767501599676348,-1.3355711435202275,-1.2826717453220033,-1.2179955377644824,-0.36440667324866816,-0.6419630679589376,-1.4378918795976332,1.0130806457202908,-0.31919597494160395,-1.1727848394574185,-0.8399069661811271,-1.674939458072208,-1.674939458072208,-1.674939458072208,-1.674939458072208,-1.5754169196636885,-0.7980377933962349,-1.6413582050196593,-0.852558246329106,-1.584043741894121,-1.584043741894121,-1.584043741894121,-1.584043741894121,-1.6835662803026405,-1.6835662803026405,-1.6835662803026405,-1.6835662803026405,-1.6835662803026405,-1.584043741894121,-0.8714958049678716,-0.884567339674636,-0.884567339674636,-0.884567339674636,-1.7001610378080732,-1.7001610378080732,-1.7001610378080732,-1.6006384993995546,-1.3660061077073595,-0.6119397816000652,-1.6959168977067793,-1.6959168977067793,-1.6959168977067793,-1.6335489178281222,-1.588345443463169,-1.0413430815991245,-1.0413430815991245,-0.6541602977703209,-1.592186986487942,-1.492664448079423,-1.5287545239899523,-0.8367493062947843,0.6837214812429673,1.1143988743189885,1.1143988743189885,-0.7613350031003755,-0.7089819618581678,-0.7009330460230766,-0.7089819618581678,-0.6888596722704404,-0.6658369226094013,0.464257877029216,0.464257877029216,0.464257877029216,0.1683180464244729,0.40562122739266904,-0.9871772843407284,0.7783081125024816,-1.5064814726411666,-1.5064814726411666,-1.4069589342326467,-1.3521918439405853,-0.1085573505579883,-1.5968539427823596,-0.7948624195840792,-1.6088506972794099,-0.7155206925938019,-1.5415823440417689,-1.4460842635507942,0.2707077387042976,1.2365574449146366,0.8492869024334648,0.03440054300790652,0.1866564474776773,0.0178385789024468,-0.9596192412563218,-0.9596192412563218,-0.8600967028478024,0.14695563219164237,-0.4724695237390299,-1.3401414612157225,-0.7414569804416431,-1.5554452581369735,-0.5957069226590352,-0.15354954348559466,-0.15354954348559466,-1.6604872395632972,-1.5077014899232457,-1.607224028331765,-0.6691973396141431,-1.430824394909793,-1.430824394909793,-1.430824394909793,-1.3313018565012729,0.7607097016114474,-0.6007548586278845,-1.5387815473455062,-0.6691973396141431,-1.5117259478407912,-1.6112484862493106,-0.7649408381961003,-1.5789291158914316,-1.4794065774829113,-0.3515285938918276,-0.7307936831541134,-1.6688203718717352,-0.47034728321002384,-0.4120037612489124,0.4676794055075979,-0.4120037612489124,-0.4120037612489124,0.7552455969195678,0.7552455969195678,0.7552455969195678,-0.8011394933353226,-1.6771509503547646,-0.6404157114123713,-1.5932736000807644,-1.5972980579983098,-1.5972980579983098,-1.4977755195897906,-0.5328274126596739,-1.475670362691617,-1.376147824283098,-0.5386513224460223,-1.476678011163644,1.3780391638619207,-0.807826321315788,-0.807826321315788,0.42581547464889424,0.42581547464889424,0.42581547464889424,-0.807826321315788,-0.6539944752139611,0.9722981622417595,-0.05611687619166749,-0.8780236477848808,-1.0088152088775617,-1.8244089070110006,0.14529402578443054,-0.26586089148502384,-1.1083894997116717,-0.3617455391576336,-1.3045884891895767,-0.8787763843513329,-1.6943700824847707,-0.03241026622035092,-0.910201991448387,-0.8106794530398677,-0.7323119484226905,-1.5282407600613863,-0.5507009375858374,-1.5035588262542305,-1.4201341195158923,-1.4201341195158923,-1.4201341195158923,-0.6228754625731293,-1.5171714476639697,-1.4216733671729957,-1.462852383620404,-1.4577634430835251,-0.762095594450134,-1.4862892278767625,-0.5848239518892369,-0.5848239518892369,-0.6276657664167872,-1.4531065730790107,-1.372891184555172,-0.9791200702203529,1.2351649075242521,1.2351649075242521,-0.9262206720221293,-1.070593692793782,0.47388039710402613,0.5563706665704106,0.09888098067178043,-0.8498729738197546,-0.8498729738197546,-0.8498729738197546,-0.750350435411235,-0.4052106932815697,-0.4052106932815697,-1.1776751539749464,-0.7307936831541134,-1.6688203718717352,0.3364241309723044,-0.6042809076841393,-0.5047583692756208,-0.4052106932815697,-0.4052106932815697,-1.1816996118924918,-1.1816996118924918,-0.6007548586278845,-1.5387815473455062,-0.05521859132206725,-0.05521859132206725,-1.5274173518762573,0.1949146683363555,-0.7457903703200889,-0.8595568226284342,-0.7674714280065489,-1.7143388359560374,-1.6144699800460984,-1.5149474416375792,-0.06210461599378769,-1.6144699800460984,-1.6144699800460984,-0.9890757121594155,-0.04434621558542598,-0.9287373360895671,-0.9890757121594155,-0.8351446432058837,-0.9471435172346687,0.18697574032149425,0.18697574032149425,0.18697574032149425,-0.6295501196152758,-0.831292904374565,-1.7741358544065078,-1.6746133159979881,-0.15944787363888607,1.0621205485731597,1.0621205485731597,1.0621205485731597,0.6860920750418376,1.2651600548988653,1.2651600548988653,-1.0644858384199563,-0.5570830162634115,-1.3367748281246172,-0.3753970224068518,-1.3182399724387952,-1.2267663498653663,-0.4346299729647508,-1.277950384588175,-1.3259025500208768,-0.34639256143830555,-1.1897129730617297,-1.289235511470249,-0.7414569804416431,-1.5554452581369735,-0.4633883036308806,-0.46741276154842587,-0.46741276154842587,-0.46741276154842587,-0.46741276154842587,-0.46741276154842587,-0.46741276154842587,-0.4633883036308806,-0.4633883036308806,-0.46741276154842587,-0.46741276154842587,-0.4633883036308806,-0.46741276154842587,-0.46741276154842587,-0.46741276154842587,-0.46741276154842587,-0.46741276154842587,-0.46741276154842587,-0.46741276154842587,-0.46741276154842587,-0.46741276154842587,-1.8728528594369829,-1.8728528594369829,-1.2182790433293276,-1.2182790433293276,-1.217168858875106,-1.217168858875106,-1.217168858875106,-0.2791421701574843,-1.217168858875106,-0.4298733412042579,-1.3679000299218793,-1.26837749151336,1.1110723478324769,0.17036730917603246,1.1004399162634517,-1.077376653079167,-0.9859030305057379,0.4364307978073079,0.4364307978073079,-0.5015958909103135,-0.5015958909103135,-0.3569040307698024,-0.3569040307698024,-0.3569040307698024,-0.3569040307698024,-1.2997469808017459,-1.2997469808017459,-1.2997469808017459,-1.1961999844756803,-0.7391366961022902,1.2415314137061706,-0.5371824748062168,-1.479233621441384,-1.3877599988679556,-0.5371824748062168,-1.4752091635238385,-1.3877599988679556,0.10086368782474696,-1.4434527603924727,-0.2178598802628821,-0.2178598802628821,-0.2178598802628821,-1.3830508033151745,-0.59791281171175,-0.6291660084958246,-0.6291660084958246,-1.5671926972134458,-1.5671926972134458,-0.570225679915804,-0.5742501378333495,-1.5042279107158805,-1.4127542881424517,-0.6341572274877766,-1.5101686845072184,-1.018124540642797,-0.5275957586218568,-1.4656224473394788,-0.42637819214289674,-0.6777721208147426,-1.4933658189481804,-1.3938432805396612,-0.332780961566899,-0.6379413515953705,-0.6379413515953705,0.3089260563541186,-0.5745088890973796,-0.5992444271078459,-0.5992444271078459,-1.5332466579079223,-1.4377485774169483,-1.4377485774169483,-0.06895170934858103,-1.6213170734008913,-1.6213170734008913,-1.6213170734008913,-1.560915116323594,0.11443427500856049,-1.4379310890437507,-1.4379310890437507,-1.4379310890437507,0.3171778371759724,-0.6256651128559709,-0.5612386978611269,0.5959033093560744,0.5959033093560744,0.5959033093560744,1.07269522883425,1.2006372598096646,1.2006372598096646,0.3313537714480799,-1.1919720667216718,0.33144350590871335,0.33144350590871335,0.33144350590871335,-0.6113994441232301,-0.6113994441232301,-0.518438366701456,-0.518438366701456,-0.518438366701456,-0.518438366701456,-0.518438366701456,-0.518438366701456,-0.518438366701456,-0.518438366701456,-0.518438366701456,-0.518438366701456,-1.4451834850632184,-1.3577343204073349,-1.0088152088775617,-1.8244089070110006,-1.72488636860248,0.3283351294598883,-0.6185322784896001,-0.6185322784896001,-0.5581303214123019,-0.55509981599161,1.1031074692334126,-1.1899894142416023,-1.0985157916681736,-1.209609789053827,-0.2546934652692474,-1.209609789053827,-1.209609789053827,-1.1100872506453077,-0.39975059509129424,-1.3377772838089161,-1.2382547454003967,1.1181530553346934,1.1181530553346934,1.1181530553346934,1.1181530553346934,-1.2908204329890314,-0.23620047363219773,-0.23217601571465207,-1.1750189657465953,0.2783596909644321,-0.664483259067511,-0.017958358794947324,-0.017958358794947324,0.15201221949066163,-0.7886928191657828,-0.6931947386748092,-0.6703206360212155,-1.523655986281089,-1.6191540667720634,0.04263646850743685,-1.501679979709783,-0.20501408214744704,0.03914991406687933,0.03914991406687933,0.3394924217438045,-0.8780519727295871,-1.6129033725299866,0.2883484726983216,-0.5528340275496038,-0.7841663792155261,-0.7841663792155261,-1.72700932924747,-1.0088152088775617,-1.8244089070110006,-0.9884775077926333,-1.867691858062359,-0.7257213511034423,-1.5413150492368803,-1.4417925108283602,-0.885564956029985,-1.7004751583333384,-1.6009526199248187,-1.5461855296327582,0.5955598091475273,-0.3472831408844168,-0.28385067838642586,-0.2984049996489952,-1.1660769371256883,-0.8093165163049472,-1.6233047940002778,-1.5358556293443943,-0.5820072263029559,-1.520033915020577,-1.4616903930594658,0.22846186878372485,0.5461411962349931,-0.4651963383544371,-1.3085167499778607,-0.7301304852389048,-1.674939458072208,-1.5754169196636885,-0.5594740749453709,-1.5015252215805381,-1.4431816996194264,-1.4020026831720185,-1.3491032849737952,-1.0759397453777693,-0.42187440407303667],\"y\":[1.2570166298275058,0.9520891608928427,0.952089160892848,1.305022319938443,0.8200338128361062,1.5254794031536132,1.0208392207816857,1.5332659360122476,1.6940806336449359,1.0416271697703137,1.6940806336449359,1.6940806336449359,-0.3596283385206483,-0.23054546676734688,1.4422830962594886,1.1539828750681276,1.7997860798031526,1.61193526707081,1.444470310298525,0.9594818031961881,1.357533497437268,0.8725449903349308,1.357533497437268,1.357533497437268,0.8725449903349308,0.8725449903349308,1.4504074296047054,1.4570576887443023,2.1028608934793276,2.0976700180094348,1.1878347116433736,0.6833632647387596,1.3358167286133815,1.3101030041794968,0.8251144970771596,1.4775679609517813,1.5213710437444763,1.0368390263438885,1.0368390263438885,1.4919432209861907,0.839489757111569,1.611316196504094,1.1265815458860633,1.779035009760685,1.5316887108907964,1.8882324909000072,1.2490795453045789,1.9276149682786141,1.4034745205876766,2.0559279844622984,1.5270079503172036,1.0420194432148666,1.0364895902436746,1.5281852517711947,1.0431967446688577,1.4476412027382597,0.9560024364963255,-0.16714554018754987,0.01776773809588138,1.5626793040719906,1.0383866931471366,1.5685357923172232,1.0442431813923685,1.5675920978268756,1.062951915454949,1.5474172843822522,1.0624287772799152,1.227024416638916,0.7223842342669886,1.227024416638916,1.3748376981416108,1.3808474606789796,0.8762072783070523,1.4507176650304188,1.1681084994442013,1.1548079811650072,1.8072614450396283,1.1548079811650072,2.0946407496046207,2.0946407496046207,2.0946407496046207,0.7708801255528701,0.192447970078135,0.192447970078135,0.192447970078135,0.7059505181859433,1.5190935825782523,0.9948009716533979,-0.13258408084553455,0.037645425770678434,1.0183638033533309,1.8131287633144735,1.8131287633144735,1.8194035977978205,1.2951109868729662,1.2563298382037895,1.9276136733287978,1.6824831412912358,1.6824831412912358,1.1581905303663815,1.1581905303663815,1.8106439942410042,1.442560518497207,0.9642222705344671,1.94994423309552,1.4652171153108517,1.94994423309552,1.94994423309552,1.4652171153108517,2.1176705791854733,-0.16592798499906034,1.1800426749996251,1.9597679189449118,1.9597679189449118,1.9597679189449118,0.7954925768554265,0.7954925768554265,0.7954925768554265,1.58776782492828,1.0634752140034263,1.4787430420322247,0.9937545349298876,1.406703616626402,0.9219689660083717,0.9162500389197885,0.9162500389197885,-0.3936357920650457,1.8339476009182003,1.8339476009182003,1.4528831146744765,2.085385801130307,-0.25908647191375056,-0.095507224437135,1.6759688863877908,1.6759688863877908,1.5056137164024066,1.5056137164024066,1.021081699001819,1.673535162876441,1.668344287406548,1.6213694732847985,1.123334304387573,1.1299845635271704,1.7599798241554483,1.4632249563867983,1.4632249563867983,1.267239484967011,1.267239484967011,1.267239484967011,1.2615145316117382,1.2615145316117382,1.2615145316117382,1.9196929488416334,1.311218391310006,0.8198334815523781,1.485587463706194,1.0783663521317715,1.0783663521317715,1.047924369516092,1.0091432208469142,1.6671265376927278,1.9583690779236533,1.9583690779236533,1.4736419601389843,1.4736419601389843,2.1260954240136063,1.270802448460285,1.909955394055714,1.728206386342155,1.246429879385461,1.5567772317470863,1.2608675478816747,1.2608675478816747,1.2608675478816747,1.6607108598306686,1.1560706774587408,1.472753373538744,0.9882213561381568,1.6406748200127785,0.9891466619224811,1.7507977613945132,1.2464611522070828,1.7507977613945132,1.2464611522070828,1.6812677318298568,1.6812677318298568,1.9342569424312401,1.929066066961348,1.2818034785566186,1.2818034785566186,1.2818034785566186,1.528745896783292,1.0244092875958613,1.6768627514704832,1.9998647949702368,1.469009305772788,1.1775509060531606,1.1775509060531606,1.0837586873465819,1.0200654090329162,0.42120674058527596,0.8019395135730174,0.8019395135730174,0.8019395135730174,0.8030599197414228,1.467693495726834,1.515415002872286,1.7783629262591472,1.247572219428613,1.247572219428613,1.9000256833032343,1.5332659360122476,1.0416271697703137,1.3277606601305754,1.0394604389392148,0.9290163317086522,0.8786235716741804,0.6131624879821267,0.6131624879821267,1.359762941640542,1.058162202169987,1.058162202169987,1.058162202169987,1.270650457363043,0.7856619502607064,0.7801320972895144,0.11254446457603562,1.1241406282585018,1.1241406282585018,0.7270497651892491,0.5819296822644616,1.1878313321619038,1.205025797188744,1.5281852517711947,1.0431967446688577,1.0431967446688577,1.5281852517711947,0.7059505181859433,1.325490413654251,0.42503100573605596,1.0305399333232932,1.6763431380583178,1.6713292841724365,0.7774425252237206,0.713749246910055,1.0837586873465819,0.6361375534207792,1.03336592731211,1.6725188729075384,1.7947544197305934,1.3003063404063533,1.2698643577906734,1.9555691173632812,1.4787430420322247,0.9937545349298876,1.6462079988045104,0.5468117389152286,0.06182323181289178,1.115651959758175,1.115651959758175,1.115651959758175,1.1101221067869835,1.1101221067869835,2.062134987337387,2.062134987337387,2.062134987337387,0.8634913943453159,0.8634913943453159,1.7676766938805673,1.7676766938805673,1.7676766938805673,1.9154899753832617,1.2630365115086397,1.2630365115086397,1.3176502469672793,1.6685029713713464,1.029350025775919,0.9335043454691595,1.2843570698732272,0.6319036059986054,0.6319036059986054,0.6319036059986054,1.5281852517711947,1.0431967446688577,1.6956502085434797,1.4313587605701004,1.4313587605701004,1.467778552015096,0.8219753472800712,0.383485761692068,0.15624418442115573,0.10585142438668403,-0.21408621517341028,1.0772757377641637,1.7164286833595914,1.7114148294737104,1.311095303492555,0.831331569610241,1.5611385439201737,1.9119912683242408,1.2661880635892162,1.0977317370771125,1.0406887179030442,1.6864919226380692,1.9732948206865342,0.036482269344673364,0.036482269344673364,0.036482269344673364,1.2568159675568147,0.9685157463654541,0.9618654872258571,1.6076686919608822,1.631513416127319,1.2910886992905144,0.9894879598199591,0.9894879598199591,1.2557485219121116,1.606601246316179,0.954147782441557,1.6015873924302981,0.9997964831950656,0.7059505181859433,0.4110000378549856,1.3061917529196536,0.8214571023016228,1.4739105661762446,0.9350471325653371,1.5980448023272023,0.5444690178136036,1.3899066943923235,0.9051720437742927,1.3741429229403133,0.8761077540430884,1.5213710437444763,1.0368390263438885,1.6892924902185102,1.8075262929128435,1.3163440163726579,1.948846702828489,0.8160013424263101,0.8160013424263101,1.3061917529196536,0.8214571023016228,1.4739105661762446,0.8571930280234737,0.9322217617530353,0.9322217617530353,0.9322217617530353,1.5846752256276573,1.5846752256276573,1.5846752256276573,1.5794896231411184,-0.0989299144835974,1.310354227128982,1.0220540059376213,1.3277606601305754,1.0394604389392148,0.41698506794797385,1.0561380135434018,0.40480495583718507,1.0644246779367148,0.8598810640473245,1.1515485911610217,1.7973517958960472,1.7456143794323276,1.7456143794323276,1.7456143794323276,0.7144186624321083,1.445283097112695,0.9602945900103583,0.9547647370391666,1.1718155036610245,0.6180541987776095,0.6180541987776095,1.3131634291272343,1.0172537452618222,1.0172537452618222,1.0172537452618222,1.6697072091364438,1.0115287919065494,1.3397290418084034,1.0514288206170426,1.3878104723258098,1.092859991994852,1.6808865869320728,1.1565939760072188,1.3382861619307904,1.0499859407394296,1.0311555694890437,1.6891388863348578,1.6841250324489767,1.0230522363408592,0.6391243807287225,-0.32608311933482126,-0.17642730679173216,0.7762397243920988,0.3286185904662967,0.7125464460784339,2.024298865550376,1.466842339794539,1.466842339794539,1.466842339794539,1.466842339794539,2.1192958036691603,1.5083856110122396,1.6763070574862737,2.0181903479053416,2.119837545163723,2.119837545163723,2.119837545163723,2.119837545163723,1.467384081289101,1.467384081289101,1.467384081289101,1.467384081289101,1.467384081289101,2.119837545163723,1.58776782492828,1.9925666356205556,1.9925666356205556,1.9925666356205556,1.468426187929618,1.468426187929618,1.468426187929618,2.12087965180424,1.2733708474506396,0.23698952796388104,0.635385153099095,0.635385153099095,0.635385153099095,0.6365055592675006,1.3011391352529103,1.4567511496186258,1.4567511496186258,1.4787430420322247,0.9937545349298876,1.6462079988045104,1.6634024638313503,0.11884782393493505,1.2460081634065943,0.5371023505377617,0.5371023505377617,1.0174942470653188,0.9984687754308519,1.011769293710046,0.9984687754308519,1.0317200711288372,1.6632974518003427,1.9573270155049332,1.9573270155049332,1.9573270155049332,-0.28424852878552714,-0.2225584234844645,0.12829430091960278,1.5105807869214385,1.4562636262937048,1.4562636262937048,2.108717090168327,2.103526214698434,1.359762941640542,1.0648124613095842,1.5190935825782523,0.9948009716533979,1.8144537782872483,1.2702103899436028,1.916013594678628,-0.21408621517341028,1.1002688044153104,1.20456068128775,0.6803531913798894,0.5765633752304108,1.5397625183370243,1.05147962935795,1.05147962935795,1.7039330932325722,-0.37716354963806364,-0.18760262506595776,-0.017373118449745043,1.5685357923172232,1.0442431813923685,-0.17986364414185999,1.6933977775338065,1.6933977775338065,1.061905478731438,1.6170159513118634,0.9645624874372409,1.4495509945395781,1.4515125630087995,1.4515125630087995,1.4515125630087995,2.103966026883421,1.5116859203255324,1.5281852517711947,1.0431967446688577,1.4495509945395781,1.6103656921722667,0.9579122282976439,1.7899452944289933,1.2656526835041393,1.9181061473787606,-0.026431872431699973,1.5474172843822522,1.0624287772799152,0.954040107032896,0.9485102540617042,1.439028614135233,0.9485102540617042,0.9485102540617042,1.8938728754725103,1.8938728754725103,1.8938728754725103,1.5675920978268756,1.062951915454949,1.9732948206865342,1.4686169254830748,1.461966666343477,1.461966666343477,2.1144201302180985,1.4112593309915993,0.926727313591012,1.579180777465634,1.7062191780770988,1.2212306709747618,1.1193651305185162,1.05567185220485,1.05567185220485,2.0088051389236585,2.0088051389236585,2.0088051389236585,1.05567185220485,1.4406229015961076,1.497669192154118,1.0212477764346124,0.13636784705353425,1.7915002333413723,1.2673597856504353,-0.12415523014572578,-0.024908591930250974,0.13590610570243714,1.6647741834420566,1.1802421660414693,1.7722682007303154,1.2481277530393777,1.4101847510531365,0.9057133041485225,1.558166768023145,-0.20801272453695294,-0.05835691199386393,1.9883699246542645,1.4836920294508043,2.1095444567670376,2.1095444567670376,2.1095444567670376,1.544618129179142,1.0487426722715818,1.6945458770066069,1.0365625601607933,1.7117403420334474,-0.1372782991108853,-0.008195427357583695,0.03938771253109266,0.03938771253109266,0.5842270508681733,0.0610199212308126,0.053417032518343434,1.7327040402896914,1.490641957763516,1.490641957763516,1.7276901864038101,1.0935510946942635,0.9085510885047544,0.9429227903711458,1.3999599711730273,0.9019248022758026,0.9019248022758026,0.9019248022758026,1.5543782661504248,-0.007303495710587108,-0.007303495710587108,0.1471600449317045,1.5474172843822522,1.0624287772799152,1.4371862576886492,0.9524516070706185,1.6049050709452404,-0.007303495710587108,-0.007303495710587108,0.14050978579210757,0.14050978579210757,1.5281852517711947,1.0431967446688577,0.9276681954606875,0.9276681954606875,0.6593187516881185,1.6414760268462067,1.1567413762281762,-0.22099324058355524,1.5133691089460977,1.0221868324059131,1.463045017382387,2.115498481257009,1.758954701247799,1.463045017382387,1.463045017382387,0.6459733748823983,1.1373582846400256,0.6402544477938152,0.6459733748823983,1.253459918555241,0.12578028680806946,0.42646010965225617,0.42646010965225617,0.42646010965225617,0.21765107652741997,1.6478336013723218,1.1633015839717336,1.8157550478463558,0.9483224196828224,1.8815049289828387,1.8815049289828387,1.8815049289828387,0.5510940457914912,0.6828613359907681,0.6828613359907681,-0.22053091152347185,0.19729170441314853,0.34540855910033974,1.7887951020090325,1.3042630846084446,1.943416030203873,0.18069607839991111,0.3486175248739452,0.22349858271836612,1.5213710437444763,1.6892924902185102,1.0368390263438885,1.5685357923172232,1.0442431813923685,1.1136110626226157,1.1069608034830183,1.1069608034830183,1.1069608034830183,1.1069608034830183,1.1069608034830183,1.1069608034830183,1.1136110626226157,1.1136110626226157,1.1069608034830183,1.1069608034830183,1.1136110626226157,1.1069608034830183,1.1069608034830183,1.1069608034830183,1.1069608034830183,1.1069608034830183,1.1069608034830183,1.1069608034830183,1.1069608034830183,1.1069608034830183,0.8416567230898181,0.8416567230898181,1.6630227196093486,1.6630227196093486,0.046203660213453644,0.046203660213453644,0.046203660213453644,0.5311921673157903,0.046203660213453644,0.8451401905364528,0.36015168343411635,1.0126051473087383,1.3143352378990398,0.829600587281009,1.1443698065965726,1.0939770465621015,1.733129992157529,1.4409909435986625,1.4409909435986625,0.9560024364963255,0.9560024364963255,1.7738278225240989,1.7738278225240989,1.7738278225240989,1.7738278225240989,1.2892958051235115,1.2892958051235115,1.2892958051235115,1.9483995281377309,0.10192367460741454,1.2582194306591212,1.7648368066061244,1.27319804036419,1.9123509859596182,1.7648368066061244,1.2798482995037874,1.9123509859596182,1.710719810082181,1.4281106444959635,2.367943412935577,2.367943412935577,2.367943412935577,1.4223856911406907,1.0308822706046326,1.477173467133681,1.477173467133681,0.992184960031343,0.992184960031343,1.7531058632254741,1.7464556040858772,1.2747676152627339,1.9139205608581622,1.3808474606789796,0.8762072783070523,0.13023770631661483,1.515415002872286,1.0304264957699487,0.17327490411396645,1.4519789888769226,0.9278385411859861,1.5802920050606075,-0.027609173885691222,1.1597250309646763,1.1597250309646763,1.650907307504861,1.8293729598661381,1.748025178984421,1.748025178984421,1.2696869310216805,1.9154901357567058,1.9154901357567058,1.5863553401704422,1.2904456563050302,1.2904456563050302,1.2904456563050302,1.2847207029497574,1.6324995254613275,1.3365898415959152,1.3365898415959152,1.3365898415959152,1.6434861332189168,1.158954115818329,1.1598794216026533,2.0921366251183455,2.0921366251183455,2.0921366251183455,1.4920940588863028,1.8387921619210834,1.8387921619210834,1.7345317660272197,1.4710281939565542,1.6425902871595244,1.6425902871595244,1.6425902871595244,1.1580582697589368,1.1580582697589368,1.9379571941051092,1.9379571941051092,1.9379571941051092,1.9379571941051092,1.9379571941051092,1.9379571941051092,1.9379571941051092,1.9379571941051092,1.9379571941051092,1.9379571941051092,1.4800262132629098,2.1125288997187406,1.7915002333413723,1.2673597856504353,1.9198132495250573,1.6496884693288176,1.1585061927886329,1.1585061927886329,1.15278123943336,1.8281541216900947,1.3356756758559498,1.2962092906133507,1.9353622362087788,1.0318387427266715,1.53632153754605,1.0318387427266715,1.0318387427266715,1.6842922066012933,1.2078960399178036,0.7229075328154662,1.3753609966900877,1.843448566063639,1.843448566063639,1.843448566063639,1.843448566063639,1.477235608488387,1.521354258061117,1.5280045172007135,1.0434724998001261,1.6459238095710025,1.1613917921704155,1.969457270410752,1.969457270410752,0.5574159056500883,0.07268125503205751,0.7184844597670819,1.9682697860306244,2.1160453547017863,1.4702421499667615,1.714376324610311,1.4317671590240932,0.8196079722972592,1.9727740071388706,1.9727740071388706,1.6558908054387187,-0.11927148024239288,0.010821544464779882,-0.16471042981057088,0.0030083834460200585,1.5075317422294887,1.5075317422294887,1.0229997248289013,1.7915002333413723,1.2673597856504353,1.8642596232308934,1.3599230140434622,1.8672225270556133,1.3430820793646763,1.9955355432392983,1.992651143921109,1.4684459138632564,2.120899377737878,2.1157085022679856,1.7086678807827862,1.2241358633821977,1.8937837922836602,-0.13258408084553455,0.037645425770678434,1.7361691972303814,1.2118765863055267,1.8443792727613584,1.5270079503172036,1.0420194432148666,1.0364895902436746,1.345929691096759,0.4178051898963836,0.175712580466053,0.3436340269400874,1.958219716718804,1.466842339794539,2.1192958036691603,1.7524306910253236,1.2607919247833894,1.2552620718121976,1.9132453886580116,1.908231534772131,-0.21981163662616213,-0.006257058987076367],\"z\":[-0.7062101837897582,0.7085255577260394,0.7085255577260406,-1.5610447042953652,-0.31690743019649364,-1.6210271827158633,-0.3934090645173678,-2.2371245142573155,-1.511567869231562,-1.0196111178147114,-1.511567869231562,-1.511567869231562,-0.8601488615085434,-0.13779697203652705,-2.817508741334702,-1.3746998589322135,-1.8932804880053298,-1.3901412229328272,-2.1423217456148502,-0.8981844715159774,-2.3769345683601335,-1.1327972942612627,-2.3769345683601335,-2.3769345683601335,-1.1327972942612627,-1.1327972942612627,1.2046292966268886,1.2312531742831558,0.7126725452100391,0.694587594131683,-0.6806342304412273,0.5475717602056142,0.05561500878876436,-1.5127672724633876,-0.26862999836451623,-0.7605867497813646,-0.05299121737307515,1.192736461653017,1.192736461653017,0.2216027786393654,0.7135595300562151,-0.6401258871631635,0.604895820038799,0.11293906862194977,-0.6871576501936612,0.23027429845825279,0.7754788051876366,-0.3343089959973927,0.8773174768458942,0.385360725429045,-2.26916012109656,-1.0250228469976876,-1.0442887918338803,-2.2854019460892934,-1.041264671990421,-1.3794337874533962,-0.16192039101079167,-0.5839586083082936,0.17706461084815742,-1.8944670708776772,-0.6833707330101306,-2.2667974501355324,-1.0557011122679845,-2.0793276900771716,-0.851709571878676,-2.0886297320794003,-0.844492457980529,-2.155075572660958,-0.9274574544624613,-2.155075572660958,-1.4194142058793113,-2.4109396347093264,-1.1833215165108295,-0.18520369313315563,1.2774327622481427,1.2241850069356077,0.7322282555187583,1.2241850069356077,0.7714975944524982,0.7714975944524982,0.7714975944524982,1.0294199834688729,0.6174449885647322,0.6174449885647322,0.6174449885647322,-2.400395018174904,-2.3381535441017736,-1.1270572062342272,-0.680205551187553,0.08160663169727972,-0.12251952681343582,-0.6307982935621469,-0.6307982935621469,-1.400967777807405,-0.18987143993985722,-0.3422567730573874,-0.7616998243255084,-2.507388038236257,-2.507388038236257,-1.2962917003687118,-1.2962917003687118,-1.7882484517855604,-1.4277112192853738,-0.1569500675302344,-0.2447302376289341,1.0003177138787585,-0.2447302376289341,-0.2447302376289341,1.0003177138787585,0.5083609624619089,-0.6007557660994443,-0.7293914762112985,-0.07617633776009546,-0.07617633776009546,-0.07617633776009546,1.114058147718053,1.114058147718053,1.114058147718053,-2.0700252361256393,-0.8589288982580914,-2.356758040055536,-1.112620765956663,-1.09014224713429,0.15487946006767278,0.1349547831576629,0.1349547831576629,-0.8308019133476948,-0.05422187875647926,-0.05422187875647926,1.5255839510278202,0.9537555666421684,-1.3108095009102991,-0.5756211956817352,-0.0357741390721338,-0.0357741390721338,-0.2074646243736394,-0.2074646243736394,1.038263054652453,0.5463063032356028,0.5282213521572466,-0.5420798111241776,0.6496941407652506,0.6763180184215176,-0.378642932768679,1.027801156197209,1.027801156197209,1.4790143897212404,1.4790143897212404,1.4790143897212404,1.4590687173666466,1.4590687173666466,1.4590687173666466,0.9870576383043913,-1.1284055382325484,0.08999229131314777,-0.34871670479116684,-1.9253119907982694,-1.9253119907982694,-0.22310280194843451,-0.3754881350659653,-0.8481789416466207,-0.12421862678866485,-0.12421862678866485,1.1208293247190275,1.1208293247190275,0.6288725733021784,1.6665995827001463,1.1213950759707616,-0.971569302969338,0.2837585430926895,-0.8627158154416223,0.5466728846271414,0.5466728846271414,0.5466728846271414,-2.1933823438889073,-0.9657642256904102,-0.27655977495883133,0.9691679040672614,0.47721115265041136,0.9758461093689346,-0.9453486544740897,0.2833271092453139,-0.9453486544740897,0.2833271092453139,-0.22724557108865537,-0.22724557108865537,0.7861355768597438,0.768050625781388,1.2780923282765932,1.2780923282765932,1.2780923282765932,-0.23631948290896615,0.9923562808104374,0.500399529393587,-0.2367755123561124,0.9480013818016316,1.5734151419214542,1.5734151419214542,-2.7551715656056364,-1.186081765037137,-1.4803250806455985,0.3045765229784751,0.3045765229784751,0.3045765229784751,0.3119344557985487,-0.13413247312583942,-2.573158603974666,-0.9170035561705119,0.2679990390165083,0.2679990390165083,-0.2239577124003408,-2.2371245142573155,-1.0196111178147114,-2.6597216052961263,-1.216912722893637,-2.6022546383425254,-0.9799170824614918,-1.2255862622876947,-1.2255862622876947,-2.17519273340086,-0.7856316063109064,-0.7856316063109064,-0.7856316063109064,-1.6092872189240768,-0.36514994482520513,-0.38441588966139895,-0.974411973887736,-2.275598734991366,-2.275598734991366,-0.7550830702051264,-0.5745956893749028,-1.2529195843856245,-1.244961321014286,-2.2854019460892934,-1.041264671990421,-1.041264671990421,-2.2854019460892934,-2.400395018174904,-2.6284017204579366,-1.533083908976444,-1.2122167157117152,-1.7307973447848326,-1.7482655546785397,-2.3774206260861597,-0.8083308255176609,-2.7551715656056364,-1.3808467885038722,-1.132834009724602,-1.6780385164539873,-0.9259677968742936,-1.543782977562862,0.15842621128697318,-0.20041115184853908,-2.356758040055536,-1.112620765956663,-1.6045775173735133,-1.9310672067068315,-0.6869299326079598,-0.22441074359483715,-0.22441074359483715,-0.22441074359483715,-0.24367668843103085,-0.24367668843103085,-0.6504742784216788,-0.6504742784216788,-0.6504742784216788,-0.4168321681085056,-0.4168321681085056,-1.5668441339686183,-1.5668441339686183,-1.5668441339686183,-0.8311827671869718,-0.339226015770122,-0.339226015770122,-1.7168922260395523,-0.8192878503664472,-0.2740833436370636,-1.9409714330434564,-1.0433670573703522,-0.5514103059535029,-0.5514103059535029,-0.5514103059535029,-2.2854019460892934,-1.041264671990421,-1.5332214234072714,-1.492801867176585,-1.492801867176585,-0.7439035190862117,-0.22532289001309574,-0.2746803697697729,-1.9200926200217476,-0.29775506414071573,-1.6690090945748643,-0.18334509993968232,-0.7285496066690659,-0.7460178165627739,-1.6926254424261211,-0.43028511787311036,-1.6805196515044725,-0.7829152758313681,-0.2643346467582511,-2.484008517234705,-0.8882948390099379,-1.4068754680830549,-0.09339215665204176,0.5183443757384426,0.5183443757384426,0.5183443757384426,-2.228884746936309,-0.7860758645338204,-0.812699742190088,-1.3312803712632049,-1.2966982302355998,-2.443321041376995,-1.0537599142870404,-1.0537599142870404,-2.214158471612561,-1.3165540959394573,-0.824597344522607,-1.334022305833165,-0.4425229910840487,-2.400395018174904,-0.9842100134286823,-1.1774285762520411,0.06759313094992207,-0.42436362046692727,1.113072686855301,0.6024503211535227,0.8916837857322989,-1.320508776726485,-0.0754870695245217,-0.5747602652968761,0.6170136865925523,-0.05299121737307515,1.192736461653017,0.700779710236167,0.1743217782698939,1.3934255796397186,0.8215971952540674,0.968406474702988,0.968406474702988,-1.1774285762520411,0.06759313094992207,-0.42436362046692727,0.06971004673781729,0.6426678796866604,0.6426678796866604,0.6426678796866604,0.15071112826981123,0.15071112826981123,0.15071112826981123,0.13264454820546603,-0.5284024204474445,-1.9203740937740408,-0.47756521137155183,-2.6597216052961263,-1.216912722893637,-0.9484087634702951,-1.4936132701996805,-0.9942985859627558,-1.457833724780854,1.1254932486804055,1.207411868474712,0.6888312394015952,0.4843975157433787,0.4843975157433787,0.4843975157433787,0.7996558237578378,-0.6180813148892901,0.6260559592095822,0.6067900143733888,-2.4902110685185743,-1.2930713659422883,-1.2930713659422883,-0.31831593001628733,1.0910727700524758,1.0910727700524758,1.0910727700524758,0.599116018635626,1.0711270976978822,-2.3609025410677926,-0.9180936586653045,-1.5418835591258526,-0.12569855437963098,-2.1840798899373732,-0.9729835520698259,-2.340996847094271,-0.8981879646917822,-0.9707016648405103,-1.4433924714211663,-1.460860681314874,-0.7633548998425779,-0.958119923309313,-1.6353204021439245,-0.893239678180786,-2.360827016571719,-0.9865022394699561,-0.7917372160032204,-0.10038495482982823,0.9778964287028473,0.9778964287028473,0.9778964287028473,0.9778964287028473,0.48593967728599746,-0.24570515061998402,0.5080657769892584,-0.13448259421139916,0.4784659155606937,0.4784659155606937,0.4784659155606937,0.4784659155606937,0.9704226669775429,0.9704226669775429,0.9704226669775429,0.9704226669775429,0.9704226669775429,0.4784659155606937,-2.0700252361256393,-0.25558050914905506,-0.25558050914905506,-0.25558050914905506,0.9560459636942324,0.9560459636942324,0.9560459636942324,0.4640892122773828,-0.8918032405467246,-0.5946115125966105,-0.599441061813367,-0.599441061813367,-0.599441061813367,-0.5920831289932931,-1.0381500579176817,-1.001224317937009,-1.001224317937009,-2.356758040055536,-1.112620765956663,-1.6045775173735133,-1.5966192540021753,-0.524201974280704,-0.32554655186556297,1.3512050070696766,1.3512050070696766,1.6963524790376063,1.623159051370478,1.6764068066830122,1.623159051370478,1.7562784396518152,1.1777718499644894,1.243665066554497,1.243665066554497,1.243665066554497,-0.9489830260868355,-1.5521281341176842,-0.6545237584445799,-0.47791775728730934,1.1238383306229822,1.1238383306229822,0.6318815792061327,0.6137966281277769,-2.17519273340086,-0.7590077286546388,-2.3381535441017736,-1.1270572062342272,-1.4510505943545535,-0.3198258894558076,-0.8384065185289252,-1.6690090945748643,0.43412022574428183,-1.028624002298945,0.18276889622334727,-2.5711274354650118,-0.6813765879052511,0.5478286467399462,0.5478286467399462,0.055871895323097095,-1.5704525049118714,-1.403521443375277,-0.6417092604904449,-2.2667974501355324,-1.0557011122679845,-1.5102869394724532,-2.0796720603351893,-2.0796720603351893,-0.8372731316011128,-1.3418637911008504,-0.8499070396839999,-2.0940443137828715,1.1893830882050207,1.1893830882050207,1.1893830882050207,0.6974263367881715,-0.49316396570917687,-2.2854019460892934,-1.041264671990421,-2.0940443137828715,-1.3684876687571175,-0.8765309173402673,-1.586414560572211,-0.3753182227046637,-0.8672749741215137,-1.5824460932534044,-2.0886297320794003,-0.844492457980529,-0.1348484702082999,-0.15411441504449352,-1.3789857443071718,-0.15411441504449352,-0.15411441504449352,-0.5875358826914088,-0.5875358826914088,-0.5875358826914088,-2.0793276900771716,-0.851709571878676,-0.09339215665204176,1.0717841618868489,1.0451602842305816,1.0451602842305816,0.5532035328137321,-0.8634745012653681,0.3822531777607247,-0.10970357365612524,-1.3133150304721615,-0.06917775637329002,-2.43762399158063,-0.8685341910121306,-0.8685341910121306,-1.267973848182706,-1.267973848182706,-1.267973848182706,-0.8685341910121306,-2.144056464135597,-0.3371494660792875,0.9368354569260053,-0.5207350478846078,-0.7545192549312886,0.45710721791199904,-0.5988561512926524,-1.4850914019215182,-0.759534756895763,0.8298710002355899,2.0755986792616823,-0.9512914689411818,0.2603350039021058,-1.3111601844528613,-0.08295419380601975,-0.5749109452228692,-1.5718367654879042,-0.8297560415247662,0.0537433318444945,1.2189196503833852,0.6204673883414663,0.6204673883414663,0.6204673883414663,-2.2610144207917284,-0.999405648318629,-1.5179862773917474,-1.04529547081109,-1.5100280140204096,-1.4906748155201763,-0.7683229260481602,-0.8001306894776903,-0.8001306894776903,-1.890725756256784,-0.6758476139335821,-0.7023359917065972,-0.5620678044744049,-1.5373789625312604,-1.5373789625312604,-0.5795360143681124,-0.016863297745021648,0.7294484560634293,0.8699257771648393,-1.2224627006874997,-0.030688748798070542,-0.030688748798070542,-0.030688748798070542,-0.5226455002149195,-1.5587076109736129,-1.5587076109736129,-0.7964223665356986,-2.0886297320794003,-0.844492457980529,-0.49042738844158357,0.7545943187603794,0.26263756734352967,-1.5587076109736129,-1.5587076109736129,-0.8230462441919658,-0.8230462441919658,-2.2854019460892934,-1.041264671990421,-1.860457027198125,-1.860457027198125,-0.33777651182683394,-0.34598765904620643,0.8990340481557568,-1.3475946150457325,-0.1960869551392398,1.0230168462305853,1.0302835601805687,0.5383268087637193,-0.3791051398881945,1.0302835601805687,1.0302835601805687,0.6235821508023371,-0.5948156787433585,0.6036574738923275,0.6235821508023371,0.3847387077699826,-0.6198409020781313,-0.5273238078318562,-0.5273238078318562,-0.5273238078318562,-0.24833561610529192,-0.8269821919394694,0.4187454870866231,-0.07321126433022551,0.1807708013027572,-0.2985404888366199,-0.2985404888366199,-0.2985404888366199,-0.06724197747651312,-0.0648983785234461,-0.0648983785234461,0.17851939694285093,-0.2577208718670052,0.47899814043554806,-0.04074461316752309,1.2049830658585692,0.659778559129185,-0.2006734864559797,0.553097441153263,0.1337162457272954,-0.05299121737307515,0.700779710236167,1.192736461653017,-2.2667974501355324,-1.0557011122679845,2.758089445006738,2.731465567350472,2.731465567350472,2.731465567350472,2.731465567350472,2.731465567350472,2.731465567350472,2.758089445006738,2.758089445006738,2.731465567350472,2.731465567350472,2.758089445006738,2.731465567350472,2.731465567350472,2.731465567350472,2.731465567350472,2.731465567350472,2.731465567350472,2.731465567350472,2.731465567350472,2.731465567350472,0.6836644831549998,0.6836644831549998,0.2818812270313574,0.2818812270313574,-0.47144531945343987,-0.47144531945343987,-0.47144531945343987,-1.7155825935523117,-0.47144531945343987,-1.9750890536892012,-0.7309517795903299,-1.2229085310071794,-0.3647719738835793,0.880249733318384,-1.6450772038754344,-0.022739647994401955,-0.5679441547237856,-1.406057665109664,-1.406057665109664,-0.16192039101079167,-0.16192039101079167,-0.07099805065558107,-0.07099805065558107,-0.07099805065558107,-0.07099805065558107,1.1747296283705115,1.1747296283705115,1.1747296283705115,0.7093967546099292,-0.7006447200753427,-0.7228037933042009,-1.4601867610300399,-0.24267336458743574,-0.7878778713168197,-1.4601867610300399,-0.21604948693116832,-0.7878778713168197,-0.020362931396045517,1.4422735239852527,0.9895861115021436,0.9895861115021436,0.9895861115021436,1.4223278516306586,1.1942607452059824,-2.3351044858798256,-2.3351044858798256,-1.090967211780953,-1.090967211780953,-1.5350880705182848,-1.5617119481745532,-0.2643269187631459,-0.8095314254925302,-2.4109396347093264,-1.1833215165108295,-0.6813346064573782,-2.573158603974666,-1.3290213298757938,-0.21666196665412518,-0.8447035777926367,0.36692289505065057,-0.1250338563661992,-1.5662042682606698,1.1563503312405765,1.1563503312405765,-0.06275347012924865,0.6723518431950647,-1.5833655023502622,-1.5833655023502622,-0.31260435059512326,-0.8311849796682406,-0.8311849796682406,0.041680498296044755,1.4510691983648076,1.4510691983648076,1.4510691983648076,1.431123526010214,-0.5530275231892424,0.8563611768795204,0.8563611768795204,0.8563611768795204,-0.07874195032739434,1.1669857286986982,1.1736639340003725,0.6876744385593215,0.6876744385593215,0.6876744385593215,-0.22287840401290118,-0.1210565129181068,-0.1210565129181068,-0.027566405068497554,1.5119970721787266,-0.06638302996103938,-0.06638302996103938,-0.06638302996103938,1.179344649065053,1.179344649065053,-0.08273064243029975,-0.08273064243029975,-0.08273064243029975,-0.08273064243029975,-0.08273064243029975,-0.08273064243029975,-0.08273064243029975,-0.08273064243029975,-0.08273064243029975,-0.08273064243029975,1.2694925472208614,0.69766416283521,-0.7545192549312886,0.45710721791199904,-0.03484953350485083,-0.04593861248794959,1.1731651888818755,1.1731651888818755,1.1532195165272823,0.6891667008363642,-0.3443132586560122,1.3160916626859918,0.7708871559566075,1.261719415126448,0.09586336906915721,1.261719415126448,1.261719415126448,0.769762663709598,-2.1788140549407484,-0.9346767808418768,-1.4266335322587262,-0.21209651544998115,-0.21209651544998115,-0.21209651544998115,-0.21209651544998115,1.4263607721966038,0.06560993158109922,0.09223380923736678,1.3379614882634596,-0.11237166560999334,1.1333560134160994,0.6783250019799228,0.6783250019799228,-0.7561576015133361,0.48886410568862687,-0.029716523384490264,-0.1424373194842204,0.5307822476378202,1.0493628767109375,-0.07080750431994351,1.3918289510613544,1.0443378801403576,0.7509375152851436,0.7509375152851436,-0.013135274648504669,-1.294455025527459,-0.5685837746570855,-0.6175529238905952,0.1355120318945182,-0.3165421205778019,-0.3165421205778019,0.9291855584482901,-0.7545192549312886,0.45710721791199904,-0.8779591645047371,0.3507165992146665,-0.44483096267890826,0.7667955101643789,0.2748387587475294,-0.25562694331581626,0.9557738284981957,0.4638170770813459,0.4457321260029898,-0.3149896710427113,0.9307380079833808,0.44673951993786926,-0.680205551187553,0.08160663169727972,-1.58257991529917,-0.37148357743162225,-0.9433119618172745,-2.26916012109656,-1.0250228469976876,-1.0442887918338803,-1.112153079619618,-0.2794246612667652,-0.25029168193672385,0.5034792456725188,-0.24052764514857825,0.9778964287028473,0.48593967728599746,-1.5257735243775126,-0.308260127934908,-0.32752607277110163,-0.8002168793517578,-0.817685089245465,0.16859641845321577,-1.573144051251176]},{\"customdata\":[[\"Recycle\"],[\"Garbage\"],[\"Recycle\"],[\"Recycle\"],[\"Compost\"],[\"Recycle\"],[\"Garbage\"],[\"Garbage\"],[\"Recycle\"],[\"Compost\"],[\"Garbage\"],[\"Recycle\"],[\"Recycle\"],[\"Garbage\"],[\"Recycle\"],[\"Recycle\"],[\"Recycle\"],[\"Recycle\"],[\"Recycle\"],[\"Recycle\"],[\"Compost\"],[\"Recycle\"],[\"Garbage\"],[\"Recycle\"],[\"Recycle\"],[\"Recycle\"],[\"Recycle\"],[\"Garbage\"],[\"Recycle\"],[\"Recycle\"],[\"Recycle\"],[\"Compost\"],[\"Compost\"],[\"Compost\"],[\"Garbage\"],[\"Recycle\"],[\"Recycle\"],[\"Garbage\"],[\"Recycle\"],[\"Recycle\"],[\"Recycle\"],[\"Garbage\"],[\"Recycle\"],[\"Garbage\"],[\"Recycle\"],[\"Recycle\"],[\"Garbage\"],[\"Recycle\"],[\"Garbage\"],[\"Recycle\"],[\"Garbage\"],[\"Recycle\"],[\"Garbage\"],[\"Recycle\"],[\"Garbage\"],[\"Recycle\"],[\"Garbage\"],[\"Recycle\"],[\"Compost\"],[\"Compost\"],[\"Recycle\"],[\"Recycle\"],[\"Garbage\"],[\"Recycle\"],[\"Recycle\"],[\"Recycle\"],[\"Compost\"],[\"Garbage\"],[\"Recycle\"],[\"Compost\"],[\"Recycle\"],[\"Garbage\"],[\"Compost\"],[\"Recycle\"],[\"Recycle\"],[\"Garbage\"],[\"Recycle\"],[\"Compost\"],[\"Recycle\"],[\"Recycle\"],[\"Garbage\"],[\"Recycle\"],[\"Recycle\"],[\"Recycle\"],[\"Recycle\"],[\"Recycle\"],[\"Recycle\"],[\"Recycle\"],[\"Recycle\"],[\"Compost\"],[\"Garbage\"],[\"Garbage\"],[\"Recycle\"],[\"Recycle\"],[\"Garbage\"],[\"Compost\"],[\"Garbage\"],[\"Recycle\"],[\"Compost\"],[\"Recycle\"],[\"Recycle\"],[\"Garbage\"],[\"Recycle\"],[\"Garbage\"],[\"Recycle\"],[\"Compost\"],[\"Recycle\"],[\"Recycle\"],[\"Recycle\"],[\"Recycle\"],[\"Garbage\"],[\"Garbage\"],[\"Recycle\"],[\"Garbage\"],[\"Garbage\"],[\"Recycle\"],[\"Garbage\"],[\"Recycle\"],[\"Garbage\"],[\"Compost\"],[\"Garbage\"],[\"Recycle\"],[\"Recycle\"],[\"Recycle\"],[\"Garbage\"],[\"Recycle\"],[\"Garbage\"],[\"Recycle\"],[\"Compost\"],[\"Garbage\"],[\"Compost\"],[\"Compost\"],[\"Compost\"],[\"Recycle\"],[\"Garbage\"],[\"Recycle\"],[\"Recycle\"],[\"Recycle\"],[\"Recycle\"],[\"Recycle\"],[\"Recycle\"],[\"Recycle\"],[\"Recycle\"],[\"Recycle\"],[\"Garbage\"],[\"Recycle\"],[\"Recycle\"],[\"Recycle\"],[\"Garbage\"],[\"Recycle\"],[\"Recycle\"],[\"Recycle\"],[\"Recycle\"],[\"Garbage\"],[\"Recycle\"],[\"Compost\"],[\"Compost\"],[\"Garbage\"],[\"Recycle\"],[\"Recycle\"],[\"Garbage\"],[\"Recycle\"],[\"Recycle\"],[\"Compost\"],[\"Garbage\"],[\"Recycle\"],[\"Compost\"],[\"Garbage\"],[\"Recycle\"],[\"Compost\"],[\"Garbage\"],[\"Recycle\"],[\"Recycle\"],[\"Recycle\"],[\"Recycle\"],[\"Compost\"],[\"Recycle\"],[\"Recycle\"],[\"Recycle\"],[\"Garbage\"],[\"Recycle\"],[\"Garbage\"],[\"Recycle\"],[\"Compost\"],[\"Recycle\"],[\"Garbage\"],[\"Garbage\"],[\"Recycle\"],[\"Garbage\"],[\"Recycle\"],[\"Compost\"],[\"Compost\"],[\"Recycle\"],[\"Recycle\"],[\"Garbage\"],[\"Recycle\"],[\"Recycle\"],[\"Recycle\"],[\"Recycle\"],[\"Recycle\"],[\"Recycle\"],[\"Recycle\"],[\"Recycle\"],[\"Compost\"],[\"Compost\"],[\"Garbage\"],[\"Recycle\"],[\"Garbage\"],[\"Recycle\"],[\"Garbage\"],[\"Recycle\"],[\"Compost\"],[\"Compost\"],[\"Compost\"],[\"Recycle\"],[\"Garbage\"],[\"Garbage\"],[\"Recycle\"],[\"Recycle\"],[\"Recycle\"],[\"Recycle\"],[\"Compost\"],[\"Compost\"],[\"Compost\"],[\"Recycle\"],[\"Recycle\"],[\"Recycle\"],[\"Recycle\"],[\"Compost\"],[\"Recycle\"],[\"Recycle\"],[\"Recycle\"],[\"Recycle\"],[\"Recycle\"],[\"Compost\"],[\"Compost\"],[\"Garbage\"],[\"Recycle\"],[\"Recycle\"],[\"Recycle\"],[\"Recycle\"],[\"Recycle\"],[\"Recycle\"],[\"Garbage\"],[\"Garbage\"],[\"Recycle\"],[\"Recycle\"],[\"Recycle\"],[\"Recycle\"],[\"Recycle\"],[\"Recycle\"],[\"Recycle\"],[\"Compost\"],[\"Compost\"],[\"Garbage\"],[\"Recycle\"],[\"Recycle\"],[\"Recycle\"],[\"Recycle\"],[\"Garbage\"],[\"Recycle\"],[\"Recycle\"],[\"Recycle\"],[\"Garbage\"],[\"Garbage\"],[\"Recycle\"],[\"Compost\"],[\"Recycle\"],[\"Recycle\"],[\"Garbage\"],[\"Recycle\"],[\"Garbage\"],[\"Recycle\"],[\"Recycle\"],[\"Compost\"],[\"Compost\"],[\"Compost\"],[\"Garbage\"],[\"Recycle\"],[\"Recycle\"],[\"Compost\"],[\"Garbage\"],[\"Recycle\"],[\"Recycle\"],[\"Recycle\"],[\"Garbage\"],[\"Recycle\"],[\"Compost\"],[\"Garbage\"],[\"Recycle\"],[\"Recycle\"],[\"Recycle\"],[\"Garbage\"],[\"Recycle\"],[\"Garbage\"],[\"Garbage\"],[\"Recycle\"],[\"Recycle\"],[\"Compost\"],[\"Garbage\"],[\"Recycle\"],[\"Recycle\"],[\"Recycle\"],[\"Recycle\"],[\"Recycle\"],[\"Recycle\"],[\"Compost\"],[\"Compost\"],[\"Compost\"],[\"Recycle\"],[\"Recycle\"],[\"Garbage\"],[\"Recycle\"],[\"Compost\"],[\"Recycle\"],[\"Garbage\"],[\"Garbage\"],[\"Recycle\"],[\"Compost\"],[\"Garbage\"],[\"Recycle\"],[\"Recycle\"],[\"Recycle\"],[\"Garbage\"],[\"Recycle\"],[\"Recycle\"],[\"Recycle\"],[\"Garbage\"],[\"Compost\"],[\"Compost\"],[\"Recycle\"],[\"Recycle\"],[\"Garbage\"],[\"Recycle\"],[\"Recycle\"],[\"Garbage\"],[\"Recycle\"],[\"Garbage\"],[\"Recycle\"],[\"Recycle\"],[\"Recycle\"],[\"Recycle\"],[\"Recycle\"],[\"Recycle\"],[\"Compost\"],[\"Compost\"],[\"Garbage\"],[\"Recycle\"],[\"Recycle\"],[\"Recycle\"],[\"Recycle\"],[\"Compost\"],[\"Recycle\"],[\"Recycle\"],[\"Recycle\"],[\"Garbage\"],[\"Recycle\"],[\"Recycle\"],[\"Recycle\"],[\"Recycle\"],[\"Recycle\"],[\"Recycle\"],[\"Garbage\"],[\"Recycle\"],[\"Recycle\"],[\"Recycle\"],[\"Garbage\"],[\"Garbage\"],[\"Recycle\"],[\"Compost\"],[\"Garbage\"],[\"Recycle\"],[\"Recycle\"],[\"Recycle\"],[\"Recycle\"],[\"Recycle\"],[\"Garbage\"],[\"Recycle\"],[\"Recycle\"],[\"Recycle\"],[\"Garbage\"],[\"Recycle\"],[\"Compost\"],[\"Garbage\"],[\"Recycle\"],[\"Recycle\"],[\"Recycle\"],[\"Garbage\"],[\"Compost\"],[\"Recycle\"],[\"Garbage\"],[\"Recycle\"],[\"Recycle\"],[\"Recycle\"],[\"Recycle\"],[\"Compost\"],[\"Compost\"],[\"Recycle\"],[\"Recycle\"],[\"Recycle\"],[\"Recycle\"],[\"Recycle\"],[\"Recycle\"],[\"Recycle\"],[\"Recycle\"],[\"Recycle\"],[\"Recycle\"],[\"Recycle\"],[\"Garbage\"],[\"Recycle\"],[\"Compost\"],[\"Garbage\"],[\"Garbage\"],[\"Recycle\"],[\"Recycle\"],[\"Recycle\"],[\"Recycle\"],[\"Recycle\"],[\"Compost\"],[\"Garbage\"],[\"Recycle\"],[\"Compost\"],[\"Compost\"],[\"Compost\"],[\"Recycle\"],[\"Recycle\"],[\"Recycle\"],[\"Garbage\"],[\"Recycle\"],[\"Recycle\"],[\"Recycle\"],[\"Recycle\"],[\"Garbage\"],[\"Garbage\"],[\"Recycle\"],[\"Recycle\"],[\"Garbage\"],[\"Compost\"],[\"Recycle\"],[\"Recycle\"],[\"Recycle\"],[\"Recycle\"],[\"Recycle\"],[\"Recycle\"],[\"Recycle\"],[\"Recycle\"],[\"Recycle\"],[\"Recycle\"],[\"Recycle\"],[\"Recycle\"],[\"Recycle\"],[\"Recycle\"],[\"Recycle\"],[\"Compost\"],[\"Recycle\"],[\"Recycle\"],[\"Recycle\"],[\"Garbage\"],[\"Recycle\"],[\"Recycle\"],[\"Recycle\"],[\"Recycle\"],[\"Compost\"],[\"Garbage\"],[\"Recycle\"],[\"Recycle\"],[\"Recycle\"],[\"Recycle\"],[\"Recycle\"],[\"Recycle\"],[\"Garbage\"],[\"Recycle\"],[\"Recycle\"],[\"Recycle\"],[\"Compost\"],[\"Compost\"],[\"Compost\"],[\"Recycle\"],[\"Garbage\"],[\"Recycle\"],[\"Recycle\"],[\"Garbage\"],[\"Recycle\"],[\"Compost\"],[\"Garbage\"],[\"Garbage\"],[\"Recycle\"],[\"Recycle\"],[\"Recycle\"],[\"Garbage\"],[\"Recycle\"],[\"Recycle\"],[\"Recycle\"],[\"Recycle\"],[\"Recycle\"],[\"Garbage\"],[\"Recycle\"],[\"Recycle\"],[\"Recycle\"],[\"Garbage\"],[\"Recycle\"],[\"Garbage\"],[\"Recycle\"],[\"Garbage\"],[\"Garbage\"],[\"Recycle\"],[\"Compost\"],[\"Recycle\"],[\"Recycle\"],[\"Recycle\"],[\"Recycle\"],[\"Recycle\"],[\"Recycle\"],[\"Recycle\"],[\"Recycle\"],[\"Recycle\"],[\"Recycle\"],[\"Recycle\"],[\"Compost\"],[\"Recycle\"],[\"Compost\"],[\"Compost\"],[\"Compost\"],[\"Recycle\"],[\"Garbage\"],[\"Recycle\"],[\"Garbage\"],[\"Recycle\"],[\"Compost\"],[\"Recycle\"],[\"Recycle\"],[\"Recycle\"],[\"Recycle\"],[\"Recycle\"],[\"Recycle\"],[\"Garbage\"],[\"Recycle\"],[\"Garbage\"],[\"Recycle\"],[\"Compost\"],[\"Garbage\"],[\"Compost\"],[\"Recycle\"],[\"Garbage\"],[\"Recycle\"],[\"Garbage\"],[\"Recycle\"],[\"Recycle\"],[\"Garbage\"],[\"Garbage\"],[\"Recycle\"],[\"Compost\"],[\"Recycle\"],[\"Recycle\"],[\"Recycle\"],[\"Garbage\"],[\"Recycle\"],[\"Recycle\"],[\"Recycle\"],[\"Recycle\"],[\"Compost\"],[\"Recycle\"],[\"Recycle\"],[\"Recycle\"],[\"Garbage\"],[\"Garbage\"],[\"Recycle\"],[\"Recycle\"],[\"Recycle\"],[\"Recycle\"],[\"Recycle\"],[\"Recycle\"],[\"Recycle\"],[\"Recycle\"],[\"Recycle\"],[\"Compost\"],[\"Recycle\"],[\"Recycle\"],[\"Recycle\"],[\"Recycle\"],[\"Compost\"],[\"Compost\"],[\"Recycle\"],[\"Recycle\"],[\"Recycle\"],[\"Recycle\"],[\"Garbage\"],[\"Recycle\"],[\"Recycle\"],[\"Recycle\"],[\"Compost\"],[\"Compost\"],[\"Recycle\"],[\"Recycle\"],[\"Garbage\"],[\"Recycle\"],[\"Recycle\"],[\"Recycle\"],[\"Recycle\"],[\"Recycle\"],[\"Recycle\"],[\"Garbage\"],[\"Recycle\"],[\"Compost\"],[\"Recycle\"],[\"Garbage\"],[\"Recycle\"],[\"Recycle\"],[\"Recycle\"],[\"Recycle\"],[\"Garbage\"],[\"Recycle\"],[\"Recycle\"],[\"Recycle\"],[\"Garbage\"],[\"Recycle\"],[\"Garbage\"],[\"Garbage\"],[\"Recycle\"],[\"Recycle\"],[\"Compost\"],[\"Garbage\"],[\"Garbage\"],[\"Recycle\"],[\"Recycle\"],[\"Recycle\"],[\"Recycle\"],[\"Recycle\"],[\"Recycle\"],[\"Recycle\"],[\"Garbage\"],[\"Recycle\"],[\"Compost\"],[\"Compost\"],[\"Compost\"],[\"Garbage\"],[\"Recycle\"],[\"Recycle\"],[\"Recycle\"],[\"Recycle\"],[\"Garbage\"],[\"Recycle\"],[\"Garbage\"],[\"Recycle\"],[\"Recycle\"],[\"Garbage\"],[\"Recycle\"],[\"Recycle\"],[\"Recycle\"],[\"Recycle\"],[\"Recycle\"],[\"Recycle\"],[\"Recycle\"],[\"Recycle\"],[\"Garbage\"],[\"Recycle\"],[\"Garbage\"],[\"Recycle\"],[\"Recycle\"],[\"Recycle\"],[\"Garbage\"],[\"Recycle\"],[\"Recycle\"],[\"Garbage\"],[\"Recycle\"],[\"Recycle\"],[\"Garbage\"],[\"Garbage\"],[\"Recycle\"],[\"Recycle\"],[\"Recycle\"],[\"Recycle\"],[\"Recycle\"],[\"Garbage\"],[\"Recycle\"],[\"Garbage\"],[\"Recycle\"],[\"Compost\"],[\"Garbage\"],[\"Recycle\"],[\"Compost\"],[\"Recycle\"],[\"Recycle\"],[\"Garbage\"],[\"Garbage\"],[\"Garbage\"],[\"Recycle\"],[\"Compost\"],[\"Garbage\"],[\"Recycle\"],[\"Garbage\"],[\"Recycle\"],[\"Recycle\"]],\"hovertemplate\":\"<b>%{hovertext}</b><br><br>Class=%{marker.color}<br>PC 1=%{x}<br>PC 2=%{y}<br>PC 3=%{z}<br>commodity=%{customdata[0]}<extra></extra>\",\"hovertext\":[\"WINERY\",\"WINERY\",\"WINERY\",\"WINERY\",\"WINERY\",\"WINERY\",\"WINERY\",\"WINERY\",\"WINERY\",\"WINERY\",\"WINERY\",\"WINERY\",\"WINERY\",\"WINERY\",\"WINERY\",\"WINERY\",\"WINERY\",\"WINERY\",\"WINERY\",\"WINERY\",\"WINERY\",\"WINERY\",\"WINERY\",\"WINERY\",\"WINERY\",\"WINERY\",\"WINERY\",\"WINERY\",\"PRESCHOOL\",\"WINERY\",\"WINERY\",\"WINERY\",\"WINERY\",\"WINERY\",\"WINERY\",\"WINERY\",\"WINERY\",\"VINEYARD\",\"VINEYARD\",\"VINEYARD\",\"VINEYARD\",\"VINEYARD\",\"VINEYARD\",\"VINEYARD\",\"VINEYARD\",\"VINEYARD\",\"WINERY\",\"WINERY\",\"WINERY\",\"WINERY\",\"WINERY\",\"WINERY\",\"WINERY\",\"WINERY\",\"VINEYARD\",\"VINEYARD\",\"WINERY\",\"WINERY\",\"WINERY\",\"WINERY\",\"WINERY\",\"WINERY\",\"MIXED USE\",\"MIXED USE\",\"MIXED USE\",\"MIXED USE\",\"MIXED USE\",\"WINERY\",\"WINERY\",\"WINERY\",\"WINERY\",\"WINERY\",\"WINERY\",\"WINERY\",\"WINERY\",\"WINERY\",\"WINERY\",\"WINERY\",\"WINERY\",\"WINERY\",\"WINERY\",\"WINERY\",\"WINERY\",\"WINERY\",\"WINERY\",\"WINERY\",\"WINERY\",\"WINERY\",\"WINERY\",\"WINERY\",\"WINERY\",\"WINERY\",\"WINERY\",\"WINERY\",\"WINERY\",\"WINERY\",\"WINERY\",\"WINERY\",\"WINERY\",\"WINERY\",\"WINERY\",\"WINERY\",\"WINERY\",\"WINERY\",\"WINERY\",\"WINERY\",\"UTILITY\",\"UTILITY\",\"UTILITY\",\"WINERY\",\"WINERY\",\"WINERY\",\"WINERY\",\"WINERY\",\"LANDSCAPER\",\"LANDSCAPER\",\"WINERY\",\"WINERY\",\"WINERY\",\"WINERY\",\"WINERY\",\"WINERY\",\"WINERY\",\"WINERY\",\"WINERY\",\"WINERY\",\"CONTRACTOR\",\"CONTRACTOR\",\"CONTRACTOR\",\"MIXED USE\",\"MIXED USE\",\"MIXED USE\",\"MIXED USE\",\"MIXED USE\",\"WINERY\",\"WINERY\",\"RESTAURANT\",\"RESTAURANT\",\"RESTAURANT\",\"RESTAURANT\",\"RESTAURANT\",\"RESTAURANT\",\"RESTAURANT\",\"RESTAURANT\",\"WINERY\",\"WINERY\",\"WINERY\",\"WINERY\",\"WINERY\",\"WINERY\",\"WINERY\",\"WINERY\",\"LODGING\",\"WINERY\",\"WINERY\",\"WINERY\",\"WINERY\",\"WINERY\",\"WINERY\",\"WINERY\",\"WINERY\",\"WINERY\",\"WINERY\",\"WINERY\",\"WINERY\",\"WINERY\",\"WINERY\",\"WINERY\",\"WINERY\",\"WINERY\",\"WINERY\",\"WINERY\",\"WINERY\",\"WINERY\",\"WINERY\",\"WINERY\",\"WINERY\",\"WINERY\",\"WINERY\",\"WINERY\",\"WINERY\",\"WINERY\",\"WINERY\",\"WINERY\",\"WINERY\",\"WINERY\",\"CONTRACTOR\",\"CONTRACTOR\",\"WINERY\",\"WINERY\",\"WINERY\",\"WINERY\",\"WINERY\",\"WINERY\",\"WINERY\",\"WINERY\",\"WINERY\",\"WINERY\",\"WINERY\",\"WINERY\",\"WINERY\",\"WINERY\",\"WINERY\",\"WINERY\",\"WINERY\",\"WINERY\",\"WINERY\",\"WINERY\",\"WINERY\",\"WINERY\",\"WINERY\",\"WINERY\",\"WINERY\",\"VINEYARD\",\"VINEYARD\",\"VINEYARD\",\"CONTRACTOR\",\"POSTOFFICE\",\"CHURCH\",\"WINERY\",\"WINERY\",\"WINERY\",\"WINERY\",\"WINERY\",\"WINERY\",\"WINERY\",\"WINERY\",\"WINERY\",\"WINERY\",\"WINERY\",\"LODGING-FW\",\"LODGING-FW\",\"LODGING-FW\",\"LODGING-FW\",\"LODGING-FW\",\"LODGING-FW\",\"UTILITY\",\"UTILITY\",\"UTILITY\",\"WINERY\",\"WINERY\",\"WINERY\",\"LODGING-FW\",\"MEMBER\",\"VINEYARD\",\"VINEYARD\",\"VINEYARD\",\"VINEYARD\",\"GROUP HOME\",\"GROUP HOME\",\"GROUP HOME\",\"GROUP HOME\",\"GROUP HOME\",\"GROUP HOME\",\"INDUSTRIAL\",\"INDUSTRIAL\",\"INDUSTRIAL\",\"INDUSTRIAL\",\"INDUSTRIAL\",\"WINERY\",\"WINERY\",\"WINERY\",\"WINERY\",\"HOSPITAL\",\"MOBILEHOME\",\"MOBILEHOME\",\"MOBILEHOME\",\"MOBILEHOME\",\"MOBILEHOME\",\"HOSPITAL\",\"HOSPITAL\",\"WINERY\",\"WINERY\",\"WINERY\",\"WINERY\",\"WINERY\",\"WINERY\",\"POLICEFIRE\",\"POLICEFIRE\",\"POLICEFIRE\",\"POLICEFIRE\",\"WINERY\",\"WINERY\",\"WINERY\",\"WINERY\",\"SCHOOL\",\"SCHOOL\",\"SCHOOL\",\"VINEYARD\",\"VINEYARD\",\"VINEYARD\",\"VINEYARD\",\"CHURCH\",\"CHURCH\",\"SCHOOL\",\"SCHOOL\",\"SCHOOL\",\"SCHOOL\",\"SCHOOL\",\"SCHOOL\",\"SCHOOL\",\"SCHOOL\",\"SCHOOL\",\"SCHOOL\",\"SCHOOL\",\"SCHOOL\",\"SCHOOL\",\"SCHOOL\",\"SCHOOL\",\"SCHOOL\",\"VINEYARD\",\"WINERY\",\"WINERY\",\"WINERY\",\"WINERY\",\"VINEYARD\",\"WINERY\",\"WINERY\",\"WINERY\",\"VINEYARD\",\"VINEYARD\",\"VINEYARD\",\"VINEYARD\",\"WINERY\",\"WINERY\",\"WINERY\",\"WINERY\",\"WINERY\",\"WINERY\",\"WINERY\",\"WINERY\",\"WINERY\",\"WINERY\",\"WINERY\",\"WINERY\",\"POSTOFFICE\",\"POSTOFFICE\",\"WINERY\",\"WINERY\",\"WINERY\",\"WINERY\",\"WINERY\",\"GROCERY\",\"WINERY\",\"WINERY\",\"WINERY\",\"VINEYARD\",\"VINEYARD\",\"WINERY\",\"WINERY\",\"WINERY\",\"WINERY\",\"WINERY\",\"WINERY\",\"WINERY\",\"VINEYARD\",\"VINEYARD\",\"WINERY\",\"WINERY\",\"WINERY\",\"WINERY\",\"WINERY\",\"CONTRACTOR\",\"WINERY\",\"WINERY\",\"WINERY\",\"WINERY\",\"WINERY\",\"WINERY\",\"WINERY\",\"WINERY\",\"WINERY\",\"WINERY\",\"WINERY\",\"WINERY\",\"WINERY\",\"WINERY\",\"WINERY\",\"WINERY\",\"WINERY\",\"WINERY\",\"WINERY\",\"WINERY\",\"WINERY\",\"WINERY\",\"WINERY\",\"HOME IMPRO\",\"WINERY\",\"WINERY\",\"WINERY\",\"WINERY\",\"WINERY\",\"WINERY\",\"WINERY\",\"WINERY\",\"WINERY\",\"WINERY\",\"WINERY\",\"WINERY\",\"WINERY\",\"WINERY\",\"WINERY\",\"WINERY\",\"WINERY\",\"WINERY\",\"WINERY\",\"WINERY\",\"WINERY\",\"VINEYARD\",\"VINEYARD\",\"VINEYARD\",\"WINERY\",\"WINERY\",\"WINERY\",\"WINERY\",\"WINERY\",\"WINERY\",\"WINERY\",\"WINERY\",\"WINERY\",\"WINERY\",\"WINERY\",\"WINERY\",\"WINERY\",\"WINERY\",\"WINERY\",\"WINERY\",\"WINERY\",\"WINERY\",\"WINERY\",\"WINERY\",\"WINERY\",\"PARK\",\"PARK\",\"PARK\",\"PARK\",\"WINERY\",\"WINERY\",\"WINERY\",\"WINERY\",\"WINERY\",\"WINERY\",\"WINERY\",\"WINERY\",\"WINERY\",\"WINERY\",\"WINERY\",\"WINERY\",\"WINERY\",\"WINERY\",\"WINERY\",\"WINERY\",\"WINERY\",\"WINERY\",\"WINERY\",\"WINERY\",\"WINERY\",\"WINERY\",\"WINERY\",\"WINERY\",\"WINERY\",\"WINERY\",\"WINERY\",\"WINERY\",\"WINERY\",\"WINERY\",\"WINERY\",\"WINERY\",\"WINERY\",\"WINERY\",\"WINERY\",\"WINERY\",\"WINERY\",\"RESTAURANT\",\"RESTAURANT\",\"RESTAURANT\",\"RESTAURANT\",\"RESTAURANT\",\"WINERY\",\"WINERY\",\"WINERY\",\"WINERY\",\"WINERY\",\"WINERY\",\"WINERY\",\"WINERY\",\"WINERY\",\"WINERY\",\"OFFICE BLD\",\"WINERY\",\"WINERY\",\"WINERY\",\"WINERY\",\"WINERY\",\"WINERY\",\"WINERY\",\"WINERY\",\"WINERY\",\"OFFICE BLD\",\"VINEYARD\",\"WINERY\",\"WINERY\",\"WINERY\",\"WINERY\",\"WINERY\",\"WINERY\",\"WINERY\",\"WINERY\",\"MEDICAL\",\"MEDICAL\",\"MEDICAL\",\"MEDICAL\",\"MEDICAL\",\"MEDICAL\",\"MEDICAL\",\"MEDICAL\",\"MEMBER\",\"MEMBER\",\"WINERY\",\"WINERY\",\"WINERY\",\"WINERY\",\"WINERY\",\"WINERY\",\"VINEYARD\",\"VINEYARD\",\"VINEYARD\",\"VINEYARD\",\"VINEYARD\",\"WINERY\",\"WINERY\",\"WINERY\",\"WINERY\",\"WINERY\",\"WINERY\",\"WINERY\",\"WINERY\",\"WINERY\",\"WINERY\",\"WINERY\",\"WINERY\",\"WINERY\",\"WINERY\",\"POLICEFIRE\",\"POLICEFIRE\",\"CONTRACTOR\",\"CONTRACTOR\",\"COMMUNITY\",\"WINERY\",\"WINERY\",\"WINERY\",\"WINERY\",\"OFFICE BLD\",\"MULTIFAMIL\",\"MULTIFAMIL\",\"CONTRACTOR\",\"CONTRACTOR\",\"WINERY\",\"WINERY\",\"WINERY\",\"WINERY\",\"PARK\",\"WINERY\",\"WINERY\",\"VINEYARD\",\"WINERY\",\"WINERY\",\"WINERY\",\"WINERY\",\"WINERY\",\"WINERY\",\"WINERY\",\"WINERY\",\"WINERY\",\"CHURCH\",\"WINERY\",\"WINERY\",\"WINERY\",\"WINERY\",\"WINERY\",\"WINERY\",\"WINERY\",\"WINERY\",\"WINERY\",\"WINERY\",\"WINERY\",\"WINERY\",\"WINERY\",\"WINERY\",\"WINERY\",\"HOSPITAL\",\"HOSPITAL\",\"HOSPITAL\",\"HOSPITAL\",\"MEDICAL\",\"MEDICAL\",\"WINERY\",\"WINERY\",\"WINERY\",\"WINERY\",\"WINERY\",\"VINEYARD\",\"VINEYARD\",\"VINEYARD\",\"LODGING-FW\",\"LODGING-FW\",\"LODGING-FW\",\"WINERY\",\"WINERY\",\"WINERY\",\"MULTIFAMIL\",\"MULTIFAMIL\",\"MULTIFAMIL\",\"MULTIFAMIL\",\"POLICEFIRE\",\"POLICEFIRE\",\"WINERY\",\"WINERY\",\"WINERY\",\"WINERY\",\"WINERY\",\"WINERY\",\"WINERY\",\"WINERY\",\"WINERY\",\"WINERY\",\"WINERY\",\"WINERY\",\"WINERY\",\"WINERY\",\"VINEYARD\",\"VINEYARD\",\"VINEYARD\",\"VINEYARD\",\"VINEYARD\",\"WINERY\",\"WINERY\",\"WINERY\",\"WINERY\",\"MULTIFAMIL\",\"UTILITY\",\"UTILITY\",\"WINERY\",\"WINERY\",\"WINERY\",\"WINERY\",\"WINERY\",\"WINERY\",\"WINERY\",\"WINERY\",\"WINERY\",\"WINERY\",\"WINERY\",\"WINERY\",\"WINERY\",\"WINERY\",\"WINERY\",\"WINERY\",\"WINERY\",\"WINERY\",\"WINERY\",\"WINERY\",\"WINERY\",\"WINERY\",\"WINERY\",\"WINERY\",\"WINERY\",\"WINERY\",\"WINERY\",\"WINERY\",\"WINERY\",\"RETAIL\",\"WINERY\",\"CONTRACTOR\",\"LODGING\",\"WINERY\",\"WINERY\",\"WINERY\",\"VINEYARD\",\"VINEYARD\",\"VINEYARD\",\"WINERY\",\"WINERY\",\"LANDSCAPER\",\"CONTRACTOR\",\"MIXED USE\",\"MIXED USE\",\"MIXED USE\",\"LODGING-FW\",\"LODGING-FW\",\"WINERY\",\"WINERY\",\"WINERY\"],\"legendgroup\":\"1\",\"marker\":{\"color\":[1,1,1,1,1,1,1,1,1,1,1,1,1,1,1,1,1,1,1,1,1,1,1,1,1,1,1,1,1,1,1,1,1,1,1,1,1,1,1,1,1,1,1,1,1,1,1,1,1,1,1,1,1,1,1,1,1,1,1,1,1,1,1,1,1,1,1,1,1,1,1,1,1,1,1,1,1,1,1,1,1,1,1,1,1,1,1,1,1,1,1,1,1,1,1,1,1,1,1,1,1,1,1,1,1,1,1,1,1,1,1,1,1,1,1,1,1,1,1,1,1,1,1,1,1,1,1,1,1,1,1,1,1,1,1,1,1,1,1,1,1,1,1,1,1,1,1,1,1,1,1,1,1,1,1,1,1,1,1,1,1,1,1,1,1,1,1,1,1,1,1,1,1,1,1,1,1,1,1,1,1,1,1,1,1,1,1,1,1,1,1,1,1,1,1,1,1,1,1,1,1,1,1,1,1,1,1,1,1,1,1,1,1,1,1,1,1,1,1,1,1,1,1,1,1,1,1,1,1,1,1,1,1,1,1,1,1,1,1,1,1,1,1,1,1,1,1,1,1,1,1,1,1,1,1,1,1,1,1,1,1,1,1,1,1,1,1,1,1,1,1,1,1,1,1,1,1,1,1,1,1,1,1,1,1,1,1,1,1,1,1,1,1,1,1,1,1,1,1,1,1,1,1,1,1,1,1,1,1,1,1,1,1,1,1,1,1,1,1,1,1,1,1,1,1,1,1,1,1,1,1,1,1,1,1,1,1,1,1,1,1,1,1,1,1,1,1,1,1,1,1,1,1,1,1,1,1,1,1,1,1,1,1,1,1,1,1,1,1,1,1,1,1,1,1,1,1,1,1,1,1,1,1,1,1,1,1,1,1,1,1,1,1,1,1,1,1,1,1,1,1,1,1,1,1,1,1,1,1,1,1,1,1,1,1,1,1,1,1,1,1,1,1,1,1,1,1,1,1,1,1,1,1,1,1,1,1,1,1,1,1,1,1,1,1,1,1,1,1,1,1,1,1,1,1,1,1,1,1,1,1,1,1,1,1,1,1,1,1,1,1,1,1,1,1,1,1,1,1,1,1,1,1,1,1,1,1,1,1,1,1,1,1,1,1,1,1,1,1,1,1,1,1,1,1,1,1,1,1,1,1,1,1,1,1,1,1,1,1,1,1,1,1,1,1,1,1,1,1,1,1,1,1,1,1,1,1,1,1,1,1,1,1,1,1,1,1,1,1,1,1,1,1,1,1,1,1,1,1,1,1,1,1,1,1,1,1,1,1,1,1,1,1,1,1,1,1,1,1,1,1,1,1,1,1,1,1,1,1,1,1,1,1,1,1,1,1,1,1,1,1,1,1,1,1,1,1,1,1,1,1,1,1,1,1,1,1,1,1,1,1,1,1,1,1,1,1,1,1,1,1,1,1,1,1,1,1,1,1,1,1,1,1,1,1,1,1,1,1,1,1,1,1,1,1,1,1,1,1,1,1,1,1,1,1,1,1,1,1,1,1,1,1,1,1,1,1,1,1,1,1,1,1,1,1,1,1,1,1,1,1,1,1],\"coloraxis\":\"coloraxis\",\"symbol\":\"diamond\"},\"mode\":\"markers\",\"name\":\"1\",\"scene\":\"scene\",\"showlegend\":true,\"type\":\"scatter3d\",\"x\":[-0.24790679286517894,1.2603858992955224,-1.1014956573809933,-1.1014956573809933,-1.001973118972474,-1.1014956573809933,1.2412322087306176,-0.4296802445441972,-1.3251315945914115,-1.225609056182893,-0.1923708054907418,-1.159565281375953,-1.0793498928521146,0.4829598110602693,-1.195343633498209,-1.195343633498209,-1.195343633498209,-0.025767397344231023,-0.879356261860046,-0.879356261860046,-0.7798337234515267,-0.879356261860046,2.1398135410740364,-0.1437490235732271,-0.997337888089041,-0.997337888089041,-0.997337888089041,0.6541229664489323,-1.6626883767766845,-1.0930376551895131,-1.0930376551895131,0.459157486321048,0.459157486321048,-0.816029090968379,0.6710680024389859,-0.9155516293768985,-0.9155516293768985,0.01705809226601736,-1.5243853642739553,-1.5243853642739553,-1.5243853642739553,1.2264335868389238,-1.1193501381674102,0.4511716619782923,-0.2818591053217776,0.1692668435598345,-0.2263359992467141,-1.215608979968865,-0.4699580636956996,-1.2931069948933842,-0.4699580636956996,-1.2169160642870904,-0.4296802445441972,-1.3251315945914115,-0.5228240598644872,-1.490018535749699,0.40012244953325266,-1.1864971822826311,-1.0869746438741126,-1.123064719784642,-0.3329083177668168,0.11821763111479587,1.283937691012955,-1.1695561497727733,-1.1695561497727733,-1.1695561497727733,-1.1020992293572383,0.4829598110602693,-1.1872947176631181,-1.09582109508969,0.8288042755469922,0.3337409549736383,-0.5474974865244959,0.22013534360424075,0.6712612924858538,0.40012244953325266,-1.1824727243650859,-1.0869746438741126,-0.3329083177668168,0.11821763111479587,0.5323620830187631,0.2704745285475534,-0.741748858292038,-0.7457733162095833,-0.7457733162095833,0.10781554830623101,1.1380094770448717,1.1380094770448717,-1.3136751338081896,-1.2141525953996712,-0.34648065792297816,0.5258031689067721,-0.4417648453972077,-1.3136751338081896,-0.34648065792297816,-1.2141525953996712,-0.28231361163163204,-1.2535325454343889,-1.15401000702587,-1.2535325454343889,-1.1733171569105505,-0.34648065792297816,-1.3136751338081896,-0.4296802445441972,-1.3251315945914115,-1.225609056182893,1.417290883822974,1.417290883822974,1.417290883822974,-1.3480419623324464,0.19340149420752692,-0.38963193079407166,-1.205299186794128,0.37327152918666484,-0.4305319491495984,-1.3977264250348096,-0.2892034616576869,-1.2483490217078081,-0.2892034616576869,-1.1568753991343799,-0.36094658749568476,-0.6135792809531214,-0.5532409048832729,-0.5532409048832729,0.19340149420752692,-0.6668417795212108,-0.6090464240479232,-1.5044977740951373,-1.404975235686619,0.33021554137101533,-1.1568815520363498,-1.0841448795137922,-1.0841448795137922,-1.256404090444869,0.19340149420752692,-0.6668417795212108,-0.132324476159999,-0.132324476159999,-0.132324476159999,-0.05210908763616005,-0.05210908763616005,-0.05210908763616005,-0.05210908763616005,-0.04003571388352372,0.3618150684034432,-1.2248045634124407,-1.2248045634124407,-1.2248045634124407,0.6541229664489323,-1.1537188331625576,-1.1537188331625576,-1.1537188331625576,-1.2655994755342068,-0.406769876803163,-1.3022212268503766,-1.2026986884418587,-1.2026986884418587,-0.406769876803163,-1.3022212268503766,-1.2100868675823686,0.4223349324751567,-1.2100868675823686,-1.2100868675823686,-1.1105643291738494,-0.4296802445441972,-1.3251315945914115,-1.225609056182893,-0.4296802445441972,-1.3251315945914115,-1.225609056182893,0.38759082825298735,-1.1990288035628964,-1.1990288035628964,-1.1990288035628964,-1.1188134150390578,-1.0995062651543774,-1.0592885848521691,-1.0592885848521691,-1.0592885848521691,1.3942052559335596,-0.784767700193382,-0.28633806954917745,-1.2535325454343889,-1.15401000702587,-1.1733171569105505,-0.28633806954917745,0.18244888889971766,-1.4041707429161672,0.45424311759344704,-0.5018803153695706,-1.032853975813918,-1.032853975813918,-0.6329679234556219,-0.5726295473857733,2.203896682053391,-0.9332547471096878,-0.9332547471096878,-0.9332547471096878,-0.8530393585858489,-0.0796658825938731,-0.0796658825938731,0.9505280461447673,0.9505280461447673,-0.8337322087011687,-1.2141525953996712,-0.34648065792297816,-1.3136751338081896,-0.4834232601570606,-1.3294245751033593,1.4322098266151695,0.39506034728332795,-0.830149191652827,-0.830149191652827,-1.3904959973411801,-1.490018535749699,-0.5228240598644872,1.182916258821659,-1.7185482186902314,-1.625995798198291,0.69607974820137,0.69607974820137,-0.5291297907347849,-0.4523686602946821,-0.5571709508102232,2.1138930423121605,2.1138930423121605,2.1138930423121605,0.9627422029292578,0.9998917730295355,0.805199219868119,-0.7249725893505476,-0.7249725893505476,-0.7249725893505476,-0.644757200826709,-0.6254500509420283,-0.5527133784194707,1.3635572221464707,0.32640774281462953,-0.9902754186949538,-0.17359713672987637,2.043610481942352,-1.221613311437619,0.5383808481225375,0.392975844536958,1.0648888067891085,-1.296992749887407,-1.296992749887407,-1.296992749887407,0.5129573401849162,-0.8117747371597577,-0.8117747371597577,-0.8117747371597577,-0.16524983688719358,-0.16524983688719358,1.4124440501332258,0.3537803474055625,-0.9709517299391116,-0.9709517299391116,-0.9709517299391116,2.1691825332735575,-0.11438003137370663,-0.9599199800544299,-0.11438003137370663,0.4932407083708296,0.8705964044318258,-0.7160232273840591,-0.6165006889755394,-0.7160232273840591,-0.7160232273840591,0.17589436652928217,-1.4107252652866022,1.2412322087306176,-1.1206493479458979,-1.1206493479458979,-1.0211268095373789,-1.0211268095373789,-1.0572168854479078,1.0941702597331049,-0.41412243242759667,-1.2677112969434112,-1.1641643006173465,1.2603858992955224,-1.1014956573809933,-1.1014956573809933,0.20321915601643425,-0.7653432483956693,-1.7325377242808813,-1.633015185872362,1.0648888067891085,-1.296992749887407,-1.296992749887407,-1.296992749887407,0.015127575489085464,-1.563443140491707,-0.5851488473079834,-0.5851488473079834,-1.5722432485618705,-1.6605212320531102,-1.4888185418235333,-0.057047522069248346,-1.643667153885132,-1.643667153885132,-1.643667153885132,-1.643667153885132,-1.643667153885132,-1.7037739319535534,-1.5441446154766127,-1.5441446154766127,-1.5441446154766127,-1.643667153885132,-0.029106272313961283,1.2603858992955224,-1.093446741545902,-1.001973118972474,0.20321915601643425,1.6495046028800855,-0.34648065792297816,-1.3136751338081896,-1.2141525953996712,1.0648888067891085,-1.296992749887407,-1.296992749887407,-1.296992749887407,0.19340149420752692,-0.6668417795212108,-0.6668417795212108,-0.7248830243667937,1.8203820530467727,0.7745243421920495,0.040637757929366705,-0.7248830243667937,-0.7248830243667937,-0.10085200934505835,0.1287058401490203,0.5798317890306334,-0.7284433750639848,-1.695637850949196,1.4500866044757474,-0.9037460363656777,0.4129371251439059,-0.05820608768495389,-0.05820608768495389,0.9364161970345063,1.2226433211424952,0.35598203798921274,0.35598203798921274,1.9266789359575265,0.7789143989149165,-0.6530107158910456,-0.6530107158910456,-0.6530107158910456,0.7216983998069015,0.6717213614536289,0.20057814862476872,0.6517040975063815,1.0648888067891085,-1.296992749887407,0.4238921116194868,0.4238921116194868,-0.15517586823754076,-1.0007158169182648,-0.9504212107922441,0.18244888889971766,-0.8911779196767051,-0.8911779196767051,-0.8911779196767051,1.7820212410863447,1.7820212410863447,0.43355415766796884,-0.8277454571787151,-0.3677311666460562,-1.2885225073583568,-0.874026428232185,-0.874026428232185,-0.020437563716370552,-0.020437563716370552,1.2795395898604272,-0.22875310230027382,0.35031487755675367,0.35031487755675367,-0.3860572156783468,-1.314523003843863,-1.2150004654353446,1.2795395898604272,-0.22875310230027382,0.22237284658133843,-1.5374144180061524,-0.34648065792297816,-1.2141525953996712,-1.3136751338081896,0.44632881265202834,-1.1402908191638557,-1.1402908191638557,-1.1402908191638557,-1.0600754306400166,-1.0407682807553365,-1.0768583566658652,-0.28670195464804105,0.1644239942335721,-0.8290969778177358,-0.8290969778177358,-0.8290969778177358,-0.7488815892938975,0.6631670610392818,0.6631670610392818,1.1826278464121334,1.1826278464121334,1.1826278464121334,0.18547166646193422,-1.4011479653539498,-1.3016254269454313,2.0245057475123427,2.0245057475123427,-0.054181258840915285,-0.9077701233567298,-0.9077701233567298,-0.9077701233567298,-0.8235302769153455,-0.8443376608587395,1.2412322087306176,-1.1126004321108074,-1.0211268095373789,-1.0572168854479078,0.9347216304174675,-0.9282229288682129,-0.08268298018748955,-0.08268298018748955,2.2463456274272775,1.9394188768038239,1.1371986047844829,1.4802884812651271,1.4802884812651271,0.07293524349690186,0.07293524349690186,-0.932701899017638,-0.932701899017638,2.3678216273840706,-0.6698072633704882,-0.7693298017790072,-0.7693298017790072,0.555402275565667,-0.7693298017790072,0.6633270425938343,0.6633270425938343,1.1144529914754475,1.1144529914754475,0.7229342370780105,0.7229342370780105,-1.0786509069141574,-1.028356300788137,-0.4669057968862054,-0.4669057968862054,0.9953519995723605,-0.33797897832224116,1.0253582419708127,1.0253582419708127,0.38668306762960875,1.2603858992955224,-1.1014956573809933,-1.1014956573809933,-1.1014956573809933,0.20321915601643425,-1.001973118972474,0.4223349324751567,-1.2100868675823686,-1.2100868675823686,-1.2100868675823686,-1.221613311437619,-1.221613311437619,-1.221613311437619,-0.2389677557843447,-1.2649846404197802,-0.41944469173905635,0.10530057478603948,0.2128720290296499,0.1967741973594682,0.1967741973594682,0.950840523466763,0.19340149420752692,-1.3399930464973555,-0.6668417795212108,-0.3838595090621282,-1.2793108591093423,-1.1797883207008235,-0.3838595090621282,-0.3838595090621282,-1.2793108591093423,-1.2793108591093423,-1.4396639996242415,2.329514246254263,0.5170948944358578,0.045951681606997356,1.204087641321053,1.204087641321053,1.204087641321053,1.2795395898604272,-0.22875310230027382,-0.22875310230027382,-1.5629013985442473,1.3071992950054419,-1.2016264149299907,0.38096875896834775,-0.3520620083317221,1.8450016953864998,0.5323620830187631,0.2704745285475534,-0.9547350103886019,-1.2895552826094494,-0.9983735769114738,-0.9983735769114738,-0.9983735769114738,-0.9983735769114738,-0.9983735769114738,-0.9983735769114738,-0.9983735769114738,-0.9983735769114738,-0.8032200664547259,-0.8032200664547259,0.8258561690988532,0.7758791307455808,0.09767195367346929,0.09767195367346929,0.1812936203832713,-1.185366579479584,-0.5228240598644872,-1.490018535749699,0.18547166646193422,-1.4011479653539498,-1.3016254269454313,0.8841937924025309,0.8841937924025309,-0.6695923336411285,-1.203887580202646,-1.1455440582415342,-0.35432317360437665,2.3693232767243595,1.251131855771833,-0.34648065792297816,-1.3136751338081896,-1.2141525953996712,1.4117792233459379,-0.8866698708325876,0.3746297440140967,0.19559942884102588,-1.3869957450573136,-0.6922355092178027,-1.5159516810529508,-1.6277632984699055,-0.4182237837609759,-0.48995896197304223,-1.3096506758906443,-1.2141525953996712,-1.5858117662852818,-1.5520184277744489,-1.5520184277744489,-0.5258468374267039,-1.4930413133119158,1.8197740776483011,1.1304140483604177,1.1304140483604177,-0.18136489328355043,0.8006882125690259,-1.281222150301012,-1.281222150301012,1.4453773917355484,1.2603858992955224,-1.1014956573809933,-1.1014956573809933,-1.1014956573809933,-0.24790679286517853,-1.281222150301012,-1.281222150301012,0.10376857260530024,0.10376857260530024,-1.6832729944635827,0.7875487879690442,0.7375717496157711,-0.6657108896482814,-0.6657108896482814,-0.6657108896482814,-0.011137073540627658,-0.011137073540627658,0.7669459547245602,0.7669459547245602,-1.2793083052839336,-1.2793083052839336,-0.30808937148117665,0.8371167376112658,0.8371167376112658,-1.0386171398080979,-0.875364390181408,-0.875364390181408,-0.9347723947618531,-0.9347723947618531,-0.6599130398590057,-1.6271075157442172,-1.4451438177487137,-0.7649270067744878,-0.7649270067744878,0.0886618577413261,0.539787806622939,-0.6892127316555857,-1.5129289034907338,-1.4134063650822146,-1.1640083768284752,-0.26855702678126125,-1.1640083768284752,-1.4362973665331362,-1.3814973809142397,-1.3210954238369408,0.9685220862401027,-1.3933594704364132,-1.3933594704364132,-1.3933594704364132,-0.5958958841066149,-1.4913472341538294,-0.406769876803163,-0.406769876803163,-1.3022212268503766,-1.3022212268503766,-1.2026986884418587,0.537546348598331,-0.4250422681958176,0.291792474767505,2.16459883869583,1.3616263479865265,2.5237867656181265,2.5237867656181265,2.5237867656181265,0.5080374834707122,0.2693641406736493,-1.3630576593838761,-1.263535120975357,-1.1907984484528,-1.3628074222605537,2.1398135410740364,-0.997337888089041,-0.997337888089041,0.30737692530838584,-1.570901783772529,0.31359306720397623,-1.2730265646119074,1.089740577148146,-0.2640582145355022,-1.1095981632162262,1.2795395898604272,-1.0823419668160883,-1.0823419668160883,-1.0823419668160883,-0.22875310230027382,-0.22875310230027382,-1.3692211421748401,-1.300770269262451,-1.3692211421748401,-0.4296802445441972,-1.3251315945914115,1.2412322087306176,-1.1126004321108074,-1.2708076502845203,-1.2124641283234088,0.4105037498194313,-1.1761158819964532,-1.1761158819964532,-0.35239971016130517,-1.1761158819964532,-1.0959004934726146,-0.35239971016130517,0.5323620830187631,0.2704745285475534,-1.0542575487971206,-1.0542575487971206,-1.7124259109385058,-0.6523565659581229,0.18244888889971766,-1.2655994755342068,-0.34648065792297816,-1.3136751338081896,-1.2141525953996712,-0.5345862646378148,-1.3583024364729621,0.016406679224983792,-1.4080392883863802,-1.3476373313090817,0.27776377717682293,1.0618660292268916,-0.4248254052354082,-1.3920198811206197,-1.2924973427121011,-0.20826780790107657,-1.1754622837862878,0.6104784946186705,1.0428188710133377,-1.2978858610924786],\"y\":[-2.613956888081115,-2.1830187202025795,-2.230029032468978,-2.230029032468978,-1.5775755685943575,-2.230029032468978,-2.1818159193709583,-1.7131876390008767,-2.2159852903324095,-1.563531826457788,-1.7303524884606185,-2.212576445719026,-2.220179334431496,-1.9401624730212537,-2.2241356291409216,-2.2241356291409216,-2.2241356291409216,-2.627906651379374,-2.2439787957672377,-2.2439787957672377,-1.5915253318926168,-2.2439787957672377,-2.4352130248281783,-2.620497719003474,-2.236569863391337,-2.236569863391337,-2.236569863391337,-1.9550541648855853,-0.8829989306419679,-2.2331257481458615,-2.2331257481458615,-2.0131396358163443,-2.0131396358163443,-1.58925235906774,-1.9490427902560592,-2.2417058229423614,-2.2417058229423614,-1.4734876050851045,-1.6413029688174168,-1.6413029688174168,-1.6413029688174168,-1.6187168906113705,-1.6391261663193808,-1.3730641701914674,-2.0496550584899067,-2.26458587132541,-1.7289257143353134,-2.209057050485702,-1.694700710904732,-2.2110933656351985,-1.694700710904732,-2.225346513487265,-1.7131876390008767,-2.2159852903324095,-1.1612371569978261,-1.6434611142562345,-1.9320281300653832,-2.224691162751687,-1.572237698877065,-1.5550432338502251,-2.6086190183638216,-2.8235498311993252,-1.3207755781108947,-1.359102793360685,-1.359102793360685,-1.359102793360685,-0.682804605319626,-1.9401624730212537,-2.2108351108617277,-1.5716821652663004,-2.7010388938804817,-1.7771968767055197,-1.5919077100373147,-2.643348689576065,-2.858279502411569,-1.9320281300653832,-2.218040903612088,-1.572237698877065,-2.6086190183638216,-2.8235498311993252,-1.940332427380344,-2.661578705133248,-2.2457171903742585,-2.252367449513855,-2.252367449513855,-2.6362953051259916,-2.719458827762218,-2.719458827762218,-2.2167047256031625,-1.5642512617285418,-1.7344807683447547,-1.9413854625202147,-2.4235740154618215,-2.2167047256031625,-1.7344807683447547,-1.5642512617285418,-1.7316073038164488,-2.2204815202144546,-1.5680280563398337,-2.2204815202144546,-2.2280844089269234,-1.7344807683447547,-2.2167047256031625,-1.7131876390008767,-2.2159852903324095,-1.563531826457788,-1.3375660390909194,-1.3375660390909194,-1.3375660390909194,-2.2145465801643454,-2.046731216432032,-1.699634404237878,-2.2097044780800026,-1.9303419636728945,-0.9438311779409333,-1.4260551351993418,-1.7380776239516356,-2.2070010629308503,-1.7380776239516356,-1.5678481173354228,-1.7175039298785117,-0.6518801908055806,-0.6575991178941636,-0.6575991178941636,-2.046731216432032,-2.539092107545956,-0.7931509056415236,-1.2959485569730556,-0.6434950930984346,-1.0609859409569204,-0.7011955097686025,-0.7080895588616892,-0.7080895588616892,-1.3536489736432242,-2.046731216432032,-2.539092107545956,-0.7739858349198664,-0.7739858349198664,-0.7739858349198664,-0.7815887236323359,-0.7815887236323359,-0.7815887236323359,-0.7815887236323359,-0.7616379462135446,-1.9296225284021402,-2.2222855610884436,-2.2222855610884436,-2.2222855610884436,-1.9550541648855853,-2.226749555908201,-2.226749555908201,-2.226749555908201,-0.6148080381039429,-1.7146263491689409,-2.217424000500472,-1.5649705366258513,-1.5649705366258513,-1.7146263491689409,-2.217424000500472,-2.2232097932474617,-1.9348879324277952,-2.2232097932474617,-2.2232097932474617,-1.5707563293728408,-1.7131876390008767,-2.2159852903324095,-1.563531826457788,-1.7131876390008767,-2.2159852903324095,-1.563531826457788,-1.9312411775746148,-2.223904210260917,-2.223904210260917,-2.223904210260917,-2.2315070989733865,-1.5714507463862957,-2.2326795243815396,-2.2326795243815396,-2.2326795243815396,-2.1943523091317503,-2.748374670192954,-1.7382575629560464,-2.2204815202144546,-1.5680280563398337,-2.2280844089269234,-1.7382575629560464,-1.0095857950427867,-1.3022488277290902,-1.935426764095214,-2.4187000450409766,-1.5756363329068956,-1.5756363329068956,-0.6506626356170911,-0.6563815627056743,-2.4392372756638956,-2.240594114227055,-2.240594114227055,-2.240594114227055,-2.2481970029395235,-2.624521969839191,-2.624521969839191,-2.707685492475417,-2.707685492475417,-1.5881406503524333,-1.5642512617285418,-1.7344807683447547,-2.2167047256031625,-1.694457316926123,-2.2157157025726817,-2.19380880590289,-2.66940236323589,-1.5883656542946685,-1.5883656542946685,-0.9910076503816133,-1.6434611142562345,-1.1612371569978261,-1.2723109077196946,-0.9170063841863652,-0.7479606883117563,-2.6883055811056553,-2.6883055811056553,-1.6072688721644341,-1.6075126621179232,-1.5767738888583995,-2.9750131891258813,-2.9750131891258813,-2.9750131891258813,-2.709449839535845,-2.051084608038568,-2.866690448066932,-0.9005546553136349,-0.9005546553136349,-0.9005546553136349,-0.9081575440261046,-0.248101191439014,-0.2549952405321002,-0.9581979059996583,-1.433791463332658,-0.9919076999868627,-2.274492623194801,-2.973901605622665,-0.515686954643965,-1.3252834850219435,-0.4567302574037542,-1.6085723080240297,-1.655582620290429,-1.655582620290429,-1.655582620290429,-2.2780130164030745,-1.8494297713364718,-1.8494297713364718,-1.8494297713364718,-1.0413642930961358,-1.0413642930961358,-1.5818695157068647,-2.055423935048717,-1.6268406899821157,-1.6268406899821157,-1.6268406899821157,-2.437057319436664,-2.622342013611961,-2.2251136397206293,-2.622342013611961,-0.5990537057428607,-0.1077321046661443,-0.4003951373524471,0.2520583265221742,-0.4003951373524471,-0.4003951373524471,-1.2934542487321439,-1.5861172814184468,-2.1818159193709583,-2.228826231637357,-2.228826231637357,-1.5763727677627362,-1.5763727677627362,-1.5591783027358954,-1.4659190231322725,-1.8968571910108092,-1.512929335398672,-0.8538256123844534,-2.1830187202025795,-2.230029032468978,-2.230029032468978,-2.8288877009166176,-0.5868902077021845,-1.0691141649605926,-0.4166607010859719,-1.6085723080240297,-1.655582620290429,-1.655582620290429,-1.655582620290429,-0.45872034567191605,-0.7380828600790241,-0.5923255732049808,-0.5923255732049808,-1.0515682941829847,-1.043780400687692,-0.42571586686675217,-0.7820319677595707,-1.0746950004458726,-1.0746950004458726,-1.0746950004458726,-1.0746950004458726,-1.0746950004458726,-1.0203552929734008,-0.42224153657125185,-0.42224153657125185,-0.42224153657125185,-1.0746950004458726,-2.0805961128622203,-2.1830187202025795,-2.2167285141897843,-1.5775755685943575,-2.8288877009166176,-1.6594355809909196,-1.7344807683447547,-2.2167047256031625,-1.5642512617285418,-1.6085723080240297,-1.655582620290429,-1.655582620290429,-1.655582620290429,-2.046731216432032,-2.539092107545956,-2.539092107545956,-2.2536793042875445,-2.2240502517210867,-2.036932132706821,-1.7952010053352785,-2.2536793042875445,-2.2536793042875445,-2.056433121127881,-2.6376071598996815,-2.852537972735185,-0.4362211370960205,-0.9184450943544291,-2.194931420012405,-2.2286412139996092,-2.6705249773454036,-2.6258695878909393,-2.6258695878909393,-1.0887612568627847,-2.731985462827892,-1.4774748850525052,-1.4774748850525052,-1.6768413920120382,-2.141950751871526,-2.2581926941281214,-2.2581926941281214,-2.2581926941281214,-2.029626507002104,-2.6867759391947224,-2.642120549740258,-2.857051362575761,-1.6085723080240297,-1.655582620290429,-0.7812138447650246,-0.7812138447650246,-0.9129811349643018,-0.515752761072971,-0.5345831323233571,-1.0095857950427867,-2.2432364270939615,-2.2432364270939615,-2.2432364270939615,-1.8669085182093879,-1.8669085182093879,-2.6718196721605625,-1.5735884981924992,-1.710856639091862,-2.218284243655248,-2.244313495145317,-2.244313495145317,-2.628241350757454,-2.628241350757454,-2.184221521034201,-2.6151596889127378,-2.483392398713459,-2.483392398713459,-1.7169829692668095,-2.216651481619684,-1.5641980177450627,-2.184221521034201,-2.6151596889127378,-2.8300905017482396,-0.8288807706663537,-1.7344807683447547,-1.5642512617285418,-2.2167047256031625,-1.934929766791588,-2.22759279947789,-2.22759279947789,-2.22759279947789,-2.2351956881903594,-1.5751393356032692,-1.5579448705764287,-2.611520655090027,-2.826451467925531,-2.2471349451494125,-2.2471349451494125,-2.2471349451494125,-2.254737833861882,-2.5049451355839225,-2.5049451355839225,-2.367528220362995,-2.367528220362995,-2.367528220362995,-1.3563789170552123,-1.649041949741515,-0.9965884858668934,-1.8904221021364183,-1.8904221021364183,-2.626122336439025,-2.242194480826888,-2.242194480826888,-2.242194480826888,-2.24314711039976,-1.5725465519254267,-2.1818159193709583,-2.215525713358163,-1.5763727677627362,-1.5591783027358954,-0.5242504215655757,-0.5203051216604923,-0.9175334955518234,-0.9175334955518234,-2.254144310319905,-2.9711217314064498,-2.7229138739100875,-2.74095303899674,-2.74095303899674,-0.6748110551087911,-0.6748110551087911,-1.153391380869903,-1.153391380869903,-2.4495313263012455,-1.598434700989784,-2.2508881648644046,-2.2508881648644046,-2.6794714099310055,-2.2508881648644046,-2.5030487302772633,-2.5030487302772633,-2.7179795431127682,-2.7179795431127682,-2.508698355298915,-2.508698355298915,-0.510858644675825,-0.5296890159262109,-2.269879588128489,-2.269879588128489,-2.711497648045042,-1.5923758729020328,-2.5276897785629995,-2.5276897785629995,-2.6538074437406256,-2.1830187202025795,-2.230029032468978,-2.230029032468978,-2.230029032468978,-2.8288877009166176,-1.5775755685943575,-1.9348879324277952,-2.2232097932474617,-2.2232097932474617,-2.2232097932474617,-0.515686954643965,-0.515686954643965,-0.515686954643965,-1.743371077326967,-2.2059563903152264,-2.603184764206557,-0.7751020874084886,-0.10934810525467363,-0.13594914181306195,-0.13594914181306195,-1.172330461299819,-2.046731216432032,-2.20124606188515,-2.539092107545956,-1.7160650593370046,-2.218862710668536,-1.566409246793915,-1.7160650593370046,-1.7160650593370046,-2.218862710668536,-2.218862710668536,-0.6698265823243664,-2.4471257246380023,-2.6770658082677623,-2.632410418813298,-2.368875838414744,-2.368875838414744,-2.368875838414744,-2.184221521034201,-2.6151596889127378,-2.6151596889127378,-0.6620876014002689,-1.6296540245758178,-2.2168381027804673,-1.9308253292337623,-2.6074162175322013,-2.23388199316947,-1.940332427380344,-2.661578705133248,-1.580541996192025,-0.5114203795340367,-0.9247333525849419,-0.9247333525849419,-0.9247333525849419,-0.9247333525849419,-0.9247333525849419,-0.9247333525849419,-0.9247333525849419,-0.9247333525849419,-0.7739108614949429,-0.7739108614949429,-2.0361673379244625,-2.693316770117079,-1.4566680468101436,-1.4566680468101436,-1.9956905239652871,-2.2109561928121093,-1.1612371569978261,-1.6434611142562345,-1.3563789170552123,-1.649041949741515,-0.9965884858668934,-1.1815134598514507,-1.1815134598514507,-0.6483627200535862,-0.509897099032588,-0.5154269520037795,-0.9004752137843218,-2.4496256258864437,-2.9175379530400085,-1.7344807683447547,-2.2167047256031625,-1.5642512617285418,-2.1925258183491607,-1.569888201714099,-2.668119375682161,-1.212522831331833,-1.4985356048785392,-0.7718586899544265,-1.295229282075746,-0.7108103758684854,-1.7139070742716314,-1.693334133481844,-2.2100544664635664,-1.5642512617285418,-0.6606488912322052,-0.4428362447273163,-0.4428362447273163,-0.8144440349854011,-1.29666799224381,-2.9565433003023878,-2.532380552104078,-2.532380552104078,-1.616016789743955,-1.6076372637330945,-0.5119436780825144,-0.5119436780825144,-1.6416759204927982,-2.1830187202025795,-2.230029032468978,-2.230029032468978,-2.230029032468978,-2.6139568880811157,-0.5119436780825144,-0.5119436780825144,-2.467909946408826,-2.467909946408826,-0.7443638327048748,-2.033761736261219,-2.690911168453837,-2.2573951569900332,-2.2573951569900332,-2.2573951569900332,-1.4360291604705036,-1.4360291604705036,-2.5095557224028933,-2.5095557224028933,-2.218862871041981,-2.218862871041981,-1.7299886546439753,-0.993764555314915,-0.993764555314915,-0.5133726587873582,-0.7503620448352221,-0.7503620448352221,-1.4133597145970866,-1.4133597145970866,-0.40302657597461145,-0.88525053323302,-0.30648937116351693,-2.2511646486822334,-2.2511646486822334,-2.635092504294371,-2.8500233171298732,-1.1186518119668516,-1.6420224040881712,-0.9895689402135498,-0.8729843753980926,-0.37018672406656083,-0.8729843753980926,-0.30704490477428187,-0.31048619814027334,-0.3162111514955462,-0.40578929305629396,-0.45279960532269276,-0.45279960532269276,-0.45279960532269276,-0.9960879419305697,-1.4988855932621021,-1.7146263491689409,-1.7146263491689409,-2.217424000500472,-2.217424000500472,-1.5649705366258513,-1.9406579854721022,-2.036074834998742,-2.6634334283975325,-2.7911377643660447,-2.715031289057719,-2.4448464495195674,-2.4448464495195674,-2.4448464495195674,-2.3311034334455822,-1.363112058842333,-1.6514339196619992,-0.9989804557873787,-1.0058745048804647,-0.9927464192638054,-2.4352130248281783,-2.236569863391337,-2.236569863391337,-2.835428531838977,-0.43474743579309966,-0.6952946160526378,-0.98795764873894,-0.4605623705188256,-0.9061436131701435,-0.5089152392788127,-2.184221521034201,-2.2312318333006,-2.2312318333006,-2.2312318333006,-2.6151596889127378,-2.6151596889127378,-0.3112571132866206,-0.3036815483626992,-0.3112571132866206,-1.7131876390008767,-2.2159852903324095,-2.1818159193709583,-2.215525713358163,-0.5125976809880279,-0.5181275339592196,-1.9326800481161226,-2.225343080802425,-2.225343080802425,-1.7019724886811056,-2.225343080802425,-2.2329459695148945,-1.7019724886811056,-1.940332427380344,-2.661578705133248,-2.2329954600666464,-2.2329954600666464,-0.641631919409841,-0.6494450804286019,-1.0095857950427867,-0.6148080381039429,-1.7344807683447547,-2.2167047256031625,-1.5642512617285418,-1.1283619428938105,-1.65173253501513,-1.423166347889113,-0.30881943693453423,-0.31454439028980713,-1.138972937998319,-1.2617791860116048,-0.8629087053766012,-1.3451326626350102,-0.6926791987603893,-0.39004114324237477,-0.8722651005007832,-1.945237930292029,-2.904456451568736,-0.5108972413590035],\"z\":[0.4354924054368159,-0.9969556355645793,0.6302574289035486,0.6302574289035485,0.13830067748669872,0.6302574289035489,-1.0135492450790198,-0.7975248186857737,0.4365126566942142,-0.05544409472263591,-0.6275448901294459,0.6262240441722362,0.599735666399221,-0.9020222596827625,0.5489531672453295,0.5489531672453295,0.5489531672453295,0.6279406636227531,0.8227056870894884,0.8227056870894884,0.33074893567263847,0.8227056870894884,-1.1132352800854781,0.5257284539763387,0.7204934774430743,0.7204934774430743,0.7204934774430743,-0.9087366213948658,0.3541597793803229,0.5416027524456353,0.5416027524456353,-0.03459175341834304,-0.03459175341834304,0.299391438652884,-0.6293518057685434,0.7913481900697338,0.7913481900697338,-1.300620819434946,0.06804337378024734,0.06804337378024734,0.06804337378024734,-1.2222176434063907,0.5114909316868069,-1.0157045747765394,0.2102303975950023,0.11075210545327482,-0.6833884597004166,0.5776711427329843,-0.7546799668650527,0.48739417897932485,-0.7546799668650527,0.43428192355004247,-0.7975248186857737,0.4365126566942142,-1.1559522000899922,0.09781673421169074,-0.8640827934785444,0.5566172023597319,0.06466045094288202,0.07261871431422005,0.36185217889299665,0.2623738867512698,-1.4109407451464149,0.24652413053637157,0.24652413053637157,0.24652413053637157,-0.21085047985287303,-0.9020222596827625,0.6022009225578641,0.05699641582847907,0.6399840445818145,-0.21802785082200488,0.5443049591903594,0.840976060012941,0.7414977678712138,-0.8640827934785444,0.5832410800159995,0.06466045094288202,0.36185217889299665,0.2623738867512698,-0.7495183009095817,0.320837802665556,0.9650578224619993,0.9384339448057315,0.9384339448057315,0.7436689213389956,0.6465342281503351,0.6465342281503351,0.4464378476651184,-0.04551890375173211,-0.8073310866365643,-0.8100053977515665,0.44388688478704563,0.4464378476651184,-0.8073310866365643,-0.04551890375173211,-0.7286032751049549,0.49854178154045975,0.006585030123610146,0.49854178154045975,0.47205340376744503,-0.8073310866365643,0.4464378476651184,-0.7975248186857737,0.4365126566942142,-0.05544409472263591,-0.16543060194659875,-0.16543060194659875,-0.16543060194659875,0.41666448723367494,-0.9519997059815183,-0.680953466587111,0.5866029296142904,-0.8873448215365217,-1.7094494275267114,-0.45568049322502907,-0.7577095567445826,0.5493071328696347,-0.7577095567445826,0.00410262614024969,-0.7379780978228881,0.6610630988936691,0.641138421983659,0.641138421983659,-0.9519997059815183,0.2664522660996681,-1.528910742285813,-0.2948732669058258,-0.7868300183226759,-1.2494157158029133,-0.32067247138148725,-0.34469125998533495,-0.34469125998533495,0.17128428003536267,-0.9519997059815183,0.2664522660996681,0.9636368904227728,0.9636368904227728,0.9636368904227728,0.9371485126497578,0.9371485126497578,0.9371485126497578,0.9371485126497578,1.01702014561856,-0.8972700125074251,0.5234299833308518,0.5234299833308518,0.5234299833308518,-0.9087366213948658,0.5850143994421108,0.5850143994421108,0.5850143994421108,0.5735633831141299,-0.7776766492252349,0.45636082615475354,-0.035595925262096845,-0.035595925262096845,-0.7776766492252349,0.45636082615475354,0.5361805128817481,-0.8996440763485725,0.5361805128817481,0.5361805128817481,0.04422376146489756,-0.7975248186857737,0.4365126566942142,-0.05544409472263591,-0.7975248186857737,0.4365126566942142,-0.05544409472263591,-0.8749394390635261,0.5457605567747511,0.5457605567747511,0.5457605567747511,0.5192721790017357,0.05380380535790109,0.6668231068295694,0.6668231068295694,0.6668231068295694,-0.9906417688532171,0.4697144844097663,-0.755227152761222,0.49854178154045975,0.006585030123610146,0.47205340376744503,-0.755227152761222,-1.628655936107465,-0.20795594026918848,-0.8171958904345429,0.43291721207898776,0.11154735398688399,0.11154735398688399,0.6442659411025184,0.6243412641925086,-1.0577174876126996,0.7760112699158538,0.7760112699158538,0.7760112699158538,0.7495228921428391,0.5812462464491186,0.5812462464491186,0.48411155326045785,0.48411155326045785,0.2840545184990039,-0.04551890375173211,-0.8073310866365643,0.4464378476651184,-0.7888740685337716,0.4327934756817114,-0.84809768333244,0.4287714888725489,0.28715862971883865,0.28715862971883865,-0.3941400172051596,0.09781673421169074,-1.1559522000899922,-1.749683708310658,0.38350672754117177,-0.08366444426488519,0.6895566560014896,0.6895566560014896,0.5479437968477796,0.5505488859001992,0.6091498155316519,1.0133599888964189,1.0133599888964189,1.0133599888964189,0.756019837194391,0.28465961691423347,0.8575335604837905,1.0508304406871607,1.0508304406871607,1.0508304406871607,1.024342062914146,0.5588736892703113,0.5348549006664638,-1.4621654951685208,-0.18529632296353177,0.21829532461214232,1.4804077499438992,0.8289393834777486,-0.2794479674849102,0.6473117736146805,0.050852940863955386,-1.3621703585324474,0.2650427059356812,0.2650427059356812,0.2650427059356812,0.8070234091141115,1.157367301377252,1.157367301377252,1.157367301377252,0.7023362899410752,0.7023362899410752,-1.005952635871069,0.2780208698949564,0.628364762158097,0.628364762158097,0.628364762158097,-1.08779174549667,0.5511719885651469,0.7991847673444176,0.5511719885651469,2.36048143071762,2.658223921308707,4.078923917146981,3.5869671657301327,4.078923917146981,4.078923917146981,-0.5633479033976947,0.8573520924405823,-1.0135492450790196,0.613663819389109,0.613663819389109,0.12170706797225865,0.12170706797225865,0.12966533134359678,-1.1845833512068131,0.24786468979457935,0.44262971326131495,-0.02270316049926773,-0.9969556355645798,0.6302574289035489,0.6302574289035489,0.33601411329508674,-1.0792934251051576,0.17447550919652527,-0.3174812422203248,-1.3621703585324474,0.2650427059356812,0.2650427059356812,0.2650427059356812,-1.4571456648688705,0.016802086281940465,-0.9383043017754483,-0.9383043017754483,0.4058943496901056,0.31531536580771263,-0.19255791235181363,-1.1692323509760183,0.2514676448622587,0.2514676448622587,0.2514676448622587,0.2514676448622587,0.2514676448622587,0.34725580457373717,-0.2404891065545909,-0.2404891065545909,-0.2404891065545909,0.2514676448622587,-0.13454880688504828,-0.9969556355645798,0.6835051842160836,0.138300677486699,0.33601411329508674,-1.3851035763073287,-0.8073310866365643,0.4464378476651184,-0.04551890375173211,-1.3621703585324474,0.2650427059356812,0.2650427059356812,0.2650427059356812,-0.9519997059815183,0.2664522660996681,0.2664522660996681,0.956532041582814,-0.7312371339260902,0.089414782404793,0.28226506547174796,0.956532041582814,0.956532041582814,-0.33986703147915165,0.761767018116078,0.662288725974351,-0.8504140372999712,0.4033548970017108,-0.8326103144522956,0.8478505053283673,0.4442588577526928,0.5998377265490975,0.5998377265490975,0.47784532251165024,0.7486875524114049,0.7062309309847011,0.7062309309847011,-1.1449763467832308,0.16841965013639362,1.0187979019247992,1.0187979019247992,1.0187979019247992,0.19285795843672301,0.6684540096616587,0.8240328784580632,0.7245545863163361,-1.3621703585324474,0.2650427059356812,-0.28747014066777626,-0.28747014066777626,-0.28981373962084345,-0.04180096084157343,-0.11431466099030184,-1.628655936107465,0.8124641112971763,0.8124641112971763,0.8124641112971763,-0.7734805486863616,-0.7734805486863616,0.4621202190340361,0.32846562325166434,-0.7462237448409532,0.4682285756794812,0.8273231354970401,0.8273231354970401,0.6325581120303044,0.6325581120303044,-0.9803620260501394,0.4520860149512536,0.4544296139043206,0.4544296139043206,-0.799236056096172,0.4457033038839454,-0.046253447532904765,-0.9803620260501394,0.4520860149512536,0.35260772280952674,-0.4012829267639365,-0.8073310866365643,-0.04551890375173211,0.4464378476651184,-0.8240523698859097,0.5966476259523678,0.5966476259523678,0.5966476259523678,0.5701592481793525,0.10469087453551736,0.11264913790685563,0.4018826024856318,0.3024043103439055,0.8662473184553796,0.8662473184553796,0.8662473184553796,0.8397589406823642,0.6541426646444137,0.6541426646444137,0.6761694928947775,0.6761694928947775,0.6761694928947775,-1.2458911259608532,0.17480886987742414,-0.3171478815394259,-0.8734062273061732,-0.8734062273061732,0.6033245970283984,0.7980896204951341,0.7980896204951341,0.7980896204951341,0.7982251203783859,0.3140911324496219,-1.0135492450790196,0.6669115747016435,0.12170706797225865,0.12966533134359678,-0.9725754730092898,0.021002532448680087,-0.2270102463305902,-0.2270102463305902,-0.48733747367803565,0.5978912779541378,0.8133064150875137,0.9430642426546495,0.9430642426546495,-1.4705185796906137,-1.4705185796906137,-0.2040552747074624,-0.2040552747074624,-0.9157027399443145,0.4260692661673885,0.9180260175842386,0.9180260175842386,0.5676821253210982,0.9180260175842386,0.7256045930705689,0.7256045930705689,0.6261263009288428,0.6261263009288428,0.7059213637732727,0.7059213637732727,-0.10931925171519616,-0.1818329518639246,1.1800280494109059,1.1800280494109059,0.7842710105130426,0.7303079324964802,0.9679233955999401,0.9679233955999401,0.9852630259441695,-0.9969556355645798,0.6302574289035489,0.6302574289035489,0.6302574289035489,0.33601411329508674,0.138300677486699,-0.8996440763485725,0.5361805128817481,0.5361805128817481,0.5361805128817481,-0.2794479674849102,-0.2794479674849102,-0.2794479674849102,-0.7942036185691848,0.5348950298860261,0.28688225110675575,1.215775649375387,0.7770666532710717,0.6705711426460027,0.6705711426460027,0.9677628705961167,-0.9519997059815183,0.4699122425462101,0.2664522660996681,-0.757828479764696,0.47620899561529234,-0.01574775580155765,-0.757828479764696,-0.757828479764696,0.47620899561529234,0.47620899561529234,-0.149752509073595,-0.948889958973195,0.5344949062922184,0.6900737750886219,0.6947609729947564,0.6947609729947564,0.6947609729947564,-0.9803620260501394,0.4520860149512536,0.4520860149512536,-0.25651800517077145,-1.3716756767817309,0.5666474705015591,-0.8806764029929854,0.3452585693785559,-1.019888853339461,-0.7495183009095817,0.320837802665556,0.17922494351184548,-0.33830881915453237,1.0125366375816325,1.0125366375816325,1.0125366375816325,1.0125366375816325,1.0125366375816325,1.0125366375816325,1.0125366375816325,1.0125366375816325,1.8097926480820439,1.8097926480820439,0.2830940069762483,0.7586900582011848,0.6540029390281472,0.6540029390281472,-0.27531635288496026,0.6038713459156511,-1.1559522000899922,0.09781673421169074,-1.2458911259608532,0.17480886987742414,-0.3171478815394259,-0.5030008017836378,-0.5030008017836378,0.6125367472296402,-0.24095412782264672,-0.26022007265884023,-0.46234302894564916,-0.9144018009583826,0.3892286897992103,-0.8073310866365643,0.4464378476651184,-0.04551890375173211,-0.8657975334811758,0.2774170429414404,0.41107163872381275,-1.0848977281496588,0.36242614534488515,-1.5191048862843268,-0.30479624539546124,-0.3377992901079171,-0.78759962771487,-0.7678707932237488,0.4730617253213856,-0.04551890375173211,-0.2763661746313107,0.45363824482399184,0.45363824482399184,-1.538717010236604,-0.284948075934922,0.7585529461552135,1.1302607796522444,1.1302607796522444,0.8197143319389537,-0.20036233933304382,-0.33108949277511646,-0.33108949277511646,-1.377096105728774,-0.9969556355645798,0.6302574289035489,0.6302574289035489,0.6302574289035489,0.4354924054368136,-0.33108949277511646,-0.33108949277511646,0.24083667223444705,0.24083667223444705,-0.13328597415686708,0.24990678794736837,0.7255028391723046,1.0077952325760913,1.0077952325760913,1.0077952325760913,0.606011976452448,0.606011976452448,0.8153738080624214,0.8153738080624214,0.4762112080965609,0.4762112080965609,-0.750933848548854,-0.419783867316677,-0.419783867316677,-0.07463639534874762,0.3754272178760305,0.3754272178760305,0.8860495835778097,0.8860495835778097,-0.7859296976785255,0.4678392366231571,0.9632908567379952,0.9218403352912911,0.9218403352912911,0.7270753118245548,0.6275970196828282,-1.136340076137715,0.07796856475115131,-0.4139881866656987,0.6704761483597013,-0.5635613270202873,0.6704761483597013,0.970954891852398,1.0184303149138458,0.9984846425592517,-1.0361222083515886,0.5910908561165398,0.5910908561165398,0.5910908561165398,-0.9851525343280076,0.24888494105198058,-0.7776766492252349,-0.7776766492252349,0.45636082615475354,0.45636082615475354,-0.035595925262096845,-0.7450269639343399,-0.6207260411580282,0.320001545577663,1.5647413560001544,1.8298954500793212,1.861206525641723,1.861206525641723,1.861206525641723,2.0246604735460565,-1.2280165612318452,0.2078080279984742,-0.2841487234183758,-0.3081675120222233,-0.37015229529108473,-1.1132352800854781,0.7204934774430743,0.7204934774430743,0.4262501618346123,0.46041616550098896,-1.49363797419477,-0.0729379783564931,-1.7655746136006376,-0.38414287850726414,-0.13613009972799422,-0.9803620260501394,0.6468510384179892,0.6468510384179892,0.6468510384179892,0.4520860149512536,0.4520860149512536,1.0290657123719675,1.0623677953299084,1.0290657123719675,-0.7975248186857737,0.4365126566942142,-1.0135492450790196,0.6669115747016435,-0.32206699416179807,-0.34133293899799166,-0.8550890571217182,0.5656109387165589,0.5656109387165589,-0.6486977021723079,0.5656109387165589,0.5391225609435439,-0.6486977021723079,-0.7495183009095817,0.320837802665556,0.6711816949286958,0.6711816949286958,-0.0766270232402356,0.6274687833113676,-1.628655936107465,0.5735633831141299,-0.8073310866365643,0.4464378476651184,-0.04551890375173211,-1.0023809727682742,0.21192766812059255,-0.6140122753674838,0.9954359970893687,0.9754903247347746,-1.799388353397573,-1.7449351686790597,-1.1999740470723617,0.05379488722932057,-0.43816186418752956,-0.5932157644316168,0.6605531698700662,-0.681842923865889,0.20875880520142742,-0.3455259330526795]},{\"customdata\":[[\"Garbage\"],[\"Garbage\"],[\"Garbage\"],[\"Garbage\"],[\"Garbage\"],[\"Garbage\"],[\"Garbage\"],[\"Garbage\"],[\"Recycle\"],[\"Recycle\"],[\"Recycle\"],[\"Recycle\"],[\"Garbage\"],[\"Garbage\"],[\"Recycle\"],[\"Recycle\"],[\"Garbage\"],[\"Garbage\"],[\"Garbage\"],[\"Recycle\"],[\"Recycle\"],[\"Recycle\"],[\"Recycle\"],[\"Recycle\"],[\"Garbage\"],[\"Garbage\"],[\"Recycle\"],[\"Recycle\"],[\"Garbage\"],[\"Garbage\"],[\"Garbage\"],[\"Garbage\"],[\"Garbage\"],[\"Garbage\"],[\"Garbage\"],[\"Garbage\"],[\"Garbage\"],[\"Garbage\"],[\"Garbage\"],[\"Garbage\"],[\"Garbage\"],[\"Garbage\"],[\"Garbage\"],[\"Garbage\"],[\"Recycle\"],[\"Compost\"],[\"Compost\"],[\"Compost\"],[\"Garbage\"],[\"Garbage\"],[\"Garbage\"],[\"Garbage\"],[\"Garbage\"],[\"Garbage\"],[\"Garbage\"],[\"Garbage\"],[\"Garbage\"],[\"Garbage\"],[\"Garbage\"],[\"Garbage\"],[\"Garbage\"],[\"Garbage\"],[\"Garbage\"],[\"Garbage\"],[\"Garbage\"],[\"Recycle\"],[\"Recycle\"],[\"Recycle\"],[\"Recycle\"],[\"Recycle\"],[\"Compost\"],[\"Compost\"],[\"Compost\"],[\"Recycle\"],[\"Recycle\"],[\"Recycle\"],[\"Recycle\"],[\"Recycle\"],[\"Recycle\"],[\"Recycle\"],[\"Recycle\"],[\"Garbage\"],[\"Garbage\"],[\"Garbage\"],[\"Garbage\"],[\"Garbage\"],[\"Garbage\"],[\"Garbage\"],[\"Garbage\"],[\"Recycle\"],[\"Compost\"],[\"Garbage\"],[\"Garbage\"],[\"Garbage\"],[\"Garbage\"],[\"Garbage\"],[\"Garbage\"],[\"Garbage\"],[\"Garbage\"],[\"Garbage\"],[\"Recycle\"],[\"Recycle\"],[\"Garbage\"],[\"Garbage\"],[\"Garbage\"],[\"Garbage\"],[\"Garbage\"],[\"Compost\"],[\"Compost\"],[\"Compost\"],[\"Garbage\"],[\"Garbage\"],[\"Garbage\"],[\"Garbage\"],[\"Garbage\"],[\"Garbage\"],[\"Compost\"],[\"Compost\"],[\"Compost\"],[\"Recycle\"],[\"Recycle\"],[\"Recycle\"],[\"Garbage\"],[\"Garbage\"],[\"Garbage\"],[\"Garbage\"],[\"Garbage\"],[\"Garbage\"],[\"Garbage\"],[\"Garbage\"],[\"Garbage\"],[\"Garbage\"],[\"Garbage\"],[\"Garbage\"],[\"Garbage\"],[\"Recycle\"],[\"Garbage\"],[\"Garbage\"],[\"Compost\"],[\"Compost\"],[\"Compost\"],[\"Recycle\"],[\"Recycle\"],[\"Recycle\"],[\"Garbage\"],[\"Recycle\"],[\"Recycle\"],[\"Recycle\"],[\"Recycle\"],[\"Recycle\"],[\"Garbage\"],[\"Garbage\"],[\"Garbage\"],[\"Recycle\"],[\"Recycle\"],[\"Recycle\"],[\"Garbage\"],[\"Garbage\"],[\"Garbage\"],[\"Garbage\"],[\"Garbage\"],[\"Recycle\"],[\"Recycle\"],[\"Recycle\"],[\"Recycle\"],[\"Recycle\"],[\"Garbage\"],[\"Garbage\"],[\"Garbage\"],[\"Garbage\"],[\"Garbage\"],[\"Garbage\"],[\"Garbage\"],[\"Recycle\"],[\"Recycle\"],[\"Compost\"],[\"Compost\"],[\"Compost\"],[\"Recycle\"],[\"Garbage\"],[\"Garbage\"],[\"Compost\"],[\"Compost\"],[\"Compost\"],[\"Recycle\"],[\"Recycle\"],[\"Recycle\"],[\"Recycle\"],[\"Recycle\"],[\"Recycle\"],[\"Garbage\"],[\"Garbage\"],[\"Garbage\"],[\"Garbage\"],[\"Garbage\"],[\"Garbage\"],[\"Garbage\"],[\"Garbage\"],[\"Garbage\"],[\"Garbage\"],[\"Garbage\"],[\"Recycle\"],[\"Recycle\"],[\"Recycle\"],[\"Recycle\"],[\"Garbage\"],[\"Garbage\"],[\"Garbage\"],[\"Garbage\"],[\"Garbage\"],[\"Garbage\"],[\"Garbage\"],[\"Garbage\"],[\"Garbage\"],[\"Garbage\"],[\"Garbage\"],[\"Garbage\"],[\"Garbage\"],[\"Garbage\"],[\"Garbage\"],[\"Garbage\"],[\"Garbage\"],[\"Garbage\"],[\"Compost\"],[\"Compost\"],[\"Garbage\"],[\"Garbage\"],[\"Garbage\"],[\"Garbage\"],[\"Garbage\"],[\"Garbage\"],[\"Recycle\"],[\"Recycle\"],[\"Recycle\"],[\"Recycle\"],[\"Recycle\"],[\"Compost\"],[\"Compost\"],[\"Compost\"],[\"Garbage\"],[\"Garbage\"],[\"Garbage\"],[\"Garbage\"],[\"Recycle\"],[\"Recycle\"],[\"Garbage\"],[\"Recycle\"]],\"hovertemplate\":\"<b>%{hovertext}</b><br><br>Class=%{marker.color}<br>PC 1=%{x}<br>PC 2=%{y}<br>PC 3=%{z}<br>commodity=%{customdata[0]}<extra></extra>\",\"hovertext\":[\"RESTAURANT\",\"WINERY\",\"WINERY\",\"MULTIFAMIL\",\"WINERY\",\"WINERY\",\"UTILITY\",\"RESTAURANT\",\"RESTAURANT\",\"RESTAURANT\",\"RESTAURANT\",\"RESTAURANT\",\"MIXED USE\",\"MIXED USE\",\"MIXED USE\",\"MIXED USE\",\"GROCERY\",\"GROCERY\",\"GROCERY\",\"GROCERY\",\"GROCERY\",\"GROCERY\",\"PARK\",\"RESTAURANT\",\"RESTAURANT\",\"RESTAURANT\",\"RESTAURANT\",\"RESTAURANT\",\"MULTIFAMIL\",\"MULTIFAMIL\",\"WINERY\",\"WINERY\",\"WINERY\",\"WINERY\",\"LODGING-FW\",\"LODGING-FW\",\"LODGING\",\"LODGING\",\"LODGING\",\"LODGING\",\"LODGING\",\"GROCERY\",\"GROCERY\",\"GROCERY\",\"GROCERY\",\"GROCERY\",\"GROCERY\",\"GROCERY\",\"GROCERY\",\"GROCERY\",\"LODGING-FW\",\"LODGING-FW\",\"LODGING-FW\",\"WINERY\",\"WINERY\",\"RESTAURANT\",\"RESTAURANT\",\"RESTAURANT\",\"RESTAURANT\",\"GROCERY\",\"GROCERY\",\"GROCERY\",\"GROCERY\",\"GROCERY\",\"GROCERY\",\"GROCERY\",\"GROCERY\",\"GROCERY\",\"GROCERY\",\"GROCERY\",\"GROCERY\",\"GROCERY\",\"GROCERY\",\"GROCERY\",\"GROCERY\",\"GROCERY\",\"GROCERY\",\"GROCERY\",\"GROCERY\",\"GROCERY\",\"GROCERY\",\"PARK\",\"PARK\",\"PARK\",\"PARK\",\"BAKERY\",\"BAKERY\",\"HOA\",\"HOA\",\"HOA\",\"HOA\",\"NRSG HOME\",\"NRSG HOME\",\"NRSG HOME\",\"LODGING-FW\",\"OFFICE BLD\",\"OFFICE BLD\",\"OFFICE BLD\",\"LODGING\",\"LODGING\",\"STRIP MALL\",\"STRIP MALL\",\"COMMUNITY\",\"NRSG HOME\",\"NRSG HOME\",\"GROUP HOME\",\"GROCERY\",\"GROCERY\",\"GROCERY\",\"GROCERY\",\"WINERY\",\"WINERY\",\"WINERY\",\"GROCERY\",\"GROCERY\",\"GROCERY\",\"GROCERY\",\"GROCERY\",\"GROCERY\",\"GROCERY\",\"GROCERY\",\"GROCERY\",\"MULTIFAMIL\",\"MULTIFAMIL\",\"WINERY\",\"WINERY\",\"OFFICE BLD\",\"OFFICE BLD\",\"WINERY\",\"WINERY\",\"SCHOOL\",\"WINERY\",\"LODGING-FW\",\"WINERY\",\"WINERY\",\"MEMBER\",\"RESTAURANT\",\"RESTAURANT\",\"RESTAURANT\",\"RESTAURANT\",\"RESTAURANT\",\"RESTAURANT\",\"RESTAURANT\",\"RESTAURANT\",\"LODGING\",\"LODGING\",\"LODGING\",\"LODGING\",\"RESTAURANT\",\"RESTAURANT\",\"RESTAURANT\",\"RESTAURANT\",\"RESTAURANT\",\"RESTAURANT\",\"RESTAURANT\",\"RESTAURANT\",\"MULTIFAMIL\",\"MEDICAL\",\"MEDICAL\",\"HOA\",\"HOA\",\"HOA\",\"CATERING\",\"CATERING\",\"CATERING\",\"CATERING\",\"MEMBER\",\"MEMBER\",\"WINERY\",\"WINERY\",\"LODGING-FW\",\"LODGING-FW\",\"LODGING-FW\",\"LODGING-FW\",\"LODGING-FW\",\"LODGING-FW\",\"LODGING-FW\",\"LODGING-FW\",\"LODGING-FW\",\"RESTAURANT\",\"RESTAURANT\",\"RESTAURANT\",\"RESTAURANT\",\"RESTAURANT\",\"RESTAURANT\",\"RESTAURANT\",\"RESTAURANT\",\"RESTAURANT\",\"RESTAURANT\",\"RESTAURANT\",\"WINERY\",\"WINERY\",\"PARK\",\"RESTAURANT\",\"RESTAURANT\",\"RESTAURANT\",\"RESTAURANT\",\"RESTAURANT\",\"RESTAURANT\",\"RESTAURANT\",\"RESTAURANT\",\"RESTAURANT\",\"RESTAURANT\",\"RESTAURANT\",\"RESTAURANT\",\"WINERY\",\"WINERY\",\"WINERY\",\"WINERY\",\"WINERY\",\"MULTIFAMIL\",\"MULTIFAMIL\",\"WINERY\",\"WINERY\",\"RESTAURANT\",\"RESTAURANT\",\"MEMBER\",\"MEMBER\",\"MEMBER\",\"MEMBER\",\"VINEYARD\",\"WINERY\",\"WINERY\",\"WINERY\",\"WINERY\",\"RESTAURANT\",\"RESTAURANT\",\"RESTAURANT\",\"RESTAURANT\",\"RESTAURANT\",\"RESTAURANT\",\"RESTAURANT\",\"RESTAURANT\",\"RESTAURANT\",\"RESTAURANT\",\"RESTAURANT\",\"RESTAURANT\",\"RESTAURANT\",\"RESTAURANT\",\"RESTAURANT\",\"RESTAURANT\",\"RESTAURANT\",\"RESTAURANT\",\"RESTAURANT\",\"RESTAURANT\",\"RESTAURANT\",\"RESTAURANT\"],\"legendgroup\":\"2\",\"marker\":{\"color\":[2,2,2,2,2,2,2,2,2,2,2,2,2,2,2,2,2,2,2,2,2,2,2,2,2,2,2,2,2,2,2,2,2,2,2,2,2,2,2,2,2,2,2,2,2,2,2,2,2,2,2,2,2,2,2,2,2,2,2,2,2,2,2,2,2,2,2,2,2,2,2,2,2,2,2,2,2,2,2,2,2,2,2,2,2,2,2,2,2,2,2,2,2,2,2,2,2,2,2,2,2,2,2,2,2,2,2,2,2,2,2,2,2,2,2,2,2,2,2,2,2,2,2,2,2,2,2,2,2,2,2,2,2,2,2,2,2,2,2,2,2,2,2,2,2,2,2,2,2,2,2,2,2,2,2,2,2,2,2,2,2,2,2,2,2,2,2,2,2,2,2,2,2,2,2,2,2,2,2,2,2,2,2,2,2,2,2,2,2,2,2,2,2,2,2,2,2,2,2,2,2,2,2,2,2,2,2,2,2,2,2,2,2,2,2,2,2,2,2,2,2,2,2,2,2,2,2,2,2,2,2,2,2,2,2,2,2,2,2,2,2,2,2,2,2,2,2],\"coloraxis\":\"coloraxis\",\"symbol\":\"square\"},\"mode\":\"markers\",\"name\":\"2\",\"scene\":\"scene\",\"showlegend\":true,\"type\":\"scatter3d\",\"x\":[1.8481465801808574,2.752901621049109,2.752901621049109,1.6129050585110596,2.77876524173115,3.055044616340312,2.0915915398745697,2.2295570805165172,2.458468327926898,2.458468327926898,2.458468327926898,2.458468327926898,2.4284733211116465,2.4284733211116465,1.3141126558579705,1.3141126558579705,3.168793147128876,3.168793147128876,3.168793147128876,2.045223989194415,2.045223989194415,2.045223989194415,1.2807898764935726,1.5767780203900756,3.939889719898349,3.939889719898349,1.9263187615341828,1.9263187615341828,2.30934018364501,2.30934018364501,2.508499100019774,3.7643301729873735,3.7643301729873735,2.912703169113416,2.864264794392895,2.864264794392895,2.52701388102127,2.52701388102127,3.924914854564873,3.924914854564873,3.924914854564873,5.112915458096947,5.112915458096947,5.112915458096947,1.6737311893034006,1.6322132100527962,1.6322132100527962,1.6322132100527962,3.078965828669585,3.078965828669585,3.6572541058164343,3.6572541058164343,3.6572541058164343,5.0571318466033475,5.0571318466033475,3.731822587006846,3.731822587006846,3.731822587006846,3.731822587006846,9.491380430961915,9.491380430961915,9.491380430961915,9.491380430961915,9.491380430961915,4.55952097469036,1.3866767574701573,1.3866767574701573,1.3866767574701573,1.4450202794312696,1.4490447373488147,2.6444653009401122,2.6444653009401122,2.6444653009401122,4.428595510438666,4.428595510438666,4.428595510438666,4.428595510438666,3.977469561557056,3.977469561557056,3.977469561557056,3.977469561557056,2.711873593764911,2.711873593764911,2.604178776281973,2.604178776281973,2.2223251974763594,2.2223251974763594,3.0881791540591803,3.0881791540591803,2.034419136531081,1.4637871030193994,4.1181002995381615,4.1181002995381615,4.1181002995381615,1.5755303274543786,4.644391481597058,4.644391481597058,4.644391481597058,3.2250002757476928,3.2250002757476928,2.051205012259861,2.051205012259861,1.5230305599742677,3.7664485743643947,3.7664485743643947,2.3253766920033216,3.2199787616817694,1.3084202126482825,1.3084202126482825,1.3084202126482825,3.366899898467275,2.484140713272032,1.8706451874601453,5.599413802772102,5.599413802772102,5.599413802772102,2.2220695000004045,2.2220695000004045,2.2220695000004045,3.459327392982295,3.459327392982295,3.459327392982295,3.013810954876812,3.013810954876812,2.7152109555112585,2.7152109555112585,2.031774899578612,2.031774899578612,2.7601404059257075,2.7601404059257075,1.4138812740976223,1.2495936404744055,2.2805502632583656,3.4890906807054063,3.4890906807054063,1.6251779310616439,4.7858948911599715,4.7858948911599715,1.3308934549156306,1.3308934549156306,1.3308934549156306,2.5601024320624313,2.5601024320624313,2.5601024320624313,2.828597976327632,1.724173872721223,1.6584221294707107,1.6584221294707107,2.6056457829399933,2.6056457829399933,5.793506270028306,5.793506270028306,5.793506270028306,2.312620769363867,2.312620769363867,2.312620769363867,1.5953066476200255,2.1387778522516045,2.1387778522516045,2.914994194937365,2.914994194937365,2.0166182119906173,2.234092431652722,2.234092431652722,2.234092431652722,2.234092431652722,1.6502737743310028,1.6502737743310028,3.04038443714435,3.04038443714435,5.035062236268175,5.035062236268175,5.035062236268175,2.6503411400337185,2.6503411400337185,1.5931752633090102,1.5931752633090102,1.5931752633090102,1.2211712476952332,4.154684408434334,4.154684408434334,1.7276444826564366,1.7276444826564366,1.7276444826564366,3.543936962446649,3.543936962446649,3.543936962446649,2.4775563054988057,2.4775563054988057,2.4775563054988057,2.9723151378755777,2.834908633150654,2.613107564387429,6.433552239747064,6.433552239747064,6.433552239747064,6.433552239747064,6.433552239747064,6.433552239747064,4.3512583891244105,4.3512583891244105,4.425432318850216,4.425432318850216,4.425432318850216,4.425432318850216,3.002077056014539,3.002077056014539,4.150882321162089,4.150882321162089,4.150882321162089,2.4415723045105353,2.4415723045105353,1.8327438645703125,3.0358909257754085,3.0822736478691177,3.0822736478691177,2.2726125106895516,2.2726125106895516,2.2726125106895516,2.2726125106895516,1.6622410613383949,6.524013722453373,6.524013722453373,2.5542920056268232,2.5542920056268232,8.78089090915337,8.78089090915337,8.78089090915337,8.78089090915337,8.78089090915337,4.406692521597974,5.159594739771768,5.159594739771768,5.159594739771768,1.8846572555112437,1.944995631581093,3.0981767618881992,3.0981767618881992,3.0981767618881992,5.5907847472404395,5.5907847472404395,5.5907847472404395,3.508490896617787,1.626123328150555,1.626123328150555,2.7315190055424052,1.7124583228300292],\"y\":[1.200148270669004,-2.130724037735995,-2.130724037735995,1.2622868830915228,-2.4841351316673475,-2.5139135359417555,-1.2008851124786755,-0.7269755226534678,-0.7626118199341717,-0.7626118199341717,-0.7626118199341717,-0.7626118199341717,0.4753337459183596,0.4753337459183596,0.007058336196737911,0.007058336196737911,1.5242453083004754,1.5242453083004754,1.5242453083004754,0.8846700098605543,0.8846700098605543,0.8846700098605543,0.07879126680675454,0.29189866282661064,0.9263794379375734,0.9263794379375734,0.543332011442567,0.543332011442567,1.564002999471871,1.564002999471871,-2.458365497475896,-2.1987230355343916,-2.1987230355343916,-2.4925460773227113,-0.783222374583433,-0.783222374583433,1.395348990388515,1.395348990388515,1.4544660081274425,1.4544660081274425,1.4544660081274425,1.3745149839995126,1.3745149839995126,1.3745149839995126,0.7532847277864375,2.1373344519115665,2.1373344519115665,2.1373344519115665,1.2084700439403722,1.2084700439403722,1.0372607789996962,1.0372607789996962,1.0372607789996962,-2.4989785145645893,-2.4989785145645893,1.5666029690027239,1.5666029690027239,1.5666029690027239,1.5666029690027239,0.9972225288986617,0.9972225288986617,0.9972225288986617,0.9972225288986617,0.9972225288986617,0.7180611739015951,0.9200873308014006,0.9200873308014006,0.9200873308014006,0.914557477830209,0.9212077369698061,1.913122172357792,1.913122172357792,1.913122172357792,0.7165305329515932,0.7165305329515932,0.7165305329515932,0.7165305329515932,0.9314613457870964,0.9314613457870964,0.9314613457870964,0.9314613457870964,0.6781221920148561,0.6781221920148561,0.6848851401574536,0.6848851401574536,1.2651592316283478,1.2651592316283478,0.5931994344609816,0.5931994344609816,0.11918023930068201,1.0073242514736966,1.2931768110881956,1.2931768110881956,1.2931768110881956,-0.8496899276889439,0.9512569908220847,0.9512569908220847,0.9512569908220847,1.059283734507887,1.059283734507887,0.5433737431381184,0.5433737431381184,0.8977614667869628,1.0590303468528872,1.0590303468528872,-2.048072932773313,-0.9034765626874894,0.23499936718896522,0.23499936718896522,0.23499936718896522,-2.5334972183353304,-2.456835855564962,-0.7032674621953885,1.0544853108897427,1.0544853108897427,1.0544853108897427,1.7864133142077445,1.7864133142077445,1.7864133142077445,0.5112564577190442,0.5112564577190442,0.5112564577190442,1.2251551031440966,1.2251551031440966,-2.1269812144151157,-2.1269812144151157,1.1725595082110314,1.1725595082110314,-2.129802664419211,-2.129802664419211,0.4467032007327945,-0.46991236162602124,0.8138170986809629,-2.1873090735148355,-2.1873090735148355,0.1451940947711494,-0.9474457062451211,-0.9474457062451211,0.1647306810311241,0.1647306810311241,0.1647306810311241,-1.1237266937367685,-1.1237266937367685,-1.1237266937367685,1.0450038149842003,0.5617232067935188,0.7616388077014025,0.7616388077014025,0.7659501995056207,0.7659501995056207,1.2243492673003724,1.2243492673003724,1.2243492673003724,0.9803752701883297,0.9803752701883297,0.9803752701883297,1.2633920164956163,-1.123376514021783,-1.123376514021783,0.6971041958790624,0.6971041958790624,0.20835755821232343,0.8521150543550422,0.8521150543550422,0.8521150543550422,0.8521150543550422,-0.7355836462451537,-0.7355836462451537,-2.1474012443202772,-2.1474012443202772,0.8414118415921878,0.8414118415921878,0.8414118415921878,0.30689047953905046,0.30689047953905046,1.5794572588836349,1.5794572588836349,1.5794572588836349,0.25569663483188404,1.0031411976195803,1.0031411976195803,1.8949356709215488,1.8949356709215488,1.8949356709215488,0.6737847500913096,0.6737847500913096,0.6737847500913096,0.7748572950119779,0.7748572950119779,0.7748572950119779,-2.4918866637279673,-2.4788631481280596,-1.3776971801033346,0.9194402401954079,0.9194402401954079,0.9194402401954079,0.9194402401954079,0.9194402401954079,0.9194402401954079,0.7434981994158621,0.7434981994158621,0.7295597491990885,0.7295597491990885,0.7295597491990885,0.7295597491990885,-2.144995642657034,-2.144995642657034,-2.0697409077960276,-2.0697409077960276,-2.0697409077960276,1.3722863713180564,1.3722863713180564,-0.7008873599097757,-2.5127107351101343,1.0845291732737998,1.0845291732737998,2.1914817389713126,2.1914817389713126,2.1914817389713126,2.1914817389713126,-0.12801052262976945,-2.6159523839851397,-2.6159523839851397,-2.3383596192017952,-2.3383596192017952,1.071345968188256,1.071345968188256,1.071345968188256,1.071345968188256,1.071345968188256,0.7393289813386347,0.46737644634132963,0.46737644634132963,0.46737644634132963,0.7426566906857017,0.7369377635971188,1.662538681706525,1.662538681706525,1.662538681706525,0.9723637975336464,0.9723637975336464,0.9723637975336464,0.7964217567541014,0.9046779560552571,0.9046779560552571,0.8526057283011591,0.3752976980949229],\"z\":[-0.31788662658987116,-1.030444622954471,-1.030444622954471,-0.5924387902278063,-0.8888192161794669,-1.1144478877189206,-1.7096032417728235,-0.6635761740453554,0.7759026638152382,0.7759026638152382,0.7759026638152382,0.7759026638152382,-1.98425474051884,-1.98425474051884,-0.6818892252974207,-0.6818892252974207,-1.720741973983425,-1.720741973983425,-1.720741973983425,-0.36584510768657197,-0.36584510768657197,-0.36584510768657197,0.16652000566209696,-0.40923969909673485,-0.6776621159043307,-0.6776621159043307,0.9216367232043847,0.9216367232043847,-0.34536758450355975,-0.34536758450355975,-0.7938282092639234,-0.3219560184440816,-0.3219560184440816,-0.7727834235668897,-0.7881138266652961,-0.7881138266652961,-0.32238214942369364,-0.32238214942369364,-0.4048883053978029,-0.4048883053978029,-0.4048883053978029,-0.4448249908639597,-0.4448249908639597,-0.4448249908639597,1.238111861272022,1.2005993624071465,1.2005993624071465,1.2005993624071465,0.08274668248216945,0.08274668248216945,-1.5800276050311606,-1.5800276050311606,-1.5800276050311606,-0.9069978265308223,-0.9069978265308223,-1.544939256794303,-1.544939256794303,-1.544939256794303,-1.544939256794303,-1.7033039739825888,-1.7033039739825888,-1.7033039739825888,-1.7033039739825888,-1.7033039739825888,-0.8489703949377712,0.9965446802940039,0.9965446802940039,0.9965446802940039,0.97727873545781,1.0039026131140774,0.7568482890610324,0.7568482890610324,0.7568482890610324,0.7093321615447417,0.7093321615447417,0.7093321615447417,0.7093321615447417,0.8088104536864692,0.8088104536864692,0.8088104536864692,0.8088104536864692,-2.394509462161317,-2.394509462161317,-2.487809797257842,-2.487809797257842,-1.951257707883906,-1.951257707883906,-1.8285338203500803,-1.8285338203500803,-0.5461795882475785,-0.8663313653621426,-2.142517857236685,-2.142517857236685,-2.142517857236685,-0.6295573985903085,-2.6667565552458665,-2.6667565552458665,-2.6667565552458665,-0.7052714544233496,-0.7052714544233496,0.14387529470198804,0.14387529470198804,-1.5868553326759278,-1.1632610510577979,-1.1632610510577979,-0.6763614561513001,-1.1611184115501674,0.21992293349527578,0.21992293349527578,0.21992293349527578,-0.8442751625673425,-0.8149308556037542,-1.8436671902011508,-0.9078774097756849,-0.9078774097756849,-0.9078774097756849,0.619558080884761,0.619558080884761,0.619558080884761,0.7826893756655412,0.7826893756655412,0.7826893756655412,-0.8115080835198851,-0.8115080835198851,-1.0116211318554176,-1.0116211318554176,-2.4902018641316452,-2.4902018641316452,-0.9726969488970784,-0.9726969488970784,-2.148464963176918,-1.601335023432353,-0.16182353269567698,-0.7800258155925303,-0.7800258155925303,1.3391589473935226,-0.9899668428381541,-0.9899668428381541,0.7630882368922774,0.7630882368922774,0.7630882368922774,0.8729717763605233,0.8729717763605233,0.8729717763605233,0.35034648903585375,1.593525162558101,1.8367511511449401,1.8367511511449401,1.489302503914395,1.489302503914395,-0.30420421514290835,-0.30420421514290835,-0.30420421514290835,1.7796248696397736,1.7796248696397736,1.7796248696397736,-0.6076849986496742,-0.8211921199469209,-0.8211921199469209,-0.9084765757060461,-0.9084765757060461,0.3225674142642638,-1.1557467097613916,-1.1557467097613916,-1.1557467097613916,-1.1557467097613916,0.15232777239925663,0.15232777239925663,-0.7299103168881328,-0.7299103168881328,-0.39597715296007796,-0.39597715296007796,-0.39597715296007796,1.1323203589760265,1.1323203589760265,1.1527713383834812,1.1527713383834812,1.1527713383834812,1.4106937273998557,-1.195638179403204,-1.195638179403204,0.46312818717419124,0.46312818717419124,0.46312818717419124,0.1339872786310875,0.1339872786310875,0.1339872786310875,0.48612287519029335,0.48612287519029335,0.48612287519029335,-0.5564203335387669,-0.511046553362639,-1.6837472045984574,0.2921913134951056,0.2921913134951056,0.2921913134951056,0.2921913134951056,0.2921913134951056,0.2921913134951056,0.5926755270448274,0.5926755270448274,2.111203867687393,2.111203867687393,2.111203867687393,2.111203867687393,-0.7630975359170131,-0.7630975359170131,-1.0428802376606956,-1.0428802376606956,-1.0428802376606956,-1.4628176831273747,-1.4628176831273747,-1.8765026247083247,-1.131041497233361,-1.5993239182988446,-1.5993239182988446,2.191817627915002,2.191817627915002,2.191817627915002,2.191817627915002,-2.2200637935004837,-0.5661404133471467,-0.5661404133471467,1.0264562804054245,1.0264562804054245,-0.055227789337802584,-0.055227789337802584,-0.055227789337802584,-0.055227789337802584,-0.055227789337802584,0.6149573696932288,1.6878452649472795,1.6878452649472795,1.6878452649472795,2.4348197811294354,2.414895104219426,1.9022607356775252,1.9022607356775252,1.9022607356775252,-0.43793193010279846,-0.43793193010279846,-0.43793193010279846,-0.13744771655307703,1.5808888677081323,1.5808888677081323,-0.5340157599655057,0.7368802082553974]},{\"customdata\":[[\"Garbage\"],[\"Compost\"],[\"Recycle\"],[\"Garbage\"],[\"Garbage\"],[\"Recycle\"],[\"Recycle\"],[\"Recycle\"],[\"Compost\"],[\"Garbage\"],[\"Recycle\"],[\"Compost\"],[\"Garbage\"],[\"Recycle\"],[\"Garbage\"],[\"Garbage\"],[\"Recycle\"],[\"Recycle\"],[\"Compost\"],[\"Garbage\"],[\"Recycle\"],[\"Recycle\"],[\"Recycle\"],[\"Compost\"]],\"hovertemplate\":\"<b>%{hovertext}</b><br><br>Class=%{marker.color}<br>PC 1=%{x}<br>PC 2=%{y}<br>PC 3=%{z}<br>commodity=%{customdata[0]}<extra></extra>\",\"hovertext\":[\"MOBILEHOME\",\"MOBILEHOME\",\"MOBILEHOME\",\"MOBILEHOME\",\"MOBILEHOME\",\"MOBILEHOME\",\"MOBILEHOME\",\"MOBILEHOME\",\"MOBILEHOME\",\"MOBILEHOME\",\"MOBILEHOME\",\"MOBILEHOME\",\"MOBILEHOME\",\"MOBILEHOME\",\"MOBILEHOME\",\"MOBILEHOME\",\"MOBILEHOME\",\"MOBILEHOME\",\"MOBILEHOME\",\"MOBILEHOME\",\"MOBILEHOME\",\"MOBILEHOME\",\"MOBILEHOME\",\"MOBILEHOME\"],\"legendgroup\":\"3\",\"marker\":{\"color\":[3,3,3,3,3,3,3,3,3,3,3,3,3,3,3,3,3,3,3,3,3,3,3,3],\"coloraxis\":\"coloraxis\",\"symbol\":\"x\"},\"mode\":\"markers\",\"name\":\"3\",\"scene\":\"scene\",\"showlegend\":true,\"type\":\"scatter3d\",\"x\":[2.2579245722085224,1.5425369083136906,1.4108187065648095,1.6432986279925657,1.6432986279925657,0.7025141130768077,0.7025141130768077,0.7025141130768077,0.8020366514853285,1.7127637130547622,0.8978535107514113,0.42187856695093084,2.6605284100457745,1.862637964020626,3.7546003918607265,2.950769292138615,2.0020153376470784,2.9356895745176255,2.133733539395963,2.672158306510548,1.8632088236556135,1.1570275148684033,1.1570275148684033,1.9567706426157148],\"y\":[3.1603368724655456,3.2885851062823157,2.582929569290921,1.8972110785065006,1.8972110785065006,1.4124839607218316,1.4124839607218316,1.4124839607218316,2.064937424596455,2.9253551332765673,2.4011499032187174,2.1026163101309545,3.147012978266978,2.6493214039005126,3.1252317997053747,1.549549099168619,1.051513930271394,2.5943740506579216,1.7571694672627935,3.168839017505199,2.644068824945183,1.382009856708225,1.382009856708225,3.297087251321968],\"z\":[9.62600196191193,10.345445982309094,10.624411712475805,4.693561293465067,4.693561293465067,5.938609244972757,5.938609244972757,5.938609244972757,5.44665249355591,8.251351455678831,9.46275222749285,5.16358097122977,9.233624529161192,10.551216377653809,11.08001903971447,4.89627449243705,6.08804844432648,12.2647880605805,5.80908271415977,10.100555884524924,11.30998833340921,6.260098106949823,6.260098106949823,10.819999904922089]}],                        {\"coloraxis\":{\"colorbar\":{\"title\":{\"text\":\"Class\"}},\"colorscale\":[[0.0,\"#0d0887\"],[0.1111111111111111,\"#46039f\"],[0.2222222222222222,\"#7201a8\"],[0.3333333333333333,\"#9c179e\"],[0.4444444444444444,\"#bd3786\"],[0.5555555555555556,\"#d8576b\"],[0.6666666666666666,\"#ed7953\"],[0.7777777777777778,\"#fb9f3a\"],[0.8888888888888888,\"#fdca26\"],[1.0,\"#f0f921\"]]},\"legend\":{\"title\":{\"text\":\"Class\"},\"tracegroupgap\":0,\"x\":0,\"y\":1},\"margin\":{\"t\":60},\"scene\":{\"domain\":{\"x\":[0.0,1.0],\"y\":[0.0,1.0]},\"xaxis\":{\"title\":{\"text\":\"PC 1\"}},\"yaxis\":{\"title\":{\"text\":\"PC 2\"}},\"zaxis\":{\"title\":{\"text\":\"PC 3\"}}},\"template\":{\"data\":{\"bar\":[{\"error_x\":{\"color\":\"#2a3f5f\"},\"error_y\":{\"color\":\"#2a3f5f\"},\"marker\":{\"line\":{\"color\":\"#E5ECF6\",\"width\":0.5},\"pattern\":{\"fillmode\":\"overlay\",\"size\":10,\"solidity\":0.2}},\"type\":\"bar\"}],\"barpolar\":[{\"marker\":{\"line\":{\"color\":\"#E5ECF6\",\"width\":0.5},\"pattern\":{\"fillmode\":\"overlay\",\"size\":10,\"solidity\":0.2}},\"type\":\"barpolar\"}],\"carpet\":[{\"aaxis\":{\"endlinecolor\":\"#2a3f5f\",\"gridcolor\":\"white\",\"linecolor\":\"white\",\"minorgridcolor\":\"white\",\"startlinecolor\":\"#2a3f5f\"},\"baxis\":{\"endlinecolor\":\"#2a3f5f\",\"gridcolor\":\"white\",\"linecolor\":\"white\",\"minorgridcolor\":\"white\",\"startlinecolor\":\"#2a3f5f\"},\"type\":\"carpet\"}],\"choropleth\":[{\"colorbar\":{\"outlinewidth\":0,\"ticks\":\"\"},\"type\":\"choropleth\"}],\"contour\":[{\"colorbar\":{\"outlinewidth\":0,\"ticks\":\"\"},\"colorscale\":[[0.0,\"#0d0887\"],[0.1111111111111111,\"#46039f\"],[0.2222222222222222,\"#7201a8\"],[0.3333333333333333,\"#9c179e\"],[0.4444444444444444,\"#bd3786\"],[0.5555555555555556,\"#d8576b\"],[0.6666666666666666,\"#ed7953\"],[0.7777777777777778,\"#fb9f3a\"],[0.8888888888888888,\"#fdca26\"],[1.0,\"#f0f921\"]],\"type\":\"contour\"}],\"contourcarpet\":[{\"colorbar\":{\"outlinewidth\":0,\"ticks\":\"\"},\"type\":\"contourcarpet\"}],\"heatmap\":[{\"colorbar\":{\"outlinewidth\":0,\"ticks\":\"\"},\"colorscale\":[[0.0,\"#0d0887\"],[0.1111111111111111,\"#46039f\"],[0.2222222222222222,\"#7201a8\"],[0.3333333333333333,\"#9c179e\"],[0.4444444444444444,\"#bd3786\"],[0.5555555555555556,\"#d8576b\"],[0.6666666666666666,\"#ed7953\"],[0.7777777777777778,\"#fb9f3a\"],[0.8888888888888888,\"#fdca26\"],[1.0,\"#f0f921\"]],\"type\":\"heatmap\"}],\"heatmapgl\":[{\"colorbar\":{\"outlinewidth\":0,\"ticks\":\"\"},\"colorscale\":[[0.0,\"#0d0887\"],[0.1111111111111111,\"#46039f\"],[0.2222222222222222,\"#7201a8\"],[0.3333333333333333,\"#9c179e\"],[0.4444444444444444,\"#bd3786\"],[0.5555555555555556,\"#d8576b\"],[0.6666666666666666,\"#ed7953\"],[0.7777777777777778,\"#fb9f3a\"],[0.8888888888888888,\"#fdca26\"],[1.0,\"#f0f921\"]],\"type\":\"heatmapgl\"}],\"histogram\":[{\"marker\":{\"pattern\":{\"fillmode\":\"overlay\",\"size\":10,\"solidity\":0.2}},\"type\":\"histogram\"}],\"histogram2d\":[{\"colorbar\":{\"outlinewidth\":0,\"ticks\":\"\"},\"colorscale\":[[0.0,\"#0d0887\"],[0.1111111111111111,\"#46039f\"],[0.2222222222222222,\"#7201a8\"],[0.3333333333333333,\"#9c179e\"],[0.4444444444444444,\"#bd3786\"],[0.5555555555555556,\"#d8576b\"],[0.6666666666666666,\"#ed7953\"],[0.7777777777777778,\"#fb9f3a\"],[0.8888888888888888,\"#fdca26\"],[1.0,\"#f0f921\"]],\"type\":\"histogram2d\"}],\"histogram2dcontour\":[{\"colorbar\":{\"outlinewidth\":0,\"ticks\":\"\"},\"colorscale\":[[0.0,\"#0d0887\"],[0.1111111111111111,\"#46039f\"],[0.2222222222222222,\"#7201a8\"],[0.3333333333333333,\"#9c179e\"],[0.4444444444444444,\"#bd3786\"],[0.5555555555555556,\"#d8576b\"],[0.6666666666666666,\"#ed7953\"],[0.7777777777777778,\"#fb9f3a\"],[0.8888888888888888,\"#fdca26\"],[1.0,\"#f0f921\"]],\"type\":\"histogram2dcontour\"}],\"mesh3d\":[{\"colorbar\":{\"outlinewidth\":0,\"ticks\":\"\"},\"type\":\"mesh3d\"}],\"parcoords\":[{\"line\":{\"colorbar\":{\"outlinewidth\":0,\"ticks\":\"\"}},\"type\":\"parcoords\"}],\"pie\":[{\"automargin\":true,\"type\":\"pie\"}],\"scatter\":[{\"marker\":{\"colorbar\":{\"outlinewidth\":0,\"ticks\":\"\"}},\"type\":\"scatter\"}],\"scatter3d\":[{\"line\":{\"colorbar\":{\"outlinewidth\":0,\"ticks\":\"\"}},\"marker\":{\"colorbar\":{\"outlinewidth\":0,\"ticks\":\"\"}},\"type\":\"scatter3d\"}],\"scattercarpet\":[{\"marker\":{\"colorbar\":{\"outlinewidth\":0,\"ticks\":\"\"}},\"type\":\"scattercarpet\"}],\"scattergeo\":[{\"marker\":{\"colorbar\":{\"outlinewidth\":0,\"ticks\":\"\"}},\"type\":\"scattergeo\"}],\"scattergl\":[{\"marker\":{\"colorbar\":{\"outlinewidth\":0,\"ticks\":\"\"}},\"type\":\"scattergl\"}],\"scattermapbox\":[{\"marker\":{\"colorbar\":{\"outlinewidth\":0,\"ticks\":\"\"}},\"type\":\"scattermapbox\"}],\"scatterpolar\":[{\"marker\":{\"colorbar\":{\"outlinewidth\":0,\"ticks\":\"\"}},\"type\":\"scatterpolar\"}],\"scatterpolargl\":[{\"marker\":{\"colorbar\":{\"outlinewidth\":0,\"ticks\":\"\"}},\"type\":\"scatterpolargl\"}],\"scatterternary\":[{\"marker\":{\"colorbar\":{\"outlinewidth\":0,\"ticks\":\"\"}},\"type\":\"scatterternary\"}],\"surface\":[{\"colorbar\":{\"outlinewidth\":0,\"ticks\":\"\"},\"colorscale\":[[0.0,\"#0d0887\"],[0.1111111111111111,\"#46039f\"],[0.2222222222222222,\"#7201a8\"],[0.3333333333333333,\"#9c179e\"],[0.4444444444444444,\"#bd3786\"],[0.5555555555555556,\"#d8576b\"],[0.6666666666666666,\"#ed7953\"],[0.7777777777777778,\"#fb9f3a\"],[0.8888888888888888,\"#fdca26\"],[1.0,\"#f0f921\"]],\"type\":\"surface\"}],\"table\":[{\"cells\":{\"fill\":{\"color\":\"#EBF0F8\"},\"line\":{\"color\":\"white\"}},\"header\":{\"fill\":{\"color\":\"#C8D4E3\"},\"line\":{\"color\":\"white\"}},\"type\":\"table\"}]},\"layout\":{\"annotationdefaults\":{\"arrowcolor\":\"#2a3f5f\",\"arrowhead\":0,\"arrowwidth\":1},\"autotypenumbers\":\"strict\",\"coloraxis\":{\"colorbar\":{\"outlinewidth\":0,\"ticks\":\"\"}},\"colorscale\":{\"diverging\":[[0,\"#8e0152\"],[0.1,\"#c51b7d\"],[0.2,\"#de77ae\"],[0.3,\"#f1b6da\"],[0.4,\"#fde0ef\"],[0.5,\"#f7f7f7\"],[0.6,\"#e6f5d0\"],[0.7,\"#b8e186\"],[0.8,\"#7fbc41\"],[0.9,\"#4d9221\"],[1,\"#276419\"]],\"sequential\":[[0.0,\"#0d0887\"],[0.1111111111111111,\"#46039f\"],[0.2222222222222222,\"#7201a8\"],[0.3333333333333333,\"#9c179e\"],[0.4444444444444444,\"#bd3786\"],[0.5555555555555556,\"#d8576b\"],[0.6666666666666666,\"#ed7953\"],[0.7777777777777778,\"#fb9f3a\"],[0.8888888888888888,\"#fdca26\"],[1.0,\"#f0f921\"]],\"sequentialminus\":[[0.0,\"#0d0887\"],[0.1111111111111111,\"#46039f\"],[0.2222222222222222,\"#7201a8\"],[0.3333333333333333,\"#9c179e\"],[0.4444444444444444,\"#bd3786\"],[0.5555555555555556,\"#d8576b\"],[0.6666666666666666,\"#ed7953\"],[0.7777777777777778,\"#fb9f3a\"],[0.8888888888888888,\"#fdca26\"],[1.0,\"#f0f921\"]]},\"colorway\":[\"#636efa\",\"#EF553B\",\"#00cc96\",\"#ab63fa\",\"#FFA15A\",\"#19d3f3\",\"#FF6692\",\"#B6E880\",\"#FF97FF\",\"#FECB52\"],\"font\":{\"color\":\"#2a3f5f\"},\"geo\":{\"bgcolor\":\"white\",\"lakecolor\":\"white\",\"landcolor\":\"#E5ECF6\",\"showlakes\":true,\"showland\":true,\"subunitcolor\":\"white\"},\"hoverlabel\":{\"align\":\"left\"},\"hovermode\":\"closest\",\"mapbox\":{\"style\":\"light\"},\"paper_bgcolor\":\"white\",\"plot_bgcolor\":\"#E5ECF6\",\"polar\":{\"angularaxis\":{\"gridcolor\":\"white\",\"linecolor\":\"white\",\"ticks\":\"\"},\"bgcolor\":\"#E5ECF6\",\"radialaxis\":{\"gridcolor\":\"white\",\"linecolor\":\"white\",\"ticks\":\"\"}},\"scene\":{\"xaxis\":{\"backgroundcolor\":\"#E5ECF6\",\"gridcolor\":\"white\",\"gridwidth\":2,\"linecolor\":\"white\",\"showbackground\":true,\"ticks\":\"\",\"zerolinecolor\":\"white\"},\"yaxis\":{\"backgroundcolor\":\"#E5ECF6\",\"gridcolor\":\"white\",\"gridwidth\":2,\"linecolor\":\"white\",\"showbackground\":true,\"ticks\":\"\",\"zerolinecolor\":\"white\"},\"zaxis\":{\"backgroundcolor\":\"#E5ECF6\",\"gridcolor\":\"white\",\"gridwidth\":2,\"linecolor\":\"white\",\"showbackground\":true,\"ticks\":\"\",\"zerolinecolor\":\"white\"}},\"shapedefaults\":{\"line\":{\"color\":\"#2a3f5f\"}},\"ternary\":{\"aaxis\":{\"gridcolor\":\"white\",\"linecolor\":\"white\",\"ticks\":\"\"},\"baxis\":{\"gridcolor\":\"white\",\"linecolor\":\"white\",\"ticks\":\"\"},\"bgcolor\":\"#E5ECF6\",\"caxis\":{\"gridcolor\":\"white\",\"linecolor\":\"white\",\"ticks\":\"\"}},\"title\":{\"x\":0.05},\"xaxis\":{\"automargin\":true,\"gridcolor\":\"white\",\"linecolor\":\"white\",\"ticks\":\"\",\"title\":{\"standoff\":15},\"zerolinecolor\":\"white\",\"zerolinewidth\":2},\"yaxis\":{\"automargin\":true,\"gridcolor\":\"white\",\"linecolor\":\"white\",\"ticks\":\"\",\"title\":{\"standoff\":15},\"zerolinecolor\":\"white\",\"zerolinewidth\":2}}},\"width\":800},                        {\"responsive\": true}                    ).then(function(){\n",
       "                            \n",
       "var gd = document.getElementById('f1bd86fc-3fe4-4d9b-8332-33a8108eff00');\n",
       "var x = new MutationObserver(function (mutations, observer) {{\n",
       "        var display = window.getComputedStyle(gd).display;\n",
       "        if (!display || display === 'none') {{\n",
       "            console.log([gd, 'removed!']);\n",
       "            Plotly.purge(gd);\n",
       "            observer.disconnect();\n",
       "        }}\n",
       "}});\n",
       "\n",
       "// Listen for the removal of the full notebook cells\n",
       "var notebookContainer = gd.closest('#notebook-container');\n",
       "if (notebookContainer) {{\n",
       "    x.observe(notebookContainer, {childList: true});\n",
       "}}\n",
       "\n",
       "// Listen for the clearing of the current output cell\n",
       "var outputEl = gd.closest('.output');\n",
       "if (outputEl) {{\n",
       "    x.observe(outputEl, {childList: true});\n",
       "}}\n",
       "\n",
       "                        })                };                });            </script>        </div>"
      ]
     },
     "metadata": {},
     "output_type": "display_data"
    }
   ],
   "source": [
    "# Creating a 3D-Scatter with the PCA data and the clusters\n",
    "fig = px.scatter_3d(\n",
    "    clustered_df,\n",
    "    x=\"PC 1\",\n",
    "    y=\"PC 2\",\n",
    "    z=\"PC 3\",\n",
    "    color=\"Class\",\n",
    "    symbol=\"Class\",\n",
    "    hover_name = \"biz_type\",\n",
    "    hover_data = [\"commodity\"],\n",
    "    width=800)\n",
    "fig.update_layout(legend=dict(x=0, y=1))\n",
    "fig.show()"
   ]
  },
  {
   "cell_type": "code",
   "execution_count": 61,
   "id": "78ab69c1",
   "metadata": {},
   "outputs": [
    {
     "data": {},
     "metadata": {},
     "output_type": "display_data"
    },
    {
     "data": {
      "application/vnd.holoviews_exec.v0+json": "",
      "text/html": [
       "<div id='1474'>\n",
       "\n",
       "\n",
       "\n",
       "\n",
       "\n",
       "  <div class=\"bk-root\" id=\"b546803f-cfd0-485b-93db-e650cbbe1095\" data-root-id=\"1474\"></div>\n",
       "</div>\n",
       "<script type=\"application/javascript\">(function(root) {\n",
       "  function embed_document(root) {\n",
       "    var docs_json = {\"105067dc-1e0c-409c-9c62-9f45b66e67f8\":{\"defs\":[{\"extends\":null,\"module\":null,\"name\":\"ReactiveHTML1\",\"overrides\":[],\"properties\":[]},{\"extends\":null,\"module\":null,\"name\":\"FlexBox1\",\"overrides\":[],\"properties\":[{\"default\":\"flex-start\",\"kind\":null,\"name\":\"align_content\"},{\"default\":\"flex-start\",\"kind\":null,\"name\":\"align_items\"},{\"default\":\"row\",\"kind\":null,\"name\":\"flex_direction\"},{\"default\":\"wrap\",\"kind\":null,\"name\":\"flex_wrap\"},{\"default\":\"flex-start\",\"kind\":null,\"name\":\"justify_content\"}]},{\"extends\":null,\"module\":null,\"name\":\"TemplateActions1\",\"overrides\":[],\"properties\":[{\"default\":0,\"kind\":null,\"name\":\"open_modal\"},{\"default\":0,\"kind\":null,\"name\":\"close_modal\"}]},{\"extends\":null,\"module\":null,\"name\":\"MaterialTemplateActions1\",\"overrides\":[],\"properties\":[{\"default\":0,\"kind\":null,\"name\":\"open_modal\"},{\"default\":0,\"kind\":null,\"name\":\"close_modal\"}]}],\"roots\":{\"references\":[{\"attributes\":{\"editor\":{\"id\":\"1489\"},\"field\":\"size\",\"formatter\":{\"id\":\"1488\"},\"title\":\"size\"},\"id\":\"1490\",\"type\":\"TableColumn\"},{\"attributes\":{},\"id\":\"1477\",\"type\":\"Selection\"},{\"attributes\":{\"format\":\"0,0.0[00000]\"},\"id\":\"1488\",\"type\":\"NumberFormatter\"},{\"attributes\":{\"source\":{\"id\":\"1476\"}},\"id\":\"1525\",\"type\":\"CDSView\"},{\"attributes\":{\"editor\":{\"id\":\"1519\"},\"field\":\"Class\",\"formatter\":{\"id\":\"1518\"},\"title\":\"Class\"},\"id\":\"1520\",\"type\":\"TableColumn\"},{\"attributes\":{\"children\":[{\"id\":\"1475\"},{\"id\":\"1523\"},{\"id\":\"1530\"}],\"margin\":[0,0,0,0],\"name\":\"Row02336\",\"tags\":[\"embedded\"]},\"id\":\"1474\",\"type\":\"Row\"},{\"attributes\":{},\"id\":\"1494\",\"type\":\"StringEditor\"},{\"attributes\":{},\"id\":\"1489\",\"type\":\"NumberEditor\"},{\"attributes\":{\"editor\":{\"id\":\"1504\"},\"field\":\"bin_amount\",\"formatter\":{\"id\":\"1503\"},\"title\":\"bin_amount\"},\"id\":\"1505\",\"type\":\"TableColumn\"},{\"attributes\":{},\"id\":\"1499\",\"type\":\"IntEditor\"},{\"attributes\":{\"editor\":{\"id\":\"1494\"},\"field\":\"commodity\",\"formatter\":{\"id\":\"1493\"},\"title\":\"commodity\"},\"id\":\"1495\",\"type\":\"TableColumn\"},{\"attributes\":{\"margin\":[5,5,5,5],\"name\":\"HSpacer02340\",\"sizing_mode\":\"stretch_width\"},\"id\":\"1475\",\"type\":\"Spacer\"},{\"attributes\":{\"format\":\"0,0.0[00000]\"},\"id\":\"1478\",\"type\":\"NumberFormatter\"},{\"attributes\":{},\"id\":\"1498\",\"type\":\"NumberFormatter\"},{\"attributes\":{},\"id\":\"1527\",\"type\":\"UnionRenderers\"},{\"attributes\":{\"columns\":[{\"id\":\"1480\"},{\"id\":\"1485\"},{\"id\":\"1490\"},{\"id\":\"1495\"},{\"id\":\"1500\"},{\"id\":\"1505\"},{\"id\":\"1510\"},{\"id\":\"1515\"},{\"id\":\"1520\"}],\"height\":300,\"reorderable\":false,\"source\":{\"id\":\"1476\"},\"view\":{\"id\":\"1525\"},\"width\":700},\"id\":\"1523\",\"type\":\"DataTable\"},{\"attributes\":{\"format\":\"0,0.0[00000]\"},\"id\":\"1503\",\"type\":\"NumberFormatter\"},{\"attributes\":{\"editor\":{\"id\":\"1499\"},\"field\":\"pickups\",\"formatter\":{\"id\":\"1498\"},\"title\":\"pickups\"},\"id\":\"1500\",\"type\":\"TableColumn\"},{\"attributes\":{\"margin\":[5,5,5,5],\"name\":\"HSpacer02341\",\"sizing_mode\":\"stretch_width\"},\"id\":\"1530\",\"type\":\"Spacer\"},{\"attributes\":{},\"id\":\"1483\",\"type\":\"NumberFormatter\"},{\"attributes\":{\"data\":{\"Class\":{\"__ndarray__\":\"AAAAAAAAAAAAAAAAAQAAAAEAAAABAAAAAQAAAAEAAAABAAAAAQAAAAAAAAAAAAAAAAAAAAAAAAABAAAAAQAAAAEAAAABAAAAAQAAAAEAAAABAAAAAQAAAAEAAAABAAAAAAAAAAAAAAAAAAAAAAAAAAAAAAACAAAAAgAAAAIAAAABAAAAAQAAAAEAAAABAAAAAQAAAAEAAAABAAAAAQAAAAEAAAABAAAAAQAAAAAAAAABAAAAAAAAAAAAAAAAAAAAAAAAAAEAAAABAAAAAQAAAAEAAAABAAAAAQAAAAEAAAABAAAAAQAAAAEAAAABAAAAAQAAAAAAAAAAAAAAAAAAAAEAAAABAAAAAQAAAAEAAAABAAAAAQAAAAEAAAABAAAAAQAAAAEAAAABAAAAAAAAAAAAAAAAAAAAAAAAAAAAAAAAAAAAAgAAAAAAAAAAAAAAAAAAAAAAAAAAAAAAAAAAAAAAAAABAAAAAQAAAAEAAAABAAAAAAAAAAAAAAAAAAAAAQAAAAEAAAABAAAAAQAAAAEAAAABAAAAAQAAAAEAAAABAAAAAQAAAAEAAAABAAAAAQAAAAEAAAACAAAAAQAAAAEAAAABAAAAAQAAAAEAAAABAAAAAQAAAAEAAAABAAAAAQAAAAEAAAABAAAAAgAAAAEAAAABAAAAAQAAAAEAAAABAAAAAQAAAAAAAAAAAAAAAAAAAAEAAAABAAAAAQAAAAEAAAABAAAAAAAAAAAAAAABAAAAAQAAAAEAAAAAAAAAAAAAAAAAAAABAAAAAQAAAAEAAAABAAAAAQAAAAAAAAAAAAAAAAAAAAEAAAABAAAAAQAAAAEAAAABAAAAAAAAAAAAAAAAAAAAAgAAAAEAAAABAAAAAQAAAAAAAAAAAAAAAAAAAAAAAAAAAAAAAAAAAAAAAAABAAAAAQAAAAEAAAABAAAAAQAAAAEAAAABAAAAAQAAAAEAAAABAAAAAQAAAAEAAAAAAAAAAQAAAAEAAAABAAAAAAAAAAAAAAAAAAAAAAAAAAAAAAAAAAAAAAAAAAAAAAAAAAAAAQAAAAEAAAAAAAAAAAAAAAAAAAAAAAAAAAAAAAAAAAABAAAAAQAAAAEAAAABAAAAAQAAAAEAAAABAAAAAQAAAAEAAAABAAAAAAAAAAAAAAAAAAAAAAAAAAAAAAAAAAAAAAAAAAAAAAAAAAAAAgAAAAEAAAABAAAAAQAAAAEAAAABAAAAAQAAAAEAAAABAAAAAAAAAAAAAAAAAAAAAgAAAAIAAAACAAAAAgAAAAEAAAABAAAAAQAAAAEAAAABAAAAAQAAAAEAAAABAAAAAAAAAAAAAAAAAAAAAgAAAAIAAAACAAAAAgAAAAAAAAABAAAAAAAAAAEAAAABAAAAAQAAAAEAAAABAAAAAQAAAAIAAAACAAAAAgAAAAAAAAAAAAAAAAAAAAIAAAACAAAAAgAAAAEAAAABAAAAAQAAAAEAAAABAAAAAAAAAAAAAAAAAAAAAAAAAAAAAAAAAAAAAAAAAAAAAAAAAAAAAQAAAAEAAAABAAAAAQAAAAEAAAABAAAAAAAAAAAAAAABAAAAAQAAAAEAAAABAAAAAQAAAAEAAAABAAAAAQAAAAEAAAABAAAAAQAAAAAAAAAAAAAAAAAAAAAAAAAAAAAAAAAAAAEAAAABAAAAAQAAAAEAAAABAAAAAQAAAAEAAAABAAAAAQAAAAEAAAABAAAAAAAAAAEAAAABAAAAAQAAAAEAAAABAAAAAQAAAAEAAAABAAAAAQAAAAEAAAABAAAAAQAAAAEAAAABAAAAAQAAAAEAAAABAAAAAQAAAAEAAAABAAAAAQAAAAIAAAACAAAAAAAAAAAAAAAAAAAAAAAAAAIAAAACAAAAAAAAAAAAAAAAAAAAAgAAAAIAAAABAAAAAQAAAAEAAAAAAAAAAAAAAAAAAAAAAAAAAAAAAAAAAAAAAAAAAAAAAAEAAAAAAAAAAQAAAAAAAAAAAAAAAAAAAAIAAAACAAAAAAAAAAAAAAABAAAAAAAAAAAAAAAAAAAAAAAAAAAAAAAAAAAAAAAAAAAAAAACAAAAAQAAAAEAAAABAAAAAQAAAAEAAAABAAAAAQAAAAEAAAACAAAAAgAAAAIAAAABAAAAAQAAAAEAAAACAAAAAgAAAAEAAAABAAAAAQAAAAEAAAABAAAAAQAAAAAAAAAAAAAAAAAAAAEAAAABAAAAAQAAAAAAAAAAAAAAAAAAAAIAAAACAAAAAAAAAAAAAAAAAAAAAAAAAAAAAAAAAAAAAAAAAAAAAAAAAAAAAAAAAAAAAAAAAAAAAAAAAAAAAAAAAAAAAAAAAAAAAAAAAAAAAAAAAAAAAAADAAAAAwAAAAMAAAADAAAAAwAAAAMAAAADAAAAAwAAAAMAAAACAAAAAgAAAAIAAAAAAAAAAAAAAAAAAAAAAAAAAAAAAAAAAAAAAAAAAAAAAAAAAAAAAAAAAAAAAAAAAAAAAAAAAAAAAAAAAAAAAAAAAAAAAAAAAAAAAAAAAAAAAAAAAAAAAAAAAAAAAAAAAAAAAAAAAAAAAAAAAAAAAAAAAwAAAAMAAAADAAAAAAAAAAAAAAACAAAAAgAAAAIAAAAAAAAAAAAAAAIAAAACAAAAAgAAAAIAAAACAAAAAgAAAAAAAAAAAAAAAAAAAAIAAAACAAAAAgAAAAAAAAAAAAAAAAAAAAAAAAAAAAAAAgAAAAIAAAABAAAAAQAAAAAAAAAAAAAAAAAAAAAAAAAAAAAAAAAAAAAAAAACAAAAAgAAAAIAAAACAAAAAgAAAAIAAAACAAAAAgAAAAIAAAACAAAAAgAAAAIAAAACAAAAAgAAAAIAAAACAAAAAgAAAAIAAAACAAAAAgAAAAIAAAACAAAAAgAAAAIAAAACAAAAAgAAAAAAAAAAAAAAAAAAAAAAAAAAAAAAAAAAAAAAAAAAAAAAAAAAAAAAAAAAAAAAAAAAAAAAAAACAAAAAgAAAAAAAAAAAAAAAAAAAAAAAAACAAAAAgAAAAAAAAAAAAAAAAAAAAAAAAAAAAAAAAAAAAAAAAAAAAAAAAAAAAAAAAAAAAAAAAAAAAAAAAAAAAAAAAAAAAAAAAAAAAAAAAAAAAAAAAAAAAAAAAAAAAAAAAAAAAAAAAAAAAAAAAAAAAAAAAAAAAAAAAACAAAAAgAAAAAAAAAAAAAAAAAAAAAAAAAAAAAAAAAAAAAAAAAAAAAAAAAAAAAAAAAAAAAAAAAAAAAAAAAAAAAAAAAAAAAAAAAAAAAAAAAAAAAAAAAAAAAAAAAAAAAAAAAAAAAAAAAAAAAAAAAAAAAAAAAAAAAAAAAAAAAAAAAAAAAAAAACAAAAAgAAAAIAAAACAAAAAAAAAAMAAAADAAAAAAAAAAAAAAAAAAAAAQAAAAIAAAACAAAAAgAAAAAAAAAAAAAAAAAAAAAAAAAAAAAAAAAAAAAAAAAAAAAAAAAAAAAAAAAAAAAAAAAAAAIAAAABAAAAAAAAAAAAAAAAAAAAAAAAAAAAAAAAAAAAAAAAAAAAAAAAAAAAAAAAAAAAAAAAAAAAAAAAAAAAAAAAAAAAAgAAAAIAAAACAAAAAAAAAAAAAAAAAAAAAAAAAAAAAAAAAAAAAwAAAAMAAAADAAAAAwAAAAMAAAACAAAAAgAAAAAAAAAAAAAAAAAAAAAAAAAAAAAAAAAAAAAAAAACAAAAAgAAAAAAAAAAAAAAAAAAAAAAAAAAAAAAAAAAAAAAAAAAAAAAAAAAAAAAAAAAAAAAAgAAAAAAAAACAAAAAgAAAAAAAAAAAAAAAAAAAAAAAAAAAAAAAAAAAAAAAAABAAAAAQAAAAEAAAABAAAAAQAAAAIAAAABAAAAAQAAAAEAAAABAAAAAQAAAAEAAAABAAAAAQAAAAEAAAABAAAAAQAAAAEAAAABAAAAAQAAAAEAAAABAAAAAQAAAAEAAAABAAAAAQAAAAEAAAABAAAAAQAAAAEAAAABAAAAAQAAAAEAAAABAAAAAQAAAAEAAAABAAAAAQAAAAEAAAABAAAAAQAAAAEAAAABAAAAAQAAAAEAAAABAAAAAQAAAAEAAAABAAAAAQAAAAEAAAABAAAAAAAAAAEAAAABAAAAAQAAAAEAAAABAAAAAQAAAAEAAAABAAAAAQAAAAEAAAABAAAAAQAAAAEAAAABAAAAAQAAAAEAAAAAAAAAAAAAAAEAAAABAAAAAQAAAAEAAAABAAAAAQAAAAEAAAABAAAAAQAAAAEAAAABAAAAAQAAAAEAAAABAAAAAQAAAAEAAAABAAAAAQAAAAEAAAABAAAAAQAAAAEAAAABAAAAAQAAAAEAAAABAAAAAQAAAAEAAAABAAAAAQAAAAEAAAABAAAAAgAAAAIAAAACAAAAAgAAAAEAAAACAAAAAQAAAAEAAAABAAAAAQAAAAEAAAABAAAAAQAAAAEAAAABAAAAAQAAAAIAAAABAAAAAQAAAAEAAAABAAAAAAAAAAAAAAAAAAAAAAAAAAAAAAAAAAAAAgAAAAEAAAABAAAAAQAAAAEAAAABAAAAAgAAAAIAAAACAAAAAAAAAAIAAAACAAAAAgAAAAIAAAACAAAAAgAAAAIAAAACAAAAAAAAAAAAAAAAAAAAAAAAAAAAAAAAAAAAAAAAAAAAAAAAAAAAAQAAAAAAAAAAAAAAAAAAAAAAAAAAAAAAAAAAAAAAAAAAAAAAAAAAAAAAAAAAAAAAAAAAAAAAAAABAAAAAQAAAAEAAAABAAAAAQAAAAEAAAABAAAAAQAAAAEAAAACAAAAAgAAAAEAAAABAAAAAQAAAAEAAAABAAAAAQAAAAEAAAABAAAAAAAAAAAAAAABAAAAAQAAAAEAAAAAAAAAAAAAAAAAAAAAAAAAAAAAAAEAAAABAAAAAQAAAAIAAAACAAAAAAAAAAAAAAAAAAAAAQAAAAAAAAABAAAAAQAAAAEAAAABAAAAAQAAAAEAAAABAAAAAQAAAAEAAAABAAAAAQAAAAEAAAAAAAAAAAAAAAAAAAAAAAAAAAAAAAAAAAAAAAAAAAAAAAAAAAACAAAAAgAAAAEAAAABAAAAAQAAAAEAAAABAAAAAQAAAAEAAAABAAAAAQAAAAEAAAABAAAAAQAAAAAAAAAAAAAAAAAAAAAAAAAAAAAAAAAAAAAAAAAAAAAAAAAAAAAAAAAAAAAAAAAAAAAAAAADAAAAAwAAAAMAAAADAAAAAwAAAAAAAAABAAAAAQAAAAEAAAABAAAAAQAAAAEAAAABAAAAAQAAAAEAAAABAAAAAQAAAAEAAAAAAAAAAAAAAAAAAAAAAAAAAAAAAAAAAAAAAAAAAgAAAAAAAAAAAAAAAAAAAAAAAAAAAAAAAAAAAAAAAAAAAAAAAAAAAAAAAAAAAAAAAAAAAAAAAAACAAAAAQAAAAEAAAAAAAAAAQAAAAEAAAABAAAAAQAAAAEAAAABAAAAAQAAAAAAAAABAAAAAQAAAAEAAAABAAAAAQAAAAEAAAABAAAAAQAAAAEAAAABAAAAAQAAAAEAAAABAAAAAQAAAAEAAAABAAAAAgAAAAAAAAAAAAAAAAAAAAAAAAAAAAAAAAAAAAAAAAAAAAAAAAAAAAAAAAAAAAAAAAAAAAAAAAABAAAAAQAAAAAAAAAAAAAAAAAAAAAAAAAAAAAAAAAAAAAAAAAAAAAAAAAAAAAAAAACAAAAAgAAAAEAAAABAAAAAQAAAAEAAAABAAAAAQAAAAEAAAAAAAAAAAAAAAAAAAABAAAAAQAAAAEAAAABAAAAAQAAAAEAAAABAAAAAQAAAAEAAAABAAAAAAAAAAEAAAABAAAAAQAAAAAAAAACAAAAAQAAAAEAAAABAAAAAgAAAAIAAAABAAAAAQAAAAEAAAABAAAAAgAAAAIAAAACAAAAAQAAAAIAAAACAAAAAgAAAAAAAAAAAAAAAAAAAAEAAAABAAAAAQAAAAEAAAABAAAAAQAAAAEAAAABAAAAAQAAAAEAAAAAAAAAAAAAAAAAAAAAAAAAAAAAAAAAAAABAAAAAAAAAAEAAAABAAAAAQAAAAEAAAABAAAAAQAAAAAAAAAAAAAAAQAAAAEAAAABAAAAAAAAAAEAAAAAAAAAAAAAAAAAAAABAAAAAAAAAAAAAAAAAAAAAgAAAAIAAAACAAAAAgAAAAIAAAACAAAAAgAAAAIAAAACAAAAAgAAAAIAAAACAAAAAgAAAAAAAAAAAAAAAAAAAAAAAAAAAAAAAQAAAAEAAAABAAAAAAAAAAAAAAABAAAAAAAAAAAAAAAAAAAAAAAAAAAAAAAAAAAAAQAAAAEAAAABAAAAAAAAAAEAAAAAAAAAAAAAAAAAAAAAAAAAAAAAAAAAAAAAAAAAAAAAAAAAAAAAAAAAAgAAAAIAAAABAAAAAQAAAAEAAAABAAAAAQAAAAEAAAABAAAAAQAAAAAAAAAAAAAAAgAAAAIAAAACAAAAAAAAAAAAAAAAAAAAAAAAAAAAAAAAAAAAAAAAAAAAAAAAAAAAAAAAAAAAAAAAAAAAAAAAAAAAAAAAAAAAAAAAAAAAAAACAAAAAgAAAAIAAAACAAAAAgAAAAEAAAACAAAAAQAAAAIAAAACAAAAAQAAAAEAAAABAAAAAQAAAAAAAAABAAAAAQAAAAEAAAABAAAAAAAAAAAAAAABAAAAAQAAAAEAAAABAAAAAQAAAAAAAAAAAAAAAAAAAAAAAAABAAAAAAAAAAEAAAABAAAAAAAAAAEAAAABAAAAAQAAAAEAAAABAAAAAQAAAAEAAAABAAAAAQAAAAEAAAABAAAAAAAAAAAAAAABAAAAAQAAAAAAAAAAAAAAAAAAAAAAAAAAAAAAAAAAAAEAAAAAAAAAAQAAAAEAAAABAAAAAQAAAAAAAAAAAAAAAAAAAAAAAAAAAAAAAgAAAAIAAAACAAAAAgAAAAIAAAACAAAAAgAAAAIAAAACAAAAAAAAAAAAAAAAAAAAAAAAAAAAAAAAAAAAAQAAAAAAAAAAAAAAAAAAAAEAAAABAAAAAAAAAAAAAAAAAAAAAAAAAAAAAAAAAAAAAAAAAAAAAAACAAAAAgAAAAIAAAACAAAAAgAAAAIAAAACAAAAAgAAAAIAAAACAAAAAgAAAAAAAAAAAAAAAQAAAAEAAAACAAAAAgAAAAEAAAABAAAAAQAAAAEAAAACAAAAAQAAAAAAAAAAAAAAAAAAAAAAAAAAAAAAAgAAAAIAAAACAAAAAgAAAAIAAAACAAAAAgAAAAIAAAACAAAAAgAAAAIAAAACAAAAAAAAAAEAAAAAAAAAAQAAAAAAAAAAAAAAAAAAAAEAAAAAAAAAAAAAAAAAAAABAAAAAQAAAAEAAAABAAAAAQAAAAAAAAAAAAAAAQAAAAEAAAAAAAAAAAAAAAEAAAABAAAAAAAAAAAAAAAAAAAAAAAAAAAAAAAAAAAAAAAAAAAAAAABAAAAAgAAAAIAAAABAAAAAQAAAAAAAAAAAAAAAAAAAAAAAAAAAAAAAAAAAAAAAAACAAAAAgAAAAIAAAABAAAAAQAAAAEAAAABAAAAAQAAAAEAAAABAAAAAQAAAAEAAAABAAAAAAAAAAAAAAAAAAAAAAAAAAAAAAACAAAAAgAAAAIAAAABAAAAAQAAAAEAAAAAAAAAAAAAAAAAAAAAAAAAAQAAAAEAAAABAAAAAQAAAAEAAAABAAAAAAAAAAEAAAAAAAAAAAAAAAAAAAACAAAAAQAAAAEAAAABAAAAAQAAAAIAAAACAAAAAAAAAAAAAAAAAAAAAAAAAAAAAAAAAAAAAAAAAAEAAAABAAAAAQAAAAEAAAAAAAAAAQAAAAEAAAAAAAAAAQAAAAAAAAAAAAAAAAAAAAAAAAAAAAAAAQAAAAEAAAAAAAAAAQAAAAEAAAABAAAAAQAAAAAAAAAAAAAAAAAAAAAAAAAAAAAAAAAAAAIAAAACAAAAAgAAAAIAAAAAAAAAAAAAAAAAAAAAAAAAAAAAAAAAAAAAAAAAAAAAAAAAAAAAAAAAAAAAAAAAAAAAAAAAAAAAAAAAAAAAAAAAAAAAAAAAAAAAAAAAAAAAAAAAAAABAAAAAQAAAAAAAAAAAAAAAAAAAAAAAAABAAAAAQAAAAEAAAABAAAAAQAAAAEAAAABAAAAAQAAAAIAAAAAAAAAAAAAAAAAAAAAAAAAAAAAAAAAAAAAAAAAAAAAAAIAAAACAAAAAQAAAAIAAAACAAAAAQAAAAEAAAABAAAAAQAAAAEAAAABAAAAAQAAAAEAAAABAAAAAQAAAAAAAAAAAAAAAQAAAAEAAAABAAAAAQAAAAAAAAAAAAAAAAAAAAAAAAAAAAAAAAAAAAAAAAAAAAAAAAAAAAAAAAAAAAAAAAAAAAAAAAAAAAAAAAAAAAEAAAAAAAAAAAAAAAAAAAAAAAAAAAAAAAAAAAAAAAAAAAAAAAEAAAABAAAAAAAAAAAAAAAAAAAAAAAAAAAAAAAAAAAAAAAAAAAAAAAAAAAAAAAAAAAAAAAAAAAAAAAAAAAAAAAAAAAAAAAAAAAAAAABAAAAAQAAAAEAAAAAAAAAAAAAAAAAAAABAAAAAQAAAAEAAAABAAAAAQAAAAEAAAAAAAAAAQAAAAEAAAABAAAAAQAAAAEAAAAAAAAAAAAAAAAAAAABAAAAAQAAAAAAAAABAAAAAQAAAAAAAAAAAAAAAAAAAAAAAAAAAAAAAAAAAAAAAAAAAAAAAAAAAAAAAAAAAAAAAAAAAAAAAAAAAAAAAAAAAAAAAAAAAAAAAAAAAAIAAAACAAAAAgAAAAIAAAACAAAAAgAAAAIAAAACAAAAAgAAAAIAAAACAAAAAgAAAAIAAAACAAAAAQAAAAEAAAABAAAAAQAAAAEAAAABAAAAAQAAAAAAAAAAAAAAAAAAAAAAAAAAAAAAAAAAAAAAAAAAAAAAAAAAAAAAAAAAAAAAAAAAAAAAAAAAAAAAAAAAAAAAAAAAAAAAAAAAAAAAAAAAAAAAAAAAAAAAAAAAAAAAAAAAAAAAAAAAAAAAAAAAAAAAAAAAAAAAAAAAAAAAAAAAAAAAAAAAAAAAAAAAAAAAAAAAAAAAAAAAAAAAAAAAAAAAAAAAAAAAAAAAAAAAAAAAAAAAAAAAAAAAAAAAAAAAAQAAAAEAAAABAAAAAQAAAAAAAAAAAAAAAAAAAAAAAAAAAAAAAgAAAAIAAAACAAAAAgAAAAIAAAACAAAAAAAAAAAAAAAAAAAAAAAAAAAAAAAAAAAAAAAAAAAAAAAAAAAAAAAAAAAAAAAAAAAAAAAAAAAAAAAAAAAAAAAAAAAAAAAAAAAAAAAAAAAAAAABAAAAAAAAAAAAAAABAAAAAAAAAAAAAAAAAAAAAAAAAAAAAAAAAAAAAAAAAAAAAAAAAAAAAAAAAAAAAAAAAAAAAAAAAAAAAAAAAAAAAgAAAAIAAAABAAAAAAAAAAAAAAAAAAAAAAAAAAEAAAAAAAAAAAAAAAAAAAAAAAAAAAAAAAAAAAAAAAAAAAAAAAAAAAABAAAAAQAAAAEAAAABAAAAAQAAAAEAAAAAAAAAAQAAAAEAAAAAAAAAAQAAAAEAAAAAAAAAAAAAAAAAAAAAAAAAAAAAAAAAAAAAAAAAAAAAAAEAAAABAAAAAQAAAAEAAAABAAAAAAAAAAEAAAABAAAAAAAAAAEAAAA=\",\"dtype\":\"int32\",\"order\":\"little\",\"shape\":[1817]},\"bin_amount\":{\"__ndarray__\":\"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\",\"dtype\":\"float64\",\"order\":\"little\",\"shape\":[1817]},\"biz_type\":[\"MINI MART\",\"MINI MART\",\"MINI MART\",\"WINERY\",\"WINERY\",\"WINERY\",\"WINERY\",\"WINERY\",\"WINERY\",\"WINERY\",\"MEDICAL\",\"MEDICAL\",\"GROCERY\",\"GROCERY\",\"WINERY\",\"WINERY\",\"WINERY\",\"WINERY\",\"WINERY\",\"WINERY\",\"WINERY\",\"WINERY\",\"WINERY\",\"WINERY\",\"OFFICE BLD\",\"OFFICE BLD\",\"OFFICE BLD\",\"OFFICE BLD\",\"OFFICE BLD\",\"RESTAURANT\",\"WINERY\",\"WINERY\",\"WINERY\",\"WINERY\",\"WINERY\",\"WINERY\",\"WINERY\",\"WINERY\",\"WINERY\",\"WINERY\",\"WINERY\",\"WINERY\",\"WINERY\",\"PRESCHOOL\",\"PRESCHOOL\",\"PRESCHOOL\",\"FLORIST\",\"FLORIST\",\"FLORIST\",\"WINERY\",\"WINERY\",\"WINERY\",\"WINERY\",\"WINERY\",\"WINERY\",\"WINERY\",\"WINERY\",\"VINEYARD\",\"VINEYARD\",\"VINEYARD\",\"VINEYARD\",\"CHURCH\",\"CHURCH\",\"CHURCH\",\"VINEYARD\",\"VINEYARD\",\"VINEYARD\",\"VINEYARD\",\"VINEYARD\",\"WINERY\",\"WINERY\",\"WINERY\",\"WINERY\",\"WINERY\",\"WINERY\",\"HOME IMPRO\",\"HOME IMPRO\",\"HOME IMPRO\",\"HOME IMPRO\",\"HOME IMPRO\",\"HOME IMPRO\",\"MULTIFAMIL\",\"MULTIFAMIL\",\"MULTIFAMIL\",\"MULTIFAMIL\",\"MULTIFAMIL\",\"PRESCHOOL\",\"PRESCHOOL\",\"PRESCHOOL\",\"WINERY\",\"WINERY\",\"VINEYARD\",\"VINEYARD\",\"MEDICAL\",\"MEDICAL\",\"MEDICAL\",\"WINERY\",\"WINERY\",\"WINERY\",\"WINERY\",\"WINERY\",\"WINERY\",\"MIXED USE\",\"MIXED USE\",\"MIXED USE\",\"MIXED USE\",\"MIXED USE\",\"WINERY\",\"WINERY\",\"WINERY\",\"WINERY\",\"WINERY\",\"WINERY\",\"WINERY\",\"WINERY\",\"WINERY\",\"WINERY\",\"WINERY\",\"WINERY\",\"WINERY\",\"WINERY\",\"WINERY\",\"WINERY\",\"WINERY\",\"WINERY\",\"WINERY\",\"WINERY\",\"WINERY\",\"WINERY\",\"WINERY\",\"LODGING-FW\",\"LODGING-FW\",\"LODGING-FW\",\"WINERY\",\"WINERY\",\"WINERY\",\"WINERY\",\"WINERY\",\"SCHOOL\",\"SCHOOL\",\"WINERY\",\"WINERY\",\"WINERY\",\"MULTIFAMIL\",\"MULTIFAMIL\",\"MULTIFAMIL\",\"WINERY\",\"WINERY\",\"WINERY\",\"WINERY\",\"WINERY\",\"STRIP MALL\",\"STRIP MALL\",\"STRIP MALL\",\"WINERY\",\"WINERY\",\"WINERY\",\"WINERY\",\"WINERY\",\"FOURPLEX\",\"FOURPLEX\",\"FOURPLEX\",\"UTILITY\",\"UTILITY\",\"UTILITY\",\"UTILITY\",\"OFFICE BLD\",\"OFFICE BLD\",\"OFFICE BLD\",\"OFFICE BLD\",\"OFFICE BLD\",\"RESTAURANT\",\"RESTAURANT\",\"WINERY\",\"WINERY\",\"WINERY\",\"WINERY\",\"WINERY\",\"LANDSCAPER\",\"LANDSCAPER\",\"WINERY\",\"WINERY\",\"WINERY\",\"WINERY\",\"WINERY\",\"WINERY\",\"WINERY\",\"WINERY\",\"WINERY\",\"WINERY\",\"STRIP MALL\",\"STRIP MALL\",\"OFFICE BLD\",\"OFFICE BLD\",\"RETAIL\",\"RETAIL\",\"RETAIL\",\"RETAIL\",\"WINERY\",\"WINERY\",\"UTILITY\",\"UTILITY\",\"UTILITY\",\"UTILITY\",\"HOME IMPRO\",\"HOME IMPRO\",\"CONTRACTOR\",\"CONTRACTOR\",\"CONTRACTOR\",\"MIXED USE\",\"MIXED USE\",\"MIXED USE\",\"MIXED USE\",\"MIXED USE\",\"WINERY\",\"WINERY\",\"RESTAURANT\",\"RESTAURANT\",\"RESTAURANT\",\"RESTAURANT\",\"RESTAURANT\",\"RESTAURANT\",\"RESTAURANT\",\"RESTAURANT\",\"RESTAURANT\",\"RESTAURANT\",\"RESTAURANT\",\"RESTAURANT\",\"RESTAURANT\",\"RESTAURANT\",\"RESTAURANT\",\"RESTAURANT\",\"RESTAURANT\",\"RESTAURANT\",\"RESTAURANT\",\"RESTAURANT\",\"RESTAURANT\",\"RESTAURANT\",\"RESTAURANT\",\"RESTAURANT\",\"RESTAURANT\",\"WINERY\",\"WINERY\",\"WINERY\",\"WINERY\",\"WINERY\",\"WINERY\",\"WINERY\",\"WINERY\",\"CONTRACTOR\",\"COMMUNITY\",\"COMMUNITY\",\"MIXED USE\",\"MIXED USE\",\"MIXED USE\",\"MIXED USE\",\"LODGING\",\"LODGING\",\"LODGING\",\"WINERY\",\"WINERY\",\"WINERY\",\"WINERY\",\"WINERY\",\"WINERY\",\"GROCERY\",\"GROCERY\",\"GROCERY\",\"GROCERY\",\"GROCERY\",\"GROCERY\",\"GROCERY\",\"GROCERY\",\"GROCERY\",\"WINERY\",\"WINERY\",\"WINERY\",\"WINERY\",\"WINERY\",\"MULTIFAMIL\",\"MULTIFAMIL\",\"MULTIFAMIL\",\"MULTIFAMIL\",\"DUPLEX\",\"DUPLEX\",\"DUPLEX\",\"DUPLEX\",\"DUPLEX\",\"WINERY\",\"WINERY\",\"WINERY\",\"WINERY\",\"WINERY\",\"WINERY\",\"RESTAURANT\",\"RESTAURANT\",\"WINERY\",\"WINERY\",\"WINERY\",\"WINERY\",\"WINERY\",\"WINERY\",\"WINERY\",\"WINERY\",\"WINERY\",\"WINERY\",\"WINERY\",\"MULTIFAMIL\",\"MULTIFAMIL\",\"MULTIFAMIL\",\"MULTIFAMIL\",\"MULTIFAMIL\",\"MULTIFAMIL\",\"WINERY\",\"WINERY\",\"WINERY\",\"WINERY\",\"WINERY\",\"CONTRACTOR\",\"CONTRACTOR\",\"WINERY\",\"WINERY\",\"WINERY\",\"WINERY\",\"WINERY\",\"WINERY\",\"WINERY\",\"WINERY\",\"WINERY\",\"WINERY\",\"WINERY\",\"WINERY\",\"WINERY\",\"WINERY\",\"WINERY\",\"WINERY\",\"WINERY\",\"WINERY\",\"WINERY\",\"WINERY\",\"WINERY\",\"WINERY\",\"WINERY\",\"WINERY\",\"WINERY\",\"WINERY\",\"PARK\",\"RESTAURANT\",\"RESTAURANT\",\"RESTAURANT\",\"RESTAURANT\",\"RESTAURANT\",\"RESTAURANT\",\"RESTAURANT\",\"RESTAURANT\",\"RESTAURANT\",\"RESTAURANT\",\"RESTAURANT\",\"RESTAURANT\",\"VINEYARD\",\"VINEYARD\",\"VINEYARD\",\"RETAIL\",\"RETAIL\",\"COMMUNITY\",\"COMMUNITY\",\"RETAIL\",\"RETAIL\",\"RETAIL\",\"RETAIL\",\"CONTRACTOR\",\"POSTOFFICE\",\"POSTOFFICE\",\"MULTIFAMIL\",\"MULTIFAMIL\",\"MULTIFAMIL\",\"MULTIFAMIL\",\"MULTIFAMIL\",\"MULTIFAMIL\",\"CHURCH\",\"CHURCH\",\"CHURCH\",\"LODGING\",\"LODGING\",\"MEDICAL\",\"MEDICAL\",\"MEDICAL\",\"MEDICAL\",\"MEDICAL\",\"WINERY\",\"WINERY\",\"WINERY\",\"WINERY\",\"WINERY\",\"WINERY\",\"WINERY\",\"WINERY\",\"WINERY\",\"WINERY\",\"WINERY\",\"WINERY\",\"WINERY\",\"WINERY\",\"WINERY\",\"LODGING-FW\",\"LODGING-FW\",\"LODGING-FW\",\"LODGING-FW\",\"LODGING-FW\",\"LODGING-FW\",\"LODGING-FW\",\"LODGING-FW\",\"MULTIFAMIL\",\"MULTIFAMIL\",\"MULTIFAMIL\",\"UTILITY\",\"UTILITY\",\"UTILITY\",\"MULTIFAMIL\",\"MULTIFAMIL\",\"MULTIFAMIL\",\"LODGING\",\"LODGING\",\"LODGING\",\"LODGING\",\"LODGING\",\"LODGING\",\"LODGING\",\"LODGING\",\"LODGING\",\"CHURCH\",\"CHURCH\",\"CHURCH\",\"STRIP MALL\",\"STRIP MALL\",\"STRIP MALL\",\"STRIP MALL\",\"STRIP MALL\",\"MULTIFAMIL\",\"MULTIFAMIL\",\"MULTIFAMIL\",\"MULTIFAMIL\",\"MULTIFAMIL\",\"MOBILEHOME\",\"MOBILEHOME\",\"MOBILEHOME\",\"MOBILEHOME\",\"MOBILEHOME\",\"MOBILEHOME\",\"MOBILEHOME\",\"MOBILEHOME\",\"MOBILEHOME\",\"LODGING\",\"LODGING\",\"LODGING\",\"LODGING\",\"LODGING\",\"OFFICE BLD\",\"OFFICE BLD\",\"RETAIL\",\"RETAIL\",\"RETAIL\",\"RETAIL\",\"ENTERTAINM\",\"ENTERTAINM\",\"POSTOFFICE\",\"POSTOFFICE\",\"POSTOFFICE\",\"POSTOFFICE\",\"OFFICE BLD\",\"OFFICE BLD\",\"OFFICE BLD\",\"OFFICE BLD\",\"LODGING\",\"LODGING\",\"LODGING\",\"LODGING\",\"LODGING\",\"LODGING\",\"LODGING\",\"MEDICAL\",\"MEDICAL\",\"MEDICAL\",\"MOBILEHOME\",\"MOBILEHOME\",\"MOBILEHOME\",\"MULTIFAMIL\",\"MULTIFAMIL\",\"GROCERY\",\"GROCERY\",\"GROCERY\",\"GROCERY\",\"GROCERY\",\"GROCERY\",\"GROCERY\",\"GROCERY\",\"GROCERY\",\"GROCERY\",\"GROCERY\",\"AUTO\",\"AUTO\",\"AUTO\",\"LODGING-FW\",\"LODGING-FW\",\"LODGING-FW\",\"LODGING-FW\",\"LODGING-FW\",\"LODGING-FW\",\"LODGING-FW\",\"LODGING-FW\",\"WINERY\",\"WINERY\",\"WINERY\",\"WINERY\",\"AUTO\",\"OFFICE BLD\",\"OFFICE BLD\",\"OFFICE BLD\",\"OFFICE BLD\",\"OFFICE BLD\",\"OFFICE BLD\",\"RESTAURANT\",\"RESTAURANT\",\"RESTAURANT\",\"RESTAURANT\",\"GROCERY\",\"GROCERY\",\"GROCERY\",\"GROCERY\",\"GROCERY\",\"GROCERY\",\"GROCERY\",\"GROCERY\",\"GROCERY\",\"GROCERY\",\"GROCERY\",\"GROCERY\",\"GROCERY\",\"GROCERY\",\"GROCERY\",\"GROCERY\",\"GROCERY\",\"GROCERY\",\"GROCERY\",\"GROCERY\",\"GROCERY\",\"GROCERY\",\"AUTO\",\"AUTO\",\"HOME IMPRO\",\"HOME IMPRO\",\"HOME IMPRO\",\"HOME IMPRO\",\"RETAIL\",\"RETAIL\",\"RETAIL\",\"RETAIL\",\"POSTOFFICE\",\"POSTOFFICE\",\"POSTOFFICE\",\"PARK\",\"PARK\",\"PARK\",\"UTILITY\",\"UTILITY\",\"UTILITY\",\"PARK\",\"PARK\",\"PARK\",\"PARK\",\"PARK\",\"OFFICE BLD\",\"OFFICE BLD\",\"OFFICE BLD\",\"OFFICE BLD\",\"CONTRACTOR\",\"AUTO\",\"AUTO\",\"AUTO\",\"AUTO\",\"AUTO\",\"UTILITY\",\"UTILITY\",\"AUTO\",\"AUTO\",\"AUTO\",\"AUTO\",\"MULTIFAMIL\",\"MULTIFAMIL\",\"MULTIFAMIL\",\"MULTIFAMIL\",\"COMMUNITY\",\"COMMUNITY\",\"COMMUNITY\",\"VINEYARD\",\"VINEYARD\",\"BAKERY\",\"BAKERY\",\"BAKERY\",\"BAKERY\",\"BAKERY\",\"BAKERY\",\"BAKERY\",\"BAKERY\",\"BAKERY\",\"BAKERY\",\"BAKERY\",\"BAKERY\",\"MULTIFAMIL\",\"MULTIFAMIL\",\"MULTIFAMIL\",\"MULTIFAMIL\",\"MULTIFAMIL\",\"MULTIFAMIL\",\"GROCERY\",\"GROCERY\",\"GROCERY\",\"SCHOOL\",\"SCHOOL\",\"SCHOOL\",\"SCHOOL\",\"SCHOOL\",\"OFFICE BLD\",\"OFFICE BLD\",\"OFFICE BLD\",\"MEDICAL\",\"MEDICAL\",\"MEDICAL\",\"MEDICAL\",\"HOA\",\"HOA\",\"HOA\",\"HOA\",\"HOA\",\"MOBILEHOME\",\"MOBILEHOME\",\"INDUSTRIAL\",\"INDUSTRIAL\",\"WINERY\",\"WINERY\",\"NRSG HOME\",\"NRSG HOME\",\"NRSG HOME\",\"NRSG HOME\",\"NRSG HOME\",\"NRSG HOME\",\"MULTIFAMIL\",\"MULTIFAMIL\",\"MULTIFAMIL\",\"MULTIFAMIL\",\"MULTIFAMIL\",\"OFFICE BLD\",\"OFFICE BLD\",\"OFFICE BLD\",\"MULTIFAMIL\",\"LODGING-FW\",\"LODGING-FW\",\"LODGING-FW\",\"LODGING-FW\",\"LODGING-FW\",\"CHURCH\",\"CHURCH\",\"CHURCH\",\"CHURCH\",\"CHURCH\",\"COMMUNITY\",\"COMMUNITY\",\"COMMUNITY\",\"CHURCH\",\"CHURCH\",\"CHURCH\",\"CHURCH\",\"OFFICE BLD\",\"OFFICE BLD\",\"OFFICE BLD\",\"OFFICE BLD\",\"CONTRACTOR\",\"CONTRACTOR\",\"CHURCH\",\"CHURCH\",\"CHURCH\",\"MOBILEHOME\",\"MOBILEHOME\",\"MOBILEHOME\",\"MOBILEHOME\",\"MOBILEHOME\",\"LODGING\",\"LODGING\",\"LODGING\",\"LODGING\",\"LODGING\",\"OFFICE BLD\",\"OFFICE BLD\",\"STRIP MALL\",\"STRIP MALL\",\"STRIP MALL\",\"STRIP MALL\",\"LODGING-FW\",\"LODGING-FW\",\"LODGING-FW\",\"LODGING\",\"LODGING\",\"LODGING\",\"LODGING\",\"LODGING\",\"CHURCH\",\"CHURCH\",\"CHURCH\",\"COMMUNITY\",\"COMMUNITY\",\"NRSG HOME\",\"NRSG HOME\",\"NRSG HOME\",\"NRSG HOME\",\"NRSG HOME\",\"NRSG HOME\",\"NRSG HOME\",\"NRSG HOME\",\"NRSG HOME\",\"MEMBER\",\"VINEYARD\",\"VINEYARD\",\"VINEYARD\",\"VINEYARD\",\"GROUP HOME\",\"GROUP HOME\",\"GROUP HOME\",\"GROUP HOME\",\"GROUP HOME\",\"GROUP HOME\",\"GROUP HOME\",\"INDUSTRIAL\",\"INDUSTRIAL\",\"INDUSTRIAL\",\"INDUSTRIAL\",\"INDUSTRIAL\",\"WINERY\",\"WINERY\",\"WINERY\",\"WINERY\",\"HOSPITAL\",\"MOBILEHOME\",\"MOBILEHOME\",\"MOBILEHOME\",\"MOBILEHOME\",\"MOBILEHOME\",\"HOSPITAL\",\"HOSPITAL\",\"WINERY\",\"WINERY\",\"WINERY\",\"WINERY\",\"WINERY\",\"WINERY\",\"POLICEFIRE\",\"POLICEFIRE\",\"POLICEFIRE\",\"POLICEFIRE\",\"WINERY\",\"WINERY\",\"WINERY\",\"WINERY\",\"SCHOOL\",\"SCHOOL\",\"SCHOOL\",\"VINEYARD\",\"VINEYARD\",\"VINEYARD\",\"VINEYARD\",\"CHURCH\",\"CHURCH\",\"CHURCH\",\"SCHOOL\",\"SCHOOL\",\"SCHOOL\",\"SCHOOL\",\"SCHOOL\",\"SCHOOL\",\"SCHOOL\",\"SCHOOL\",\"SCHOOL\",\"SCHOOL\",\"SCHOOL\",\"SCHOOL\",\"SCHOOL\",\"SCHOOL\",\"SCHOOL\",\"SCHOOL\",\"MINI MART\",\"MINI MART\",\"VINEYARD\",\"WINERY\",\"WINERY\",\"WINERY\",\"WINERY\",\"VINEYARD\",\"WINERY\",\"WINERY\",\"WINERY\",\"VINEYARD\",\"VINEYARD\",\"VINEYARD\",\"VINEYARD\",\"WINERY\",\"WINERY\",\"WINERY\",\"WINERY\",\"WINERY\",\"WINERY\",\"WINERY\",\"WINERY\",\"WINERY\",\"WINERY\",\"WINERY\",\"WINERY\",\"POSTOFFICE\",\"POSTOFFICE\",\"WINERY\",\"WINERY\",\"WINERY\",\"WINERY\",\"WINERY\",\"GROCERY\",\"GROCERY\",\"GROCERY\",\"GROCERY\",\"GROCERY\",\"WINERY\",\"WINERY\",\"WINERY\",\"WINERY\",\"VINEYARD\",\"VINEYARD\",\"WINERY\",\"WINERY\",\"WINERY\",\"WINERY\",\"WINERY\",\"WINERY\",\"WINERY\",\"WINERY\",\"VINEYARD\",\"VINEYARD\",\"AUTO\",\"AUTO\",\"CONTRACTOR\",\"CONTRACTOR\",\"CONTRACTOR\",\"CONTRACTOR\",\"WINERY\",\"WINERY\",\"WINERY\",\"WINERY\",\"WINERY\",\"WINERY\",\"GROCERY\",\"GROCERY\",\"GROCERY\",\"GROCERY\",\"GROCERY\",\"GROCERY\",\"GROCERY\",\"GROCERY\",\"GROCERY\",\"GROCERY\",\"MULTIFAMIL\",\"MULTIFAMIL\",\"MULTIFAMIL\",\"MULTIFAMIL\",\"MULTIFAMIL\",\"MULTIFAMIL\",\"MULTIFAMIL\",\"MULTIFAMIL\",\"MEMBER\",\"MEMBER\",\"MEMBER\",\"CONTRACTOR\",\"HOME IMPRO\",\"HOME IMPRO\",\"HOME IMPRO\",\"MEDICAL\",\"MEDICAL\",\"MEDICAL\",\"MEDICAL\",\"MEDICAL\",\"MEDICAL\",\"OFFICE BLD\",\"OFFICE BLD\",\"LODGING\",\"LODGING\",\"WINERY\",\"WINERY\",\"WINERY\",\"WINERY\",\"WINERY\",\"WINERY\",\"WINERY\",\"WINERY\",\"WINERY\",\"WINERY\",\"WINERY\",\"WINERY\",\"WINERY\",\"WINERY\",\"WINERY\",\"WINERY\",\"WINERY\",\"WINERY\",\"WINERY\",\"ENTERTAINM\",\"ENTERTAINM\",\"WINERY\",\"WINERY\",\"WINERY\",\"OFFICE BLD\",\"OFFICE BLD\",\"OFFICE BLD\",\"OFFICE BLD\",\"OFFICE BLD\",\"WINERY\",\"WINERY\",\"WINERY\",\"OFFICE BLD\",\"OFFICE BLD\",\"OFFICE BLD\",\"OFFICE BLD\",\"HOME IMPRO\",\"HOME IMPRO\",\"HOME IMPRO\",\"WINERY\",\"WINERY\",\"WINERY\",\"WINERY\",\"WINERY\",\"WINERY\",\"WINERY\",\"WINERY\",\"WINERY\",\"WINERY\",\"WINERY\",\"WINERY\",\"UTILITY\",\"UTILITY\",\"UTILITY\",\"MULTIFAMIL\",\"MULTIFAMIL\",\"MULTIFAMIL\",\"MULTIFAMIL\",\"MULTIFAMIL\",\"MULTIFAMIL\",\"WINERY\",\"WINERY\",\"WINERY\",\"WINERY\",\"WINERY\",\"WINERY\",\"WINERY\",\"WINERY\",\"WINERY\",\"WINERY\",\"WINERY\",\"VINEYARD\",\"VINEYARD\",\"VINEYARD\",\"MEDICAL\",\"MEDICAL\",\"MULTIFAMIL\",\"MULTIFAMIL\",\"MULTIFAMIL\",\"MULTIFAMIL\",\"MULTIFAMIL\",\"MULTIFAMIL\",\"MULTIFAMIL\",\"MULTIFAMIL\",\"MULTIFAMIL\",\"MULTIFAMIL\",\"MULTIFAMIL\",\"MOBILEHOME\",\"MOBILEHOME\",\"MOBILEHOME\",\"MOBILEHOME\",\"MOBILEHOME\",\"RETAIL\",\"WINERY\",\"WINERY\",\"WINERY\",\"WINERY\",\"WINERY\",\"WINERY\",\"WINERY\",\"WINERY\",\"WINERY\",\"WINERY\",\"WINERY\",\"WINERY\",\"MULTIFAMIL\",\"MULTIFAMIL\",\"MULTIFAMIL\",\"MULTIFAMIL\",\"MULTIFAMIL\",\"MULTIFAMIL\",\"MULTIFAMIL\",\"SCHOOL\",\"SCHOOL\",\"SCHOOL\",\"SCHOOL\",\"SCHOOL\",\"SCHOOL\",\"SCHOOL\",\"SCHOOL\",\"SCHOOL\",\"SCHOOL\",\"COMMUNITY\",\"COMMUNITY\",\"COMMUNITY\",\"COMMUNITY\",\"WINERY\",\"WINERY\",\"WINERY\",\"WINERY\",\"WINERY\",\"WINERY\",\"WINERY\",\"WINERY\",\"WINERY\",\"WINERY\",\"WINERY\",\"BAR NO FW\",\"PARK\",\"PARK\",\"PARK\",\"PARK\",\"WINERY\",\"WINERY\",\"WINERY\",\"WINERY\",\"WINERY\",\"WINERY\",\"WINERY\",\"WINERY\",\"WINERY\",\"WINERY\",\"WINERY\",\"WINERY\",\"LODGING-FW\",\"LODGING-FW\",\"LODGING-FW\",\"LODGING-FW\",\"LODGING-FW\",\"LODGING-FW\",\"LODGING-FW\",\"LODGING-FW\",\"LODGING-FW\",\"LODGING-FW\",\"LODGING-FW\",\"LODGING-FW\",\"WINERY\",\"WINERY\",\"WINERY\",\"WINERY\",\"WINERY\",\"MULTIFAMIL\",\"MULTIFAMIL\",\"MULTIFAMIL\",\"MULTIFAMIL\",\"MULTIFAMIL\",\"RETAIL\",\"RETAIL\",\"COMMUNITY\",\"COMMUNITY\",\"WINERY\",\"WINERY\",\"WINERY\",\"WINERY\",\"WINERY\",\"WINERY\",\"WINERY\",\"WINERY\",\"WINERY\",\"MULTIFAMIL\",\"MULTIFAMIL\",\"MULTIFAMIL\",\"WINERY\",\"WINERY\",\"WINERY\",\"WINERY\",\"WINERY\",\"WINERY\",\"WINERY\",\"WINERY\",\"WINERY\",\"WINERY\",\"WINERY\",\"WINERY\",\"WINERY\",\"WINERY\",\"MEMBER\",\"MEMBER\",\"WINERY\",\"WINERY\",\"WINERY\",\"RESTAURANT\",\"RESTAURANT\",\"RESTAURANT\",\"RESTAURANT\",\"RESTAURANT\",\"RESTAURANT\",\"RESTAURANT\",\"RESTAURANT\",\"RESTAURANT\",\"RESTAURANT\",\"RESTAURANT\",\"RESTAURANT\",\"RESTAURANT\",\"HOA\",\"HOA\",\"LANDSCAPER\",\"WINERY\",\"WINERY\",\"WINERY\",\"WINERY\",\"WINERY\",\"WINERY\",\"WINERY\",\"WINERY\",\"WINERY\",\"WINERY\",\"FOURPLEX\",\"FOURPLEX\",\"FOURPLEX\",\"FOURPLEX\",\"OFFICE BLD\",\"OFFICE BLD\",\"OFFICE BLD\",\"OFFICE BLD\",\"WINERY\",\"WINERY\",\"WINERY\",\"WINERY\",\"WINERY\",\"WINERY\",\"OFFICE BLD\",\"OFFICE BLD\",\"WINERY\",\"WINERY\",\"WINERY\",\"OFFICE BLD\",\"OFFICE BLD\",\"RETAIL\",\"RETAIL\",\"RETAIL\",\"VINEYARD\",\"CHURCH\",\"CHURCH\",\"CHURCH\",\"LODGING\",\"LODGING\",\"LODGING\",\"LODGING\",\"RESTAURANT\",\"RESTAURANT\",\"RESTAURANT\",\"RESTAURANT\",\"RESTAURANT\",\"RESTAURANT\",\"RESTAURANT\",\"RESTAURANT\",\"MULTIFAMIL\",\"MULTIFAMIL\",\"MULTIFAMIL\",\"MULTIFAMIL\",\"MULTIFAMIL\",\"MULTIFAMIL\",\"WINERY\",\"WINERY\",\"WINERY\",\"OFFICE BLD\",\"OFFICE BLD\",\"WINERY\",\"CHURCH\",\"CHURCH\",\"CHURCH\",\"MULTIFAMIL\",\"MULTIFAMIL\",\"MULTIFAMIL\",\"WINERY\",\"WINERY\",\"WINERY\",\"WINERY\",\"WINERY\",\"RETAIL\",\"RETAIL\",\"RESTAURANT\",\"RESTAURANT\",\"RESTAURANT\",\"RESTAURANT\",\"RESTAURANT\",\"RESTAURANT\",\"RESTAURANT\",\"RESTAURANT\",\"MEDICAL\",\"MEDICAL\",\"MEDICAL\",\"MEDICAL\",\"MEDICAL\",\"MEDICAL\",\"MEDICAL\",\"MEDICAL\",\"MEDICAL\",\"MEDICAL\",\"RETAIL\",\"RETAIL\",\"HOA\",\"HOA\",\"HOA\",\"MULTIFAMIL\",\"MULTIFAMIL\",\"MULTIFAMIL\",\"MULTIFAMIL\",\"MULTIFAMIL\",\"UTILITY\",\"UTILITY\",\"UTILITY\",\"DELI/CAFE\",\"DELI/CAFE\",\"CATERING\",\"CATERING\",\"CATERING\",\"CATERING\",\"CATERING\",\"CATERING\",\"CATERING\",\"CATERING\",\"CATERING\",\"CATERING\",\"CATERING\",\"MEMBER\",\"MEMBER\",\"MEMBER\",\"MEMBER\",\"WINERY\",\"WINERY\",\"WINERY\",\"WINERY\",\"WINERY\",\"WINERY\",\"CHURCH\",\"WINERY\",\"WINERY\",\"VINEYARD\",\"VINEYARD\",\"MULTIFAMIL\",\"MULTIFAMIL\",\"VINEYARD\",\"VINEYARD\",\"VINEYARD\",\"WINERY\",\"WINERY\",\"WINERY\",\"RETAIL\",\"RETAIL\",\"WINERY\",\"WINERY\",\"WINERY\",\"WINERY\",\"WINERY\",\"WINERY\",\"WINERY\",\"WINERY\",\"WINERY\",\"WINERY\",\"WINERY\",\"WINERY\",\"WINERY\",\"WINERY\",\"WINERY\",\"POLICEFIRE\",\"POLICEFIRE\",\"MEMBER\",\"MEMBER\",\"CONTRACTOR\",\"CONTRACTOR\",\"OFFICE BLD\",\"OFFICE BLD\",\"OFFICE BLD\",\"OFFICE BLD\",\"OFFICE BLD\",\"COMMUNITY\",\"COMMUNITY\",\"COMMUNITY\",\"WINERY\",\"WINERY\",\"WINERY\",\"WINERY\",\"MULTIFAMIL\",\"MULTIFAMIL\",\"MULTIFAMIL\",\"MULTIFAMIL\",\"MULTIFAMIL\",\"LODGING-FW\",\"LODGING-FW\",\"LODGING-FW\",\"LODGING-FW\",\"LODGING-FW\",\"LODGING-FW\",\"LODGING-FW\",\"LODGING-FW\",\"LODGING-FW\",\"OFFICE BLD\",\"OFFICE BLD\",\"OFFICE BLD\",\"OFFICE BLD\",\"OFFICE BLD\",\"OFFICE BLD\",\"OFFICE BLD\",\"OFFICE BLD\",\"MULTIFAMIL\",\"MULTIFAMIL\",\"MULTIFAMIL\",\"MULTIFAMIL\",\"VINEYARD\",\"VINEYARD\",\"VINEYARD\",\"LODGING\",\"LODGING\",\"LODGING\",\"LODGING\",\"LODGING\",\"RESTAURANT\",\"RESTAURANT\",\"RESTAURANT\",\"RESTAURANT\",\"RESTAURANT\",\"RESTAURANT\",\"RESTAURANT\",\"RESTAURANT\",\"RESTAURANT\",\"RESTAURANT\",\"RESTAURANT\",\"RESTAURANT\",\"RESTAURANT\",\"CONTRACTOR\",\"CONTRACTOR\",\"WINERY\",\"WINERY\",\"WINERY\",\"WINERY\",\"WINERY\",\"WINERY\",\"PARK\",\"PARK\",\"OFFICE BLD\",\"OFFICE BLD\",\"OFFICE BLD\",\"OFFICE BLD\",\"OFFICE BLD\",\"RESTAURANT\",\"RESTAURANT\",\"RESTAURANT\",\"RESTAURANT\",\"RESTAURANT\",\"RESTAURANT\",\"RESTAURANT\",\"RESTAURANT\",\"RESTAURANT\",\"RESTAURANT\",\"RESTAURANT\",\"RESTAURANT\",\"WINERY\",\"WINERY\",\"WINERY\",\"WINERY\",\"WINERY\",\"RETAIL\",\"RETAIL\",\"VINEYARD\",\"LODGING\",\"LODGING\",\"LODGING\",\"WINERY\",\"WINERY\",\"WINERY\",\"WINERY\",\"WINERY\",\"WINERY\",\"WINERY\",\"WINERY\",\"WINERY\",\"WINERY\",\"WINERY\",\"WINERY\",\"WINERY\",\"OFFICE BLD\",\"OFFICE BLD\",\"SCHOOL\",\"SCHOOL\",\"SCHOOL\",\"MULTIFAMIL\",\"MULTIFAMIL\",\"CHURCH\",\"CHURCH\",\"WINERY\",\"WINERY\",\"WINERY\",\"WINERY\",\"MEDICAL\",\"MEDICAL\",\"MULTIFAMIL\",\"MULTIFAMIL\",\"MULTIFAMIL\",\"MULTIFAMIL\",\"MULTIFAMIL\",\"WINERY\",\"WINERY\",\"WINERY\",\"WINERY\",\"WINERY\",\"WINERY\",\"WINERY\",\"WINERY\",\"WINERY\",\"WINERY\",\"WINERY\",\"WINERY\",\"WINERY\",\"POSTOFFICE\",\"POSTOFFICE\",\"POSTOFFICE\",\"POSTOFFICE\",\"MULTIFAMIL\",\"MULTIFAMIL\",\"MULTIFAMIL\",\"WINERY\",\"WINERY\",\"WINERY\",\"WINERY\",\"WINERY\",\"WINERY\",\"WINERY\",\"WINERY\",\"HOSPITAL\",\"HOSPITAL\",\"HOSPITAL\",\"HOSPITAL\",\"MEDICAL\",\"MEDICAL\",\"WINERY\",\"WINERY\",\"CHURCH\",\"CHURCH\",\"CHURCH\",\"WINERY\",\"WINERY\",\"WINERY\",\"WINERY\",\"WINERY\",\"RESTAURANT\",\"RESTAURANT\",\"RESTAURANT\",\"RESTAURANT\",\"RESTAURANT\",\"RESTAURANT\",\"RESTAURANT\",\"RESTAURANT\",\"RESTAURANT\",\"VINEYARD\",\"VINEYARD\",\"VINEYARD\",\"LODGING-FW\",\"LODGING-FW\",\"LODGING-FW\",\"LODGING-FW\",\"WINERY\",\"WINERY\",\"WINERY\",\"LODGING\",\"LODGING\",\"LODGING\",\"WINERY\",\"WINERY\",\"WINERY\",\"WINERY\",\"MULTIFAMIL\",\"MULTIFAMIL\",\"MULTIFAMIL\",\"MULTIFAMIL\",\"MULTIFAMIL\",\"LODGING-FW\",\"LODGING-FW\",\"LODGING-FW\",\"OFFICE BLD\",\"OFFICE BLD\",\"MEMBER\",\"MEMBER\",\"MEMBER\",\"MEMBER\",\"MEMBER\",\"MEMBER\",\"MEMBER\",\"MEMBER\",\"MEMBER\",\"MEMBER\",\"MEMBER\",\"MEMBER\",\"MEMBER\",\"MEMBER\",\"MEMBER\",\"MEMBER\",\"MEMBER\",\"MEMBER\",\"MEMBER\",\"MEMBER\",\"MEMBER\",\"MEMBER\",\"MEMBER\",\"MEMBER\",\"MEMBER\",\"POLICEFIRE\",\"POLICEFIRE\",\"SCHOOL\",\"SCHOOL\",\"SCHOOL\",\"SCHOOL\",\"WINERY\",\"WINERY\",\"WINERY\",\"WINERY\",\"WINERY\",\"WINERY\",\"WINERY\",\"WINERY\",\"VINEYARD\",\"VINEYARD\",\"VINEYARD\",\"VINEYARD\",\"VINEYARD\",\"VINEYARD\",\"MIXED USE\",\"MIXED USE\",\"MIXED USE\",\"WINERY\",\"WINERY\",\"WINERY\",\"WINERY\",\"WINERY\",\"WINERY\",\"WINERY\",\"WINERY\",\"WINERY\",\"WINERY\",\"VINEYARD\",\"VINEYARD\",\"VINEYARD\",\"VINEYARD\",\"VINEYARD\",\"RESTAURANT\",\"RESTAURANT\",\"WINERY\",\"WINERY\",\"WINERY\",\"WINERY\",\"LODGING\",\"LODGING\",\"LODGING\",\"RESTAURANT\",\"RESTAURANT\",\"RESTAURANT\",\"RESTAURANT\",\"LODGING\",\"LODGING\",\"LODGING\",\"LODGING\",\"LODGING\",\"LODGING\",\"LODGING\",\"LODGING\",\"MULTIFAMIL\",\"MULTIFAMIL\",\"MINI MART\",\"MULTIFAMIL\",\"MULTIFAMIL\",\"MULTIFAMIL\",\"MULTIFAMIL\",\"MULTIFAMIL\",\"MULTIFAMIL\",\"UTILITY\",\"UTILITY\",\"DELI/CAFE\",\"DELI/CAFE\",\"DELI/CAFE\",\"DELI/CAFE\",\"DELI/CAFE\",\"DELI/CAFE\",\"DELI/CAFE\",\"COMMUNITY\",\"COMMUNITY\",\"COMMUNITY\",\"COMMUNITY\",\"MULTIFAMIL\",\"MULTIFAMIL\",\"MULTIFAMIL\",\"MULTIFAMIL\",\"HOME IMPRO\",\"HOME IMPRO\",\"WINERY\",\"WINERY\",\"WINERY\",\"WINERY\",\"AUTO\",\"AUTO\",\"WINERY\",\"WINERY\",\"WINERY\",\"WINERY\",\"WINERY\",\"WINERY\",\"WINERY\",\"WINERY\",\"WINERY\",\"WINERY\",\"WINERY\",\"WINERY\",\"UTILITY\",\"UTILITY\",\"UTILITY\",\"WINERY\",\"WINERY\",\"WINERY\",\"WINERY\",\"WINERY\",\"RESTAURANT\",\"RESTAURANT\",\"RESTAURANT\",\"RESTAURANT\",\"MULTIFAMIL\",\"MULTIFAMIL\",\"MULTIFAMIL\",\"MULTIFAMIL\",\"MULTIFAMIL\",\"BAR NO FW\",\"BAR NO FW\",\"BAR NO FW\",\"BAR NO FW\",\"BAR NO FW\",\"BAKERY\",\"BAKERY\",\"BAKERY\",\"BAKERY\",\"RESTAURANT\",\"RESTAURANT\",\"RESTAURANT\",\"RESTAURANT\",\"RESTAURANT\",\"RESTAURANT\",\"RESTAURANT\",\"RESTAURANT\",\"RESTAURANT\",\"RESTAURANT\",\"RESTAURANT\",\"RESTAURANT\",\"RESTAURANT\",\"RESTAURANT\",\"WINERY\",\"WINERY\",\"WINERY\",\"WINERY\",\"WINERY\",\"WINERY\",\"WINERY\",\"RESTAURANT\",\"RESTAURANT\",\"RESTAURANT\",\"RESTAURANT\",\"RESTAURANT\",\"RESTAURANT\",\"MULTIFAMIL\",\"MULTIFAMIL\",\"MULTIFAMIL\",\"MULTIFAMIL\",\"MULTIFAMIL\",\"RESTAURANT\",\"RESTAURANT\",\"RESTAURANT\",\"RESTAURANT\",\"RESTAURANT\",\"MULTIFAMIL\",\"MULTIFAMIL\",\"MULTIFAMIL\",\"MULTIFAMIL\",\"MULTIFAMIL\",\"MULTIFAMIL\",\"MULTIFAMIL\",\"MULTIFAMIL\",\"MULTIFAMIL\",\"MULTIFAMIL\",\"MULTIFAMIL\",\"MULTIFAMIL\",\"RETAIL\",\"RETAIL\",\"RETAIL\",\"RESTAURANT\",\"RESTAURANT\",\"RESTAURANT\",\"RESTAURANT\",\"RESTAURANT\",\"LODGING\",\"LODGING\",\"LODGING\",\"LODGING-FW\",\"LODGING-FW\",\"LODGING-FW\",\"LODGING-FW\",\"LODGING-FW\",\"UTILITY\",\"UTILITY\",\"UTILITY\",\"WINERY\",\"WINERY\",\"WINERY\",\"WINERY\",\"MULTIFAMIL\",\"MULTIFAMIL\",\"MULTIFAMIL\",\"MULTIFAMIL\",\"MULTIFAMIL\",\"RESTAURANT\",\"RESTAURANT\",\"RESTAURANT\",\"RESTAURANT\",\"RESTAURANT\",\"RESTAURANT\",\"LODGING-FW\",\"LODGING-FW\",\"LODGING-FW\",\"RESTAURANT\",\"RESTAURANT\",\"RESTAURANT\",\"RESTAURANT\",\"POLICEFIRE\",\"POLICEFIRE\",\"POLICEFIRE\",\"MULTIFAMIL\",\"MULTIFAMIL\",\"MULTIFAMIL\",\"DELI/CAFE\",\"DELI/CAFE\",\"DELI/CAFE\",\"RESTAURANT\",\"RESTAURANT\",\"RESTAURANT\",\"RETAIL\",\"RETAIL\",\"RETAIL\",\"WINERY\",\"WINERY\",\"WINERY\",\"PRESCHOOL\",\"PRESCHOOL\",\"PRESCHOOL\",\"RETAIL\",\"RETAIL\",\"ENTERTAINM\",\"ENTERTAINM\",\"BAKERY\",\"BAKERY\",\"BAKERY\",\"MULTIFAMIL\",\"MULTIFAMIL\",\"MULTIFAMIL\",\"MULTIFAMIL\",\"RESTAURANT\",\"RESTAURANT\",\"CONTRACTOR\",\"GROCERY\",\"GROCERY\",\"GROCERY\",\"LODGING\",\"LODGING\",\"LODGING\",\"FOURPLEX\",\"FOURPLEX\",\"FOURPLEX\",\"OFFICE BLD\",\"OFFICE BLD\",\"OFFICE BLD\",\"COMMUNITY\",\"COMMUNITY\",\"WINERY\",\"WINERY\",\"WINERY\",\"VINEYARD\",\"VINEYARD\",\"VINEYARD\",\"WINERY\",\"WINERY\",\"WINERY\",\"WINERY\",\"LANDSCAPER\",\"CONTRACTOR\",\"MULTIFAMIL\",\"MULTIFAMIL\",\"MULTIFAMIL\",\"MULTIFAMIL\",\"MULTIFAMIL\",\"MULTIFAMIL\",\"MULTIFAMIL\",\"MULTIFAMIL\",\"MIXED USE\",\"MIXED USE\",\"MIXED USE\",\"LODGING-FW\",\"LODGING-FW\",\"LODGING-FW\",\"WINERY\",\"WINERY\",\"WINERY\",\"WINERY\"],\"commodity\":[\"Garbage\",\"Recycle\",\"Recycle\",\"Recycle\",\"Garbage\",\"Recycle\",\"Recycle\",\"Compost\",\"Recycle\",\"Garbage\",\"Garbage\",\"Recycle\",\"Garbage\",\"Recycle\",\"Garbage\",\"Recycle\",\"Compost\",\"Garbage\",\"Recycle\",\"Recycle\",\"Garbage\",\"Recycle\",\"Recycle\",\"Recycle\",\"Garbage\",\"Compost\",\"Recycle\",\"Compost\",\"Compost\",\"Garbage\",\"Garbage\",\"Garbage\",\"Recycle\",\"Recycle\",\"Recycle\",\"Compost\",\"Recycle\",\"Garbage\",\"Recycle\",\"Recycle\",\"Recycle\",\"Recycle\",\"Garbage\",\"Garbage\",\"Recycle\",\"Compost\",\"Garbage\",\"Recycle\",\"Compost\",\"Recycle\",\"Recycle\",\"Compost\",\"Compost\",\"Compost\",\"Garbage\",\"Recycle\",\"Recycle\",\"Garbage\",\"Recycle\",\"Recycle\",\"Recycle\",\"Compost\",\"Garbage\",\"Recycle\",\"Garbage\",\"Recycle\",\"Garbage\",\"Recycle\",\"Recycle\",\"Garbage\",\"Recycle\",\"Garbage\",\"Recycle\",\"Garbage\",\"Recycle\",\"Garbage\",\"Recycle\",\"Garbage\",\"Garbage\",\"Recycle\",\"Recycle\",\"Garbage\",\"Recycle\",\"Recycle\",\"Compost\",\"Compost\",\"Garbage\",\"Recycle\",\"Compost\",\"Garbage\",\"Recycle\",\"Garbage\",\"Recycle\",\"Garbage\",\"Recycle\",\"Compost\",\"Garbage\",\"Recycle\",\"Compost\",\"Compost\",\"Recycle\",\"Recycle\",\"Garbage\",\"Recycle\",\"Recycle\",\"Recycle\",\"Compost\",\"Garbage\",\"Recycle\",\"Compost\",\"Garbage\",\"Recycle\",\"Garbage\",\"Compost\",\"Recycle\",\"Recycle\",\"Garbage\",\"Recycle\",\"Compost\",\"Recycle\",\"Recycle\",\"Garbage\",\"Recycle\",\"Garbage\",\"Recycle\",\"Recycle\",\"Recycle\",\"Recycle\",\"Recycle\",\"Recycle\",\"Garbage\",\"Recycle\",\"Recycle\",\"Recycle\",\"Compost\",\"Garbage\",\"Garbage\",\"Recycle\",\"Compost\",\"Recycle\",\"Recycle\",\"Garbage\",\"Compost\",\"Garbage\",\"Recycle\",\"Compost\",\"Garbage\",\"Recycle\",\"Compost\",\"Recycle\",\"Recycle\",\"Garbage\",\"Compost\",\"Recycle\",\"Garbage\",\"Recycle\",\"Garbage\",\"Recycle\",\"Compost\",\"Garbage\",\"Recycle\",\"Compost\",\"Garbage\",\"Recycle\",\"Recycle\",\"Recycle\",\"Garbage\",\"Recycle\",\"Recycle\",\"Garbage\",\"Recycle\",\"Garbage\",\"Recycle\",\"Recycle\",\"Garbage\",\"Garbage\",\"Recycle\",\"Garbage\",\"Garbage\",\"Recycle\",\"Garbage\",\"Recycle\",\"Garbage\",\"Compost\",\"Garbage\",\"Garbage\",\"Recycle\",\"Recycle\",\"Recycle\",\"Compost\",\"Garbage\",\"Recycle\",\"Garbage\",\"Recycle\",\"Garbage\",\"Recycle\",\"Garbage\",\"Recycle\",\"Garbage\",\"Recycle\",\"Garbage\",\"Recycle\",\"Garbage\",\"Compost\",\"Garbage\",\"Recycle\",\"Garbage\",\"Recycle\",\"Compost\",\"Garbage\",\"Compost\",\"Compost\",\"Compost\",\"Recycle\",\"Garbage\",\"Recycle\",\"Garbage\",\"Recycle\",\"Recycle\",\"Compost\",\"Recycle\",\"Compost\",\"Compost\",\"Compost\",\"Recycle\",\"Garbage\",\"Recycle\",\"Recycle\",\"Recycle\",\"Recycle\",\"Recycle\",\"Recycle\",\"Recycle\",\"Recycle\",\"Compost\",\"Compost\",\"Compost\",\"Recycle\",\"Recycle\",\"Recycle\",\"Recycle\",\"Garbage\",\"Recycle\",\"Recycle\",\"Recycle\",\"Garbage\",\"Recycle\",\"Recycle\",\"Recycle\",\"Garbage\",\"Garbage\",\"Recycle\",\"Garbage\",\"Garbage\",\"Recycle\",\"Recycle\",\"Garbage\",\"Recycle\",\"Compost\",\"Garbage\",\"Recycle\",\"Compost\",\"Compost\",\"Garbage\",\"Recycle\",\"Garbage\",\"Garbage\",\"Garbage\",\"Recycle\",\"Compost\",\"Compost\",\"Recycle\",\"Recycle\",\"Recycle\",\"Recycle\",\"Garbage\",\"Recycle\",\"Recycle\",\"Compost\",\"Garbage\",\"Recycle\",\"Recycle\",\"Compost\",\"Garbage\",\"Garbage\",\"Recycle\",\"Recycle\",\"Compost\",\"Garbage\",\"Recycle\",\"Compost\",\"Garbage\",\"Recycle\",\"Compost\",\"Garbage\",\"Recycle\",\"Garbage\",\"Recycle\",\"Recycle\",\"Recycle\",\"Recycle\",\"Compost\",\"Recycle\",\"Recycle\",\"Recycle\",\"Garbage\",\"Recycle\",\"Garbage\",\"Recycle\",\"Garbage\",\"Garbage\",\"Recycle\",\"Compost\",\"Garbage\",\"Recycle\",\"Compost\",\"Recycle\",\"Garbage\",\"Garbage\",\"Recycle\",\"Garbage\",\"Recycle\",\"Compost\",\"Compost\",\"Garbage\",\"Recycle\",\"Recycle\",\"Garbage\",\"Recycle\",\"Recycle\",\"Recycle\",\"Recycle\",\"Recycle\",\"Recycle\",\"Recycle\",\"Recycle\",\"Compost\",\"Compost\",\"Garbage\",\"Recycle\",\"Garbage\",\"Recycle\",\"Garbage\",\"Recycle\",\"Compost\",\"Compost\",\"Recycle\",\"Recycle\",\"Compost\",\"Compost\",\"Compost\",\"Compost\",\"Garbage\",\"Garbage\",\"Recycle\",\"Recycle\",\"Recycle\",\"Recycle\",\"Recycle\",\"Compost\",\"Recycle\",\"Garbage\",\"Garbage\",\"Recycle\",\"Garbage\",\"Recycle\",\"Garbage\",\"Recycle\",\"Recycle\",\"Recycle\",\"Garbage\",\"Garbage\",\"Recycle\",\"Garbage\",\"Garbage\",\"Recycle\",\"Garbage\",\"Garbage\",\"Compost\",\"Garbage\",\"Recycle\",\"Compost\",\"Garbage\",\"Garbage\",\"Garbage\",\"Garbage\",\"Recycle\",\"Compost\",\"Compost\",\"Garbage\",\"Recycle\",\"Recycle\",\"Compost\",\"Compost\",\"Compost\",\"Recycle\",\"Recycle\",\"Recycle\",\"Garbage\",\"Garbage\",\"Garbage\",\"Recycle\",\"Compost\",\"Recycle\",\"Garbage\",\"Garbage\",\"Recycle\",\"Recycle\",\"Recycle\",\"Recycle\",\"Compost\",\"Compost\",\"Garbage\",\"Recycle\",\"Recycle\",\"Garbage\",\"Recycle\",\"Recycle\",\"Garbage\",\"Recycle\",\"Recycle\",\"Garbage\",\"Garbage\",\"Recycle\",\"Recycle\",\"Recycle\",\"Recycle\",\"Recycle\",\"Recycle\",\"Compost\",\"Garbage\",\"Recycle\",\"Compost\",\"Garbage\",\"Garbage\",\"Recycle\",\"Recycle\",\"Compost\",\"Garbage\",\"Garbage\",\"Recycle\",\"Recycle\",\"Compost\",\"Garbage\",\"Compost\",\"Recycle\",\"Garbage\",\"Garbage\",\"Recycle\",\"Recycle\",\"Recycle\",\"Compost\",\"Garbage\",\"Garbage\",\"Garbage\",\"Recycle\",\"Compost\",\"Garbage\",\"Recycle\",\"Garbage\",\"Recycle\",\"Recycle\",\"Recycle\",\"Garbage\",\"Recycle\",\"Garbage\",\"Recycle\",\"Compost\",\"Recycle\",\"Garbage\",\"Recycle\",\"Garbage\",\"Recycle\",\"Garbage\",\"Garbage\",\"Compost\",\"Compost\",\"Recycle\",\"Recycle\",\"Recycle\",\"Garbage\",\"Recycle\",\"Compost\",\"Garbage\",\"Recycle\",\"Compost\",\"Garbage\",\"Recycle\",\"Garbage\",\"Garbage\",\"Garbage\",\"Recycle\",\"Recycle\",\"Recycle\",\"Compost\",\"Compost\",\"Compost\",\"Garbage\",\"Garbage\",\"Garbage\",\"Recycle\",\"Recycle\",\"Garbage\",\"Garbage\",\"Garbage\",\"Recycle\",\"Recycle\",\"Recycle\",\"Recycle\",\"Compost\",\"Garbage\",\"Garbage\",\"Recycle\",\"Recycle\",\"Garbage\",\"Garbage\",\"Recycle\",\"Recycle\",\"Compost\",\"Garbage\",\"Recycle\",\"Garbage\",\"Garbage\",\"Garbage\",\"Garbage\",\"Garbage\",\"Garbage\",\"Garbage\",\"Garbage\",\"Garbage\",\"Garbage\",\"Recycle\",\"Recycle\",\"Recycle\",\"Recycle\",\"Recycle\",\"Compost\",\"Compost\",\"Compost\",\"Recycle\",\"Recycle\",\"Recycle\",\"Recycle\",\"Recycle\",\"Recycle\",\"Recycle\",\"Recycle\",\"Garbage\",\"Recycle\",\"Garbage\",\"Recycle\",\"Recycle\",\"Recycle\",\"Garbage\",\"Recycle\",\"Recycle\",\"Recycle\",\"Garbage\",\"Recycle\",\"Recycle\",\"Garbage\",\"Garbage\",\"Recycle\",\"Garbage\",\"Garbage\",\"Recycle\",\"Garbage\",\"Garbage\",\"Recycle\",\"Compost\",\"Compost\",\"Garbage\",\"Recycle\",\"Recycle\",\"Garbage\",\"Garbage\",\"Garbage\",\"Recycle\",\"Recycle\",\"Compost\",\"Compost\",\"Garbage\",\"Recycle\",\"Garbage\",\"Recycle\",\"Recycle\",\"Compost\",\"Garbage\",\"Garbage\",\"Recycle\",\"Compost\",\"Garbage\",\"Recycle\",\"Compost\",\"Garbage\",\"Recycle\",\"Garbage\",\"Garbage\",\"Recycle\",\"Recycle\",\"Recycle\",\"Recycle\",\"Recycle\",\"Compost\",\"Compost\",\"Compost\",\"Recycle\",\"Recycle\",\"Garbage\",\"Garbage\",\"Garbage\",\"Compost\",\"Recycle\",\"Recycle\",\"Garbage\",\"Compost\",\"Recycle\",\"Garbage\",\"Compost\",\"Recycle\",\"Recycle\",\"Recycle\",\"Garbage\",\"Recycle\",\"Compost\",\"Garbage\",\"Garbage\",\"Compost\",\"Recycle\",\"Garbage\",\"Garbage\",\"Recycle\",\"Compost\",\"Recycle\",\"Garbage\",\"Recycle\",\"Garbage\",\"Recycle\",\"Garbage\",\"Recycle\",\"Garbage\",\"Garbage\",\"Garbage\",\"Recycle\",\"Compost\",\"Compost\",\"Garbage\",\"Recycle\",\"Garbage\",\"Compost\",\"Recycle\",\"Garbage\",\"Recycle\",\"Compost\",\"Garbage\",\"Garbage\",\"Recycle\",\"Compost\",\"Compost\",\"Compost\",\"Garbage\",\"Recycle\",\"Recycle\",\"Compost\",\"Compost\",\"Garbage\",\"Recycle\",\"Recycle\",\"Garbage\",\"Compost\",\"Recycle\",\"Compost\",\"Garbage\",\"Garbage\",\"Garbage\",\"Recycle\",\"Garbage\",\"Recycle\",\"Garbage\",\"Recycle\",\"Compost\",\"Garbage\",\"Garbage\",\"Recycle\",\"Recycle\",\"Compost\",\"Garbage\",\"Garbage\",\"Recycle\",\"Compost\",\"Recycle\",\"Garbage\",\"Recycle\",\"Garbage\",\"Recycle\",\"Recycle\",\"Recycle\",\"Garbage\",\"Recycle\",\"Compost\",\"Garbage\",\"Recycle\",\"Compost\",\"Recycle\",\"Recycle\",\"Garbage\",\"Recycle\",\"Compost\",\"Garbage\",\"Recycle\",\"Garbage\",\"Garbage\",\"Recycle\",\"Recycle\",\"Recycle\",\"Compost\",\"Compost\",\"Compost\",\"Compost\",\"Garbage\",\"Garbage\",\"Recycle\",\"Recycle\",\"Recycle\",\"Garbage\",\"Recycle\",\"Recycle\",\"Recycle\",\"Recycle\",\"Compost\",\"Compost\",\"Garbage\",\"Recycle\",\"Recycle\",\"Recycle\",\"Recycle\",\"Garbage\",\"Recycle\",\"Recycle\",\"Recycle\",\"Garbage\",\"Garbage\",\"Recycle\",\"Compost\",\"Recycle\",\"Recycle\",\"Garbage\",\"Recycle\",\"Garbage\",\"Recycle\",\"Recycle\",\"Compost\",\"Compost\",\"Compost\",\"Garbage\",\"Recycle\",\"Recycle\",\"Compost\",\"Garbage\",\"Recycle\",\"Recycle\",\"Recycle\",\"Garbage\",\"Recycle\",\"Compost\",\"Garbage\",\"Recycle\",\"Recycle\",\"Recycle\",\"Garbage\",\"Recycle\",\"Compost\",\"Garbage\",\"Garbage\",\"Recycle\",\"Recycle\",\"Compost\",\"Garbage\",\"Recycle\",\"Recycle\",\"Recycle\",\"Recycle\",\"Recycle\",\"Recycle\",\"Compost\",\"Compost\",\"Compost\",\"Recycle\",\"Garbage\",\"Recycle\",\"Recycle\",\"Garbage\",\"Recycle\",\"Compost\",\"Recycle\",\"Garbage\",\"Garbage\",\"Recycle\",\"Compost\",\"Garbage\",\"Recycle\",\"Recycle\",\"Recycle\",\"Garbage\",\"Recycle\",\"Recycle\",\"Recycle\",\"Garbage\",\"Compost\",\"Compost\",\"Recycle\",\"Recycle\",\"Garbage\",\"Recycle\",\"Recycle\",\"Garbage\",\"Recycle\",\"Garbage\",\"Recycle\",\"Recycle\",\"Recycle\",\"Recycle\",\"Garbage\",\"Compost\",\"Compost\",\"Compost\",\"Recycle\",\"Garbage\",\"Recycle\",\"Compost\",\"Compost\",\"Garbage\",\"Recycle\",\"Recycle\",\"Recycle\",\"Recycle\",\"Compost\",\"Recycle\",\"Garbage\",\"Recycle\",\"Recycle\",\"Garbage\",\"Recycle\",\"Garbage\",\"Recycle\",\"Recycle\",\"Compost\",\"Recycle\",\"Compost\",\"Garbage\",\"Recycle\",\"Recycle\",\"Recycle\",\"Recycle\",\"Recycle\",\"Garbage\",\"Garbage\",\"Garbage\",\"Recycle\",\"Compost\",\"Compost\",\"Compost\",\"Recycle\",\"Recycle\",\"Recycle\",\"Garbage\",\"Garbage\",\"Recycle\",\"Compost\",\"Compost\",\"Compost\",\"Compost\",\"Recycle\",\"Garbage\",\"Recycle\",\"Recycle\",\"Garbage\",\"Garbage\",\"Recycle\",\"Recycle\",\"Garbage\",\"Recycle\",\"Recycle\",\"Recycle\",\"Compost\",\"Recycle\",\"Garbage\",\"Recycle\",\"Garbage\",\"Recycle\",\"Recycle\",\"Recycle\",\"Recycle\",\"Garbage\",\"Garbage\",\"Recycle\",\"Compost\",\"Garbage\",\"Recycle\",\"Garbage\",\"Garbage\",\"Recycle\",\"Recycle\",\"Recycle\",\"Recycle\",\"Garbage\",\"Recycle\",\"Recycle\",\"Recycle\",\"Garbage\",\"Recycle\",\"Garbage\",\"Recycle\",\"Compost\",\"Garbage\",\"Recycle\",\"Recycle\",\"Compost\",\"Compost\",\"Garbage\",\"Recycle\",\"Recycle\",\"Garbage\",\"Garbage\",\"Recycle\",\"Recycle\",\"Garbage\",\"Recycle\",\"Compost\",\"Garbage\",\"Compost\",\"Recycle\",\"Garbage\",\"Recycle\",\"Recycle\",\"Recycle\",\"Recycle\",\"Compost\",\"Compost\",\"Recycle\",\"Recycle\",\"Garbage\",\"Recycle\",\"Recycle\",\"Garbage\",\"Recycle\",\"Recycle\",\"Recycle\",\"Recycle\",\"Compost\",\"Garbage\",\"Garbage\",\"Recycle\",\"Recycle\",\"Recycle\",\"Recycle\",\"Recycle\",\"Recycle\",\"Recycle\",\"Recycle\",\"Recycle\",\"Garbage\",\"Recycle\",\"Compost\",\"Garbage\",\"Compost\",\"Garbage\",\"Compost\",\"Compost\",\"Compost\",\"Compost\",\"Recycle\",\"Recycle\",\"Recycle\",\"Recycle\",\"Recycle\",\"Compost\",\"Garbage\",\"Recycle\",\"Recycle\",\"Recycle\",\"Compost\",\"Garbage\",\"Garbage\",\"Garbage\",\"Recycle\",\"Recycle\",\"Recycle\",\"Recycle\",\"Recycle\",\"Compost\",\"Garbage\",\"Recycle\",\"Compost\",\"Compost\",\"Garbage\",\"Garbage\",\"Garbage\",\"Recycle\",\"Recycle\",\"Recycle\",\"Compost\",\"Garbage\",\"Compost\",\"Recycle\",\"Recycle\",\"Recycle\",\"Recycle\",\"Recycle\",\"Compost\",\"Compost\",\"Compost\",\"Garbage\",\"Recycle\",\"Compost\",\"Compost\",\"Garbage\",\"Compost\",\"Recycle\",\"Compost\",\"Recycle\",\"Recycle\",\"Garbage\",\"Recycle\",\"Recycle\",\"Recycle\",\"Recycle\",\"Garbage\",\"Garbage\",\"Garbage\",\"Recycle\",\"Recycle\",\"Garbage\",\"Compost\",\"Recycle\",\"Recycle\",\"Recycle\",\"Recycle\",\"Recycle\",\"Recycle\",\"Recycle\",\"Recycle\",\"Recycle\",\"Recycle\",\"Garbage\",\"Recycle\",\"Recycle\",\"Recycle\",\"Recycle\",\"Recycle\",\"Recycle\",\"Recycle\",\"Compost\",\"Compost\",\"Compost\",\"Compost\",\"Compost\",\"Garbage\",\"Recycle\",\"Recycle\",\"Compost\",\"Garbage\",\"Recycle\",\"Recycle\",\"Compost\",\"Compost\",\"Garbage\",\"Recycle\",\"Garbage\",\"Recycle\",\"Garbage\",\"Garbage\",\"Recycle\",\"Recycle\",\"Recycle\",\"Compost\",\"Recycle\",\"Recycle\",\"Recycle\",\"Garbage\",\"Recycle\",\"Compost\",\"Garbage\",\"Recycle\",\"Recycle\",\"Recycle\",\"Recycle\",\"Compost\",\"Garbage\",\"Recycle\",\"Recycle\",\"Recycle\",\"Garbage\",\"Recycle\",\"Recycle\",\"Recycle\",\"Garbage\",\"Recycle\",\"Garbage\",\"Recycle\",\"Recycle\",\"Garbage\",\"Garbage\",\"Recycle\",\"Compost\",\"Compost\",\"Compost\",\"Compost\",\"Compost\",\"Compost\",\"Recycle\",\"Recycle\",\"Recycle\",\"Recycle\",\"Garbage\",\"Recycle\",\"Garbage\",\"Garbage\",\"Recycle\",\"Recycle\",\"Garbage\",\"Recycle\",\"Compost\",\"Garbage\",\"Garbage\",\"Recycle\",\"Recycle\",\"Garbage\",\"Recycle\",\"Recycle\",\"Compost\",\"Garbage\",\"Garbage\",\"Recycle\",\"Compost\",\"Garbage\",\"Recycle\",\"Recycle\",\"Recycle\",\"Recycle\",\"Recycle\",\"Garbage\",\"Recycle\",\"Garbage\",\"Recycle\",\"Recycle\",\"Garbage\",\"Recycle\",\"Garbage\",\"Garbage\",\"Recycle\",\"Garbage\",\"Compost\",\"Recycle\",\"Garbage\",\"Garbage\",\"Recycle\",\"Recycle\",\"Recycle\",\"Recycle\",\"Recycle\",\"Garbage\",\"Garbage\",\"Garbage\",\"Recycle\",\"Recycle\",\"Recycle\",\"Garbage\",\"Recycle\",\"Recycle\",\"Recycle\",\"Compost\",\"Garbage\",\"Recycle\",\"Garbage\",\"Recycle\",\"Garbage\",\"Recycle\",\"Garbage\",\"Garbage\",\"Compost\",\"Recycle\",\"Garbage\",\"Recycle\",\"Compost\",\"Garbage\",\"Recycle\",\"Compost\",\"Garbage\",\"Recycle\",\"Garbage\",\"Recycle\",\"Recycle\",\"Recycle\",\"Garbage\",\"Recycle\",\"Recycle\",\"Compost\",\"Compost\",\"Compost\",\"Garbage\",\"Garbage\",\"Recycle\",\"Recycle\",\"Recycle\",\"Recycle\",\"Recycle\",\"Recycle\",\"Recycle\",\"Recycle\",\"Garbage\",\"Recycle\",\"Garbage\",\"Garbage\",\"Recycle\",\"Garbage\",\"Recycle\",\"Recycle\",\"Recycle\",\"Compost\",\"Garbage\",\"Recycle\",\"Compost\",\"Garbage\",\"Recycle\",\"Garbage\",\"Recycle\",\"Recycle\",\"Compost\",\"Compost\",\"Compost\",\"Recycle\",\"Recycle\",\"Recycle\",\"Recycle\",\"Recycle\",\"Garbage\",\"Recycle\",\"Garbage\",\"Recycle\",\"Garbage\",\"Garbage\",\"Compost\",\"Recycle\",\"Compost\",\"Compost\",\"Garbage\",\"Compost\",\"Recycle\",\"Garbage\",\"Recycle\",\"Garbage\",\"Recycle\",\"Garbage\",\"Recycle\",\"Compost\",\"Recycle\",\"Recycle\",\"Compost\",\"Garbage\",\"Recycle\",\"Garbage\",\"Recycle\",\"Garbage\",\"Recycle\",\"Recycle\",\"Compost\",\"Recycle\",\"Garbage\",\"Recycle\",\"Garbage\",\"Recycle\",\"Compost\",\"Garbage\",\"Compost\",\"Recycle\",\"Garbage\",\"Recycle\",\"Garbage\",\"Recycle\",\"Garbage\",\"Recycle\",\"Garbage\",\"Recycle\",\"Garbage\",\"Recycle\",\"Compost\",\"Garbage\",\"Recycle\",\"Compost\",\"Garbage\",\"Garbage\",\"Recycle\",\"Compost\",\"Garbage\",\"Recycle\",\"Compost\",\"Compost\",\"Compost\",\"Garbage\",\"Garbage\",\"Garbage\",\"Recycle\",\"Recycle\",\"Compost\",\"Compost\",\"Compost\",\"Recycle\",\"Garbage\",\"Recycle\",\"Compost\",\"Recycle\",\"Compost\",\"Garbage\",\"Recycle\",\"Compost\",\"Garbage\",\"Garbage\",\"Recycle\",\"Recycle\",\"Garbage\",\"Recycle\",\"Recycle\",\"Compost\",\"Garbage\",\"Garbage\",\"Compost\",\"Recycle\",\"Garbage\",\"Garbage\",\"Compost\",\"Compost\",\"Compost\",\"Recycle\",\"Recycle\",\"Recycle\",\"Recycle\",\"Recycle\",\"Recycle\",\"Recycle\",\"Recycle\",\"Garbage\",\"Recycle\",\"Garbage\",\"Garbage\",\"Recycle\",\"Recycle\",\"Recycle\",\"Compost\",\"Garbage\",\"Recycle\",\"Garbage\",\"Recycle\",\"Recycle\",\"Recycle\",\"Compost\",\"Garbage\",\"Garbage\",\"Garbage\",\"Garbage\",\"Garbage\",\"Garbage\",\"Garbage\",\"Garbage\",\"Recycle\",\"Recycle\",\"Recycle\",\"Recycle\",\"Garbage\",\"Recycle\",\"Garbage\",\"Recycle\",\"Compost\",\"Garbage\",\"Recycle\",\"Garbage\",\"Garbage\",\"Recycle\",\"Compost\",\"Garbage\",\"Recycle\",\"Recycle\",\"Recycle\",\"Recycle\",\"Garbage\",\"Garbage\",\"Recycle\",\"Recycle\",\"Compost\",\"Compost\",\"Recycle\",\"Recycle\",\"Garbage\",\"Recycle\",\"Garbage\",\"Garbage\",\"Recycle\",\"Garbage\",\"Recycle\",\"Garbage\",\"Recycle\",\"Garbage\",\"Garbage\",\"Compost\",\"Recycle\",\"Garbage\",\"Recycle\",\"Recycle\",\"Compost\",\"Garbage\",\"Recycle\",\"Recycle\",\"Garbage\",\"Garbage\",\"Garbage\",\"Recycle\",\"Recycle\",\"Recycle\",\"Compost\",\"Compost\",\"Recycle\",\"Recycle\",\"Recycle\",\"Recycle\",\"Garbage\",\"Recycle\",\"Garbage\",\"Recycle\",\"Recycle\",\"Recycle\",\"Garbage\",\"Garbage\",\"Garbage\",\"Recycle\",\"Recycle\",\"Recycle\",\"Compost\",\"Compost\",\"Compost\",\"Compost\",\"Compost\",\"Compost\",\"Recycle\",\"Recycle\",\"Garbage\",\"Recycle\",\"Garbage\",\"Recycle\",\"Garbage\",\"Recycle\",\"Compost\",\"Garbage\",\"Recycle\",\"Recycle\",\"Recycle\",\"Recycle\",\"Garbage\",\"Garbage\",\"Recycle\",\"Compost\",\"Compost\",\"Compost\",\"Recycle\",\"Recycle\",\"Recycle\",\"Garbage\",\"Recycle\",\"Compost\",\"Recycle\",\"Compost\",\"Garbage\",\"Recycle\",\"Garbage\",\"Recycle\",\"Compost\",\"Garbage\",\"Recycle\",\"Compost\",\"Garbage\",\"Recycle\",\"Recycle\",\"Compost\",\"Garbage\",\"Recycle\",\"Recycle\",\"Recycle\",\"Compost\",\"Garbage\",\"Compost\",\"Recycle\",\"Garbage\",\"Recycle\",\"Garbage\",\"Garbage\",\"Garbage\",\"Garbage\",\"Recycle\",\"Recycle\",\"Recycle\",\"Recycle\",\"Recycle\",\"Recycle\",\"Recycle\",\"Recycle\",\"Recycle\",\"Recycle\",\"Recycle\",\"Recycle\",\"Recycle\",\"Recycle\",\"Recycle\",\"Recycle\",\"Recycle\",\"Recycle\",\"Recycle\",\"Recycle\",\"Recycle\",\"Garbage\",\"Recycle\",\"Recycle\",\"Recycle\",\"Compost\",\"Compost\",\"Garbage\",\"Garbage\",\"Recycle\",\"Recycle\",\"Compost\",\"Garbage\",\"Garbage\",\"Recycle\",\"Garbage\",\"Recycle\",\"Recycle\",\"Recycle\",\"Garbage\",\"Recycle\",\"Garbage\",\"Recycle\",\"Compost\",\"Garbage\",\"Garbage\",\"Recycle\",\"Compost\",\"Compost\",\"Recycle\",\"Recycle\",\"Recycle\",\"Recycle\",\"Recycle\",\"Garbage\",\"Recycle\",\"Compost\",\"Compost\",\"Compost\",\"Garbage\",\"Recycle\",\"Garbage\",\"Recycle\",\"Recycle\",\"Recycle\",\"Garbage\",\"Recycle\",\"Compost\",\"Garbage\",\"Garbage\",\"Recycle\",\"Recycle\",\"Garbage\",\"Garbage\",\"Garbage\",\"Garbage\",\"Recycle\",\"Recycle\",\"Recycle\",\"Compost\",\"Recycle\",\"Garbage\",\"Garbage\",\"Garbage\",\"Recycle\",\"Compost\",\"Garbage\",\"Recycle\",\"Compost\",\"Garbage\",\"Recycle\",\"Garbage\",\"Recycle\",\"Compost\",\"Compost\",\"Compost\",\"Recycle\",\"Recycle\",\"Garbage\",\"Garbage\",\"Recycle\",\"Recycle\",\"Garbage\",\"Garbage\",\"Recycle\",\"Compost\",\"Garbage\",\"Recycle\",\"Garbage\",\"Recycle\",\"Recycle\",\"Compost\",\"Garbage\",\"Recycle\",\"Garbage\",\"Recycle\",\"Recycle\",\"Recycle\",\"Recycle\",\"Recycle\",\"Garbage\",\"Recycle\",\"Recycle\",\"Recycle\",\"Garbage\",\"Recycle\",\"Garbage\",\"Recycle\",\"Compost\",\"Garbage\",\"Recycle\",\"Garbage\",\"Recycle\",\"Recycle\",\"Recycle\",\"Recycle\",\"Garbage\",\"Compost\",\"Garbage\",\"Garbage\",\"Recycle\",\"Compost\",\"Compost\",\"Garbage\",\"Recycle\",\"Recycle\",\"Recycle\",\"Recycle\",\"Garbage\",\"Recycle\",\"Recycle\",\"Recycle\",\"Garbage\",\"Garbage\",\"Garbage\",\"Garbage\",\"Garbage\",\"Garbage\",\"Recycle\",\"Recycle\",\"Recycle\",\"Recycle\",\"Recycle\",\"Compost\",\"Compost\",\"Compost\",\"Garbage\",\"Recycle\",\"Recycle\",\"Garbage\",\"Recycle\",\"Recycle\",\"Garbage\",\"Garbage\",\"Recycle\",\"Recycle\",\"Compost\",\"Compost\",\"Compost\",\"Garbage\",\"Garbage\",\"Garbage\",\"Garbage\",\"Recycle\",\"Garbage\",\"Garbage\",\"Garbage\",\"Recycle\",\"Recycle\",\"Garbage\",\"Garbage\",\"Garbage\",\"Garbage\",\"Garbage\",\"Garbage\",\"Garbage\",\"Garbage\",\"Garbage\",\"Garbage\",\"Recycle\",\"Compost\",\"Garbage\",\"Recycle\",\"Compost\",\"Garbage\",\"Recycle\",\"Recycle\",\"Recycle\",\"Compost\",\"Garbage\",\"Recycle\",\"Compost\",\"Recycle\",\"Garbage\",\"Recycle\",\"Recycle\",\"Compost\",\"Garbage\",\"Recycle\",\"Compost\",\"Garbage\",\"Recycle\",\"Recycle\",\"Recycle\",\"Garbage\",\"Garbage\",\"Garbage\",\"Garbage\",\"Recycle\",\"Garbage\",\"Garbage\",\"Garbage\",\"Garbage\",\"Recycle\",\"Recycle\",\"Garbage\",\"Garbage\",\"Recycle\",\"Garbage\",\"Recycle\",\"Compost\",\"Compost\",\"Garbage\",\"Recycle\",\"Compost\",\"Garbage\",\"Compost\",\"Recycle\",\"Garbage\",\"Recycle\",\"Recycle\",\"Compost\",\"Compost\",\"Garbage\",\"Garbage\",\"Recycle\",\"Compost\",\"Garbage\",\"Recycle\",\"Compost\",\"Garbage\",\"Garbage\",\"Recycle\",\"Garbage\",\"Recycle\",\"Garbage\",\"Recycle\",\"Garbage\",\"Recycle\",\"Compost\",\"Garbage\",\"Recycle\",\"Compost\",\"Compost\",\"Garbage\",\"Recycle\",\"Garbage\",\"Garbage\",\"Recycle\",\"Compost\",\"Garbage\",\"Recycle\",\"Compost\",\"Garbage\",\"Recycle\",\"Compost\",\"Garbage\",\"Recycle\",\"Recycle\",\"Garbage\",\"Recycle\",\"Garbage\",\"Recycle\",\"Compost\",\"Garbage\",\"Recycle\",\"Compost\",\"Garbage\",\"Recycle\",\"Recycle\",\"Compost\",\"Garbage\",\"Garbage\",\"Garbage\",\"Recycle\",\"Compost\",\"Garbage\",\"Recycle\",\"Recycle\",\"Compost\",\"Compost\",\"Garbage\",\"Recycle\",\"Compost\",\"Garbage\",\"Recycle\",\"Compost\",\"Garbage\",\"Recycle\",\"Garbage\",\"Recycle\"],\"monthly_bill\":{\"__ndarray__\":\"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\",\"dtype\":\"float64\",\"order\":\"little\",\"shape\":[1817]},\"pickups\":[1,2,2,1,1,1,1,1,1,1,1,1,1,1,1,1,1,1,1,1,1,1,1,1,1,1,1,1,1,1,2,2,1,1,1,1,1,1,1,1,1,1,1,1,1,1,1,1,1,1,1,1,1,1,1,1,1,1,1,1,1,1,1,1,1,1,1,1,1,1,1,1,1,1,1,1,1,1,1,1,1,1,1,1,1,1,1,1,1,1,1,1,1,1,1,1,1,1,1,1,1,1,1,1,1,1,1,1,1,1,1,1,1,1,1,1,1,1,1,1,1,1,1,1,1,1,1,1,2,2,1,1,1,1,1,1,1,1,1,1,1,1,1,1,1,1,1,1,1,1,1,1,1,1,1,1,1,1,1,1,1,1,1,3,3,3,1,1,1,1,1,1,1,1,1,1,1,1,1,1,1,1,1,1,1,1,1,1,1,1,1,1,1,1,1,1,1,1,1,1,1,1,1,1,1,1,1,1,1,1,1,1,1,1,1,1,1,1,1,1,1,3,3,3,1,1,1,1,1,1,1,1,1,1,3,3,3,4,4,4,4,1,1,1,1,1,1,1,1,1,1,1,2,2,2,2,1,1,1,1,1,1,1,1,1,3,3,3,1,2,2,3,3,3,1,1,1,1,1,1,1,1,1,1,1,1,1,1,1,1,1,1,1,1,1,1,1,1,1,1,1,1,1,1,1,1,0,1,1,1,1,1,1,1,1,1,1,1,1,1,1,1,1,1,1,1,1,1,1,1,1,1,1,1,2,2,1,1,1,1,1,1,1,1,1,1,1,1,1,3,3,3,2,2,1,1,1,2,2,1,1,1,1,1,1,1,1,1,1,1,1,1,1,2,2,1,2,2,1,1,1,1,2,2,1,1,1,1,1,1,1,1,1,1,1,1,1,1,2,2,1,1,1,1,2,2,1,1,1,1,1,1,1,1,1,1,1,1,1,1,1,2,2,1,1,1,1,1,1,1,1,1,1,1,1,1,1,1,1,1,1,1,1,1,1,1,1,1,1,1,1,1,3,3,3,1,1,1,1,1,1,1,1,1,1,1,1,1,1,1,1,1,1,2,2,1,1,1,1,1,1,1,1,1,1,1,1,1,3,3,3,1,1,1,3,3,3,2,2,1,1,1,3,3,3,1,1,1,1,1,2,2,1,1,1,1,1,1,1,1,1,4,4,4,4,5,5,5,5,5,1,1,1,1,1,1,3,3,3,4,4,4,4,4,4,4,4,1,1,1,1,2,2,1,1,1,1,1,1,1,2,2,1,2,2,1,2,2,1,1,1,1,1,1,1,1,1,1,1,1,1,1,1,1,1,1,1,1,1,1,1,1,1,1,1,1,2,2,1,1,1,1,1,3,3,3,2,2,1,1,1,1,1,1,1,1,1,1,1,1,1,1,1,1,1,2,2,1,1,1,1,1,1,1,1,1,1,1,1,1,3,3,3,1,1,1,1,1,1,1,1,1,1,1,1,1,1,3,3,3,1,1,1,1,1,1,1,1,1,1,1,1,3,3,3,1,1,1,1,1,1,1,1,1,1,1,2,2,1,1,1,1,1,1,1,2,2,1,1,1,1,1,1,2,2,1,1,1,1,1,2,2,1,1,1,1,1,1,1,1,1,1,1,1,1,1,1,1,1,2,2,1,1,1,1,1,1,1,1,1,1,1,1,1,1,1,1,1,1,1,1,1,1,1,1,1,1,1,1,1,1,1,1,1,1,1,1,1,1,1,1,1,1,1,1,1,1,1,1,1,1,1,1,1,1,1,1,1,1,1,1,1,1,1,1,1,1,1,1,1,1,1,1,1,1,1,1,1,1,1,1,1,0,1,1,1,1,1,1,1,1,1,1,3,3,3,1,1,1,2,2,1,1,1,1,1,1,1,1,1,1,1,1,1,1,1,1,1,1,1,2,2,1,1,1,3,3,3,1,3,3,3,3,3,3,2,2,1,1,1,1,1,1,1,1,1,1,1,2,2,1,1,1,1,1,1,1,1,1,1,1,1,1,2,2,1,1,1,1,2,2,1,1,1,1,1,1,2,2,1,1,1,1,1,1,1,1,1,1,1,1,1,2,2,1,1,1,1,1,1,1,1,1,1,1,1,1,1,1,1,1,1,1,1,1,1,1,1,1,1,2,2,1,1,1,1,2,2,3,3,3,1,1,1,1,1,1,1,1,1,1,1,1,1,1,1,1,1,1,1,1,1,1,2,2,1,1,1,1,1,1,1,1,1,1,1,1,1,1,1,1,1,1,1,1,1,1,1,1,1,2,2,1,1,1,1,1,1,1,1,1,1,1,1,1,2,2,1,1,1,1,1,1,1,1,1,1,1,2,2,2,2,2,2,1,2,2,1,1,1,1,1,1,3,3,3,1,1,1,1,1,1,1,1,1,1,1,1,1,1,2,2,1,1,1,1,2,2,1,1,1,1,1,1,1,1,1,1,1,1,1,1,1,1,1,1,1,1,1,1,1,2,2,1,1,1,1,3,3,3,1,3,3,3,1,1,1,1,1,1,1,1,1,1,1,1,1,1,1,1,1,1,1,1,1,1,1,1,3,3,3,1,1,1,1,1,1,1,2,2,1,1,1,1,1,1,1,2,2,2,2,3,3,3,3,3,3,1,1,1,1,1,1,1,1,1,1,1,1,1,1,1,1,1,1,1,1,1,1,1,1,1,1,1,1,1,1,3,3,3,1,1,1,1,1,1,1,1,1,1,1,1,1,1,1,1,1,1,1,1,1,1,1,1,1,1,1,1,3,3,3,1,4,4,4,4,1,1,1,1,2,2,1,1,2,2,1,1,1,1,1,1,1,1,1,1,1,1,1,1,1,1,1,1,1,1,1,1,1,1,1,1,1,1,1,1,1,1,1,1,1,1,1,1,1,1,1,1,1,1,1,1,1,1,1,1,1,1,1,3,3,3,2,2,3,3,3,1,1,1,1,1,1,1,1,1,1,1,1,1,1,1,1,1,2,2,1,1,2,2,3,3,3,3,3,3,3,3,3,1,1,1,1,1,1,1,2,2,1,1,1,1,1,1,1,1,3,3,3,3,3,3,1,1,4,4,4,4,1,1,1,1,1,1,1,1,1,1,1,1,1,1,1,1,1,1,1,1,1,1,2,2,1,1,1,1,1,1,1,1,1,2,2,1,1,1,1,1,1,1,1,1,3,3,3,1,1,1,2,2,2,2,1,1,1,1,1,1,1,1,2,2,1,2,2,1,1,3,3,3,2,2,2,2,1,1,1,1,1,1,1,1,1,1,1,1,2,2,1,3,3,3,1,2,2,1,1,1,1,1,1,1,1,1,1,1,1,1,1,1,1,1,1,1,1,1,1,1,1,1,1,1,4,4,4,4,1,1,1,1,1,1,1,1,1,1,1,1,1,1,1,1,1,1,1,1,1,1,1,1,1,2,2,1,1,1,1,1,1,0,1,1,1,1,1,1,1,1,1,1,2,2,1,1,1,1,3,3,3,1,1,1,1,1,1,1,1,1,1,1,1,1,1,1,1,1,1,1,1,1,1,1,1,1,1,1,1,1,1,1,1,1,1,1,1,1,1,1,1,3,3,3,1,1,1,1,1,1,1,1,1,1,1,1,1,1,1,1,1,1,1,1,1,1,1,1,1,1,1,1,1,1,1,1,1,1,1,1,1,1,1,1,1,1,1,1,1,1,1,1,1,1,1,1,1,1,1,1,5,5,5,5,5,1,3,3,3,1,1,3,3,3,1,1,1,1,1,1,1,1,1,1,3,3,3,1,2,2,1,1,1,1,1,1,1,1,1,1,1,1,1,1,1,1,1,1,1,1,1,1,1,1,1,1,1,1,1,1,1,1,1,1,1,1,1,1,1,1,1,1,2,2,2,2,1,3,3,3,1,2,2,1,1,1,1,1,2,2,1,1,1,1,1,1,1,1,1,2,2,1,1,1,1,1,1,1,1,1,1,1,1,1,1,1,1,1,1,1,1,1,1,1,1,1,1,1,1,1,1,1,1,1,1,1,1,1,1,1,1,1,1,1,1,1,1,1,1,1,1,1,1,1,1,1,1,1,1,1,1,1,1,1,1,1,1,1,1],\"qty\":[1,1,1,1,1,1,1,1,1,1,1,1,1,1,1,1,1,3,3,3,1,1,1,1,2,1,1,1,1,1,1,1,1,1,1,1,1,1,1,1,1,1,1,1,1,1,1,3,2,1,1,1,1,1,1,1,1,1,1,1,1,1,1,1,1,5,1,1,1,3,3,1,2,1,1,1,1,1,1,1,1,1,1,2,1,1,1,1,1,1,1,1,1,2,2,2,1,1,1,1,1,1,1,1,1,1,2,1,3,1,1,1,1,1,1,1,1,2,1,1,1,1,1,1,2,1,1,1,1,1,1,1,1,1,1,1,1,1,1,1,1,1,1,1,1,1,2,1,1,1,1,1,1,3,1,1,1,1,1,2,2,2,1,1,1,1,1,1,1,1,1,2,1,1,1,1,3,1,1,1,1,3,1,1,1,1,1,1,1,1,1,1,1,1,1,1,1,1,1,1,1,1,1,1,1,1,1,1,1,1,1,1,1,1,1,1,1,3,1,1,1,2,2,2,1,1,1,1,1,1,1,1,1,4,6,6,6,1,1,1,1,1,1,1,1,1,1,1,1,1,1,1,1,1,1,1,1,1,1,1,1,1,1,1,1,1,1,1,3,2,2,1,1,1,1,1,1,1,1,6,6,1,3,1,1,1,1,1,1,1,1,1,1,1,1,2,1,1,1,1,1,1,1,1,1,1,1,1,1,1,1,1,1,1,1,1,1,1,1,1,1,1,1,1,1,1,1,1,1,1,1,1,1,1,1,1,1,1,1,1,1,1,1,1,1,1,2,1,1,14,14,14,1,1,1,1,1,1,1,1,1,1,1,1,1,1,1,1,1,1,1,1,1,1,1,4,1,1,1,2,1,1,2,2,1,1,1,1,1,1,1,1,1,2,3,1,1,1,1,1,1,1,1,1,1,1,1,1,1,1,1,1,3,1,2,1,1,3,1,1,1,1,1,1,1,1,1,1,1,1,2,1,3,1,1,6,1,1,3,3,3,3,3,185,185,177,1,1,1,1,1,1,1,1,1,3,1,1,1,1,1,1,1,1,1,1,1,1,2,1,1,1,1,1,1,1,1,1,1,1,1,1,1,146,146,3,2,1,1,1,1,1,1,1,5,5,5,1,1,1,1,1,1,1,1,1,1,1,2,3,1,1,3,1,1,2,1,1,1,2,1,1,1,1,1,1,1,1,1,1,1,1,1,1,1,2,10,10,10,1,1,1,1,1,1,1,1,1,3,1,3,1,1,1,1,1,1,1,1,1,1,1,1,1,1,3,1,1,8,1,1,1,1,1,1,1,1,1,2,1,1,1,1,1,1,3,1,12,1,6,11,1,1,1,1,1,1,1,1,1,1,1,1,3,3,3,1,1,1,1,1,1,1,1,1,1,3,1,1,1,1,1,1,1,1,2,2,1,2,1,1,1,1,1,215,219,1,3,1,1,1,1,1,3,1,1,1,1,1,1,2,1,2,1,5,1,1,1,1,1,1,3,2,1,2,1,1,1,1,1,1,1,1,1,1,1,1,2,1,1,1,236,5,3,235,11,1,1,2,1,1,1,1,3,1,1,1,1,1,1,7,6,3,1,1,1,1,1,1,3,1,1,1,1,1,1,1,1,1,1,1,1,1,1,1,1,1,1,1,2,2,1,1,1,1,1,1,1,3,1,78,1,1,1,1,1,1,1,1,1,1,1,1,1,1,1,1,2,1,1,1,1,1,1,1,1,1,1,1,1,3,1,2,2,5,1,1,1,1,1,1,1,1,4,1,1,1,1,1,3,1,1,3,1,1,1,1,1,1,1,1,1,1,1,1,1,1,1,1,1,1,1,1,1,1,1,1,1,3,1,1,1,1,2,2,2,1,1,1,2,2,1,1,1,1,1,1,1,1,1,1,1,1,1,3,3,1,2,3,1,1,1,1,3,1,1,1,1,3,2,2,2,1,1,1,1,1,9,8,1,1,1,1,1,1,1,1,1,1,1,1,1,1,1,1,1,1,3,1,2,1,1,1,1,1,1,1,2,1,1,1,1,1,1,1,1,1,1,1,1,1,1,1,1,1,3,1,1,1,1,1,1,1,1,1,1,1,1,1,1,1,1,1,1,1,1,1,1,1,1,1,1,1,1,6,1,1,1,1,1,1,1,1,1,1,1,1,1,1,1,1,1,1,1,1,1,5,1,1,1,1,1,1,1,1,1,1,190,190,1,1,190,1,1,1,1,1,1,1,2,1,1,3,1,1,1,1,1,1,1,1,1,1,1,1,1,1,1,2,3,4,4,1,1,1,1,1,1,3,1,1,1,1,1,1,1,1,1,1,1,1,1,1,1,1,1,1,1,1,1,1,1,1,1,1,1,1,3,1,3,1,6,2,4,4,4,1,1,3,1,1,1,1,1,1,1,1,2,1,1,1,1,1,1,1,3,1,1,1,5,2,1,1,1,1,1,1,1,1,1,1,1,1,1,1,1,1,1,1,3,1,1,1,3,5,1,1,4,4,4,1,1,1,1,1,1,1,1,3,1,1,1,1,1,1,1,1,2,1,1,1,1,1,1,1,1,1,1,1,1,1,1,1,1,1,1,1,1,1,1,1,1,2,2,2,3,1,2,2,1,1,1,1,1,1,1,1,1,1,1,1,1,1,2,1,1,1,1,1,2,1,1,1,1,1,1,1,1,1,1,1,1,1,1,1,1,1,2,2,2,1,1,1,1,1,1,1,1,1,1,1,1,1,1,1,5,2,1,1,1,1,1,1,1,1,1,1,1,4,4,4,1,1,1,1,1,1,1,1,1,1,1,1,1,2,2,1,1,3,1,1,1,1,1,1,1,1,1,1,1,1,1,1,2,2,2,1,1,1,1,1,1,1,1,1,1,1,2,4,4,1,1,1,1,1,1,1,1,1,1,1,1,2,1,8,5,1,1,1,1,1,1,1,1,2,2,2,1,1,2,1,1,1,1,1,1,1,1,1,1,1,1,1,1,1,1,1,3,1,1,11,11,11,1,1,1,1,1,1,3,9,1,1,1,1,1,1,1,1,1,1,3,1,1,1,1,1,1,1,1,1,1,1,1,2,2,2,2,1,1,1,1,2,1,1,1,1,1,1,1,1,1,1,1,1,1,1,1,1,1,1,1,1,1,1,1,6,7,7,1,1,1,1,1,1,2,1,1,1,1,1,1,1,1,1,1,1,1,4,4,1,1,1,1,2,1,2,1,1,6,2,2,1,1,1,3,1,4,4,4,5,5,6,6,1,1,1,1,1,1,1,1,1,1,1,1,1,1,3,3,3,3,1,1,1,1,1,1,1,1,1,1,1,1,1,3,3,1,2,1,1,2,1,1,1,1,2,1,1,1,1,1,27,27,27,27,2,1,1,1,1,1,1,2,2,1,1,2,1,1,1,1,1,1,1,1,1,1,1,1,1,4,4,1,1,1,1,1,1,1,1,1,1,1,1,1,1,1,1,1,1,1,1,1,1,1,2,2,2,1,1,1,1,1,1,3,3,1,1,1,1,1,3,1,1,1,1,1,1,1,1,1,1,1,1,2,2,4,1,4,3,1,4,4,1,1,1,1,3,4,4,4,3,1,1,1,1,1,2,1,3,1,1,1,1,1,3,1,1,1,1,1,1,1,1,1,1,1,3,1,1,1,1,1,1,1,3,1,1,1,1,1,2,1,1,1,2,1,1,1,1,1,1,1,1,1,1,1,1,1,1,1,1,1,1,1,1,6,6,4,4,4,1,1,1,1,1,1,1,1,1,2,1,1,1,1,1,1,1,6,1,1,1,1,1,1,1,1,1,1,1,1,1,1,1,5,2,1,1,1,2,1,1,1,1,1,3,1,1,4,1,1,1,1,1,1,1,1,1,1,1,1,1,1,6,1,1,1,1,3,3,2,3,3,1,1,2,2,2,2,1,4,1,2,1,3,1,3,3,3,1,1,1,1,1,1,1,1,1,1,1,1,1,1,1,1,1,1,1,1,1,1,1,1,1,1,1,1,1,4,4,1,1,1,1,4,1,1,1,1,1,1,1,1,1,1,1,1,1,2,1,1,2,1,1,1,1,1,1,1,1,1,1,1,1,1,1],\"size\":{\"__ndarray__\":\"AAAAAAAAEEAAAAAAAAAQQAAAAAAAABBAAAAAAAAAEEAAAAAAAAAQQLgehetRuN4/uB6F61G43j+4HoXrUbjeP7gehetRuN4/AAAAAAAAEEC4HoXrUbjeP7gehetRuN4/exSuR+F61D+4HoXrUbjeP3sUrkfhetQ/uB6F61G43j+4HoXrUbjeP7gehetRuN4/uB6F61G43j+4HoXrUbjePwAAAAAAAABAuB6F61G43j+4HoXrUbjeP7gehetRuN4/uB6F61G43j+4HoXrUbjeP7gehetRuN4/uB6F61G43j+4HoXrUbjePwAAAAAAABBAAAAAAAAAEEAAAAAAAAAQQAAAAAAAABBAuB6F61G43j+4HoXrUbjeP7gehetRuN4/uB6F61G43j8AAAAAAAAYQAAAAAAAABBAuB6F61G43j+4HoXrUbjeP7gehetRuN4/AAAAAAAAAEB7FK5H4XrEP7gehetRuN4/uB6F61G43j8AAAAAAAAAQLgehetRuN4/uB6F61G43j+4HoXrUbjeP7gehetRuN4/AAAAAAAAEEAAAAAAAAAQQLgehetRuN4/AAAAAAAAAEC4HoXrUbjeP7gehetRuN4/AAAAAAAADEC4HoXrUbjeP7gehetRuN4/uB6F61G43j+4HoXrUbjeP7gehetRuN4/uB6F61G43j8AAAAAAAAQQLgehetRuN4/AAAAAAAAAEAAAAAAAAAQQAAAAAAAABhAuB6F61G43j+4HoXrUbjeP3sUrkfhesQ/uB6F61G43j97FK5H4XrEP7gehetRuN4/uB6F61G43j+4HoXrUbjeP7gehetRuN4/uB6F61G43j+4HoXrUbjeP7gehetRuN4/AAAAAAAAGEC4HoXrUbjeP7gehetRuN4/uB6F61G43j+4HoXrUbjeP3sUrkfhetQ/uB6F61G43j+4HoXrUbjeP3sUrkfhetQ/uB6F61G43j+4HoXrUbjeP7gehetRuN4/uB6F61G43j+4HoXrUbjeP7gehetRuN4/AAAAAAAAAEC4HoXrUbjeP7gehetRuN4/exSuR+F61D8AAAAAAAAQQAAAAAAAABhAAAAAAAAAEEC4HoXrUbjeP7gehetRuN4/uB6F61G43j97FK5H4XrUPwAAAAAAAABAuB6F61G43j+4HoXrUbjePwAAAAAAABhAAAAAAAAAEEC4HoXrUbjeP3sUrkfhetQ/AAAAAAAAEEAAAAAAAAAYQAAAAAAAAABAuB6F61G43j+4HoXrUbjePwAAAAAAABBAAAAAAAAAGEAAAAAAAAAAQAAAAAAAABBAAAAAAAAAGEC4HoXrUbjeP7gehetRuN4/uB6F61G43j8AAAAAAAAQQAAAAAAAABhAAAAAAAAAGEC4HoXrUbjeP7gehetRuN4/uB6F61G43j+4HoXrUbjeP7gehetRuN4/uB6F61G43j8AAAAAAAAAQAAAAAAAAABAuB6F61G43j+4HoXrUbjeP7gehetRuN4/uB6F61G43j+4HoXrUbjeP7gehetRuN4/uB6F61G43j+4HoXrUbjeP7gehetRuN4/uB6F61G43j+4HoXrUbjeP7gehetRuN4/uB6F61G43j8AAAAAAAAAQLgehetRuN4/uB6F61G43j+4HoXrUbjeP7gehetRuN4/exSuR+F61D+4HoXrUbjeP7gehetRuN4/exSuR+F6xD+4HoXrUbjeP7gehetRuN4/AAAAAAAAGEAAAAAAAAAYQAAAAAAAABhAAAAAAAAAGEC4HoXrUbjeP7gehetRuN4/uB6F61G43j+4HoXrUbjeP7gehetRuN4/uB6F61G43j+4HoXrUbjeP7gehetRuN4/AAAAAAAADEB7FK5H4XrEP7gehetRuN4/AAAAAAAAAEC4HoXrUbjeP7gehetRuN4/uB6F61G43j+4HoXrUbjeP7gehetRuN4/uB6F61G43j97FK5H4XrUP7gehetRuN4/uB6F61G43j+4HoXrUbjeP7gehetRuN4/exSuR+F61D97FK5H4XrEP7gehetRuN4/exSuR+F6xD+4HoXrUbjeP3sUrkfhetQ/uB6F61G43j+4HoXrUbjeP7gehetRuN4/AAAAAAAADEAAAAAAAAAMQHsUrkfhetQ/uB6F61G43j97FK5H4XrUP7gehetRuN4/exSuR+F61D+4HoXrUbjeP3sUrkfhetQ/uB6F61G43j+4HoXrUbjePwAAAAAAAABAuB6F61G43j+4HoXrUbjeP7gehetRuN4/uB6F61G43j8AAAAAAAAMQAAAAAAAAAxAAAAAAAAAAEC4HoXrUbjeP7gehetRuN4/uB6F61G43j+4HoXrUbjeP3sUrkfhetQ/exSuR+F61D97FK5H4XrUPwAAAAAAABBAAAAAAAAAEEC4HoXrUbjeP7gehetRuN4/uB6F61G43j+4HoXrUbjeP7gehetRuN4/uB6F61G43j+4HoXrUbjeP7gehetRuN4/exSuR+F61D97FK5H4XrUP3sUrkfhetQ/AAAAAAAAEEAAAAAAAAAQQAAAAAAAABBAAAAAAAAAEEAAAAAAAAAAQLgehetRuN4/uB6F61G43j+4HoXrUbjePwAAAAAAAABAuB6F61G43j+4HoXrUbjeP7gehetRuN4/AAAAAAAAAEB7FK5H4XrEP7gehetRuN4/AAAAAAAAEEAAAAAAAAAQQAAAAAAAABBAAAAAAAAAEEC4HoXrUbjeP7gehetRuN4/uB6F61G43j97FK5H4XrUP7gehetRuN4/uB6F61G43j+4HoXrUbjeP3sUrkfhetQ/uB6F61G43j8AAAAAAAAAQAAAAAAAAABAAAAAAAAAAEC4HoXrUbjeP3sUrkfhetQ/exSuR+F61D8AAAAAAAAQQAAAAAAAABBAAAAAAAAAEEC4HoXrUbjePwAAAAAAAABAuB6F61G43j+4HoXrUbjeP7gehetRuN4/exSuR+F6xD+4HoXrUbjeP7gehetRuN4/uB6F61G43j97FK5H4XrEP3sUrkfhesQ/uB6F61G43j+4HoXrUbjeP7gehetRuN4/exSuR+F61D+4HoXrUbjeP7gehetRuN4/exSuR+F61D+4HoXrUbjeP7gehetRuN4/uB6F61G43j+4HoXrUbjePwAAAAAAAABAuB6F61G43j+4HoXrUbjeP7gehetRuN4/uB6F61G43j+4HoXrUbjeP7gehetRuN4/uB6F61G43j+4HoXrUbjePwAAAAAAABBAAAAAAAAAEEC4HoXrUbjeP7gehetRuN4/uB6F61G43j+4HoXrUbjeP7gehetRuN4/uB6F61G43j+4HoXrUbjeP7gehetRuN4/uB6F61G43j+4HoXrUbjeP7gehetRuN4/AAAAAAAAAEC4HoXrUbjePwAAAAAAAABAAAAAAAAAAEC4HoXrUbjeP7gehetRuN4/uB6F61G43j+4HoXrUbjeP7gehetRuN4/AAAAAAAAGEC4HoXrUbjeP7gehetRuN4/uB6F61G43j+4HoXrUbjePwAAAAAAABBAAAAAAAAAEEAAAAAAAAAYQAAAAAAAABhAuB6F61G43j+4HoXrUbjeP7gehetRuN4/uB6F61G43j97FK5H4XrEP7gehetRuN4/AAAAAAAAEEAAAAAAAAAQQLgehetRuN4/uB6F61G43j8AAAAAAAAYQAAAAAAAABhAAAAAAAAAEEB7FK5H4XrUP3sUrkfhetQ/exSuR+F61D8AAAAAAAAQQAAAAAAAABBAuB6F61G43j+4HoXrUbjeP7gehetRuN4/AAAAAAAAEEAAAAAAAAAQQLgehetRuN4/uB6F61G43j+4HoXrUbjeP3sUrkfhesQ/uB6F61G43j+4HoXrUbjeP7gehetRuN4/uB6F61G43j+4HoXrUbjeP7gehetRuN4/uB6F61G43j8AAAAAAAAQQHsUrkfhesQ/uB6F61G43j8AAAAAAAAAQAAAAAAAAABAuB6F61G43j8AAAAAAAAQQAAAAAAAABBAuB6F61G43j+4HoXrUbjeP7gehetRuN4/uB6F61G43j8AAAAAAAAAQAAAAAAAAABAuB6F61G43j+4HoXrUbjeP7gehetRuN4/uB6F61G43j+4HoXrUbjePwAAAAAAABhAAAAAAAAAEEAAAAAAAAAQQLgehetRuN4/uB6F61G43j97FK5H4XrUPwAAAAAAABhAAAAAAAAAGEAAAAAAAAAYQAAAAAAAABBAAAAAAAAAEEAAAAAAAAAYQAAAAAAAABBAAAAAAAAAEEAAAAAAAAAYQAAAAAAAABBAAAAAAAAAEEC4HoXrUbjeP7gehetRuN4/uB6F61G43j+4HoXrUbjeP7gehetRuN4/uB6F61G43j+4HoXrUbjeP7gehetRuN4/uB6F61G43j8AAAAAAAAQQAAAAAAAABBAuB6F61G43j8AAAAAAAAAQLgehetRuN4/uB6F61G43j8AAAAAAAAQQAAAAAAAABBAuB6F61G43j+4HoXrUbjeP7gehetRuN4/uB6F61G43j+4HoXrUbjeP7gehetRuN4/uB6F61G43j+4HoXrUbjeP7gehetRuN4/uB6F61G43j8AAAAAAAAQQAAAAAAAABBAuB6F61G43j+4HoXrUbjeP7gehetRuN4/uB6F61G43j+4HoXrUbjeP7gehetRuN4/uB6F61G43j+4HoXrUbjeP3sUrkfhesQ/uB6F61G43j+4HoXrUbjeP7gehetRuN4/uB6F61G43j+4HoXrUbjeP7gehetRuN4/uB6F61G43j+4HoXrUbjePwAAAAAAABBAAAAAAAAAEEAAAAAAAAAQQLgehetRuN4/uB6F61G43j+4HoXrUbjeP7gehetRuN4/AAAAAAAAAEC4HoXrUbjeP7gehetRuN4/uB6F61G43j97FK5H4XrUP7gehetRuN4/uB6F61G43j+4HoXrUbjeP7gehetRuN4/uB6F61G43j97FK5H4XrUP7gehetRuN4/exSuR+F61D+4HoXrUbjePwAAAAAAAABAAAAAAAAAAEC4HoXrUbjeP7gehetRuN4/uB6F61G43j+4HoXrUbjeP7gehetRuN4/exSuR+F61D+4HoXrUbjeP7gehetRuN4/exSuR+F6xD+4HoXrUbjeP7gehetRuN4/exSuR+F6xD+4HoXrUbjePwAAAAAAABBAAAAAAAAAEEAAAAAAAAAQQLgehetRuN4/uB6F61G43j8AAAAAAAAQQHsUrkfhetQ/exSuR+F61D97FK5H4XrUPwAAAAAAABhAAAAAAAAAGEAAAAAAAAAQQLgehetRuN4/AAAAAAAAGEAAAAAAAAAQQAAAAAAAABBAAAAAAAAAEEC4HoXrUbjeP7gehetRuN4/uB6F61G43j+4HoXrUbjeP7gehetRuN4/AAAAAAAAGEAAAAAAAAAYQLgehetRuN4/AAAAAAAAGEC4HoXrUbjeP3sUrkfhesQ/uB6F61G43j+4HoXrUbjeP7gehetRuN4/uB6F61G43j+4HoXrUbjePwAAAAAAAABAAAAAAAAAAEAAAAAAAAAAQAAAAAAAAABAAAAAAAAAGEAAAAAAAAAYQAAAAAAAABhAAAAAAAAAGEAAAAAAAAAYQAAAAAAAABhAuB6F61G43j+4HoXrUbjeP7gehetRuN4/uB6F61G43j+4HoXrUbjeP3sUrkfhetQ/exSuR+F61D97FK5H4XrUPwAAAAAAABhAAAAAAAAAGEAAAAAAAAAYQAAAAAAAABhAAAAAAAAAEEAAAAAAAAAQQAAAAAAAABBAAAAAAAAAEEAAAAAAAAAAQLgehetRuN4/AAAAAAAAEEC4HoXrUbjePwAAAAAAABBAAAAAAAAAEEAAAAAAAAAAQLgehetRuN4/uB6F61G43j+4HoXrUbjeP7gehetRuN4/uB6F61G43j+4HoXrUbjePwAAAAAAABBAAAAAAAAAEEAAAAAAAAAQQAAAAAAAAABAAAAAAAAAAEC4HoXrUbjePwAAAAAAABBAAAAAAAAAEEC4HoXrUbjeP7gehetRuN4/exSuR+F61D+4HoXrUbjeP7gehetRuN4/uB6F61G43j+4HoXrUbjePwAAAAAAAABAAAAAAAAAAEAAAAAAAAAYQLgehetRuN4/uB6F61G43j+4HoXrUbjePwAAAAAAABBAuB6F61G43j8AAAAAAAAQQAAAAAAAABBAuB6F61G43j+4HoXrUbjeP7gehetRuN4/AAAAAAAAEEC4HoXrUbjeP7gehetRuN4/uB6F61G43j+4HoXrUbjeP7gehetRuN4/uB6F61G43j+4HoXrUbjePwAAAAAAABBAAAAAAAAAEEC4HoXrUbjeP7gehetRuN4/uB6F61G43j+4HoXrUbjeP7gehetRuN4/exSuR+F61D97FK5H4XrUP3sUrkfhetQ/AAAAAAAAEEAAAAAAAAAQQHsUrkfhetQ/exSuR+F61D97FK5H4XrUP7gehetRuN4/uB6F61G43j+4HoXrUbjePwAAAAAAAABAuB6F61G43j+4HoXrUbjePwAAAAAAAABAuB6F61G43j+4HoXrUbjeP7gehetRuN4/uB6F61G43j+4HoXrUbjeP7gehetRuN4/uB6F61G43j+4HoXrUbjeP7gehetRuN4/uB6F61G43j+4HoXrUbjePwAAAAAAABhAAAAAAAAAGEAAAAAAAAAYQAAAAAAAABBAAAAAAAAAEEB7FK5H4XrEP7gehetRuN4/AAAAAAAAEEC4HoXrUbjePwAAAAAAAABAuB6F61G43j8AAAAAAAAQQAAAAAAAABBAAAAAAAAAEEC4HoXrUbjeP7gehetRuN4/uB6F61G43j8AAAAAAAAQQAAAAAAAABBAAAAAAAAAAEC4HoXrUbjeP7gehetRuN4/AAAAAAAAEEC4HoXrUbjeP7gehetRuN4/uB6F61G43j8AAAAAAAAQQAAAAAAAABBAexSuR+F61D97FK5H4XrUP3sUrkfhetQ/AAAAAAAAAEC4HoXrUbjeP7gehetRuN4/uB6F61G43j97FK5H4XrUPwAAAAAAAABAuB6F61G43j+4HoXrUbjePwAAAAAAAABAuB6F61G43j+4HoXrUbjeP7gehetRuN4/AAAAAAAAGEAAAAAAAAAYQAAAAAAAABhAuB6F61G43j8AAAAAAAAAQLgehetRuN4/uB6F61G43j+4HoXrUbjeP7gehetRuN4/exSuR+F6xD+4HoXrUbjeP7gehetRuN4/uB6F61G43j+4HoXrUbjePwAAAAAAABBAAAAAAAAAEEC4HoXrUbjeP3sUrkfhetQ/AAAAAAAAEEC4HoXrUbjeP7gehetRuN4/uB6F61G43j+4HoXrUbjePwAAAAAAABBAAAAAAAAAEEC4HoXrUbjeP7gehetRuN4/uB6F61G43j+4HoXrUbjeP7gehetRuN4/uB6F61G43j8AAAAAAAAYQAAAAAAAABhAuB6F61G43j+4HoXrUbjeP7gehetRuN4/AAAAAAAAEEC4HoXrUbjePwAAAAAAABBAAAAAAAAAEEC4HoXrUbjeP7gehetRuN4/uB6F61G43j+4HoXrUbjeP7gehetRuN4/uB6F61G43j+4HoXrUbjePwAAAAAAAABAAAAAAAAAEEC4HoXrUbjeP7gehetRuN4/uB6F61G43j8AAAAAAAAYQAAAAAAAABBAuB6F61G43j+4HoXrUbjeP7gehetRuN4/exSuR+F61D97FK5H4XrUPwAAAAAAABBAAAAAAAAAEEC4HoXrUbjeP7gehetRuN4/uB6F61G43j8AAAAAAAAYQAAAAAAAABBAuB6F61G43j8AAAAAAAAQQHsUrkfhesQ/AAAAAAAAAEC4HoXrUbjeP7gehetRuN4/uB6F61G43j+4HoXrUbjePwAAAAAAAABAuB6F61G43j8AAAAAAAAQQLgehetRuN4/uB6F61G43j+4HoXrUbjeP7gehetRuN4/exSuR+F61D8AAAAAAAAQQAAAAAAAABBAuB6F61G43j+4HoXrUbjePwAAAAAAABBAuB6F61G43j+4HoXrUbjePwAAAAAAABhAuB6F61G43j+4HoXrUbjeP7gehetRuN4/AAAAAAAAEEC4HoXrUbjeP7gehetRuN4/uB6F61G43j8AAAAAAAAAQLgehetRuN4/uB6F61G43j+4HoXrUbjeP7gehetRuN4/uB6F61G43j97FK5H4XrEP7gehetRuN4/AAAAAAAAAEC4HoXrUbjeP7gehetRuN4/uB6F61G43j+4HoXrUbjeP7gehetRuN4/exSuR+F6xD+4HoXrUbjeP7gehetRuN4/uB6F61G43j+4HoXrUbjePwAAAAAAAABAuB6F61G43j8AAAAAAAAQQAAAAAAAABBAuB6F61G43j+4HoXrUbjePwAAAAAAABhAAAAAAAAAEEC4HoXrUbjeP7gehetRuN4/uB6F61G43j8AAAAAAAAQQLgehetRuN4/uB6F61G43j+4HoXrUbjePwAAAAAAAAxAAAAAAAAADEAAAAAAAAAMQLgehetRuN4/AAAAAAAAEEAAAAAAAAAQQAAAAAAAAABAuB6F61G43j+4HoXrUbjePwAAAAAAAABAAAAAAAAAEEAAAAAAAAAYQLgehetRuN4/uB6F61G43j8AAAAAAAAQQLgehetRuN4/AAAAAAAAEEAAAAAAAAAQQAAAAAAAABBAAAAAAAAAGEB7FK5H4XrUP3sUrkfhetQ/exSuR+F61D8AAAAAAAAQQAAAAAAAABhAAAAAAAAAEEB7FK5H4XrUP3sUrkfhetQ/AAAAAAAAEEAAAAAAAAAQQLgehetRuN4/uB6F61G43j+4HoXrUbjePwAAAAAAABBAAAAAAAAAEEAAAAAAAAAYQAAAAAAAABBAAAAAAAAAGEAAAAAAAAAQQLgehetRuN4/AAAAAAAAAEC4HoXrUbjeP7gehetRuN4/uB6F61G43j+4HoXrUbjeP7gehetRuN4/AAAAAAAAGEAAAAAAAAAQQAAAAAAAABBAAAAAAAAAEEC4HoXrUbjeP7gehetRuN4/AAAAAAAAEEAAAAAAAAAQQAAAAAAAABBAuB6F61G43j97FK5H4XrUP3sUrkfhetQ/exSuR+F61D8AAAAAAAAYQAAAAAAAABhAAAAAAAAAGEAAAAAAAAAQQAAAAAAAABBAuB6F61G43j+4HoXrUbjeP7gehetRuN4/uB6F61G43j+4HoXrUbjePwAAAAAAABBAuB6F61G43j+4HoXrUbjeP7gehetRuN4/AAAAAAAAAEAAAAAAAAAAQAAAAAAAABBAAAAAAAAAEEAAAAAAAAAAQLgehetRuN4/uB6F61G43j+4HoXrUbjeP7gehetRuN4/uB6F61G43j8AAAAAAAAAQLgehetRuN4/AAAAAAAAAEC4HoXrUbjeP7gehetRuN4/uB6F61G43j+4HoXrUbjePwAAAAAAAABAAAAAAAAAAEAAAAAAAAAQQHsUrkfhetQ/exSuR+F61D+4HoXrUbjePwAAAAAAABBAAAAAAAAAEEC4HoXrUbjeP7gehetRuN4/AAAAAAAAEEAAAAAAAAAQQAAAAAAAABBAAAAAAAAAEEAAAAAAAAAQQAAAAAAAABBAexSuR+F6xD+4HoXrUbjeP3sUrkfhetQ/uB6F61G43j+4HoXrUbjePwAAAAAAAABAuB6F61G43j+4HoXrUbjeP7gehetRuN4/uB6F61G43j8AAAAAAAAQQAAAAAAAABBAAAAAAAAAGEAAAAAAAAAQQAAAAAAAABBAuB6F61G43j8AAAAAAAAQQHsUrkfhetQ/uB6F61G43j+4HoXrUbjeP7gehetRuN4/uB6F61G43j+4HoXrUbjePwAAAAAAAABAuB6F61G43j+4HoXrUbjeP7gehetRuN4/uB6F61G43j+4HoXrUbjeP3sUrkfhetQ/AAAAAAAAEEAAAAAAAAAYQAAAAAAAABBAAAAAAAAAEEC4HoXrUbjeP3sUrkfhesQ/uB6F61G43j+4HoXrUbjeP7gehetRuN4/uB6F61G43j+4HoXrUbjePwAAAAAAABBAAAAAAAAAEEC4HoXrUbjeP7gehetRuN4/uB6F61G43j+4HoXrUbjePwAAAAAAABBAAAAAAAAAEEAAAAAAAAAQQAAAAAAAABBAAAAAAAAAEEAAAAAAAAAAQLgehetRuN4/uB6F61G43j+4HoXrUbjeP7gehetRuN4/exSuR+F6xD+4HoXrUbjeP7gehetRuN4/uB6F61G43j+4HoXrUbjeP7gehetRuN4/uB6F61G43j+4HoXrUbjeP7gehetRuN4/uB6F61G43j+4HoXrUbjeP3sUrkfhesQ/uB6F61G43j+4HoXrUbjeP7gehetRuN4/uB6F61G43j97FK5H4XrEPwAAAAAAAABAAAAAAAAAAEAAAAAAAAAQQLgehetRuN4/uB6F61G43j+4HoXrUbjeP7gehetRuN4/exSuR+F61D8AAAAAAAAQQLgehetRuN4/uB6F61G43j97FK5H4XrUP3sUrkfhesQ/exSuR+F6xD97FK5H4XrEP7gehetRuN4/uB6F61G43j+4HoXrUbjeP7gehetRuN4/AAAAAAAAGEC4HoXrUbjePwAAAAAAABBAuB6F61G43j+4HoXrUbjeP7gehetRuN4/uB6F61G43j+4HoXrUbjeP3sUrkfhetQ/exSuR+F61D+4HoXrUbjeP7gehetRuN4/uB6F61G43j97FK5H4XrUPwAAAAAAABBAAAAAAAAAGEC4HoXrUbjeP7gehetRuN4/AAAAAAAAEEAAAAAAAAAQQAAAAAAAABBAAAAAAAAAGEAAAAAAAAAQQAAAAAAAABhAAAAAAAAAGEAAAAAAAAAAQLgehetRuN4/uB6F61G43j+4HoXrUbjeP7gehetRuN4/AAAAAAAAGEC4HoXrUbjeP7gehetRuN4/uB6F61G43j8AAAAAAAAQQLgehetRuN4/AAAAAAAAEEAAAAAAAAAQQAAAAAAAABhAAAAAAAAAGEAAAAAAAAAQQAAAAAAAABBAAAAAAAAAGEAAAAAAAAAYQAAAAAAAABhAuB6F61G43j+4HoXrUbjeP7gehetRuN4/uB6F61G43j+4HoXrUbjeP7gehetRuN4/exSuR+F61D97FK5H4XrUP3sUrkfhetQ/AAAAAAAAEEAAAAAAAAAAQLgehetRuN4/uB6F61G43j+4HoXrUbjePwAAAAAAABBAuB6F61G43j+4HoXrUbjeP7gehetRuN4/uB6F61G43j8AAAAAAAAAQLgehetRuN4/exSuR+F6xD+4HoXrUbjePwAAAAAAABBAAAAAAAAAEEC4HoXrUbjeP7gehetRuN4/AAAAAAAAEEB7FK5H4XrUPwAAAAAAABBAAAAAAAAAEEAAAAAAAAAQQHsUrkfhesQ/uB6F61G43j+4HoXrUbjePwAAAAAAABBAuB6F61G43j+4HoXrUbjeP7gehetRuN4/AAAAAAAAGEC4HoXrUbjePwAAAAAAAABAuB6F61G43j+4HoXrUbjeP7gehetRuN4/AAAAAAAAAEC4HoXrUbjeP7gehetRuN4/uB6F61G43j8AAAAAAAAAQAAAAAAAABhAuB6F61G43j+4HoXrUbjePwAAAAAAABBAAAAAAAAAGEAAAAAAAAAYQLgehetRuN4/uB6F61G43j+4HoXrUbjeP7gehetRuN4/exSuR+F61D97FK5H4XrUP3sUrkfhetQ/AAAAAAAAEEAAAAAAAAAYQAAAAAAAABhAAAAAAAAAGEB7FK5H4XrEP7gehetRuN4/AAAAAAAAAEAAAAAAAAAMQLgehetRuN4/AAAAAAAADEB7FK5H4XrUP7gehetRuN4/uB6F61G43j97FK5H4XrUP3sUrkfhetQ/uB6F61G43j+4HoXrUbjeP7gehetRuN4/uB6F61G43j+4HoXrUbjeP7gehetRuN4/AAAAAAAAAEC4HoXrUbjeP7gehetRuN4/uB6F61G43j8AAAAAAAAYQAAAAAAAABBAAAAAAAAAEEAAAAAAAAAQQAAAAAAAABBAAAAAAAAAEEB7FK5H4XrEP7gehetRuN4/AAAAAAAAEEAAAAAAAAAQQAAAAAAAABBAuB6F61G43j+4HoXrUbjeP3sUrkfhetQ/exSuR+F61D+4HoXrUbjePwAAAAAAABBAuB6F61G43j+4HoXrUbjeP7gehetRuN4/AAAAAAAAGEAAAAAAAAAYQAAAAAAAABhAAAAAAAAAGEAAAAAAAAAQQAAAAAAAABBAAAAAAAAAEEAAAAAAAAAQQAAAAAAAABBAAAAAAAAAEEAAAAAAAAAQQAAAAAAAABBAAAAAAAAAGEC4HoXrUbjeP7gehetRuN4/uB6F61G43j+4HoXrUbjePwAAAAAAABBAuB6F61G43j8AAAAAAAAAQAAAAAAAABBAuB6F61G43j+4HoXrUbjePwAAAAAAABBAuB6F61G43j+4HoXrUbjeP7gehetRuN4/exSuR+F6xD+4HoXrUbjeP7gehetRuN4/AAAAAAAAAEAAAAAAAAAQQLgehetRuN4/uB6F61G43j+4HoXrUbjeP7gehetRuN4/uB6F61G43j+4HoXrUbjeP7gehetRuN4/uB6F61G43j+4HoXrUbjeP7gehetRuN4/exSuR+F61D97FK5H4XrUP3sUrkfhetQ/AAAAAAAAGEAAAAAAAAAYQLgehetRuN4/uB6F61G43j+4HoXrUbjeP7gehetRuN4/uB6F61G43j+4HoXrUbjeP7gehetRuN4/uB6F61G43j97FK5H4XrUP7gehetRuN4/AAAAAAAAEEAAAAAAAAAQQAAAAAAAABBAuB6F61G43j+4HoXrUbjeP7gehetRuN4/uB6F61G43j+4HoXrUbjeP7gehetRuN4/uB6F61G43j+4HoXrUbjeP7gehetRuN4/uB6F61G43j8AAAAAAAAQQLgehetRuN4/uB6F61G43j97FK5H4XrUP3sUrkfhetQ/exSuR+F61D+4HoXrUbjePwAAAAAAABhAAAAAAAAAGEAAAAAAAAAYQAAAAAAAABhAAAAAAAAAEEC4HoXrUbjePwAAAAAAABBAuB6F61G43j8AAAAAAAAQQAAAAAAAABBAAAAAAAAAEEAAAAAAAAAQQHsUrkfhetQ/exSuR+F61D+4HoXrUbjePwAAAAAAABBAuB6F61G43j+4HoXrUbjeP7gehetRuN4/AAAAAAAAEEAAAAAAAAAQQAAAAAAAAABAuB6F61G43j+4HoXrUbjePwAAAAAAABhAAAAAAAAAGEB7FK5H4XrUP3sUrkfhesQ/uB6F61G43j97FK5H4XrEP7gehetRuN4/uB6F61G43j+4HoXrUbjeP7gehetRuN4/uB6F61G43j8AAAAAAAAQQAAAAAAAABhAAAAAAAAAGEC4HoXrUbjeP7gehetRuN4/uB6F61G43j8AAAAAAAAQQHsUrkfhetQ/AAAAAAAAEEAAAAAAAAAAQLgehetRuN4/uB6F61G43j+4HoXrUbjeP3sUrkfhesQ/uB6F61G43j97FK5H4XrEP7gehetRuN4/exSuR+F61D+4HoXrUbjeP7gehetRuN4/exSuR+F61D+4HoXrUbjeP7gehetRuN4/exSuR+F61D97FK5H4XrEP7gehetRuN4/uB6F61G43j+4HoXrUbjeP7gehetRuN4/uB6F61G43j+4HoXrUbjeP7gehetRuN4/AAAAAAAAEEAAAAAAAAAQQAAAAAAAABBAAAAAAAAAEEAAAAAAAAAQQHsUrkfhetQ/exSuR+F61D97FK5H4XrUPwAAAAAAABBAexSuR+F61D+4HoXrUbjeP7gehetRuN4/uB6F61G43j97FK5H4XrUP3sUrkfhesQ/uB6F61G43j+4HoXrUbjeP7gehetRuN4/uB6F61G43j+4HoXrUbjeP7gehetRuN4/exSuR+F6xD+4HoXrUbjeP7gehetRuN4/uB6F61G43j8AAAAAAAAAQAAAAAAAAABAuB6F61G43j+4HoXrUbjePwAAAAAAABBAAAAAAAAAEEB7FK5H4XrUP3sUrkfhetQ/exSuR+F61D8AAAAAAAAQQAAAAAAAABBAAAAAAAAAEEAAAAAAAAAQQAAAAAAAABBAAAAAAAAAEEC4HoXrUbjeP7gehetRuN4/uB6F61G43j+4HoXrUbjePwAAAAAAABhAAAAAAAAAGEAAAAAAAAAYQAAAAAAAABBAAAAAAAAAEEB7FK5H4XrUPwAAAAAAABhAAAAAAAAAEEC4HoXrUbjeP7gehetRuN4/uB6F61G43j+4HoXrUbjeP7gehetRuN4/AAAAAAAAEEAAAAAAAAAQQAAAAAAAABBAAAAAAAAAEEAAAAAAAAAQQAAAAAAAABBAAAAAAAAAEEAAAAAAAAAQQAAAAAAAABBAAAAAAAAAEEAAAAAAAAAQQAAAAAAAABBAexSuR+F61D+4HoXrUbjeP3sUrkfhetQ/uB6F61G43j+4HoXrUbjeP7gehetRuN4/uB6F61G43j8AAAAAAAAQQLgehetRuN4/uB6F61G43j+4HoXrUbjePwAAAAAAABBAuB6F61G43j+4HoXrUbjeP7gehetRuN4/AAAAAAAAEEB7FK5H4XrUP3sUrkfhetQ/uB6F61G43j+4HoXrUbjeP7gehetRuN4/uB6F61G43j8AAAAAAAAQQAAAAAAAABBAuB6F61G43j+4HoXrUbjePwAAAAAAAABAAAAAAAAAAEC4HoXrUbjeP7gehetRuN4/uB6F61G43j97FK5H4XrEP7gehetRuN4/AAAAAAAAEEAAAAAAAAAQQAAAAAAAABBAAAAAAAAAEEC4HoXrUbjeP7gehetRuN4/uB6F61G43j+4HoXrUbjePwAAAAAAAABAuB6F61G43j+4HoXrUbjePwAAAAAAABBAAAAAAAAAEEAAAAAAAAAQQLgehetRuN4/uB6F61G43j+4HoXrUbjeP3sUrkfhetQ/exSuR+F61D8AAAAAAAAQQAAAAAAAABBAuB6F61G43j+4HoXrUbjeP7gehetRuN4/uB6F61G43j+4HoXrUbjeP7gehetRuN4/uB6F61G43j+4HoXrUbjePwAAAAAAABBAAAAAAAAAEEAAAAAAAAAYQAAAAAAAABhAAAAAAAAAGEC4HoXrUbjeP7gehetRuN4/exSuR+F61D97FK5H4XrUP3sUrkfhetQ/exSuR+F61D97FK5H4XrUP7gehetRuN4/uB6F61G43j+4HoXrUbjeP7gehetRuN4/exSuR+F6xD+4HoXrUbjeP7gehetRuN4/uB6F61G43j+4HoXrUbjePwAAAAAAABhAuB6F61G43j+4HoXrUbjePwAAAAAAABBAAAAAAAAAGEAAAAAAAAAQQAAAAAAAABBAuB6F61G43j97FK5H4XrUP3sUrkfhetQ/exSuR+F61D8AAAAAAAAQQAAAAAAAABBAAAAAAAAAEEB7FK5H4XrEP7gehetRuN4/uB6F61G43j+4HoXrUbjeP7gehetRuN4/exSuR+F61D+4HoXrUbjeP3sUrkfhetQ/uB6F61G43j+4HoXrUbjeP7gehetRuN4/uB6F61G43j+4HoXrUbjeP7gehetRuN4/uB6F61G43j+4HoXrUbjeP7gehetRuN4/AAAAAAAAEEC4HoXrUbjeP7gehetRuN4/uB6F61G43j97FK5H4XrUP7gehetRuN4/uB6F61G43j+4HoXrUbjeP3sUrkfhesQ/uB6F61G43j97FK5H4XrEP3sUrkfhesQ/exSuR+F6xD97FK5H4XrEP7gehetRuN4/uB6F61G43j+4HoXrUbjeP7gehetRuN4/uB6F61G43j+4HoXrUbjeP7gehetRuN4/uB6F61G43j+4HoXrUbjeP7gehetRuN4/uB6F61G43j+4HoXrUbjeP7gehetRuN4/uB6F61G43j+4HoXrUbjeP7gehetRuN4/uB6F61G43j+4HoXrUbjeP7gehetRuN4/uB6F61G43j+4HoXrUbjeP3sUrkfhetQ/uB6F61G43j+4HoXrUbjeP7gehetRuN4/exSuR+F61D97FK5H4XrUP3sUrkfhetQ/exSuR+F61D+4HoXrUbjeP7gehetRuN4/uB6F61G43j8AAAAAAAAAQAAAAAAAAABAAAAAAAAAEEAAAAAAAAAYQLgehetRuN4/uB6F61G43j+4HoXrUbjeP7gehetRuN4/uB6F61G43j+4HoXrUbjeP7gehetRuN4/uB6F61G43j8AAAAAAAAYQAAAAAAAABhAAAAAAAAAEEAAAAAAAAAYQAAAAAAAABhAAAAAAAAAEEAAAAAAAAAQQAAAAAAAABBAAAAAAAAAEEC4HoXrUbjePwAAAAAAAABAuB6F61G43j+4HoXrUbjeP7gehetRuN4/uB6F61G43j+4HoXrUbjeP7gehetRuN4/AAAAAAAAGEC4HoXrUbjeP7gehetRuN4/AAAAAAAAGEAAAAAAAAAQQLgehetRuN4/uB6F61G43j+4HoXrUbjeP7gehetRuN4/uB6F61G43j+4HoXrUbjeP7gehetRuN4/uB6F61G43j+4HoXrUbjeP7gehetRuN4/uB6F61G43j+4HoXrUbjeP7gehetRuN4/uB6F61G43j+4HoXrUbjeP3sUrkfhesQ/AAAAAAAAEEC4HoXrUbjeP7gehetRuN4/uB6F61G43j+4HoXrUbjeP7gehetRuN4/uB6F61G43j8AAAAAAAAAQLgehetRuN4/AAAAAAAAAEC4HoXrUbjeP3sUrkfhetQ/exSuR+F61D97FK5H4XrUP7gehetRuN4/AAAAAAAAEEC4HoXrUbjeP7gehetRuN4/uB6F61G43j+4HoXrUbjeP7gehetRuN4/uB6F61G43j+4HoXrUbjeP7gehetRuN4/exSuR+F61D+4HoXrUbjePwAAAAAAABBAAAAAAAAAEEC4HoXrUbjeP7gehetRuN4/uB6F61G43j+4HoXrUbjePwAAAAAAABBAuB6F61G43j+4HoXrUbjeP7gehetRuN4/AAAAAAAAEEAAAAAAAAAQQLgehetRuN4/uB6F61G43j+4HoXrUbjeP7gehetRuN4/exSuR+F61D+4HoXrUbjeP3sUrkfhesQ/uB6F61G43j+4HoXrUbjePwAAAAAAABBAuB6F61G43j+4HoXrUbjeP7gehetRuN4/uB6F61G43j+4HoXrUbjeP7gehetRuN4/uB6F61G43j97FK5H4XrUP7gehetRuN4/uB6F61G43j+4HoXrUbjeP7gehetRuN4/uB6F61G43j8AAAAAAAAAQLgehetRuN4/uB6F61G43j+4HoXrUbjeP7gehetRuN4/AAAAAAAAAEC4HoXrUbjeP7gehetRuN4/uB6F61G43j8AAAAAAAAQQAAAAAAAABBAAAAAAAAAEEAAAAAAAAAQQAAAAAAAABBAAAAAAAAAEEAAAAAAAAAQQAAAAAAAABBAAAAAAAAAEEC4HoXrUbjeP7gehetRuN4/exSuR+F61D97FK5H4XrUP3sUrkfhetQ/AAAAAAAAAEC4HoXrUbjeP7gehetRuN4/exSuR+F6xD+4HoXrUbjeP7gehetRuN4/exSuR+F6xD+4HoXrUbjeP7gehetRuN4/uB6F61G43j97FK5H4XrUP3sUrkfhetQ/exSuR+F61D8AAAAAAAAQQAAAAAAAAABAAAAAAAAAAEAAAAAAAAAAQLgehetRuN4/uB6F61G43j+4HoXrUbjeP7gehetRuN4/uB6F61G43j+4HoXrUbjeP7gehetRuN4/uB6F61G43j+4HoXrUbjeP7gehetRuN4/uB6F61G43j+4HoXrUbjeP7gehetRuN4/uB6F61G43j+4HoXrUbjeP7gehetRuN4/uB6F61G43j+4HoXrUbjeP3sUrkfhesQ/uB6F61G43j+4HoXrUbjeP7gehetRuN4/uB6F61G43j+4HoXrUbjeP7gehetRuN4/exSuR+F61D8AAAAAAAAQQLgehetRuN4/uB6F61G43j+4HoXrUbjeP7gehetRuN4/uB6F61G43j+4HoXrUbjeP7gehetRuN4/uB6F61G43j+4HoXrUbjeP7gehetRuN4/AAAAAAAAAEAAAAAAAAAQQLgehetRuN4/uB6F61G43j8AAAAAAAAAQAAAAAAAAABAAAAAAAAAAEAAAAAAAAAAQLgehetRuN4/AAAAAAAAEEAAAAAAAAAQQAAAAAAAABBAAAAAAAAAEEC4HoXrUbjeP7gehetRuN4/uB6F61G43j+4HoXrUbjeP7gehetRuN4/uB6F61G43j+4HoXrUbjeP3sUrkfhetQ/exSuR+F61D+4HoXrUbjeP7gehetRuN4/uB6F61G43j+4HoXrUbjeP7gehetRuN4/uB6F61G43j8AAAAAAAAAQLgehetRuN4/AAAAAAAAGEB7FK5H4XrUP3sUrkfhetQ/uB6F61G43j97FK5H4XrEP7gehetRuN4/uB6F61G43j+4HoXrUbjeP7gehetRuN4/uB6F61G43j+4HoXrUbjeP7gehetRuN4/uB6F61G43j97FK5H4XrEP7gehetRuN4/exSuR+F61D+4HoXrUbjeP3sUrkfhesQ/uB6F61G43j+4HoXrUbjeP3sUrkfhesQ/uB6F61G43j+4HoXrUbjeP7gehetRuN4/AAAAAAAAEEAAAAAAAAAQQAAAAAAAAABAuB6F61G43j+4HoXrUbjeP3sUrkfhetQ/uB6F61G43j+4HoXrUbjeP7gehetRuN4/exSuR+F6xD+4HoXrUbjeP7gehetRuN4/uB6F61G43j+4HoXrUbjeP7gehetRuN4/uB6F61G43j8AAAAAAAAQQLgehetRuN4/uB6F61G43j+4HoXrUbjeP3sUrkfhesQ/uB6F61G43j8AAAAAAAAQQLgehetRuN4/uB6F61G43j+4HoXrUbjeP7gehetRuN4/AAAAAAAAAEAAAAAAAAAQQLgehetRuN4/uB6F61G43j+4HoXrUbjeP7gehetRuN4/uB6F61G43j+4HoXrUbjeP7gehetRuN4/uB6F61G43j+4HoXrUbjeP7gehetRuN4/uB6F61G43j+4HoXrUbjeP7gehetRuN4/uB6F61G43j8AAAAAAAAAQAAAAAAAABhAexSuR+F61D+4HoXrUbjePw==\",\"dtype\":\"float64\",\"order\":\"little\",\"shape\":[1817]},\"tax_body\":[\"C\",\"C\",\"C\",\"COUNTY\",\"COUNTY\",\"COUNTY\",\"COUNTY\",\"COUNTY\",\"COUNTY\",\"COUNTY\",\"S\",\"S\",\"S\",\"S\",\"COUNTY\",\"COUNTY\",\"COUNTY\",\"COUNTY\",\"COUNTY\",\"COUNTY\",\"COUNTY\",\"COUNTY\",\"COUNTY\",\"COUNTY\",\"S\",\"S\",\"S\",\"S\",\"S\",\"C\",\"COUNTY\",\"COUNTY\",\"COUNTY\",\"COUNTY\",\"COUNTY\",\"COUNTY\",\"COUNTY\",\"COUNTY\",\"COUNTY\",\"COUNTY\",\"COUNTY\",\"COUNTY\",\"COUNTY\",\"COUNTY\",\"COUNTY\",\"COUNTY\",\"S\",\"S\",\"S\",\"COUNTY\",\"COUNTY\",\"COUNTY\",\"COUNTY\",\"COUNTY\",\"COUNTY\",\"COUNTY\",\"COUNTY\",\"COUNTY\",\"COUNTY\",\"COUNTY\",\"COUNTY\",\"S\",\"S\",\"S\",\"COUNTY\",\"COUNTY\",\"COUNTY\",\"COUNTY\",\"COUNTY\",\"COUNTY\",\"COUNTY\",\"COUNTY\",\"COUNTY\",\"COUNTY\",\"COUNTY\",\"S\",\"S\",\"S\",\"S\",\"S\",\"S\",\"C\",\"C\",\"C\",\"C\",\"C\",\"Y\",\"Y\",\"Y\",\"COUNTY\",\"COUNTY\",\"COUNTY\",\"COUNTY\",\"S\",\"S\",\"S\",\"COUNTY\",\"COUNTY\",\"COUNTY\",\"COUNTY\",\"COUNTY\",\"COUNTY\",\"COUNTY\",\"COUNTY\",\"COUNTY\",\"COUNTY\",\"COUNTY\",\"COUNTY\",\"COUNTY\",\"COUNTY\",\"COUNTY\",\"COUNTY\",\"COUNTY\",\"COUNTY\",\"COUNTY\",\"COUNTY\",\"COUNTY\",\"COUNTY\",\"COUNTY\",\"COUNTY\",\"COUNTY\",\"COUNTY\",\"COUNTY\",\"COUNTY\",\"COUNTY\",\"COUNTY\",\"COUNTY\",\"COUNTY\",\"COUNTY\",\"COUNTY\",\"C\",\"C\",\"C\",\"COUNTY\",\"COUNTY\",\"COUNTY\",\"COUNTY\",\"COUNTY\",\"C\",\"C\",\"COUNTY\",\"COUNTY\",\"COUNTY\",\"Y\",\"Y\",\"Y\",\"COUNTY\",\"COUNTY\",\"COUNTY\",\"COUNTY\",\"COUNTY\",\"C\",\"C\",\"C\",\"COUNTY\",\"COUNTY\",\"COUNTY\",\"COUNTY\",\"COUNTY\",\"C\",\"C\",\"C\",\"COUNTY\",\"COUNTY\",\"COUNTY\",\"COUNTY\",\"S\",\"S\",\"S\",\"S\",\"S\",\"S\",\"S\",\"COUNTY\",\"COUNTY\",\"COUNTY\",\"COUNTY\",\"COUNTY\",\"COUNTY\",\"COUNTY\",\"COUNTY\",\"COUNTY\",\"COUNTY\",\"COUNTY\",\"COUNTY\",\"Y\",\"Y\",\"Y\",\"Y\",\"Y\",\"S\",\"S\",\"S\",\"S\",\"S\",\"S\",\"S\",\"S\",\"COUNTY\",\"COUNTY\",\"S\",\"S\",\"S\",\"S\",\"S\",\"S\",\"COUNTY\",\"COUNTY\",\"COUNTY\",\"COUNTY\",\"COUNTY\",\"COUNTY\",\"COUNTY\",\"COUNTY\",\"COUNTY\",\"COUNTY\",\"C\",\"C\",\"C\",\"C\",\"C\",\"C\",\"C\",\"C\",\"C\",\"COUNTY\",\"COUNTY\",\"COUNTY\",\"COUNTY\",\"COUNTY\",\"COUNTY\",\"COUNTY\",\"COUNTY\",\"COUNTY\",\"COUNTY\",\"COUNTY\",\"COUNTY\",\"COUNTY\",\"COUNTY\",\"COUNTY\",\"COUNTY\",\"COUNTY\",\"COUNTY\",\"COUNTY\",\"COUNTY\",\"COUNTY\",\"COUNTY\",\"COUNTY\",\"COUNTY\",\"S\",\"S\",\"S\",\"S\",\"S\",\"S\",\"S\",\"COUNTY\",\"COUNTY\",\"COUNTY\",\"COUNTY\",\"COUNTY\",\"COUNTY\",\"COUNTY\",\"COUNTY\",\"COUNTY\",\"S\",\"S\",\"S\",\"S\",\"S\",\"S\",\"S\",\"S\",\"S\",\"COUNTY\",\"COUNTY\",\"COUNTY\",\"COUNTY\",\"COUNTY\",\"S\",\"S\",\"S\",\"S\",\"S\",\"S\",\"S\",\"S\",\"S\",\"COUNTY\",\"COUNTY\",\"COUNTY\",\"COUNTY\",\"COUNTY\",\"COUNTY\",\"S\",\"S\",\"COUNTY\",\"COUNTY\",\"COUNTY\",\"COUNTY\",\"COUNTY\",\"COUNTY\",\"COUNTY\",\"COUNTY\",\"COUNTY\",\"COUNTY\",\"COUNTY\",\"C\",\"C\",\"C\",\"C\",\"C\",\"C\",\"COUNTY\",\"COUNTY\",\"COUNTY\",\"COUNTY\",\"COUNTY\",\"COUNTY\",\"COUNTY\",\"COUNTY\",\"COUNTY\",\"COUNTY\",\"COUNTY\",\"Y\",\"Y\",\"Y\",\"COUNTY\",\"COUNTY\",\"COUNTY\",\"COUNTY\",\"COUNTY\",\"COUNTY\",\"COUNTY\",\"COUNTY\",\"COUNTY\",\"COUNTY\",\"COUNTY\",\"COUNTY\",\"COUNTY\",\"COUNTY\",\"COUNTY\",\"COUNTY\",\"COUNTY\",\"COUNTY\",\"COUNTY\",\"C\",\"S\",\"S\",\"S\",\"S\",\"S\",\"Y\",\"Y\",\"Y\",\"Y\",\"Y\",\"Y\",\"Y\",\"COUNTY\",\"COUNTY\",\"COUNTY\",\"S\",\"S\",\"S\",\"S\",\"Y\",\"Y\",\"Y\",\"Y\",\"COUNTY\",\"COUNTY\",\"COUNTY\",\"C\",\"C\",\"C\",\"C\",\"C\",\"C\",\"COUNTY\",\"COUNTY\",\"COUNTY\",\"C\",\"C\",\"C\",\"C\",\"C\",\"C\",\"C\",\"COUNTY\",\"COUNTY\",\"COUNTY\",\"COUNTY\",\"COUNTY\",\"COUNTY\",\"COUNTY\",\"COUNTY\",\"COUNTY\",\"COUNTY\",\"COUNTY\",\"COUNTY\",\"COUNTY\",\"COUNTY\",\"COUNTY\",\"COUNTY\",\"COUNTY\",\"COUNTY\",\"COUNTY\",\"COUNTY\",\"COUNTY\",\"COUNTY\",\"COUNTY\",\"Y\",\"Y\",\"Y\",\"COUNTY\",\"COUNTY\",\"COUNTY\",\"C\",\"C\",\"C\",\"C\",\"C\",\"C\",\"C\",\"C\",\"C\",\"C\",\"C\",\"C\",\"Y\",\"Y\",\"Y\",\"S\",\"S\",\"S\",\"S\",\"S\",\"C\",\"C\",\"C\",\"C\",\"C\",\"C\",\"C\",\"C\",\"C\",\"C\",\"C\",\"C\",\"C\",\"C\",\"C\",\"C\",\"C\",\"C\",\"C\",\"C\",\"C\",\"C\",\"C\",\"C\",\"C\",\"S\",\"S\",\"C\",\"C\",\"C\",\"C\",\"C\",\"C\",\"C\",\"C\",\"C\",\"C\",\"C\",\"C\",\"C\",\"C\",\"C\",\"C\",\"C\",\"C\",\"C\",\"C\",\"C\",\"C\",\"C\",\"C\",\"C\",\"C\",\"C\",\"C\",\"C\",\"C\",\"C\",\"C\",\"C\",\"C\",\"S\",\"S\",\"S\",\"S\",\"S\",\"S\",\"S\",\"S\",\"S\",\"S\",\"S\",\"COUNTY\",\"COUNTY\",\"COUNTY\",\"COUNTY\",\"S\",\"C\",\"C\",\"C\",\"C\",\"S\",\"S\",\"S\",\"S\",\"S\",\"S\",\"S\",\"S\",\"S\",\"S\",\"S\",\"S\",\"S\",\"S\",\"S\",\"S\",\"S\",\"S\",\"S\",\"S\",\"S\",\"S\",\"S\",\"S\",\"S\",\"S\",\"S\",\"S\",\"S\",\"S\",\"S\",\"S\",\"S\",\"S\",\"S\",\"S\",\"S\",\"S\",\"S\",\"S\",\"S\",\"S\",\"S\",\"S\",\"S\",\"S\",\"S\",\"S\",\"S\",\"S\",\"S\",\"S\",\"S\",\"S\",\"S\",\"S\",\"S\",\"S\",\"S\",\"S\",\"S\",\"S\",\"S\",\"S\",\"S\",\"S\",\"S\",\"S\",\"S\",\"S\",\"S\",\"S\",\"S\",\"S\",\"S\",\"S\",\"S\",\"S\",\"S\",\"S\",\"S\",\"S\",\"S\",\"S\",\"S\",\"S\",\"S\",\"S\",\"S\",\"S\",\"S\",\"S\",\"S\",\"S\",\"S\",\"S\",\"S\",\"S\",\"S\",\"S\",\"S\",\"S\",\"S\",\"S\",\"S\",\"S\",\"S\",\"S\",\"S\",\"S\",\"S\",\"S\",\"S\",\"S\",\"S\",\"S\",\"S\",\"S\",\"S\",\"S\",\"S\",\"S\",\"S\",\"S\",\"S\",\"S\",\"S\",\"S\",\"S\",\"S\",\"S\",\"S\",\"S\",\"S\",\"S\",\"C\",\"COUNTY\",\"COUNTY\",\"COUNTY\",\"COUNTY\",\"COUNTY\",\"S\",\"S\",\"S\",\"S\",\"S\",\"S\",\"S\",\"S\",\"S\",\"S\",\"S\",\"S\",\"S\",\"S\",\"S\",\"S\",\"S\",\"S\",\"Y\",\"Y\",\"Y\",\"Y\",\"Y\",\"Y\",\"Y\",\"Y\",\"Y\",\"Y\",\"Y\",\"Y\",\"Y\",\"Y\",\"Y\",\"Y\",\"Y\",\"Y\",\"Y\",\"C\",\"C\",\"C\",\"C\",\"C\",\"C\",\"C\",\"C\",\"Y\",\"Y\",\"Y\",\"Y\",\"Y\",\"Y\",\"Y\",\"Y\",\"Y\",\"Y\",\"Y\",\"Y\",\"Y\",\"Y\",\"COUNTY\",\"COUNTY\",\"COUNTY\",\"COUNTY\",\"COUNTY\",\"COUNTY\",\"COUNTY\",\"COUNTY\",\"COUNTY\",\"COUNTY\",\"COUNTY\",\"COUNTY\",\"COUNTY\",\"COUNTY\",\"COUNTY\",\"COUNTY\",\"COUNTY\",\"COUNTY\",\"COUNTY\",\"COUNTY\",\"COUNTY\",\"COUNTY\",\"COUNTY\",\"COUNTY\",\"COUNTY\",\"COUNTY\",\"COUNTY\",\"COUNTY\",\"COUNTY\",\"COUNTY\",\"COUNTY\",\"COUNTY\",\"COUNTY\",\"COUNTY\",\"COUNTY\",\"COUNTY\",\"COUNTY\",\"COUNTY\",\"COUNTY\",\"COUNTY\",\"COUNTY\",\"COUNTY\",\"COUNTY\",\"COUNTY\",\"COUNTY\",\"COUNTY\",\"COUNTY\",\"COUNTY\",\"COUNTY\",\"COUNTY\",\"COUNTY\",\"COUNTY\",\"COUNTY\",\"COUNTY\",\"COUNTY\",\"COUNTY\",\"COUNTY\",\"COUNTY\",\"COUNTY\",\"COUNTY\",\"COUNTY\",\"COUNTY\",\"COUNTY\",\"COUNTY\",\"COUNTY\",\"COUNTY\",\"COUNTY\",\"COUNTY\",\"COUNTY\",\"S\",\"S\",\"COUNTY\",\"COUNTY\",\"COUNTY\",\"COUNTY\",\"COUNTY\",\"COUNTY\",\"COUNTY\",\"COUNTY\",\"COUNTY\",\"COUNTY\",\"COUNTY\",\"COUNTY\",\"COUNTY\",\"COUNTY\",\"COUNTY\",\"COUNTY\",\"COUNTY\",\"COUNTY\",\"COUNTY\",\"COUNTY\",\"COUNTY\",\"COUNTY\",\"COUNTY\",\"COUNTY\",\"COUNTY\",\"COUNTY\",\"COUNTY\",\"COUNTY\",\"COUNTY\",\"COUNTY\",\"COUNTY\",\"COUNTY\",\"COUNTY\",\"COUNTY\",\"COUNTY\",\"COUNTY\",\"COUNTY\",\"COUNTY\",\"COUNTY\",\"COUNTY\",\"COUNTY\",\"COUNTY\",\"COUNTY\",\"COUNTY\",\"COUNTY\",\"COUNTY\",\"COUNTY\",\"COUNTY\",\"COUNTY\",\"COUNTY\",\"COUNTY\",\"COUNTY\",\"COUNTY\",\"S\",\"S\",\"S\",\"S\",\"S\",\"S\",\"S\",\"S\",\"S\",\"S\",\"S\",\"S\",\"Y\",\"Y\",\"Y\",\"Y\",\"Y\",\"Y\",\"Y\",\"Y\",\"Y\",\"Y\",\"Y\",\"Y\",\"Y\",\"Y\",\"Y\",\"Y\",\"Y\",\"Y\",\"S\",\"S\",\"S\",\"COUNTY\",\"S\",\"S\",\"S\",\"C\",\"C\",\"C\",\"C\",\"C\",\"C\",\"S\",\"S\",\"S\",\"S\",\"COUNTY\",\"COUNTY\",\"COUNTY\",\"COUNTY\",\"COUNTY\",\"COUNTY\",\"COUNTY\",\"COUNTY\",\"COUNTY\",\"COUNTY\",\"COUNTY\",\"COUNTY\",\"COUNTY\",\"COUNTY\",\"COUNTY\",\"COUNTY\",\"COUNTY\",\"COUNTY\",\"COUNTY\",\"S\",\"S\",\"COUNTY\",\"COUNTY\",\"COUNTY\",\"S\",\"S\",\"S\",\"S\",\"S\",\"COUNTY\",\"COUNTY\",\"COUNTY\",\"S\",\"S\",\"S\",\"S\",\"COUNTY\",\"COUNTY\",\"COUNTY\",\"COUNTY\",\"COUNTY\",\"COUNTY\",\"COUNTY\",\"COUNTY\",\"COUNTY\",\"COUNTY\",\"COUNTY\",\"COUNTY\",\"COUNTY\",\"COUNTY\",\"COUNTY\",\"S\",\"S\",\"S\",\"C\",\"C\",\"C\",\"C\",\"C\",\"C\",\"COUNTY\",\"COUNTY\",\"COUNTY\",\"COUNTY\",\"COUNTY\",\"COUNTY\",\"COUNTY\",\"COUNTY\",\"COUNTY\",\"COUNTY\",\"COUNTY\",\"COUNTY\",\"COUNTY\",\"COUNTY\",\"C\",\"C\",\"C\",\"C\",\"C\",\"C\",\"C\",\"C\",\"C\",\"C\",\"C\",\"C\",\"C\",\"C\",\"C\",\"C\",\"C\",\"C\",\"S\",\"COUNTY\",\"COUNTY\",\"COUNTY\",\"COUNTY\",\"COUNTY\",\"COUNTY\",\"COUNTY\",\"COUNTY\",\"COUNTY\",\"COUNTY\",\"COUNTY\",\"COUNTY\",\"C\",\"C\",\"C\",\"C\",\"C\",\"C\",\"C\",\"S\",\"S\",\"S\",\"S\",\"S\",\"S\",\"S\",\"S\",\"S\",\"S\",\"S\",\"S\",\"S\",\"S\",\"S\",\"S\",\"S\",\"S\",\"S\",\"S\",\"COUNTY\",\"COUNTY\",\"COUNTY\",\"COUNTY\",\"COUNTY\",\"Y\",\"COUNTY\",\"COUNTY\",\"COUNTY\",\"COUNTY\",\"COUNTY\",\"COUNTY\",\"COUNTY\",\"COUNTY\",\"COUNTY\",\"COUNTY\",\"COUNTY\",\"COUNTY\",\"COUNTY\",\"COUNTY\",\"COUNTY\",\"COUNTY\",\"C\",\"C\",\"C\",\"C\",\"C\",\"C\",\"C\",\"C\",\"C\",\"C\",\"C\",\"C\",\"S\",\"S\",\"S\",\"S\",\"S\",\"C\",\"C\",\"C\",\"C\",\"C\",\"S\",\"S\",\"S\",\"S\",\"COUNTY\",\"COUNTY\",\"COUNTY\",\"COUNTY\",\"COUNTY\",\"COUNTY\",\"COUNTY\",\"COUNTY\",\"COUNTY\",\"S\",\"S\",\"S\",\"COUNTY\",\"COUNTY\",\"COUNTY\",\"COUNTY\",\"COUNTY\",\"COUNTY\",\"COUNTY\",\"COUNTY\",\"COUNTY\",\"COUNTY\",\"S\",\"S\",\"S\",\"S\",\"Y\",\"Y\",\"COUNTY\",\"COUNTY\",\"COUNTY\",\"COUNTY\",\"COUNTY\",\"COUNTY\",\"COUNTY\",\"COUNTY\",\"COUNTY\",\"COUNTY\",\"COUNTY\",\"COUNTY\",\"COUNTY\",\"COUNTY\",\"COUNTY\",\"COUNTY\",\"Y\",\"Y\",\"S\",\"COUNTY\",\"COUNTY\",\"COUNTY\",\"COUNTY\",\"COUNTY\",\"COUNTY\",\"COUNTY\",\"COUNTY\",\"COUNTY\",\"COUNTY\",\"Y\",\"Y\",\"Y\",\"Y\",\"COUNTY\",\"COUNTY\",\"COUNTY\",\"COUNTY\",\"COUNTY\",\"COUNTY\",\"COUNTY\",\"COUNTY\",\"COUNTY\",\"COUNTY\",\"S\",\"S\",\"COUNTY\",\"COUNTY\",\"COUNTY\",\"COUNTY\",\"COUNTY\",\"S\",\"S\",\"S\",\"COUNTY\",\"S\",\"S\",\"S\",\"C\",\"C\",\"C\",\"C\",\"C\",\"C\",\"C\",\"C\",\"C\",\"C\",\"C\",\"C\",\"C\",\"C\",\"C\",\"C\",\"C\",\"C\",\"COUNTY\",\"COUNTY\",\"COUNTY\",\"S\",\"S\",\"COUNTY\",\"S\",\"S\",\"S\",\"S\",\"S\",\"S\",\"COUNTY\",\"COUNTY\",\"COUNTY\",\"S\",\"S\",\"S\",\"S\",\"S\",\"S\",\"S\",\"S\",\"S\",\"S\",\"S\",\"S\",\"COUNTY\",\"COUNTY\",\"COUNTY\",\"COUNTY\",\"COUNTY\",\"COUNTY\",\"COUNTY\",\"COUNTY\",\"COUNTY\",\"COUNTY\",\"S\",\"S\",\"Y\",\"Y\",\"Y\",\"C\",\"C\",\"C\",\"C\",\"C\",\"C\",\"C\",\"C\",\"S\",\"S\",\"S\",\"S\",\"S\",\"S\",\"S\",\"S\",\"S\",\"S\",\"S\",\"S\",\"S\",\"COUNTY\",\"COUNTY\",\"COUNTY\",\"COUNTY\",\"COUNTY\",\"COUNTY\",\"COUNTY\",\"COUNTY\",\"COUNTY\",\"COUNTY\",\"S\",\"COUNTY\",\"COUNTY\",\"COUNTY\",\"COUNTY\",\"C\",\"C\",\"COUNTY\",\"COUNTY\",\"COUNTY\",\"S\",\"S\",\"S\",\"C\",\"C\",\"Y\",\"Y\",\"S\",\"S\",\"S\",\"S\",\"S\",\"COUNTY\",\"COUNTY\",\"COUNTY\",\"COUNTY\",\"COUNTY\",\"COUNTY\",\"COUNTY\",\"COUNTY\",\"COUNTY\",\"COUNTY\",\"C\",\"C\",\"COUNTY\",\"COUNTY\",\"C\",\"C\",\"Y\",\"Y\",\"Y\",\"COUNTY\",\"COUNTY\",\"COUNTY\",\"COUNTY\",\"COUNTY\",\"COUNTY\",\"COUNTY\",\"C\",\"C\",\"C\",\"C\",\"C\",\"Y\",\"Y\",\"Y\",\"Y\",\"Y\",\"Y\",\"Y\",\"Y\",\"Y\",\"S\",\"S\",\"S\",\"S\",\"S\",\"COUNTY\",\"COUNTY\",\"COUNTY\",\"COUNTY\",\"COUNTY\",\"COUNTY\",\"COUNTY\",\"S\",\"S\",\"S\",\"S\",\"S\",\"S\",\"S\",\"S\",\"S\",\"S\",\"S\",\"S\",\"S\",\"S\",\"S\",\"S\",\"S\",\"S\",\"S\",\"S\",\"S\",\"COUNTY\",\"COUNTY\",\"COUNTY\",\"COUNTY\",\"COUNTY\",\"COUNTY\",\"COUNTY\",\"COUNTY\",\"COUNTY\",\"COUNTY\",\"Y\",\"Y\",\"Y\",\"Y\",\"Y\",\"Y\",\"Y\",\"Y\",\"Y\",\"Y\",\"Y\",\"Y\",\"Y\",\"Y\",\"Y\",\"Y\",\"Y\",\"S\",\"S\",\"S\",\"S\",\"S\",\"S\",\"S\",\"COUNTY\",\"Y\",\"Y\",\"Y\",\"COUNTY\",\"COUNTY\",\"COUNTY\",\"COUNTY\",\"COUNTY\",\"S\",\"S\",\"S\",\"S\",\"S\",\"S\",\"COUNTY\",\"COUNTY\",\"S\",\"S\",\"S\",\"S\",\"S\",\"Y\",\"Y\",\"COUNTY\",\"COUNTY\",\"COUNTY\",\"COUNTY\",\"COUNTY\",\"COUNTY\",\"C\",\"C\",\"C\",\"C\",\"C\",\"C\",\"C\",\"COUNTY\",\"COUNTY\",\"COUNTY\",\"COUNTY\",\"COUNTY\",\"COUNTY\",\"COUNTY\",\"COUNTY\",\"COUNTY\",\"COUNTY\",\"COUNTY\",\"COUNTY\",\"COUNTY\",\"Y\",\"Y\",\"Y\",\"Y\",\"S\",\"S\",\"S\",\"S\",\"S\",\"S\",\"S\",\"S\",\"S\",\"S\",\"S\",\"COUNTY\",\"COUNTY\",\"COUNTY\",\"COUNTY\",\"COUNTY\",\"COUNTY\",\"C\",\"C\",\"C\",\"C\",\"C\",\"COUNTY\",\"COUNTY\",\"COUNTY\",\"COUNTY\",\"COUNTY\",\"S\",\"S\",\"S\",\"S\",\"S\",\"S\",\"S\",\"S\",\"S\",\"COUNTY\",\"COUNTY\",\"COUNTY\",\"COUNTY\",\"COUNTY\",\"COUNTY\",\"COUNTY\",\"C\",\"C\",\"C\",\"C\",\"C\",\"C\",\"C\",\"C\",\"C\",\"C\",\"COUNTY\",\"COUNTY\",\"COUNTY\",\"COUNTY\",\"COUNTY\",\"C\",\"C\",\"C\",\"S\",\"S\",\"C\",\"C\",\"C\",\"C\",\"C\",\"C\",\"C\",\"C\",\"C\",\"C\",\"C\",\"C\",\"C\",\"C\",\"C\",\"C\",\"C\",\"C\",\"C\",\"C\",\"C\",\"C\",\"C\",\"C\",\"C\",\"COUNTY\",\"COUNTY\",\"C\",\"C\",\"C\",\"C\",\"COUNTY\",\"COUNTY\",\"COUNTY\",\"COUNTY\",\"COUNTY\",\"COUNTY\",\"COUNTY\",\"COUNTY\",\"S\",\"S\",\"S\",\"S\",\"S\",\"S\",\"S\",\"S\",\"S\",\"COUNTY\",\"COUNTY\",\"COUNTY\",\"COUNTY\",\"COUNTY\",\"COUNTY\",\"COUNTY\",\"COUNTY\",\"COUNTY\",\"COUNTY\",\"COUNTY\",\"COUNTY\",\"COUNTY\",\"COUNTY\",\"COUNTY\",\"Y\",\"Y\",\"COUNTY\",\"COUNTY\",\"COUNTY\",\"COUNTY\",\"S\",\"S\",\"S\",\"S\",\"S\",\"S\",\"S\",\"C\",\"C\",\"C\",\"C\",\"C\",\"C\",\"C\",\"C\",\"COUNTY\",\"COUNTY\",\"C\",\"S\",\"S\",\"S\",\"S\",\"S\",\"S\",\"COUNTY\",\"COUNTY\",\"C\",\"C\",\"C\",\"C\",\"C\",\"C\",\"C\",\"S\",\"S\",\"S\",\"S\",\"S\",\"S\",\"S\",\"S\",\"S\",\"S\",\"S\",\"S\",\"S\",\"S\",\"S\",\"S\",\"COUNTY\",\"COUNTY\",\"COUNTY\",\"COUNTY\",\"COUNTY\",\"COUNTY\",\"C\",\"C\",\"C\",\"C\",\"COUNTY\",\"COUNTY\",\"C\",\"C\",\"C\",\"COUNTY\",\"COUNTY\",\"S\",\"S\",\"S\",\"C\",\"C\",\"C\",\"C\",\"S\",\"S\",\"S\",\"S\",\"S\",\"C\",\"C\",\"C\",\"C\",\"C\",\"C\",\"C\",\"C\",\"C\",\"Y\",\"Y\",\"Y\",\"Y\",\"Y\",\"Y\",\"Y\",\"Y\",\"Y\",\"Y\",\"Y\",\"Y\",\"Y\",\"Y\",\"COUNTY\",\"COUNTY\",\"COUNTY\",\"COUNTY\",\"COUNTY\",\"COUNTY\",\"COUNTY\",\"C\",\"C\",\"C\",\"C\",\"C\",\"C\",\"C\",\"C\",\"C\",\"C\",\"C\",\"C\",\"C\",\"C\",\"C\",\"C\",\"C\",\"C\",\"C\",\"C\",\"C\",\"C\",\"C\",\"C\",\"C\",\"C\",\"C\",\"C\",\"C\",\"C\",\"C\",\"C\",\"C\",\"C\",\"C\",\"C\",\"C\",\"C\",\"C\",\"C\",\"C\",\"C\",\"C\",\"C\",\"S\",\"S\",\"S\",\"COUNTY\",\"COUNTY\",\"COUNTY\",\"COUNTY\",\"C\",\"C\",\"C\",\"C\",\"C\",\"Y\",\"Y\",\"Y\",\"Y\",\"Y\",\"Y\",\"C\",\"C\",\"C\",\"C\",\"C\",\"C\",\"C\",\"Y\",\"Y\",\"Y\",\"C\",\"C\",\"C\",\"C\",\"C\",\"C\",\"C\",\"C\",\"C\",\"COUNTY\",\"COUNTY\",\"COUNTY\",\"Y\",\"Y\",\"Y\",\"C\",\"C\",\"C\",\"C\",\"C\",\"C\",\"C\",\"C\",\"C\",\"C\",\"C\",\"C\",\"C\",\"C\",\"Y\",\"Y\",\"COUNTY\",\"C\",\"C\",\"C\",\"COUNTY\",\"COUNTY\",\"COUNTY\",\"S\",\"S\",\"S\",\"S\",\"S\",\"S\",\"Y\",\"Y\",\"COUNTY\",\"COUNTY\",\"COUNTY\",\"COUNTY\",\"COUNTY\",\"COUNTY\",\"C\",\"C\",\"C\",\"C\",\"COUNTY\",\"COUNTY\",\"C\",\"C\",\"C\",\"S\",\"S\",\"S\",\"S\",\"S\",\"COUNTY\",\"COUNTY\",\"COUNTY\",\"COUNTY\",\"COUNTY\",\"COUNTY\",\"COUNTY\",\"COUNTY\",\"S\",\"S\"]},\"selected\":{\"id\":\"1477\"},\"selection_policy\":{\"id\":\"1527\"}},\"id\":\"1476\",\"type\":\"ColumnDataSource\"},{\"attributes\":{},\"id\":\"1479\",\"type\":\"NumberEditor\"},{\"attributes\":{},\"id\":\"1508\",\"type\":\"StringFormatter\"},{\"attributes\":{\"editor\":{\"id\":\"1509\"},\"field\":\"tax_body\",\"formatter\":{\"id\":\"1508\"},\"title\":\"tax_body\"},\"id\":\"1510\",\"type\":\"TableColumn\"},{\"attributes\":{},\"id\":\"1493\",\"type\":\"StringFormatter\"},{\"attributes\":{},\"id\":\"1504\",\"type\":\"NumberEditor\"},{\"attributes\":{},\"id\":\"1484\",\"type\":\"IntEditor\"},{\"attributes\":{},\"id\":\"1514\",\"type\":\"StringEditor\"},{\"attributes\":{\"editor\":{\"id\":\"1479\"},\"field\":\"monthly_bill\",\"formatter\":{\"id\":\"1478\"},\"title\":\"monthly_bill\"},\"id\":\"1480\",\"type\":\"TableColumn\"},{\"attributes\":{},\"id\":\"1509\",\"type\":\"StringEditor\"},{\"attributes\":{},\"id\":\"1518\",\"type\":\"NumberFormatter\"},{\"attributes\":{\"editor\":{\"id\":\"1484\"},\"field\":\"qty\",\"formatter\":{\"id\":\"1483\"},\"title\":\"qty\"},\"id\":\"1485\",\"type\":\"TableColumn\"},{\"attributes\":{\"editor\":{\"id\":\"1514\"},\"field\":\"biz_type\",\"formatter\":{\"id\":\"1513\"},\"title\":\"biz_type\"},\"id\":\"1515\",\"type\":\"TableColumn\"},{\"attributes\":{},\"id\":\"1519\",\"type\":\"IntEditor\"},{\"attributes\":{},\"id\":\"1513\",\"type\":\"StringFormatter\"}],\"root_ids\":[\"1474\"]},\"title\":\"Bokeh Application\",\"version\":\"2.3.2\"}};\n",
       "    var render_items = [{\"docid\":\"105067dc-1e0c-409c-9c62-9f45b66e67f8\",\"root_ids\":[\"1474\"],\"roots\":{\"1474\":\"b546803f-cfd0-485b-93db-e650cbbe1095\"}}];\n",
       "    root.Bokeh.embed.embed_items_notebook(docs_json, render_items);\n",
       "  }\n",
       "  if (root.Bokeh !== undefined && root.Bokeh.Panel !== undefined) {\n",
       "    embed_document(root);\n",
       "  } else {\n",
       "    var attempts = 0;\n",
       "    var timer = setInterval(function(root) {\n",
       "      if (root.Bokeh !== undefined && root.Bokeh.Panel !== undefined) {\n",
       "        clearInterval(timer);\n",
       "        embed_document(root);\n",
       "      } else if (document.readyState == \"complete\") {\n",
       "        attempts++;\n",
       "        if (attempts > 200) {\n",
       "          clearInterval(timer);\n",
       "          console.log(\"Bokeh: ERROR: Unable to run BokehJS code because BokehJS library is missing\");\n",
       "        }\n",
       "      }\n",
       "    }, 25, root)\n",
       "  }\n",
       "})(window);</script>"
      ],
      "text/plain": [
       ":Table   [monthly_bill,qty,size,commodity,pickups,bin_amount,tax_body,biz_type,Class]"
      ]
     },
     "execution_count": 61,
     "metadata": {
      "application/vnd.holoviews_exec.v0+json": {
       "id": "1474"
      }
     },
     "output_type": "execute_result"
    }
   ],
   "source": [
    "# Create a table with tradable cryptocurrencies.\n",
    "clustered_df.hvplot.table(columns=['monthly_bill', 'qty', 'size', 'commodity', 'pickups', 'bin_amount', 'tax_body', 'biz_type', 'Class'], sortable=True, selectable=True)"
   ]
  },
  {
   "cell_type": "markdown",
   "id": "338b28fb",
   "metadata": {},
   "source": [
    "## Supervised Models"
   ]
  },
  {
   "cell_type": "markdown",
   "id": "1a57a422",
   "metadata": {},
   "source": [
    "#### Balanced Forest Classifier"
   ]
  },
  {
   "cell_type": "code",
   "execution_count": 64,
   "id": "0178afd7",
   "metadata": {},
   "outputs": [
    {
     "data": {
      "text/html": [
       "<div>\n",
       "<style scoped>\n",
       "    .dataframe tbody tr th:only-of-type {\n",
       "        vertical-align: middle;\n",
       "    }\n",
       "\n",
       "    .dataframe tbody tr th {\n",
       "        vertical-align: top;\n",
       "    }\n",
       "\n",
       "    .dataframe thead th {\n",
       "        text-align: right;\n",
       "    }\n",
       "</style>\n",
       "<table border=\"1\" class=\"dataframe\">\n",
       "  <thead>\n",
       "    <tr style=\"text-align: right;\">\n",
       "      <th></th>\n",
       "      <th>monthly_bill</th>\n",
       "      <th>qty</th>\n",
       "      <th>size</th>\n",
       "      <th>pickups</th>\n",
       "      <th>bin_amount</th>\n",
       "      <th>commodity_Compost</th>\n",
       "      <th>commodity_Garbage</th>\n",
       "      <th>commodity_Recycle</th>\n",
       "      <th>tax_body_C</th>\n",
       "      <th>tax_body_COUNTY</th>\n",
       "      <th>tax_body_S</th>\n",
       "      <th>tax_body_Y</th>\n",
       "    </tr>\n",
       "    <tr>\n",
       "      <th>cust</th>\n",
       "      <th></th>\n",
       "      <th></th>\n",
       "      <th></th>\n",
       "      <th></th>\n",
       "      <th></th>\n",
       "      <th></th>\n",
       "      <th></th>\n",
       "      <th></th>\n",
       "      <th></th>\n",
       "      <th></th>\n",
       "      <th></th>\n",
       "      <th></th>\n",
       "    </tr>\n",
       "  </thead>\n",
       "  <tbody>\n",
       "    <tr>\n",
       "      <th>98</th>\n",
       "      <td>888.98</td>\n",
       "      <td>1</td>\n",
       "      <td>4.00</td>\n",
       "      <td>1</td>\n",
       "      <td>813.98</td>\n",
       "      <td>0</td>\n",
       "      <td>1</td>\n",
       "      <td>0</td>\n",
       "      <td>1</td>\n",
       "      <td>0</td>\n",
       "      <td>0</td>\n",
       "      <td>0</td>\n",
       "    </tr>\n",
       "    <tr>\n",
       "      <th>98</th>\n",
       "      <td>888.98</td>\n",
       "      <td>1</td>\n",
       "      <td>4.00</td>\n",
       "      <td>2</td>\n",
       "      <td>75.00</td>\n",
       "      <td>0</td>\n",
       "      <td>0</td>\n",
       "      <td>1</td>\n",
       "      <td>1</td>\n",
       "      <td>0</td>\n",
       "      <td>0</td>\n",
       "      <td>0</td>\n",
       "    </tr>\n",
       "    <tr>\n",
       "      <th>98</th>\n",
       "      <td>888.98</td>\n",
       "      <td>1</td>\n",
       "      <td>4.00</td>\n",
       "      <td>2</td>\n",
       "      <td>75.00</td>\n",
       "      <td>0</td>\n",
       "      <td>0</td>\n",
       "      <td>1</td>\n",
       "      <td>1</td>\n",
       "      <td>0</td>\n",
       "      <td>0</td>\n",
       "      <td>0</td>\n",
       "    </tr>\n",
       "    <tr>\n",
       "      <th>218</th>\n",
       "      <td>965.40</td>\n",
       "      <td>1</td>\n",
       "      <td>4.00</td>\n",
       "      <td>1</td>\n",
       "      <td>75.00</td>\n",
       "      <td>0</td>\n",
       "      <td>0</td>\n",
       "      <td>1</td>\n",
       "      <td>0</td>\n",
       "      <td>1</td>\n",
       "      <td>0</td>\n",
       "      <td>0</td>\n",
       "    </tr>\n",
       "    <tr>\n",
       "      <th>218</th>\n",
       "      <td>965.40</td>\n",
       "      <td>1</td>\n",
       "      <td>4.00</td>\n",
       "      <td>1</td>\n",
       "      <td>890.40</td>\n",
       "      <td>0</td>\n",
       "      <td>1</td>\n",
       "      <td>0</td>\n",
       "      <td>0</td>\n",
       "      <td>1</td>\n",
       "      <td>0</td>\n",
       "      <td>0</td>\n",
       "    </tr>\n",
       "    <tr>\n",
       "      <th>218</th>\n",
       "      <td>965.40</td>\n",
       "      <td>1</td>\n",
       "      <td>0.48</td>\n",
       "      <td>1</td>\n",
       "      <td>0.00</td>\n",
       "      <td>0</td>\n",
       "      <td>0</td>\n",
       "      <td>1</td>\n",
       "      <td>0</td>\n",
       "      <td>1</td>\n",
       "      <td>0</td>\n",
       "      <td>0</td>\n",
       "    </tr>\n",
       "    <tr>\n",
       "      <th>218</th>\n",
       "      <td>965.40</td>\n",
       "      <td>1</td>\n",
       "      <td>0.48</td>\n",
       "      <td>1</td>\n",
       "      <td>0.00</td>\n",
       "      <td>0</td>\n",
       "      <td>0</td>\n",
       "      <td>1</td>\n",
       "      <td>0</td>\n",
       "      <td>1</td>\n",
       "      <td>0</td>\n",
       "      <td>0</td>\n",
       "    </tr>\n",
       "    <tr>\n",
       "      <th>218</th>\n",
       "      <td>965.40</td>\n",
       "      <td>1</td>\n",
       "      <td>0.48</td>\n",
       "      <td>1</td>\n",
       "      <td>0.00</td>\n",
       "      <td>1</td>\n",
       "      <td>0</td>\n",
       "      <td>0</td>\n",
       "      <td>0</td>\n",
       "      <td>1</td>\n",
       "      <td>0</td>\n",
       "      <td>0</td>\n",
       "    </tr>\n",
       "    <tr>\n",
       "      <th>218</th>\n",
       "      <td>965.40</td>\n",
       "      <td>1</td>\n",
       "      <td>0.48</td>\n",
       "      <td>1</td>\n",
       "      <td>0.00</td>\n",
       "      <td>0</td>\n",
       "      <td>0</td>\n",
       "      <td>1</td>\n",
       "      <td>0</td>\n",
       "      <td>1</td>\n",
       "      <td>0</td>\n",
       "      <td>0</td>\n",
       "    </tr>\n",
       "    <tr>\n",
       "      <th>345</th>\n",
       "      <td>890.40</td>\n",
       "      <td>1</td>\n",
       "      <td>4.00</td>\n",
       "      <td>1</td>\n",
       "      <td>890.40</td>\n",
       "      <td>0</td>\n",
       "      <td>1</td>\n",
       "      <td>0</td>\n",
       "      <td>0</td>\n",
       "      <td>1</td>\n",
       "      <td>0</td>\n",
       "      <td>0</td>\n",
       "    </tr>\n",
       "    <tr>\n",
       "      <th>567</th>\n",
       "      <td>97.87</td>\n",
       "      <td>1</td>\n",
       "      <td>0.48</td>\n",
       "      <td>1</td>\n",
       "      <td>97.87</td>\n",
       "      <td>0</td>\n",
       "      <td>1</td>\n",
       "      <td>0</td>\n",
       "      <td>0</td>\n",
       "      <td>0</td>\n",
       "      <td>1</td>\n",
       "      <td>0</td>\n",
       "    </tr>\n",
       "    <tr>\n",
       "      <th>567</th>\n",
       "      <td>97.87</td>\n",
       "      <td>1</td>\n",
       "      <td>0.48</td>\n",
       "      <td>1</td>\n",
       "      <td>0.00</td>\n",
       "      <td>0</td>\n",
       "      <td>0</td>\n",
       "      <td>1</td>\n",
       "      <td>0</td>\n",
       "      <td>0</td>\n",
       "      <td>1</td>\n",
       "      <td>0</td>\n",
       "    </tr>\n",
       "    <tr>\n",
       "      <th>717</th>\n",
       "      <td>65.25</td>\n",
       "      <td>1</td>\n",
       "      <td>0.32</td>\n",
       "      <td>1</td>\n",
       "      <td>65.25</td>\n",
       "      <td>0</td>\n",
       "      <td>1</td>\n",
       "      <td>0</td>\n",
       "      <td>0</td>\n",
       "      <td>0</td>\n",
       "      <td>1</td>\n",
       "      <td>0</td>\n",
       "    </tr>\n",
       "    <tr>\n",
       "      <th>717</th>\n",
       "      <td>65.25</td>\n",
       "      <td>1</td>\n",
       "      <td>0.48</td>\n",
       "      <td>1</td>\n",
       "      <td>0.00</td>\n",
       "      <td>0</td>\n",
       "      <td>0</td>\n",
       "      <td>1</td>\n",
       "      <td>0</td>\n",
       "      <td>0</td>\n",
       "      <td>1</td>\n",
       "      <td>0</td>\n",
       "    </tr>\n",
       "    <tr>\n",
       "      <th>767</th>\n",
       "      <td>89.71</td>\n",
       "      <td>1</td>\n",
       "      <td>0.32</td>\n",
       "      <td>1</td>\n",
       "      <td>89.71</td>\n",
       "      <td>0</td>\n",
       "      <td>1</td>\n",
       "      <td>0</td>\n",
       "      <td>0</td>\n",
       "      <td>1</td>\n",
       "      <td>0</td>\n",
       "      <td>0</td>\n",
       "    </tr>\n",
       "  </tbody>\n",
       "</table>\n",
       "</div>"
      ],
      "text/plain": [
       "      monthly_bill  qty  size  pickups  bin_amount  commodity_Compost  \\\n",
       "cust                                                                    \n",
       "98          888.98    1  4.00        1      813.98                  0   \n",
       "98          888.98    1  4.00        2       75.00                  0   \n",
       "98          888.98    1  4.00        2       75.00                  0   \n",
       "218         965.40    1  4.00        1       75.00                  0   \n",
       "218         965.40    1  4.00        1      890.40                  0   \n",
       "218         965.40    1  0.48        1        0.00                  0   \n",
       "218         965.40    1  0.48        1        0.00                  0   \n",
       "218         965.40    1  0.48        1        0.00                  1   \n",
       "218         965.40    1  0.48        1        0.00                  0   \n",
       "345         890.40    1  4.00        1      890.40                  0   \n",
       "567          97.87    1  0.48        1       97.87                  0   \n",
       "567          97.87    1  0.48        1        0.00                  0   \n",
       "717          65.25    1  0.32        1       65.25                  0   \n",
       "717          65.25    1  0.48        1        0.00                  0   \n",
       "767          89.71    1  0.32        1       89.71                  0   \n",
       "\n",
       "      commodity_Garbage  commodity_Recycle  tax_body_C  tax_body_COUNTY  \\\n",
       "cust                                                                      \n",
       "98                    1                  0           1                0   \n",
       "98                    0                  1           1                0   \n",
       "98                    0                  1           1                0   \n",
       "218                   0                  1           0                1   \n",
       "218                   1                  0           0                1   \n",
       "218                   0                  1           0                1   \n",
       "218                   0                  1           0                1   \n",
       "218                   0                  0           0                1   \n",
       "218                   0                  1           0                1   \n",
       "345                   1                  0           0                1   \n",
       "567                   1                  0           0                0   \n",
       "567                   0                  1           0                0   \n",
       "717                   1                  0           0                0   \n",
       "717                   0                  1           0                0   \n",
       "767                   1                  0           0                1   \n",
       "\n",
       "      tax_body_S  tax_body_Y  \n",
       "cust                          \n",
       "98             0           0  \n",
       "98             0           0  \n",
       "98             0           0  \n",
       "218            0           0  \n",
       "218            0           0  \n",
       "218            0           0  \n",
       "218            0           0  \n",
       "218            0           0  \n",
       "218            0           0  \n",
       "345            0           0  \n",
       "567            1           0  \n",
       "567            1           0  \n",
       "717            1           0  \n",
       "717            1           0  \n",
       "767            0           0  "
      ]
     },
     "execution_count": 64,
     "metadata": {},
     "output_type": "execute_result"
    }
   ],
   "source": [
    "df = pd.read_csv(\"cust_serv_combined.csv\").set_index('cust')\n",
    "df.drop(columns=['cycle'], inplace=True)\n",
    "# Create our features\n",
    "X = df.drop(\"biz_type\", axis=1)\n",
    "X = pd.get_dummies(X)\n",
    "\n",
    "# Create our target\n",
    "y = df['biz_type']\n",
    "X.head(15)"
   ]
  },
  {
   "cell_type": "code",
   "execution_count": 65,
   "id": "c3bf25f5",
   "metadata": {},
   "outputs": [
    {
     "data": {
      "text/html": [
       "<div>\n",
       "<style scoped>\n",
       "    .dataframe tbody tr th:only-of-type {\n",
       "        vertical-align: middle;\n",
       "    }\n",
       "\n",
       "    .dataframe tbody tr th {\n",
       "        vertical-align: top;\n",
       "    }\n",
       "\n",
       "    .dataframe thead th {\n",
       "        text-align: right;\n",
       "    }\n",
       "</style>\n",
       "<table border=\"1\" class=\"dataframe\">\n",
       "  <thead>\n",
       "    <tr style=\"text-align: right;\">\n",
       "      <th></th>\n",
       "      <th>monthly_bill</th>\n",
       "      <th>qty</th>\n",
       "      <th>size</th>\n",
       "      <th>pickups</th>\n",
       "      <th>bin_amount</th>\n",
       "      <th>commodity_Compost</th>\n",
       "      <th>commodity_Garbage</th>\n",
       "      <th>commodity_Recycle</th>\n",
       "      <th>tax_body_C</th>\n",
       "      <th>tax_body_COUNTY</th>\n",
       "      <th>tax_body_S</th>\n",
       "      <th>tax_body_Y</th>\n",
       "    </tr>\n",
       "  </thead>\n",
       "  <tbody>\n",
       "    <tr>\n",
       "      <th>count</th>\n",
       "      <td>1817.000000</td>\n",
       "      <td>1817.000000</td>\n",
       "      <td>1817.000000</td>\n",
       "      <td>1817.000000</td>\n",
       "      <td>1817.000000</td>\n",
       "      <td>1817.000000</td>\n",
       "      <td>1817.000000</td>\n",
       "      <td>1817.000000</td>\n",
       "      <td>1817.000000</td>\n",
       "      <td>1817.000000</td>\n",
       "      <td>1817.000000</td>\n",
       "      <td>1817.000000</td>\n",
       "    </tr>\n",
       "    <tr>\n",
       "      <th>mean</th>\n",
       "      <td>1296.227870</td>\n",
       "      <td>2.783709</td>\n",
       "      <td>1.555014</td>\n",
       "      <td>1.296643</td>\n",
       "      <td>274.506687</td>\n",
       "      <td>0.187122</td>\n",
       "      <td>0.326362</td>\n",
       "      <td>0.486516</td>\n",
       "      <td>0.222895</td>\n",
       "      <td>0.405614</td>\n",
       "      <td>0.280132</td>\n",
       "      <td>0.091359</td>\n",
       "    </tr>\n",
       "    <tr>\n",
       "      <th>std</th>\n",
       "      <td>1599.140549</td>\n",
       "      <td>15.869443</td>\n",
       "      <td>1.799651</td>\n",
       "      <td>0.718352</td>\n",
       "      <td>602.846274</td>\n",
       "      <td>0.390117</td>\n",
       "      <td>0.469011</td>\n",
       "      <td>0.499956</td>\n",
       "      <td>0.416303</td>\n",
       "      <td>0.491146</td>\n",
       "      <td>0.449187</td>\n",
       "      <td>0.288199</td>\n",
       "    </tr>\n",
       "    <tr>\n",
       "      <th>min</th>\n",
       "      <td>0.000000</td>\n",
       "      <td>1.000000</td>\n",
       "      <td>0.160000</td>\n",
       "      <td>0.000000</td>\n",
       "      <td>0.000000</td>\n",
       "      <td>0.000000</td>\n",
       "      <td>0.000000</td>\n",
       "      <td>0.000000</td>\n",
       "      <td>0.000000</td>\n",
       "      <td>0.000000</td>\n",
       "      <td>0.000000</td>\n",
       "      <td>0.000000</td>\n",
       "    </tr>\n",
       "    <tr>\n",
       "      <th>25%</th>\n",
       "      <td>195.750000</td>\n",
       "      <td>1.000000</td>\n",
       "      <td>0.480000</td>\n",
       "      <td>1.000000</td>\n",
       "      <td>0.000000</td>\n",
       "      <td>0.000000</td>\n",
       "      <td>0.000000</td>\n",
       "      <td>0.000000</td>\n",
       "      <td>0.000000</td>\n",
       "      <td>0.000000</td>\n",
       "      <td>0.000000</td>\n",
       "      <td>0.000000</td>\n",
       "    </tr>\n",
       "    <tr>\n",
       "      <th>50%</th>\n",
       "      <td>699.200000</td>\n",
       "      <td>1.000000</td>\n",
       "      <td>0.480000</td>\n",
       "      <td>1.000000</td>\n",
       "      <td>32.620000</td>\n",
       "      <td>0.000000</td>\n",
       "      <td>0.000000</td>\n",
       "      <td>0.000000</td>\n",
       "      <td>0.000000</td>\n",
       "      <td>0.000000</td>\n",
       "      <td>0.000000</td>\n",
       "      <td>0.000000</td>\n",
       "    </tr>\n",
       "    <tr>\n",
       "      <th>75%</th>\n",
       "      <td>1772.840000</td>\n",
       "      <td>1.000000</td>\n",
       "      <td>3.500000</td>\n",
       "      <td>1.000000</td>\n",
       "      <td>103.930000</td>\n",
       "      <td>0.000000</td>\n",
       "      <td>1.000000</td>\n",
       "      <td>1.000000</td>\n",
       "      <td>0.000000</td>\n",
       "      <td>1.000000</td>\n",
       "      <td>1.000000</td>\n",
       "      <td>0.000000</td>\n",
       "    </tr>\n",
       "    <tr>\n",
       "      <th>max</th>\n",
       "      <td>8471.200000</td>\n",
       "      <td>236.000000</td>\n",
       "      <td>6.000000</td>\n",
       "      <td>5.000000</td>\n",
       "      <td>4634.190000</td>\n",
       "      <td>1.000000</td>\n",
       "      <td>1.000000</td>\n",
       "      <td>1.000000</td>\n",
       "      <td>1.000000</td>\n",
       "      <td>1.000000</td>\n",
       "      <td>1.000000</td>\n",
       "      <td>1.000000</td>\n",
       "    </tr>\n",
       "  </tbody>\n",
       "</table>\n",
       "</div>"
      ],
      "text/plain": [
       "       monthly_bill          qty         size      pickups   bin_amount  \\\n",
       "count   1817.000000  1817.000000  1817.000000  1817.000000  1817.000000   \n",
       "mean    1296.227870     2.783709     1.555014     1.296643   274.506687   \n",
       "std     1599.140549    15.869443     1.799651     0.718352   602.846274   \n",
       "min        0.000000     1.000000     0.160000     0.000000     0.000000   \n",
       "25%      195.750000     1.000000     0.480000     1.000000     0.000000   \n",
       "50%      699.200000     1.000000     0.480000     1.000000    32.620000   \n",
       "75%     1772.840000     1.000000     3.500000     1.000000   103.930000   \n",
       "max     8471.200000   236.000000     6.000000     5.000000  4634.190000   \n",
       "\n",
       "       commodity_Compost  commodity_Garbage  commodity_Recycle   tax_body_C  \\\n",
       "count        1817.000000        1817.000000        1817.000000  1817.000000   \n",
       "mean            0.187122           0.326362           0.486516     0.222895   \n",
       "std             0.390117           0.469011           0.499956     0.416303   \n",
       "min             0.000000           0.000000           0.000000     0.000000   \n",
       "25%             0.000000           0.000000           0.000000     0.000000   \n",
       "50%             0.000000           0.000000           0.000000     0.000000   \n",
       "75%             0.000000           1.000000           1.000000     0.000000   \n",
       "max             1.000000           1.000000           1.000000     1.000000   \n",
       "\n",
       "       tax_body_COUNTY   tax_body_S   tax_body_Y  \n",
       "count      1817.000000  1817.000000  1817.000000  \n",
       "mean          0.405614     0.280132     0.091359  \n",
       "std           0.491146     0.449187     0.288199  \n",
       "min           0.000000     0.000000     0.000000  \n",
       "25%           0.000000     0.000000     0.000000  \n",
       "50%           0.000000     0.000000     0.000000  \n",
       "75%           1.000000     1.000000     0.000000  \n",
       "max           1.000000     1.000000     1.000000  "
      ]
     },
     "execution_count": 65,
     "metadata": {},
     "output_type": "execute_result"
    }
   ],
   "source": [
    "X.describe()"
   ]
  },
  {
   "cell_type": "code",
   "execution_count": 66,
   "id": "e1abdac6",
   "metadata": {},
   "outputs": [
    {
     "data": {
      "text/plain": [
       "WINERY        559\n",
       "MULTIFAMIL    187\n",
       "RESTAURANT    164\n",
       "OFFICE BLD     86\n",
       "LODGING        70\n",
       "LODGING-FW     66\n",
       "GROCERY        65\n",
       "VINEYARD       64\n",
       "SCHOOL         43\n",
       "RETAIL         40\n",
       "CHURCH         39\n",
       "MEDICAL        39\n",
       "MEMBER         37\n",
       "UTILITY        30\n",
       "MOBILEHOME     29\n",
       "COMMUNITY      27\n",
       "CONTRACTOR     21\n",
       "HOME IMPRO     20\n",
       "MIXED USE      20\n",
       "AUTO           19\n",
       "BAKERY         19\n",
       "POSTOFFICE     15\n",
       "PARK           15\n",
       "NRSG HOME      15\n",
       "STRIP MALL     14\n",
       "DELI/CAFE      12\n",
       "POLICEFIRE     11\n",
       "CATERING       11\n",
       "FOURPLEX       10\n",
       "HOA            10\n",
       "PRESCHOOL       9\n",
       "GROUP HOME      7\n",
       "INDUSTRIAL      7\n",
       "HOSPITAL        7\n",
       "BAR NO FW       6\n",
       "MINI MART       6\n",
       "ENTERTAINM      6\n",
       "DUPLEX          5\n",
       "LANDSCAPER      4\n",
       "FLORIST         3\n",
       "Name: biz_type, dtype: int64"
      ]
     },
     "execution_count": 66,
     "metadata": {},
     "output_type": "execute_result"
    }
   ],
   "source": [
    "# Check the balance of our target values\n",
    "y.value_counts()"
   ]
  },
  {
   "cell_type": "code",
   "execution_count": 67,
   "id": "545275c4",
   "metadata": {},
   "outputs": [],
   "source": [
    "# Create the target variables\n",
    "from sklearn.model_selection import train_test_split\n",
    "X_train, X_test, y_train, y_test = train_test_split(X, y, random_state=1)"
   ]
  },
  {
   "cell_type": "code",
   "execution_count": 68,
   "id": "d2d1c0c4",
   "metadata": {},
   "outputs": [
    {
     "name": "stdout",
     "output_type": "stream",
     "text": [
      "Counter({'WINERY': 416, 'MULTIFAMIL': 147, 'RESTAURANT': 120, 'OFFICE BLD': 62, 'LODGING': 53, 'GROCERY': 49, 'VINEYARD': 49, 'LODGING-FW': 45, 'SCHOOL': 33, 'MEDICAL': 30, 'MEMBER': 29, 'RETAIL': 29, 'UTILITY': 26, 'CHURCH': 24, 'MOBILEHOME': 23, 'COMMUNITY': 22, 'MIXED USE': 16, 'AUTO': 16, 'CONTRACTOR': 16, 'HOME IMPRO': 16, 'PARK': 12, 'POSTOFFICE': 12, 'DELI/CAFE': 11, 'BAKERY': 11, 'STRIP MALL': 10, 'NRSG HOME': 9, 'CATERING': 8, 'PRESCHOOL': 8, 'HOA': 8, 'POLICEFIRE': 8, 'HOSPITAL': 7, 'FOURPLEX': 6, 'INDUSTRIAL': 6, 'GROUP HOME': 5, 'ENTERTAINM': 5, 'MINI MART': 4, 'BAR NO FW': 4, 'DUPLEX': 3, 'LANDSCAPER': 3, 'FLORIST': 1})\n",
      "Counter({'WINERY': 143, 'RESTAURANT': 44, 'MULTIFAMIL': 40, 'OFFICE BLD': 24, 'LODGING-FW': 21, 'LODGING': 17, 'GROCERY': 16, 'VINEYARD': 15, 'CHURCH': 15, 'RETAIL': 11, 'SCHOOL': 10, 'MEDICAL': 9, 'MEMBER': 8, 'BAKERY': 8, 'NRSG HOME': 6, 'MOBILEHOME': 6, 'COMMUNITY': 5, 'CONTRACTOR': 5, 'FOURPLEX': 4, 'MIXED USE': 4, 'HOME IMPRO': 4, 'STRIP MALL': 4, 'UTILITY': 4, 'CATERING': 3, 'POSTOFFICE': 3, 'PARK': 3, 'AUTO': 3, 'POLICEFIRE': 3, 'FLORIST': 2, 'BAR NO FW': 2, 'HOA': 2, 'DUPLEX': 2, 'GROUP HOME': 2, 'MINI MART': 2, 'DELI/CAFE': 1, 'PRESCHOOL': 1, 'LANDSCAPER': 1, 'ENTERTAINM': 1, 'INDUSTRIAL': 1})\n"
     ]
    }
   ],
   "source": [
    "# Check to make sure the balances match\n",
    "print(Counter(y_train))\n",
    "print (Counter(y_test))"
   ]
  },
  {
   "cell_type": "code",
   "execution_count": 69,
   "id": "457d2f86",
   "metadata": {},
   "outputs": [
    {
     "data": {
      "text/plain": [
       "BalancedRandomForestClassifier(random_state=1)"
      ]
     },
     "execution_count": 69,
     "metadata": {},
     "output_type": "execute_result"
    }
   ],
   "source": [
    "# Resample the training data with the BalancedRandomForestClassifier\n",
    "from imblearn.ensemble import BalancedRandomForestClassifier\n",
    "brfc = BalancedRandomForestClassifier(n_estimators=100, random_state=1)\n",
    "\n",
    "# Fit the model\n",
    "brfc.fit(X_train, y_train)"
   ]
  },
  {
   "cell_type": "code",
   "execution_count": 70,
   "id": "b39e75e0",
   "metadata": {},
   "outputs": [
    {
     "data": {
      "text/plain": [
       "0.19883994210917288"
      ]
     },
     "execution_count": 70,
     "metadata": {},
     "output_type": "execute_result"
    }
   ],
   "source": [
    "# Calculated the balanced accuracy score\n",
    "y_pred = brfc.predict(X_test)\n",
    "balanced_accuracy_score(y_test, y_pred)"
   ]
  },
  {
   "cell_type": "code",
   "execution_count": 71,
   "id": "97054359",
   "metadata": {},
   "outputs": [
    {
     "data": {
      "text/plain": [
       "array([[ 0,  0,  0, ...,  0,  0,  0],\n",
       "       [ 0,  4,  1, ...,  0,  0,  0],\n",
       "       [ 0,  0,  1, ...,  0,  0,  0],\n",
       "       ...,\n",
       "       [ 0,  0,  0, ...,  0,  0,  0],\n",
       "       [ 0,  0,  0, ...,  0,  2,  0],\n",
       "       [ 2,  0,  0, ...,  0, 16,  4]], dtype=int64)"
      ]
     },
     "execution_count": 71,
     "metadata": {},
     "output_type": "execute_result"
    }
   ],
   "source": [
    "# Display the confusion matrix\n",
    "from sklearn.metrics import confusion_matrix\n",
    "\n",
    "confusion_matrix(y_test, y_pred)"
   ]
  },
  {
   "cell_type": "code",
   "execution_count": 72,
   "id": "092f6643",
   "metadata": {},
   "outputs": [
    {
     "ename": "ValueError",
     "evalue": "Shape of passed values is (40, 40), indices imply (2, 2)",
     "output_type": "error",
     "traceback": [
      "\u001b[1;31m---------------------------------------------------------------------------\u001b[0m",
      "\u001b[1;31mValueError\u001b[0m                                Traceback (most recent call last)",
      "\u001b[1;32m~\\anaconda3\\envs\\mlenv\\lib\\site-packages\\pandas\\core\\internals\\managers.py\u001b[0m in \u001b[0;36mcreate_block_manager_from_blocks\u001b[1;34m(blocks, axes)\u001b[0m\n\u001b[0;32m   1675\u001b[0m                     make_block(\n\u001b[1;32m-> 1676\u001b[1;33m                         \u001b[0mvalues\u001b[0m\u001b[1;33m=\u001b[0m\u001b[0mblocks\u001b[0m\u001b[1;33m[\u001b[0m\u001b[1;36m0\u001b[0m\u001b[1;33m]\u001b[0m\u001b[1;33m,\u001b[0m \u001b[0mplacement\u001b[0m\u001b[1;33m=\u001b[0m\u001b[0mslice\u001b[0m\u001b[1;33m(\u001b[0m\u001b[1;36m0\u001b[0m\u001b[1;33m,\u001b[0m \u001b[0mlen\u001b[0m\u001b[1;33m(\u001b[0m\u001b[0maxes\u001b[0m\u001b[1;33m[\u001b[0m\u001b[1;36m0\u001b[0m\u001b[1;33m]\u001b[0m\u001b[1;33m)\u001b[0m\u001b[1;33m)\u001b[0m\u001b[1;33m,\u001b[0m \u001b[0mndim\u001b[0m\u001b[1;33m=\u001b[0m\u001b[1;36m2\u001b[0m\u001b[1;33m\u001b[0m\u001b[1;33m\u001b[0m\u001b[0m\n\u001b[0m\u001b[0;32m   1677\u001b[0m                     )\n",
      "\u001b[1;32m~\\anaconda3\\envs\\mlenv\\lib\\site-packages\\pandas\\core\\internals\\blocks.py\u001b[0m in \u001b[0;36mmake_block\u001b[1;34m(values, placement, klass, ndim, dtype)\u001b[0m\n\u001b[0;32m   2741\u001b[0m \u001b[1;33m\u001b[0m\u001b[0m\n\u001b[1;32m-> 2742\u001b[1;33m     \u001b[1;32mreturn\u001b[0m \u001b[0mklass\u001b[0m\u001b[1;33m(\u001b[0m\u001b[0mvalues\u001b[0m\u001b[1;33m,\u001b[0m \u001b[0mndim\u001b[0m\u001b[1;33m=\u001b[0m\u001b[0mndim\u001b[0m\u001b[1;33m,\u001b[0m \u001b[0mplacement\u001b[0m\u001b[1;33m=\u001b[0m\u001b[0mplacement\u001b[0m\u001b[1;33m)\u001b[0m\u001b[1;33m\u001b[0m\u001b[1;33m\u001b[0m\u001b[0m\n\u001b[0m\u001b[0;32m   2743\u001b[0m \u001b[1;33m\u001b[0m\u001b[0m\n",
      "\u001b[1;32m~\\anaconda3\\envs\\mlenv\\lib\\site-packages\\pandas\\core\\internals\\blocks.py\u001b[0m in \u001b[0;36m__init__\u001b[1;34m(self, values, placement, ndim)\u001b[0m\n\u001b[0;32m    142\u001b[0m             raise ValueError(\n\u001b[1;32m--> 143\u001b[1;33m                 \u001b[1;34mf\"Wrong number of items passed {len(self.values)}, \"\u001b[0m\u001b[1;33m\u001b[0m\u001b[1;33m\u001b[0m\u001b[0m\n\u001b[0m\u001b[0;32m    144\u001b[0m                 \u001b[1;34mf\"placement implies {len(self.mgr_locs)}\"\u001b[0m\u001b[1;33m\u001b[0m\u001b[1;33m\u001b[0m\u001b[0m\n",
      "\u001b[1;31mValueError\u001b[0m: Wrong number of items passed 40, placement implies 2",
      "\nDuring handling of the above exception, another exception occurred:\n",
      "\u001b[1;31mValueError\u001b[0m                                Traceback (most recent call last)",
      "\u001b[1;32m<ipython-input-72-41862d866caa>\u001b[0m in \u001b[0;36m<module>\u001b[1;34m\u001b[0m\n\u001b[0;32m      1\u001b[0m \u001b[1;31m# Display as DataFrame\u001b[0m\u001b[1;33m\u001b[0m\u001b[1;33m\u001b[0m\u001b[1;33m\u001b[0m\u001b[0m\n\u001b[1;32m----> 2\u001b[1;33m \u001b[0mcm_df\u001b[0m \u001b[1;33m=\u001b[0m \u001b[0mpd\u001b[0m\u001b[1;33m.\u001b[0m\u001b[0mDataFrame\u001b[0m\u001b[1;33m(\u001b[0m\u001b[0mconfusion_matrix\u001b[0m\u001b[1;33m(\u001b[0m\u001b[0my_test\u001b[0m\u001b[1;33m,\u001b[0m\u001b[0my_pred\u001b[0m\u001b[1;33m)\u001b[0m\u001b[1;33m,\u001b[0m \u001b[0mindex\u001b[0m\u001b[1;33m=\u001b[0m\u001b[1;33m[\u001b[0m\u001b[1;34m\"Actual_high_risk\"\u001b[0m\u001b[1;33m,\u001b[0m \u001b[1;34m\"Acutal_low_risk\"\u001b[0m\u001b[1;33m]\u001b[0m\u001b[1;33m,\u001b[0m \u001b[0mcolumns\u001b[0m\u001b[1;33m=\u001b[0m\u001b[1;33m[\u001b[0m\u001b[1;34m\"Predicted_high_risk\"\u001b[0m\u001b[1;33m,\u001b[0m \u001b[1;34m\"Predicted_low_risk\"\u001b[0m\u001b[1;33m]\u001b[0m\u001b[1;33m)\u001b[0m\u001b[1;33m\u001b[0m\u001b[1;33m\u001b[0m\u001b[0m\n\u001b[0m\u001b[0;32m      3\u001b[0m \u001b[0mcm_df\u001b[0m\u001b[1;33m\u001b[0m\u001b[1;33m\u001b[0m\u001b[0m\n",
      "\u001b[1;32m~\\anaconda3\\envs\\mlenv\\lib\\site-packages\\pandas\\core\\frame.py\u001b[0m in \u001b[0;36m__init__\u001b[1;34m(self, data, index, columns, dtype, copy)\u001b[0m\n\u001b[0;32m    556\u001b[0m                 \u001b[0mmgr\u001b[0m \u001b[1;33m=\u001b[0m \u001b[0minit_dict\u001b[0m\u001b[1;33m(\u001b[0m\u001b[1;33m{\u001b[0m\u001b[0mdata\u001b[0m\u001b[1;33m.\u001b[0m\u001b[0mname\u001b[0m\u001b[1;33m:\u001b[0m \u001b[0mdata\u001b[0m\u001b[1;33m}\u001b[0m\u001b[1;33m,\u001b[0m \u001b[0mindex\u001b[0m\u001b[1;33m,\u001b[0m \u001b[0mcolumns\u001b[0m\u001b[1;33m,\u001b[0m \u001b[0mdtype\u001b[0m\u001b[1;33m=\u001b[0m\u001b[0mdtype\u001b[0m\u001b[1;33m)\u001b[0m\u001b[1;33m\u001b[0m\u001b[1;33m\u001b[0m\u001b[0m\n\u001b[0;32m    557\u001b[0m             \u001b[1;32melse\u001b[0m\u001b[1;33m:\u001b[0m\u001b[1;33m\u001b[0m\u001b[1;33m\u001b[0m\u001b[0m\n\u001b[1;32m--> 558\u001b[1;33m                 \u001b[0mmgr\u001b[0m \u001b[1;33m=\u001b[0m \u001b[0minit_ndarray\u001b[0m\u001b[1;33m(\u001b[0m\u001b[0mdata\u001b[0m\u001b[1;33m,\u001b[0m \u001b[0mindex\u001b[0m\u001b[1;33m,\u001b[0m \u001b[0mcolumns\u001b[0m\u001b[1;33m,\u001b[0m \u001b[0mdtype\u001b[0m\u001b[1;33m=\u001b[0m\u001b[0mdtype\u001b[0m\u001b[1;33m,\u001b[0m \u001b[0mcopy\u001b[0m\u001b[1;33m=\u001b[0m\u001b[0mcopy\u001b[0m\u001b[1;33m)\u001b[0m\u001b[1;33m\u001b[0m\u001b[1;33m\u001b[0m\u001b[0m\n\u001b[0m\u001b[0;32m    559\u001b[0m \u001b[1;33m\u001b[0m\u001b[0m\n\u001b[0;32m    560\u001b[0m         \u001b[1;31m# For data is list-like, or Iterable (will consume into list)\u001b[0m\u001b[1;33m\u001b[0m\u001b[1;33m\u001b[0m\u001b[1;33m\u001b[0m\u001b[0m\n",
      "\u001b[1;32m~\\anaconda3\\envs\\mlenv\\lib\\site-packages\\pandas\\core\\internals\\construction.py\u001b[0m in \u001b[0;36minit_ndarray\u001b[1;34m(values, index, columns, dtype, copy)\u001b[0m\n\u001b[0;32m    236\u001b[0m         \u001b[0mblock_values\u001b[0m \u001b[1;33m=\u001b[0m \u001b[1;33m[\u001b[0m\u001b[0mvalues\u001b[0m\u001b[1;33m]\u001b[0m\u001b[1;33m\u001b[0m\u001b[1;33m\u001b[0m\u001b[0m\n\u001b[0;32m    237\u001b[0m \u001b[1;33m\u001b[0m\u001b[0m\n\u001b[1;32m--> 238\u001b[1;33m     \u001b[1;32mreturn\u001b[0m \u001b[0mcreate_block_manager_from_blocks\u001b[0m\u001b[1;33m(\u001b[0m\u001b[0mblock_values\u001b[0m\u001b[1;33m,\u001b[0m \u001b[1;33m[\u001b[0m\u001b[0mcolumns\u001b[0m\u001b[1;33m,\u001b[0m \u001b[0mindex\u001b[0m\u001b[1;33m]\u001b[0m\u001b[1;33m)\u001b[0m\u001b[1;33m\u001b[0m\u001b[1;33m\u001b[0m\u001b[0m\n\u001b[0m\u001b[0;32m    239\u001b[0m \u001b[1;33m\u001b[0m\u001b[0m\n\u001b[0;32m    240\u001b[0m \u001b[1;33m\u001b[0m\u001b[0m\n",
      "\u001b[1;32m~\\anaconda3\\envs\\mlenv\\lib\\site-packages\\pandas\\core\\internals\\managers.py\u001b[0m in \u001b[0;36mcreate_block_manager_from_blocks\u001b[1;34m(blocks, axes)\u001b[0m\n\u001b[0;32m   1685\u001b[0m         \u001b[0mblocks\u001b[0m \u001b[1;33m=\u001b[0m \u001b[1;33m[\u001b[0m\u001b[0mgetattr\u001b[0m\u001b[1;33m(\u001b[0m\u001b[0mb\u001b[0m\u001b[1;33m,\u001b[0m \u001b[1;34m\"values\"\u001b[0m\u001b[1;33m,\u001b[0m \u001b[0mb\u001b[0m\u001b[1;33m)\u001b[0m \u001b[1;32mfor\u001b[0m \u001b[0mb\u001b[0m \u001b[1;32min\u001b[0m \u001b[0mblocks\u001b[0m\u001b[1;33m]\u001b[0m\u001b[1;33m\u001b[0m\u001b[1;33m\u001b[0m\u001b[0m\n\u001b[0;32m   1686\u001b[0m         \u001b[0mtot_items\u001b[0m \u001b[1;33m=\u001b[0m \u001b[0msum\u001b[0m\u001b[1;33m(\u001b[0m\u001b[0mb\u001b[0m\u001b[1;33m.\u001b[0m\u001b[0mshape\u001b[0m\u001b[1;33m[\u001b[0m\u001b[1;36m0\u001b[0m\u001b[1;33m]\u001b[0m \u001b[1;32mfor\u001b[0m \u001b[0mb\u001b[0m \u001b[1;32min\u001b[0m \u001b[0mblocks\u001b[0m\u001b[1;33m)\u001b[0m\u001b[1;33m\u001b[0m\u001b[1;33m\u001b[0m\u001b[0m\n\u001b[1;32m-> 1687\u001b[1;33m         \u001b[1;32mraise\u001b[0m \u001b[0mconstruction_error\u001b[0m\u001b[1;33m(\u001b[0m\u001b[0mtot_items\u001b[0m\u001b[1;33m,\u001b[0m \u001b[0mblocks\u001b[0m\u001b[1;33m[\u001b[0m\u001b[1;36m0\u001b[0m\u001b[1;33m]\u001b[0m\u001b[1;33m.\u001b[0m\u001b[0mshape\u001b[0m\u001b[1;33m[\u001b[0m\u001b[1;36m1\u001b[0m\u001b[1;33m:\u001b[0m\u001b[1;33m]\u001b[0m\u001b[1;33m,\u001b[0m \u001b[0maxes\u001b[0m\u001b[1;33m,\u001b[0m \u001b[0me\u001b[0m\u001b[1;33m)\u001b[0m\u001b[1;33m\u001b[0m\u001b[1;33m\u001b[0m\u001b[0m\n\u001b[0m\u001b[0;32m   1688\u001b[0m \u001b[1;33m\u001b[0m\u001b[0m\n\u001b[0;32m   1689\u001b[0m \u001b[1;33m\u001b[0m\u001b[0m\n",
      "\u001b[1;31mValueError\u001b[0m: Shape of passed values is (40, 40), indices imply (2, 2)"
     ]
    }
   ],
   "source": [
    "# Display as DataFrame\n",
    "cm_df = pd.DataFrame(confusion_matrix(y_test,y_pred), index=[\"Actual_high_risk\", \"Acutal_low_risk\"], columns=[\"Predicted_high_risk\", \"Predicted_low_risk\"])\n",
    "cm_df"
   ]
  },
  {
   "cell_type": "code",
   "execution_count": 73,
   "id": "cc332762",
   "metadata": {},
   "outputs": [
    {
     "name": "stdout",
     "output_type": "stream",
     "text": [
      "                   pre       rec       spe        f1       geo       iba       sup\n",
      "\n",
      "       AUTO       0.00      0.00      0.95      0.00      0.00      0.00         3\n",
      "     BAKERY       0.33      0.50      0.98      0.40      0.70      0.47         8\n",
      "  BAR NO FW       0.05      0.50      0.96      0.10      0.69      0.46         2\n",
      "   CATERING       0.12      0.33      0.98      0.18      0.57      0.31         3\n",
      "     CHURCH       0.25      0.07      0.99      0.11      0.26      0.06        15\n",
      "  COMMUNITY       0.00      0.00      0.96      0.00      0.00      0.00         5\n",
      " CONTRACTOR       0.00      0.00      0.97      0.00      0.00      0.00         5\n",
      "  DELI/CAFE       0.14      1.00      0.99      0.25      0.99      0.99         1\n",
      "     DUPLEX       0.29      1.00      0.99      0.44      0.99      0.99         2\n",
      " ENTERTAINM       0.00      0.00      0.95      0.00      0.00      0.00         1\n",
      "    FLORIST       0.00      0.00      0.95      0.00      0.00      0.00         2\n",
      "   FOURPLEX       0.00      0.00      0.99      0.00      0.00      0.00         4\n",
      "    GROCERY       0.17      0.06      0.99      0.09      0.25      0.06        16\n",
      " GROUP HOME       0.05      1.00      0.92      0.10      0.96      0.92         2\n",
      "        HOA       0.00      0.00      0.98      0.00      0.00      0.00         2\n",
      " HOME IMPRO       0.20      0.25      0.99      0.22      0.50      0.23         4\n",
      "   HOSPITAL       0.00      0.00      1.00      0.00      0.00      0.00         0\n",
      " INDUSTRIAL       0.00      0.00      0.90      0.00      0.00      0.00         1\n",
      " LANDSCAPER       0.00      0.00      0.92      0.00      0.00      0.00         1\n",
      "    LODGING       0.00      0.00      1.00      0.00      0.00      0.00        17\n",
      " LODGING-FW       0.17      0.05      0.99      0.07      0.22      0.04        21\n",
      "    MEDICAL       0.00      0.00      0.99      0.00      0.00      0.00         9\n",
      "     MEMBER       0.58      0.88      0.99      0.70      0.93      0.86         8\n",
      "  MINI MART       0.12      0.50      0.98      0.20      0.70      0.47         2\n",
      "  MIXED USE       0.00      0.00      0.96      0.00      0.00      0.00         4\n",
      " MOBILEHOME       0.33      0.50      0.99      0.40      0.70      0.47         6\n",
      " MULTIFAMIL       0.00      0.00      1.00      0.00      0.00      0.00        40\n",
      "  NRSG HOME       0.17      0.67      0.96      0.28      0.80      0.62         6\n",
      " OFFICE BLD       0.33      0.04      1.00      0.07      0.20      0.04        24\n",
      "       PARK       0.00      0.00      0.99      0.00      0.00      0.00         3\n",
      " POLICEFIRE       0.00      0.00      0.99      0.00      0.00      0.00         3\n",
      " POSTOFFICE       0.00      0.00      0.98      0.00      0.00      0.00         3\n",
      "  PRESCHOOL       0.00      0.00      0.98      0.00      0.00      0.00         1\n",
      " RESTAURANT       1.00      0.07      1.00      0.13      0.26      0.06        44\n",
      "     RETAIL       0.17      0.18      0.98      0.17      0.42      0.16        11\n",
      "     SCHOOL       0.00      0.00      0.99      0.00      0.00      0.00        10\n",
      " STRIP MALL       0.00      0.00      1.00      0.00      0.00      0.00         4\n",
      "    UTILITY       0.00      0.00      1.00      0.00      0.00      0.00         4\n",
      "   VINEYARD       0.10      0.13      0.96      0.11      0.36      0.12        15\n",
      "     WINERY       1.00      0.03      1.00      0.05      0.17      0.03       143\n",
      "\n",
      "avg / total       0.49      0.09      0.99      0.09      0.21      0.09       455\n",
      "\n"
     ]
    }
   ],
   "source": [
    "# Print the imbalanced classification report\n",
    "from imblearn.metrics import classification_report_imbalanced\n",
    "print(classification_report_imbalanced(y_test, y_pred))"
   ]
  },
  {
   "cell_type": "code",
   "execution_count": 74,
   "id": "f25ca6d2",
   "metadata": {},
   "outputs": [
    {
     "name": "stdout",
     "output_type": "stream",
     "text": [
      "monthly_bill: (0.32635456990529493)\n",
      "bin_amount: (0.1297499172407895)\n",
      "size: (0.09288964383493918)\n",
      "qty: (0.08421254218171614)\n",
      "tax_body_S: (0.06059900431716218)\n",
      "tax_body_COUNTY: (0.04887697709402879)\n",
      "tax_body_C: (0.04816035553534498)\n",
      "commodity_Recycle: (0.04803975336885489)\n",
      "pickups: (0.04607247595004977)\n",
      "commodity_Garbage: (0.04275914787494485)\n",
      "commodity_Compost: (0.03993308200376157)\n",
      "tax_body_Y: (0.03235253069311321)\n"
     ]
    }
   ],
   "source": [
    "# List the features sorted in descending order by feature importance\n",
    "features = sorted(zip(brfc.feature_importances_, X.columns), reverse=True)\n",
    "for feature in features:\n",
    "    print(f\"{feature[1]}: ({feature[0]})\")"
   ]
  },
  {
   "cell_type": "markdown",
   "id": "cd431099",
   "metadata": {},
   "source": [
    "#### Easy Ensemble AdaBoost Classifier"
   ]
  },
  {
   "cell_type": "code",
   "execution_count": 75,
   "id": "199ed8fa",
   "metadata": {},
   "outputs": [
    {
     "data": {
      "text/plain": [
       "EasyEnsembleClassifier(n_estimators=100, random_state=1)"
      ]
     },
     "execution_count": 75,
     "metadata": {},
     "output_type": "execute_result"
    }
   ],
   "source": [
    "# Train the EasyEnsembleClassifier\n",
    "from imblearn.ensemble import EasyEnsembleClassifier\n",
    "eec = EasyEnsembleClassifier(n_estimators=100, random_state=1)\n",
    "\n",
    "# Fit the model\n",
    "eec.fit(X_train, y_train)"
   ]
  },
  {
   "cell_type": "code",
   "execution_count": 76,
   "id": "f181c41a",
   "metadata": {},
   "outputs": [
    {
     "data": {
      "text/plain": [
       "0.10186202686202686"
      ]
     },
     "execution_count": 76,
     "metadata": {},
     "output_type": "execute_result"
    }
   ],
   "source": [
    "# Calculated the balanced accuracy score\n",
    "y_pred = eec.predict(X_test)\n",
    "balanced_accuracy_score(y_test, y_pred)"
   ]
  },
  {
   "cell_type": "code",
   "execution_count": 77,
   "id": "d2b16985",
   "metadata": {},
   "outputs": [
    {
     "name": "stdout",
     "output_type": "stream",
     "text": [
      "                   pre       rec       spe        f1       geo       iba       sup\n",
      "\n",
      "       AUTO       0.00      0.00      0.89      0.00      0.00      0.00         3\n",
      "     BAKERY       0.00      0.00      1.00      0.00      0.00      0.00         8\n",
      "  BAR NO FW       0.02      0.50      0.87      0.03      0.66      0.42         2\n",
      "   CATERING       0.10      0.33      0.98      0.15      0.57      0.31         3\n",
      "     CHURCH       0.50      0.20      0.99      0.29      0.45      0.18        15\n",
      "  COMMUNITY       0.12      0.20      0.98      0.15      0.44      0.18         5\n",
      " CONTRACTOR       0.00      0.00      1.00      0.00      0.00      0.00         5\n",
      "  DELI/CAFE       0.00      0.00      1.00      0.00      0.00      0.00         1\n",
      "     DUPLEX       0.25      1.00      0.99      0.40      0.99      0.99         2\n",
      " ENTERTAINM       0.00      0.00      0.98      0.00      0.00      0.00         1\n",
      "    FLORIST       0.00      0.00      0.89      0.00      0.00      0.00         2\n",
      "   FOURPLEX       0.00      0.00      1.00      0.00      0.00      0.00         4\n",
      "    GROCERY       0.67      0.12      1.00      0.21      0.35      0.11        16\n",
      " GROUP HOME       0.02      0.50      0.86      0.03      0.65      0.41         2\n",
      "        HOA       0.00      0.00      0.99      0.00      0.00      0.00         2\n",
      " HOME IMPRO       0.00      0.00      0.98      0.00      0.00      0.00         4\n",
      " INDUSTRIAL       0.00      0.00      0.91      0.00      0.00      0.00         1\n",
      " LANDSCAPER       0.00      0.00      0.88      0.00      0.00      0.00         1\n",
      "    LODGING       0.00      0.00      1.00      0.00      0.00      0.00        17\n",
      " LODGING-FW       0.50      0.05      1.00      0.09      0.22      0.04        21\n",
      "    MEDICAL       0.00      0.00      1.00      0.00      0.00      0.00         9\n",
      "     MEMBER       0.00      0.00      1.00      0.00      0.00      0.00         8\n",
      "  MINI MART       0.09      0.50      0.98      0.15      0.70      0.47         2\n",
      "  MIXED USE       0.00      0.00      0.98      0.00      0.00      0.00         4\n",
      " MOBILEHOME       0.20      0.17      0.99      0.18      0.41      0.15         6\n",
      " MULTIFAMIL       0.67      0.05      1.00      0.09      0.22      0.05        40\n",
      "  NRSG HOME       0.07      0.17      0.97      0.10      0.40      0.15         6\n",
      " OFFICE BLD       0.29      0.08      0.99      0.13      0.29      0.07        24\n",
      "       PARK       0.00      0.00      1.00      0.00      0.00      0.00         3\n",
      " POLICEFIRE       0.00      0.00      1.00      0.00      0.00      0.00         3\n",
      " POSTOFFICE       0.00      0.00      0.99      0.00      0.00      0.00         3\n",
      "  PRESCHOOL       0.00      0.00      0.98      0.00      0.00      0.00         1\n",
      " RESTAURANT       0.00      0.00      1.00      0.00      0.00      0.00        44\n",
      "     RETAIL       0.00      0.00      1.00      0.00      0.00      0.00        11\n",
      "     SCHOOL       0.50      0.10      1.00      0.17      0.32      0.09        10\n",
      " STRIP MALL       0.00      0.00      1.00      0.00      0.00      0.00         4\n",
      "    UTILITY       0.00      0.00      1.00      0.00      0.00      0.00         4\n",
      "   VINEYARD       0.00      0.00      1.00      0.00      0.00      0.00        15\n",
      "     WINERY       0.00      0.00      1.00      0.00      0.00      0.00       143\n",
      "\n",
      "avg / total       0.15      0.04      0.99      0.05      0.11      0.04       455\n",
      "\n"
     ]
    }
   ],
   "source": [
    "# Print the imbalanced classification report\n",
    "print(classification_report_imbalanced(y_test, y_pred))"
   ]
  },
  {
   "cell_type": "markdown",
   "id": "e8013d23",
   "metadata": {},
   "source": [
    "#### Naive Oversampling"
   ]
  },
  {
   "cell_type": "code",
   "execution_count": 78,
   "id": "dae43981",
   "metadata": {},
   "outputs": [
    {
     "data": {
      "text/plain": [
       "Counter({'MULTIFAMIL': 416,\n",
       "         'UTILITY': 416,\n",
       "         'WINERY': 416,\n",
       "         'DUPLEX': 416,\n",
       "         'MEMBER': 416,\n",
       "         'OFFICE BLD': 416,\n",
       "         'RETAIL': 416,\n",
       "         'CATERING': 416,\n",
       "         'LODGING': 416,\n",
       "         'MIXED USE': 416,\n",
       "         'GROCERY': 416,\n",
       "         'SCHOOL': 416,\n",
       "         'PRESCHOOL': 416,\n",
       "         'RESTAURANT': 416,\n",
       "         'VINEYARD': 416,\n",
       "         'CHURCH': 416,\n",
       "         'MOBILEHOME': 416,\n",
       "         'MEDICAL': 416,\n",
       "         'FOURPLEX': 416,\n",
       "         'AUTO': 416,\n",
       "         'GROUP HOME': 416,\n",
       "         'MINI MART': 416,\n",
       "         'PARK': 416,\n",
       "         'COMMUNITY': 416,\n",
       "         'HOA': 416,\n",
       "         'LODGING-FW': 416,\n",
       "         'ENTERTAINM': 416,\n",
       "         'INDUSTRIAL': 416,\n",
       "         'CONTRACTOR': 416,\n",
       "         'POSTOFFICE': 416,\n",
       "         'DELI/CAFE': 416,\n",
       "         'BAR NO FW': 416,\n",
       "         'BAKERY': 416,\n",
       "         'POLICEFIRE': 416,\n",
       "         'HOME IMPRO': 416,\n",
       "         'STRIP MALL': 416,\n",
       "         'HOSPITAL': 416,\n",
       "         'NRSG HOME': 416,\n",
       "         'LANDSCAPER': 416,\n",
       "         'FLORIST': 416})"
      ]
     },
     "execution_count": 78,
     "metadata": {},
     "output_type": "execute_result"
    }
   ],
   "source": [
    "# Resample the training data with the RandomOversampler\n",
    "from imblearn.over_sampling import RandomOverSampler\n",
    "ros = RandomOverSampler(random_state=1)\n",
    "# Resample targets\n",
    "X_resampled, y_resampled = ros.fit_resample(X_train, y_train)\n",
    "Counter(y_resampled)"
   ]
  },
  {
   "cell_type": "code",
   "execution_count": 79,
   "id": "73ad64b6",
   "metadata": {},
   "outputs": [
    {
     "data": {
      "text/plain": [
       "LogisticRegression(random_state=1)"
      ]
     },
     "execution_count": 79,
     "metadata": {},
     "output_type": "execute_result"
    }
   ],
   "source": [
    "# Train the Logistic Regression model using the resampled data\n",
    "from sklearn.linear_model import LogisticRegression\n",
    "logreg = LogisticRegression(solver='lbfgs', random_state=1)\n",
    "\n",
    "# fit the model\n",
    "logreg.fit(X_resampled, y_resampled)"
   ]
  },
  {
   "cell_type": "code",
   "execution_count": 80,
   "id": "897a43f5",
   "metadata": {},
   "outputs": [
    {
     "data": {
      "text/plain": [
       "0.021367521367521364"
      ]
     },
     "execution_count": 80,
     "metadata": {},
     "output_type": "execute_result"
    }
   ],
   "source": [
    "# Calculated the balanced accuracy score\n",
    "from sklearn.metrics import balanced_accuracy_score\n",
    "y_pred = logreg.predict(X_test)\n",
    "balanced_accuracy_score(y_test, y_pred)"
   ]
  },
  {
   "cell_type": "code",
   "execution_count": 81,
   "id": "928dae5e",
   "metadata": {},
   "outputs": [
    {
     "data": {
      "text/plain": [
       "array([[0, 0, 0, ..., 0, 0, 0],\n",
       "       [0, 0, 0, ..., 0, 0, 0],\n",
       "       [0, 0, 0, ..., 0, 0, 0],\n",
       "       ...,\n",
       "       [0, 0, 0, ..., 0, 0, 0],\n",
       "       [0, 0, 0, ..., 0, 0, 0],\n",
       "       [0, 0, 0, ..., 0, 0, 0]], dtype=int64)"
      ]
     },
     "execution_count": 81,
     "metadata": {},
     "output_type": "execute_result"
    }
   ],
   "source": [
    "# Display the confusion matrix\n",
    "from sklearn.metrics import confusion_matrix\n",
    "confusion_matrix(y_test, y_pred)"
   ]
  },
  {
   "cell_type": "code",
   "execution_count": 82,
   "id": "08fa9518",
   "metadata": {},
   "outputs": [
    {
     "name": "stdout",
     "output_type": "stream",
     "text": [
      "                   pre       rec       spe        f1       geo       iba       sup\n",
      "\n",
      "       AUTO       0.00      0.00      1.00      0.00      0.00      0.00         3\n",
      "     BAKERY       0.00      0.00      1.00      0.00      0.00      0.00         8\n",
      "  BAR NO FW       0.00      0.00      1.00      0.00      0.00      0.00         2\n",
      "   CATERING       0.00      0.00      1.00      0.00      0.00      0.00         3\n",
      "     CHURCH       0.00      0.00      1.00      0.00      0.00      0.00        15\n",
      "  COMMUNITY       0.00      0.00      1.00      0.00      0.00      0.00         5\n",
      " CONTRACTOR       0.00      0.00      1.00      0.00      0.00      0.00         5\n",
      "  DELI/CAFE       0.00      0.00      1.00      0.00      0.00      0.00         1\n",
      "     DUPLEX       0.00      0.00      1.00      0.00      0.00      0.00         2\n",
      " ENTERTAINM       0.00      0.00      1.00      0.00      0.00      0.00         1\n",
      "    FLORIST       0.00      0.00      0.88      0.00      0.00      0.00         2\n",
      "   FOURPLEX       0.00      0.00      1.00      0.00      0.00      0.00         4\n",
      "    GROCERY       0.00      0.00      0.74      0.00      0.00      0.00        16\n",
      " GROUP HOME       0.00      0.00      1.00      0.00      0.00      0.00         2\n",
      "        HOA       0.00      0.00      1.00      0.00      0.00      0.00         2\n",
      " HOME IMPRO       0.00      0.00      1.00      0.00      0.00      0.00         4\n",
      "   HOSPITAL       0.00      0.00      1.00      0.00      0.00      0.00         0\n",
      " INDUSTRIAL       0.00      0.00      1.00      0.00      0.00      0.00         1\n",
      " LANDSCAPER       0.00      0.00      1.00      0.00      0.00      0.00         1\n",
      "    LODGING       0.00      0.00      1.00      0.00      0.00      0.00        17\n",
      " LODGING-FW       0.00      0.00      1.00      0.00      0.00      0.00        21\n",
      "    MEDICAL       0.00      0.00      1.00      0.00      0.00      0.00         9\n",
      "     MEMBER       0.00      0.00      0.94      0.00      0.00      0.00         8\n",
      "  MINI MART       0.00      0.00      1.00      0.00      0.00      0.00         2\n",
      "  MIXED USE       0.00      0.00      1.00      0.00      0.00      0.00         4\n",
      " MOBILEHOME       0.01      0.50      0.51      0.03      0.51      0.26         6\n",
      " MULTIFAMIL       0.00      0.00      1.00      0.00      0.00      0.00        40\n",
      "  NRSG HOME       0.00      0.00      1.00      0.00      0.00      0.00         6\n",
      " OFFICE BLD       0.00      0.00      1.00      0.00      0.00      0.00        24\n",
      "       PARK       0.03      0.33      0.93      0.06      0.56      0.29         3\n",
      " POLICEFIRE       0.00      0.00      1.00      0.00      0.00      0.00         3\n",
      " POSTOFFICE       0.00      0.00      1.00      0.00      0.00      0.00         3\n",
      "  PRESCHOOL       0.00      0.00      1.00      0.00      0.00      0.00         1\n",
      " RESTAURANT       0.00      0.00      1.00      0.00      0.00      0.00        44\n",
      "     RETAIL       0.00      0.00      1.00      0.00      0.00      0.00        11\n",
      "     SCHOOL       0.00      0.00      1.00      0.00      0.00      0.00        10\n",
      " STRIP MALL       0.00      0.00      1.00      0.00      0.00      0.00         4\n",
      "    UTILITY       0.00      0.00      1.00      0.00      0.00      0.00         4\n",
      "   VINEYARD       0.00      0.00      1.00      0.00      0.00      0.00        15\n",
      "     WINERY       0.00      0.00      1.00      0.00      0.00      0.00       143\n",
      "\n",
      "avg / total       0.00      0.01      0.98      0.00      0.01      0.01       455\n",
      "\n"
     ]
    }
   ],
   "source": [
    "# Print the imbalanced classification report\n",
    "from imblearn.metrics import classification_report_imbalanced\n",
    "print(classification_report_imbalanced(y_test, y_pred))"
   ]
  },
  {
   "cell_type": "markdown",
   "id": "d6441e18",
   "metadata": {},
   "source": [
    "#### SMOTE Oversampling"
   ]
  },
  {
   "cell_type": "code",
   "execution_count": 84,
   "id": "1f220419",
   "metadata": {},
   "outputs": [
    {
     "ename": "ValueError",
     "evalue": "Expected n_neighbors <= n_samples,  but n_samples = 4, n_neighbors = 6",
     "output_type": "error",
     "traceback": [
      "\u001b[1;31m---------------------------------------------------------------------------\u001b[0m",
      "\u001b[1;31mValueError\u001b[0m                                Traceback (most recent call last)",
      "\u001b[1;32m<ipython-input-84-70a8291ab398>\u001b[0m in \u001b[0;36m<module>\u001b[1;34m\u001b[0m\n\u001b[0;32m      2\u001b[0m \u001b[0msmote\u001b[0m \u001b[1;33m=\u001b[0m \u001b[0mSMOTE\u001b[0m\u001b[1;33m(\u001b[0m\u001b[0mrandom_state\u001b[0m\u001b[1;33m=\u001b[0m\u001b[1;36m1\u001b[0m\u001b[1;33m,\u001b[0m \u001b[0msampling_strategy\u001b[0m\u001b[1;33m=\u001b[0m\u001b[1;34m'auto'\u001b[0m\u001b[1;33m)\u001b[0m\u001b[1;33m\u001b[0m\u001b[1;33m\u001b[0m\u001b[0m\n\u001b[0;32m      3\u001b[0m \u001b[1;31m# Resample the targets\u001b[0m\u001b[1;33m\u001b[0m\u001b[1;33m\u001b[0m\u001b[1;33m\u001b[0m\u001b[0m\n\u001b[1;32m----> 4\u001b[1;33m \u001b[0mX_resampled\u001b[0m\u001b[1;33m,\u001b[0m \u001b[0my_resampled\u001b[0m \u001b[1;33m=\u001b[0m \u001b[0msmote\u001b[0m\u001b[1;33m.\u001b[0m\u001b[0mfit_resample\u001b[0m\u001b[1;33m(\u001b[0m\u001b[0mX_train\u001b[0m\u001b[1;33m,\u001b[0m \u001b[0my_train\u001b[0m\u001b[1;33m)\u001b[0m\u001b[1;33m\u001b[0m\u001b[1;33m\u001b[0m\u001b[0m\n\u001b[0m\u001b[0;32m      5\u001b[0m \u001b[0mCounter\u001b[0m\u001b[1;33m(\u001b[0m\u001b[0my_resampled\u001b[0m\u001b[1;33m)\u001b[0m\u001b[1;33m\u001b[0m\u001b[1;33m\u001b[0m\u001b[0m\n",
      "\u001b[1;32m~\\anaconda3\\envs\\mlenv\\lib\\site-packages\\imblearn\\base.py\u001b[0m in \u001b[0;36mfit_resample\u001b[1;34m(self, X, y)\u001b[0m\n\u001b[0;32m     81\u001b[0m         )\n\u001b[0;32m     82\u001b[0m \u001b[1;33m\u001b[0m\u001b[0m\n\u001b[1;32m---> 83\u001b[1;33m         \u001b[0moutput\u001b[0m \u001b[1;33m=\u001b[0m \u001b[0mself\u001b[0m\u001b[1;33m.\u001b[0m\u001b[0m_fit_resample\u001b[0m\u001b[1;33m(\u001b[0m\u001b[0mX\u001b[0m\u001b[1;33m,\u001b[0m \u001b[0my\u001b[0m\u001b[1;33m)\u001b[0m\u001b[1;33m\u001b[0m\u001b[1;33m\u001b[0m\u001b[0m\n\u001b[0m\u001b[0;32m     84\u001b[0m \u001b[1;33m\u001b[0m\u001b[0m\n\u001b[0;32m     85\u001b[0m         y_ = (\n",
      "\u001b[1;32m~\\anaconda3\\envs\\mlenv\\lib\\site-packages\\imblearn\\over_sampling\\_smote\\base.py\u001b[0m in \u001b[0;36m_fit_resample\u001b[1;34m(self, X, y)\u001b[0m\n\u001b[0;32m    307\u001b[0m \u001b[1;33m\u001b[0m\u001b[0m\n\u001b[0;32m    308\u001b[0m             \u001b[0mself\u001b[0m\u001b[1;33m.\u001b[0m\u001b[0mnn_k_\u001b[0m\u001b[1;33m.\u001b[0m\u001b[0mfit\u001b[0m\u001b[1;33m(\u001b[0m\u001b[0mX_class\u001b[0m\u001b[1;33m)\u001b[0m\u001b[1;33m\u001b[0m\u001b[1;33m\u001b[0m\u001b[0m\n\u001b[1;32m--> 309\u001b[1;33m             \u001b[0mnns\u001b[0m \u001b[1;33m=\u001b[0m \u001b[0mself\u001b[0m\u001b[1;33m.\u001b[0m\u001b[0mnn_k_\u001b[0m\u001b[1;33m.\u001b[0m\u001b[0mkneighbors\u001b[0m\u001b[1;33m(\u001b[0m\u001b[0mX_class\u001b[0m\u001b[1;33m,\u001b[0m \u001b[0mreturn_distance\u001b[0m\u001b[1;33m=\u001b[0m\u001b[1;32mFalse\u001b[0m\u001b[1;33m)\u001b[0m\u001b[1;33m[\u001b[0m\u001b[1;33m:\u001b[0m\u001b[1;33m,\u001b[0m \u001b[1;36m1\u001b[0m\u001b[1;33m:\u001b[0m\u001b[1;33m]\u001b[0m\u001b[1;33m\u001b[0m\u001b[1;33m\u001b[0m\u001b[0m\n\u001b[0m\u001b[0;32m    310\u001b[0m             X_new, y_new = self._make_samples(\n\u001b[0;32m    311\u001b[0m                 \u001b[0mX_class\u001b[0m\u001b[1;33m,\u001b[0m \u001b[0my\u001b[0m\u001b[1;33m.\u001b[0m\u001b[0mdtype\u001b[0m\u001b[1;33m,\u001b[0m \u001b[0mclass_sample\u001b[0m\u001b[1;33m,\u001b[0m \u001b[0mX_class\u001b[0m\u001b[1;33m,\u001b[0m \u001b[0mnns\u001b[0m\u001b[1;33m,\u001b[0m \u001b[0mn_samples\u001b[0m\u001b[1;33m,\u001b[0m \u001b[1;36m1.0\u001b[0m\u001b[1;33m\u001b[0m\u001b[1;33m\u001b[0m\u001b[0m\n",
      "\u001b[1;32m~\\anaconda3\\envs\\mlenv\\lib\\site-packages\\sklearn\\neighbors\\_base.py\u001b[0m in \u001b[0;36mkneighbors\u001b[1;34m(self, X, n_neighbors, return_distance)\u001b[0m\n\u001b[0;32m    681\u001b[0m                 \u001b[1;34m\"Expected n_neighbors <= n_samples, \"\u001b[0m\u001b[1;33m\u001b[0m\u001b[1;33m\u001b[0m\u001b[0m\n\u001b[0;32m    682\u001b[0m                 \u001b[1;34m\" but n_samples = %d, n_neighbors = %d\"\u001b[0m \u001b[1;33m%\u001b[0m\u001b[1;33m\u001b[0m\u001b[1;33m\u001b[0m\u001b[0m\n\u001b[1;32m--> 683\u001b[1;33m                 \u001b[1;33m(\u001b[0m\u001b[0mn_samples_fit\u001b[0m\u001b[1;33m,\u001b[0m \u001b[0mn_neighbors\u001b[0m\u001b[1;33m)\u001b[0m\u001b[1;33m\u001b[0m\u001b[1;33m\u001b[0m\u001b[0m\n\u001b[0m\u001b[0;32m    684\u001b[0m             )\n\u001b[0;32m    685\u001b[0m \u001b[1;33m\u001b[0m\u001b[0m\n",
      "\u001b[1;31mValueError\u001b[0m: Expected n_neighbors <= n_samples,  but n_samples = 4, n_neighbors = 6"
     ]
    }
   ],
   "source": [
    "from imblearn.over_sampling import SMOTE\n",
    "smote = SMOTE(random_state=1, sampling_strategy='auto')\n",
    "# Resample the targets\n",
    "X_resampled, y_resampled = smote.fit_resample(X_train, y_train)\n",
    "Counter(y_resampled)"
   ]
  },
  {
   "cell_type": "code",
   "execution_count": null,
   "id": "855fc552",
   "metadata": {},
   "outputs": [],
   "source": []
  }
 ],
 "metadata": {
  "kernelspec": {
   "display_name": "mlenv",
   "language": "python",
   "name": "mlenv"
  },
  "language_info": {
   "codemirror_mode": {
    "name": "ipython",
    "version": 3
   },
   "file_extension": ".py",
   "mimetype": "text/x-python",
   "name": "python",
   "nbconvert_exporter": "python",
   "pygments_lexer": "ipython3",
   "version": "3.7.10"
  }
 },
 "nbformat": 4,
 "nbformat_minor": 5
}
