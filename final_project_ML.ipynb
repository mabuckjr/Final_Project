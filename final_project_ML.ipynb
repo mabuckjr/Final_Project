{
 "cells": [
  {
   "cell_type": "markdown",
   "id": "6b7489d7",
   "metadata": {},
   "source": [
    "## Import dependencies and tools, plust review data"
   ]
  },
  {
   "cell_type": "code",
   "execution_count": 92,
   "id": "94ca4a70",
   "metadata": {},
   "outputs": [],
   "source": [
    "# Supervised Learning Dependencies\n",
    "import warnings\n",
    "warnings.filterwarnings('ignore')\n",
    "import numpy as np\n",
    "import pandas as pd\n",
    "from pathlib import Path\n",
    "from collections import Counter\n",
    "from sklearn.metrics import balanced_accuracy_score\n",
    "from sklearn.metrics import confusion_matrix\n",
    "from imblearn.metrics import classification_report_imbalanced\n",
    "from sklearn import preprocessing\n",
    "from sklearn import utils\n",
    "# Unsupervised\n",
    "import hvplot.pandas\n",
    "import plotly.express as px\n",
    "from sklearn.preprocessing import StandardScaler, MinMaxScaler\n",
    "from sklearn.decomposition import PCA\n",
    "from sklearn.cluster import KMeans\n",
    "# Neural Network\n",
    "import sklearn\n",
    "from sklearn.neural_network import MLPClassifier\n",
    "from sklearn.neural_network import MLPRegressor\n",
    "from sklearn.model_selection import train_test_split\n",
    "from sklearn.preprocessing import StandardScaler,OneHotEncoder\n",
    "import tensorflow as tf"
   ]
  },
  {
   "cell_type": "code",
   "execution_count": 93,
   "id": "094fa3d9",
   "metadata": {},
   "outputs": [
    {
     "data": {
      "text/html": [
       "<div>\n",
       "<style scoped>\n",
       "    .dataframe tbody tr th:only-of-type {\n",
       "        vertical-align: middle;\n",
       "    }\n",
       "\n",
       "    .dataframe tbody tr th {\n",
       "        vertical-align: top;\n",
       "    }\n",
       "\n",
       "    .dataframe thead th {\n",
       "        text-align: right;\n",
       "    }\n",
       "</style>\n",
       "<table border=\"1\" class=\"dataframe\">\n",
       "  <thead>\n",
       "    <tr style=\"text-align: right;\">\n",
       "      <th></th>\n",
       "      <th>monthly_bill</th>\n",
       "      <th>tax_body</th>\n",
       "      <th>biz_type</th>\n",
       "      <th>compost</th>\n",
       "      <th>garbage</th>\n",
       "      <th>recycle</th>\n",
       "      <th>total_yards</th>\n",
       "      <th>needed_recycle</th>\n",
       "      <th>needed_compost</th>\n",
       "      <th>enough_recycle_compost</th>\n",
       "    </tr>\n",
       "    <tr>\n",
       "      <th>cust</th>\n",
       "      <th></th>\n",
       "      <th></th>\n",
       "      <th></th>\n",
       "      <th></th>\n",
       "      <th></th>\n",
       "      <th></th>\n",
       "      <th></th>\n",
       "      <th></th>\n",
       "      <th></th>\n",
       "      <th></th>\n",
       "    </tr>\n",
       "  </thead>\n",
       "  <tbody>\n",
       "    <tr>\n",
       "      <th>98</th>\n",
       "      <td>888.98</td>\n",
       "      <td>C</td>\n",
       "      <td>MINI MART</td>\n",
       "      <td>0.00</td>\n",
       "      <td>4.00</td>\n",
       "      <td>16.00</td>\n",
       "      <td>20.00</td>\n",
       "      <td>2</td>\n",
       "      <td>1</td>\n",
       "      <td>No</td>\n",
       "    </tr>\n",
       "    <tr>\n",
       "      <th>98</th>\n",
       "      <td>888.98</td>\n",
       "      <td>C</td>\n",
       "      <td>MINI MART</td>\n",
       "      <td>0.00</td>\n",
       "      <td>4.00</td>\n",
       "      <td>16.00</td>\n",
       "      <td>20.00</td>\n",
       "      <td>2</td>\n",
       "      <td>1</td>\n",
       "      <td>No</td>\n",
       "    </tr>\n",
       "    <tr>\n",
       "      <th>98</th>\n",
       "      <td>888.98</td>\n",
       "      <td>C</td>\n",
       "      <td>MINI MART</td>\n",
       "      <td>0.00</td>\n",
       "      <td>4.00</td>\n",
       "      <td>16.00</td>\n",
       "      <td>20.00</td>\n",
       "      <td>2</td>\n",
       "      <td>1</td>\n",
       "      <td>No</td>\n",
       "    </tr>\n",
       "    <tr>\n",
       "      <th>218</th>\n",
       "      <td>965.40</td>\n",
       "      <td>COUNTY</td>\n",
       "      <td>WINERY</td>\n",
       "      <td>0.48</td>\n",
       "      <td>4.00</td>\n",
       "      <td>5.44</td>\n",
       "      <td>9.92</td>\n",
       "      <td>2</td>\n",
       "      <td>1</td>\n",
       "      <td>No</td>\n",
       "    </tr>\n",
       "    <tr>\n",
       "      <th>218</th>\n",
       "      <td>965.40</td>\n",
       "      <td>COUNTY</td>\n",
       "      <td>WINERY</td>\n",
       "      <td>0.48</td>\n",
       "      <td>4.00</td>\n",
       "      <td>5.44</td>\n",
       "      <td>9.92</td>\n",
       "      <td>2</td>\n",
       "      <td>1</td>\n",
       "      <td>No</td>\n",
       "    </tr>\n",
       "    <tr>\n",
       "      <th>...</th>\n",
       "      <td>...</td>\n",
       "      <td>...</td>\n",
       "      <td>...</td>\n",
       "      <td>...</td>\n",
       "      <td>...</td>\n",
       "      <td>...</td>\n",
       "      <td>...</td>\n",
       "      <td>...</td>\n",
       "      <td>...</td>\n",
       "      <td>...</td>\n",
       "    </tr>\n",
       "    <tr>\n",
       "      <th>31675</th>\n",
       "      <td>134.57</td>\n",
       "      <td>COUNTY</td>\n",
       "      <td>LODGING-FW</td>\n",
       "      <td>0.48</td>\n",
       "      <td>0.48</td>\n",
       "      <td>0.48</td>\n",
       "      <td>1.44</td>\n",
       "      <td>0</td>\n",
       "      <td>0</td>\n",
       "      <td>Yes</td>\n",
       "    </tr>\n",
       "    <tr>\n",
       "      <th>31676</th>\n",
       "      <td>1456.25</td>\n",
       "      <td>COUNTY</td>\n",
       "      <td>WINERY</td>\n",
       "      <td>0.00</td>\n",
       "      <td>2.00</td>\n",
       "      <td>6.00</td>\n",
       "      <td>8.00</td>\n",
       "      <td>1</td>\n",
       "      <td>1</td>\n",
       "      <td>No</td>\n",
       "    </tr>\n",
       "    <tr>\n",
       "      <th>31676</th>\n",
       "      <td>1456.25</td>\n",
       "      <td>COUNTY</td>\n",
       "      <td>WINERY</td>\n",
       "      <td>0.00</td>\n",
       "      <td>2.00</td>\n",
       "      <td>6.00</td>\n",
       "      <td>8.00</td>\n",
       "      <td>1</td>\n",
       "      <td>1</td>\n",
       "      <td>No</td>\n",
       "    </tr>\n",
       "    <tr>\n",
       "      <th>31679</th>\n",
       "      <td>65.25</td>\n",
       "      <td>S</td>\n",
       "      <td>WINERY</td>\n",
       "      <td>0.00</td>\n",
       "      <td>0.32</td>\n",
       "      <td>0.48</td>\n",
       "      <td>0.80</td>\n",
       "      <td>0</td>\n",
       "      <td>0</td>\n",
       "      <td>Yes</td>\n",
       "    </tr>\n",
       "    <tr>\n",
       "      <th>31679</th>\n",
       "      <td>65.25</td>\n",
       "      <td>S</td>\n",
       "      <td>WINERY</td>\n",
       "      <td>0.00</td>\n",
       "      <td>0.32</td>\n",
       "      <td>0.48</td>\n",
       "      <td>0.80</td>\n",
       "      <td>0</td>\n",
       "      <td>0</td>\n",
       "      <td>Yes</td>\n",
       "    </tr>\n",
       "  </tbody>\n",
       "</table>\n",
       "<p>1768 rows × 10 columns</p>\n",
       "</div>"
      ],
      "text/plain": [
       "       monthly_bill tax_body    biz_type  compost  garbage  recycle  \\\n",
       "cust                                                                  \n",
       "98           888.98        C   MINI MART     0.00     4.00    16.00   \n",
       "98           888.98        C   MINI MART     0.00     4.00    16.00   \n",
       "98           888.98        C   MINI MART     0.00     4.00    16.00   \n",
       "218          965.40   COUNTY      WINERY     0.48     4.00     5.44   \n",
       "218          965.40   COUNTY      WINERY     0.48     4.00     5.44   \n",
       "...             ...      ...         ...      ...      ...      ...   \n",
       "31675        134.57   COUNTY  LODGING-FW     0.48     0.48     0.48   \n",
       "31676       1456.25   COUNTY      WINERY     0.00     2.00     6.00   \n",
       "31676       1456.25   COUNTY      WINERY     0.00     2.00     6.00   \n",
       "31679         65.25        S      WINERY     0.00     0.32     0.48   \n",
       "31679         65.25        S      WINERY     0.00     0.32     0.48   \n",
       "\n",
       "       total_yards  needed_recycle  needed_compost enough_recycle_compost  \n",
       "cust                                                                       \n",
       "98           20.00               2               1                     No  \n",
       "98           20.00               2               1                     No  \n",
       "98           20.00               2               1                     No  \n",
       "218           9.92               2               1                     No  \n",
       "218           9.92               2               1                     No  \n",
       "...            ...             ...             ...                    ...  \n",
       "31675         1.44               0               0                    Yes  \n",
       "31676         8.00               1               1                     No  \n",
       "31676         8.00               1               1                     No  \n",
       "31679         0.80               0               0                    Yes  \n",
       "31679         0.80               0               0                    Yes  \n",
       "\n",
       "[1768 rows x 10 columns]"
      ]
     },
     "execution_count": 93,
     "metadata": {},
     "output_type": "execute_result"
    }
   ],
   "source": [
    "# Import machine learning csv made in postgreSQL as DataFrame\n",
    "ml_df = pd.read_csv(\"full_table.csv\").set_index('cust')\n",
    "ml_df"
   ]
  },
  {
   "cell_type": "code",
   "execution_count": 94,
   "id": "b3c8accd",
   "metadata": {},
   "outputs": [
    {
     "data": {
      "text/plain": [
       "monthly_bill              227\n",
       "tax_body                    4\n",
       "biz_type                   40\n",
       "compost                    38\n",
       "garbage                    44\n",
       "recycle                    81\n",
       "total_yards               168\n",
       "needed_recycle             21\n",
       "needed_compost             17\n",
       "enough_recycle_compost      2\n",
       "dtype: int64"
      ]
     },
     "execution_count": 94,
     "metadata": {},
     "output_type": "execute_result"
    }
   ],
   "source": [
    "# Determine number of unique values in each column, and check for dtypes and information while I'm at it\n",
    "ml_df.nunique()"
   ]
  },
  {
   "cell_type": "code",
   "execution_count": 95,
   "id": "3a795d8f",
   "metadata": {},
   "outputs": [
    {
     "data": {
      "text/plain": [
       "monthly_bill              float64\n",
       "tax_body                   object\n",
       "biz_type                   object\n",
       "compost                   float64\n",
       "garbage                   float64\n",
       "recycle                   float64\n",
       "total_yards               float64\n",
       "needed_recycle              int64\n",
       "needed_compost              int64\n",
       "enough_recycle_compost     object\n",
       "dtype: object"
      ]
     },
     "execution_count": 95,
     "metadata": {},
     "output_type": "execute_result"
    }
   ],
   "source": [
    "ml_df.dtypes"
   ]
  },
  {
   "cell_type": "code",
   "execution_count": 96,
   "id": "7309407a",
   "metadata": {},
   "outputs": [
    {
     "name": "stdout",
     "output_type": "stream",
     "text": [
      "<class 'pandas.core.frame.DataFrame'>\n",
      "Int64Index: 1768 entries, 98 to 31679\n",
      "Data columns (total 10 columns):\n",
      " #   Column                  Non-Null Count  Dtype  \n",
      "---  ------                  --------------  -----  \n",
      " 0   monthly_bill            1768 non-null   float64\n",
      " 1   tax_body                1768 non-null   object \n",
      " 2   biz_type                1768 non-null   object \n",
      " 3   compost                 1768 non-null   float64\n",
      " 4   garbage                 1768 non-null   float64\n",
      " 5   recycle                 1768 non-null   float64\n",
      " 6   total_yards             1768 non-null   float64\n",
      " 7   needed_recycle          1768 non-null   int64  \n",
      " 8   needed_compost          1768 non-null   int64  \n",
      " 9   enough_recycle_compost  1768 non-null   object \n",
      "dtypes: float64(5), int64(2), object(3)\n",
      "memory usage: 151.9+ KB\n"
     ]
    }
   ],
   "source": [
    "ml_df.info()"
   ]
  },
  {
   "cell_type": "code",
   "execution_count": 97,
   "id": "ebb82c7c",
   "metadata": {},
   "outputs": [
    {
     "data": {
      "text/html": [
       "<div>\n",
       "<style scoped>\n",
       "    .dataframe tbody tr th:only-of-type {\n",
       "        vertical-align: middle;\n",
       "    }\n",
       "\n",
       "    .dataframe tbody tr th {\n",
       "        vertical-align: top;\n",
       "    }\n",
       "\n",
       "    .dataframe thead th {\n",
       "        text-align: right;\n",
       "    }\n",
       "</style>\n",
       "<table border=\"1\" class=\"dataframe\">\n",
       "  <thead>\n",
       "    <tr style=\"text-align: right;\">\n",
       "      <th></th>\n",
       "      <th>monthly_bill</th>\n",
       "      <th>tax_body</th>\n",
       "      <th>biz_type</th>\n",
       "      <th>compost</th>\n",
       "      <th>garbage</th>\n",
       "      <th>recycle</th>\n",
       "      <th>total_yards</th>\n",
       "      <th>needed_recycle</th>\n",
       "      <th>needed_compost</th>\n",
       "      <th>enough_recycle_compost</th>\n",
       "    </tr>\n",
       "    <tr>\n",
       "      <th>cust</th>\n",
       "      <th></th>\n",
       "      <th></th>\n",
       "      <th></th>\n",
       "      <th></th>\n",
       "      <th></th>\n",
       "      <th></th>\n",
       "      <th></th>\n",
       "      <th></th>\n",
       "      <th></th>\n",
       "      <th></th>\n",
       "    </tr>\n",
       "  </thead>\n",
       "  <tbody>\n",
       "    <tr>\n",
       "      <th>98</th>\n",
       "      <td>888.98</td>\n",
       "      <td>C</td>\n",
       "      <td>MINI MART</td>\n",
       "      <td>0.00</td>\n",
       "      <td>4.00</td>\n",
       "      <td>16.00</td>\n",
       "      <td>20.00</td>\n",
       "      <td>2</td>\n",
       "      <td>1</td>\n",
       "      <td>No</td>\n",
       "    </tr>\n",
       "    <tr>\n",
       "      <th>218</th>\n",
       "      <td>965.40</td>\n",
       "      <td>COUNTY</td>\n",
       "      <td>WINERY</td>\n",
       "      <td>0.48</td>\n",
       "      <td>4.00</td>\n",
       "      <td>5.44</td>\n",
       "      <td>9.92</td>\n",
       "      <td>2</td>\n",
       "      <td>1</td>\n",
       "      <td>No</td>\n",
       "    </tr>\n",
       "    <tr>\n",
       "      <th>345</th>\n",
       "      <td>890.40</td>\n",
       "      <td>COUNTY</td>\n",
       "      <td>WINERY</td>\n",
       "      <td>0.00</td>\n",
       "      <td>4.00</td>\n",
       "      <td>0.00</td>\n",
       "      <td>4.00</td>\n",
       "      <td>2</td>\n",
       "      <td>1</td>\n",
       "      <td>No</td>\n",
       "    </tr>\n",
       "    <tr>\n",
       "      <th>567</th>\n",
       "      <td>97.87</td>\n",
       "      <td>S</td>\n",
       "      <td>MEDICAL</td>\n",
       "      <td>0.00</td>\n",
       "      <td>0.48</td>\n",
       "      <td>0.48</td>\n",
       "      <td>0.96</td>\n",
       "      <td>0</td>\n",
       "      <td>0</td>\n",
       "      <td>Yes</td>\n",
       "    </tr>\n",
       "    <tr>\n",
       "      <th>717</th>\n",
       "      <td>65.25</td>\n",
       "      <td>S</td>\n",
       "      <td>GROCERY</td>\n",
       "      <td>0.00</td>\n",
       "      <td>0.32</td>\n",
       "      <td>0.48</td>\n",
       "      <td>0.80</td>\n",
       "      <td>0</td>\n",
       "      <td>0</td>\n",
       "      <td>Yes</td>\n",
       "    </tr>\n",
       "    <tr>\n",
       "      <th>...</th>\n",
       "      <td>...</td>\n",
       "      <td>...</td>\n",
       "      <td>...</td>\n",
       "      <td>...</td>\n",
       "      <td>...</td>\n",
       "      <td>...</td>\n",
       "      <td>...</td>\n",
       "      <td>...</td>\n",
       "      <td>...</td>\n",
       "      <td>...</td>\n",
       "    </tr>\n",
       "    <tr>\n",
       "      <th>31644</th>\n",
       "      <td>335.71</td>\n",
       "      <td>S</td>\n",
       "      <td>MULTIFAMIL</td>\n",
       "      <td>0.96</td>\n",
       "      <td>0.96</td>\n",
       "      <td>0.96</td>\n",
       "      <td>2.88</td>\n",
       "      <td>0</td>\n",
       "      <td>0</td>\n",
       "      <td>Yes</td>\n",
       "    </tr>\n",
       "    <tr>\n",
       "      <th>31660</th>\n",
       "      <td>134.57</td>\n",
       "      <td>COUNTY</td>\n",
       "      <td>MIXED USE</td>\n",
       "      <td>0.48</td>\n",
       "      <td>0.48</td>\n",
       "      <td>0.48</td>\n",
       "      <td>1.44</td>\n",
       "      <td>0</td>\n",
       "      <td>0</td>\n",
       "      <td>Yes</td>\n",
       "    </tr>\n",
       "    <tr>\n",
       "      <th>31675</th>\n",
       "      <td>134.57</td>\n",
       "      <td>COUNTY</td>\n",
       "      <td>LODGING-FW</td>\n",
       "      <td>0.48</td>\n",
       "      <td>0.48</td>\n",
       "      <td>0.48</td>\n",
       "      <td>1.44</td>\n",
       "      <td>0</td>\n",
       "      <td>0</td>\n",
       "      <td>Yes</td>\n",
       "    </tr>\n",
       "    <tr>\n",
       "      <th>31676</th>\n",
       "      <td>1456.25</td>\n",
       "      <td>COUNTY</td>\n",
       "      <td>WINERY</td>\n",
       "      <td>0.00</td>\n",
       "      <td>2.00</td>\n",
       "      <td>6.00</td>\n",
       "      <td>8.00</td>\n",
       "      <td>1</td>\n",
       "      <td>1</td>\n",
       "      <td>No</td>\n",
       "    </tr>\n",
       "    <tr>\n",
       "      <th>31679</th>\n",
       "      <td>65.25</td>\n",
       "      <td>S</td>\n",
       "      <td>WINERY</td>\n",
       "      <td>0.00</td>\n",
       "      <td>0.32</td>\n",
       "      <td>0.48</td>\n",
       "      <td>0.80</td>\n",
       "      <td>0</td>\n",
       "      <td>0</td>\n",
       "      <td>Yes</td>\n",
       "    </tr>\n",
       "  </tbody>\n",
       "</table>\n",
       "<p>403 rows × 10 columns</p>\n",
       "</div>"
      ],
      "text/plain": [
       "       monthly_bill tax_body    biz_type  compost  garbage  recycle  \\\n",
       "cust                                                                  \n",
       "98           888.98        C   MINI MART     0.00     4.00    16.00   \n",
       "218          965.40   COUNTY      WINERY     0.48     4.00     5.44   \n",
       "345          890.40   COUNTY      WINERY     0.00     4.00     0.00   \n",
       "567           97.87        S     MEDICAL     0.00     0.48     0.48   \n",
       "717           65.25        S     GROCERY     0.00     0.32     0.48   \n",
       "...             ...      ...         ...      ...      ...      ...   \n",
       "31644        335.71        S  MULTIFAMIL     0.96     0.96     0.96   \n",
       "31660        134.57   COUNTY   MIXED USE     0.48     0.48     0.48   \n",
       "31675        134.57   COUNTY  LODGING-FW     0.48     0.48     0.48   \n",
       "31676       1456.25   COUNTY      WINERY     0.00     2.00     6.00   \n",
       "31679         65.25        S      WINERY     0.00     0.32     0.48   \n",
       "\n",
       "       total_yards  needed_recycle  needed_compost enough_recycle_compost  \n",
       "cust                                                                       \n",
       "98           20.00               2               1                     No  \n",
       "218           9.92               2               1                     No  \n",
       "345           4.00               2               1                     No  \n",
       "567           0.96               0               0                    Yes  \n",
       "717           0.80               0               0                    Yes  \n",
       "...            ...             ...             ...                    ...  \n",
       "31644         2.88               0               0                    Yes  \n",
       "31660         1.44               0               0                    Yes  \n",
       "31675         1.44               0               0                    Yes  \n",
       "31676         8.00               1               1                     No  \n",
       "31679         0.80               0               0                    Yes  \n",
       "\n",
       "[403 rows x 10 columns]"
      ]
     },
     "execution_count": 97,
     "metadata": {},
     "output_type": "execute_result"
    }
   ],
   "source": [
    "# Drop duplicates\n",
    "ml_df.drop_duplicates(inplace=True)\n",
    "ml_df"
   ]
  },
  {
   "cell_type": "code",
   "execution_count": 98,
   "id": "1b241f1d",
   "metadata": {},
   "outputs": [
    {
     "data": {
      "text/html": [
       "<div>\n",
       "<style scoped>\n",
       "    .dataframe tbody tr th:only-of-type {\n",
       "        vertical-align: middle;\n",
       "    }\n",
       "\n",
       "    .dataframe tbody tr th {\n",
       "        vertical-align: top;\n",
       "    }\n",
       "\n",
       "    .dataframe thead th {\n",
       "        text-align: right;\n",
       "    }\n",
       "</style>\n",
       "<table border=\"1\" class=\"dataframe\">\n",
       "  <thead>\n",
       "    <tr style=\"text-align: right;\">\n",
       "      <th></th>\n",
       "      <th>monthly_bill</th>\n",
       "      <th>tax_body</th>\n",
       "      <th>biz_type</th>\n",
       "      <th>total_yards</th>\n",
       "      <th>garbage</th>\n",
       "      <th>recycle</th>\n",
       "      <th>needed_recycle</th>\n",
       "      <th>compost</th>\n",
       "      <th>needed_compost</th>\n",
       "      <th>enough_recycle_compost</th>\n",
       "    </tr>\n",
       "    <tr>\n",
       "      <th>cust</th>\n",
       "      <th></th>\n",
       "      <th></th>\n",
       "      <th></th>\n",
       "      <th></th>\n",
       "      <th></th>\n",
       "      <th></th>\n",
       "      <th></th>\n",
       "      <th></th>\n",
       "      <th></th>\n",
       "      <th></th>\n",
       "    </tr>\n",
       "  </thead>\n",
       "  <tbody>\n",
       "    <tr>\n",
       "      <th>98</th>\n",
       "      <td>888.98</td>\n",
       "      <td>C</td>\n",
       "      <td>MINI MART</td>\n",
       "      <td>20.00</td>\n",
       "      <td>4.00</td>\n",
       "      <td>16.00</td>\n",
       "      <td>2</td>\n",
       "      <td>0.00</td>\n",
       "      <td>1</td>\n",
       "      <td>No</td>\n",
       "    </tr>\n",
       "    <tr>\n",
       "      <th>218</th>\n",
       "      <td>965.40</td>\n",
       "      <td>COUNTY</td>\n",
       "      <td>WINERY</td>\n",
       "      <td>9.92</td>\n",
       "      <td>4.00</td>\n",
       "      <td>5.44</td>\n",
       "      <td>2</td>\n",
       "      <td>0.48</td>\n",
       "      <td>1</td>\n",
       "      <td>No</td>\n",
       "    </tr>\n",
       "    <tr>\n",
       "      <th>345</th>\n",
       "      <td>890.40</td>\n",
       "      <td>COUNTY</td>\n",
       "      <td>WINERY</td>\n",
       "      <td>4.00</td>\n",
       "      <td>4.00</td>\n",
       "      <td>0.00</td>\n",
       "      <td>2</td>\n",
       "      <td>0.00</td>\n",
       "      <td>1</td>\n",
       "      <td>No</td>\n",
       "    </tr>\n",
       "    <tr>\n",
       "      <th>567</th>\n",
       "      <td>97.87</td>\n",
       "      <td>S</td>\n",
       "      <td>MEDICAL</td>\n",
       "      <td>0.96</td>\n",
       "      <td>0.48</td>\n",
       "      <td>0.48</td>\n",
       "      <td>0</td>\n",
       "      <td>0.00</td>\n",
       "      <td>0</td>\n",
       "      <td>Yes</td>\n",
       "    </tr>\n",
       "    <tr>\n",
       "      <th>717</th>\n",
       "      <td>65.25</td>\n",
       "      <td>S</td>\n",
       "      <td>GROCERY</td>\n",
       "      <td>0.80</td>\n",
       "      <td>0.32</td>\n",
       "      <td>0.48</td>\n",
       "      <td>0</td>\n",
       "      <td>0.00</td>\n",
       "      <td>0</td>\n",
       "      <td>Yes</td>\n",
       "    </tr>\n",
       "    <tr>\n",
       "      <th>...</th>\n",
       "      <td>...</td>\n",
       "      <td>...</td>\n",
       "      <td>...</td>\n",
       "      <td>...</td>\n",
       "      <td>...</td>\n",
       "      <td>...</td>\n",
       "      <td>...</td>\n",
       "      <td>...</td>\n",
       "      <td>...</td>\n",
       "      <td>...</td>\n",
       "    </tr>\n",
       "    <tr>\n",
       "      <th>31644</th>\n",
       "      <td>335.71</td>\n",
       "      <td>S</td>\n",
       "      <td>MULTIFAMIL</td>\n",
       "      <td>2.88</td>\n",
       "      <td>0.96</td>\n",
       "      <td>0.96</td>\n",
       "      <td>0</td>\n",
       "      <td>0.96</td>\n",
       "      <td>0</td>\n",
       "      <td>Yes</td>\n",
       "    </tr>\n",
       "    <tr>\n",
       "      <th>31660</th>\n",
       "      <td>134.57</td>\n",
       "      <td>COUNTY</td>\n",
       "      <td>MIXED USE</td>\n",
       "      <td>1.44</td>\n",
       "      <td>0.48</td>\n",
       "      <td>0.48</td>\n",
       "      <td>0</td>\n",
       "      <td>0.48</td>\n",
       "      <td>0</td>\n",
       "      <td>Yes</td>\n",
       "    </tr>\n",
       "    <tr>\n",
       "      <th>31675</th>\n",
       "      <td>134.57</td>\n",
       "      <td>COUNTY</td>\n",
       "      <td>LODGING-FW</td>\n",
       "      <td>1.44</td>\n",
       "      <td>0.48</td>\n",
       "      <td>0.48</td>\n",
       "      <td>0</td>\n",
       "      <td>0.48</td>\n",
       "      <td>0</td>\n",
       "      <td>Yes</td>\n",
       "    </tr>\n",
       "    <tr>\n",
       "      <th>31676</th>\n",
       "      <td>1456.25</td>\n",
       "      <td>COUNTY</td>\n",
       "      <td>WINERY</td>\n",
       "      <td>8.00</td>\n",
       "      <td>2.00</td>\n",
       "      <td>6.00</td>\n",
       "      <td>1</td>\n",
       "      <td>0.00</td>\n",
       "      <td>1</td>\n",
       "      <td>No</td>\n",
       "    </tr>\n",
       "    <tr>\n",
       "      <th>31679</th>\n",
       "      <td>65.25</td>\n",
       "      <td>S</td>\n",
       "      <td>WINERY</td>\n",
       "      <td>0.80</td>\n",
       "      <td>0.32</td>\n",
       "      <td>0.48</td>\n",
       "      <td>0</td>\n",
       "      <td>0.00</td>\n",
       "      <td>0</td>\n",
       "      <td>Yes</td>\n",
       "    </tr>\n",
       "  </tbody>\n",
       "</table>\n",
       "<p>403 rows × 10 columns</p>\n",
       "</div>"
      ],
      "text/plain": [
       "       monthly_bill tax_body    biz_type  total_yards  garbage  recycle  \\\n",
       "cust                                                                      \n",
       "98           888.98        C   MINI MART        20.00     4.00    16.00   \n",
       "218          965.40   COUNTY      WINERY         9.92     4.00     5.44   \n",
       "345          890.40   COUNTY      WINERY         4.00     4.00     0.00   \n",
       "567           97.87        S     MEDICAL         0.96     0.48     0.48   \n",
       "717           65.25        S     GROCERY         0.80     0.32     0.48   \n",
       "...             ...      ...         ...          ...      ...      ...   \n",
       "31644        335.71        S  MULTIFAMIL         2.88     0.96     0.96   \n",
       "31660        134.57   COUNTY   MIXED USE         1.44     0.48     0.48   \n",
       "31675        134.57   COUNTY  LODGING-FW         1.44     0.48     0.48   \n",
       "31676       1456.25   COUNTY      WINERY         8.00     2.00     6.00   \n",
       "31679         65.25        S      WINERY         0.80     0.32     0.48   \n",
       "\n",
       "       needed_recycle  compost  needed_compost enough_recycle_compost  \n",
       "cust                                                                   \n",
       "98                  2     0.00               1                     No  \n",
       "218                 2     0.48               1                     No  \n",
       "345                 2     0.00               1                     No  \n",
       "567                 0     0.00               0                    Yes  \n",
       "717                 0     0.00               0                    Yes  \n",
       "...               ...      ...             ...                    ...  \n",
       "31644               0     0.96               0                    Yes  \n",
       "31660               0     0.48               0                    Yes  \n",
       "31675               0     0.48               0                    Yes  \n",
       "31676               1     0.00               1                     No  \n",
       "31679               0     0.00               0                    Yes  \n",
       "\n",
       "[403 rows x 10 columns]"
      ]
     },
     "execution_count": 98,
     "metadata": {},
     "output_type": "execute_result"
    }
   ],
   "source": [
    "# Restructure the three df's so it's easier to compare services\n",
    "ml_df = ml_df[['monthly_bill', 'tax_body', 'biz_type', 'total_yards','garbage', 'recycle', 'needed_recycle', 'compost', 'needed_compost', 'enough_recycle_compost']]\n",
    "ml_df"
   ]
  },
  {
   "cell_type": "markdown",
   "id": "1a54597e",
   "metadata": {},
   "source": [
    "## Unsupervised Model"
   ]
  },
  {
   "cell_type": "markdown",
   "id": "07497e82",
   "metadata": {},
   "source": [
    "I am pretty sure I know what I am planning to do with the data, but just in case I'm going to see what relationships the data has"
   ]
  },
  {
   "cell_type": "code",
   "execution_count": 101,
   "id": "40036312",
   "metadata": {},
   "outputs": [
    {
     "data": {
      "text/html": [
       "<div>\n",
       "<style scoped>\n",
       "    .dataframe tbody tr th:only-of-type {\n",
       "        vertical-align: middle;\n",
       "    }\n",
       "\n",
       "    .dataframe tbody tr th {\n",
       "        vertical-align: top;\n",
       "    }\n",
       "\n",
       "    .dataframe thead th {\n",
       "        text-align: right;\n",
       "    }\n",
       "</style>\n",
       "<table border=\"1\" class=\"dataframe\">\n",
       "  <thead>\n",
       "    <tr style=\"text-align: right;\">\n",
       "      <th></th>\n",
       "      <th>monthly_bill</th>\n",
       "      <th>total_yards</th>\n",
       "      <th>garbage</th>\n",
       "      <th>recycle</th>\n",
       "      <th>needed_recycle</th>\n",
       "      <th>compost</th>\n",
       "      <th>needed_compost</th>\n",
       "      <th>tax_body_C</th>\n",
       "      <th>tax_body_COUNTY</th>\n",
       "      <th>tax_body_S</th>\n",
       "      <th>...</th>\n",
       "      <th>biz_type_PRESCHOOL</th>\n",
       "      <th>biz_type_RESTAURANT</th>\n",
       "      <th>biz_type_RETAIL</th>\n",
       "      <th>biz_type_SCHOOL</th>\n",
       "      <th>biz_type_STRIP MALL</th>\n",
       "      <th>biz_type_UTILITY</th>\n",
       "      <th>biz_type_VINEYARD</th>\n",
       "      <th>biz_type_WINERY</th>\n",
       "      <th>enough_recycle_compost_No</th>\n",
       "      <th>enough_recycle_compost_Yes</th>\n",
       "    </tr>\n",
       "    <tr>\n",
       "      <th>cust</th>\n",
       "      <th></th>\n",
       "      <th></th>\n",
       "      <th></th>\n",
       "      <th></th>\n",
       "      <th></th>\n",
       "      <th></th>\n",
       "      <th></th>\n",
       "      <th></th>\n",
       "      <th></th>\n",
       "      <th></th>\n",
       "      <th></th>\n",
       "      <th></th>\n",
       "      <th></th>\n",
       "      <th></th>\n",
       "      <th></th>\n",
       "      <th></th>\n",
       "      <th></th>\n",
       "      <th></th>\n",
       "      <th></th>\n",
       "      <th></th>\n",
       "      <th></th>\n",
       "    </tr>\n",
       "  </thead>\n",
       "  <tbody>\n",
       "    <tr>\n",
       "      <th>98</th>\n",
       "      <td>888.98</td>\n",
       "      <td>20.00</td>\n",
       "      <td>4.00</td>\n",
       "      <td>16.00</td>\n",
       "      <td>2</td>\n",
       "      <td>0.00</td>\n",
       "      <td>1</td>\n",
       "      <td>1</td>\n",
       "      <td>0</td>\n",
       "      <td>0</td>\n",
       "      <td>...</td>\n",
       "      <td>0</td>\n",
       "      <td>0</td>\n",
       "      <td>0</td>\n",
       "      <td>0</td>\n",
       "      <td>0</td>\n",
       "      <td>0</td>\n",
       "      <td>0</td>\n",
       "      <td>0</td>\n",
       "      <td>1</td>\n",
       "      <td>0</td>\n",
       "    </tr>\n",
       "    <tr>\n",
       "      <th>218</th>\n",
       "      <td>965.40</td>\n",
       "      <td>9.92</td>\n",
       "      <td>4.00</td>\n",
       "      <td>5.44</td>\n",
       "      <td>2</td>\n",
       "      <td>0.48</td>\n",
       "      <td>1</td>\n",
       "      <td>0</td>\n",
       "      <td>1</td>\n",
       "      <td>0</td>\n",
       "      <td>...</td>\n",
       "      <td>0</td>\n",
       "      <td>0</td>\n",
       "      <td>0</td>\n",
       "      <td>0</td>\n",
       "      <td>0</td>\n",
       "      <td>0</td>\n",
       "      <td>0</td>\n",
       "      <td>1</td>\n",
       "      <td>1</td>\n",
       "      <td>0</td>\n",
       "    </tr>\n",
       "    <tr>\n",
       "      <th>345</th>\n",
       "      <td>890.40</td>\n",
       "      <td>4.00</td>\n",
       "      <td>4.00</td>\n",
       "      <td>0.00</td>\n",
       "      <td>2</td>\n",
       "      <td>0.00</td>\n",
       "      <td>1</td>\n",
       "      <td>0</td>\n",
       "      <td>1</td>\n",
       "      <td>0</td>\n",
       "      <td>...</td>\n",
       "      <td>0</td>\n",
       "      <td>0</td>\n",
       "      <td>0</td>\n",
       "      <td>0</td>\n",
       "      <td>0</td>\n",
       "      <td>0</td>\n",
       "      <td>0</td>\n",
       "      <td>1</td>\n",
       "      <td>1</td>\n",
       "      <td>0</td>\n",
       "    </tr>\n",
       "    <tr>\n",
       "      <th>567</th>\n",
       "      <td>97.87</td>\n",
       "      <td>0.96</td>\n",
       "      <td>0.48</td>\n",
       "      <td>0.48</td>\n",
       "      <td>0</td>\n",
       "      <td>0.00</td>\n",
       "      <td>0</td>\n",
       "      <td>0</td>\n",
       "      <td>0</td>\n",
       "      <td>1</td>\n",
       "      <td>...</td>\n",
       "      <td>0</td>\n",
       "      <td>0</td>\n",
       "      <td>0</td>\n",
       "      <td>0</td>\n",
       "      <td>0</td>\n",
       "      <td>0</td>\n",
       "      <td>0</td>\n",
       "      <td>0</td>\n",
       "      <td>0</td>\n",
       "      <td>1</td>\n",
       "    </tr>\n",
       "    <tr>\n",
       "      <th>717</th>\n",
       "      <td>65.25</td>\n",
       "      <td>0.80</td>\n",
       "      <td>0.32</td>\n",
       "      <td>0.48</td>\n",
       "      <td>0</td>\n",
       "      <td>0.00</td>\n",
       "      <td>0</td>\n",
       "      <td>0</td>\n",
       "      <td>0</td>\n",
       "      <td>1</td>\n",
       "      <td>...</td>\n",
       "      <td>0</td>\n",
       "      <td>0</td>\n",
       "      <td>0</td>\n",
       "      <td>0</td>\n",
       "      <td>0</td>\n",
       "      <td>0</td>\n",
       "      <td>0</td>\n",
       "      <td>0</td>\n",
       "      <td>0</td>\n",
       "      <td>1</td>\n",
       "    </tr>\n",
       "  </tbody>\n",
       "</table>\n",
       "<p>5 rows × 53 columns</p>\n",
       "</div>"
      ],
      "text/plain": [
       "      monthly_bill  total_yards  garbage  recycle  needed_recycle  compost  \\\n",
       "cust                                                                         \n",
       "98          888.98        20.00     4.00    16.00               2     0.00   \n",
       "218         965.40         9.92     4.00     5.44               2     0.48   \n",
       "345         890.40         4.00     4.00     0.00               2     0.00   \n",
       "567          97.87         0.96     0.48     0.48               0     0.00   \n",
       "717          65.25         0.80     0.32     0.48               0     0.00   \n",
       "\n",
       "      needed_compost  tax_body_C  tax_body_COUNTY  tax_body_S  ...  \\\n",
       "cust                                                           ...   \n",
       "98                 1           1                0           0  ...   \n",
       "218                1           0                1           0  ...   \n",
       "345                1           0                1           0  ...   \n",
       "567                0           0                0           1  ...   \n",
       "717                0           0                0           1  ...   \n",
       "\n",
       "      biz_type_PRESCHOOL  biz_type_RESTAURANT  biz_type_RETAIL  \\\n",
       "cust                                                             \n",
       "98                     0                    0                0   \n",
       "218                    0                    0                0   \n",
       "345                    0                    0                0   \n",
       "567                    0                    0                0   \n",
       "717                    0                    0                0   \n",
       "\n",
       "      biz_type_SCHOOL  biz_type_STRIP MALL  biz_type_UTILITY  \\\n",
       "cust                                                           \n",
       "98                  0                    0                 0   \n",
       "218                 0                    0                 0   \n",
       "345                 0                    0                 0   \n",
       "567                 0                    0                 0   \n",
       "717                 0                    0                 0   \n",
       "\n",
       "      biz_type_VINEYARD  biz_type_WINERY  enough_recycle_compost_No  \\\n",
       "cust                                                                  \n",
       "98                    0                0                          1   \n",
       "218                   0                1                          1   \n",
       "345                   0                1                          1   \n",
       "567                   0                0                          0   \n",
       "717                   0                0                          0   \n",
       "\n",
       "      enough_recycle_compost_Yes  \n",
       "cust                              \n",
       "98                             0  \n",
       "218                            0  \n",
       "345                            0  \n",
       "567                            1  \n",
       "717                            1  \n",
       "\n",
       "[5 rows x 53 columns]"
      ]
     },
     "execution_count": 101,
     "metadata": {},
     "output_type": "execute_result"
    }
   ],
   "source": [
    "# Starting with unsupervised learning to see what relationships there may be with the data\n",
    "# Use get_dummies() to create variables for text features.\n",
    "X = pd.get_dummies(ml_df, columns= [\"tax_body\", \"biz_type\", \"enough_recycle_compost\"])\n",
    "X.head()"
   ]
  },
  {
   "cell_type": "code",
   "execution_count": 102,
   "id": "b8b5dad3",
   "metadata": {},
   "outputs": [
    {
     "data": {
      "text/plain": [
       "array([[-0.03577655,  0.17607197, -0.11787185, ..., -0.63575246,\n",
       "         0.99752168, -0.99752168],\n",
       "       [ 0.02343194, -0.13475076, -0.11787185, ...,  1.57293926,\n",
       "         0.99752168, -0.99752168],\n",
       "       [-0.03467636, -0.31729744, -0.11787185, ...,  1.57293926,\n",
       "         0.99752168, -0.99752168],\n",
       "       ...,\n",
       "       [-0.62027637, -0.39623654, -0.39387511, ..., -0.63575246,\n",
       "        -1.00248448,  1.00248448],\n",
       "       [ 0.40373143, -0.19395509, -0.27469188, ...,  1.57293926,\n",
       "         0.99752168, -0.99752168],\n",
       "       [-0.67398394, -0.41597132, -0.40642071, ...,  1.57293926,\n",
       "        -1.00248448,  1.00248448]])"
      ]
     },
     "execution_count": 102,
     "metadata": {},
     "output_type": "execute_result"
    }
   ],
   "source": [
    "X = StandardScaler().fit_transform(X)\n",
    "X"
   ]
  },
  {
   "cell_type": "code",
   "execution_count": 103,
   "id": "87080216",
   "metadata": {},
   "outputs": [],
   "source": [
    "pca = PCA(n_components = 3)\n",
    "df_pca=pca.fit_transform(X)"
   ]
  },
  {
   "cell_type": "code",
   "execution_count": 104,
   "id": "6304092f",
   "metadata": {},
   "outputs": [
    {
     "data": {
      "text/html": [
       "<div>\n",
       "<style scoped>\n",
       "    .dataframe tbody tr th:only-of-type {\n",
       "        vertical-align: middle;\n",
       "    }\n",
       "\n",
       "    .dataframe tbody tr th {\n",
       "        vertical-align: top;\n",
       "    }\n",
       "\n",
       "    .dataframe thead th {\n",
       "        text-align: right;\n",
       "    }\n",
       "</style>\n",
       "<table border=\"1\" class=\"dataframe\">\n",
       "  <thead>\n",
       "    <tr style=\"text-align: right;\">\n",
       "      <th></th>\n",
       "      <th>PC 1</th>\n",
       "      <th>PC 2</th>\n",
       "      <th>PC 3</th>\n",
       "    </tr>\n",
       "    <tr>\n",
       "      <th>cust</th>\n",
       "      <th></th>\n",
       "      <th></th>\n",
       "      <th></th>\n",
       "    </tr>\n",
       "  </thead>\n",
       "  <tbody>\n",
       "    <tr>\n",
       "      <th>98</th>\n",
       "      <td>0.303533</td>\n",
       "      <td>-0.271506</td>\n",
       "      <td>-2.773047</td>\n",
       "    </tr>\n",
       "    <tr>\n",
       "      <th>218</th>\n",
       "      <td>-0.027026</td>\n",
       "      <td>-2.486713</td>\n",
       "      <td>0.440175</td>\n",
       "    </tr>\n",
       "    <tr>\n",
       "      <th>345</th>\n",
       "      <td>-0.234493</td>\n",
       "      <td>-2.529222</td>\n",
       "      <td>0.338003</td>\n",
       "    </tr>\n",
       "    <tr>\n",
       "      <th>567</th>\n",
       "      <td>-1.525110</td>\n",
       "      <td>1.844554</td>\n",
       "      <td>0.010659</td>\n",
       "    </tr>\n",
       "    <tr>\n",
       "      <th>717</th>\n",
       "      <td>-0.446379</td>\n",
       "      <td>1.886757</td>\n",
       "      <td>-0.315264</td>\n",
       "    </tr>\n",
       "    <tr>\n",
       "      <th>767</th>\n",
       "      <td>-1.359978</td>\n",
       "      <td>-0.858719</td>\n",
       "      <td>1.939482</td>\n",
       "    </tr>\n",
       "    <tr>\n",
       "      <th>800</th>\n",
       "      <td>-1.028501</td>\n",
       "      <td>-0.891742</td>\n",
       "      <td>1.978001</td>\n",
       "    </tr>\n",
       "    <tr>\n",
       "      <th>806</th>\n",
       "      <td>-0.414992</td>\n",
       "      <td>-2.510524</td>\n",
       "      <td>0.359851</td>\n",
       "    </tr>\n",
       "    <tr>\n",
       "      <th>939</th>\n",
       "      <td>-1.388002</td>\n",
       "      <td>1.999442</td>\n",
       "      <td>0.072832</td>\n",
       "    </tr>\n",
       "    <tr>\n",
       "      <th>948</th>\n",
       "      <td>0.214485</td>\n",
       "      <td>0.342397</td>\n",
       "      <td>-1.534469</td>\n",
       "    </tr>\n",
       "  </tbody>\n",
       "</table>\n",
       "</div>"
      ],
      "text/plain": [
       "          PC 1      PC 2      PC 3\n",
       "cust                              \n",
       "98    0.303533 -0.271506 -2.773047\n",
       "218  -0.027026 -2.486713  0.440175\n",
       "345  -0.234493 -2.529222  0.338003\n",
       "567  -1.525110  1.844554  0.010659\n",
       "717  -0.446379  1.886757 -0.315264\n",
       "767  -1.359978 -0.858719  1.939482\n",
       "800  -1.028501 -0.891742  1.978001\n",
       "806  -0.414992 -2.510524  0.359851\n",
       "939  -1.388002  1.999442  0.072832\n",
       "948   0.214485  0.342397 -1.534469"
      ]
     },
     "execution_count": 104,
     "metadata": {},
     "output_type": "execute_result"
    }
   ],
   "source": [
    "# Create a DataFrame with the three principal components.\n",
    "pcs_df= pd.DataFrame(data=df_pca, columns=[\"PC 1\", \"PC 2\", \"PC 3\"], index = ml_df.index)\n",
    "pcs_df.head(10)"
   ]
  },
  {
   "cell_type": "code",
   "execution_count": 105,
   "id": "0d697efa",
   "metadata": {},
   "outputs": [
    {
     "data": {},
     "metadata": {},
     "output_type": "display_data"
    },
    {
     "data": {
      "application/vnd.holoviews_exec.v0+json": "",
      "text/html": [
       "<div id='1356'>\n",
       "\n",
       "\n",
       "\n",
       "\n",
       "\n",
       "  <div class=\"bk-root\" id=\"a1b52180-f186-4d39-9bec-7a3263e73bc2\" data-root-id=\"1356\"></div>\n",
       "</div>\n",
       "<script type=\"application/javascript\">(function(root) {\n",
       "  function embed_document(root) {\n",
       "    var docs_json = {\"76ef560d-656d-4790-9118-9538cb7d9ac9\":{\"defs\":[{\"extends\":null,\"module\":null,\"name\":\"ReactiveHTML1\",\"overrides\":[],\"properties\":[]},{\"extends\":null,\"module\":null,\"name\":\"FlexBox1\",\"overrides\":[],\"properties\":[{\"default\":\"flex-start\",\"kind\":null,\"name\":\"align_content\"},{\"default\":\"flex-start\",\"kind\":null,\"name\":\"align_items\"},{\"default\":\"row\",\"kind\":null,\"name\":\"flex_direction\"},{\"default\":\"wrap\",\"kind\":null,\"name\":\"flex_wrap\"},{\"default\":\"flex-start\",\"kind\":null,\"name\":\"justify_content\"}]},{\"extends\":null,\"module\":null,\"name\":\"TemplateActions1\",\"overrides\":[],\"properties\":[{\"default\":0,\"kind\":null,\"name\":\"open_modal\"},{\"default\":0,\"kind\":null,\"name\":\"close_modal\"}]},{\"extends\":null,\"module\":null,\"name\":\"MaterialTemplateActions1\",\"overrides\":[],\"properties\":[{\"default\":0,\"kind\":null,\"name\":\"open_modal\"},{\"default\":0,\"kind\":null,\"name\":\"close_modal\"}]}],\"roots\":{\"references\":[{\"attributes\":{},\"id\":\"1366\",\"type\":\"LinearScale\"},{\"attributes\":{\"axis_label\":\"k\",\"formatter\":{\"id\":\"1402\"},\"major_label_policy\":{\"id\":\"1401\"},\"ticker\":{\"id\":\"1400\"}},\"id\":\"1370\",\"type\":\"LinearAxis\"},{\"attributes\":{\"callback\":null,\"renderers\":[{\"id\":\"1397\"}],\"tags\":[\"hv_created\"],\"tooltips\":[[\"k\",\"@{k}\"],[\"inertia\",\"@{inertia}\"]]},\"id\":\"1360\",\"type\":\"HoverTool\"},{\"attributes\":{},\"id\":\"1406\",\"type\":\"AllLabels\"},{\"attributes\":{},\"id\":\"1368\",\"type\":\"LinearScale\"},{\"attributes\":{\"axis_label\":\"inertia\",\"formatter\":{\"id\":\"1407\"},\"major_label_policy\":{\"id\":\"1406\"},\"ticker\":{\"id\":\"1375\"}},\"id\":\"1374\",\"type\":\"LinearAxis\"},{\"attributes\":{\"source\":{\"id\":\"1391\"}},\"id\":\"1398\",\"type\":\"CDSView\"},{\"attributes\":{},\"id\":\"1401\",\"type\":\"AllLabels\"},{\"attributes\":{},\"id\":\"1378\",\"type\":\"SaveTool\"},{\"attributes\":{},\"id\":\"1402\",\"type\":\"BasicTickFormatter\"},{\"attributes\":{},\"id\":\"1379\",\"type\":\"PanTool\"},{\"attributes\":{},\"id\":\"1407\",\"type\":\"BasicTickFormatter\"},{\"attributes\":{},\"id\":\"1382\",\"type\":\"ResetTool\"},{\"attributes\":{},\"id\":\"1380\",\"type\":\"WheelZoomTool\"},{\"attributes\":{\"line_color\":\"#30a2da\",\"line_width\":2,\"x\":{\"field\":\"k\"},\"y\":{\"field\":\"inertia\"}},\"id\":\"1394\",\"type\":\"Line\"},{\"attributes\":{\"line_color\":\"#30a2da\",\"line_width\":2,\"x\":{\"field\":\"k\"},\"y\":{\"field\":\"inertia\"}},\"id\":\"1399\",\"type\":\"Line\"},{\"attributes\":{\"end\":10.0,\"reset_end\":10.0,\"reset_start\":1.0,\"start\":1.0,\"tags\":[[[\"k\",\"k\",null]]]},\"id\":\"1358\",\"type\":\"Range1d\"},{\"attributes\":{\"overlay\":{\"id\":\"1383\"}},\"id\":\"1381\",\"type\":\"BoxZoomTool\"},{\"attributes\":{\"line_alpha\":0.2,\"line_color\":\"#30a2da\",\"line_width\":2,\"x\":{\"field\":\"k\"},\"y\":{\"field\":\"inertia\"}},\"id\":\"1396\",\"type\":\"Line\"},{\"attributes\":{},\"id\":\"1417\",\"type\":\"UnionRenderers\"},{\"attributes\":{\"data\":{\"inertia\":{\"__ndarray__\":\"wIF9GgKdsEAB0h1TjIOlQAsge0B9JZ1AFRlwsRvYlEDDYQLpMZOPQP1vmhHy14dAITaJvoWzg0CQzcunwIOBQJhHAso4mnxADg4FouZ2eEA=\",\"dtype\":\"float64\",\"order\":\"little\",\"shape\":[10]},\"k\":[1,2,3,4,5,6,7,8,9,10]},\"selected\":{\"id\":\"1392\"},\"selection_policy\":{\"id\":\"1417\"}},\"id\":\"1391\",\"type\":\"ColumnDataSource\"},{\"attributes\":{},\"id\":\"1375\",\"type\":\"BasicTicker\"},{\"attributes\":{\"children\":[{\"id\":\"1357\"},{\"id\":\"1361\"},{\"id\":\"1427\"}],\"margin\":[0,0,0,0],\"name\":\"Row02161\",\"tags\":[\"embedded\"]},\"id\":\"1356\",\"type\":\"Row\"},{\"attributes\":{\"axis\":{\"id\":\"1374\"},\"dimension\":1,\"grid_line_color\":null,\"ticker\":null},\"id\":\"1377\",\"type\":\"Grid\"},{\"attributes\":{\"end\":4639.165907694454,\"reset_end\":4639.165907694454,\"reset_start\":5.273615872671655,\"start\":5.273615872671655,\"tags\":[[[\"inertia\",\"inertia\",null]]]},\"id\":\"1359\",\"type\":\"Range1d\"},{\"attributes\":{\"margin\":[5,5,5,5],\"name\":\"HSpacer02165\",\"sizing_mode\":\"stretch_width\"},\"id\":\"1357\",\"type\":\"Spacer\"},{\"attributes\":{\"below\":[{\"id\":\"1370\"}],\"center\":[{\"id\":\"1373\"},{\"id\":\"1377\"}],\"height\":300,\"left\":[{\"id\":\"1374\"}],\"margin\":[5,5,5,5],\"min_border_bottom\":10,\"min_border_left\":10,\"min_border_right\":10,\"min_border_top\":10,\"renderers\":[{\"id\":\"1397\"}],\"sizing_mode\":\"fixed\",\"title\":{\"id\":\"1362\"},\"toolbar\":{\"id\":\"1384\"},\"width\":700,\"x_range\":{\"id\":\"1358\"},\"x_scale\":{\"id\":\"1366\"},\"y_range\":{\"id\":\"1359\"},\"y_scale\":{\"id\":\"1368\"}},\"id\":\"1361\",\"subtype\":\"Figure\",\"type\":\"Plot\"},{\"attributes\":{\"line_alpha\":0.1,\"line_color\":\"#30a2da\",\"line_width\":2,\"x\":{\"field\":\"k\"},\"y\":{\"field\":\"inertia\"}},\"id\":\"1395\",\"type\":\"Line\"},{\"attributes\":{\"data_source\":{\"id\":\"1391\"},\"glyph\":{\"id\":\"1394\"},\"hover_glyph\":null,\"muted_glyph\":{\"id\":\"1396\"},\"nonselection_glyph\":{\"id\":\"1395\"},\"selection_glyph\":{\"id\":\"1399\"},\"view\":{\"id\":\"1398\"}},\"id\":\"1397\",\"type\":\"GlyphRenderer\"},{\"attributes\":{\"active_multi\":null,\"tools\":[{\"id\":\"1360\"},{\"id\":\"1378\"},{\"id\":\"1379\"},{\"id\":\"1380\"},{\"id\":\"1381\"},{\"id\":\"1382\"}]},\"id\":\"1384\",\"type\":\"Toolbar\"},{\"attributes\":{},\"id\":\"1392\",\"type\":\"Selection\"},{\"attributes\":{\"axis\":{\"id\":\"1370\"},\"grid_line_color\":null,\"ticker\":null},\"id\":\"1373\",\"type\":\"Grid\"},{\"attributes\":{\"bottom_units\":\"screen\",\"fill_alpha\":0.5,\"fill_color\":\"lightgrey\",\"left_units\":\"screen\",\"level\":\"overlay\",\"line_alpha\":1.0,\"line_color\":\"black\",\"line_dash\":[4,4],\"line_width\":2,\"right_units\":\"screen\",\"syncable\":false,\"top_units\":\"screen\"},\"id\":\"1383\",\"type\":\"BoxAnnotation\"},{\"attributes\":{\"text\":\"Elbow Curve\",\"text_color\":\"black\",\"text_font_size\":\"12pt\"},\"id\":\"1362\",\"type\":\"Title\"},{\"attributes\":{\"ticks\":[1,2,3,4,5,6,7,8,9,10]},\"id\":\"1400\",\"type\":\"FixedTicker\"},{\"attributes\":{\"margin\":[5,5,5,5],\"name\":\"HSpacer02166\",\"sizing_mode\":\"stretch_width\"},\"id\":\"1427\",\"type\":\"Spacer\"}],\"root_ids\":[\"1356\"]},\"title\":\"Bokeh Application\",\"version\":\"2.3.2\"}};\n",
       "    var render_items = [{\"docid\":\"76ef560d-656d-4790-9118-9538cb7d9ac9\",\"root_ids\":[\"1356\"],\"roots\":{\"1356\":\"a1b52180-f186-4d39-9bec-7a3263e73bc2\"}}];\n",
       "    root.Bokeh.embed.embed_items_notebook(docs_json, render_items);\n",
       "  }\n",
       "  if (root.Bokeh !== undefined && root.Bokeh.Panel !== undefined) {\n",
       "    embed_document(root);\n",
       "  } else {\n",
       "    var attempts = 0;\n",
       "    var timer = setInterval(function(root) {\n",
       "      if (root.Bokeh !== undefined && root.Bokeh.Panel !== undefined) {\n",
       "        clearInterval(timer);\n",
       "        embed_document(root);\n",
       "      } else if (document.readyState == \"complete\") {\n",
       "        attempts++;\n",
       "        if (attempts > 200) {\n",
       "          clearInterval(timer);\n",
       "          console.log(\"Bokeh: ERROR: Unable to run BokehJS code because BokehJS library is missing\");\n",
       "        }\n",
       "      }\n",
       "    }, 25, root)\n",
       "  }\n",
       "})(window);</script>"
      ],
      "text/plain": [
       ":Curve   [k]   (inertia)"
      ]
     },
     "execution_count": 105,
     "metadata": {
      "application/vnd.holoviews_exec.v0+json": {
       "id": "1356"
      }
     },
     "output_type": "execute_result"
    }
   ],
   "source": [
    "inertia = []\n",
    "k = list(range(1, 11))\n",
    "# Looking for the best K\n",
    "for i in k:\n",
    "    km = KMeans(n_clusters=i, random_state=0)\n",
    "    km.fit(pcs_df)\n",
    "    inertia.append(km.inertia_)\n",
    "# Create the elbow curve\n",
    "elbow_data = {\"k\": k, \"inertia\": inertia}\n",
    "df_elbow = pd.DataFrame(elbow_data)\n",
    "df_elbow.hvplot.line(x=\"k\", y=\"inertia\", xticks=k, title=\"Elbow Curve\")"
   ]
  },
  {
   "cell_type": "code",
   "execution_count": 106,
   "id": "ef5c7766",
   "metadata": {},
   "outputs": [
    {
     "name": "stdout",
     "output_type": "stream",
     "text": [
      "[1 2 2 0 0 2 2 2 0 1 2 2 2 0 1 2 2 2 0 2 2 2 0 1 0 2 2 0 2 2 2 2 2 2 2 0 2\n",
      " 2 0 0 2 1 2 0 2 0 0 0 2 2 2 2 0 0 0 0 0 2 0 0 2 2 0 0 2 2 1 0 1 0 2 1 2 0\n",
      " 0 0 2 2 1 2 2 2 0 2 2 2 0 1 2 0 0 0 2 0 1 0 1 0 2 2 2 2 0 2 1 1 0 1 0 3 1\n",
      " 0 1 0 0 0 1 0 3 0 3 1 1 2 0 0 0 1 3 1 1 1 0 1 1 1 1 0 0 0 0 1 1 0 1 0 3 1\n",
      " 2 1 1 1 1 1 0 0 1 1 1 1 0 3 1 0 0 0 0 1 2 2 2 2 2 2 2 2 2 2 0 2 2 0 1 2 2\n",
      " 2 2 2 0 2 0 2 2 2 2 0 2 3 0 2 1 1 1 1 2 2 2 2 0 2 1 2 1 0 2 1 0 2 2 0 0 3\n",
      " 0 2 2 0 1 0 0 0 2 1 2 2 0 0 1 1 2 0 2 2 2 3 0 1 2 2 0 2 2 2 0 1 2 0 1 3 1\n",
      " 1 2 2 0 0 2 0 0 2 1 1 0 0 0 2 2 0 2 1 0 0 0 0 2 2 2 2 0 0 0 2 0 1 0 0 0 0\n",
      " 1 3 2 2 2 0 3 0 2 0 2 2 1 1 0 2 0 1 2 2 0 1 0 2 0 0 0 2 0 2 0 0 0 0 2 2 0\n",
      " 2 2 1 0 3 2 2 0 2 1 0 1 0 1 1 1 2 0 0 0 2 0 2 0 0 2 0 0 0 1 1 3 2 0 1 1 1\n",
      " 0 0 1 1 0 2 1 1 1 0 0 1 1 1 0 0 0 0 0 0 1 0 0 2 0 2 2 0 0 0 0 2 0]\n"
     ]
    }
   ],
   "source": [
    "# Initialize the K-means model\n",
    "model = KMeans(n_clusters=4, random_state=5)\n",
    "\n",
    "# Fit the model\n",
    "model.fit(pcs_df)\n",
    "\n",
    "# Predict clusters\n",
    "predictions = model.predict(pcs_df)\n",
    "print(predictions)"
   ]
  },
  {
   "cell_type": "code",
   "execution_count": 107,
   "id": "381f67bc",
   "metadata": {},
   "outputs": [
    {
     "name": "stdout",
     "output_type": "stream",
     "text": [
      "(403, 14)\n"
     ]
    },
    {
     "data": {
      "text/html": [
       "<div>\n",
       "<style scoped>\n",
       "    .dataframe tbody tr th:only-of-type {\n",
       "        vertical-align: middle;\n",
       "    }\n",
       "\n",
       "    .dataframe tbody tr th {\n",
       "        vertical-align: top;\n",
       "    }\n",
       "\n",
       "    .dataframe thead th {\n",
       "        text-align: right;\n",
       "    }\n",
       "</style>\n",
       "<table border=\"1\" class=\"dataframe\">\n",
       "  <thead>\n",
       "    <tr style=\"text-align: right;\">\n",
       "      <th></th>\n",
       "      <th>monthly_bill</th>\n",
       "      <th>tax_body</th>\n",
       "      <th>biz_type</th>\n",
       "      <th>total_yards</th>\n",
       "      <th>garbage</th>\n",
       "      <th>recycle</th>\n",
       "      <th>needed_recycle</th>\n",
       "      <th>compost</th>\n",
       "      <th>needed_compost</th>\n",
       "      <th>enough_recycle_compost</th>\n",
       "      <th>PC 1</th>\n",
       "      <th>PC 2</th>\n",
       "      <th>PC 3</th>\n",
       "      <th>Class</th>\n",
       "    </tr>\n",
       "    <tr>\n",
       "      <th>cust</th>\n",
       "      <th></th>\n",
       "      <th></th>\n",
       "      <th></th>\n",
       "      <th></th>\n",
       "      <th></th>\n",
       "      <th></th>\n",
       "      <th></th>\n",
       "      <th></th>\n",
       "      <th></th>\n",
       "      <th></th>\n",
       "      <th></th>\n",
       "      <th></th>\n",
       "      <th></th>\n",
       "      <th></th>\n",
       "    </tr>\n",
       "  </thead>\n",
       "  <tbody>\n",
       "    <tr>\n",
       "      <th>98</th>\n",
       "      <td>888.98</td>\n",
       "      <td>C</td>\n",
       "      <td>MINI MART</td>\n",
       "      <td>20.00</td>\n",
       "      <td>4.00</td>\n",
       "      <td>16.00</td>\n",
       "      <td>2</td>\n",
       "      <td>0.00</td>\n",
       "      <td>1</td>\n",
       "      <td>No</td>\n",
       "      <td>0.303533</td>\n",
       "      <td>-0.271506</td>\n",
       "      <td>-2.773047</td>\n",
       "      <td>1</td>\n",
       "    </tr>\n",
       "    <tr>\n",
       "      <th>218</th>\n",
       "      <td>965.40</td>\n",
       "      <td>COUNTY</td>\n",
       "      <td>WINERY</td>\n",
       "      <td>9.92</td>\n",
       "      <td>4.00</td>\n",
       "      <td>5.44</td>\n",
       "      <td>2</td>\n",
       "      <td>0.48</td>\n",
       "      <td>1</td>\n",
       "      <td>No</td>\n",
       "      <td>-0.027026</td>\n",
       "      <td>-2.486713</td>\n",
       "      <td>0.440175</td>\n",
       "      <td>2</td>\n",
       "    </tr>\n",
       "    <tr>\n",
       "      <th>345</th>\n",
       "      <td>890.40</td>\n",
       "      <td>COUNTY</td>\n",
       "      <td>WINERY</td>\n",
       "      <td>4.00</td>\n",
       "      <td>4.00</td>\n",
       "      <td>0.00</td>\n",
       "      <td>2</td>\n",
       "      <td>0.00</td>\n",
       "      <td>1</td>\n",
       "      <td>No</td>\n",
       "      <td>-0.234493</td>\n",
       "      <td>-2.529222</td>\n",
       "      <td>0.338003</td>\n",
       "      <td>2</td>\n",
       "    </tr>\n",
       "    <tr>\n",
       "      <th>567</th>\n",
       "      <td>97.87</td>\n",
       "      <td>S</td>\n",
       "      <td>MEDICAL</td>\n",
       "      <td>0.96</td>\n",
       "      <td>0.48</td>\n",
       "      <td>0.48</td>\n",
       "      <td>0</td>\n",
       "      <td>0.00</td>\n",
       "      <td>0</td>\n",
       "      <td>Yes</td>\n",
       "      <td>-1.525110</td>\n",
       "      <td>1.844554</td>\n",
       "      <td>0.010659</td>\n",
       "      <td>0</td>\n",
       "    </tr>\n",
       "    <tr>\n",
       "      <th>717</th>\n",
       "      <td>65.25</td>\n",
       "      <td>S</td>\n",
       "      <td>GROCERY</td>\n",
       "      <td>0.80</td>\n",
       "      <td>0.32</td>\n",
       "      <td>0.48</td>\n",
       "      <td>0</td>\n",
       "      <td>0.00</td>\n",
       "      <td>0</td>\n",
       "      <td>Yes</td>\n",
       "      <td>-0.446379</td>\n",
       "      <td>1.886757</td>\n",
       "      <td>-0.315264</td>\n",
       "      <td>0</td>\n",
       "    </tr>\n",
       "    <tr>\n",
       "      <th>767</th>\n",
       "      <td>89.71</td>\n",
       "      <td>COUNTY</td>\n",
       "      <td>WINERY</td>\n",
       "      <td>1.28</td>\n",
       "      <td>0.32</td>\n",
       "      <td>0.48</td>\n",
       "      <td>0</td>\n",
       "      <td>0.48</td>\n",
       "      <td>0</td>\n",
       "      <td>Yes</td>\n",
       "      <td>-1.359978</td>\n",
       "      <td>-0.858719</td>\n",
       "      <td>1.939482</td>\n",
       "      <td>2</td>\n",
       "    </tr>\n",
       "    <tr>\n",
       "      <th>800</th>\n",
       "      <td>706.50</td>\n",
       "      <td>COUNTY</td>\n",
       "      <td>WINERY</td>\n",
       "      <td>4.32</td>\n",
       "      <td>1.44</td>\n",
       "      <td>2.88</td>\n",
       "      <td>1</td>\n",
       "      <td>0.00</td>\n",
       "      <td>0</td>\n",
       "      <td>Yes</td>\n",
       "      <td>-1.028501</td>\n",
       "      <td>-0.891742</td>\n",
       "      <td>1.978001</td>\n",
       "      <td>2</td>\n",
       "    </tr>\n",
       "    <tr>\n",
       "      <th>806</th>\n",
       "      <td>597.92</td>\n",
       "      <td>COUNTY</td>\n",
       "      <td>WINERY</td>\n",
       "      <td>3.44</td>\n",
       "      <td>2.00</td>\n",
       "      <td>1.44</td>\n",
       "      <td>1</td>\n",
       "      <td>0.00</td>\n",
       "      <td>1</td>\n",
       "      <td>No</td>\n",
       "      <td>-0.414992</td>\n",
       "      <td>-2.510524</td>\n",
       "      <td>0.359851</td>\n",
       "      <td>2</td>\n",
       "    </tr>\n",
       "    <tr>\n",
       "      <th>939</th>\n",
       "      <td>195.74</td>\n",
       "      <td>S</td>\n",
       "      <td>OFFICE BLD</td>\n",
       "      <td>2.88</td>\n",
       "      <td>0.96</td>\n",
       "      <td>0.48</td>\n",
       "      <td>0</td>\n",
       "      <td>1.44</td>\n",
       "      <td>0</td>\n",
       "      <td>Yes</td>\n",
       "      <td>-1.388002</td>\n",
       "      <td>1.999442</td>\n",
       "      <td>0.072832</td>\n",
       "      <td>0</td>\n",
       "    </tr>\n",
       "    <tr>\n",
       "      <th>948</th>\n",
       "      <td>842.69</td>\n",
       "      <td>C</td>\n",
       "      <td>RESTAURANT</td>\n",
       "      <td>4.00</td>\n",
       "      <td>4.00</td>\n",
       "      <td>0.00</td>\n",
       "      <td>2</td>\n",
       "      <td>0.00</td>\n",
       "      <td>1</td>\n",
       "      <td>No</td>\n",
       "      <td>0.214485</td>\n",
       "      <td>0.342397</td>\n",
       "      <td>-1.534469</td>\n",
       "      <td>1</td>\n",
       "    </tr>\n",
       "  </tbody>\n",
       "</table>\n",
       "</div>"
      ],
      "text/plain": [
       "      monthly_bill tax_body    biz_type  total_yards  garbage  recycle  \\\n",
       "cust                                                                     \n",
       "98          888.98        C   MINI MART        20.00     4.00    16.00   \n",
       "218         965.40   COUNTY      WINERY         9.92     4.00     5.44   \n",
       "345         890.40   COUNTY      WINERY         4.00     4.00     0.00   \n",
       "567          97.87        S     MEDICAL         0.96     0.48     0.48   \n",
       "717          65.25        S     GROCERY         0.80     0.32     0.48   \n",
       "767          89.71   COUNTY      WINERY         1.28     0.32     0.48   \n",
       "800         706.50   COUNTY      WINERY         4.32     1.44     2.88   \n",
       "806         597.92   COUNTY      WINERY         3.44     2.00     1.44   \n",
       "939         195.74        S  OFFICE BLD         2.88     0.96     0.48   \n",
       "948         842.69        C  RESTAURANT         4.00     4.00     0.00   \n",
       "\n",
       "      needed_recycle  compost  needed_compost enough_recycle_compost  \\\n",
       "cust                                                                   \n",
       "98                 2     0.00               1                     No   \n",
       "218                2     0.48               1                     No   \n",
       "345                2     0.00               1                     No   \n",
       "567                0     0.00               0                    Yes   \n",
       "717                0     0.00               0                    Yes   \n",
       "767                0     0.48               0                    Yes   \n",
       "800                1     0.00               0                    Yes   \n",
       "806                1     0.00               1                     No   \n",
       "939                0     1.44               0                    Yes   \n",
       "948                2     0.00               1                     No   \n",
       "\n",
       "          PC 1      PC 2      PC 3  Class  \n",
       "cust                                       \n",
       "98    0.303533 -0.271506 -2.773047      1  \n",
       "218  -0.027026 -2.486713  0.440175      2  \n",
       "345  -0.234493 -2.529222  0.338003      2  \n",
       "567  -1.525110  1.844554  0.010659      0  \n",
       "717  -0.446379  1.886757 -0.315264      0  \n",
       "767  -1.359978 -0.858719  1.939482      2  \n",
       "800  -1.028501 -0.891742  1.978001      2  \n",
       "806  -0.414992 -2.510524  0.359851      2  \n",
       "939  -1.388002  1.999442  0.072832      0  \n",
       "948   0.214485  0.342397 -1.534469      1  "
      ]
     },
     "execution_count": 107,
     "metadata": {},
     "output_type": "execute_result"
    }
   ],
   "source": [
    "# Create a new DataFrame including predicted clusters and cryptocurrencies features.\n",
    "# Concatentate the crypto_df and pcs_df DataFrames on the same columns.\n",
    "clustered_df = pd.concat([ml_df, pcs_df], axis = 1)\n",
    "#  Add a new column, \"Class\" to the clustered_df DataFrame that holds the predictions.\n",
    "clustered_df[\"Class\"] = model.labels_\n",
    "\n",
    "# Print the shape of the clustered_df\n",
    "print(clustered_df.shape)\n",
    "clustered_df.head(10)"
   ]
  },
  {
   "cell_type": "code",
   "execution_count": 109,
   "id": "ce8c1e77",
   "metadata": {},
   "outputs": [
    {
     "data": {
      "application/vnd.plotly.v1+json": {
       "config": {
        "plotlyServerURL": "https://plot.ly"
       },
       "data": [
        {
         "customdata": [
          [
           "No"
          ],
          [
           "No"
          ],
          [
           "No"
          ],
          [
           "No"
          ],
          [
           "No"
          ],
          [
           "No"
          ],
          [
           "No"
          ],
          [
           "No"
          ],
          [
           "No"
          ],
          [
           "No"
          ],
          [
           "No"
          ],
          [
           "No"
          ],
          [
           "No"
          ],
          [
           "No"
          ],
          [
           "No"
          ],
          [
           "No"
          ],
          [
           "No"
          ],
          [
           "No"
          ],
          [
           "No"
          ],
          [
           "No"
          ],
          [
           "No"
          ],
          [
           "No"
          ],
          [
           "No"
          ],
          [
           "No"
          ],
          [
           "No"
          ],
          [
           "No"
          ],
          [
           "No"
          ],
          [
           "No"
          ],
          [
           "No"
          ],
          [
           "No"
          ],
          [
           "No"
          ],
          [
           "No"
          ],
          [
           "No"
          ],
          [
           "No"
          ],
          [
           "No"
          ],
          [
           "No"
          ],
          [
           "No"
          ],
          [
           "No"
          ],
          [
           "No"
          ],
          [
           "No"
          ],
          [
           "No"
          ],
          [
           "No"
          ],
          [
           "No"
          ],
          [
           "No"
          ],
          [
           "No"
          ],
          [
           "No"
          ],
          [
           "No"
          ],
          [
           "No"
          ],
          [
           "No"
          ],
          [
           "No"
          ],
          [
           "No"
          ],
          [
           "No"
          ],
          [
           "No"
          ],
          [
           "No"
          ],
          [
           "No"
          ],
          [
           "No"
          ],
          [
           "No"
          ],
          [
           "No"
          ],
          [
           "No"
          ],
          [
           "No"
          ],
          [
           "No"
          ],
          [
           "No"
          ],
          [
           "No"
          ],
          [
           "No"
          ],
          [
           "No"
          ],
          [
           "No"
          ],
          [
           "No"
          ],
          [
           "No"
          ],
          [
           "No"
          ],
          [
           "No"
          ],
          [
           "No"
          ],
          [
           "No"
          ],
          [
           "No"
          ],
          [
           "No"
          ],
          [
           "No"
          ],
          [
           "No"
          ],
          [
           "No"
          ],
          [
           "No"
          ],
          [
           "No"
          ],
          [
           "No"
          ],
          [
           "No"
          ],
          [
           "No"
          ],
          [
           "No"
          ],
          [
           "No"
          ],
          [
           "No"
          ],
          [
           "No"
          ],
          [
           "No"
          ],
          [
           "No"
          ],
          [
           "No"
          ]
         ],
         "hovertemplate": "<b>%{hovertext}</b><br><br>Class=%{marker.color}<br>PC 1=%{x}<br>PC 2=%{y}<br>PC 3=%{z}<br>enough_recycle_compost=%{customdata[0]}<extra></extra>",
         "hovertext": [
          "MINI MART",
          "RESTAURANT",
          "FLORIST",
          "MULTIFAMIL",
          "STRIP MALL",
          "CONTRACTOR",
          "MIXED USE",
          "GROCERY",
          "MULTIFAMIL",
          "RESTAURANT",
          "MULTIFAMIL",
          "LODGING",
          "MULTIFAMIL",
          "LODGING",
          "STRIP MALL",
          "LODGING",
          "RETAIL",
          "LODGING",
          "AUTO",
          "LODGING-FW",
          "RESTAURANT",
          "AUTO",
          "HOME IMPRO",
          "RETAIL",
          "AUTO",
          "UTILITY",
          "AUTO",
          "MULTIFAMIL",
          "GROCERY",
          "SCHOOL",
          "MEDICAL",
          "INDUSTRIAL",
          "NRSG HOME",
          "MULTIFAMIL",
          "MULTIFAMIL",
          "OFFICE BLD",
          "MULTIFAMIL",
          "COMMUNITY",
          "CHURCH",
          "OFFICE BLD",
          "CONTRACTOR",
          "LODGING",
          "NRSG HOME",
          "MINI MART",
          "HOME IMPRO",
          "MEDICAL",
          "OFFICE BLD",
          "LODGING",
          "OFFICE BLD",
          "OFFICE BLD",
          "UTILITY",
          "SCHOOL",
          "BAR NO FW",
          "MULTIFAMIL",
          "RETAIL",
          "LANDSCAPER",
          "RETAIL",
          "LODGING",
          "MULTIFAMIL",
          "MULTIFAMIL",
          "HOA",
          "MULTIFAMIL",
          "MULTIFAMIL",
          "LODGING-FW",
          "LODGING",
          "SCHOOL",
          "MULTIFAMIL",
          "MULTIFAMIL",
          "MULTIFAMIL",
          "VINEYARD",
          "LODGING",
          "LODGING",
          "MINI MART",
          "MULTIFAMIL",
          "MULTIFAMIL",
          "BAR NO FW",
          "BAKERY",
          "MULTIFAMIL",
          "RESTAURANT",
          "MULTIFAMIL",
          "LODGING",
          "LODGING-FW",
          "MULTIFAMIL",
          "RESTAURANT",
          "LODGING-FW",
          "MULTIFAMIL",
          "DELI/CAFE",
          "RESTAURANT",
          "RESTAURANT"
         ],
         "legendgroup": "1",
         "marker": {
          "color": [
           1,
           1,
           1,
           1,
           1,
           1,
           1,
           1,
           1,
           1,
           1,
           1,
           1,
           1,
           1,
           1,
           1,
           1,
           1,
           1,
           1,
           1,
           1,
           1,
           1,
           1,
           1,
           1,
           1,
           1,
           1,
           1,
           1,
           1,
           1,
           1,
           1,
           1,
           1,
           1,
           1,
           1,
           1,
           1,
           1,
           1,
           1,
           1,
           1,
           1,
           1,
           1,
           1,
           1,
           1,
           1,
           1,
           1,
           1,
           1,
           1,
           1,
           1,
           1,
           1,
           1,
           1,
           1,
           1,
           1,
           1,
           1,
           1,
           1,
           1,
           1,
           1,
           1,
           1,
           1,
           1,
           1,
           1,
           1,
           1,
           1,
           1,
           1,
           1
          ],
          "coloraxis": "coloraxis",
          "symbol": "circle"
         },
         "mode": "markers",
         "name": "1",
         "scene": "scene",
         "showlegend": true,
         "type": "scatter3d",
         "x": [
          0.3035333942138717,
          0.2144853129441126,
          -0.5026633399825959,
          0.1654019781733543,
          -0.4356949957682667,
          -0.660218345090457,
          1.8191268540944285,
          3.454247820543207,
          -0.6141754776736159,
          2.411257357512118,
          2.289351067192814,
          1.3726320813692647,
          -0.4868661258631489,
          1.526003836112415,
          0.48325395454442577,
          3.7097483693976163,
          -0.6105598451948852,
          0.4972856617208037,
          -0.17457523925222537,
          3.610677685435465,
          3.1904584526348443,
          -0.5781061396964485,
          0.13409178867616767,
          -0.6776803788914568,
          -0.32991029541541794,
          -0.35462303119553645,
          -0.1866613426269813,
          0.8787091509303578,
          0.48010853490634864,
          -0.5858998834953446,
          -0.4846397385669886,
          -0.23758848910547828,
          3.9932134592917636,
          -0.09033123890368358,
          -0.5171936416191968,
          -0.3705911953932554,
          -0.4777561044172071,
          -0.7248296865783341,
          -0.6573735944824868,
          5.291266264188618,
          -0.6307737492668156,
          1.7641479031587326,
          2.145594110460367,
          -0.4783877440714775,
          -0.13821886063790814,
          -0.5114639256379763,
          -0.589956183966577,
          -0.35611308538639025,
          -0.5106541695766379,
          1.125438030997493,
          -0.21113419847220574,
          0.05886714079173139,
          -0.2581296623434972,
          -0.18330289519026405,
          -0.6924026768032778,
          -0.661111564229094,
          -0.8912497091939716,
          4.087869402026665,
          0.1264759575778093,
          -0.2714857203769727,
          1.1392821822324621,
          -0.39905470400240184,
          0.05623462905180758,
          5.029634057940791,
          0.4102330642024113,
          -0.3170669141641118,
          0.014820686146203257,
          -0.4492194878717989,
          3.2467652230596076,
          0.023503102056063277,
          -0.0823398808396375,
          -0.24458906208537587,
          -0.20801288630497222,
          -0.5120512101898405,
          -0.4973289122780193,
          -0.41080015508636597,
          -0.40178860573605835,
          1.2300253618809922,
          -0.15953320321582248,
          0.03269769451974753,
          -0.007036827205080011,
          -0.2858613770597842,
          1.2662044259788665,
          5.025486669096887,
          -0.2566958864613108,
          -0.47675860167884027,
          -0.3067015700943393,
          -0.030480128899285332,
          0.7250571835907869
         ],
         "y": [
          -0.27150556317901825,
          0.3423970517325497,
          -0.22951944946541222,
          0.09044263975254375,
          0.14531345364207882,
          -0.5428039148944979,
          -0.3786700369435694,
          0.6030897057075855,
          0.10893983935636864,
          0.39486962523706826,
          0.10915136613722325,
          -0.14523941768176823,
          0.09189400622685363,
          -0.12460984187138982,
          0.17161974894117343,
          -0.06056356319078709,
          0.24727864673671507,
          -0.10355194426979933,
          0.07864534165713925,
          0.08383723742966856,
          0.5241023542945007,
          0.06252632036848516,
          0.2379808278247071,
          0.30380986634718976,
          0.11450775369791939,
          -0.14839039489486866,
          0.08550680171346123,
          0.2513808710927726,
          0.2755956796935303,
          0.0022106672231033612,
          0.23914276609815127,
          -0.7521690957227666,
          -0.15825983853497194,
          0.12299384368137872,
          0.15774939695131596,
          0.34070863979940025,
          0.08228139667969073,
          0.4411328933667844,
          0.33704847201694677,
          0.4649487062209558,
          -0.5367865446172321,
          -0.17755982691274563,
          -0.3447481383824932,
          -0.28616092525837344,
          0.2394578499156743,
          0.17635554387263624,
          0.3375273944814558,
          -0.0811682401803145,
          0.361335708779389,
          0.37152143119221726,
          -0.1282871138997194,
          -0.00539800634605345,
          -0.47104774973024727,
          0.09960132802785054,
          0.30080118120855676,
          -0.5690801181238316,
          0.3080511526244208,
          0.007894670486028712,
          0.08162796652897421,
          0.07138900667032118,
          0.10783928176669787,
          0.10769641509091665,
          0.04748598092739336,
          0.0883720585244647,
          -0.042259668949903274,
          -0.01654836624428893,
          0.02139064830126851,
          0.10753959258622552,
          0.16271546330194825,
          -0.688308979201202,
          -0.0779325387772548,
          -0.10667795404680618,
          -0.36682597263999667,
          0.16192355345311407,
          0.16493223859174727,
          -0.3901742858069157,
          0.3693841208834799,
          0.06631237499298419,
          0.36931849764254954,
          0.10242743090443378,
          -0.13641826915071195,
          -0.08397038441455812,
          0.10166278253171765,
          0.32848319312311897,
          -0.10231278689480434,
          0.10646957001767317,
          0.40151388265153537,
          0.4703433502188333,
          0.2565126539417977
         ],
         "z": [
          -2.7730473995288643,
          -1.5344693067861552,
          -2.7947504045660936,
          -2.294072469661483,
          -2.0121927547057634,
          -1.4415096770195697,
          -1.4091326722141966,
          -1.5213502361498175,
          -2.2917723434524118,
          -1.007972753050059,
          -2.5719788738551124,
          -2.7197570730540686,
          -2.328658484652813,
          -2.647698865091604,
          -1.9183064182030347,
          -3.0128394223923936,
          -1.8220725160121827,
          -2.57631377722611,
          -2.2397969169710974,
          -1.9741965550906266,
          -1.9456924237360247,
          -2.315966148609691,
          -1.3608276619030242,
          -1.7221455733061197,
          -2.1882075458007657,
          -1.7201115531550801,
          -2.234761820127208,
          -2.0142548772343085,
          -1.8700463699472023,
          -1.5228068244468536,
          -1.572179794848808,
          -2.2451170278426433,
          -3.4698318390563228,
          -2.150174650726826,
          -2.204653838029644,
          -1.555671392726503,
          -2.3380961639085496,
          -1.3312972105181962,
          -1.130215880593063,
          -2.388761222435336,
          -1.4278990815931092,
          -2.1845223421087874,
          -2.721758406712574,
          -2.889140498273268,
          -1.380691975261301,
          -1.6336655663980362,
          -1.5645843001670185,
          -2.44007322790673,
          -1.511903068898876,
          -1.705072894627501,
          -1.658135553447071,
          -1.5063074234683207,
          -2.4235967686636304,
          -2.2805906182573525,
          -1.7289508710193495,
          -1.6087910010167132,
          -1.7257812761250428,
          -1.7909537090605778,
          -2.3186900305914575,
          -2.338598683169674,
          -1.042563731613223,
          -2.2910950644997436,
          -2.229994201283906,
          -1.0917050398421886,
          -2.4814315841877574,
          -1.51858819604397,
          -1.841163335088011,
          -2.301285606643205,
          -2.5940980515359224,
          -1.1826205350280516,
          -2.4112315025224436,
          -2.495034628519927,
          -3.0051558420676194,
          -2.1991561478096866,
          -2.1923508500964575,
          -2.844402623052441,
          -1.8335631048705923,
          -2.4176586221841254,
          -1.510337682279434,
          -2.274377475181813,
          -2.5090874722922782,
          -1.6091328498556738,
          -2.466795929074216,
          -1.4929581536420142,
          -1.6232188192314223,
          -2.310217774702787,
          -1.666065342310772,
          -1.3657090092587982,
          -0.9851037355535656
         ]
        },
        {
         "customdata": [
          [
           "No"
          ],
          [
           "No"
          ],
          [
           "Yes"
          ],
          [
           "Yes"
          ],
          [
           "No"
          ],
          [
           "No"
          ],
          [
           "No"
          ],
          [
           "No"
          ],
          [
           "Yes"
          ],
          [
           "No"
          ],
          [
           "No"
          ],
          [
           "No"
          ],
          [
           "Yes"
          ],
          [
           "Yes"
          ],
          [
           "Yes"
          ],
          [
           "Yes"
          ],
          [
           "No"
          ],
          [
           "No"
          ],
          [
           "No"
          ],
          [
           "No"
          ],
          [
           "No"
          ],
          [
           "No"
          ],
          [
           "No"
          ],
          [
           "Yes"
          ],
          [
           "No"
          ],
          [
           "Yes"
          ],
          [
           "Yes"
          ],
          [
           "No"
          ],
          [
           "No"
          ],
          [
           "No"
          ],
          [
           "Yes"
          ],
          [
           "Yes"
          ],
          [
           "No"
          ],
          [
           "Yes"
          ],
          [
           "No"
          ],
          [
           "No"
          ],
          [
           "No"
          ],
          [
           "Yes"
          ],
          [
           "No"
          ],
          [
           "No"
          ],
          [
           "No"
          ],
          [
           "Yes"
          ],
          [
           "No"
          ],
          [
           "No"
          ],
          [
           "No"
          ],
          [
           "Yes"
          ],
          [
           "No"
          ],
          [
           "Yes"
          ],
          [
           "No"
          ],
          [
           "Yes"
          ],
          [
           "No"
          ],
          [
           "Yes"
          ],
          [
           "No"
          ],
          [
           "No"
          ],
          [
           "No"
          ],
          [
           "No"
          ],
          [
           "No"
          ],
          [
           "Yes"
          ],
          [
           "No"
          ],
          [
           "No"
          ],
          [
           "No"
          ],
          [
           "No"
          ],
          [
           "No"
          ],
          [
           "No"
          ],
          [
           "No"
          ],
          [
           "No"
          ],
          [
           "No"
          ],
          [
           "No"
          ],
          [
           "Yes"
          ],
          [
           "No"
          ],
          [
           "No"
          ],
          [
           "No"
          ],
          [
           "Yes"
          ],
          [
           "No"
          ],
          [
           "Yes"
          ],
          [
           "No"
          ],
          [
           "Yes"
          ],
          [
           "No"
          ],
          [
           "No"
          ],
          [
           "No"
          ],
          [
           "No"
          ],
          [
           "Yes"
          ],
          [
           "No"
          ],
          [
           "No"
          ],
          [
           "Yes"
          ],
          [
           "No"
          ],
          [
           "No"
          ],
          [
           "No"
          ],
          [
           "No"
          ],
          [
           "No"
          ],
          [
           "No"
          ],
          [
           "No"
          ],
          [
           "Yes"
          ],
          [
           "No"
          ],
          [
           "No"
          ],
          [
           "No"
          ],
          [
           "No"
          ],
          [
           "Yes"
          ],
          [
           "No"
          ],
          [
           "Yes"
          ],
          [
           "No"
          ],
          [
           "No"
          ],
          [
           "No"
          ],
          [
           "No"
          ],
          [
           "No"
          ],
          [
           "No"
          ],
          [
           "No"
          ],
          [
           "No"
          ],
          [
           "No"
          ],
          [
           "No"
          ],
          [
           "Yes"
          ],
          [
           "No"
          ],
          [
           "No"
          ],
          [
           "No"
          ],
          [
           "Yes"
          ],
          [
           "Yes"
          ],
          [
           "Yes"
          ],
          [
           "No"
          ],
          [
           "No"
          ],
          [
           "No"
          ],
          [
           "No"
          ],
          [
           "Yes"
          ],
          [
           "No"
          ],
          [
           "No"
          ],
          [
           "Yes"
          ],
          [
           "Yes"
          ],
          [
           "No"
          ],
          [
           "Yes"
          ],
          [
           "No"
          ],
          [
           "Yes"
          ],
          [
           "Yes"
          ],
          [
           "No"
          ],
          [
           "No"
          ],
          [
           "Yes"
          ],
          [
           "No"
          ],
          [
           "No"
          ],
          [
           "No"
          ],
          [
           "No"
          ],
          [
           "No"
          ],
          [
           "No"
          ],
          [
           "No"
          ],
          [
           "Yes"
          ],
          [
           "No"
          ],
          [
           "No"
          ],
          [
           "No"
          ]
         ],
         "hovertemplate": "<b>%{hovertext}</b><br><br>Class=%{marker.color}<br>PC 1=%{x}<br>PC 2=%{y}<br>PC 3=%{z}<br>enough_recycle_compost=%{customdata[0]}<extra></extra>",
         "hovertext": [
          "WINERY",
          "WINERY",
          "WINERY",
          "WINERY",
          "WINERY",
          "WINERY",
          "WINERY",
          "WINERY",
          "WINERY",
          "WINERY",
          "VINEYARD",
          "VINEYARD",
          "WINERY",
          "WINERY",
          "WINERY",
          "VINEYARD",
          "WINERY",
          "MIXED USE",
          "WINERY",
          "WINERY",
          "WINERY",
          "WINERY",
          "WINERY",
          "WINERY",
          "WINERY",
          "WINERY",
          "WINERY",
          "UTILITY",
          "WINERY",
          "WINERY",
          "LANDSCAPER",
          "WINERY",
          "WINERY",
          "CONTRACTOR",
          "MIXED USE",
          "WINERY",
          "WINERY",
          "WINERY",
          "WINERY",
          "WINERY",
          "WINERY",
          "WINERY",
          "CONTRACTOR",
          "WINERY",
          "WINERY",
          "WINERY",
          "WINERY",
          "VINEYARD",
          "CONTRACTOR",
          "WINERY",
          "WINERY",
          "WINERY",
          "LODGING-FW",
          "UTILITY",
          "WINERY",
          "WINERY",
          "VINEYARD",
          "GROUP HOME",
          "INDUSTRIAL",
          "WINERY",
          "HOSPITAL",
          "MOBILEHOME",
          "HOSPITAL",
          "WINERY",
          "POLICEFIRE",
          "WINERY",
          "CHURCH",
          "SCHOOL",
          "VINEYARD",
          "WINERY",
          "VINEYARD",
          "WINERY",
          "WINERY",
          "WINERY",
          "WINERY",
          "VINEYARD",
          "WINERY",
          "VINEYARD",
          "WINERY",
          "CONTRACTOR",
          "WINERY",
          "WINERY",
          "WINERY",
          "WINERY",
          "WINERY",
          "WINERY",
          "WINERY",
          "WINERY",
          "VINEYARD",
          "WINERY",
          "WINERY",
          "WINERY",
          "PARK",
          "WINERY",
          "WINERY",
          "WINERY",
          "WINERY",
          "WINERY",
          "WINERY",
          "WINERY",
          "OFFICE BLD",
          "WINERY",
          "WINERY",
          "VINEYARD",
          "WINERY",
          "WINERY",
          "WINERY",
          "MEDICAL",
          "MEMBER",
          "WINERY",
          "WINERY",
          "WINERY",
          "WINERY",
          "POLICEFIRE",
          "CONTRACTOR",
          "WINERY",
          "CONTRACTOR",
          "WINERY",
          "PARK",
          "VINEYARD",
          "WINERY",
          "WINERY",
          "WINERY",
          "WINERY",
          "WINERY",
          "HOSPITAL",
          "WINERY",
          "VINEYARD",
          "MULTIFAMIL",
          "POLICEFIRE",
          "WINERY",
          "WINERY",
          "VINEYARD",
          "VINEYARD",
          "WINERY",
          "UTILITY",
          "WINERY",
          "WINERY",
          "WINERY",
          "WINERY",
          "WINERY",
          "VINEYARD",
          "LANDSCAPER",
          "CONTRACTOR",
          "WINERY"
         ],
         "legendgroup": "2",
         "marker": {
          "color": [
           2,
           2,
           2,
           2,
           2,
           2,
           2,
           2,
           2,
           2,
           2,
           2,
           2,
           2,
           2,
           2,
           2,
           2,
           2,
           2,
           2,
           2,
           2,
           2,
           2,
           2,
           2,
           2,
           2,
           2,
           2,
           2,
           2,
           2,
           2,
           2,
           2,
           2,
           2,
           2,
           2,
           2,
           2,
           2,
           2,
           2,
           2,
           2,
           2,
           2,
           2,
           2,
           2,
           2,
           2,
           2,
           2,
           2,
           2,
           2,
           2,
           2,
           2,
           2,
           2,
           2,
           2,
           2,
           2,
           2,
           2,
           2,
           2,
           2,
           2,
           2,
           2,
           2,
           2,
           2,
           2,
           2,
           2,
           2,
           2,
           2,
           2,
           2,
           2,
           2,
           2,
           2,
           2,
           2,
           2,
           2,
           2,
           2,
           2,
           2,
           2,
           2,
           2,
           2,
           2,
           2,
           2,
           2,
           2,
           2,
           2,
           2,
           2,
           2,
           2,
           2,
           2,
           2,
           2,
           2,
           2,
           2,
           2,
           2,
           2,
           2,
           2,
           2,
           2,
           2,
           2,
           2,
           2,
           2,
           2,
           2,
           2,
           2,
           2,
           2,
           2,
           2,
           2,
           2,
           2
          ],
          "coloraxis": "coloraxis",
          "symbol": "diamond"
         },
         "mode": "markers",
         "name": "2",
         "scene": "scene",
         "showlegend": true,
         "type": "scatter3d",
         "x": [
          -0.027025542130404305,
          -0.2344934773567127,
          -1.359978400206509,
          -1.0285007634361132,
          -0.4149920747923273,
          1.4321082346465182,
          0.29898590171159484,
          -0.4139498524365201,
          -1.2135449932240594,
          0.22418623734104515,
          -0.5719804912299765,
          0.4402941843868862,
          -1.1335372843034797,
          -1.3199347763368017,
          -1.3797906089740308,
          -1.4743215083066006,
          -0.09509356281840249,
          -0.1704001999719822,
          -0.3951798660248047,
          0.9901104392885421,
          -0.09357940408492979,
          -0.18323813090982316,
          1.323049917753903,
          -1.3408186672415798,
          -0.30145093931253636,
          -1.2259023331285217,
          -1.3606308760091017,
          1.7053399806403264,
          -0.487734454756119,
          -0.4278301553882848,
          -1.507305082036024,
          -1.1560011207595917,
          -0.3951066637275799,
          -1.505759387094794,
          -0.4046901466089238,
          -0.44698988835321335,
          -0.3697829587010573,
          -1.2871272013328803,
          -0.411192641483109,
          -0.3844600685436671,
          -0.1236820390280283,
          -1.2406246310403417,
          -0.6222154710651399,
          -0.28980241875868956,
          1.2619224666270008,
          -1.3911700136589418,
          0.1352394759347755,
          -1.4545092995390785,
          -0.3483016143042615,
          0.301872391439598,
          2.7437838308894738,
          0.5695127082410671,
          1.4689397898224401,
          0.034540341073802355,
          3.0730588546883473,
          -0.49971506029035123,
          -0.3040172159187494,
          0.00931769425604435,
          0.12963878953416194,
          0.4535696767237211,
          1.3715687817223499,
          1.0646645688283924,
          -0.4557311569578559,
          -0.15221632481967867,
          -0.16932762514370156,
          -0.00021714084382061494,
          -0.6429226152814268,
          -0.471535449078839,
          -1.2386015801987833,
          0.034317365835522626,
          -0.19377025034990034,
          -0.28775657478722033,
          0.21875978150398853,
          0.40456973300426413,
          0.3972935299482406,
          0.2299574084394001,
          0.5696528150769269,
          -0.3334618117423909,
          0.7652940248220106,
          -0.6369377689769607,
          0.6601923021880619,
          -1.3265955991704712,
          1.5260483300381935,
          0.4205416358854678,
          -1.348456302639595,
          0.11382709605586913,
          -0.0007414713751458056,
          2.9538352310337643,
          -0.5703129077068312,
          0.671615937999127,
          -0.15730623567538024,
          1.587245286506522,
          -1.3319194907810972,
          2.284041419146359,
          2.498593841278251,
          -0.43100485025063134,
          -0.47027046446670995,
          -1.164359236357648,
          -0.3509397699921179,
          -1.2539004199942971,
          -0.5327002476109803,
          1.687713019333033,
          0.05248418808994922,
          -0.28418293506129455,
          -0.3182233535417029,
          -0.059276601260909945,
          -0.16342592214230062,
          1.0342128550623646,
          0.7054349864867405,
          1.9978589743757909,
          -1.0556195979253962,
          0.5654347580799937,
          0.08663331300048789,
          -0.5943818822222193,
          -1.544728555091673,
          -1.3260963693297598,
          -1.5064118628973875,
          2.1839960871678743,
          0.3489283706631737,
          -0.2476861224023017,
          -0.04683775089791955,
          -0.921283318561288,
          1.8505878273660217,
          4.283221847839421,
          -1.288432152938068,
          -0.7946283384104749,
          0.7207161334454923,
          -1.492825991733364,
          -0.2297920711337367,
          -1.5124603049312164,
          -1.3069394101004026,
          -0.1776074476982592,
          -0.5091304328799622,
          -1.4593090219412526,
          0.3456065117656938,
          -0.5594862106606545,
          -0.07131439146772822,
          0.09665108182541154,
          -0.19032658362125057,
          -0.36595281138133223,
          -0.15379353508618152,
          -1.1795950930816077,
          -0.6378309881155974,
          -0.3802744642449978,
          -0.037052199261484065
         ],
         "y": [
          -2.4867125840025937,
          -2.529222198270336,
          -0.8587188010447899,
          -0.8917417410127721,
          -2.5105238980583438,
          -2.4768263936982535,
          -2.5150886442383698,
          -2.5303487910762277,
          -0.909775145649454,
          -2.3497348914024645,
          -2.152766120323544,
          -2.1709408904069303,
          -0.8862282239901412,
          -0.8733458632022951,
          -0.8720990789014808,
          -0.5639892258209153,
          -2.433854924270887,
          -1.954456481132168,
          -2.4971436202016477,
          -2.544993390250041,
          -2.43976642437005,
          -2.5310799322684536,
          -2.4269097980011813,
          -0.8610497437711153,
          -2.5300319392703496,
          -0.8687116161203057,
          -0.8744300216278091,
          -1.364068005560355,
          -2.469224286407707,
          -2.5052117098823787,
          -0.4559721450720336,
          -0.864995344865185,
          -2.4502946424104732,
          -0.41398472125967595,
          -1.9253480870032453,
          -2.502880767156046,
          -2.5213227356603287,
          -0.8469910609560973,
          -2.493318742020395,
          -2.4931788811542077,
          -2.536115136109416,
          -0.8717203012589392,
          -2.064164057648203,
          -2.4965889443856253,
          -2.3398183154698557,
          -0.8716265777650364,
          -2.526935120424257,
          -0.5506089479642211,
          -2.0921252864733275,
          -0.9062754353998785,
          -2.6375056605189418,
          -0.8826406232488524,
          -1.5532648165544218,
          -1.6927272603979708,
          -2.61289500906081,
          -0.9845293095409753,
          -2.209755347047541,
          -0.08564113429076527,
          -2.30431684358293,
          -2.497635547328622,
          -2.517146938770502,
          -0.9569986500273787,
          -2.3716939111536535,
          -2.4875240870418867,
          -1.9865958917853868,
          -2.490565358920281,
          -1.1902733571367121,
          -1.5298119117150104,
          -0.5791788550230872,
          -2.4741763959249554,
          -2.255665339472002,
          -2.428356313274607,
          -0.7714218684523265,
          -2.4991626905606465,
          -0.9774081781562474,
          -2.302501070651923,
          -0.8087205256104483,
          -2.2157727173248083,
          -0.8836292131600904,
          -2.0671727427868354,
          -2.521683677460396,
          -0.8803141986666405,
          -2.4695257140848628,
          -2.413798507814211,
          -0.8614710172174743,
          -2.476479448202399,
          -2.4368163140192776,
          -2.1993683782531823,
          -2.1850770637697234,
          -2.5113617456824193,
          -2.4978956797599463,
          -2.5021605244819574,
          -0.623536929921741,
          -2.209847871539985,
          -2.4480960902899285,
          -2.506699019877088,
          -0.9785119392637092,
          -0.8538840325790342,
          -2.4412685869945747,
          -0.8620238765807974,
          -1.1831579613576724,
          -2.322605519113427,
          -2.4890156362800364,
          -2.2340689893600745,
          -2.4857861712995306,
          -2.571075230439024,
          -2.517699654411761,
          -1.372360231808663,
          -2.8144586491047723,
          -2.402112322949061,
          -0.7900333441998132,
          -2.571120859969348,
          -2.5394751227290473,
          -2.0131356676569014,
          -0.4250347189360604,
          -0.858041058632482,
          -0.42969594184269927,
          -2.5489410572770534,
          -2.3021050479349814,
          -2.242786769908999,
          -2.500092861859287,
          -0.7751261316724974,
          -2.4635356145311755,
          -2.2143923883716368,
          -0.8784135021221453,
          -0.48263016677070425,
          -2.540783765817059,
          -0.5459477250575826,
          -1.3731532987751291,
          -0.37934529426370045,
          -0.860371338812792,
          -2.532424900691796,
          -2.181578659821468,
          -0.5627246732426722,
          -2.5055611412993657,
          -1.6622561452803397,
          -0.957325632544549,
          -2.479989580864138,
          -2.5201961428544357,
          -2.5112210444635616,
          -2.52506256199119,
          -0.487940861396515,
          -2.09344894601617,
          -2.084488118485224,
          -2.5388097018918754
         ],
         "z": [
          0.44017473744437674,
          0.3380029360407935,
          1.939481952051398,
          1.9780013506977698,
          0.35985074796597377,
          0.2736203424130691,
          0.403104623318508,
          0.3508771558051353,
          1.9693255894303512,
          0.7794029261347029,
          -0.08702586858797973,
          0.12768607370634633,
          1.9421795249867024,
          1.941009637997505,
          1.9197020434955099,
          1.5377118798828797,
          0.5234155161360557,
          -0.31964393834191984,
          0.3796306565218599,
          0.6360788626417512,
          0.5170342081453612,
          0.4349290249886302,
          0.819327752145208,
          1.9420971670379479,
          0.3921800049310124,
          1.9706382409401284,
          1.9223172584820598,
          0.17065279144268009,
          0.2839689145847412,
          0.35436740573477726,
          1.1189704113546566,
          1.9534935445050112,
          0.32678557936381225,
          1.3034164289211392,
          -0.30219703638528495,
          0.3517521907482285,
          0.37129304894482457,
          1.9712968862688873,
          0.37557786778936686,
          0.38542293255814825,
          0.37528637722753005,
          1.9638329432268995,
          -0.297923927808491,
          0.42465920067505203,
          0.844281435929024,
          1.9190560078601917,
          0.4867716783258224,
          1.5574917884387662,
          -0.28997034809424027,
          2.2039329299306702,
          0.6714067212795619,
          2.333719947789904,
          -0.4946180272651795,
          -0.4589095606370132,
          0.3142588099315969,
          -0.7986388561760799,
          -0.026186549418698944,
          2.9702633391473148,
          -0.9956252498227752,
          0.46788872192309894,
          0.09837179789364424,
          1.3931291764253741,
          0.07670846496418697,
          0.4043599542829493,
          0.14544387236450762,
          0.4419449383137177,
          -0.004277418788555573,
          -0.35467164736459045,
          1.6266543666148194,
          0.4685301445828345,
          -0.007520726165196833,
          0.376407541856114,
          2.4205228346917003,
          0.5859635559765901,
          2.2073462077712755,
          0.1253829374974264,
          2.3686521611864557,
          -0.03979714484515925,
          -0.5040456628794578,
          -0.304729225521721,
          0.3995514108361801,
          1.928697432064201,
          0.30521107602016034,
          0.6320873782875557,
          1.9423981627555,
          0.49031034259526635,
          0.5565331426097138,
          0.9549913494645897,
          -0.026683874721524836,
          0.4086009516298653,
          0.3913853434402931,
          1.0171846323302811,
          1.857169532657815,
          1.2795134011476719,
          0.6835281236640117,
          0.35579795923348,
          -0.7850282607496202,
          2.003810689645491,
          0.3472014725035019,
          1.9635520033746026,
          -0.41729971622555084,
          1.0019439714822442,
          0.46195493545680977,
          -0.030403924073450637,
          0.4069228927430069,
          0.3823498378650767,
          0.4547089335445167,
          -0.4281447909319485,
          -0.609805556206714,
          0.594602487323266,
          2.1354209732455067,
          0.4741343972515273,
          0.4547822691248077,
          0.044046714825702125,
          1.2810220074034278,
          1.9489024647511772,
          1.2862517353518006,
          0.7283403796915606,
          0.33771610419711956,
          -0.021166682753141045,
          0.42039482888848984,
          2.1397754603726655,
          0.4785792708296831,
          0.30633764893680504,
          1.936967499130211,
          2.073293146672338,
          0.5452533070415325,
          1.552262060490394,
          -1.0513182711550784,
          1.6188018652862155,
          1.9515169777130008,
          0.4363541351786455,
          0.0035667325949952046,
          1.5599000465626327,
          0.4246547327437354,
          -0.5827795218758183,
          -0.7019228493141514,
          0.48237082859649827,
          0.358418829180481,
          0.3708734539753573,
          0.44853962041508977,
          1.7398202142064159,
          -0.4720105495188648,
          -0.29806258708946787,
          0.48475796438925717
         ]
        },
        {
         "customdata": [
          [
           "Yes"
          ],
          [
           "Yes"
          ],
          [
           "Yes"
          ],
          [
           "Yes"
          ],
          [
           "Yes"
          ],
          [
           "Yes"
          ],
          [
           "Yes"
          ],
          [
           "Yes"
          ],
          [
           "Yes"
          ],
          [
           "Yes"
          ],
          [
           "Yes"
          ],
          [
           "Yes"
          ],
          [
           "Yes"
          ],
          [
           "Yes"
          ],
          [
           "Yes"
          ],
          [
           "Yes"
          ],
          [
           "Yes"
          ],
          [
           "Yes"
          ],
          [
           "Yes"
          ],
          [
           "Yes"
          ],
          [
           "Yes"
          ],
          [
           "Yes"
          ],
          [
           "Yes"
          ],
          [
           "Yes"
          ],
          [
           "Yes"
          ],
          [
           "Yes"
          ],
          [
           "Yes"
          ],
          [
           "Yes"
          ],
          [
           "Yes"
          ],
          [
           "Yes"
          ],
          [
           "Yes"
          ],
          [
           "Yes"
          ],
          [
           "Yes"
          ],
          [
           "Yes"
          ],
          [
           "Yes"
          ],
          [
           "Yes"
          ],
          [
           "Yes"
          ],
          [
           "Yes"
          ],
          [
           "Yes"
          ],
          [
           "Yes"
          ],
          [
           "Yes"
          ],
          [
           "Yes"
          ],
          [
           "Yes"
          ],
          [
           "Yes"
          ],
          [
           "Yes"
          ],
          [
           "Yes"
          ],
          [
           "Yes"
          ],
          [
           "Yes"
          ],
          [
           "Yes"
          ],
          [
           "Yes"
          ],
          [
           "Yes"
          ],
          [
           "Yes"
          ],
          [
           "Yes"
          ],
          [
           "Yes"
          ],
          [
           "Yes"
          ],
          [
           "Yes"
          ],
          [
           "Yes"
          ],
          [
           "Yes"
          ],
          [
           "Yes"
          ],
          [
           "Yes"
          ],
          [
           "Yes"
          ],
          [
           "Yes"
          ],
          [
           "Yes"
          ],
          [
           "Yes"
          ],
          [
           "Yes"
          ],
          [
           "Yes"
          ],
          [
           "Yes"
          ],
          [
           "Yes"
          ],
          [
           "Yes"
          ],
          [
           "Yes"
          ],
          [
           "Yes"
          ],
          [
           "Yes"
          ],
          [
           "Yes"
          ],
          [
           "Yes"
          ],
          [
           "Yes"
          ],
          [
           "Yes"
          ],
          [
           "Yes"
          ],
          [
           "Yes"
          ],
          [
           "Yes"
          ],
          [
           "Yes"
          ],
          [
           "Yes"
          ],
          [
           "Yes"
          ],
          [
           "Yes"
          ],
          [
           "Yes"
          ],
          [
           "Yes"
          ],
          [
           "Yes"
          ],
          [
           "Yes"
          ],
          [
           "Yes"
          ],
          [
           "Yes"
          ],
          [
           "Yes"
          ],
          [
           "Yes"
          ],
          [
           "Yes"
          ],
          [
           "Yes"
          ],
          [
           "Yes"
          ],
          [
           "Yes"
          ],
          [
           "Yes"
          ],
          [
           "Yes"
          ],
          [
           "Yes"
          ],
          [
           "Yes"
          ],
          [
           "Yes"
          ],
          [
           "Yes"
          ],
          [
           "Yes"
          ],
          [
           "Yes"
          ],
          [
           "Yes"
          ],
          [
           "Yes"
          ],
          [
           "Yes"
          ],
          [
           "Yes"
          ],
          [
           "Yes"
          ],
          [
           "Yes"
          ],
          [
           "Yes"
          ],
          [
           "Yes"
          ],
          [
           "Yes"
          ],
          [
           "Yes"
          ],
          [
           "Yes"
          ],
          [
           "Yes"
          ],
          [
           "Yes"
          ],
          [
           "Yes"
          ],
          [
           "Yes"
          ],
          [
           "Yes"
          ],
          [
           "Yes"
          ],
          [
           "Yes"
          ],
          [
           "Yes"
          ],
          [
           "Yes"
          ],
          [
           "Yes"
          ],
          [
           "Yes"
          ],
          [
           "Yes"
          ],
          [
           "Yes"
          ],
          [
           "Yes"
          ],
          [
           "Yes"
          ],
          [
           "Yes"
          ],
          [
           "Yes"
          ],
          [
           "Yes"
          ],
          [
           "Yes"
          ],
          [
           "Yes"
          ],
          [
           "Yes"
          ],
          [
           "Yes"
          ],
          [
           "Yes"
          ],
          [
           "Yes"
          ],
          [
           "Yes"
          ],
          [
           "Yes"
          ],
          [
           "Yes"
          ],
          [
           "Yes"
          ],
          [
           "Yes"
          ],
          [
           "Yes"
          ],
          [
           "Yes"
          ],
          [
           "Yes"
          ],
          [
           "Yes"
          ],
          [
           "Yes"
          ],
          [
           "Yes"
          ],
          [
           "Yes"
          ],
          [
           "Yes"
          ],
          [
           "Yes"
          ],
          [
           "Yes"
          ],
          [
           "Yes"
          ],
          [
           "Yes"
          ]
         ],
         "hovertemplate": "<b>%{hovertext}</b><br><br>Class=%{marker.color}<br>PC 1=%{x}<br>PC 2=%{y}<br>PC 3=%{z}<br>enough_recycle_compost=%{customdata[0]}<extra></extra>",
         "hovertext": [
          "MEDICAL",
          "GROCERY",
          "OFFICE BLD",
          "PRESCHOOL",
          "CHURCH",
          "HOME IMPRO",
          "PRESCHOOL",
          "MEDICAL",
          "LODGING-FW",
          "SCHOOL",
          "MULTIFAMIL",
          "FOURPLEX",
          "OFFICE BLD",
          "OFFICE BLD",
          "RESTAURANT",
          "WINERY",
          "STRIP MALL",
          "OFFICE BLD",
          "RETAIL",
          "RETAIL",
          "UTILITY",
          "HOME IMPRO",
          "RESTAURANT",
          "RESTAURANT",
          "COMMUNITY",
          "LODGING",
          "MULTIFAMIL",
          "DUPLEX",
          "RESTAURANT",
          "WINERY",
          "RESTAURANT",
          "RETAIL",
          "COMMUNITY",
          "RETAIL",
          "POSTOFFICE",
          "CHURCH",
          "MEDICAL",
          "MULTIFAMIL",
          "CHURCH",
          "MULTIFAMIL",
          "OFFICE BLD",
          "ENTERTAINM",
          "POSTOFFICE",
          "OFFICE BLD",
          "MEDICAL",
          "MULTIFAMIL",
          "AUTO",
          "OFFICE BLD",
          "OFFICE BLD",
          "POSTOFFICE",
          "COMMUNITY",
          "VINEYARD",
          "BAKERY",
          "MULTIFAMIL",
          "OFFICE BLD",
          "HOA",
          "LODGING-FW",
          "CHURCH",
          "CHURCH",
          "OFFICE BLD",
          "STRIP MALL",
          "LODGING-FW",
          "LODGING",
          "SCHOOL",
          "SCHOOL",
          "POSTOFFICE",
          "GROCERY",
          "CONTRACTOR",
          "MULTIFAMIL",
          "ENTERTAINM",
          "HOME IMPRO",
          "MULTIFAMIL",
          "MEDICAL",
          "MULTIFAMIL",
          "RETAIL",
          "MULTIFAMIL",
          "SCHOOL",
          "COMMUNITY",
          "WINERY",
          "LODGING-FW",
          "WINERY",
          "MULTIFAMIL",
          "HOA",
          "FOURPLEX",
          "OFFICE BLD",
          "CHURCH",
          "CHURCH",
          "MULTIFAMIL",
          "WINERY",
          "RESTAURANT",
          "UTILITY",
          "DELI/CAFE",
          "CATERING",
          "CHURCH",
          "WINERY",
          "RETAIL",
          "WINERY",
          "WINERY",
          "OFFICE BLD",
          "OFFICE BLD",
          "COMMUNITY",
          "MULTIFAMIL",
          "OFFICE BLD",
          "OFFICE BLD",
          "MULTIFAMIL",
          "VINEYARD",
          "OFFICE BLD",
          "WINERY",
          "LODGING",
          "CHURCH",
          "MEDICAL",
          "POSTOFFICE",
          "WINERY",
          "MEDICAL",
          "WINERY",
          "CHURCH",
          "RESTAURANT",
          "LODGING-FW",
          "WINERY",
          "LODGING",
          "WINERY",
          "SCHOOL",
          "MIXED USE",
          "RESTAURANT",
          "RESTAURANT",
          "MULTIFAMIL",
          "DELI/CAFE",
          "COMMUNITY",
          "MULTIFAMIL",
          "AUTO",
          "WINERY",
          "UTILITY",
          "WINERY",
          "RESTAURANT",
          "MULTIFAMIL",
          "RESTAURANT",
          "RETAIL",
          "RESTAURANT",
          "UTILITY",
          "RESTAURANT",
          "POLICEFIRE",
          "RETAIL",
          "WINERY",
          "PRESCHOOL",
          "ENTERTAINM",
          "BAKERY",
          "MULTIFAMIL",
          "GROCERY",
          "FOURPLEX",
          "WINERY",
          "MULTIFAMIL",
          "MULTIFAMIL",
          "MIXED USE",
          "LODGING-FW",
          "WINERY"
         ],
         "legendgroup": "0",
         "marker": {
          "color": [
           0,
           0,
           0,
           0,
           0,
           0,
           0,
           0,
           0,
           0,
           0,
           0,
           0,
           0,
           0,
           0,
           0,
           0,
           0,
           0,
           0,
           0,
           0,
           0,
           0,
           0,
           0,
           0,
           0,
           0,
           0,
           0,
           0,
           0,
           0,
           0,
           0,
           0,
           0,
           0,
           0,
           0,
           0,
           0,
           0,
           0,
           0,
           0,
           0,
           0,
           0,
           0,
           0,
           0,
           0,
           0,
           0,
           0,
           0,
           0,
           0,
           0,
           0,
           0,
           0,
           0,
           0,
           0,
           0,
           0,
           0,
           0,
           0,
           0,
           0,
           0,
           0,
           0,
           0,
           0,
           0,
           0,
           0,
           0,
           0,
           0,
           0,
           0,
           0,
           0,
           0,
           0,
           0,
           0,
           0,
           0,
           0,
           0,
           0,
           0,
           0,
           0,
           0,
           0,
           0,
           0,
           0,
           0,
           0,
           0,
           0,
           0,
           0,
           0,
           0,
           0,
           0,
           0,
           0,
           0,
           0,
           0,
           0,
           0,
           0,
           0,
           0,
           0,
           0,
           0,
           0,
           0,
           0,
           0,
           0,
           0,
           0,
           0,
           0,
           0,
           0,
           0,
           0,
           0,
           0,
           0,
           0,
           0,
           0,
           0,
           0,
           0,
           0,
           0,
           0
          ],
          "coloraxis": "coloraxis",
          "symbol": "square"
         },
         "mode": "markers",
         "name": "0",
         "scene": "scene",
         "showlegend": true,
         "type": "scatter3d",
         "x": [
          -1.5251095810043211,
          -0.4463785791274509,
          -1.3880016445574792,
          -1.619252258212241,
          -1.557113416036643,
          -1.3128904117160378,
          -1.3168473518647816,
          -1.423466049948212,
          -1.1911929752059922,
          -1.4404632472461483,
          -1.1265341062133727,
          -1.5024161059024799,
          -1.4596507957219576,
          -1.4947350864692903,
          -0.9074663486826515,
          -0.9956954131814544,
          -1.4450700978587656,
          -1.5262672214539763,
          -1.5843552841577326,
          -1.5685906035331763,
          -1.4086527524645773,
          -1.512273152687572,
          -0.1413668493508895,
          2.679720830941156,
          -1.6325497482929192,
          -1.2119389902494397,
          -1.2116387802305089,
          -1.6020684029876406,
          -0.9400408663800722,
          -1.044684050735757,
          1.3253529208654844,
          -1.600122738517862,
          -1.6010176133082328,
          -1.2163134667845497,
          -1.6443116308867043,
          -1.499087177778102,
          -1.369547807069896,
          -0.9608587568582552,
          -1.1885412940078055,
          -0.8568529747129678,
          -1.4367429165408256,
          -1.6432247322385494,
          -1.4672813212977975,
          -1.4158447418775386,
          -1.4737792759771513,
          -1.3960214412363825,
          -1.4837386622499888,
          -1.4286824835302996,
          -1.4474382708600468,
          -1.5714604610444134,
          -1.5812054045407105,
          -1.474871321405928,
          1.5095175503996137,
          -1.3452283589534528,
          -1.474922877701768,
          1.2482848222261003,
          -0.24767123298753232,
          -1.1854689031366341,
          -1.2763972760399258,
          -1.214018946472573,
          -0.14080814632841804,
          -1.1861030643502917,
          0.20769429828092453,
          -1.476260295037737,
          -1.0343248514842964,
          -1.6059949386924186,
          0.848005717869888,
          -1.3036759985272155,
          1.374342308447442,
          -1.658992186598678,
          -1.4953061831610948,
          -1.2676966029296695,
          -1.472173824943259,
          -1.189811903898691,
          -1.6148450364296838,
          -1.3299625789166587,
          -1.1735391020393835,
          -1.5679972653623626,
          -0.07910907779077134,
          1.3901056910741694,
          -0.6992299011719403,
          -1.3610013607847267,
          -1.020693758547828,
          -1.2019542202632285,
          -1.4941852733699632,
          -1.4752820937480562,
          -1.5098166004273985,
          -1.4387823811947758,
          -1.3611806891084293,
          -0.6117637868396281,
          -1.3765743616193447,
          -1.46956406912188,
          3.180014361407958,
          -1.5799677222214559,
          -0.636713638441949,
          -1.5533974824836692,
          -1.1126180008645707,
          -1.0656919526018458,
          -1.479541965419784,
          -1.2102848504492674,
          -1.5998153244063125,
          -0.7154768356143468,
          -1.4198869547376611,
          -1.5126897567967266,
          -1.3543139188072508,
          -1.4596888923890514,
          -1.0087191795824118,
          -1.2910665193014348,
          -0.93177266335205,
          -1.6146925038991242,
          -1.4282860364329644,
          -1.227094251010178,
          0.7522711664810358,
          -1.5245597679049936,
          -1.3459875680589224,
          -1.509267570831281,
          2.008697018202226,
          -1.2129533496912375,
          -1.309850384081259,
          -0.9776631302829232,
          -1.1889300387414943,
          -1.2717016462998285,
          -1.3798312249890712,
          -0.4885594661725377,
          -0.8927440507708295,
          -1.392627837265964,
          -0.3602699887801739,
          -1.538998499787168,
          -1.223632185863113,
          -1.4690163643381677,
          -1.191204481209651,
          -1.4092270857751996,
          -1.3260963983610967,
          -0.8300091826303684,
          -1.3254189239215026,
          -0.7164386899603346,
          -1.533585273716147,
          -0.7942064943698358,
          -1.4244202068247058,
          -0.8012522056597471,
          -1.1303681738924793,
          -1.5828256944582928,
          -1.0606523403441903,
          -1.5044740433134483,
          -1.5959419553543435,
          -1.3248140342573205,
          -1.3533696458242472,
          -0.3695599141191833,
          -1.5085399082170237,
          -1.2577199468750135,
          -1.3118634966651312,
          -1.2865949471174352,
          -1.3792814118897443,
          -1.2333990964563255,
          -1.3769453697329859
         ],
         "y": [
          1.8445543311333183,
          1.8867565691163053,
          1.9994415173069477,
          0.4878802941672168,
          1.9571166516388978,
          1.7747712207301813,
          1.8778969368456175,
          1.8697629502507225,
          1.532030971161054,
          1.5693144635813345,
          1.6612357413210268,
          2.277496752847465,
          1.9620062402673806,
          1.9638613054714806,
          2.0434248278901284,
          0.5235304465875005,
          1.8145262116175487,
          1.966901940809896,
          1.9283510336266603,
          1.9268310472304633,
          1.5030108626870122,
          1.7777046631500688,
          2.1900119302743106,
          1.353246474211045,
          2.070203394727107,
          0.039302640450911995,
          1.8224816126398562,
          2.343467419448095,
          2.050994134763375,
          0.5166316256051613,
          3.2440580383396607,
          1.9298716825688798,
          2.0671627593886903,
          1.796932066960604,
          0.4273733074043587,
          0.43118522275855625,
          1.8098599702819167,
          1.6459954514222557,
          1.853237055849534,
          1.7571984336114306,
          1.9095105248172677,
          2.3142119388127997,
          1.8990511090464186,
          1.913289645155512,
          1.80766190492043,
          1.7235529690693707,
          1.6825388161131254,
          1.9299775643972257,
          1.9593006837368658,
          1.9397962825409953,
          2.080543037245384,
          0.954950037426459,
          2.3964806345872294,
          1.78553939393797,
          1.977241583328173,
          1.968850190911593,
          0.08321574840467008,
          1.9794678292423658,
          1.8312603998799548,
          1.8380050537125345,
          1.69557898136664,
          1.5424025638791152,
          1.66951220202881,
          0.10629258485900302,
          0.13915464837877842,
          0.4227120844977202,
          0.498690593460484,
          1.1325008419610822,
          1.8148586227665786,
          2.3157325877550203,
          0.27295663408952114,
          1.7395719354032673,
          1.8029987365432663,
          1.797698573703349,
          1.9268629974302471,
          1.741182838595149,
          1.8015832292281801,
          2.089463222483181,
          0.8094601535709713,
          1.9634246302797276,
          0.7358929757220625,
          1.7870613679722323,
          1.8154913636714094,
          2.178292298525759,
          0.44492204222410636,
          1.9689449928996114,
          1.952556029904284,
          1.7901326284183898,
          0.6445092416195645,
          2.202983588292772,
          1.452604324321119,
          2.0484268140724944,
          3.758899855985501,
          1.9379377073476665,
          0.6334058185680814,
          1.8782121638533928,
          0.5218420355078179,
          0.6727307334672289,
          1.9152424220944093,
          1.852980185665839,
          0.5639347167243404,
          1.7462991152330245,
          1.9869756082147718,
          0.4629635429874384,
          0.25078897148157,
          0.9533575520932558,
          1.8495253195271504,
          0.6727578335293655,
          1.4323856519393405,
          0.4294583334414706,
          1.7876650192016532,
          1.8119985171255162,
          1.1042888875106354,
          0.3256150678859443,
          0.5958903582424936,
          1.905189464330787,
          2.414373879077964,
          0.07478641544728477,
          0.6076168154066763,
          1.504098254588608,
          0.6123538207776595,
          1.7106181565084888,
          1.2134259787110377,
          1.920269185823719,
          2.046433513028762,
          0.25544953184218777,
          2.3255389869975436,
          2.065610822792708,
          1.7856785370562833,
          1.6855475012517578,
          0.5895107455792005,
          1.4559126282521613,
          0.642654176415466,
          2.003025008069507,
          1.7989203343406854,
          2.0722866002095373,
          1.8915924417100864,
          2.0009983434458793,
          1.5045315116292308,
          2.0674197442189968,
          1.0230118377499158,
          0.42504481053179216,
          0.5320332677173129,
          1.9318887447195925,
          2.262419248347023,
          2.013697915856851,
          1.7473447618843085,
          1.842229580649793,
          2.3188872254874426,
          0.6039356675445183,
          1.7305458799873683,
          1.789646677679848,
          -0.3055132845363359,
          0.07539048793985365,
          0.6460292280157617
         ],
         "z": [
          0.010658942483607835,
          -0.3152640548790768,
          0.07283197442542462,
          1.933391571536372,
          0.435260290061802,
          -0.007207633333779195,
          1.154374063766439,
          0.06229256950591864,
          -0.049268097426076775,
          -0.04750215772027963,
          -0.2764251149057452,
          0.3700926512223489,
          0.02018259777364251,
          0.008223736560457696,
          0.1611171965706868,
          1.17736203282359,
          -0.35924013568049373,
          0.004711161087346547,
          -0.14758334968210896,
          -0.14582741295791465,
          -0.10809467029419634,
          -0.01782230103635595,
          0.37661432904959197,
          3.0231045432306938,
          0.2483136720701274,
          0.2938574975940666,
          -0.5342282285499718,
          0.35303658477852445,
          0.1626539820866104,
          1.1520403577007212,
          2.1383990824989443,
          -0.1493399884310268,
          0.25182624754323896,
          0.22705811456316516,
          1.9669998129245827,
          1.5741325918801954,
          -0.04405496136454377,
          -0.286873127819174,
          0.8289405903861091,
          -0.6681271958154434,
          -0.0940135695127678,
          0.2644824060626375,
          0.7804581492646908,
          -0.08787923454671585,
          -0.07626490921785195,
          -0.751644920654723,
          -0.746453285974715,
          -0.07189481742777126,
          0.013492248757763843,
          0.8531610432026643,
          0.27160615609912625,
          0.4066845209994049,
          0.2573698230547367,
          -0.6129659916536767,
          0.028003645116345673,
          0.4157294025592187,
          1.389022721143403,
          0.4632112779173861,
          0.7838756787449929,
          0.35683912524365013,
          0.3028284890408199,
          -0.03629348658341946,
          -0.5432304856645536,
          1.184538694784827,
          1.2473084089562467,
          1.972229540872956,
          1.0795349564654735,
          0.28475606963963157,
          -0.1377791941758109,
          0.2627257673137196,
          1.132125688140651,
          -0.7040996325903676,
          -0.08117175918788658,
          -0.6200120722457846,
          -0.1561452861442566,
          -0.716235922701352,
          0.33631664993144206,
          0.2847927618030506,
          1.2161806612143855,
          0.9176336300169639,
          1.007761420315206,
          -0.614724034452043,
          0.4685320986873507,
          0.8169188617644071,
          1.139251095443933,
          0.467114008528224,
          0.44052880225910684,
          -0.628553079062048,
          0.7912898995985854,
          0.4290841706835744,
          -0.21465662155726573,
          -0.08015164610297103,
          3.9887238756533314,
          0.41163130990606184,
          1.0650953342226186,
          -0.2544289189337331,
          1.1362354592704562,
          0.9090373401993839,
          -0.10037776941536,
          0.37478376828151466,
          1.400018299996052,
          -0.6791971528181929,
          0.06016905642316665,
          1.153801276051448,
          0.5008571873868028,
          0.41807439640781935,
          0.38595092944199527,
          0.8394116531725072,
          -0.48855447260621654,
          1.5412780124410166,
          -0.08845243085040584,
          1.2142630323341896,
          1.5942241600198364,
          1.1416863013670826,
          0.682688393622767,
          0.3304549775476499,
          0.613859971957176,
          1.210027131341199,
          0.7043660478971253,
          -0.9322655888595104,
          0.7438790289930832,
          0.1410231646272002,
          0.09854159022899517,
          0.5137959686990295,
          0.16792249428391579,
          0.49562816146315325,
          0.3810044541117491,
          0.2639000574537746,
          -0.6161817726105534,
          -0.7396479882614851,
          0.729711941647876,
          -0.2184528150189313,
          0.8032487608117689,
          0.07672921445652149,
          -0.5931867851225135,
          0.19400419442802513,
          -0.23464901037784525,
          0.08886990007325886,
          -0.10985130904311419,
          0.15653621749062535,
          0.8710954108709399,
          1.0006915416881543,
          1.159685196837664,
          0.6887026587113694,
          0.15953458252948488,
          -0.24613959923625522,
          -0.709084822761056,
          -0.4051268249651106,
          0.47238233304973787,
          0.718405181257058,
          -0.7245155257300572,
          -0.5833605450586464,
          1.2295689491124693,
          1.1995391848142063,
          0.7895339628743914
         ]
        },
        {
         "customdata": [
          [
           "Yes"
          ],
          [
           "No"
          ],
          [
           "No"
          ],
          [
           "No"
          ],
          [
           "No"
          ],
          [
           "No"
          ],
          [
           "No"
          ],
          [
           "Yes"
          ],
          [
           "Yes"
          ],
          [
           "No"
          ],
          [
           "Yes"
          ],
          [
           "No"
          ],
          [
           "Yes"
          ],
          [
           "No"
          ]
         ],
         "hovertemplate": "<b>%{hovertext}</b><br><br>Class=%{marker.color}<br>PC 1=%{x}<br>PC 2=%{y}<br>PC 3=%{z}<br>enough_recycle_compost=%{customdata[0]}<extra></extra>",
         "hovertext": [
          "MOBILEHOME",
          "MOBILEHOME",
          "GROCERY",
          "GROCERY",
          "MOBILEHOME",
          "MOBILEHOME",
          "GROCERY",
          "MOBILEHOME",
          "RESTAURANT",
          "RESTAURANT",
          "RESTAURANT",
          "RESTAURANT",
          "WINERY",
          "RESTAURANT"
         ],
         "legendgroup": "3",
         "marker": {
          "color": [
           3,
           3,
           3,
           3,
           3,
           3,
           3,
           3,
           3,
           3,
           3,
           3,
           3,
           3
          ],
          "coloraxis": "coloraxis",
          "symbol": "x"
         },
         "mode": "markers",
         "name": "3",
         "scene": "scene",
         "showlegend": true,
         "type": "scatter3d",
         "x": [
          11.307673987740676,
          6.675664064213765,
          7.7990214829726,
          23.859900530536173,
          9.250949090419368,
          11.031629182334571,
          6.599762005534745,
          11.984922063537446,
          4.587693389721931,
          5.930358221828108,
          5.374963559384339,
          13.809094991366463,
          5.982552741762205,
          14.112054437167174
         ],
         "y": [
          4.900894384221916,
          0.7906397388244235,
          0.7844875697039424,
          2.54619494403917,
          0.9434132763110248,
          0.9583321495178476,
          0.6960179621309662,
          4.887633051480049,
          1.2784082684171687,
          0.6476504167560383,
          3.2453401595388742,
          1.1026551031324205,
          -0.37797837229405645,
          1.0094542672886406
         ],
         "z": [
          6.481628188287968,
          1.07733949587458,
          -2.258253519831827,
          -0.9072345398281514,
          1.580970303716614,
          2.2655687413502137,
          -1.037544259663121,
          6.751283322475863,
          2.460454708545349,
          -1.198685840632195,
          2.53588036304907,
          -0.3029065090454828,
          3.598169428872805,
          -1.4967867903517502
         ]
        }
       ],
       "layout": {
        "coloraxis": {
         "colorbar": {
          "title": {
           "text": "Class"
          }
         },
         "colorscale": [
          [
           0,
           "#0d0887"
          ],
          [
           0.1111111111111111,
           "#46039f"
          ],
          [
           0.2222222222222222,
           "#7201a8"
          ],
          [
           0.3333333333333333,
           "#9c179e"
          ],
          [
           0.4444444444444444,
           "#bd3786"
          ],
          [
           0.5555555555555556,
           "#d8576b"
          ],
          [
           0.6666666666666666,
           "#ed7953"
          ],
          [
           0.7777777777777778,
           "#fb9f3a"
          ],
          [
           0.8888888888888888,
           "#fdca26"
          ],
          [
           1,
           "#f0f921"
          ]
         ]
        },
        "legend": {
         "title": {
          "text": "Class"
         },
         "tracegroupgap": 0,
         "x": 0,
         "y": 1
        },
        "margin": {
         "t": 60
        },
        "scene": {
         "domain": {
          "x": [
           0,
           1
          ],
          "y": [
           0,
           1
          ]
         },
         "xaxis": {
          "title": {
           "text": "PC 1"
          }
         },
         "yaxis": {
          "title": {
           "text": "PC 2"
          }
         },
         "zaxis": {
          "title": {
           "text": "PC 3"
          }
         }
        },
        "template": {
         "data": {
          "bar": [
           {
            "error_x": {
             "color": "#2a3f5f"
            },
            "error_y": {
             "color": "#2a3f5f"
            },
            "marker": {
             "line": {
              "color": "#E5ECF6",
              "width": 0.5
             },
             "pattern": {
              "fillmode": "overlay",
              "size": 10,
              "solidity": 0.2
             }
            },
            "type": "bar"
           }
          ],
          "barpolar": [
           {
            "marker": {
             "line": {
              "color": "#E5ECF6",
              "width": 0.5
             },
             "pattern": {
              "fillmode": "overlay",
              "size": 10,
              "solidity": 0.2
             }
            },
            "type": "barpolar"
           }
          ],
          "carpet": [
           {
            "aaxis": {
             "endlinecolor": "#2a3f5f",
             "gridcolor": "white",
             "linecolor": "white",
             "minorgridcolor": "white",
             "startlinecolor": "#2a3f5f"
            },
            "baxis": {
             "endlinecolor": "#2a3f5f",
             "gridcolor": "white",
             "linecolor": "white",
             "minorgridcolor": "white",
             "startlinecolor": "#2a3f5f"
            },
            "type": "carpet"
           }
          ],
          "choropleth": [
           {
            "colorbar": {
             "outlinewidth": 0,
             "ticks": ""
            },
            "type": "choropleth"
           }
          ],
          "contour": [
           {
            "colorbar": {
             "outlinewidth": 0,
             "ticks": ""
            },
            "colorscale": [
             [
              0,
              "#0d0887"
             ],
             [
              0.1111111111111111,
              "#46039f"
             ],
             [
              0.2222222222222222,
              "#7201a8"
             ],
             [
              0.3333333333333333,
              "#9c179e"
             ],
             [
              0.4444444444444444,
              "#bd3786"
             ],
             [
              0.5555555555555556,
              "#d8576b"
             ],
             [
              0.6666666666666666,
              "#ed7953"
             ],
             [
              0.7777777777777778,
              "#fb9f3a"
             ],
             [
              0.8888888888888888,
              "#fdca26"
             ],
             [
              1,
              "#f0f921"
             ]
            ],
            "type": "contour"
           }
          ],
          "contourcarpet": [
           {
            "colorbar": {
             "outlinewidth": 0,
             "ticks": ""
            },
            "type": "contourcarpet"
           }
          ],
          "heatmap": [
           {
            "colorbar": {
             "outlinewidth": 0,
             "ticks": ""
            },
            "colorscale": [
             [
              0,
              "#0d0887"
             ],
             [
              0.1111111111111111,
              "#46039f"
             ],
             [
              0.2222222222222222,
              "#7201a8"
             ],
             [
              0.3333333333333333,
              "#9c179e"
             ],
             [
              0.4444444444444444,
              "#bd3786"
             ],
             [
              0.5555555555555556,
              "#d8576b"
             ],
             [
              0.6666666666666666,
              "#ed7953"
             ],
             [
              0.7777777777777778,
              "#fb9f3a"
             ],
             [
              0.8888888888888888,
              "#fdca26"
             ],
             [
              1,
              "#f0f921"
             ]
            ],
            "type": "heatmap"
           }
          ],
          "heatmapgl": [
           {
            "colorbar": {
             "outlinewidth": 0,
             "ticks": ""
            },
            "colorscale": [
             [
              0,
              "#0d0887"
             ],
             [
              0.1111111111111111,
              "#46039f"
             ],
             [
              0.2222222222222222,
              "#7201a8"
             ],
             [
              0.3333333333333333,
              "#9c179e"
             ],
             [
              0.4444444444444444,
              "#bd3786"
             ],
             [
              0.5555555555555556,
              "#d8576b"
             ],
             [
              0.6666666666666666,
              "#ed7953"
             ],
             [
              0.7777777777777778,
              "#fb9f3a"
             ],
             [
              0.8888888888888888,
              "#fdca26"
             ],
             [
              1,
              "#f0f921"
             ]
            ],
            "type": "heatmapgl"
           }
          ],
          "histogram": [
           {
            "marker": {
             "pattern": {
              "fillmode": "overlay",
              "size": 10,
              "solidity": 0.2
             }
            },
            "type": "histogram"
           }
          ],
          "histogram2d": [
           {
            "colorbar": {
             "outlinewidth": 0,
             "ticks": ""
            },
            "colorscale": [
             [
              0,
              "#0d0887"
             ],
             [
              0.1111111111111111,
              "#46039f"
             ],
             [
              0.2222222222222222,
              "#7201a8"
             ],
             [
              0.3333333333333333,
              "#9c179e"
             ],
             [
              0.4444444444444444,
              "#bd3786"
             ],
             [
              0.5555555555555556,
              "#d8576b"
             ],
             [
              0.6666666666666666,
              "#ed7953"
             ],
             [
              0.7777777777777778,
              "#fb9f3a"
             ],
             [
              0.8888888888888888,
              "#fdca26"
             ],
             [
              1,
              "#f0f921"
             ]
            ],
            "type": "histogram2d"
           }
          ],
          "histogram2dcontour": [
           {
            "colorbar": {
             "outlinewidth": 0,
             "ticks": ""
            },
            "colorscale": [
             [
              0,
              "#0d0887"
             ],
             [
              0.1111111111111111,
              "#46039f"
             ],
             [
              0.2222222222222222,
              "#7201a8"
             ],
             [
              0.3333333333333333,
              "#9c179e"
             ],
             [
              0.4444444444444444,
              "#bd3786"
             ],
             [
              0.5555555555555556,
              "#d8576b"
             ],
             [
              0.6666666666666666,
              "#ed7953"
             ],
             [
              0.7777777777777778,
              "#fb9f3a"
             ],
             [
              0.8888888888888888,
              "#fdca26"
             ],
             [
              1,
              "#f0f921"
             ]
            ],
            "type": "histogram2dcontour"
           }
          ],
          "mesh3d": [
           {
            "colorbar": {
             "outlinewidth": 0,
             "ticks": ""
            },
            "type": "mesh3d"
           }
          ],
          "parcoords": [
           {
            "line": {
             "colorbar": {
              "outlinewidth": 0,
              "ticks": ""
             }
            },
            "type": "parcoords"
           }
          ],
          "pie": [
           {
            "automargin": true,
            "type": "pie"
           }
          ],
          "scatter": [
           {
            "marker": {
             "colorbar": {
              "outlinewidth": 0,
              "ticks": ""
             }
            },
            "type": "scatter"
           }
          ],
          "scatter3d": [
           {
            "line": {
             "colorbar": {
              "outlinewidth": 0,
              "ticks": ""
             }
            },
            "marker": {
             "colorbar": {
              "outlinewidth": 0,
              "ticks": ""
             }
            },
            "type": "scatter3d"
           }
          ],
          "scattercarpet": [
           {
            "marker": {
             "colorbar": {
              "outlinewidth": 0,
              "ticks": ""
             }
            },
            "type": "scattercarpet"
           }
          ],
          "scattergeo": [
           {
            "marker": {
             "colorbar": {
              "outlinewidth": 0,
              "ticks": ""
             }
            },
            "type": "scattergeo"
           }
          ],
          "scattergl": [
           {
            "marker": {
             "colorbar": {
              "outlinewidth": 0,
              "ticks": ""
             }
            },
            "type": "scattergl"
           }
          ],
          "scattermapbox": [
           {
            "marker": {
             "colorbar": {
              "outlinewidth": 0,
              "ticks": ""
             }
            },
            "type": "scattermapbox"
           }
          ],
          "scatterpolar": [
           {
            "marker": {
             "colorbar": {
              "outlinewidth": 0,
              "ticks": ""
             }
            },
            "type": "scatterpolar"
           }
          ],
          "scatterpolargl": [
           {
            "marker": {
             "colorbar": {
              "outlinewidth": 0,
              "ticks": ""
             }
            },
            "type": "scatterpolargl"
           }
          ],
          "scatterternary": [
           {
            "marker": {
             "colorbar": {
              "outlinewidth": 0,
              "ticks": ""
             }
            },
            "type": "scatterternary"
           }
          ],
          "surface": [
           {
            "colorbar": {
             "outlinewidth": 0,
             "ticks": ""
            },
            "colorscale": [
             [
              0,
              "#0d0887"
             ],
             [
              0.1111111111111111,
              "#46039f"
             ],
             [
              0.2222222222222222,
              "#7201a8"
             ],
             [
              0.3333333333333333,
              "#9c179e"
             ],
             [
              0.4444444444444444,
              "#bd3786"
             ],
             [
              0.5555555555555556,
              "#d8576b"
             ],
             [
              0.6666666666666666,
              "#ed7953"
             ],
             [
              0.7777777777777778,
              "#fb9f3a"
             ],
             [
              0.8888888888888888,
              "#fdca26"
             ],
             [
              1,
              "#f0f921"
             ]
            ],
            "type": "surface"
           }
          ],
          "table": [
           {
            "cells": {
             "fill": {
              "color": "#EBF0F8"
             },
             "line": {
              "color": "white"
             }
            },
            "header": {
             "fill": {
              "color": "#C8D4E3"
             },
             "line": {
              "color": "white"
             }
            },
            "type": "table"
           }
          ]
         },
         "layout": {
          "annotationdefaults": {
           "arrowcolor": "#2a3f5f",
           "arrowhead": 0,
           "arrowwidth": 1
          },
          "autotypenumbers": "strict",
          "coloraxis": {
           "colorbar": {
            "outlinewidth": 0,
            "ticks": ""
           }
          },
          "colorscale": {
           "diverging": [
            [
             0,
             "#8e0152"
            ],
            [
             0.1,
             "#c51b7d"
            ],
            [
             0.2,
             "#de77ae"
            ],
            [
             0.3,
             "#f1b6da"
            ],
            [
             0.4,
             "#fde0ef"
            ],
            [
             0.5,
             "#f7f7f7"
            ],
            [
             0.6,
             "#e6f5d0"
            ],
            [
             0.7,
             "#b8e186"
            ],
            [
             0.8,
             "#7fbc41"
            ],
            [
             0.9,
             "#4d9221"
            ],
            [
             1,
             "#276419"
            ]
           ],
           "sequential": [
            [
             0,
             "#0d0887"
            ],
            [
             0.1111111111111111,
             "#46039f"
            ],
            [
             0.2222222222222222,
             "#7201a8"
            ],
            [
             0.3333333333333333,
             "#9c179e"
            ],
            [
             0.4444444444444444,
             "#bd3786"
            ],
            [
             0.5555555555555556,
             "#d8576b"
            ],
            [
             0.6666666666666666,
             "#ed7953"
            ],
            [
             0.7777777777777778,
             "#fb9f3a"
            ],
            [
             0.8888888888888888,
             "#fdca26"
            ],
            [
             1,
             "#f0f921"
            ]
           ],
           "sequentialminus": [
            [
             0,
             "#0d0887"
            ],
            [
             0.1111111111111111,
             "#46039f"
            ],
            [
             0.2222222222222222,
             "#7201a8"
            ],
            [
             0.3333333333333333,
             "#9c179e"
            ],
            [
             0.4444444444444444,
             "#bd3786"
            ],
            [
             0.5555555555555556,
             "#d8576b"
            ],
            [
             0.6666666666666666,
             "#ed7953"
            ],
            [
             0.7777777777777778,
             "#fb9f3a"
            ],
            [
             0.8888888888888888,
             "#fdca26"
            ],
            [
             1,
             "#f0f921"
            ]
           ]
          },
          "colorway": [
           "#636efa",
           "#EF553B",
           "#00cc96",
           "#ab63fa",
           "#FFA15A",
           "#19d3f3",
           "#FF6692",
           "#B6E880",
           "#FF97FF",
           "#FECB52"
          ],
          "font": {
           "color": "#2a3f5f"
          },
          "geo": {
           "bgcolor": "white",
           "lakecolor": "white",
           "landcolor": "#E5ECF6",
           "showlakes": true,
           "showland": true,
           "subunitcolor": "white"
          },
          "hoverlabel": {
           "align": "left"
          },
          "hovermode": "closest",
          "mapbox": {
           "style": "light"
          },
          "paper_bgcolor": "white",
          "plot_bgcolor": "#E5ECF6",
          "polar": {
           "angularaxis": {
            "gridcolor": "white",
            "linecolor": "white",
            "ticks": ""
           },
           "bgcolor": "#E5ECF6",
           "radialaxis": {
            "gridcolor": "white",
            "linecolor": "white",
            "ticks": ""
           }
          },
          "scene": {
           "xaxis": {
            "backgroundcolor": "#E5ECF6",
            "gridcolor": "white",
            "gridwidth": 2,
            "linecolor": "white",
            "showbackground": true,
            "ticks": "",
            "zerolinecolor": "white"
           },
           "yaxis": {
            "backgroundcolor": "#E5ECF6",
            "gridcolor": "white",
            "gridwidth": 2,
            "linecolor": "white",
            "showbackground": true,
            "ticks": "",
            "zerolinecolor": "white"
           },
           "zaxis": {
            "backgroundcolor": "#E5ECF6",
            "gridcolor": "white",
            "gridwidth": 2,
            "linecolor": "white",
            "showbackground": true,
            "ticks": "",
            "zerolinecolor": "white"
           }
          },
          "shapedefaults": {
           "line": {
            "color": "#2a3f5f"
           }
          },
          "ternary": {
           "aaxis": {
            "gridcolor": "white",
            "linecolor": "white",
            "ticks": ""
           },
           "baxis": {
            "gridcolor": "white",
            "linecolor": "white",
            "ticks": ""
           },
           "bgcolor": "#E5ECF6",
           "caxis": {
            "gridcolor": "white",
            "linecolor": "white",
            "ticks": ""
           }
          },
          "title": {
           "x": 0.05
          },
          "xaxis": {
           "automargin": true,
           "gridcolor": "white",
           "linecolor": "white",
           "ticks": "",
           "title": {
            "standoff": 15
           },
           "zerolinecolor": "white",
           "zerolinewidth": 2
          },
          "yaxis": {
           "automargin": true,
           "gridcolor": "white",
           "linecolor": "white",
           "ticks": "",
           "title": {
            "standoff": 15
           },
           "zerolinecolor": "white",
           "zerolinewidth": 2
          }
         }
        },
        "width": 800
       }
      },
      "text/html": [
       "<div>                            <div id=\"d1d39659-f7cd-46da-8a4b-aa84e1a9b575\" class=\"plotly-graph-div\" style=\"height:525px; width:800px;\"></div>            <script type=\"text/javascript\">                require([\"plotly\"], function(Plotly) {                    window.PLOTLYENV=window.PLOTLYENV || {};                                    if (document.getElementById(\"d1d39659-f7cd-46da-8a4b-aa84e1a9b575\")) {                    Plotly.newPlot(                        \"d1d39659-f7cd-46da-8a4b-aa84e1a9b575\",                        [{\"customdata\":[[\"No\"],[\"No\"],[\"No\"],[\"No\"],[\"No\"],[\"No\"],[\"No\"],[\"No\"],[\"No\"],[\"No\"],[\"No\"],[\"No\"],[\"No\"],[\"No\"],[\"No\"],[\"No\"],[\"No\"],[\"No\"],[\"No\"],[\"No\"],[\"No\"],[\"No\"],[\"No\"],[\"No\"],[\"No\"],[\"No\"],[\"No\"],[\"No\"],[\"No\"],[\"No\"],[\"No\"],[\"No\"],[\"No\"],[\"No\"],[\"No\"],[\"No\"],[\"No\"],[\"No\"],[\"No\"],[\"No\"],[\"No\"],[\"No\"],[\"No\"],[\"No\"],[\"No\"],[\"No\"],[\"No\"],[\"No\"],[\"No\"],[\"No\"],[\"No\"],[\"No\"],[\"No\"],[\"No\"],[\"No\"],[\"No\"],[\"No\"],[\"No\"],[\"No\"],[\"No\"],[\"No\"],[\"No\"],[\"No\"],[\"No\"],[\"No\"],[\"No\"],[\"No\"],[\"No\"],[\"No\"],[\"No\"],[\"No\"],[\"No\"],[\"No\"],[\"No\"],[\"No\"],[\"No\"],[\"No\"],[\"No\"],[\"No\"],[\"No\"],[\"No\"],[\"No\"],[\"No\"],[\"No\"],[\"No\"],[\"No\"],[\"No\"],[\"No\"],[\"No\"]],\"hovertemplate\":\"<b>%{hovertext}</b><br><br>Class=%{marker.color}<br>PC 1=%{x}<br>PC 2=%{y}<br>PC 3=%{z}<br>enough_recycle_compost=%{customdata[0]}<extra></extra>\",\"hovertext\":[\"MINI MART\",\"RESTAURANT\",\"FLORIST\",\"MULTIFAMIL\",\"STRIP MALL\",\"CONTRACTOR\",\"MIXED USE\",\"GROCERY\",\"MULTIFAMIL\",\"RESTAURANT\",\"MULTIFAMIL\",\"LODGING\",\"MULTIFAMIL\",\"LODGING\",\"STRIP MALL\",\"LODGING\",\"RETAIL\",\"LODGING\",\"AUTO\",\"LODGING-FW\",\"RESTAURANT\",\"AUTO\",\"HOME IMPRO\",\"RETAIL\",\"AUTO\",\"UTILITY\",\"AUTO\",\"MULTIFAMIL\",\"GROCERY\",\"SCHOOL\",\"MEDICAL\",\"INDUSTRIAL\",\"NRSG HOME\",\"MULTIFAMIL\",\"MULTIFAMIL\",\"OFFICE BLD\",\"MULTIFAMIL\",\"COMMUNITY\",\"CHURCH\",\"OFFICE BLD\",\"CONTRACTOR\",\"LODGING\",\"NRSG HOME\",\"MINI MART\",\"HOME IMPRO\",\"MEDICAL\",\"OFFICE BLD\",\"LODGING\",\"OFFICE BLD\",\"OFFICE BLD\",\"UTILITY\",\"SCHOOL\",\"BAR NO FW\",\"MULTIFAMIL\",\"RETAIL\",\"LANDSCAPER\",\"RETAIL\",\"LODGING\",\"MULTIFAMIL\",\"MULTIFAMIL\",\"HOA\",\"MULTIFAMIL\",\"MULTIFAMIL\",\"LODGING-FW\",\"LODGING\",\"SCHOOL\",\"MULTIFAMIL\",\"MULTIFAMIL\",\"MULTIFAMIL\",\"VINEYARD\",\"LODGING\",\"LODGING\",\"MINI MART\",\"MULTIFAMIL\",\"MULTIFAMIL\",\"BAR NO FW\",\"BAKERY\",\"MULTIFAMIL\",\"RESTAURANT\",\"MULTIFAMIL\",\"LODGING\",\"LODGING-FW\",\"MULTIFAMIL\",\"RESTAURANT\",\"LODGING-FW\",\"MULTIFAMIL\",\"DELI/CAFE\",\"RESTAURANT\",\"RESTAURANT\"],\"legendgroup\":\"1\",\"marker\":{\"color\":[1,1,1,1,1,1,1,1,1,1,1,1,1,1,1,1,1,1,1,1,1,1,1,1,1,1,1,1,1,1,1,1,1,1,1,1,1,1,1,1,1,1,1,1,1,1,1,1,1,1,1,1,1,1,1,1,1,1,1,1,1,1,1,1,1,1,1,1,1,1,1,1,1,1,1,1,1,1,1,1,1,1,1,1,1,1,1,1,1],\"coloraxis\":\"coloraxis\",\"symbol\":\"circle\"},\"mode\":\"markers\",\"name\":\"1\",\"scene\":\"scene\",\"showlegend\":true,\"type\":\"scatter3d\",\"x\":[0.3035333942138717,0.2144853129441126,-0.5026633399825959,0.1654019781733543,-0.4356949957682667,-0.660218345090457,1.8191268540944285,3.454247820543207,-0.6141754776736159,2.411257357512118,2.289351067192814,1.3726320813692647,-0.4868661258631489,1.526003836112415,0.48325395454442577,3.7097483693976163,-0.6105598451948852,0.4972856617208037,-0.17457523925222537,3.610677685435465,3.1904584526348443,-0.5781061396964485,0.13409178867616767,-0.6776803788914568,-0.32991029541541794,-0.35462303119553645,-0.1866613426269813,0.8787091509303578,0.48010853490634864,-0.5858998834953446,-0.4846397385669886,-0.23758848910547828,3.9932134592917636,-0.09033123890368358,-0.5171936416191968,-0.3705911953932554,-0.4777561044172071,-0.7248296865783341,-0.6573735944824868,5.291266264188618,-0.6307737492668156,1.7641479031587326,2.145594110460367,-0.4783877440714775,-0.13821886063790814,-0.5114639256379763,-0.589956183966577,-0.35611308538639025,-0.5106541695766379,1.125438030997493,-0.21113419847220574,0.05886714079173139,-0.2581296623434972,-0.18330289519026405,-0.6924026768032778,-0.661111564229094,-0.8912497091939716,4.087869402026665,0.1264759575778093,-0.2714857203769727,1.1392821822324621,-0.39905470400240184,0.05623462905180758,5.029634057940791,0.4102330642024113,-0.3170669141641118,0.014820686146203257,-0.4492194878717989,3.2467652230596076,0.023503102056063277,-0.0823398808396375,-0.24458906208537587,-0.20801288630497222,-0.5120512101898405,-0.4973289122780193,-0.41080015508636597,-0.40178860573605835,1.2300253618809922,-0.15953320321582248,0.03269769451974753,-0.007036827205080011,-0.2858613770597842,1.2662044259788665,5.025486669096887,-0.2566958864613108,-0.47675860167884027,-0.3067015700943393,-0.030480128899285332,0.7250571835907869],\"y\":[-0.27150556317901825,0.3423970517325497,-0.22951944946541222,0.09044263975254375,0.14531345364207882,-0.5428039148944979,-0.3786700369435694,0.6030897057075855,0.10893983935636864,0.39486962523706826,0.10915136613722325,-0.14523941768176823,0.09189400622685363,-0.12460984187138982,0.17161974894117343,-0.06056356319078709,0.24727864673671507,-0.10355194426979933,0.07864534165713925,0.08383723742966856,0.5241023542945007,0.06252632036848516,0.2379808278247071,0.30380986634718976,0.11450775369791939,-0.14839039489486866,0.08550680171346123,0.2513808710927726,0.2755956796935303,0.0022106672231033612,0.23914276609815127,-0.7521690957227666,-0.15825983853497194,0.12299384368137872,0.15774939695131596,0.34070863979940025,0.08228139667969073,0.4411328933667844,0.33704847201694677,0.4649487062209558,-0.5367865446172321,-0.17755982691274563,-0.3447481383824932,-0.28616092525837344,0.2394578499156743,0.17635554387263624,0.3375273944814558,-0.0811682401803145,0.361335708779389,0.37152143119221726,-0.1282871138997194,-0.00539800634605345,-0.47104774973024727,0.09960132802785054,0.30080118120855676,-0.5690801181238316,0.3080511526244208,0.007894670486028712,0.08162796652897421,0.07138900667032118,0.10783928176669787,0.10769641509091665,0.04748598092739336,0.0883720585244647,-0.042259668949903274,-0.01654836624428893,0.02139064830126851,0.10753959258622552,0.16271546330194825,-0.688308979201202,-0.0779325387772548,-0.10667795404680618,-0.36682597263999667,0.16192355345311407,0.16493223859174727,-0.3901742858069157,0.3693841208834799,0.06631237499298419,0.36931849764254954,0.10242743090443378,-0.13641826915071195,-0.08397038441455812,0.10166278253171765,0.32848319312311897,-0.10231278689480434,0.10646957001767317,0.40151388265153537,0.4703433502188333,0.2565126539417977],\"z\":[-2.7730473995288643,-1.5344693067861552,-2.7947504045660936,-2.294072469661483,-2.0121927547057634,-1.4415096770195697,-1.4091326722141966,-1.5213502361498175,-2.2917723434524118,-1.007972753050059,-2.5719788738551124,-2.7197570730540686,-2.328658484652813,-2.647698865091604,-1.9183064182030347,-3.0128394223923936,-1.8220725160121827,-2.57631377722611,-2.2397969169710974,-1.9741965550906266,-1.9456924237360247,-2.315966148609691,-1.3608276619030242,-1.7221455733061197,-2.1882075458007657,-1.7201115531550801,-2.234761820127208,-2.0142548772343085,-1.8700463699472023,-1.5228068244468536,-1.572179794848808,-2.2451170278426433,-3.4698318390563228,-2.150174650726826,-2.204653838029644,-1.555671392726503,-2.3380961639085496,-1.3312972105181962,-1.130215880593063,-2.388761222435336,-1.4278990815931092,-2.1845223421087874,-2.721758406712574,-2.889140498273268,-1.380691975261301,-1.6336655663980362,-1.5645843001670185,-2.44007322790673,-1.511903068898876,-1.705072894627501,-1.658135553447071,-1.5063074234683207,-2.4235967686636304,-2.2805906182573525,-1.7289508710193495,-1.6087910010167132,-1.7257812761250428,-1.7909537090605778,-2.3186900305914575,-2.338598683169674,-1.042563731613223,-2.2910950644997436,-2.229994201283906,-1.0917050398421886,-2.4814315841877574,-1.51858819604397,-1.841163335088011,-2.301285606643205,-2.5940980515359224,-1.1826205350280516,-2.4112315025224436,-2.495034628519927,-3.0051558420676194,-2.1991561478096866,-2.1923508500964575,-2.844402623052441,-1.8335631048705923,-2.4176586221841254,-1.510337682279434,-2.274377475181813,-2.5090874722922782,-1.6091328498556738,-2.466795929074216,-1.4929581536420142,-1.6232188192314223,-2.310217774702787,-1.666065342310772,-1.3657090092587982,-0.9851037355535656]},{\"customdata\":[[\"No\"],[\"No\"],[\"Yes\"],[\"Yes\"],[\"No\"],[\"No\"],[\"No\"],[\"No\"],[\"Yes\"],[\"No\"],[\"No\"],[\"No\"],[\"Yes\"],[\"Yes\"],[\"Yes\"],[\"Yes\"],[\"No\"],[\"No\"],[\"No\"],[\"No\"],[\"No\"],[\"No\"],[\"No\"],[\"Yes\"],[\"No\"],[\"Yes\"],[\"Yes\"],[\"No\"],[\"No\"],[\"No\"],[\"Yes\"],[\"Yes\"],[\"No\"],[\"Yes\"],[\"No\"],[\"No\"],[\"No\"],[\"Yes\"],[\"No\"],[\"No\"],[\"No\"],[\"Yes\"],[\"No\"],[\"No\"],[\"No\"],[\"Yes\"],[\"No\"],[\"Yes\"],[\"No\"],[\"Yes\"],[\"No\"],[\"Yes\"],[\"No\"],[\"No\"],[\"No\"],[\"No\"],[\"No\"],[\"Yes\"],[\"No\"],[\"No\"],[\"No\"],[\"No\"],[\"No\"],[\"No\"],[\"No\"],[\"No\"],[\"No\"],[\"No\"],[\"Yes\"],[\"No\"],[\"No\"],[\"No\"],[\"Yes\"],[\"No\"],[\"Yes\"],[\"No\"],[\"Yes\"],[\"No\"],[\"No\"],[\"No\"],[\"No\"],[\"Yes\"],[\"No\"],[\"No\"],[\"Yes\"],[\"No\"],[\"No\"],[\"No\"],[\"No\"],[\"No\"],[\"No\"],[\"No\"],[\"Yes\"],[\"No\"],[\"No\"],[\"No\"],[\"No\"],[\"Yes\"],[\"No\"],[\"Yes\"],[\"No\"],[\"No\"],[\"No\"],[\"No\"],[\"No\"],[\"No\"],[\"No\"],[\"No\"],[\"No\"],[\"No\"],[\"Yes\"],[\"No\"],[\"No\"],[\"No\"],[\"Yes\"],[\"Yes\"],[\"Yes\"],[\"No\"],[\"No\"],[\"No\"],[\"No\"],[\"Yes\"],[\"No\"],[\"No\"],[\"Yes\"],[\"Yes\"],[\"No\"],[\"Yes\"],[\"No\"],[\"Yes\"],[\"Yes\"],[\"No\"],[\"No\"],[\"Yes\"],[\"No\"],[\"No\"],[\"No\"],[\"No\"],[\"No\"],[\"No\"],[\"No\"],[\"Yes\"],[\"No\"],[\"No\"],[\"No\"]],\"hovertemplate\":\"<b>%{hovertext}</b><br><br>Class=%{marker.color}<br>PC 1=%{x}<br>PC 2=%{y}<br>PC 3=%{z}<br>enough_recycle_compost=%{customdata[0]}<extra></extra>\",\"hovertext\":[\"WINERY\",\"WINERY\",\"WINERY\",\"WINERY\",\"WINERY\",\"WINERY\",\"WINERY\",\"WINERY\",\"WINERY\",\"WINERY\",\"VINEYARD\",\"VINEYARD\",\"WINERY\",\"WINERY\",\"WINERY\",\"VINEYARD\",\"WINERY\",\"MIXED USE\",\"WINERY\",\"WINERY\",\"WINERY\",\"WINERY\",\"WINERY\",\"WINERY\",\"WINERY\",\"WINERY\",\"WINERY\",\"UTILITY\",\"WINERY\",\"WINERY\",\"LANDSCAPER\",\"WINERY\",\"WINERY\",\"CONTRACTOR\",\"MIXED USE\",\"WINERY\",\"WINERY\",\"WINERY\",\"WINERY\",\"WINERY\",\"WINERY\",\"WINERY\",\"CONTRACTOR\",\"WINERY\",\"WINERY\",\"WINERY\",\"WINERY\",\"VINEYARD\",\"CONTRACTOR\",\"WINERY\",\"WINERY\",\"WINERY\",\"LODGING-FW\",\"UTILITY\",\"WINERY\",\"WINERY\",\"VINEYARD\",\"GROUP HOME\",\"INDUSTRIAL\",\"WINERY\",\"HOSPITAL\",\"MOBILEHOME\",\"HOSPITAL\",\"WINERY\",\"POLICEFIRE\",\"WINERY\",\"CHURCH\",\"SCHOOL\",\"VINEYARD\",\"WINERY\",\"VINEYARD\",\"WINERY\",\"WINERY\",\"WINERY\",\"WINERY\",\"VINEYARD\",\"WINERY\",\"VINEYARD\",\"WINERY\",\"CONTRACTOR\",\"WINERY\",\"WINERY\",\"WINERY\",\"WINERY\",\"WINERY\",\"WINERY\",\"WINERY\",\"WINERY\",\"VINEYARD\",\"WINERY\",\"WINERY\",\"WINERY\",\"PARK\",\"WINERY\",\"WINERY\",\"WINERY\",\"WINERY\",\"WINERY\",\"WINERY\",\"WINERY\",\"OFFICE BLD\",\"WINERY\",\"WINERY\",\"VINEYARD\",\"WINERY\",\"WINERY\",\"WINERY\",\"MEDICAL\",\"MEMBER\",\"WINERY\",\"WINERY\",\"WINERY\",\"WINERY\",\"POLICEFIRE\",\"CONTRACTOR\",\"WINERY\",\"CONTRACTOR\",\"WINERY\",\"PARK\",\"VINEYARD\",\"WINERY\",\"WINERY\",\"WINERY\",\"WINERY\",\"WINERY\",\"HOSPITAL\",\"WINERY\",\"VINEYARD\",\"MULTIFAMIL\",\"POLICEFIRE\",\"WINERY\",\"WINERY\",\"VINEYARD\",\"VINEYARD\",\"WINERY\",\"UTILITY\",\"WINERY\",\"WINERY\",\"WINERY\",\"WINERY\",\"WINERY\",\"VINEYARD\",\"LANDSCAPER\",\"CONTRACTOR\",\"WINERY\"],\"legendgroup\":\"2\",\"marker\":{\"color\":[2,2,2,2,2,2,2,2,2,2,2,2,2,2,2,2,2,2,2,2,2,2,2,2,2,2,2,2,2,2,2,2,2,2,2,2,2,2,2,2,2,2,2,2,2,2,2,2,2,2,2,2,2,2,2,2,2,2,2,2,2,2,2,2,2,2,2,2,2,2,2,2,2,2,2,2,2,2,2,2,2,2,2,2,2,2,2,2,2,2,2,2,2,2,2,2,2,2,2,2,2,2,2,2,2,2,2,2,2,2,2,2,2,2,2,2,2,2,2,2,2,2,2,2,2,2,2,2,2,2,2,2,2,2,2,2,2,2,2,2,2,2,2,2,2],\"coloraxis\":\"coloraxis\",\"symbol\":\"diamond\"},\"mode\":\"markers\",\"name\":\"2\",\"scene\":\"scene\",\"showlegend\":true,\"type\":\"scatter3d\",\"x\":[-0.027025542130404305,-0.2344934773567127,-1.359978400206509,-1.0285007634361132,-0.4149920747923273,1.4321082346465182,0.29898590171159484,-0.4139498524365201,-1.2135449932240594,0.22418623734104515,-0.5719804912299765,0.4402941843868862,-1.1335372843034797,-1.3199347763368017,-1.3797906089740308,-1.4743215083066006,-0.09509356281840249,-0.1704001999719822,-0.3951798660248047,0.9901104392885421,-0.09357940408492979,-0.18323813090982316,1.323049917753903,-1.3408186672415798,-0.30145093931253636,-1.2259023331285217,-1.3606308760091017,1.7053399806403264,-0.487734454756119,-0.4278301553882848,-1.507305082036024,-1.1560011207595917,-0.3951066637275799,-1.505759387094794,-0.4046901466089238,-0.44698988835321335,-0.3697829587010573,-1.2871272013328803,-0.411192641483109,-0.3844600685436671,-0.1236820390280283,-1.2406246310403417,-0.6222154710651399,-0.28980241875868956,1.2619224666270008,-1.3911700136589418,0.1352394759347755,-1.4545092995390785,-0.3483016143042615,0.301872391439598,2.7437838308894738,0.5695127082410671,1.4689397898224401,0.034540341073802355,3.0730588546883473,-0.49971506029035123,-0.3040172159187494,0.00931769425604435,0.12963878953416194,0.4535696767237211,1.3715687817223499,1.0646645688283924,-0.4557311569578559,-0.15221632481967867,-0.16932762514370156,-0.00021714084382061494,-0.6429226152814268,-0.471535449078839,-1.2386015801987833,0.034317365835522626,-0.19377025034990034,-0.28775657478722033,0.21875978150398853,0.40456973300426413,0.3972935299482406,0.2299574084394001,0.5696528150769269,-0.3334618117423909,0.7652940248220106,-0.6369377689769607,0.6601923021880619,-1.3265955991704712,1.5260483300381935,0.4205416358854678,-1.348456302639595,0.11382709605586913,-0.0007414713751458056,2.9538352310337643,-0.5703129077068312,0.671615937999127,-0.15730623567538024,1.587245286506522,-1.3319194907810972,2.284041419146359,2.498593841278251,-0.43100485025063134,-0.47027046446670995,-1.164359236357648,-0.3509397699921179,-1.2539004199942971,-0.5327002476109803,1.687713019333033,0.05248418808994922,-0.28418293506129455,-0.3182233535417029,-0.059276601260909945,-0.16342592214230062,1.0342128550623646,0.7054349864867405,1.9978589743757909,-1.0556195979253962,0.5654347580799937,0.08663331300048789,-0.5943818822222193,-1.544728555091673,-1.3260963693297598,-1.5064118628973875,2.1839960871678743,0.3489283706631737,-0.2476861224023017,-0.04683775089791955,-0.921283318561288,1.8505878273660217,4.283221847839421,-1.288432152938068,-0.7946283384104749,0.7207161334454923,-1.492825991733364,-0.2297920711337367,-1.5124603049312164,-1.3069394101004026,-0.1776074476982592,-0.5091304328799622,-1.4593090219412526,0.3456065117656938,-0.5594862106606545,-0.07131439146772822,0.09665108182541154,-0.19032658362125057,-0.36595281138133223,-0.15379353508618152,-1.1795950930816077,-0.6378309881155974,-0.3802744642449978,-0.037052199261484065],\"y\":[-2.4867125840025937,-2.529222198270336,-0.8587188010447899,-0.8917417410127721,-2.5105238980583438,-2.4768263936982535,-2.5150886442383698,-2.5303487910762277,-0.909775145649454,-2.3497348914024645,-2.152766120323544,-2.1709408904069303,-0.8862282239901412,-0.8733458632022951,-0.8720990789014808,-0.5639892258209153,-2.433854924270887,-1.954456481132168,-2.4971436202016477,-2.544993390250041,-2.43976642437005,-2.5310799322684536,-2.4269097980011813,-0.8610497437711153,-2.5300319392703496,-0.8687116161203057,-0.8744300216278091,-1.364068005560355,-2.469224286407707,-2.5052117098823787,-0.4559721450720336,-0.864995344865185,-2.4502946424104732,-0.41398472125967595,-1.9253480870032453,-2.502880767156046,-2.5213227356603287,-0.8469910609560973,-2.493318742020395,-2.4931788811542077,-2.536115136109416,-0.8717203012589392,-2.064164057648203,-2.4965889443856253,-2.3398183154698557,-0.8716265777650364,-2.526935120424257,-0.5506089479642211,-2.0921252864733275,-0.9062754353998785,-2.6375056605189418,-0.8826406232488524,-1.5532648165544218,-1.6927272603979708,-2.61289500906081,-0.9845293095409753,-2.209755347047541,-0.08564113429076527,-2.30431684358293,-2.497635547328622,-2.517146938770502,-0.9569986500273787,-2.3716939111536535,-2.4875240870418867,-1.9865958917853868,-2.490565358920281,-1.1902733571367121,-1.5298119117150104,-0.5791788550230872,-2.4741763959249554,-2.255665339472002,-2.428356313274607,-0.7714218684523265,-2.4991626905606465,-0.9774081781562474,-2.302501070651923,-0.8087205256104483,-2.2157727173248083,-0.8836292131600904,-2.0671727427868354,-2.521683677460396,-0.8803141986666405,-2.4695257140848628,-2.413798507814211,-0.8614710172174743,-2.476479448202399,-2.4368163140192776,-2.1993683782531823,-2.1850770637697234,-2.5113617456824193,-2.4978956797599463,-2.5021605244819574,-0.623536929921741,-2.209847871539985,-2.4480960902899285,-2.506699019877088,-0.9785119392637092,-0.8538840325790342,-2.4412685869945747,-0.8620238765807974,-1.1831579613576724,-2.322605519113427,-2.4890156362800364,-2.2340689893600745,-2.4857861712995306,-2.571075230439024,-2.517699654411761,-1.372360231808663,-2.8144586491047723,-2.402112322949061,-0.7900333441998132,-2.571120859969348,-2.5394751227290473,-2.0131356676569014,-0.4250347189360604,-0.858041058632482,-0.42969594184269927,-2.5489410572770534,-2.3021050479349814,-2.242786769908999,-2.500092861859287,-0.7751261316724974,-2.4635356145311755,-2.2143923883716368,-0.8784135021221453,-0.48263016677070425,-2.540783765817059,-0.5459477250575826,-1.3731532987751291,-0.37934529426370045,-0.860371338812792,-2.532424900691796,-2.181578659821468,-0.5627246732426722,-2.5055611412993657,-1.6622561452803397,-0.957325632544549,-2.479989580864138,-2.5201961428544357,-2.5112210444635616,-2.52506256199119,-0.487940861396515,-2.09344894601617,-2.084488118485224,-2.5388097018918754],\"z\":[0.44017473744437674,0.3380029360407935,1.939481952051398,1.9780013506977698,0.35985074796597377,0.2736203424130691,0.403104623318508,0.3508771558051353,1.9693255894303512,0.7794029261347029,-0.08702586858797973,0.12768607370634633,1.9421795249867024,1.941009637997505,1.9197020434955099,1.5377118798828797,0.5234155161360557,-0.31964393834191984,0.3796306565218599,0.6360788626417512,0.5170342081453612,0.4349290249886302,0.819327752145208,1.9420971670379479,0.3921800049310124,1.9706382409401284,1.9223172584820598,0.17065279144268009,0.2839689145847412,0.35436740573477726,1.1189704113546566,1.9534935445050112,0.32678557936381225,1.3034164289211392,-0.30219703638528495,0.3517521907482285,0.37129304894482457,1.9712968862688873,0.37557786778936686,0.38542293255814825,0.37528637722753005,1.9638329432268995,-0.297923927808491,0.42465920067505203,0.844281435929024,1.9190560078601917,0.4867716783258224,1.5574917884387662,-0.28997034809424027,2.2039329299306702,0.6714067212795619,2.333719947789904,-0.4946180272651795,-0.4589095606370132,0.3142588099315969,-0.7986388561760799,-0.026186549418698944,2.9702633391473148,-0.9956252498227752,0.46788872192309894,0.09837179789364424,1.3931291764253741,0.07670846496418697,0.4043599542829493,0.14544387236450762,0.4419449383137177,-0.004277418788555573,-0.35467164736459045,1.6266543666148194,0.4685301445828345,-0.007520726165196833,0.376407541856114,2.4205228346917003,0.5859635559765901,2.2073462077712755,0.1253829374974264,2.3686521611864557,-0.03979714484515925,-0.5040456628794578,-0.304729225521721,0.3995514108361801,1.928697432064201,0.30521107602016034,0.6320873782875557,1.9423981627555,0.49031034259526635,0.5565331426097138,0.9549913494645897,-0.026683874721524836,0.4086009516298653,0.3913853434402931,1.0171846323302811,1.857169532657815,1.2795134011476719,0.6835281236640117,0.35579795923348,-0.7850282607496202,2.003810689645491,0.3472014725035019,1.9635520033746026,-0.41729971622555084,1.0019439714822442,0.46195493545680977,-0.030403924073450637,0.4069228927430069,0.3823498378650767,0.4547089335445167,-0.4281447909319485,-0.609805556206714,0.594602487323266,2.1354209732455067,0.4741343972515273,0.4547822691248077,0.044046714825702125,1.2810220074034278,1.9489024647511772,1.2862517353518006,0.7283403796915606,0.33771610419711956,-0.021166682753141045,0.42039482888848984,2.1397754603726655,0.4785792708296831,0.30633764893680504,1.936967499130211,2.073293146672338,0.5452533070415325,1.552262060490394,-1.0513182711550784,1.6188018652862155,1.9515169777130008,0.4363541351786455,0.0035667325949952046,1.5599000465626327,0.4246547327437354,-0.5827795218758183,-0.7019228493141514,0.48237082859649827,0.358418829180481,0.3708734539753573,0.44853962041508977,1.7398202142064159,-0.4720105495188648,-0.29806258708946787,0.48475796438925717]},{\"customdata\":[[\"Yes\"],[\"Yes\"],[\"Yes\"],[\"Yes\"],[\"Yes\"],[\"Yes\"],[\"Yes\"],[\"Yes\"],[\"Yes\"],[\"Yes\"],[\"Yes\"],[\"Yes\"],[\"Yes\"],[\"Yes\"],[\"Yes\"],[\"Yes\"],[\"Yes\"],[\"Yes\"],[\"Yes\"],[\"Yes\"],[\"Yes\"],[\"Yes\"],[\"Yes\"],[\"Yes\"],[\"Yes\"],[\"Yes\"],[\"Yes\"],[\"Yes\"],[\"Yes\"],[\"Yes\"],[\"Yes\"],[\"Yes\"],[\"Yes\"],[\"Yes\"],[\"Yes\"],[\"Yes\"],[\"Yes\"],[\"Yes\"],[\"Yes\"],[\"Yes\"],[\"Yes\"],[\"Yes\"],[\"Yes\"],[\"Yes\"],[\"Yes\"],[\"Yes\"],[\"Yes\"],[\"Yes\"],[\"Yes\"],[\"Yes\"],[\"Yes\"],[\"Yes\"],[\"Yes\"],[\"Yes\"],[\"Yes\"],[\"Yes\"],[\"Yes\"],[\"Yes\"],[\"Yes\"],[\"Yes\"],[\"Yes\"],[\"Yes\"],[\"Yes\"],[\"Yes\"],[\"Yes\"],[\"Yes\"],[\"Yes\"],[\"Yes\"],[\"Yes\"],[\"Yes\"],[\"Yes\"],[\"Yes\"],[\"Yes\"],[\"Yes\"],[\"Yes\"],[\"Yes\"],[\"Yes\"],[\"Yes\"],[\"Yes\"],[\"Yes\"],[\"Yes\"],[\"Yes\"],[\"Yes\"],[\"Yes\"],[\"Yes\"],[\"Yes\"],[\"Yes\"],[\"Yes\"],[\"Yes\"],[\"Yes\"],[\"Yes\"],[\"Yes\"],[\"Yes\"],[\"Yes\"],[\"Yes\"],[\"Yes\"],[\"Yes\"],[\"Yes\"],[\"Yes\"],[\"Yes\"],[\"Yes\"],[\"Yes\"],[\"Yes\"],[\"Yes\"],[\"Yes\"],[\"Yes\"],[\"Yes\"],[\"Yes\"],[\"Yes\"],[\"Yes\"],[\"Yes\"],[\"Yes\"],[\"Yes\"],[\"Yes\"],[\"Yes\"],[\"Yes\"],[\"Yes\"],[\"Yes\"],[\"Yes\"],[\"Yes\"],[\"Yes\"],[\"Yes\"],[\"Yes\"],[\"Yes\"],[\"Yes\"],[\"Yes\"],[\"Yes\"],[\"Yes\"],[\"Yes\"],[\"Yes\"],[\"Yes\"],[\"Yes\"],[\"Yes\"],[\"Yes\"],[\"Yes\"],[\"Yes\"],[\"Yes\"],[\"Yes\"],[\"Yes\"],[\"Yes\"],[\"Yes\"],[\"Yes\"],[\"Yes\"],[\"Yes\"],[\"Yes\"],[\"Yes\"],[\"Yes\"],[\"Yes\"],[\"Yes\"],[\"Yes\"],[\"Yes\"],[\"Yes\"],[\"Yes\"],[\"Yes\"],[\"Yes\"]],\"hovertemplate\":\"<b>%{hovertext}</b><br><br>Class=%{marker.color}<br>PC 1=%{x}<br>PC 2=%{y}<br>PC 3=%{z}<br>enough_recycle_compost=%{customdata[0]}<extra></extra>\",\"hovertext\":[\"MEDICAL\",\"GROCERY\",\"OFFICE BLD\",\"PRESCHOOL\",\"CHURCH\",\"HOME IMPRO\",\"PRESCHOOL\",\"MEDICAL\",\"LODGING-FW\",\"SCHOOL\",\"MULTIFAMIL\",\"FOURPLEX\",\"OFFICE BLD\",\"OFFICE BLD\",\"RESTAURANT\",\"WINERY\",\"STRIP MALL\",\"OFFICE BLD\",\"RETAIL\",\"RETAIL\",\"UTILITY\",\"HOME IMPRO\",\"RESTAURANT\",\"RESTAURANT\",\"COMMUNITY\",\"LODGING\",\"MULTIFAMIL\",\"DUPLEX\",\"RESTAURANT\",\"WINERY\",\"RESTAURANT\",\"RETAIL\",\"COMMUNITY\",\"RETAIL\",\"POSTOFFICE\",\"CHURCH\",\"MEDICAL\",\"MULTIFAMIL\",\"CHURCH\",\"MULTIFAMIL\",\"OFFICE BLD\",\"ENTERTAINM\",\"POSTOFFICE\",\"OFFICE BLD\",\"MEDICAL\",\"MULTIFAMIL\",\"AUTO\",\"OFFICE BLD\",\"OFFICE BLD\",\"POSTOFFICE\",\"COMMUNITY\",\"VINEYARD\",\"BAKERY\",\"MULTIFAMIL\",\"OFFICE BLD\",\"HOA\",\"LODGING-FW\",\"CHURCH\",\"CHURCH\",\"OFFICE BLD\",\"STRIP MALL\",\"LODGING-FW\",\"LODGING\",\"SCHOOL\",\"SCHOOL\",\"POSTOFFICE\",\"GROCERY\",\"CONTRACTOR\",\"MULTIFAMIL\",\"ENTERTAINM\",\"HOME IMPRO\",\"MULTIFAMIL\",\"MEDICAL\",\"MULTIFAMIL\",\"RETAIL\",\"MULTIFAMIL\",\"SCHOOL\",\"COMMUNITY\",\"WINERY\",\"LODGING-FW\",\"WINERY\",\"MULTIFAMIL\",\"HOA\",\"FOURPLEX\",\"OFFICE BLD\",\"CHURCH\",\"CHURCH\",\"MULTIFAMIL\",\"WINERY\",\"RESTAURANT\",\"UTILITY\",\"DELI/CAFE\",\"CATERING\",\"CHURCH\",\"WINERY\",\"RETAIL\",\"WINERY\",\"WINERY\",\"OFFICE BLD\",\"OFFICE BLD\",\"COMMUNITY\",\"MULTIFAMIL\",\"OFFICE BLD\",\"OFFICE BLD\",\"MULTIFAMIL\",\"VINEYARD\",\"OFFICE BLD\",\"WINERY\",\"LODGING\",\"CHURCH\",\"MEDICAL\",\"POSTOFFICE\",\"WINERY\",\"MEDICAL\",\"WINERY\",\"CHURCH\",\"RESTAURANT\",\"LODGING-FW\",\"WINERY\",\"LODGING\",\"WINERY\",\"SCHOOL\",\"MIXED USE\",\"RESTAURANT\",\"RESTAURANT\",\"MULTIFAMIL\",\"DELI/CAFE\",\"COMMUNITY\",\"MULTIFAMIL\",\"AUTO\",\"WINERY\",\"UTILITY\",\"WINERY\",\"RESTAURANT\",\"MULTIFAMIL\",\"RESTAURANT\",\"RETAIL\",\"RESTAURANT\",\"UTILITY\",\"RESTAURANT\",\"POLICEFIRE\",\"RETAIL\",\"WINERY\",\"PRESCHOOL\",\"ENTERTAINM\",\"BAKERY\",\"MULTIFAMIL\",\"GROCERY\",\"FOURPLEX\",\"WINERY\",\"MULTIFAMIL\",\"MULTIFAMIL\",\"MIXED USE\",\"LODGING-FW\",\"WINERY\"],\"legendgroup\":\"0\",\"marker\":{\"color\":[0,0,0,0,0,0,0,0,0,0,0,0,0,0,0,0,0,0,0,0,0,0,0,0,0,0,0,0,0,0,0,0,0,0,0,0,0,0,0,0,0,0,0,0,0,0,0,0,0,0,0,0,0,0,0,0,0,0,0,0,0,0,0,0,0,0,0,0,0,0,0,0,0,0,0,0,0,0,0,0,0,0,0,0,0,0,0,0,0,0,0,0,0,0,0,0,0,0,0,0,0,0,0,0,0,0,0,0,0,0,0,0,0,0,0,0,0,0,0,0,0,0,0,0,0,0,0,0,0,0,0,0,0,0,0,0,0,0,0,0,0,0,0,0,0,0,0,0,0,0,0,0,0,0,0],\"coloraxis\":\"coloraxis\",\"symbol\":\"square\"},\"mode\":\"markers\",\"name\":\"0\",\"scene\":\"scene\",\"showlegend\":true,\"type\":\"scatter3d\",\"x\":[-1.5251095810043211,-0.4463785791274509,-1.3880016445574792,-1.619252258212241,-1.557113416036643,-1.3128904117160378,-1.3168473518647816,-1.423466049948212,-1.1911929752059922,-1.4404632472461483,-1.1265341062133727,-1.5024161059024799,-1.4596507957219576,-1.4947350864692903,-0.9074663486826515,-0.9956954131814544,-1.4450700978587656,-1.5262672214539763,-1.5843552841577326,-1.5685906035331763,-1.4086527524645773,-1.512273152687572,-0.1413668493508895,2.679720830941156,-1.6325497482929192,-1.2119389902494397,-1.2116387802305089,-1.6020684029876406,-0.9400408663800722,-1.044684050735757,1.3253529208654844,-1.600122738517862,-1.6010176133082328,-1.2163134667845497,-1.6443116308867043,-1.499087177778102,-1.369547807069896,-0.9608587568582552,-1.1885412940078055,-0.8568529747129678,-1.4367429165408256,-1.6432247322385494,-1.4672813212977975,-1.4158447418775386,-1.4737792759771513,-1.3960214412363825,-1.4837386622499888,-1.4286824835302996,-1.4474382708600468,-1.5714604610444134,-1.5812054045407105,-1.474871321405928,1.5095175503996137,-1.3452283589534528,-1.474922877701768,1.2482848222261003,-0.24767123298753232,-1.1854689031366341,-1.2763972760399258,-1.214018946472573,-0.14080814632841804,-1.1861030643502917,0.20769429828092453,-1.476260295037737,-1.0343248514842964,-1.6059949386924186,0.848005717869888,-1.3036759985272155,1.374342308447442,-1.658992186598678,-1.4953061831610948,-1.2676966029296695,-1.472173824943259,-1.189811903898691,-1.6148450364296838,-1.3299625789166587,-1.1735391020393835,-1.5679972653623626,-0.07910907779077134,1.3901056910741694,-0.6992299011719403,-1.3610013607847267,-1.020693758547828,-1.2019542202632285,-1.4941852733699632,-1.4752820937480562,-1.5098166004273985,-1.4387823811947758,-1.3611806891084293,-0.6117637868396281,-1.3765743616193447,-1.46956406912188,3.180014361407958,-1.5799677222214559,-0.636713638441949,-1.5533974824836692,-1.1126180008645707,-1.0656919526018458,-1.479541965419784,-1.2102848504492674,-1.5998153244063125,-0.7154768356143468,-1.4198869547376611,-1.5126897567967266,-1.3543139188072508,-1.4596888923890514,-1.0087191795824118,-1.2910665193014348,-0.93177266335205,-1.6146925038991242,-1.4282860364329644,-1.227094251010178,0.7522711664810358,-1.5245597679049936,-1.3459875680589224,-1.509267570831281,2.008697018202226,-1.2129533496912375,-1.309850384081259,-0.9776631302829232,-1.1889300387414943,-1.2717016462998285,-1.3798312249890712,-0.4885594661725377,-0.8927440507708295,-1.392627837265964,-0.3602699887801739,-1.538998499787168,-1.223632185863113,-1.4690163643381677,-1.191204481209651,-1.4092270857751996,-1.3260963983610967,-0.8300091826303684,-1.3254189239215026,-0.7164386899603346,-1.533585273716147,-0.7942064943698358,-1.4244202068247058,-0.8012522056597471,-1.1303681738924793,-1.5828256944582928,-1.0606523403441903,-1.5044740433134483,-1.5959419553543435,-1.3248140342573205,-1.3533696458242472,-0.3695599141191833,-1.5085399082170237,-1.2577199468750135,-1.3118634966651312,-1.2865949471174352,-1.3792814118897443,-1.2333990964563255,-1.3769453697329859],\"y\":[1.8445543311333183,1.8867565691163053,1.9994415173069477,0.4878802941672168,1.9571166516388978,1.7747712207301813,1.8778969368456175,1.8697629502507225,1.532030971161054,1.5693144635813345,1.6612357413210268,2.277496752847465,1.9620062402673806,1.9638613054714806,2.0434248278901284,0.5235304465875005,1.8145262116175487,1.966901940809896,1.9283510336266603,1.9268310472304633,1.5030108626870122,1.7777046631500688,2.1900119302743106,1.353246474211045,2.070203394727107,0.039302640450911995,1.8224816126398562,2.343467419448095,2.050994134763375,0.5166316256051613,3.2440580383396607,1.9298716825688798,2.0671627593886903,1.796932066960604,0.4273733074043587,0.43118522275855625,1.8098599702819167,1.6459954514222557,1.853237055849534,1.7571984336114306,1.9095105248172677,2.3142119388127997,1.8990511090464186,1.913289645155512,1.80766190492043,1.7235529690693707,1.6825388161131254,1.9299775643972257,1.9593006837368658,1.9397962825409953,2.080543037245384,0.954950037426459,2.3964806345872294,1.78553939393797,1.977241583328173,1.968850190911593,0.08321574840467008,1.9794678292423658,1.8312603998799548,1.8380050537125345,1.69557898136664,1.5424025638791152,1.66951220202881,0.10629258485900302,0.13915464837877842,0.4227120844977202,0.498690593460484,1.1325008419610822,1.8148586227665786,2.3157325877550203,0.27295663408952114,1.7395719354032673,1.8029987365432663,1.797698573703349,1.9268629974302471,1.741182838595149,1.8015832292281801,2.089463222483181,0.8094601535709713,1.9634246302797276,0.7358929757220625,1.7870613679722323,1.8154913636714094,2.178292298525759,0.44492204222410636,1.9689449928996114,1.952556029904284,1.7901326284183898,0.6445092416195645,2.202983588292772,1.452604324321119,2.0484268140724944,3.758899855985501,1.9379377073476665,0.6334058185680814,1.8782121638533928,0.5218420355078179,0.6727307334672289,1.9152424220944093,1.852980185665839,0.5639347167243404,1.7462991152330245,1.9869756082147718,0.4629635429874384,0.25078897148157,0.9533575520932558,1.8495253195271504,0.6727578335293655,1.4323856519393405,0.4294583334414706,1.7876650192016532,1.8119985171255162,1.1042888875106354,0.3256150678859443,0.5958903582424936,1.905189464330787,2.414373879077964,0.07478641544728477,0.6076168154066763,1.504098254588608,0.6123538207776595,1.7106181565084888,1.2134259787110377,1.920269185823719,2.046433513028762,0.25544953184218777,2.3255389869975436,2.065610822792708,1.7856785370562833,1.6855475012517578,0.5895107455792005,1.4559126282521613,0.642654176415466,2.003025008069507,1.7989203343406854,2.0722866002095373,1.8915924417100864,2.0009983434458793,1.5045315116292308,2.0674197442189968,1.0230118377499158,0.42504481053179216,0.5320332677173129,1.9318887447195925,2.262419248347023,2.013697915856851,1.7473447618843085,1.842229580649793,2.3188872254874426,0.6039356675445183,1.7305458799873683,1.789646677679848,-0.3055132845363359,0.07539048793985365,0.6460292280157617],\"z\":[0.010658942483607835,-0.3152640548790768,0.07283197442542462,1.933391571536372,0.435260290061802,-0.007207633333779195,1.154374063766439,0.06229256950591864,-0.049268097426076775,-0.04750215772027963,-0.2764251149057452,0.3700926512223489,0.02018259777364251,0.008223736560457696,0.1611171965706868,1.17736203282359,-0.35924013568049373,0.004711161087346547,-0.14758334968210896,-0.14582741295791465,-0.10809467029419634,-0.01782230103635595,0.37661432904959197,3.0231045432306938,0.2483136720701274,0.2938574975940666,-0.5342282285499718,0.35303658477852445,0.1626539820866104,1.1520403577007212,2.1383990824989443,-0.1493399884310268,0.25182624754323896,0.22705811456316516,1.9669998129245827,1.5741325918801954,-0.04405496136454377,-0.286873127819174,0.8289405903861091,-0.6681271958154434,-0.0940135695127678,0.2644824060626375,0.7804581492646908,-0.08787923454671585,-0.07626490921785195,-0.751644920654723,-0.746453285974715,-0.07189481742777126,0.013492248757763843,0.8531610432026643,0.27160615609912625,0.4066845209994049,0.2573698230547367,-0.6129659916536767,0.028003645116345673,0.4157294025592187,1.389022721143403,0.4632112779173861,0.7838756787449929,0.35683912524365013,0.3028284890408199,-0.03629348658341946,-0.5432304856645536,1.184538694784827,1.2473084089562467,1.972229540872956,1.0795349564654735,0.28475606963963157,-0.1377791941758109,0.2627257673137196,1.132125688140651,-0.7040996325903676,-0.08117175918788658,-0.6200120722457846,-0.1561452861442566,-0.716235922701352,0.33631664993144206,0.2847927618030506,1.2161806612143855,0.9176336300169639,1.007761420315206,-0.614724034452043,0.4685320986873507,0.8169188617644071,1.139251095443933,0.467114008528224,0.44052880225910684,-0.628553079062048,0.7912898995985854,0.4290841706835744,-0.21465662155726573,-0.08015164610297103,3.9887238756533314,0.41163130990606184,1.0650953342226186,-0.2544289189337331,1.1362354592704562,0.9090373401993839,-0.10037776941536,0.37478376828151466,1.400018299996052,-0.6791971528181929,0.06016905642316665,1.153801276051448,0.5008571873868028,0.41807439640781935,0.38595092944199527,0.8394116531725072,-0.48855447260621654,1.5412780124410166,-0.08845243085040584,1.2142630323341896,1.5942241600198364,1.1416863013670826,0.682688393622767,0.3304549775476499,0.613859971957176,1.210027131341199,0.7043660478971253,-0.9322655888595104,0.7438790289930832,0.1410231646272002,0.09854159022899517,0.5137959686990295,0.16792249428391579,0.49562816146315325,0.3810044541117491,0.2639000574537746,-0.6161817726105534,-0.7396479882614851,0.729711941647876,-0.2184528150189313,0.8032487608117689,0.07672921445652149,-0.5931867851225135,0.19400419442802513,-0.23464901037784525,0.08886990007325886,-0.10985130904311419,0.15653621749062535,0.8710954108709399,1.0006915416881543,1.159685196837664,0.6887026587113694,0.15953458252948488,-0.24613959923625522,-0.709084822761056,-0.4051268249651106,0.47238233304973787,0.718405181257058,-0.7245155257300572,-0.5833605450586464,1.2295689491124693,1.1995391848142063,0.7895339628743914]},{\"customdata\":[[\"Yes\"],[\"No\"],[\"No\"],[\"No\"],[\"No\"],[\"No\"],[\"No\"],[\"Yes\"],[\"Yes\"],[\"No\"],[\"Yes\"],[\"No\"],[\"Yes\"],[\"No\"]],\"hovertemplate\":\"<b>%{hovertext}</b><br><br>Class=%{marker.color}<br>PC 1=%{x}<br>PC 2=%{y}<br>PC 3=%{z}<br>enough_recycle_compost=%{customdata[0]}<extra></extra>\",\"hovertext\":[\"MOBILEHOME\",\"MOBILEHOME\",\"GROCERY\",\"GROCERY\",\"MOBILEHOME\",\"MOBILEHOME\",\"GROCERY\",\"MOBILEHOME\",\"RESTAURANT\",\"RESTAURANT\",\"RESTAURANT\",\"RESTAURANT\",\"WINERY\",\"RESTAURANT\"],\"legendgroup\":\"3\",\"marker\":{\"color\":[3,3,3,3,3,3,3,3,3,3,3,3,3,3],\"coloraxis\":\"coloraxis\",\"symbol\":\"x\"},\"mode\":\"markers\",\"name\":\"3\",\"scene\":\"scene\",\"showlegend\":true,\"type\":\"scatter3d\",\"x\":[11.307673987740676,6.675664064213765,7.7990214829726,23.859900530536173,9.250949090419368,11.031629182334571,6.599762005534745,11.984922063537446,4.587693389721931,5.930358221828108,5.374963559384339,13.809094991366463,5.982552741762205,14.112054437167174],\"y\":[4.900894384221916,0.7906397388244235,0.7844875697039424,2.54619494403917,0.9434132763110248,0.9583321495178476,0.6960179621309662,4.887633051480049,1.2784082684171687,0.6476504167560383,3.2453401595388742,1.1026551031324205,-0.37797837229405645,1.0094542672886406],\"z\":[6.481628188287968,1.07733949587458,-2.258253519831827,-0.9072345398281514,1.580970303716614,2.2655687413502137,-1.037544259663121,6.751283322475863,2.460454708545349,-1.198685840632195,2.53588036304907,-0.3029065090454828,3.598169428872805,-1.4967867903517502]}],                        {\"coloraxis\":{\"colorbar\":{\"title\":{\"text\":\"Class\"}},\"colorscale\":[[0.0,\"#0d0887\"],[0.1111111111111111,\"#46039f\"],[0.2222222222222222,\"#7201a8\"],[0.3333333333333333,\"#9c179e\"],[0.4444444444444444,\"#bd3786\"],[0.5555555555555556,\"#d8576b\"],[0.6666666666666666,\"#ed7953\"],[0.7777777777777778,\"#fb9f3a\"],[0.8888888888888888,\"#fdca26\"],[1.0,\"#f0f921\"]]},\"legend\":{\"title\":{\"text\":\"Class\"},\"tracegroupgap\":0,\"x\":0,\"y\":1},\"margin\":{\"t\":60},\"scene\":{\"domain\":{\"x\":[0.0,1.0],\"y\":[0.0,1.0]},\"xaxis\":{\"title\":{\"text\":\"PC 1\"}},\"yaxis\":{\"title\":{\"text\":\"PC 2\"}},\"zaxis\":{\"title\":{\"text\":\"PC 3\"}}},\"template\":{\"data\":{\"bar\":[{\"error_x\":{\"color\":\"#2a3f5f\"},\"error_y\":{\"color\":\"#2a3f5f\"},\"marker\":{\"line\":{\"color\":\"#E5ECF6\",\"width\":0.5},\"pattern\":{\"fillmode\":\"overlay\",\"size\":10,\"solidity\":0.2}},\"type\":\"bar\"}],\"barpolar\":[{\"marker\":{\"line\":{\"color\":\"#E5ECF6\",\"width\":0.5},\"pattern\":{\"fillmode\":\"overlay\",\"size\":10,\"solidity\":0.2}},\"type\":\"barpolar\"}],\"carpet\":[{\"aaxis\":{\"endlinecolor\":\"#2a3f5f\",\"gridcolor\":\"white\",\"linecolor\":\"white\",\"minorgridcolor\":\"white\",\"startlinecolor\":\"#2a3f5f\"},\"baxis\":{\"endlinecolor\":\"#2a3f5f\",\"gridcolor\":\"white\",\"linecolor\":\"white\",\"minorgridcolor\":\"white\",\"startlinecolor\":\"#2a3f5f\"},\"type\":\"carpet\"}],\"choropleth\":[{\"colorbar\":{\"outlinewidth\":0,\"ticks\":\"\"},\"type\":\"choropleth\"}],\"contour\":[{\"colorbar\":{\"outlinewidth\":0,\"ticks\":\"\"},\"colorscale\":[[0.0,\"#0d0887\"],[0.1111111111111111,\"#46039f\"],[0.2222222222222222,\"#7201a8\"],[0.3333333333333333,\"#9c179e\"],[0.4444444444444444,\"#bd3786\"],[0.5555555555555556,\"#d8576b\"],[0.6666666666666666,\"#ed7953\"],[0.7777777777777778,\"#fb9f3a\"],[0.8888888888888888,\"#fdca26\"],[1.0,\"#f0f921\"]],\"type\":\"contour\"}],\"contourcarpet\":[{\"colorbar\":{\"outlinewidth\":0,\"ticks\":\"\"},\"type\":\"contourcarpet\"}],\"heatmap\":[{\"colorbar\":{\"outlinewidth\":0,\"ticks\":\"\"},\"colorscale\":[[0.0,\"#0d0887\"],[0.1111111111111111,\"#46039f\"],[0.2222222222222222,\"#7201a8\"],[0.3333333333333333,\"#9c179e\"],[0.4444444444444444,\"#bd3786\"],[0.5555555555555556,\"#d8576b\"],[0.6666666666666666,\"#ed7953\"],[0.7777777777777778,\"#fb9f3a\"],[0.8888888888888888,\"#fdca26\"],[1.0,\"#f0f921\"]],\"type\":\"heatmap\"}],\"heatmapgl\":[{\"colorbar\":{\"outlinewidth\":0,\"ticks\":\"\"},\"colorscale\":[[0.0,\"#0d0887\"],[0.1111111111111111,\"#46039f\"],[0.2222222222222222,\"#7201a8\"],[0.3333333333333333,\"#9c179e\"],[0.4444444444444444,\"#bd3786\"],[0.5555555555555556,\"#d8576b\"],[0.6666666666666666,\"#ed7953\"],[0.7777777777777778,\"#fb9f3a\"],[0.8888888888888888,\"#fdca26\"],[1.0,\"#f0f921\"]],\"type\":\"heatmapgl\"}],\"histogram\":[{\"marker\":{\"pattern\":{\"fillmode\":\"overlay\",\"size\":10,\"solidity\":0.2}},\"type\":\"histogram\"}],\"histogram2d\":[{\"colorbar\":{\"outlinewidth\":0,\"ticks\":\"\"},\"colorscale\":[[0.0,\"#0d0887\"],[0.1111111111111111,\"#46039f\"],[0.2222222222222222,\"#7201a8\"],[0.3333333333333333,\"#9c179e\"],[0.4444444444444444,\"#bd3786\"],[0.5555555555555556,\"#d8576b\"],[0.6666666666666666,\"#ed7953\"],[0.7777777777777778,\"#fb9f3a\"],[0.8888888888888888,\"#fdca26\"],[1.0,\"#f0f921\"]],\"type\":\"histogram2d\"}],\"histogram2dcontour\":[{\"colorbar\":{\"outlinewidth\":0,\"ticks\":\"\"},\"colorscale\":[[0.0,\"#0d0887\"],[0.1111111111111111,\"#46039f\"],[0.2222222222222222,\"#7201a8\"],[0.3333333333333333,\"#9c179e\"],[0.4444444444444444,\"#bd3786\"],[0.5555555555555556,\"#d8576b\"],[0.6666666666666666,\"#ed7953\"],[0.7777777777777778,\"#fb9f3a\"],[0.8888888888888888,\"#fdca26\"],[1.0,\"#f0f921\"]],\"type\":\"histogram2dcontour\"}],\"mesh3d\":[{\"colorbar\":{\"outlinewidth\":0,\"ticks\":\"\"},\"type\":\"mesh3d\"}],\"parcoords\":[{\"line\":{\"colorbar\":{\"outlinewidth\":0,\"ticks\":\"\"}},\"type\":\"parcoords\"}],\"pie\":[{\"automargin\":true,\"type\":\"pie\"}],\"scatter\":[{\"marker\":{\"colorbar\":{\"outlinewidth\":0,\"ticks\":\"\"}},\"type\":\"scatter\"}],\"scatter3d\":[{\"line\":{\"colorbar\":{\"outlinewidth\":0,\"ticks\":\"\"}},\"marker\":{\"colorbar\":{\"outlinewidth\":0,\"ticks\":\"\"}},\"type\":\"scatter3d\"}],\"scattercarpet\":[{\"marker\":{\"colorbar\":{\"outlinewidth\":0,\"ticks\":\"\"}},\"type\":\"scattercarpet\"}],\"scattergeo\":[{\"marker\":{\"colorbar\":{\"outlinewidth\":0,\"ticks\":\"\"}},\"type\":\"scattergeo\"}],\"scattergl\":[{\"marker\":{\"colorbar\":{\"outlinewidth\":0,\"ticks\":\"\"}},\"type\":\"scattergl\"}],\"scattermapbox\":[{\"marker\":{\"colorbar\":{\"outlinewidth\":0,\"ticks\":\"\"}},\"type\":\"scattermapbox\"}],\"scatterpolar\":[{\"marker\":{\"colorbar\":{\"outlinewidth\":0,\"ticks\":\"\"}},\"type\":\"scatterpolar\"}],\"scatterpolargl\":[{\"marker\":{\"colorbar\":{\"outlinewidth\":0,\"ticks\":\"\"}},\"type\":\"scatterpolargl\"}],\"scatterternary\":[{\"marker\":{\"colorbar\":{\"outlinewidth\":0,\"ticks\":\"\"}},\"type\":\"scatterternary\"}],\"surface\":[{\"colorbar\":{\"outlinewidth\":0,\"ticks\":\"\"},\"colorscale\":[[0.0,\"#0d0887\"],[0.1111111111111111,\"#46039f\"],[0.2222222222222222,\"#7201a8\"],[0.3333333333333333,\"#9c179e\"],[0.4444444444444444,\"#bd3786\"],[0.5555555555555556,\"#d8576b\"],[0.6666666666666666,\"#ed7953\"],[0.7777777777777778,\"#fb9f3a\"],[0.8888888888888888,\"#fdca26\"],[1.0,\"#f0f921\"]],\"type\":\"surface\"}],\"table\":[{\"cells\":{\"fill\":{\"color\":\"#EBF0F8\"},\"line\":{\"color\":\"white\"}},\"header\":{\"fill\":{\"color\":\"#C8D4E3\"},\"line\":{\"color\":\"white\"}},\"type\":\"table\"}]},\"layout\":{\"annotationdefaults\":{\"arrowcolor\":\"#2a3f5f\",\"arrowhead\":0,\"arrowwidth\":1},\"autotypenumbers\":\"strict\",\"coloraxis\":{\"colorbar\":{\"outlinewidth\":0,\"ticks\":\"\"}},\"colorscale\":{\"diverging\":[[0,\"#8e0152\"],[0.1,\"#c51b7d\"],[0.2,\"#de77ae\"],[0.3,\"#f1b6da\"],[0.4,\"#fde0ef\"],[0.5,\"#f7f7f7\"],[0.6,\"#e6f5d0\"],[0.7,\"#b8e186\"],[0.8,\"#7fbc41\"],[0.9,\"#4d9221\"],[1,\"#276419\"]],\"sequential\":[[0.0,\"#0d0887\"],[0.1111111111111111,\"#46039f\"],[0.2222222222222222,\"#7201a8\"],[0.3333333333333333,\"#9c179e\"],[0.4444444444444444,\"#bd3786\"],[0.5555555555555556,\"#d8576b\"],[0.6666666666666666,\"#ed7953\"],[0.7777777777777778,\"#fb9f3a\"],[0.8888888888888888,\"#fdca26\"],[1.0,\"#f0f921\"]],\"sequentialminus\":[[0.0,\"#0d0887\"],[0.1111111111111111,\"#46039f\"],[0.2222222222222222,\"#7201a8\"],[0.3333333333333333,\"#9c179e\"],[0.4444444444444444,\"#bd3786\"],[0.5555555555555556,\"#d8576b\"],[0.6666666666666666,\"#ed7953\"],[0.7777777777777778,\"#fb9f3a\"],[0.8888888888888888,\"#fdca26\"],[1.0,\"#f0f921\"]]},\"colorway\":[\"#636efa\",\"#EF553B\",\"#00cc96\",\"#ab63fa\",\"#FFA15A\",\"#19d3f3\",\"#FF6692\",\"#B6E880\",\"#FF97FF\",\"#FECB52\"],\"font\":{\"color\":\"#2a3f5f\"},\"geo\":{\"bgcolor\":\"white\",\"lakecolor\":\"white\",\"landcolor\":\"#E5ECF6\",\"showlakes\":true,\"showland\":true,\"subunitcolor\":\"white\"},\"hoverlabel\":{\"align\":\"left\"},\"hovermode\":\"closest\",\"mapbox\":{\"style\":\"light\"},\"paper_bgcolor\":\"white\",\"plot_bgcolor\":\"#E5ECF6\",\"polar\":{\"angularaxis\":{\"gridcolor\":\"white\",\"linecolor\":\"white\",\"ticks\":\"\"},\"bgcolor\":\"#E5ECF6\",\"radialaxis\":{\"gridcolor\":\"white\",\"linecolor\":\"white\",\"ticks\":\"\"}},\"scene\":{\"xaxis\":{\"backgroundcolor\":\"#E5ECF6\",\"gridcolor\":\"white\",\"gridwidth\":2,\"linecolor\":\"white\",\"showbackground\":true,\"ticks\":\"\",\"zerolinecolor\":\"white\"},\"yaxis\":{\"backgroundcolor\":\"#E5ECF6\",\"gridcolor\":\"white\",\"gridwidth\":2,\"linecolor\":\"white\",\"showbackground\":true,\"ticks\":\"\",\"zerolinecolor\":\"white\"},\"zaxis\":{\"backgroundcolor\":\"#E5ECF6\",\"gridcolor\":\"white\",\"gridwidth\":2,\"linecolor\":\"white\",\"showbackground\":true,\"ticks\":\"\",\"zerolinecolor\":\"white\"}},\"shapedefaults\":{\"line\":{\"color\":\"#2a3f5f\"}},\"ternary\":{\"aaxis\":{\"gridcolor\":\"white\",\"linecolor\":\"white\",\"ticks\":\"\"},\"baxis\":{\"gridcolor\":\"white\",\"linecolor\":\"white\",\"ticks\":\"\"},\"bgcolor\":\"#E5ECF6\",\"caxis\":{\"gridcolor\":\"white\",\"linecolor\":\"white\",\"ticks\":\"\"}},\"title\":{\"x\":0.05},\"xaxis\":{\"automargin\":true,\"gridcolor\":\"white\",\"linecolor\":\"white\",\"ticks\":\"\",\"title\":{\"standoff\":15},\"zerolinecolor\":\"white\",\"zerolinewidth\":2},\"yaxis\":{\"automargin\":true,\"gridcolor\":\"white\",\"linecolor\":\"white\",\"ticks\":\"\",\"title\":{\"standoff\":15},\"zerolinecolor\":\"white\",\"zerolinewidth\":2}}},\"width\":800},                        {\"responsive\": true}                    ).then(function(){\n",
       "                            \n",
       "var gd = document.getElementById('d1d39659-f7cd-46da-8a4b-aa84e1a9b575');\n",
       "var x = new MutationObserver(function (mutations, observer) {{\n",
       "        var display = window.getComputedStyle(gd).display;\n",
       "        if (!display || display === 'none') {{\n",
       "            console.log([gd, 'removed!']);\n",
       "            Plotly.purge(gd);\n",
       "            observer.disconnect();\n",
       "        }}\n",
       "}});\n",
       "\n",
       "// Listen for the removal of the full notebook cells\n",
       "var notebookContainer = gd.closest('#notebook-container');\n",
       "if (notebookContainer) {{\n",
       "    x.observe(notebookContainer, {childList: true});\n",
       "}}\n",
       "\n",
       "// Listen for the clearing of the current output cell\n",
       "var outputEl = gd.closest('.output');\n",
       "if (outputEl) {{\n",
       "    x.observe(outputEl, {childList: true});\n",
       "}}\n",
       "\n",
       "                        })                };                });            </script>        </div>"
      ]
     },
     "metadata": {},
     "output_type": "display_data"
    }
   ],
   "source": [
    "# Creating a 3D-Scatter with the PCA data and the clusters\n",
    "fig = px.scatter_3d(\n",
    "    clustered_df,\n",
    "    x=\"PC 1\",\n",
    "    y=\"PC 2\",\n",
    "    z=\"PC 3\",\n",
    "    color=\"Class\",\n",
    "    symbol=\"Class\",\n",
    "    hover_name = \"biz_type\",\n",
    "    hover_data = [\"enough_recycle_compost\"],\n",
    "    width=800)\n",
    "fig.update_layout(legend=dict(x=0, y=1))\n",
    "fig.show()"
   ]
  },
  {
   "cell_type": "code",
   "execution_count": 19,
   "id": "7709fbbb",
   "metadata": {},
   "outputs": [],
   "source": [
    "# # Create a table with the data.\n",
    "# clustered_df.hvplot.table(columns=['monthly_bill', 'tax_body', 'biz_type', 'do_they_recycle', 'do_they_compost', 'Class'], sortable=True, selectable=True)"
   ]
  },
  {
   "cell_type": "markdown",
   "id": "c0bb4890",
   "metadata": {},
   "source": [
    "## Neural Networks and Deep Learning"
   ]
  },
  {
   "cell_type": "code",
   "execution_count": 110,
   "id": "b232cee5",
   "metadata": {},
   "outputs": [
    {
     "data": {
      "text/plain": [
       "monthly_bill              227\n",
       "tax_body                    4\n",
       "biz_type                   40\n",
       "total_yards               168\n",
       "garbage                    44\n",
       "recycle                    81\n",
       "needed_recycle             21\n",
       "compost                    38\n",
       "needed_compost             17\n",
       "enough_recycle_compost      2\n",
       "dtype: int64"
      ]
     },
     "execution_count": 110,
     "metadata": {},
     "output_type": "execute_result"
    }
   ],
   "source": [
    "# Determine the number of unique values in each column.\n",
    "ml_df.nunique()"
   ]
  },
  {
   "cell_type": "code",
   "execution_count": 111,
   "id": "212e4e73",
   "metadata": {},
   "outputs": [
    {
     "data": {
      "text/plain": [
       "monthly_bill              float64\n",
       "tax_body                   object\n",
       "biz_type                   object\n",
       "total_yards               float64\n",
       "garbage                   float64\n",
       "recycle                   float64\n",
       "needed_recycle              int64\n",
       "compost                   float64\n",
       "needed_compost              int64\n",
       "enough_recycle_compost     object\n",
       "dtype: object"
      ]
     },
     "execution_count": 111,
     "metadata": {},
     "output_type": "execute_result"
    }
   ],
   "source": [
    "ml_df.dtypes"
   ]
  },
  {
   "cell_type": "code",
   "execution_count": 112,
   "id": "95c7d99f",
   "metadata": {},
   "outputs": [
    {
     "data": {
      "text/plain": [
       "WINERY        116\n",
       "MULTIFAMIL     43\n",
       "RESTAURANT     25\n",
       "OFFICE BLD     22\n",
       "VINEYARD       19\n",
       "LODGING        15\n",
       "RETAIL         12\n",
       "CHURCH         12\n",
       "LODGING-FW     11\n",
       "MEDICAL        10\n",
       "CONTRACTOR     10\n",
       "UTILITY         9\n",
       "SCHOOL          9\n",
       "GROCERY         8\n",
       "COMMUNITY       7\n",
       "MOBILEHOME      6\n",
       "AUTO            6\n",
       "POSTOFFICE      5\n",
       "MIXED USE       5\n",
       "HOME IMPRO      5\n",
       "STRIP MALL      4\n",
       "POLICEFIRE      4\n",
       "FOURPLEX        3\n",
       "LANDSCAPER      3\n",
       "BAKERY          3\n",
       "MINI MART       3\n",
       "HOA             3\n",
       "PRESCHOOL       3\n",
       "DELI/CAFE       3\n",
       "ENTERTAINM      3\n",
       "HOSPITAL        3\n",
       "PARK            2\n",
       "BAR NO FW       2\n",
       "INDUSTRIAL      2\n",
       "NRSG HOME       2\n",
       "MEMBER          1\n",
       "CATERING        1\n",
       "GROUP HOME      1\n",
       "FLORIST         1\n",
       "DUPLEX          1\n",
       "Name: biz_type, dtype: int64"
      ]
     },
     "execution_count": 112,
     "metadata": {},
     "output_type": "execute_result"
    }
   ],
   "source": [
    "# Check the biz type values for binning\n",
    "biz_cat = ml_df.biz_type.value_counts()\n",
    "biz_cat"
   ]
  },
  {
   "cell_type": "code",
   "execution_count": 113,
   "id": "c01c77b4",
   "metadata": {},
   "outputs": [
    {
     "data": {
      "text/plain": [
       "<AxesSubplot:ylabel='Density'>"
      ]
     },
     "execution_count": 113,
     "metadata": {},
     "output_type": "execute_result"
    },
    {
     "data": {
      "image/png": "[encoded data removed]",
      "text/plain": [
       "<Figure size 432x288 with 1 Axes>"
      ]
     },
     "metadata": {
      "needs_background": "light"
     },
     "output_type": "display_data"
    }
   ],
   "source": [
    "# Visualize the value counts of biz types\n",
    "biz_cat.plot.density()"
   ]
  },
  {
   "cell_type": "code",
   "execution_count": 115,
   "id": "4e0b1166",
   "metadata": {},
   "outputs": [
    {
     "data": {
      "text/plain": [
       "WINERY        116\n",
       "Other          82\n",
       "MULTIFAMIL     43\n",
       "RESTAURANT     25\n",
       "OFFICE BLD     22\n",
       "VINEYARD       19\n",
       "LODGING        15\n",
       "RETAIL         12\n",
       "CHURCH         12\n",
       "LODGING-FW     11\n",
       "MEDICAL        10\n",
       "CONTRACTOR     10\n",
       "UTILITY         9\n",
       "SCHOOL          9\n",
       "GROCERY         8\n",
       "Name: biz_type, dtype: int64"
      ]
     },
     "execution_count": 115,
     "metadata": {},
     "output_type": "execute_result"
    }
   ],
   "source": [
    "# Determine which values to replace if counts are less than 10\n",
    "replace_biz = list(biz_cat[biz_cat < 8].index)\n",
    "\n",
    "# Replace in dataframe\n",
    "for biz in replace_biz:\n",
    "    ml_df.biz_type = ml_df.biz_type.replace(biz,\"Other\")\n",
    "    \n",
    "# Check to make sure binning was successful\n",
    "ml_df.biz_type.value_counts()"
   ]
  },
  {
   "cell_type": "code",
   "execution_count": 116,
   "id": "4a5d03f2",
   "metadata": {},
   "outputs": [],
   "source": [
    "# Generate the categorical variable lists\n",
    "biz_list = ml_df.dtypes[ml_df.dtypes=='object'].index.tolist()"
   ]
  },
  {
   "cell_type": "code",
   "execution_count": 117,
   "id": "5463d0d0",
   "metadata": {},
   "outputs": [
    {
     "data": {
      "text/html": [
       "<div>\n",
       "<style scoped>\n",
       "    .dataframe tbody tr th:only-of-type {\n",
       "        vertical-align: middle;\n",
       "    }\n",
       "\n",
       "    .dataframe tbody tr th {\n",
       "        vertical-align: top;\n",
       "    }\n",
       "\n",
       "    .dataframe thead th {\n",
       "        text-align: right;\n",
       "    }\n",
       "</style>\n",
       "<table border=\"1\" class=\"dataframe\">\n",
       "  <thead>\n",
       "    <tr style=\"text-align: right;\">\n",
       "      <th></th>\n",
       "      <th>tax_body_C</th>\n",
       "      <th>tax_body_COUNTY</th>\n",
       "      <th>tax_body_S</th>\n",
       "      <th>tax_body_Y</th>\n",
       "      <th>biz_type_CHURCH</th>\n",
       "      <th>biz_type_CONTRACTOR</th>\n",
       "      <th>biz_type_GROCERY</th>\n",
       "      <th>biz_type_LODGING</th>\n",
       "      <th>biz_type_LODGING-FW</th>\n",
       "      <th>biz_type_MEDICAL</th>\n",
       "      <th>...</th>\n",
       "      <th>biz_type_OFFICE BLD</th>\n",
       "      <th>biz_type_Other</th>\n",
       "      <th>biz_type_RESTAURANT</th>\n",
       "      <th>biz_type_RETAIL</th>\n",
       "      <th>biz_type_SCHOOL</th>\n",
       "      <th>biz_type_UTILITY</th>\n",
       "      <th>biz_type_VINEYARD</th>\n",
       "      <th>biz_type_WINERY</th>\n",
       "      <th>enough_recycle_compost_No</th>\n",
       "      <th>enough_recycle_compost_Yes</th>\n",
       "    </tr>\n",
       "  </thead>\n",
       "  <tbody>\n",
       "    <tr>\n",
       "      <th>0</th>\n",
       "      <td>1.0</td>\n",
       "      <td>0.0</td>\n",
       "      <td>0.0</td>\n",
       "      <td>0.0</td>\n",
       "      <td>0.0</td>\n",
       "      <td>0.0</td>\n",
       "      <td>0.0</td>\n",
       "      <td>0.0</td>\n",
       "      <td>0.0</td>\n",
       "      <td>0.0</td>\n",
       "      <td>...</td>\n",
       "      <td>0.0</td>\n",
       "      <td>1.0</td>\n",
       "      <td>0.0</td>\n",
       "      <td>0.0</td>\n",
       "      <td>0.0</td>\n",
       "      <td>0.0</td>\n",
       "      <td>0.0</td>\n",
       "      <td>0.0</td>\n",
       "      <td>1.0</td>\n",
       "      <td>0.0</td>\n",
       "    </tr>\n",
       "    <tr>\n",
       "      <th>1</th>\n",
       "      <td>0.0</td>\n",
       "      <td>1.0</td>\n",
       "      <td>0.0</td>\n",
       "      <td>0.0</td>\n",
       "      <td>0.0</td>\n",
       "      <td>0.0</td>\n",
       "      <td>0.0</td>\n",
       "      <td>0.0</td>\n",
       "      <td>0.0</td>\n",
       "      <td>0.0</td>\n",
       "      <td>...</td>\n",
       "      <td>0.0</td>\n",
       "      <td>0.0</td>\n",
       "      <td>0.0</td>\n",
       "      <td>0.0</td>\n",
       "      <td>0.0</td>\n",
       "      <td>0.0</td>\n",
       "      <td>0.0</td>\n",
       "      <td>1.0</td>\n",
       "      <td>1.0</td>\n",
       "      <td>0.0</td>\n",
       "    </tr>\n",
       "    <tr>\n",
       "      <th>2</th>\n",
       "      <td>0.0</td>\n",
       "      <td>1.0</td>\n",
       "      <td>0.0</td>\n",
       "      <td>0.0</td>\n",
       "      <td>0.0</td>\n",
       "      <td>0.0</td>\n",
       "      <td>0.0</td>\n",
       "      <td>0.0</td>\n",
       "      <td>0.0</td>\n",
       "      <td>0.0</td>\n",
       "      <td>...</td>\n",
       "      <td>0.0</td>\n",
       "      <td>0.0</td>\n",
       "      <td>0.0</td>\n",
       "      <td>0.0</td>\n",
       "      <td>0.0</td>\n",
       "      <td>0.0</td>\n",
       "      <td>0.0</td>\n",
       "      <td>1.0</td>\n",
       "      <td>1.0</td>\n",
       "      <td>0.0</td>\n",
       "    </tr>\n",
       "    <tr>\n",
       "      <th>3</th>\n",
       "      <td>0.0</td>\n",
       "      <td>0.0</td>\n",
       "      <td>1.0</td>\n",
       "      <td>0.0</td>\n",
       "      <td>0.0</td>\n",
       "      <td>0.0</td>\n",
       "      <td>0.0</td>\n",
       "      <td>0.0</td>\n",
       "      <td>0.0</td>\n",
       "      <td>1.0</td>\n",
       "      <td>...</td>\n",
       "      <td>0.0</td>\n",
       "      <td>0.0</td>\n",
       "      <td>0.0</td>\n",
       "      <td>0.0</td>\n",
       "      <td>0.0</td>\n",
       "      <td>0.0</td>\n",
       "      <td>0.0</td>\n",
       "      <td>0.0</td>\n",
       "      <td>0.0</td>\n",
       "      <td>1.0</td>\n",
       "    </tr>\n",
       "    <tr>\n",
       "      <th>4</th>\n",
       "      <td>0.0</td>\n",
       "      <td>0.0</td>\n",
       "      <td>1.0</td>\n",
       "      <td>0.0</td>\n",
       "      <td>0.0</td>\n",
       "      <td>0.0</td>\n",
       "      <td>1.0</td>\n",
       "      <td>0.0</td>\n",
       "      <td>0.0</td>\n",
       "      <td>0.0</td>\n",
       "      <td>...</td>\n",
       "      <td>0.0</td>\n",
       "      <td>0.0</td>\n",
       "      <td>0.0</td>\n",
       "      <td>0.0</td>\n",
       "      <td>0.0</td>\n",
       "      <td>0.0</td>\n",
       "      <td>0.0</td>\n",
       "      <td>0.0</td>\n",
       "      <td>0.0</td>\n",
       "      <td>1.0</td>\n",
       "    </tr>\n",
       "    <tr>\n",
       "      <th>...</th>\n",
       "      <td>...</td>\n",
       "      <td>...</td>\n",
       "      <td>...</td>\n",
       "      <td>...</td>\n",
       "      <td>...</td>\n",
       "      <td>...</td>\n",
       "      <td>...</td>\n",
       "      <td>...</td>\n",
       "      <td>...</td>\n",
       "      <td>...</td>\n",
       "      <td>...</td>\n",
       "      <td>...</td>\n",
       "      <td>...</td>\n",
       "      <td>...</td>\n",
       "      <td>...</td>\n",
       "      <td>...</td>\n",
       "      <td>...</td>\n",
       "      <td>...</td>\n",
       "      <td>...</td>\n",
       "      <td>...</td>\n",
       "      <td>...</td>\n",
       "    </tr>\n",
       "    <tr>\n",
       "      <th>398</th>\n",
       "      <td>0.0</td>\n",
       "      <td>0.0</td>\n",
       "      <td>1.0</td>\n",
       "      <td>0.0</td>\n",
       "      <td>0.0</td>\n",
       "      <td>0.0</td>\n",
       "      <td>0.0</td>\n",
       "      <td>0.0</td>\n",
       "      <td>0.0</td>\n",
       "      <td>0.0</td>\n",
       "      <td>...</td>\n",
       "      <td>0.0</td>\n",
       "      <td>0.0</td>\n",
       "      <td>0.0</td>\n",
       "      <td>0.0</td>\n",
       "      <td>0.0</td>\n",
       "      <td>0.0</td>\n",
       "      <td>0.0</td>\n",
       "      <td>0.0</td>\n",
       "      <td>0.0</td>\n",
       "      <td>1.0</td>\n",
       "    </tr>\n",
       "    <tr>\n",
       "      <th>399</th>\n",
       "      <td>0.0</td>\n",
       "      <td>1.0</td>\n",
       "      <td>0.0</td>\n",
       "      <td>0.0</td>\n",
       "      <td>0.0</td>\n",
       "      <td>0.0</td>\n",
       "      <td>0.0</td>\n",
       "      <td>0.0</td>\n",
       "      <td>0.0</td>\n",
       "      <td>0.0</td>\n",
       "      <td>...</td>\n",
       "      <td>0.0</td>\n",
       "      <td>1.0</td>\n",
       "      <td>0.0</td>\n",
       "      <td>0.0</td>\n",
       "      <td>0.0</td>\n",
       "      <td>0.0</td>\n",
       "      <td>0.0</td>\n",
       "      <td>0.0</td>\n",
       "      <td>0.0</td>\n",
       "      <td>1.0</td>\n",
       "    </tr>\n",
       "    <tr>\n",
       "      <th>400</th>\n",
       "      <td>0.0</td>\n",
       "      <td>1.0</td>\n",
       "      <td>0.0</td>\n",
       "      <td>0.0</td>\n",
       "      <td>0.0</td>\n",
       "      <td>0.0</td>\n",
       "      <td>0.0</td>\n",
       "      <td>0.0</td>\n",
       "      <td>1.0</td>\n",
       "      <td>0.0</td>\n",
       "      <td>...</td>\n",
       "      <td>0.0</td>\n",
       "      <td>0.0</td>\n",
       "      <td>0.0</td>\n",
       "      <td>0.0</td>\n",
       "      <td>0.0</td>\n",
       "      <td>0.0</td>\n",
       "      <td>0.0</td>\n",
       "      <td>0.0</td>\n",
       "      <td>0.0</td>\n",
       "      <td>1.0</td>\n",
       "    </tr>\n",
       "    <tr>\n",
       "      <th>401</th>\n",
       "      <td>0.0</td>\n",
       "      <td>1.0</td>\n",
       "      <td>0.0</td>\n",
       "      <td>0.0</td>\n",
       "      <td>0.0</td>\n",
       "      <td>0.0</td>\n",
       "      <td>0.0</td>\n",
       "      <td>0.0</td>\n",
       "      <td>0.0</td>\n",
       "      <td>0.0</td>\n",
       "      <td>...</td>\n",
       "      <td>0.0</td>\n",
       "      <td>0.0</td>\n",
       "      <td>0.0</td>\n",
       "      <td>0.0</td>\n",
       "      <td>0.0</td>\n",
       "      <td>0.0</td>\n",
       "      <td>0.0</td>\n",
       "      <td>1.0</td>\n",
       "      <td>1.0</td>\n",
       "      <td>0.0</td>\n",
       "    </tr>\n",
       "    <tr>\n",
       "      <th>402</th>\n",
       "      <td>0.0</td>\n",
       "      <td>0.0</td>\n",
       "      <td>1.0</td>\n",
       "      <td>0.0</td>\n",
       "      <td>0.0</td>\n",
       "      <td>0.0</td>\n",
       "      <td>0.0</td>\n",
       "      <td>0.0</td>\n",
       "      <td>0.0</td>\n",
       "      <td>0.0</td>\n",
       "      <td>...</td>\n",
       "      <td>0.0</td>\n",
       "      <td>0.0</td>\n",
       "      <td>0.0</td>\n",
       "      <td>0.0</td>\n",
       "      <td>0.0</td>\n",
       "      <td>0.0</td>\n",
       "      <td>0.0</td>\n",
       "      <td>1.0</td>\n",
       "      <td>0.0</td>\n",
       "      <td>1.0</td>\n",
       "    </tr>\n",
       "  </tbody>\n",
       "</table>\n",
       "<p>403 rows × 21 columns</p>\n",
       "</div>"
      ],
      "text/plain": [
       "     tax_body_C  tax_body_COUNTY  tax_body_S  tax_body_Y  biz_type_CHURCH  \\\n",
       "0           1.0              0.0         0.0         0.0              0.0   \n",
       "1           0.0              1.0         0.0         0.0              0.0   \n",
       "2           0.0              1.0         0.0         0.0              0.0   \n",
       "3           0.0              0.0         1.0         0.0              0.0   \n",
       "4           0.0              0.0         1.0         0.0              0.0   \n",
       "..          ...              ...         ...         ...              ...   \n",
       "398         0.0              0.0         1.0         0.0              0.0   \n",
       "399         0.0              1.0         0.0         0.0              0.0   \n",
       "400         0.0              1.0         0.0         0.0              0.0   \n",
       "401         0.0              1.0         0.0         0.0              0.0   \n",
       "402         0.0              0.0         1.0         0.0              0.0   \n",
       "\n",
       "     biz_type_CONTRACTOR  biz_type_GROCERY  biz_type_LODGING  \\\n",
       "0                    0.0               0.0               0.0   \n",
       "1                    0.0               0.0               0.0   \n",
       "2                    0.0               0.0               0.0   \n",
       "3                    0.0               0.0               0.0   \n",
       "4                    0.0               1.0               0.0   \n",
       "..                   ...               ...               ...   \n",
       "398                  0.0               0.0               0.0   \n",
       "399                  0.0               0.0               0.0   \n",
       "400                  0.0               0.0               0.0   \n",
       "401                  0.0               0.0               0.0   \n",
       "402                  0.0               0.0               0.0   \n",
       "\n",
       "     biz_type_LODGING-FW  biz_type_MEDICAL  ...  biz_type_OFFICE BLD  \\\n",
       "0                    0.0               0.0  ...                  0.0   \n",
       "1                    0.0               0.0  ...                  0.0   \n",
       "2                    0.0               0.0  ...                  0.0   \n",
       "3                    0.0               1.0  ...                  0.0   \n",
       "4                    0.0               0.0  ...                  0.0   \n",
       "..                   ...               ...  ...                  ...   \n",
       "398                  0.0               0.0  ...                  0.0   \n",
       "399                  0.0               0.0  ...                  0.0   \n",
       "400                  1.0               0.0  ...                  0.0   \n",
       "401                  0.0               0.0  ...                  0.0   \n",
       "402                  0.0               0.0  ...                  0.0   \n",
       "\n",
       "     biz_type_Other  biz_type_RESTAURANT  biz_type_RETAIL  biz_type_SCHOOL  \\\n",
       "0               1.0                  0.0              0.0              0.0   \n",
       "1               0.0                  0.0              0.0              0.0   \n",
       "2               0.0                  0.0              0.0              0.0   \n",
       "3               0.0                  0.0              0.0              0.0   \n",
       "4               0.0                  0.0              0.0              0.0   \n",
       "..              ...                  ...              ...              ...   \n",
       "398             0.0                  0.0              0.0              0.0   \n",
       "399             1.0                  0.0              0.0              0.0   \n",
       "400             0.0                  0.0              0.0              0.0   \n",
       "401             0.0                  0.0              0.0              0.0   \n",
       "402             0.0                  0.0              0.0              0.0   \n",
       "\n",
       "     biz_type_UTILITY  biz_type_VINEYARD  biz_type_WINERY  \\\n",
       "0                 0.0                0.0              0.0   \n",
       "1                 0.0                0.0              1.0   \n",
       "2                 0.0                0.0              1.0   \n",
       "3                 0.0                0.0              0.0   \n",
       "4                 0.0                0.0              0.0   \n",
       "..                ...                ...              ...   \n",
       "398               0.0                0.0              0.0   \n",
       "399               0.0                0.0              0.0   \n",
       "400               0.0                0.0              0.0   \n",
       "401               0.0                0.0              1.0   \n",
       "402               0.0                0.0              1.0   \n",
       "\n",
       "     enough_recycle_compost_No  enough_recycle_compost_Yes  \n",
       "0                          1.0                         0.0  \n",
       "1                          1.0                         0.0  \n",
       "2                          1.0                         0.0  \n",
       "3                          0.0                         1.0  \n",
       "4                          0.0                         1.0  \n",
       "..                         ...                         ...  \n",
       "398                        0.0                         1.0  \n",
       "399                        0.0                         1.0  \n",
       "400                        0.0                         1.0  \n",
       "401                        1.0                         0.0  \n",
       "402                        0.0                         1.0  \n",
       "\n",
       "[403 rows x 21 columns]"
      ]
     },
     "execution_count": 117,
     "metadata": {},
     "output_type": "execute_result"
    }
   ],
   "source": [
    "# Create a OneHotEncoder instance\n",
    "enc = OneHotEncoder(sparse=False)\n",
    "\n",
    "# Fit and transform the OneHotEncoder using the categorical variable list\n",
    "encode_df = pd.DataFrame(enc.fit_transform(ml_df[biz_list]))\n",
    "\n",
    "# Add the encoded variable names to the dataframe\n",
    "encode_df.columns = enc.get_feature_names(biz_list)\n",
    "encode_df"
   ]
  },
  {
   "cell_type": "code",
   "execution_count": 119,
   "id": "dede2810",
   "metadata": {},
   "outputs": [
    {
     "data": {
      "text/html": [
       "<div>\n",
       "<style scoped>\n",
       "    .dataframe tbody tr th:only-of-type {\n",
       "        vertical-align: middle;\n",
       "    }\n",
       "\n",
       "    .dataframe tbody tr th {\n",
       "        vertical-align: top;\n",
       "    }\n",
       "\n",
       "    .dataframe thead th {\n",
       "        text-align: right;\n",
       "    }\n",
       "</style>\n",
       "<table border=\"1\" class=\"dataframe\">\n",
       "  <thead>\n",
       "    <tr style=\"text-align: right;\">\n",
       "      <th></th>\n",
       "      <th>monthly_bill</th>\n",
       "      <th>total_yards</th>\n",
       "      <th>garbage</th>\n",
       "      <th>recycle</th>\n",
       "      <th>needed_recycle</th>\n",
       "      <th>compost</th>\n",
       "      <th>needed_compost</th>\n",
       "      <th>tax_body_C_x</th>\n",
       "      <th>tax_body_COUNTY_x</th>\n",
       "      <th>tax_body_S_x</th>\n",
       "      <th>...</th>\n",
       "      <th>biz_type_OFFICE BLD_y</th>\n",
       "      <th>biz_type_Other_y</th>\n",
       "      <th>biz_type_RESTAURANT_y</th>\n",
       "      <th>biz_type_RETAIL_y</th>\n",
       "      <th>biz_type_SCHOOL_y</th>\n",
       "      <th>biz_type_UTILITY_y</th>\n",
       "      <th>biz_type_VINEYARD_y</th>\n",
       "      <th>biz_type_WINERY_y</th>\n",
       "      <th>enough_recycle_compost_No_y</th>\n",
       "      <th>enough_recycle_compost_Yes_y</th>\n",
       "    </tr>\n",
       "  </thead>\n",
       "  <tbody>\n",
       "    <tr>\n",
       "      <th>98</th>\n",
       "      <td>888.98</td>\n",
       "      <td>20.00</td>\n",
       "      <td>4.0</td>\n",
       "      <td>16.00</td>\n",
       "      <td>2</td>\n",
       "      <td>0.00</td>\n",
       "      <td>1</td>\n",
       "      <td>0.0</td>\n",
       "      <td>1.0</td>\n",
       "      <td>0.0</td>\n",
       "      <td>...</td>\n",
       "      <td>0.0</td>\n",
       "      <td>0.0</td>\n",
       "      <td>0.0</td>\n",
       "      <td>0.0</td>\n",
       "      <td>0.0</td>\n",
       "      <td>0.0</td>\n",
       "      <td>0.0</td>\n",
       "      <td>1.0</td>\n",
       "      <td>0.0</td>\n",
       "      <td>1.0</td>\n",
       "    </tr>\n",
       "    <tr>\n",
       "      <th>218</th>\n",
       "      <td>965.40</td>\n",
       "      <td>9.92</td>\n",
       "      <td>4.0</td>\n",
       "      <td>5.44</td>\n",
       "      <td>2</td>\n",
       "      <td>0.48</td>\n",
       "      <td>1</td>\n",
       "      <td>0.0</td>\n",
       "      <td>1.0</td>\n",
       "      <td>0.0</td>\n",
       "      <td>...</td>\n",
       "      <td>0.0</td>\n",
       "      <td>0.0</td>\n",
       "      <td>0.0</td>\n",
       "      <td>0.0</td>\n",
       "      <td>0.0</td>\n",
       "      <td>0.0</td>\n",
       "      <td>1.0</td>\n",
       "      <td>0.0</td>\n",
       "      <td>1.0</td>\n",
       "      <td>0.0</td>\n",
       "    </tr>\n",
       "    <tr>\n",
       "      <th>345</th>\n",
       "      <td>890.40</td>\n",
       "      <td>4.00</td>\n",
       "      <td>4.0</td>\n",
       "      <td>0.00</td>\n",
       "      <td>2</td>\n",
       "      <td>0.00</td>\n",
       "      <td>1</td>\n",
       "      <td>0.0</td>\n",
       "      <td>1.0</td>\n",
       "      <td>0.0</td>\n",
       "      <td>...</td>\n",
       "      <td>0.0</td>\n",
       "      <td>0.0</td>\n",
       "      <td>0.0</td>\n",
       "      <td>0.0</td>\n",
       "      <td>0.0</td>\n",
       "      <td>0.0</td>\n",
       "      <td>0.0</td>\n",
       "      <td>0.0</td>\n",
       "      <td>0.0</td>\n",
       "      <td>1.0</td>\n",
       "    </tr>\n",
       "  </tbody>\n",
       "</table>\n",
       "<p>3 rows × 49 columns</p>\n",
       "</div>"
      ],
      "text/plain": [
       "     monthly_bill  total_yards  garbage  recycle  needed_recycle  compost  \\\n",
       "98         888.98        20.00      4.0    16.00               2     0.00   \n",
       "218        965.40         9.92      4.0     5.44               2     0.48   \n",
       "345        890.40         4.00      4.0     0.00               2     0.00   \n",
       "\n",
       "     needed_compost  tax_body_C_x  tax_body_COUNTY_x  tax_body_S_x  ...  \\\n",
       "98                1           0.0                1.0           0.0  ...   \n",
       "218               1           0.0                1.0           0.0  ...   \n",
       "345               1           0.0                1.0           0.0  ...   \n",
       "\n",
       "     biz_type_OFFICE BLD_y  biz_type_Other_y  biz_type_RESTAURANT_y  \\\n",
       "98                     0.0               0.0                    0.0   \n",
       "218                    0.0               0.0                    0.0   \n",
       "345                    0.0               0.0                    0.0   \n",
       "\n",
       "     biz_type_RETAIL_y  biz_type_SCHOOL_y  biz_type_UTILITY_y  \\\n",
       "98                 0.0                0.0                 0.0   \n",
       "218                0.0                0.0                 0.0   \n",
       "345                0.0                0.0                 0.0   \n",
       "\n",
       "     biz_type_VINEYARD_y  biz_type_WINERY_y  enough_recycle_compost_No_y  \\\n",
       "98                   0.0                1.0                          0.0   \n",
       "218                  1.0                0.0                          1.0   \n",
       "345                  0.0                0.0                          0.0   \n",
       "\n",
       "     enough_recycle_compost_Yes_y  \n",
       "98                            1.0  \n",
       "218                           0.0  \n",
       "345                           1.0  \n",
       "\n",
       "[3 rows x 49 columns]"
      ]
     },
     "execution_count": 119,
     "metadata": {},
     "output_type": "execute_result"
    }
   ],
   "source": [
    "# Merge one-hot encoded features and drop the originals\n",
    "ml_df = ml_df.merge(encode_df, left_index=True, right_index=True)\n",
    "ml_df = ml_df.drop(biz_list, 1)\n",
    "ml_df"
   ]
  },
  {
   "cell_type": "code",
   "execution_count": 120,
   "id": "379dc27d",
   "metadata": {},
   "outputs": [
    {
     "ename": "AttributeError",
     "evalue": "'DataFrame' object has no attribute 'enough_recycle_compost'",
     "output_type": "error",
     "traceback": [
      "\u001b[1;31m---------------------------------------------------------------------------\u001b[0m",
      "\u001b[1;31mAttributeError\u001b[0m                            Traceback (most recent call last)",
      "\u001b[1;32m<ipython-input-120-d517db37aa83>\u001b[0m in \u001b[0;36m<module>\u001b[1;34m\u001b[0m\n\u001b[0;32m      1\u001b[0m \u001b[1;31m# Split our preprocessed data into our features and target arrays\u001b[0m\u001b[1;33m\u001b[0m\u001b[1;33m\u001b[0m\u001b[1;33m\u001b[0m\u001b[0m\n\u001b[1;32m----> 2\u001b[1;33m \u001b[0my\u001b[0m \u001b[1;33m=\u001b[0m \u001b[0mml_df\u001b[0m\u001b[1;33m.\u001b[0m\u001b[0menough_recycle_compost\u001b[0m\u001b[1;33m.\u001b[0m\u001b[0mvalues\u001b[0m\u001b[1;33m\u001b[0m\u001b[1;33m\u001b[0m\u001b[0m\n\u001b[0m\u001b[0;32m      3\u001b[0m \u001b[0mX\u001b[0m \u001b[1;33m=\u001b[0m \u001b[0mml_df\u001b[0m\u001b[1;33m.\u001b[0m\u001b[0mdrop\u001b[0m\u001b[1;33m(\u001b[0m\u001b[0mcolumns\u001b[0m\u001b[1;33m=\u001b[0m\u001b[1;33m[\u001b[0m\u001b[1;34m\"enough_recycle_compost\"\u001b[0m\u001b[1;33m,\u001b[0m \u001b[1;34m\"cust\"\u001b[0m\u001b[1;33m]\u001b[0m\u001b[1;33m)\u001b[0m\u001b[1;33m.\u001b[0m\u001b[0mvalues\u001b[0m\u001b[1;33m\u001b[0m\u001b[1;33m\u001b[0m\u001b[0m\n\u001b[0;32m      4\u001b[0m \u001b[1;33m\u001b[0m\u001b[0m\n\u001b[0;32m      5\u001b[0m \u001b[1;31m# Split the preprocessed data into a training and testing dataset\u001b[0m\u001b[1;33m\u001b[0m\u001b[1;33m\u001b[0m\u001b[1;33m\u001b[0m\u001b[0m\n",
      "\u001b[1;32m~\\anaconda3\\envs\\mlenv\\lib\\site-packages\\pandas\\core\\generic.py\u001b[0m in \u001b[0;36m__getattr__\u001b[1;34m(self, name)\u001b[0m\n\u001b[0;32m   5463\u001b[0m             \u001b[1;32mif\u001b[0m \u001b[0mself\u001b[0m\u001b[1;33m.\u001b[0m\u001b[0m_info_axis\u001b[0m\u001b[1;33m.\u001b[0m\u001b[0m_can_hold_identifiers_and_holds_name\u001b[0m\u001b[1;33m(\u001b[0m\u001b[0mname\u001b[0m\u001b[1;33m)\u001b[0m\u001b[1;33m:\u001b[0m\u001b[1;33m\u001b[0m\u001b[1;33m\u001b[0m\u001b[0m\n\u001b[0;32m   5464\u001b[0m                 \u001b[1;32mreturn\u001b[0m \u001b[0mself\u001b[0m\u001b[1;33m[\u001b[0m\u001b[0mname\u001b[0m\u001b[1;33m]\u001b[0m\u001b[1;33m\u001b[0m\u001b[1;33m\u001b[0m\u001b[0m\n\u001b[1;32m-> 5465\u001b[1;33m             \u001b[1;32mreturn\u001b[0m \u001b[0mobject\u001b[0m\u001b[1;33m.\u001b[0m\u001b[0m__getattribute__\u001b[0m\u001b[1;33m(\u001b[0m\u001b[0mself\u001b[0m\u001b[1;33m,\u001b[0m \u001b[0mname\u001b[0m\u001b[1;33m)\u001b[0m\u001b[1;33m\u001b[0m\u001b[1;33m\u001b[0m\u001b[0m\n\u001b[0m\u001b[0;32m   5466\u001b[0m \u001b[1;33m\u001b[0m\u001b[0m\n\u001b[0;32m   5467\u001b[0m     \u001b[1;32mdef\u001b[0m \u001b[0m__setattr__\u001b[0m\u001b[1;33m(\u001b[0m\u001b[0mself\u001b[0m\u001b[1;33m,\u001b[0m \u001b[0mname\u001b[0m\u001b[1;33m:\u001b[0m \u001b[0mstr\u001b[0m\u001b[1;33m,\u001b[0m \u001b[0mvalue\u001b[0m\u001b[1;33m)\u001b[0m \u001b[1;33m->\u001b[0m \u001b[1;32mNone\u001b[0m\u001b[1;33m:\u001b[0m\u001b[1;33m\u001b[0m\u001b[1;33m\u001b[0m\u001b[0m\n",
      "\u001b[1;31mAttributeError\u001b[0m: 'DataFrame' object has no attribute 'enough_recycle_compost'"
     ]
    }
   ],
   "source": [
    "# Split our preprocessed data into our features and target arrays\n",
    "y = ml_df.enough_recycle_compost.values\n",
    "X = ml_df.drop(columns=[\"enough_recycle_compost\", \"cust\"]).values\n",
    "\n",
    "# Split the preprocessed data into a training and testing dataset\n",
    "X_train, X_test, y_train, y_test = train_test_split(X, y)"
   ]
  },
  {
   "cell_type": "code",
   "execution_count": 50,
   "id": "d6f0ac5f",
   "metadata": {},
   "outputs": [
    {
     "name": "stdout",
     "output_type": "stream",
     "text": [
      "(155, 21)\n",
      "(52, 21)\n"
     ]
    }
   ],
   "source": [
    "# Create a StandardScaler instances\n",
    "scaler = StandardScaler()\n",
    "\n",
    "# Fit the StandardScaler\n",
    "X_scaler = scaler.fit(X_train)\n",
    "\n",
    "# Scale the data\n",
    "X_train_scaled = X_scaler.transform(X_train)\n",
    "X_test_scaled = X_scaler.transform(X_test)\n",
    "\n",
    "print(X_train.shape); print(X_test.shape)"
   ]
  },
  {
   "cell_type": "code",
   "execution_count": 51,
   "id": "1490b815",
   "metadata": {},
   "outputs": [],
   "source": [
    "# # Define the model - deep neural net, i.e., the number of input features and hidden nodes for each layer.\n",
    "# number_input_features = len(X_train_scaled[0])\n",
    "# hidden_nodes_layer1 = 80\n",
    "# hidden_nodes_layer2 = 30\n",
    "\n",
    "# nn = tf.keras.models.Sequential()\n",
    "\n",
    "# # First hidden layer\n",
    "# nn.add(\n",
    "#     tf.keras.layers.Dense(units=hidden_nodes_layer1, input_dim=number_input_features, activation=\"linear\")\n",
    "# )\n",
    "\n",
    "# # Second hidden layer\n",
    "# nn.add(tf.keras.layers.Dense(units=hidden_nodes_layer2, activation=\"linear\"))\n",
    "\n",
    "\n",
    "# # Output layer\n",
    "# nn.add(tf.keras.layers.Dense(units=1, activation=\"linear\"))\n",
    "\n",
    "# # Check the structure of the model\n",
    "# nn.summary()"
   ]
  },
  {
   "cell_type": "code",
   "execution_count": 52,
   "id": "169092a2",
   "metadata": {},
   "outputs": [],
   "source": [
    "# mlp = MLPClassifier(hidden_layer_sizes=(22,22,22), activation='relu', solver='adam', max_iter=500)\n",
    "\n",
    "# mlp.fit(X_train,y_train)\n",
    "\n",
    "# predict_train = mlp.predict(X_train)\n",
    "\n",
    "# predict_test = mlp.predict(X_test)"
   ]
  },
  {
   "cell_type": "code",
   "execution_count": 53,
   "id": "0c0882cf",
   "metadata": {},
   "outputs": [
    {
     "name": "stdout",
     "output_type": "stream",
     "text": [
      "Model: \"sequential_2\"\n",
      "_________________________________________________________________\n",
      " Layer (type)                Output Shape              Param #   \n",
      "=================================================================\n",
      " dense_6 (Dense)             (None, 20)                440       \n",
      "                                                                 \n",
      " dense_7 (Dense)             (None, 10)                210       \n",
      "                                                                 \n",
      " dense_8 (Dense)             (None, 1)                 11        \n",
      "                                                                 \n",
      "=================================================================\n",
      "Total params: 661\n",
      "Trainable params: 661\n",
      "Non-trainable params: 0\n",
      "_________________________________________________________________\n"
     ]
    }
   ],
   "source": [
    "# Define the model - deep neural net, i.e., the number of input features and hidden nodes for each layer.\n",
    "number_input_features = len(X_train_scaled[0])\n",
    "hidden_nodes_layer1 = 20\n",
    "hidden_nodes_layer2 = 10\n",
    "\n",
    "nn = tf.keras.models.Sequential()\n",
    "\n",
    "# First hidden layer\n",
    "nn.add(\n",
    "    tf.keras.layers.Dense(units=hidden_nodes_layer1, input_dim=number_input_features, activation=\"relu\")\n",
    ")\n",
    "\n",
    "# Second hidden layer\n",
    "nn.add(tf.keras.layers.Dense(units=hidden_nodes_layer2, activation=\"linear\"))\n",
    "\n",
    "\n",
    "# Output layer\n",
    "nn.add(tf.keras.layers.Dense(units=1, activation=\"linear\"))\n",
    "\n",
    "# Check the structure of the model\n",
    "nn.summary()"
   ]
  },
  {
   "cell_type": "code",
   "execution_count": 54,
   "id": "ade96704",
   "metadata": {},
   "outputs": [],
   "source": [
    "# Compile the model\n",
    "nn.compile(loss=\"binary_crossentropy\", optimizer=\"adam\", metrics=[\"accuracy\"])"
   ]
  },
  {
   "cell_type": "code",
   "execution_count": 55,
   "id": "e228880e",
   "metadata": {},
   "outputs": [
    {
     "name": "stdout",
     "output_type": "stream",
     "text": [
      "Epoch 1/100\n",
      "5/5 [==============================] - 0s 1ms/step - loss: -32.0009 - accuracy: 0.0000e+00\n",
      "Epoch 2/100\n",
      "5/5 [==============================] - 0s 1000us/step - loss: -84.0106 - accuracy: 0.0000e+00\n",
      "Epoch 3/100\n",
      "5/5 [==============================] - 0s 1ms/step - loss: -109.6292 - accuracy: 0.0000e+00\n",
      "Epoch 4/100\n",
      "5/5 [==============================] - 0s 1ms/step - loss: -111.3336 - accuracy: 0.0000e+00\n",
      "Epoch 5/100\n",
      "5/5 [==============================] - 0s 998us/step - loss: -114.3427 - accuracy: 0.0000e+00\n",
      "Epoch 6/100\n",
      "5/5 [==============================] - 0s 1000us/step - loss: -115.1391 - accuracy: 0.0000e+00\n",
      "Epoch 7/100\n",
      "5/5 [==============================] - 0s 1ms/step - loss: -115.1875 - accuracy: 0.0000e+00\n",
      "Epoch 8/100\n",
      "5/5 [==============================] - 0s 750us/step - loss: -115.2235 - accuracy: 0.0000e+00\n",
      "Epoch 9/100\n",
      "5/5 [==============================] - 0s 1ms/step - loss: -115.1405 - accuracy: 0.0000e+00\n",
      "Epoch 10/100\n",
      "5/5 [==============================] - 0s 1ms/step - loss: -115.1621 - accuracy: 0.0000e+00\n",
      "Epoch 11/100\n",
      "5/5 [==============================] - 0s 750us/step - loss: -115.1483 - accuracy: 0.0000e+00\n",
      "Epoch 12/100\n",
      "5/5 [==============================] - 0s 1ms/step - loss: -115.1443 - accuracy: 0.0000e+00\n",
      "Epoch 13/100\n",
      "5/5 [==============================] - 0s 750us/step - loss: -115.1504 - accuracy: 0.0000e+00\n",
      "Epoch 14/100\n",
      "5/5 [==============================] - 0s 1ms/step - loss: -115.1542 - accuracy: 0.0000e+00\n",
      "Epoch 15/100\n",
      "5/5 [==============================] - 0s 1000us/step - loss: -115.0665 - accuracy: 0.0000e+00\n",
      "Epoch 16/100\n",
      "5/5 [==============================] - 0s 750us/step - loss: -115.0682 - accuracy: 0.0000e+00\n",
      "Epoch 17/100\n",
      "5/5 [==============================] - 0s 1000us/step - loss: -114.8514 - accuracy: 0.0000e+00\n",
      "Epoch 18/100\n",
      "5/5 [==============================] - 0s 1ms/step - loss: -114.6954 - accuracy: 0.0000e+00\n",
      "Epoch 19/100\n",
      "5/5 [==============================] - 0s 750us/step - loss: -114.6954 - accuracy: 0.0000e+00\n",
      "Epoch 20/100\n",
      "5/5 [==============================] - 0s 1ms/step - loss: -114.6954 - accuracy: 0.0000e+00\n",
      "Epoch 21/100\n",
      "5/5 [==============================] - 0s 750us/step - loss: -114.6954 - accuracy: 0.0000e+00\n",
      "Epoch 22/100\n",
      "5/5 [==============================] - 0s 1ms/step - loss: -114.6954 - accuracy: 0.0000e+00\n",
      "Epoch 23/100\n",
      "5/5 [==============================] - 0s 1000us/step - loss: -114.6954 - accuracy: 0.0000e+00\n",
      "Epoch 24/100\n",
      "5/5 [==============================] - 0s 1000us/step - loss: -114.6954 - accuracy: 0.0000e+00\n",
      "Epoch 25/100\n",
      "5/5 [==============================] - 0s 1ms/step - loss: -114.6954 - accuracy: 0.0000e+00\n",
      "Epoch 26/100\n",
      "5/5 [==============================] - 0s 750us/step - loss: -114.6954 - accuracy: 0.0000e+00\n",
      "Epoch 27/100\n",
      "5/5 [==============================] - 0s 749us/step - loss: -114.6954 - accuracy: 0.0000e+00\n",
      "Epoch 28/100\n",
      "5/5 [==============================] - 0s 1ms/step - loss: -114.6954 - accuracy: 0.0000e+00\n",
      "Epoch 29/100\n",
      "5/5 [==============================] - 0s 750us/step - loss: -114.6954 - accuracy: 0.0000e+00\n",
      "Epoch 30/100\n",
      "5/5 [==============================] - 0s 1ms/step - loss: -114.6954 - accuracy: 0.0000e+00\n",
      "Epoch 31/100\n",
      "5/5 [==============================] - 0s 748us/step - loss: -114.6954 - accuracy: 0.0000e+00\n",
      "Epoch 32/100\n",
      "5/5 [==============================] - 0s 998us/step - loss: -114.6954 - accuracy: 0.0000e+00\n",
      "Epoch 33/100\n",
      "5/5 [==============================] - 0s 1ms/step - loss: -114.6954 - accuracy: 0.0000e+00\n",
      "Epoch 34/100\n",
      "5/5 [==============================] - 0s 1000us/step - loss: -114.6954 - accuracy: 0.0000e+00\n",
      "Epoch 35/100\n",
      "5/5 [==============================] - 0s 1ms/step - loss: -114.6954 - accuracy: 0.0000e+00\n",
      "Epoch 36/100\n",
      "5/5 [==============================] - 0s 1ms/step - loss: -114.6954 - accuracy: 0.0000e+00\n",
      "Epoch 37/100\n",
      "5/5 [==============================] - 0s 750us/step - loss: -114.6954 - accuracy: 0.0000e+00\n",
      "Epoch 38/100\n",
      "5/5 [==============================] - 0s 1ms/step - loss: -114.6954 - accuracy: 0.0000e+00\n",
      "Epoch 39/100\n",
      "5/5 [==============================] - 0s 999us/step - loss: -114.6954 - accuracy: 0.0000e+00\n",
      "Epoch 40/100\n",
      "5/5 [==============================] - 0s 751us/step - loss: -114.6954 - accuracy: 0.0000e+00\n",
      "Epoch 41/100\n",
      "5/5 [==============================] - 0s 1ms/step - loss: -114.6954 - accuracy: 0.0000e+00\n",
      "Epoch 42/100\n",
      "5/5 [==============================] - 0s 1ms/step - loss: -114.6954 - accuracy: 0.0000e+00\n",
      "Epoch 43/100\n",
      "5/5 [==============================] - 0s 1ms/step - loss: -114.6954 - accuracy: 0.0000e+00\n",
      "Epoch 44/100\n",
      "5/5 [==============================] - 0s 1ms/step - loss: -114.6954 - accuracy: 0.0000e+00\n",
      "Epoch 45/100\n",
      "5/5 [==============================] - 0s 1ms/step - loss: -114.6954 - accuracy: 0.0000e+00\n",
      "Epoch 46/100\n",
      "5/5 [==============================] - 0s 1000us/step - loss: -114.6954 - accuracy: 0.0000e+00\n",
      "Epoch 47/100\n",
      "5/5 [==============================] - 0s 750us/step - loss: -114.6954 - accuracy: 0.0000e+00\n",
      "Epoch 48/100\n",
      "5/5 [==============================] - 0s 1000us/step - loss: -114.6954 - accuracy: 0.0000e+00\n",
      "Epoch 49/100\n",
      "5/5 [==============================] - 0s 998us/step - loss: -114.6954 - accuracy: 0.0000e+00\n",
      "Epoch 50/100\n",
      "5/5 [==============================] - 0s 1000us/step - loss: -114.6954 - accuracy: 0.0000e+00\n",
      "Epoch 51/100\n",
      "5/5 [==============================] - 0s 1ms/step - loss: -114.6954 - accuracy: 0.0000e+00\n",
      "Epoch 52/100\n",
      "5/5 [==============================] - 0s 1ms/step - loss: -114.6954 - accuracy: 0.0000e+00\n",
      "Epoch 53/100\n",
      "5/5 [==============================] - 0s 1ms/step - loss: -114.6954 - accuracy: 0.0000e+00\n",
      "Epoch 54/100\n",
      "5/5 [==============================] - 0s 750us/step - loss: -114.6954 - accuracy: 0.0000e+00\n",
      "Epoch 55/100\n",
      "5/5 [==============================] - 0s 750us/step - loss: -114.6954 - accuracy: 0.0000e+00\n",
      "Epoch 56/100\n",
      "5/5 [==============================] - 0s 1000us/step - loss: -114.6954 - accuracy: 0.0000e+00\n",
      "Epoch 57/100\n",
      "5/5 [==============================] - 0s 750us/step - loss: -114.6954 - accuracy: 0.0000e+00\n",
      "Epoch 58/100\n",
      "5/5 [==============================] - 0s 1000us/step - loss: -114.6954 - accuracy: 0.0000e+00\n",
      "Epoch 59/100\n",
      "5/5 [==============================] - 0s 1ms/step - loss: -114.6954 - accuracy: 0.0000e+00\n",
      "Epoch 60/100\n",
      "5/5 [==============================] - 0s 750us/step - loss: -114.6954 - accuracy: 0.0000e+00\n",
      "Epoch 61/100\n",
      "5/5 [==============================] - 0s 1ms/step - loss: -114.6954 - accuracy: 0.0000e+00\n",
      "Epoch 62/100\n",
      "5/5 [==============================] - 0s 750us/step - loss: -114.6954 - accuracy: 0.0000e+00\n",
      "Epoch 63/100\n",
      "5/5 [==============================] - 0s 750us/step - loss: -114.6954 - accuracy: 0.0000e+00\n",
      "Epoch 64/100\n",
      "5/5 [==============================] - 0s 999us/step - loss: -114.6954 - accuracy: 0.0000e+00\n",
      "Epoch 65/100\n",
      "5/5 [==============================] - 0s 748us/step - loss: -114.6954 - accuracy: 0.0000e+00\n",
      "Epoch 66/100\n",
      "5/5 [==============================] - 0s 1ms/step - loss: -114.6954 - accuracy: 0.0000e+00\n",
      "Epoch 67/100\n",
      "5/5 [==============================] - 0s 750us/step - loss: -114.6954 - accuracy: 0.0000e+00\n",
      "Epoch 68/100\n",
      "5/5 [==============================] - 0s 750us/step - loss: -114.6954 - accuracy: 0.0000e+00\n",
      "Epoch 69/100\n",
      "5/5 [==============================] - 0s 750us/step - loss: -114.6954 - accuracy: 0.0000e+00\n",
      "Epoch 70/100\n",
      "5/5 [==============================] - 0s 1000us/step - loss: -114.6954 - accuracy: 0.0000e+00\n",
      "Epoch 71/100\n",
      "5/5 [==============================] - 0s 750us/step - loss: -114.6954 - accuracy: 0.0000e+00\n",
      "Epoch 72/100\n",
      "5/5 [==============================] - 0s 1ms/step - loss: -114.6954 - accuracy: 0.0000e+00\n",
      "Epoch 73/100\n",
      "5/5 [==============================] - 0s 1ms/step - loss: -114.6954 - accuracy: 0.0000e+00\n",
      "Epoch 74/100\n",
      "5/5 [==============================] - 0s 1000us/step - loss: -114.6954 - accuracy: 0.0000e+00\n",
      "Epoch 75/100\n",
      "5/5 [==============================] - 0s 1ms/step - loss: -114.6954 - accuracy: 0.0000e+00\n",
      "Epoch 76/100\n",
      "5/5 [==============================] - 0s 750us/step - loss: -114.6954 - accuracy: 0.0000e+00\n",
      "Epoch 77/100\n",
      "5/5 [==============================] - 0s 750us/step - loss: -114.6954 - accuracy: 0.0000e+00\n",
      "Epoch 78/100\n"
     ]
    },
    {
     "name": "stdout",
     "output_type": "stream",
     "text": [
      "5/5 [==============================] - 0s 1000us/step - loss: -114.6954 - accuracy: 0.0000e+00\n",
      "Epoch 79/100\n",
      "5/5 [==============================] - 0s 750us/step - loss: -114.6954 - accuracy: 0.0000e+00\n",
      "Epoch 80/100\n",
      "5/5 [==============================] - 0s 751us/step - loss: -114.6954 - accuracy: 0.0000e+00\n",
      "Epoch 81/100\n",
      "5/5 [==============================] - 0s 1ms/step - loss: -114.6954 - accuracy: 0.0000e+00\n",
      "Epoch 82/100\n",
      "5/5 [==============================] - 0s 750us/step - loss: -114.6954 - accuracy: 0.0000e+00\n",
      "Epoch 83/100\n",
      "5/5 [==============================] - 0s 750us/step - loss: -114.6954 - accuracy: 0.0000e+00\n",
      "Epoch 84/100\n",
      "5/5 [==============================] - 0s 1ms/step - loss: -114.6954 - accuracy: 0.0000e+00\n",
      "Epoch 85/100\n",
      "5/5 [==============================] - 0s 750us/step - loss: -114.6954 - accuracy: 0.0000e+00\n",
      "Epoch 86/100\n",
      "5/5 [==============================] - 0s 750us/step - loss: -114.6954 - accuracy: 0.0000e+00\n",
      "Epoch 87/100\n",
      "5/5 [==============================] - 0s 1000us/step - loss: -114.6954 - accuracy: 0.0000e+00\n",
      "Epoch 88/100\n",
      "5/5 [==============================] - 0s 750us/step - loss: -114.6954 - accuracy: 0.0000e+00\n",
      "Epoch 89/100\n",
      "5/5 [==============================] - 0s 1000us/step - loss: -114.6954 - accuracy: 0.0000e+00\n",
      "Epoch 90/100\n",
      "5/5 [==============================] - 0s 998us/step - loss: -114.6954 - accuracy: 0.0000e+00\n",
      "Epoch 91/100\n",
      "5/5 [==============================] - 0s 1ms/step - loss: -114.6954 - accuracy: 0.0000e+00\n",
      "Epoch 92/100\n",
      "5/5 [==============================] - 0s 750us/step - loss: -114.6954 - accuracy: 0.0000e+00\n",
      "Epoch 93/100\n",
      "5/5 [==============================] - 0s 1000us/step - loss: -114.6954 - accuracy: 0.0000e+00\n",
      "Epoch 94/100\n",
      "5/5 [==============================] - 0s 750us/step - loss: -114.6954 - accuracy: 0.0000e+00\n",
      "Epoch 95/100\n",
      "5/5 [==============================] - 0s 750us/step - loss: -114.6954 - accuracy: 0.0000e+00\n",
      "Epoch 96/100\n",
      "5/5 [==============================] - 0s 1ms/step - loss: -114.6954 - accuracy: 0.0000e+00\n",
      "Epoch 97/100\n",
      "5/5 [==============================] - 0s 1000us/step - loss: -114.6954 - accuracy: 0.0000e+00\n",
      "Epoch 98/100\n",
      "5/5 [==============================] - 0s 1ms/step - loss: -114.6954 - accuracy: 0.0000e+00\n",
      "Epoch 99/100\n",
      "5/5 [==============================] - 0s 1ms/step - loss: -114.6954 - accuracy: 0.0000e+00\n",
      "Epoch 100/100\n",
      "5/5 [==============================] - 0s 998us/step - loss: -114.6954 - accuracy: 0.0000e+00\n"
     ]
    }
   ],
   "source": [
    "# Train the model\n",
    "fit_model = nn.fit(X_train_scaled, y_train, epochs=100) "
   ]
  },
  {
   "cell_type": "code",
   "execution_count": null,
   "id": "7e5bc04c",
   "metadata": {},
   "outputs": [],
   "source": []
  }
 ],
 "metadata": {
  "kernelspec": {
   "display_name": "mlenv",
   "language": "python",
   "name": "mlenv"
  },
  "language_info": {
   "codemirror_mode": {
    "name": "ipython",
    "version": 3
   },
   "file_extension": ".py",
   "mimetype": "text/x-python",
   "name": "python",
   "nbconvert_exporter": "python",
   "pygments_lexer": "ipython3",
   "version": "3.7.10"
  }
 },
 "nbformat": 4,
 "nbformat_minor": 5
}
